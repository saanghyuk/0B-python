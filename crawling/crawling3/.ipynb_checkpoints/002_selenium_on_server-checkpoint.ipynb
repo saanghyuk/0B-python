{
 "cells": [
  {
   "cell_type": "markdown",
   "metadata": {},
   "source": [
    "- 세션하나 새로 만든다 `tmux new -s noel`"
   ]
  },
  {
   "cell_type": "markdown",
   "metadata": {},
   "source": [
    "- $`cd ~/python3/notebook/`\n",
    "- $`python3 -m notebook`\n",
    "\n",
    "- $ `ctrl + b` => `c` (create new)\n",
    "- 이제 내 주피터 노트북 잘 들어가지는지 확인. "
   ]
  },
  {
   "cell_type": "code",
   "execution_count": null,
   "metadata": {},
   "outputs": [],
   "source": []
  },
  {
   "cell_type": "markdown",
   "metadata": {},
   "source": [
    "### 서버에서 Selenium 사용하기\n",
    "- 크롬 브라우져 설치 (아래 명령어를 서버 터미널에서 실행해주세요.)\n",
    "    - sudo apt-get install -y chromium-browser\n",
    "        - -y는 자동으로 yes 눌러주는 것. \n",
    "    - chromium-browser -version\n",
    "- 크롬 드라이버 다운로드\n",
    "    - https://chromedriver.chromium.org/downloads 에서 위 버전에 맞는 드라이버 URL 을 복사해주세요.\n",
    "        - 즉, 해당 사이트에서 내 크롬 버전에 맞는 크롬드라이버 개발자 도구 열어서 링크 확인(linux)\n",
    "    - wget https:/현재페이지도메인 복사한driver.zip \n",
    "        - for me : wget https://chromedriver.storage.googleapis.com/92.0.4515.107/chromedriver_linux64.zip\n",
    "    - sudo apt install unzip\n",
    "    - unzip chromedriver_linux64.zip\n",
    "    - sudo mv chromedriver /usr/local/bin/\n",
    "        - global하게 실행 파일 사용하게 만들고 싶으면, 해당 디렉토리로 옮기면 된다. \n",
    "    - zip 파일은 삭제 : `rm chromedriver_linux64.zip`\n",
    "- selenium 패키지 설치\n",
    "    - pip install selenium\n",
    "    - pip install pillow\n",
    "- 한글 폰트 설치\n",
    "    - sudo apt-get install -y fonts-nanum*"
   ]
  },
  {
   "cell_type": "code",
   "execution_count": null,
   "metadata": {},
   "outputs": [],
   "source": []
  }
 ],
 "metadata": {
  "kernelspec": {
   "display_name": "Python 3",
   "language": "python",
   "name": "python3"
  },
  "language_info": {
   "codemirror_mode": {
    "name": "ipython",
    "version": 3
   },
   "file_extension": ".py",
   "mimetype": "text/x-python",
   "name": "python",
   "nbconvert_exporter": "python",
   "pygments_lexer": "ipython3",
   "version": "3.8.5"
  }
 },
 "nbformat": 4,
 "nbformat_minor": 2
}
