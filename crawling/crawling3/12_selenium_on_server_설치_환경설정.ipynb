{
 "cells": [
  {
   "cell_type": "markdown",
   "metadata": {},
   "source": [
    "### 서버에서 Selenium 사용하기\n",
    "- 크롬 브라우져 설치 (아래 명령어를 서버 터미널에서 실행해주세요.)\n",
    "    - sudo apt-get install -y chromium-browser\n",
    "    - chromium-browser -version\n",
    "- 크롬 드라이버 다운로드\n",
    "    - https://chromedriver.chromium.org/downloads 에서 위 버전에 맞는 드라이버 URL 을 복사해주세요.\n",
    "    - wget https://복사한driver.zip\n",
    "    - sudo apt install unzip\n",
    "    - unzip chromedriver_linux64.zip\n",
    "    - sudo mv chromedriver /usr/local/bin/\n",
    "- selenium 패키지 설치\n",
    "    - pip install selenium\n",
    "    - pip install pillow\n",
    "- 한글 폰트 설치\n",
    "    - sudo apt-get install -y fonts-nanum*"
   ]
  },
  {
   "cell_type": "code",
   "execution_count": null,
   "metadata": {},
   "outputs": [],
   "source": []
  }
 ],
 "metadata": {
  "kernelspec": {
   "display_name": "Python 3",
   "language": "python",
   "name": "python3"
  },
  "language_info": {
   "codemirror_mode": {
    "name": "ipython",
    "version": 3
   },
   "file_extension": ".py",
   "mimetype": "text/x-python",
   "name": "python",
   "nbconvert_exporter": "python",
   "pygments_lexer": "ipython3",
   "version": "3.7.3"
  }
 },
 "nbformat": 4,
 "nbformat_minor": 2
}
