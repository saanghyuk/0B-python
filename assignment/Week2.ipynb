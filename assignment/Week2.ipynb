{
 "cells": [
  {
   "cell_type": "markdown",
   "id": "8191480e",
   "metadata": {},
   "source": [
    "### 1. 아래 요구사항에 맞게 코드를 작성해주세요.\n",
    "- Myclass라는 이름으로 인자값 1개를 받을 수 있게 클래스를 만들어 주세요. (4점)\n",
    "- Myclass의 인자값은 mangling를 사용하세요.(2점)\n",
    "- Myclass에서 스페셜 메서드(__str__)를 활용하여 해당 클래스로 만든 객체를 print()로 출력 했을 때, \"Print: 인자값\" 이라고 꾸며줄 수 있도록 하세요.(테스트 코드를 실행시키면 예상결과와 같이 출력되야 합니다) (4점)"
   ]
  },
  {
   "cell_type": "code",
   "execution_count": 7,
   "id": "6c119601",
   "metadata": {},
   "outputs": [
    {
     "name": "stdout",
     "output_type": "stream",
     "text": [
      "Print: test\n"
     ]
    }
   ],
   "source": [
    "# 테스트 코드\n",
    "c1 = Myclass(\"test\")\n",
    "print(c1)\n",
    "\n",
    "# 예상결과 -> print: test"
   ]
  },
  {
   "cell_type": "code",
   "execution_count": 6,
   "id": "3f0c622e",
   "metadata": {},
   "outputs": [],
   "source": [
    "# 여기에 코드를 작성하세요\n",
    "class Myclass:\n",
    "    def __init__(self, text):\n",
    "        self.__text = text\n",
    "\n",
    "    def __str__(self):\n",
    "        return \"Print: {}\".format(self.__text)"
   ]
  },
  {
   "cell_type": "code",
   "execution_count": null,
   "id": "072e00cd",
   "metadata": {},
   "outputs": [],
   "source": []
  },
  {
   "cell_type": "code",
   "execution_count": null,
   "id": "6426df03",
   "metadata": {},
   "outputs": [],
   "source": []
  },
  {
   "cell_type": "code",
   "execution_count": null,
   "id": "872a15cb",
   "metadata": {},
   "outputs": [],
   "source": []
  },
  {
   "cell_type": "markdown",
   "id": "b46544d1",
   "metadata": {},
   "source": [
    "## 2.생성된 데이터를 활용하여 아래의 조건에 맞게 선형 회귀분석을 하고, 성능평가를 하세요.\n",
    "(10점)\n",
    "\n",
    "조건 : random state는 1234, test siz는는 0.2 입니다.\n",
    "코드 하단에 pred_y와 round(mae,2) 값을 출력하세요"
   ]
  },
  {
   "cell_type": "code",
   "execution_count": 4,
   "id": "491bd24b",
   "metadata": {},
   "outputs": [
    {
     "data": {
      "text/html": [
       "<div>\n",
       "<style scoped>\n",
       "    .dataframe tbody tr th:only-of-type {\n",
       "        vertical-align: middle;\n",
       "    }\n",
       "\n",
       "    .dataframe tbody tr th {\n",
       "        vertical-align: top;\n",
       "    }\n",
       "\n",
       "    .dataframe thead th {\n",
       "        text-align: right;\n",
       "    }\n",
       "</style>\n",
       "<table border=\"1\" class=\"dataframe\">\n",
       "  <thead>\n",
       "    <tr style=\"text-align: right;\">\n",
       "      <th></th>\n",
       "      <th>name</th>\n",
       "      <th>gf</th>\n",
       "      <th>ga</th>\n",
       "      <th>points</th>\n",
       "    </tr>\n",
       "  </thead>\n",
       "  <tbody>\n",
       "    <tr>\n",
       "      <th>0</th>\n",
       "      <td>Manchester City</td>\n",
       "      <td>106</td>\n",
       "      <td>27</td>\n",
       "      <td>100</td>\n",
       "    </tr>\n",
       "    <tr>\n",
       "      <th>1</th>\n",
       "      <td>Manchester United</td>\n",
       "      <td>68</td>\n",
       "      <td>28</td>\n",
       "      <td>81</td>\n",
       "    </tr>\n",
       "    <tr>\n",
       "      <th>2</th>\n",
       "      <td>Tottenham Hotspur</td>\n",
       "      <td>74</td>\n",
       "      <td>36</td>\n",
       "      <td>77</td>\n",
       "    </tr>\n",
       "    <tr>\n",
       "      <th>3</th>\n",
       "      <td>Liverpool</td>\n",
       "      <td>84</td>\n",
       "      <td>38</td>\n",
       "      <td>75</td>\n",
       "    </tr>\n",
       "    <tr>\n",
       "      <th>4</th>\n",
       "      <td>Chelsea</td>\n",
       "      <td>62</td>\n",
       "      <td>38</td>\n",
       "      <td>70</td>\n",
       "    </tr>\n",
       "    <tr>\n",
       "      <th>5</th>\n",
       "      <td>Arsenal</td>\n",
       "      <td>74</td>\n",
       "      <td>51</td>\n",
       "      <td>63</td>\n",
       "    </tr>\n",
       "    <tr>\n",
       "      <th>6</th>\n",
       "      <td>Burnley</td>\n",
       "      <td>36</td>\n",
       "      <td>39</td>\n",
       "      <td>54</td>\n",
       "    </tr>\n",
       "    <tr>\n",
       "      <th>7</th>\n",
       "      <td>Everton</td>\n",
       "      <td>44</td>\n",
       "      <td>58</td>\n",
       "      <td>49</td>\n",
       "    </tr>\n",
       "    <tr>\n",
       "      <th>8</th>\n",
       "      <td>Leicester City</td>\n",
       "      <td>56</td>\n",
       "      <td>60</td>\n",
       "      <td>47</td>\n",
       "    </tr>\n",
       "    <tr>\n",
       "      <th>9</th>\n",
       "      <td>Newcastle United</td>\n",
       "      <td>39</td>\n",
       "      <td>47</td>\n",
       "      <td>44</td>\n",
       "    </tr>\n",
       "    <tr>\n",
       "      <th>10</th>\n",
       "      <td>Crystal Palace</td>\n",
       "      <td>45</td>\n",
       "      <td>55</td>\n",
       "      <td>44</td>\n",
       "    </tr>\n",
       "    <tr>\n",
       "      <th>11</th>\n",
       "      <td>Bournemouth</td>\n",
       "      <td>45</td>\n",
       "      <td>61</td>\n",
       "      <td>44</td>\n",
       "    </tr>\n",
       "    <tr>\n",
       "      <th>12</th>\n",
       "      <td>West Ham United</td>\n",
       "      <td>48</td>\n",
       "      <td>68</td>\n",
       "      <td>42</td>\n",
       "    </tr>\n",
       "    <tr>\n",
       "      <th>13</th>\n",
       "      <td>Watford</td>\n",
       "      <td>44</td>\n",
       "      <td>64</td>\n",
       "      <td>41</td>\n",
       "    </tr>\n",
       "    <tr>\n",
       "      <th>14</th>\n",
       "      <td>Brighton and Hove Albion</td>\n",
       "      <td>34</td>\n",
       "      <td>54</td>\n",
       "      <td>40</td>\n",
       "    </tr>\n",
       "    <tr>\n",
       "      <th>15</th>\n",
       "      <td>Huddersfield Town</td>\n",
       "      <td>28</td>\n",
       "      <td>58</td>\n",
       "      <td>37</td>\n",
       "    </tr>\n",
       "    <tr>\n",
       "      <th>16</th>\n",
       "      <td>Southampton</td>\n",
       "      <td>37</td>\n",
       "      <td>56</td>\n",
       "      <td>36</td>\n",
       "    </tr>\n",
       "    <tr>\n",
       "      <th>17</th>\n",
       "      <td>Swansea City</td>\n",
       "      <td>28</td>\n",
       "      <td>56</td>\n",
       "      <td>33</td>\n",
       "    </tr>\n",
       "    <tr>\n",
       "      <th>18</th>\n",
       "      <td>Stoke City</td>\n",
       "      <td>35</td>\n",
       "      <td>68</td>\n",
       "      <td>33</td>\n",
       "    </tr>\n",
       "    <tr>\n",
       "      <th>19</th>\n",
       "      <td>West Bromwich Albion</td>\n",
       "      <td>31</td>\n",
       "      <td>56</td>\n",
       "      <td>31</td>\n",
       "    </tr>\n",
       "  </tbody>\n",
       "</table>\n",
       "</div>"
      ],
      "text/plain": [
       "                        name   gf  ga  points\n",
       "0            Manchester City  106  27     100\n",
       "1          Manchester United   68  28      81\n",
       "2          Tottenham Hotspur   74  36      77\n",
       "3                  Liverpool   84  38      75\n",
       "4                    Chelsea   62  38      70\n",
       "5                    Arsenal   74  51      63\n",
       "6                    Burnley   36  39      54\n",
       "7                    Everton   44  58      49\n",
       "8             Leicester City   56  60      47\n",
       "9           Newcastle United   39  47      44\n",
       "10            Crystal Palace   45  55      44\n",
       "11               Bournemouth   45  61      44\n",
       "12           West Ham United   48  68      42\n",
       "13                   Watford   44  64      41\n",
       "14  Brighton and Hove Albion   34  54      40\n",
       "15         Huddersfield Town   28  58      37\n",
       "16               Southampton   37  56      36\n",
       "17              Swansea City   28  56      33\n",
       "18                Stoke City   35  68      33\n",
       "19      West Bromwich Albion   31  56      31"
      ]
     },
     "execution_count": 4,
     "metadata": {},
     "output_type": "execute_result"
    }
   ],
   "source": [
    "import numpy as np\n",
    "import pandas as pd\n",
    "\n",
    "df = pd.DataFrame({'name': ['Manchester City', 'Manchester United', 'Tottenham Hotspur',\n",
    "                            'Liverpool', 'Chelsea', 'Arsenal', 'Burnley', 'Everton',\n",
    "                            'Leicester City', 'Newcastle United', 'Crystal Palace',\n",
    "                            'Bournemouth', 'West Ham United', 'Watford',\n",
    "                            'Brighton and Hove Albion', 'Huddersfield Town', 'Southampton',\n",
    "                            'Swansea City', 'Stoke City', 'West Bromwich Albion'],\n",
    "                   'gf': [106,  68,  74,  84,  62,  74,  36,  44,  56,  39,  45,  45,  48,\n",
    "                          44,  34,  28,  37,  28,  35,  31],\n",
    "                   'ga': [27, 28, 36, 38, 38, 51, 39, 58, 60, 47, 55, 61, 68, 64, 54, 58, 56,\n",
    "                          56, 68, 56],\n",
    "                   'points': [100,  81,  77,  75,  70,  63,  54,  49,  47,  44,  44,  44,  42,\n",
    "                              41,  40,  37,  36,  33,  33,  31]\n",
    "\n",
    "                   })\n",
    "df"
   ]
  },
  {
   "cell_type": "code",
   "execution_count": 5,
   "id": "c59cbd3f",
   "metadata": {},
   "outputs": [],
   "source": [
    "from sklearn import linear_model\n",
    "# 학습 데이터와 테스트 데이터를 나눠주는 모듈\n",
    "from sklearn.model_selection import train_test_split\n",
    "# 모델을 평가해주는 모듈\n",
    "from sklearn.metrics import mean_absolute_error"
   ]
  },
  {
   "cell_type": "code",
   "execution_count": 6,
   "id": "6232ae05",
   "metadata": {},
   "outputs": [],
   "source": [
    "# 2. 데이터 전처리 1 : 독립변수 종속변수 나누기\n",
    "df_x = df[[\"gf\", \"ga\"]]\n",
    "df_y = df[[\"points\"]]"
   ]
  },
  {
   "cell_type": "code",
   "execution_count": 7,
   "id": "cc8444fc",
   "metadata": {},
   "outputs": [],
   "source": [
    "train_x, test_x, train_y, test_y = train_test_split(\n",
    "    df_x, df_y, test_size=0.2, random_state=1234)"
   ]
  },
  {
   "cell_type": "code",
   "execution_count": 8,
   "id": "00a9c820",
   "metadata": {},
   "outputs": [],
   "source": [
    "model = linear_model.LinearRegression()"
   ]
  },
  {
   "cell_type": "code",
   "execution_count": 9,
   "id": "0c483a2c",
   "metadata": {},
   "outputs": [
    {
     "data": {
      "text/plain": [
       "LinearRegression()"
      ]
     },
     "execution_count": 9,
     "metadata": {},
     "output_type": "execute_result"
    }
   ],
   "source": [
    "model.fit(train_x, train_y)"
   ]
  },
  {
   "cell_type": "code",
   "execution_count": 32,
   "id": "82f73df8",
   "metadata": {},
   "outputs": [],
   "source": [
    "pred_y = model.predict(test_x)"
   ]
  },
  {
   "cell_type": "code",
   "execution_count": 30,
   "id": "fb9eff3e",
   "metadata": {
    "scrolled": true
   },
   "outputs": [
    {
     "data": {
      "text/plain": [
       "array([[80.7291084 ],\n",
       "       [39.48577501],\n",
       "       [76.20087983],\n",
       "       [40.80603755]])"
      ]
     },
     "execution_count": 30,
     "metadata": {},
     "output_type": "execute_result"
    }
   ],
   "source": [
    "pred_y"
   ]
  },
  {
   "cell_type": "code",
   "execution_count": 16,
   "id": "ab9e3d43",
   "metadata": {},
   "outputs": [
    {
     "data": {
      "text/plain": [
       "dtype('float64')"
      ]
     },
     "execution_count": 16,
     "metadata": {},
     "output_type": "execute_result"
    }
   ],
   "source": [
    "pred_y.dtype"
   ]
  },
  {
   "cell_type": "code",
   "execution_count": 34,
   "id": "f3e90892",
   "metadata": {},
   "outputs": [],
   "source": [
    "# pred_y = np.around(pred_y.flatten()).astype(\"int\")\n",
    "# pred_y\n",
    "pred_y = pred_y.flatten()"
   ]
  },
  {
   "cell_type": "code",
   "execution_count": 35,
   "id": "fd4b6855",
   "metadata": {},
   "outputs": [
    {
     "data": {
      "text/plain": [
       "array([80.7291084 , 39.48577501, 76.20087983, 40.80603755])"
      ]
     },
     "execution_count": 35,
     "metadata": {},
     "output_type": "execute_result"
    }
   ],
   "source": [
    "pred_y"
   ]
  },
  {
   "cell_type": "code",
   "execution_count": 36,
   "id": "7ed574b8",
   "metadata": {
    "scrolled": true
   },
   "outputs": [
    {
     "data": {
      "text/plain": [
       "array([75, 41, 77, 36])"
      ]
     },
     "execution_count": 36,
     "metadata": {},
     "output_type": "execute_result"
    }
   ],
   "source": [
    "test_y[\"points\"].values"
   ]
  },
  {
   "cell_type": "code",
   "execution_count": 37,
   "id": "a6254491",
   "metadata": {},
   "outputs": [
    {
     "data": {
      "text/plain": [
       "3.212122775849208"
      ]
     },
     "execution_count": 37,
     "metadata": {},
     "output_type": "execute_result"
    }
   ],
   "source": [
    "mae = mean_absolute_error(test_y, pred_y)\n",
    "mae"
   ]
  },
  {
   "cell_type": "code",
   "execution_count": 27,
   "id": "3c0b414e",
   "metadata": {},
   "outputs": [
    {
     "data": {
      "text/html": [
       "<div>\n",
       "<style scoped>\n",
       "    .dataframe tbody tr th:only-of-type {\n",
       "        vertical-align: middle;\n",
       "    }\n",
       "\n",
       "    .dataframe tbody tr th {\n",
       "        vertical-align: top;\n",
       "    }\n",
       "\n",
       "    .dataframe thead th {\n",
       "        text-align: right;\n",
       "    }\n",
       "</style>\n",
       "<table border=\"1\" class=\"dataframe\">\n",
       "  <thead>\n",
       "    <tr style=\"text-align: right;\">\n",
       "      <th></th>\n",
       "      <th>points</th>\n",
       "    </tr>\n",
       "  </thead>\n",
       "  <tbody>\n",
       "    <tr>\n",
       "      <th>3</th>\n",
       "      <td>75</td>\n",
       "    </tr>\n",
       "    <tr>\n",
       "      <th>13</th>\n",
       "      <td>41</td>\n",
       "    </tr>\n",
       "    <tr>\n",
       "      <th>2</th>\n",
       "      <td>77</td>\n",
       "    </tr>\n",
       "    <tr>\n",
       "      <th>16</th>\n",
       "      <td>36</td>\n",
       "    </tr>\n",
       "  </tbody>\n",
       "</table>\n",
       "</div>"
      ],
      "text/plain": [
       "    points\n",
       "3       75\n",
       "13      41\n",
       "2       77\n",
       "16      36"
      ]
     },
     "execution_count": 27,
     "metadata": {},
     "output_type": "execute_result"
    }
   ],
   "source": [
    "test_y"
   ]
  },
  {
   "cell_type": "code",
   "execution_count": null,
   "id": "bc26bc4b",
   "metadata": {},
   "outputs": [],
   "source": []
  },
  {
   "cell_type": "code",
   "execution_count": null,
   "id": "c66c4339",
   "metadata": {},
   "outputs": [],
   "source": []
  },
  {
   "cell_type": "code",
   "execution_count": null,
   "id": "db0909da",
   "metadata": {},
   "outputs": [],
   "source": []
  },
  {
   "cell_type": "code",
   "execution_count": 38,
   "id": "b436de76",
   "metadata": {},
   "outputs": [],
   "source": [
    "ls1 = [1, 2, 3]\n",
    "ls2 = [3, 5, 7]\n",
    "ls3 = [6, 5, 4]"
   ]
  },
  {
   "cell_type": "code",
   "execution_count": 44,
   "id": "035c7a54",
   "metadata": {},
   "outputs": [],
   "source": [
    "def map_func(func, *args):\n",
    "    return [func(*datas) for datas in zip(*args)]"
   ]
  },
  {
   "cell_type": "code",
   "execution_count": 45,
   "id": "e75b570a",
   "metadata": {},
   "outputs": [
    {
     "name": "stdout",
     "output_type": "stream",
     "text": [
      "[1, 2, 3] [3, 5, 7] [6, 5, 4]\n"
     ]
    },
    {
     "data": {
      "text/plain": [
       "[10, 12, 14]"
      ]
     },
     "execution_count": 45,
     "metadata": {},
     "output_type": "execute_result"
    }
   ],
   "source": [
    "map_func(lambda x, y, z: x+y+z, ls1, ls2, ls3)"
   ]
  },
  {
   "cell_type": "code",
   "execution_count": null,
   "id": "3a9d82aa",
   "metadata": {},
   "outputs": [],
   "source": []
  },
  {
   "cell_type": "code",
   "execution_count": null,
   "id": "b79bf6df",
   "metadata": {},
   "outputs": [],
   "source": []
  },
  {
   "cell_type": "code",
   "execution_count": 48,
   "id": "97f92678",
   "metadata": {},
   "outputs": [],
   "source": [
    "np.random.seed(0)\n",
    "data = pd.Series(np.random.randint(1, 10, size=5), index=list('ABCDE'))"
   ]
  },
  {
   "cell_type": "code",
   "execution_count": 49,
   "id": "0345f2db",
   "metadata": {},
   "outputs": [
    {
     "data": {
      "text/plain": [
       "A    6\n",
       "B    1\n",
       "C    4\n",
       "D    4\n",
       "E    8\n",
       "dtype: int64"
      ]
     },
     "execution_count": 49,
     "metadata": {},
     "output_type": "execute_result"
    }
   ],
   "source": [
    "data"
   ]
  },
  {
   "cell_type": "code",
   "execution_count": 50,
   "id": "85b07260",
   "metadata": {},
   "outputs": [
    {
     "data": {
      "text/plain": [
       "13"
      ]
     },
     "execution_count": 50,
     "metadata": {},
     "output_type": "execute_result"
    }
   ],
   "source": [
    "result = data+2\n",
    "result['B'] = 10\n",
    "result = result+3\n",
    "result['B']"
   ]
  },
  {
   "cell_type": "code",
   "execution_count": null,
   "id": "34f21368",
   "metadata": {},
   "outputs": [],
   "source": []
  }
 ],
 "metadata": {
  "kernelspec": {
   "display_name": "Python 3",
   "language": "python",
   "name": "python3"
  },
  "language_info": {
   "codemirror_mode": {
    "name": "ipython",
    "version": 3
   },
   "file_extension": ".py",
   "mimetype": "text/x-python",
   "name": "python",
   "nbconvert_exporter": "python",
   "pygments_lexer": "ipython3",
   "version": "3.9.1"
  }
 },
 "nbformat": 4,
 "nbformat_minor": 5
}
