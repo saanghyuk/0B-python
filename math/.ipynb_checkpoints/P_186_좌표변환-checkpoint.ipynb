{
 "cells": [
  {
   "cell_type": "code",
   "execution_count": 1,
   "id": "85db70c8",
   "metadata": {},
   "outputs": [
    {
     "ename": "NameError",
     "evalue": "name 'plt' is not defined",
     "output_type": "error",
     "traceback": [
      "\u001b[0;31m---------------------------------------------------------------------------\u001b[0m",
      "\u001b[0;31mNameError\u001b[0m                                 Traceback (most recent call last)",
      "\u001b[0;32m<ipython-input-1-78515677d88a>\u001b[0m in \u001b[0;36m<module>\u001b[0;34m\u001b[0m\n\u001b[1;32m     14\u001b[0m \u001b[0mgc2\u001b[0m \u001b[0;34m=\u001b[0m \u001b[0mE\u001b[0m \u001b[0;34m@\u001b[0m \u001b[0mg2\u001b[0m\u001b[0;34m\u001b[0m\u001b[0;34m\u001b[0m\u001b[0m\n\u001b[1;32m     15\u001b[0m \u001b[0;34m\u001b[0m\u001b[0m\n\u001b[0;32m---> 16\u001b[0;31m \u001b[0mplt\u001b[0m\u001b[0;34m.\u001b[0m\u001b[0msubplot\u001b[0m\u001b[0;34m(\u001b[0m\u001b[0;36m121\u001b[0m\u001b[0;34m)\u001b[0m\u001b[0;34m\u001b[0m\u001b[0;34m\u001b[0m\u001b[0m\n\u001b[0m\u001b[1;32m     17\u001b[0m \u001b[0mplt\u001b[0m\u001b[0;34m.\u001b[0m\u001b[0mimshow\u001b[0m\u001b[0;34m(\u001b[0m\u001b[0mf\u001b[0m\u001b[0;34m,\u001b[0m \u001b[0mcmap\u001b[0m\u001b[0;34m=\u001b[0m\u001b[0mmpl\u001b[0m\u001b[0;34m.\u001b[0m\u001b[0mcm\u001b[0m\u001b[0;34m.\u001b[0m\u001b[0mbone\u001b[0m\u001b[0;34m,\u001b[0m \u001b[0malpha\u001b[0m\u001b[0;34m=\u001b[0m\u001b[0;36m0.9\u001b[0m\u001b[0;34m)\u001b[0m\u001b[0;34m\u001b[0m\u001b[0;34m\u001b[0m\u001b[0m\n\u001b[1;32m     18\u001b[0m \u001b[0mplt\u001b[0m\u001b[0;34m.\u001b[0m\u001b[0mannotate\u001b[0m\u001b[0;34m(\u001b[0m\u001b[0;34m''\u001b[0m\u001b[0;34m,\u001b[0m \u001b[0mxy\u001b[0m\u001b[0;34m=\u001b[0m\u001b[0;36m500\u001b[0m\u001b[0;34m*\u001b[0m\u001b[0me1\u001b[0m\u001b[0;34m,\u001b[0m \u001b[0mxytext\u001b[0m\u001b[0;34m=\u001b[0m\u001b[0;34m(\u001b[0m\u001b[0;36m0\u001b[0m\u001b[0;34m,\u001b[0m\u001b[0;36m0\u001b[0m\u001b[0;34m)\u001b[0m\u001b[0;34m,\u001b[0m \u001b[0marrowprops\u001b[0m\u001b[0;34m=\u001b[0m\u001b[0mgreen\u001b[0m\u001b[0;34m)\u001b[0m\u001b[0;34m\u001b[0m\u001b[0;34m\u001b[0m\u001b[0m\n",
      "\u001b[0;31mNameError\u001b[0m: name 'plt' is not defined"
     ]
    }
   ],
   "source": [
    "import scipy as sp\n",
    "import scipy.misc\n",
    "import scipy.ndimage\n",
    "\n",
    "\n",
    "f = sp.misc.face(gray=True)\n",
    "\n",
    "e1 = np.array([0, 1]) # matplotlib의 이미지 좌표규약으로 부호변경 \n",
    "e2 = np.array([1, 0])\n",
    "E = np.vstack([e1, e2]).T\n",
    "g1 = np.array([1, 1]) / np.sqrt(2)\n",
    "g2 = np.array([-1, 1]) / np.sqrt(2)\n",
    "A = np.vstack([g1, g2]).T\n",
    "gc1 = E @ g1\n",
    "gc2 = E @ g2\n",
    "\n",
    "plt.subplot(121)\n",
    "plt.imshow(f, cmap=mpl.cm.bone, alpha=0.9)\n",
    "plt.annotate('', xy=500*e1, xytext=(0,0), arrowprops=green)\n",
    "plt.annotate('$e_1$', xy=500*e1, xytext=500*e1 + [-100,0])\n",
    "plt.annotate('', xy=500*e2, xytext=(0,0), arrowprops=green)\n",
    "plt.annotate('$e_2$', xy=500*e2, xytext=500*e2 + [0, -50])\n",
    "plt.annotate('', xy=500*gc1, xytext=(0, 0), arrowprops=red)\n",
    "plt.annotate('$g_1$', xy=500*gc1, xytext=500*gc1 + [50, -50])\n",
    "plt.annotate('', xy=500*gc2, xytext=(0, 0), arrowprops=red)\n",
    "plt.annotate('$g_2$', xy=500*gc2, xytext=500*gc2 + [50, 0])\n",
    "plt.axis(\"off\")\n",
    "plt.xlim(-200, 1000)\n",
    "plt.ylim(800, -500)\n",
    "plt.title(\"좌표변환전\")\n",
    "\n",
    "f1 = sp.ndimage.affine_transform(f, A)\n",
    "\n",
    "plt.subplot(122)\n",
    "plt.imshow(f1, cmap=mpl.cm.bone, alpha=0.8)\n",
    "plt.annotate('', xy=500*e1, xytext=(0,0), arrowprops=red)\n",
    "plt.annotate('$g_1$', xy=500*e1, xytext=500*e1 + [-100,0])\n",
    "plt.annotate('', xy=500*e2, xytext=(0,0), arrowprops=red)\n",
    "plt.annotate('$g_2$', xy=500*e2, xytext=500*e2 + [0, -50])\n",
    "plt.axis(\"off\")\n",
    "plt.xlim(-200, 1000)\n",
    "plt.ylim(800, -500)\n",
    "plt.title(\"좌표변환후\")\n",
    "plt.show()"
   ]
  },
  {
   "cell_type": "code",
   "execution_count": null,
   "id": "e8419e27",
   "metadata": {},
   "outputs": [],
   "source": []
  }
 ],
 "metadata": {
  "kernelspec": {
   "display_name": "Python 3",
   "language": "python",
   "name": "python3"
  },
  "language_info": {
   "codemirror_mode": {
    "name": "ipython",
    "version": 3
   },
   "file_extension": ".py",
   "mimetype": "text/x-python",
   "name": "python",
   "nbconvert_exporter": "python",
   "pygments_lexer": "ipython3",
   "version": "3.6.13"
  }
 },
 "nbformat": 4,
 "nbformat_minor": 5
}
