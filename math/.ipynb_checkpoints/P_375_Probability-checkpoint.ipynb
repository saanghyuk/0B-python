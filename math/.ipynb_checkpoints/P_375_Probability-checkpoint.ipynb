{
 "cells": [
  {
   "cell_type": "markdown",
   "id": "6897111e",
   "metadata": {},
   "source": [
    "### set / frozenset"
   ]
  },
  {
   "cell_type": "code",
   "execution_count": 3,
   "id": "bba1fafd",
   "metadata": {},
   "outputs": [
    {
     "data": {
      "text/plain": [
       "{1, 2, 3}"
      ]
     },
     "execution_count": 3,
     "metadata": {},
     "output_type": "execute_result"
    }
   ],
   "source": [
    "A = set([1, 2, 3, 3, 2])\n",
    "A"
   ]
  },
  {
   "cell_type": "code",
   "execution_count": 4,
   "id": "d7c6481f",
   "metadata": {},
   "outputs": [
    {
     "data": {
      "text/plain": [
       "frozenset({'H', 'T'})"
      ]
     },
     "execution_count": 4,
     "metadata": {},
     "output_type": "execute_result"
    }
   ],
   "source": [
    "B = frozenset(['H', 'T'])\n",
    "B"
   ]
  },
  {
   "cell_type": "code",
   "execution_count": 5,
   "id": "68937ccf",
   "metadata": {},
   "outputs": [
    {
     "data": {
      "text/plain": [
       "{'♠', '♡', '♢', '♣'}"
      ]
     },
     "execution_count": 5,
     "metadata": {},
     "output_type": "execute_result"
    }
   ],
   "source": [
    "C = {'\\u2660', '\\u2661', '\\u2662', '\\u2663'}\n",
    "C"
   ]
  },
  {
   "cell_type": "code",
   "execution_count": 6,
   "id": "dd73f2e6",
   "metadata": {},
   "outputs": [
    {
     "data": {
      "text/plain": [
       "(set, frozenset)"
      ]
     },
     "execution_count": 6,
     "metadata": {},
     "output_type": "execute_result"
    }
   ],
   "source": [
    "type(C), type(B)"
   ]
  },
  {
   "cell_type": "markdown",
   "id": "0b3158a5",
   "metadata": {},
   "source": [
    "### Cardinality, |A|"
   ]
  },
  {
   "cell_type": "code",
   "execution_count": 7,
   "id": "9e3e0eb5",
   "metadata": {},
   "outputs": [
    {
     "data": {
      "text/plain": [
       "3"
      ]
     },
     "execution_count": 7,
     "metadata": {},
     "output_type": "execute_result"
    }
   ],
   "source": [
    "len(A)"
   ]
  },
  {
   "cell_type": "code",
   "execution_count": null,
   "id": "072d64d7",
   "metadata": {},
   "outputs": [],
   "source": []
  },
  {
   "cell_type": "code",
   "execution_count": 8,
   "id": "b9b081a0",
   "metadata": {},
   "outputs": [
    {
     "data": {
      "text/plain": [
       "{1, 2, 3, 'H', 'T'}"
      ]
     },
     "execution_count": 8,
     "metadata": {},
     "output_type": "execute_result"
    }
   ],
   "source": [
    "A.union(B)"
   ]
  },
  {
   "cell_type": "code",
   "execution_count": 9,
   "id": "c9b92137",
   "metadata": {},
   "outputs": [
    {
     "data": {
      "text/plain": [
       "{1, 2, 3}"
      ]
     },
     "execution_count": 9,
     "metadata": {},
     "output_type": "execute_result"
    }
   ],
   "source": [
    "A or B"
   ]
  },
  {
   "cell_type": "code",
   "execution_count": 10,
   "id": "85976601",
   "metadata": {},
   "outputs": [
    {
     "data": {
      "text/plain": [
       "set()"
      ]
     },
     "execution_count": 10,
     "metadata": {},
     "output_type": "execute_result"
    }
   ],
   "source": [
    "A.intersection(B)"
   ]
  },
  {
   "cell_type": "code",
   "execution_count": 11,
   "id": "f2390a0f",
   "metadata": {},
   "outputs": [
    {
     "data": {
      "text/plain": [
       "frozenset({'H', 'T'})"
      ]
     },
     "execution_count": 11,
     "metadata": {},
     "output_type": "execute_result"
    }
   ],
   "source": [
    "A and B"
   ]
  },
  {
   "cell_type": "code",
   "execution_count": null,
   "id": "2e5a9e88",
   "metadata": {},
   "outputs": [],
   "source": []
  },
  {
   "cell_type": "markdown",
   "id": "9a62cebe",
   "metadata": {},
   "source": [
    "### 연습문제 6.1.1"
   ]
  },
  {
   "cell_type": "code",
   "execution_count": 19,
   "id": "c9c359e7",
   "metadata": {},
   "outputs": [],
   "source": [
    "B = {'HH', 'HT', 'TH', 'TT'}"
   ]
  },
  {
   "cell_type": "code",
   "execution_count": 20,
   "id": "98759256",
   "metadata": {},
   "outputs": [],
   "source": [
    "from itertools import combinations"
   ]
  },
  {
   "cell_type": "code",
   "execution_count": 21,
   "id": "ccafe10d",
   "metadata": {},
   "outputs": [],
   "source": [
    "# 공집합\n",
    "A1 = frozenset([])"
   ]
  },
  {
   "cell_type": "code",
   "execution_count": 22,
   "id": "6bb004a0",
   "metadata": {},
   "outputs": [
    {
     "data": {
      "text/plain": [
       "({('HH', 'HT'),\n",
       "  ('HH', 'TH'),\n",
       "  ('HH', 'TH', 'HT'),\n",
       "  ('HH', 'TH', 'TT'),\n",
       "  ('HH', 'TH', 'TT', 'HT'),\n",
       "  ('HH', 'TT'),\n",
       "  ('HH', 'TT', 'HT'),\n",
       "  ('HH',),\n",
       "  ('HT',),\n",
       "  ('TH', 'HT'),\n",
       "  ('TH', 'TT'),\n",
       "  ('TH', 'TT', 'HT'),\n",
       "  ('TH',),\n",
       "  ('TT', 'HT'),\n",
       "  ('TT',),\n",
       "  frozenset()},\n",
       " 16)"
      ]
     },
     "execution_count": 22,
     "metadata": {},
     "output_type": "execute_result"
    }
   ],
   "source": [
    "total_subset = set()\n",
    "for i in range(len(B)+1):\n",
    "    if i==0:\n",
    "        total_subset.add(frozenset(A1))\n",
    "    comb = combinations(B, i+1)\n",
    "    for j in comb:\n",
    "        total_subset.add(j)\n",
    "\n",
    "\n",
    "total_subset, len(total_subset)"
   ]
  },
  {
   "cell_type": "code",
   "execution_count": null,
   "id": "0fe2df09",
   "metadata": {},
   "outputs": [],
   "source": []
  },
  {
   "cell_type": "code",
   "execution_count": 23,
   "id": "3985edee",
   "metadata": {},
   "outputs": [],
   "source": [
    "P = {}"
   ]
  },
  {
   "cell_type": "code",
   "execution_count": null,
   "id": "19468449",
   "metadata": {},
   "outputs": [],
   "source": []
  },
  {
   "cell_type": "code",
   "execution_count": 24,
   "id": "7925eefb",
   "metadata": {
    "scrolled": true
   },
   "outputs": [
    {
     "data": {
      "text/plain": [
       "{('HH', 'HT'),\n",
       " ('HH', 'TH'),\n",
       " ('HH', 'TH', 'HT'),\n",
       " ('HH', 'TH', 'TT'),\n",
       " ('HH', 'TH', 'TT', 'HT'),\n",
       " ('HH', 'TT'),\n",
       " ('HH', 'TT', 'HT'),\n",
       " ('HH',),\n",
       " ('HT',),\n",
       " ('TH', 'HT'),\n",
       " ('TH', 'TT'),\n",
       " ('TH', 'TT', 'HT'),\n",
       " ('TH',),\n",
       " ('TT', 'HT'),\n",
       " ('TT',),\n",
       " frozenset()}"
      ]
     },
     "execution_count": 24,
     "metadata": {},
     "output_type": "execute_result"
    }
   ],
   "source": [
    "total_subset"
   ]
  },
  {
   "cell_type": "code",
   "execution_count": null,
   "id": "c9fecd65",
   "metadata": {},
   "outputs": [],
   "source": []
  },
  {
   "cell_type": "code",
   "execution_count": null,
   "id": "ca08c339",
   "metadata": {},
   "outputs": [],
   "source": []
  },
  {
   "cell_type": "markdown",
   "id": "d4be80c6",
   "metadata": {},
   "source": [
    "연습문제 6.4.3"
   ]
  },
  {
   "cell_type": "code",
   "execution_count": 36,
   "id": "457c54ce",
   "metadata": {},
   "outputs": [],
   "source": [
    "def prob_lottery(a, b):\n",
    "    if (0 <= a <= 180) and (0<= b <= 180):\n",
    "        return (abs(b-a)/180)* (2/3)\n",
    "    elif (0 <= a <= 180) and (180 <= b <= 360):\n",
    "        side_A = ((180 - a) / 180) * 2/3\n",
    "        side_B = ((b - 180) / 180) * 1/3\n",
    "        return side_A + side_B\n",
    "    elif (180 <= a <= 360) and (180 <= b <= 360):\n",
    "        return (abs(b-a)/180)* (1/3)\n",
    "    elif (180 <= a <= 360) and (180 <= b <= 360):\n",
    "        side_A = ((360 - a) / 180) * 1/3\n",
    "        side_B = (b / 180) * 1/3\n",
    "        return side_A + side_B\n"
   ]
  },
  {
   "cell_type": "code",
   "execution_count": 38,
   "id": "497a7ca9",
   "metadata": {
    "scrolled": true
   },
   "outputs": [
    {
     "name": "stdout",
     "output_type": "stream",
     "text": [
      "0.6666666666666666\n"
     ]
    }
   ],
   "source": [
    "a = prob_lottery(0, 180)\n",
    "print(a)"
   ]
  },
  {
   "cell_type": "code",
   "execution_count": null,
   "id": "f811c658",
   "metadata": {},
   "outputs": [],
   "source": []
  },
  {
   "cell_type": "code",
   "execution_count": null,
   "id": "b3c7bbdc",
   "metadata": {},
   "outputs": [],
   "source": []
  },
  {
   "cell_type": "code",
   "execution_count": 84,
   "id": "3d85132b",
   "metadata": {},
   "outputs": [],
   "source": [
    "def F(x):\n",
    "    if x<=180:\n",
    "        height = x * (2 / (180*3))\n",
    "        return height\n",
    "    elif 180 < x <= 360:\n",
    "        height = (1/(180*3))*x + 1/3\n",
    "        return height\n",
    "    else:\n",
    "        print(\"0~360 사이의 숫자를 넣어 주세요\")\n",
    "        "
   ]
  },
  {
   "cell_type": "code",
   "execution_count": 49,
   "id": "38fe5d54",
   "metadata": {},
   "outputs": [
    {
     "data": {
      "text/latex": [
       "$\\displaystyle 0.990740740740741$"
      ],
      "text/plain": [
       "0.9907407407407407"
      ]
     },
     "execution_count": 49,
     "metadata": {},
     "output_type": "execute_result"
    }
   ],
   "source": [
    "F(355)"
   ]
  },
  {
   "cell_type": "code",
   "execution_count": 69,
   "id": "0aa75a6f",
   "metadata": {
    "scrolled": true
   },
   "outputs": [
    {
     "data": {
      "text/latex": [
       "$\\displaystyle 0.333333333333333$"
      ],
      "text/plain": [
       "0.33333333333333337"
      ]
     },
     "execution_count": 69,
     "metadata": {},
     "output_type": "execute_result"
    }
   ],
   "source": [
    "F(90)"
   ]
  },
  {
   "cell_type": "code",
   "execution_count": null,
   "id": "528327d0",
   "metadata": {},
   "outputs": [],
   "source": []
  },
  {
   "cell_type": "code",
   "execution_count": 81,
   "id": "55188345",
   "metadata": {},
   "outputs": [],
   "source": [
    "t0 = np.linspace(-50, 0, 500)\n",
    "t3 = np.linspace(360, 400, 500)\n",
    "# F0 = t\n",
    "F0 = np.zeros(500)\n",
    "F3 = np.ones(500)"
   ]
  },
  {
   "cell_type": "code",
   "execution_count": 63,
   "id": "2822b094",
   "metadata": {},
   "outputs": [],
   "source": [
    "t1 = np.linspace(0, 180, 500)"
   ]
  },
  {
   "cell_type": "code",
   "execution_count": 64,
   "id": "832dad52",
   "metadata": {},
   "outputs": [],
   "source": [
    "F1 = t1/(270)"
   ]
  },
  {
   "cell_type": "code",
   "execution_count": 65,
   "id": "e5ec24c2",
   "metadata": {},
   "outputs": [],
   "source": [
    "t2 = np.linspace(180,360, 500)"
   ]
  },
  {
   "cell_type": "code",
   "execution_count": 66,
   "id": "dd2c4353",
   "metadata": {},
   "outputs": [],
   "source": [
    "F2 = t2/(180*3) + 1/3"
   ]
  },
  {
   "cell_type": "code",
   "execution_count": 82,
   "id": "91981df4",
   "metadata": {},
   "outputs": [
    {
     "data": {
      "text/plain": [
       "[<matplotlib.lines.Line2D at 0x7fbb5d0695e0>]"
      ]
     },
     "execution_count": 82,
     "metadata": {},
     "output_type": "execute_result"
    },
    {
     "data": {
      "image/png": "[encoded data removed]",
      "text/plain": [
       "<Figure size 432x288 with 1 Axes>"
      ]
     },
     "metadata": {
      "image/png": {
       "height": 251,
       "width": 373
      }
     },
     "output_type": "display_data"
    }
   ],
   "source": [
    "plt.plot(t1, F1)\n",
    "plt.plot(t2, F2)\n",
    "plt.plot(t0, F0)\n",
    "plt.plot(t3, F3)"
   ]
  },
  {
   "cell_type": "code",
   "execution_count": null,
   "id": "558045bb",
   "metadata": {},
   "outputs": [],
   "source": []
  },
  {
   "cell_type": "code",
   "execution_count": 83,
   "id": "756f51b8",
   "metadata": {},
   "outputs": [],
   "source": [
    "t=np.linspace(-100, 50, 100)"
   ]
  },
  {
   "cell_type": "code",
   "execution_count": 86,
   "id": "c2a6e540",
   "metadata": {
    "collapsed": true
   },
   "outputs": [
    {
     "data": {
      "text/latex": [
       "$\\displaystyle \\left[ -0.37037037037037, \\  -0.364758698092031, \\  -0.359147025813693, \\  -0.353535353535354, \\  -0.347923681257015, \\  -0.342312008978676, \\  -0.336700336700337, \\  -0.331088664421998, \\  -0.325476992143659, \\  -0.31986531986532, \\  -0.314253647586981, \\  -0.308641975308642, \\  -0.303030303030303, \\  -0.297418630751964, \\  -0.291806958473625, \\  -0.286195286195286, \\  -0.280583613916947, \\  -0.274971941638608, \\  -0.269360269360269, \\  -0.26374859708193, \\  -0.258136924803591, \\  -0.252525252525253, \\  -0.246913580246914, \\  -0.241301907968575, \\  -0.235690235690236, \\  -0.230078563411897, \\  -0.224466891133558, \\  -0.218855218855219, \\  -0.21324354657688, \\  -0.207631874298541, \\  -0.202020202020202, \\  -0.196408529741863, \\  -0.190796857463524, \\  -0.185185185185185, \\  -0.179573512906846, \\  -0.173961840628507, \\  -0.168350168350168, \\  -0.162738496071829, \\  -0.15712682379349, \\  -0.151515151515152, \\  -0.145903479236813, \\  -0.140291806958474, \\  -0.134680134680135, \\  -0.129068462401796, \\  -0.123456790123457, \\  -0.117845117845118, \\  -0.112233445566779, \\  -0.10662177328844, \\  -0.101010101010101, \\  -0.0953984287317621, \\  -0.0897867564534232, \\  -0.0841750841750842, \\  -0.0785634118967453, \\  -0.0729517396184063, \\  -0.0673400673400674, \\  -0.0617283950617284, \\  -0.0561167227833895, \\  -0.0505050505050505, \\  -0.0448933782267116, \\  -0.0392817059483726, \\  -0.0336700336700337, \\  -0.0280583613916947, \\  -0.0224466891133558, \\  -0.0168350168350168, \\  -0.0112233445566779, \\  -0.00561167227833895, \\  0.0, \\  0.00561167227833895, \\  0.0112233445566779, \\  0.0168350168350168, \\  0.0224466891133558, \\  0.0280583613916947, \\  0.0336700336700337, \\  0.0392817059483726, \\  0.0448933782267116, \\  0.0505050505050505, \\  0.0561167227833895, \\  0.0617283950617284, \\  0.0673400673400674, \\  0.0729517396184063, \\  0.0785634118967453, \\  0.0841750841750842, \\  0.0897867564534231, \\  0.095398428731762, \\  0.101010101010101, \\  0.10662177328844, \\  0.112233445566779, \\  0.117845117845118, \\  0.123456790123457, \\  0.129068462401796, \\  0.134680134680135, \\  0.140291806958474, \\  0.145903479236813, \\  0.151515151515152, \\  0.157126823793491, \\  0.162738496071829, \\  0.168350168350168, \\  0.173961840628507, \\  0.179573512906846, \\  0.185185185185185\\right]$"
      ],
      "text/plain": [
       "[-0.3703703703703704, -0.36475869809203143, -0.3591470258136925, -0.3535353535\n",
       "3535354, -0.3479236812570146, -0.34231200897867564, -0.3367003367003367, -0.33\n",
       "108866442199775, -0.3254769921436588, -0.31986531986531985, -0.314253647586980\n",
       "93, -0.30864197530864196, -0.30303030303030304, -0.2974186307519641, -0.291806\n",
       "95847362514, -0.2861952861952862, -0.28058361391694725, -0.27497194163860833, \n",
       "-0.26936026936026936, -0.26374859708193044, -0.25813692480359146, -0.252525252\n",
       "52525254, -0.24691358024691357, -0.24130190796857465, -0.2356902356902357, -0.\n",
       "23007856341189678, -0.22446689113355783, -0.21885521885521889, -0.213243546576\n",
       "87994, -0.207631874298541, -0.20202020202020204, -0.1964085297418631, -0.19079\n",
       "685746352415, -0.1851851851851852, -0.17957351290684626, -0.1739618406285073, \n",
       "-0.16835016835016836, -0.1627384960718294, -0.15712682379349047, -0.1515151515\n",
       "1515152, -0.14590347923681257, -0.14029180695847365, -0.1346801346801347, -0.1\n",
       "2906846240179573, -0.12345679012345678, -0.11784511784511784, -0.1122334455667\n",
       "7889, -0.10662177328843994, -0.10101010101010104, -0.0953984287317621, -0.0897\n",
       "8675645342316, -0.08417508417508421, -0.07856341189674526, -0.0729517396184063\n",
       "1, -0.06734006734006737, -0.06172839506172841, -0.056116722783389465, -0.05050\n",
       "505050505052, -0.04489337822671158, -0.03928170594837263, -0.03367003367003368\n",
       ", -0.028058361391694733, -0.02244668911335579, -0.01683501683501684, -0.011223\n",
       "344556677894, -0.005611672278338947, 0.0, 0.005611672278338947, 0.011223344556\n",
       "677894, 0.01683501683501684, 0.02244668911335579, 0.028058361391694733, 0.0336\n",
       "7003367003368, 0.03928170594837263, 0.04489337822671158, 0.05050505050505052, \n",
       "0.056116722783389465, 0.06172839506172841, 0.06734006734006737, 0.072951739618\n",
       "40631, 0.07856341189674526, 0.08417508417508415, 0.0897867564534231, 0.0953984\n",
       "2873176205, 0.101010101010101, 0.10662177328843994, 0.11223344556677893, 0.117\n",
       "84511784511784, 0.12345679012345682, 0.12906846240179573, 0.13468013468013473,\n",
       " 0.14029180695847362, 0.14590347923681263, 0.15151515151515152, 0.157126823793\n",
       "49052, 0.1627384960718294, 0.1683501683501683, 0.1739618406285073, 0.179573512\n",
       "9068462, 0.1851851851851852]"
      ]
     },
     "execution_count": 86,
     "metadata": {},
     "output_type": "execute_result"
    }
   ],
   "source": [
    "# t의 모든 값을 F함수에 하나씩 적용\n",
    "list(map(F, t))"
   ]
  },
  {
   "cell_type": "code",
   "execution_count": null,
   "id": "e12c39fc",
   "metadata": {},
   "outputs": [],
   "source": []
  }
 ],
 "metadata": {
  "kernelspec": {
   "display_name": "Python 3",
   "language": "python",
   "name": "python3"
  },
  "language_info": {
   "codemirror_mode": {
    "name": "ipython",
    "version": 3
   },
   "file_extension": ".py",
   "mimetype": "text/x-python",
   "name": "python",
   "nbconvert_exporter": "python",
   "pygments_lexer": "ipython3",
   "version": "3.9.1"
  }
 },
 "nbformat": 4,
 "nbformat_minor": 5
}
