{
 "cells": [
  {
   "cell_type": "markdown",
   "id": "959c9df9",
   "metadata": {},
   "source": [
    "### 최적화"
   ]
  },
  {
   "cell_type": "code",
   "execution_count": 1,
   "id": "495ef274",
   "metadata": {},
   "outputs": [],
   "source": [
    "# 목적함수\n",
    "def f1(x):\n",
    "    return (x - 2) ** 2 + 2"
   ]
  },
  {
   "cell_type": "code",
   "execution_count": 2,
   "id": "df6d5e57",
   "metadata": {},
   "outputs": [],
   "source": [
    "x0 = 0"
   ]
  },
  {
   "cell_type": "code",
   "execution_count": 4,
   "id": "36b83018",
   "metadata": {},
   "outputs": [
    {
     "name": "stdout",
     "output_type": "stream",
     "text": [
      "      fun: 2.0\n",
      " hess_inv: array([[0.5]])\n",
      "      jac: array([0.])\n",
      "  message: 'Optimization terminated successfully.'\n",
      "     nfev: 6\n",
      "      nit: 2\n",
      "     njev: 3\n",
      "   status: 0\n",
      "  success: True\n",
      "        x: array([1.99999999])\n"
     ]
    }
   ],
   "source": [
    "result = sp.optimize.minimize(f1, x0)\n",
    "print(result)"
   ]
  },
  {
   "cell_type": "code",
   "execution_count": null,
   "id": "cbd4b693",
   "metadata": {},
   "outputs": [],
   "source": []
  },
  {
   "cell_type": "code",
   "execution_count": 5,
   "id": "989da297",
   "metadata": {},
   "outputs": [],
   "source": [
    "def f1p(x):\n",
    "    return 2*(x-2)"
   ]
  },
  {
   "cell_type": "code",
   "execution_count": 7,
   "id": "e5fbc701",
   "metadata": {},
   "outputs": [
    {
     "data": {
      "text/plain": [
       "      fun: 2.0\n",
       " hess_inv: array([[0.5]])\n",
       "      jac: array([0.])\n",
       "  message: 'Optimization terminated successfully.'\n",
       "     nfev: 3\n",
       "      nit: 2\n",
       "     njev: 3\n",
       "   status: 0\n",
       "  success: True\n",
       "        x: array([2.])"
      ]
     },
     "execution_count": 7,
     "metadata": {},
     "output_type": "execute_result"
    }
   ],
   "source": [
    "result = sp.optimize.minimize(f1, x0, jac = f1p)\n",
    "result"
   ]
  },
  {
   "cell_type": "code",
   "execution_count": null,
   "id": "b9c9a4ac",
   "metadata": {},
   "outputs": [],
   "source": []
  },
  {
   "cell_type": "markdown",
   "id": "69ff5e6e",
   "metadata": {},
   "source": [
    "### 다변수인 경우"
   ]
  },
  {
   "cell_type": "code",
   "execution_count": 8,
   "id": "27b2c79e",
   "metadata": {
    "scrolled": true
   },
   "outputs": [
    {
     "name": "stdout",
     "output_type": "stream",
     "text": [
      "      fun: 1.2197702024999478e-11\n",
      " hess_inv: array([[0.50957143, 1.01994476],\n",
      "       [1.01994476, 2.04656074]])\n",
      "      jac: array([ 9.66714798e-05, -4.64005023e-05])\n",
      "  message: 'Desired error not necessarily achieved due to precision loss.'\n",
      "     nfev: 342\n",
      "      nit: 57\n",
      "     njev: 110\n",
      "   status: 2\n",
      "  success: False\n",
      "        x: array([0.99999746, 0.99999468])\n"
     ]
    }
   ],
   "source": [
    "def f2(x):\n",
    "    return (1 - x[0])**2 + 100.0 * (x[1] - x[0]**2)**2\n",
    "\n",
    "x0 = (-2, -2)\n",
    "result = sp.optimize.minimize(f2, x0)\n",
    "print(result)"
   ]
  },
  {
   "cell_type": "code",
   "execution_count": null,
   "id": "dfaad0a6",
   "metadata": {},
   "outputs": [],
   "source": []
  },
  {
   "cell_type": "markdown",
   "id": "36c5fc8e",
   "metadata": {},
   "source": [
    "#### 연습문제 5.1.1."
   ]
  },
  {
   "cell_type": "code",
   "execution_count": 9,
   "id": "b76c59eb",
   "metadata": {},
   "outputs": [
    {
     "name": "stdout",
     "output_type": "stream",
     "text": [
      "      fun: 2.8439854262904333e-11\n",
      " hess_inv: array([[0.49482461, 0.98957648],\n",
      "       [0.98957648, 1.98394242]])\n",
      "      jac: array([ 3.98678486e-06, -2.84414614e-06])\n",
      "  message: 'Optimization terminated successfully.'\n",
      "     nfev: 72\n",
      "      nit: 19\n",
      "     njev: 24\n",
      "   status: 0\n",
      "  success: True\n",
      "        x: array([0.99999467, 0.99998932])\n"
     ]
    }
   ],
   "source": [
    "x0 = (0, 0)\n",
    "result = sp.optimize.minimize(f2, x0)\n",
    "print(result)"
   ]
  },
  {
   "cell_type": "markdown",
   "id": "6ef6a16a",
   "metadata": {},
   "source": [
    "로젠브록 함수의 gradient vector 넣어보기. "
   ]
  },
  {
   "cell_type": "code",
   "execution_count": null,
   "id": "d625126b",
   "metadata": {},
   "outputs": [],
   "source": []
  },
  {
   "cell_type": "code",
   "execution_count": 10,
   "id": "f70d2fce",
   "metadata": {},
   "outputs": [],
   "source": [
    "def j_f2(x):\n",
    "    return np.array([2*x[0]-2-400*x[0]*x[1]+400*x[0]**3, 200*x[1] - 200*x[0]**2])"
   ]
  },
  {
   "cell_type": "code",
   "execution_count": 12,
   "id": "d5522564",
   "metadata": {},
   "outputs": [
    {
     "name": "stdout",
     "output_type": "stream",
     "text": [
      "      fun: 1.1504122846206263e-16\n",
      " hess_inv: array([[0.49933681, 0.99872972],\n",
      "       [0.99872972, 2.00252799]])\n",
      "      jac: array([ 4.29561908e-07, -2.14285990e-07])\n",
      "  message: 'Optimization terminated successfully.'\n",
      "     nfev: 73\n",
      "      nit: 56\n",
      "     njev: 73\n",
      "   status: 0\n",
      "  success: True\n",
      "        x: array([1., 1.])\n"
     ]
    }
   ],
   "source": [
    "x0 = (-2, -2)\n",
    "result = sp.optimize.minimize(f2, x0, jac = j_f2)\n",
    "print(result)"
   ]
  },
  {
   "cell_type": "code",
   "execution_count": null,
   "id": "a3699518",
   "metadata": {},
   "outputs": [],
   "source": []
  }
 ],
 "metadata": {
  "kernelspec": {
   "display_name": "Python 3",
   "language": "python",
   "name": "python3"
  },
  "language_info": {
   "codemirror_mode": {
    "name": "ipython",
    "version": 3
   },
   "file_extension": ".py",
   "mimetype": "text/x-python",
   "name": "python",
   "nbconvert_exporter": "python",
   "pygments_lexer": "ipython3",
   "version": "3.9.1"
  }
 },
 "nbformat": 4,
 "nbformat_minor": 5
}
