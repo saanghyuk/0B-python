{
 "cells": [
  {
   "cell_type": "code",
   "execution_count": 6,
   "id": "b9dee647",
   "metadata": {},
   "outputs": [],
   "source": [
    "A = np.array([[1, -2], [2, -3]])\n",
    "\n",
    "# w1이 eigen value, V1이 eigen vector\n",
    "w1, V1 = np.linalg.eig(A)"
   ]
  },
  {
   "cell_type": "markdown",
   "id": "538978df",
   "metadata": {},
   "source": [
    "원래 계산했을 때는, 원래 고유값이 중근이 나옴<br>\n",
    "부동 소수점 연산을 하다 보면, 미세한 오차가 생기게 됨.<br>\n",
    "원래는 -1이 두개가 나옴. 그게 맞음.<br>\n",
    "eig라는 명령어는 중복이 있어도 갯수만큼 다 해줌.<br>"
   ]
  },
  {
   "cell_type": "code",
   "execution_count": 9,
   "id": "e8a586c2",
   "metadata": {},
   "outputs": [
    {
     "data": {
      "text/plain": [
       "array([-0.99999998, -1.00000002])"
      ]
     },
     "execution_count": 9,
     "metadata": {},
     "output_type": "execute_result"
    }
   ],
   "source": [
    "# 묶여서 나옴\n",
    "w1"
   ]
  },
  {
   "cell_type": "code",
   "execution_count": 11,
   "id": "88d851ae",
   "metadata": {},
   "outputs": [
    {
     "data": {
      "text/plain": [
       "array([[0.70710678, 0.70710678],\n",
       "       [0.70710678, 0.70710678]])"
      ]
     },
     "execution_count": 11,
     "metadata": {},
     "output_type": "execute_result"
    }
   ],
   "source": [
    "# 벡터도 각각 묶여서 나옴. \n",
    "# 열이 하나의 eigen 벡터인 것. <중요>\n",
    "V1"
   ]
  },
  {
   "cell_type": "code",
   "execution_count": null,
   "id": "ded47067",
   "metadata": {},
   "outputs": [],
   "source": []
  },
  {
   "cell_type": "code",
   "execution_count": 12,
   "id": "1c6ccf4e",
   "metadata": {},
   "outputs": [],
   "source": [
    "B = np.array([[2, 3], [2, 1]])"
   ]
  },
  {
   "cell_type": "code",
   "execution_count": 13,
   "id": "39681f9e",
   "metadata": {},
   "outputs": [],
   "source": [
    "w2, V2 = np.linalg.eig(B)"
   ]
  },
  {
   "cell_type": "code",
   "execution_count": 15,
   "id": "8bef1a5c",
   "metadata": {},
   "outputs": [
    {
     "data": {
      "text/plain": [
       "(array([ 4., -1.]), array([[ 0.83205029, -0.70710678],\n",
       "        [ 0.5547002 ,  0.70710678]]))"
      ]
     },
     "execution_count": 15,
     "metadata": {},
     "output_type": "execute_result"
    }
   ],
   "source": [
    "w2, V2"
   ]
  },
  {
   "cell_type": "code",
   "execution_count": null,
   "id": "6f2841e5",
   "metadata": {},
   "outputs": [],
   "source": []
  },
  {
   "cell_type": "markdown",
   "id": "74cd47b9",
   "metadata": {},
   "source": [
    "eigen 벡터가 존재하지 않는 경우\n",
    "복소수 까지 계산해 준다. "
   ]
  },
  {
   "cell_type": "code",
   "execution_count": 17,
   "id": "3a375b19",
   "metadata": {},
   "outputs": [],
   "source": [
    "C = np.array([[0, -1], [1, 0]])\n",
    "w3, V3 = np.linalg.eig(C)"
   ]
  },
  {
   "cell_type": "code",
   "execution_count": 18,
   "id": "15f7240f",
   "metadata": {},
   "outputs": [
    {
     "data": {
      "text/plain": [
       "(array([0.+1.j, 0.-1.j]),\n",
       " array([[0.70710678+0.j        , 0.70710678-0.j        ],\n",
       "        [0.        -0.70710678j, 0.        +0.70710678j]]))"
      ]
     },
     "execution_count": 18,
     "metadata": {},
     "output_type": "execute_result"
    }
   ],
   "source": [
    "w3, V3"
   ]
  },
  {
   "cell_type": "code",
   "execution_count": null,
   "id": "edea6f58",
   "metadata": {},
   "outputs": [],
   "source": []
  }
 ],
 "metadata": {
  "kernelspec": {
   "display_name": "Python 3",
   "language": "python",
   "name": "python3"
  },
  "language_info": {
   "codemirror_mode": {
    "name": "ipython",
    "version": 3
   },
   "file_extension": ".py",
   "mimetype": "text/x-python",
   "name": "python",
   "nbconvert_exporter": "python",
   "pygments_lexer": "ipython3",
   "version": "3.6.13"
  }
 },
 "nbformat": 4,
 "nbformat_minor": 5
}
