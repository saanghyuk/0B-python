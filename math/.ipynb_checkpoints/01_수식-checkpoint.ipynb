{
 "cells": [
  {
   "cell_type": "markdown",
   "id": "f3635623",
   "metadata": {},
   "source": [
    "- 수식을 사용할 수 있게 해주는 레이텍"
   ]
  },
  {
   "cell_type": "markdown",
   "id": "80bc7244",
   "metadata": {},
   "source": [
    "- 수식을 쓰는 방법 2가지. 인라인 수식/독립적인 문단이 되는 수식\n",
    "    - 인라인 수식 `$ $` 달러와 달러 사이 \n",
    "    - 독립 문단 수식 `$$ $$` 더블 달러 사이\n",
    "    - 그리스 문자는 /뒤에 해당 스펠링을 써주면 됨($\\alpha$ 와 $\\beta$)"
   ]
  },
  {
   "cell_type": "markdown",
   "id": "9b224e70",
   "metadata": {},
   "source": [
    "`$\\alpha$` 와 `$\\beta$`의 값이 같다."
   ]
  },
  {
   "cell_type": "markdown",
   "id": "ef23a650",
   "metadata": {},
   "source": [
    "- 독립 수식은 \n",
    "- `$$\\alpha$$` 와 `$$\\beta$$`로 사용하면 된다.\n",
    "- $$\\alpha$$\n",
    "- $$\\beta$$"
   ]
  },
  {
   "cell_type": "code",
   "execution_count": null,
   "id": "c4bc21ec",
   "metadata": {},
   "outputs": [],
   "source": []
  },
  {
   "cell_type": "markdown",
   "id": "cc7c15bd",
   "metadata": {},
   "source": [
    "### 그리스 문자 써보기"
   ]
  },
  {
   "cell_type": "markdown",
   "id": "13e2dfc7",
   "metadata": {},
   "source": [
    "alpha\n",
    "\n",
    "$\\alpha$\n",
    "$$\\alpha$$"
   ]
  },
  {
   "cell_type": "markdown",
   "id": "8b36c3b2",
   "metadata": {},
   "source": [
    "beta \n",
    "\n",
    "$\\beta$\n",
    "$$\\beta$$"
   ]
  },
  {
   "cell_type": "markdown",
   "id": "e7e06fb3",
   "metadata": {},
   "source": [
    "gamma\n",
    "\n",
    "$\\gamma$\n",
    "$$\\gamma$$"
   ]
  },
  {
   "cell_type": "markdown",
   "id": "1411751b",
   "metadata": {},
   "source": [
    "delta\n",
    "\n",
    "$\\delta$\n",
    "$$\\delta$$"
   ]
  },
  {
   "cell_type": "markdown",
   "id": "1402789c",
   "metadata": {},
   "source": [
    "epsilon\n",
    "\n",
    "$\\epsilon$\n",
    "$$\\epsilon$$"
   ]
  },
  {
   "cell_type": "markdown",
   "id": "77ad01c7",
   "metadata": {},
   "source": [
    "zeta\n",
    "\n",
    "$\\zeta$\n",
    "$$\\zeta$$"
   ]
  },
  {
   "cell_type": "markdown",
   "id": "9a8b85ab",
   "metadata": {},
   "source": [
    "eta\n",
    "\n",
    "$\\eta$\n",
    "$$\\eta$$"
   ]
  },
  {
   "cell_type": "markdown",
   "id": "3dd8b519",
   "metadata": {},
   "source": [
    "theta\n",
    "\n",
    "$\\theta$\n",
    "$$\\theta$$"
   ]
  },
  {
   "cell_type": "code",
   "execution_count": null,
   "id": "c39587e7",
   "metadata": {},
   "outputs": [],
   "source": []
  }
 ],
 "metadata": {
  "kernelspec": {
   "display_name": "Python 3",
   "language": "python",
   "name": "python3"
  },
  "language_info": {
   "codemirror_mode": {
    "name": "ipython",
    "version": 3
   },
   "file_extension": ".py",
   "mimetype": "text/x-python",
   "name": "python",
   "nbconvert_exporter": "python",
   "pygments_lexer": "ipython3",
   "version": "3.9.1"
  }
 },
 "nbformat": 4,
 "nbformat_minor": 5
}
