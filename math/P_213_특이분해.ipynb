{
 "cells": [
  {
   "cell_type": "markdown",
   "id": "d41e5add",
   "metadata": {},
   "source": [
    "P 213 파이썬을 사용한 특이값 분해"
   ]
  },
  {
   "cell_type": "code",
   "execution_count": 1,
   "id": "83646a49",
   "metadata": {},
   "outputs": [],
   "source": [
    "from numpy.linalg import svd"
   ]
  },
  {
   "cell_type": "code",
   "execution_count": 13,
   "id": "af456f1d",
   "metadata": {},
   "outputs": [],
   "source": [
    "A = np.array([[3, 1], [1, 3], [1, 1]])\n",
    "\n",
    "# U : 왼쪽특이벡터행렬\n",
    "# S : 대각행렬이 아니라, 특이값이 1차원 배열로 나옴 \n",
    "# VT : 오른쪽 특이 벡터 행렬(Transpose 된 상태)\n",
    "\n",
    "# 축소형으로 구하고 싶으면, svd(A, full_metrices = False)\n",
    "U, S, VT = svd(A)"
   ]
  },
  {
   "cell_type": "code",
   "execution_count": 8,
   "id": "3b89826f",
   "metadata": {},
   "outputs": [
    {
     "data": {
      "text/plain": [
       "array([[-6.66666667e-01,  7.07106781e-01, -2.35702260e-01],\n",
       "       [-6.66666667e-01, -7.07106781e-01, -2.35702260e-01],\n",
       "       [-3.33333333e-01,  5.92577380e-18,  9.42809042e-01]])"
      ]
     },
     "execution_count": 8,
     "metadata": {},
     "output_type": "execute_result"
    }
   ],
   "source": [
    "U"
   ]
  },
  {
   "cell_type": "code",
   "execution_count": 9,
   "id": "1fc76cf6",
   "metadata": {},
   "outputs": [
    {
     "data": {
      "text/plain": [
       "array([4.24264069, 2.        ])"
      ]
     },
     "execution_count": 9,
     "metadata": {},
     "output_type": "execute_result"
    }
   ],
   "source": [
    "S"
   ]
  },
  {
   "cell_type": "code",
   "execution_count": 12,
   "id": "e32efe93",
   "metadata": {},
   "outputs": [
    {
     "data": {
      "text/plain": [
       "array([[4.24264069, 0.        ],\n",
       "       [0.        , 2.        ],\n",
       "       [0.        , 0.        ]])"
      ]
     },
     "execution_count": 12,
     "metadata": {},
     "output_type": "execute_result"
    }
   ],
   "source": [
    "np.diag(S, 1)[:, 1:]"
   ]
  },
  {
   "cell_type": "code",
   "execution_count": 10,
   "id": "37048fcf",
   "metadata": {},
   "outputs": [
    {
     "data": {
      "text/plain": [
       "array([[-0.70710678, -0.70710678],\n",
       "       [ 0.70710678, -0.70710678]])"
      ]
     },
     "execution_count": 10,
     "metadata": {},
     "output_type": "execute_result"
    }
   ],
   "source": [
    "VT"
   ]
  },
  {
   "cell_type": "code",
   "execution_count": null,
   "id": "89857a53",
   "metadata": {},
   "outputs": [],
   "source": []
  },
  {
   "cell_type": "code",
   "execution_count": 14,
   "id": "6af5c68f",
   "metadata": {},
   "outputs": [],
   "source": [
    "B = np.array([[3, 2, 2], [2, 3, -2]])\n",
    "C = np.array([[2, 3], [1, 3], [0, 0], [0, 0]])"
   ]
  },
  {
   "cell_type": "code",
   "execution_count": 40,
   "id": "c82c8efd",
   "metadata": {},
   "outputs": [],
   "source": [
    "U1, S1, VT1 = svd(B, full_matrices=False)\n",
    "U2, S2, VT2 = svd(C)"
   ]
  },
  {
   "cell_type": "code",
   "execution_count": 35,
   "id": "17b6fd3a",
   "metadata": {},
   "outputs": [
    {
     "data": {
      "text/plain": [
       "array([[-0.70710678, -0.70710678],\n",
       "       [-0.70710678,  0.70710678]])"
      ]
     },
     "execution_count": 35,
     "metadata": {},
     "output_type": "execute_result"
    }
   ],
   "source": [
    "U1"
   ]
  },
  {
   "cell_type": "code",
   "execution_count": 37,
   "id": "b98d5659",
   "metadata": {},
   "outputs": [
    {
     "data": {
      "text/plain": [
       "array([[5., 0.],\n",
       "       [0., 3.]])"
      ]
     },
     "execution_count": 37,
     "metadata": {},
     "output_type": "execute_result"
    }
   ],
   "source": [
    "diag_1 = np.diag(S1, 0)\n",
    "# diag_1 = np.append(diag_1, [[0],[0]], axis = 1)\n",
    "diag_1"
   ]
  },
  {
   "cell_type": "code",
   "execution_count": 38,
   "id": "bfbb7944",
   "metadata": {},
   "outputs": [
    {
     "data": {
      "text/plain": [
       "array([[-7.07106781e-01, -7.07106781e-01, -6.47932334e-17],\n",
       "       [-2.35702260e-01,  2.35702260e-01, -9.42809042e-01]])"
      ]
     },
     "execution_count": 38,
     "metadata": {},
     "output_type": "execute_result"
    }
   ],
   "source": [
    "VT1"
   ]
  },
  {
   "cell_type": "code",
   "execution_count": 39,
   "id": "a3b8650b",
   "metadata": {},
   "outputs": [
    {
     "data": {
      "text/plain": [
       "array([[ 3.,  2.,  2.],\n",
       "       [ 2.,  3., -2.]])"
      ]
     },
     "execution_count": 39,
     "metadata": {},
     "output_type": "execute_result"
    }
   ],
   "source": [
    "U1 @ diag_1 @ VT1"
   ]
  },
  {
   "cell_type": "code",
   "execution_count": null,
   "id": "2847307c",
   "metadata": {},
   "outputs": [],
   "source": []
  },
  {
   "cell_type": "code",
   "execution_count": 42,
   "id": "53b1e80c",
   "metadata": {},
   "outputs": [
    {
     "data": {
      "text/plain": [
       "array([[-0.75336353, -0.65760429,  0.        ,  0.        ],\n",
       "       [-0.65760429,  0.75336353,  0.        ,  0.        ],\n",
       "       [ 0.        ,  0.        ,  1.        ,  0.        ],\n",
       "       [ 0.        ,  0.        ,  0.        ,  1.        ]])"
      ]
     },
     "execution_count": 42,
     "metadata": {},
     "output_type": "execute_result"
    }
   ],
   "source": [
    "U2"
   ]
  },
  {
   "cell_type": "code",
   "execution_count": 53,
   "id": "cbb67457",
   "metadata": {},
   "outputs": [
    {
     "data": {
      "text/plain": [
       "array([[4.75413522, 0.        ],\n",
       "       [0.        , 0.63102959],\n",
       "       [0.        , 0.        ],\n",
       "       [0.        , 0.        ]])"
      ]
     },
     "execution_count": 53,
     "metadata": {},
     "output_type": "execute_result"
    }
   ],
   "source": [
    "diag_2 = np.diag(S2)\n",
    "diag_2 = np.append(diag_2,[[0, 0], [0, 0]],axis= 0)\n",
    "diag_2"
   ]
  },
  {
   "cell_type": "code",
   "execution_count": 54,
   "id": "fb62c502",
   "metadata": {},
   "outputs": [
    {
     "data": {
      "text/plain": [
       "array([[-0.45525237, -0.89036244],\n",
       "       [-0.89036244,  0.45525237]])"
      ]
     },
     "execution_count": 54,
     "metadata": {},
     "output_type": "execute_result"
    }
   ],
   "source": [
    "VT2"
   ]
  },
  {
   "cell_type": "code",
   "execution_count": 55,
   "id": "b3a5f43f",
   "metadata": {},
   "outputs": [
    {
     "data": {
      "text/plain": [
       "array([[2., 3.],\n",
       "       [1., 3.],\n",
       "       [0., 0.],\n",
       "       [0., 0.]])"
      ]
     },
     "execution_count": 55,
     "metadata": {},
     "output_type": "execute_result"
    }
   ],
   "source": [
    "U2 @ diag_2 @ VT2"
   ]
  },
  {
   "cell_type": "code",
   "execution_count": null,
   "id": "63706213",
   "metadata": {},
   "outputs": [],
   "source": []
  }
 ],
 "metadata": {
  "kernelspec": {
   "display_name": "Python 3",
   "language": "python",
   "name": "python3"
  },
  "language_info": {
   "codemirror_mode": {
    "name": "ipython",
    "version": 3
   },
   "file_extension": ".py",
   "mimetype": "text/x-python",
   "name": "python",
   "nbconvert_exporter": "python",
   "pygments_lexer": "ipython3",
   "version": "3.9.1"
  }
 },
 "nbformat": 4,
 "nbformat_minor": 5
}
