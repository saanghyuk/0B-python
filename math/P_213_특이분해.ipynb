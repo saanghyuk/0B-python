{
 "cells": [
  {
   "cell_type": "markdown",
   "id": "fc6c738e",
   "metadata": {},
   "source": [
    "P 213 파이썬을 사용한 특이값 분해"
   ]
  },
  {
   "cell_type": "code",
   "execution_count": 1,
   "id": "5c6a8d59",
   "metadata": {},
   "outputs": [],
   "source": [
    "from numpy.linalg import svd"
   ]
  },
  {
   "cell_type": "code",
   "execution_count": 13,
   "id": "af456f1d",
   "metadata": {},
   "outputs": [],
   "source": [
    "A = np.array([[3, 1], [1, 3], [1, 1]])\n",
    "\n",
    "# U : 왼쪽특이벡터행렬\n",
    "# S : 대각행렬이 아니라, 특이값이 1차원 배열로 나옴 \n",
    "# VT : 오른쪽 특이 벡터 행렬(Transpose 된 상태)\n",
    "\n",
    "# 축소형으로 구하고 싶으면, svd(A, full_metrices = False)\n",
    "U, S, VT = svd(A)"
   ]
  },
  {
   "cell_type": "code",
   "execution_count": 8,
   "id": "3b89826f",
   "metadata": {},
   "outputs": [
    {
     "data": {
      "text/plain": [
       "array([[-6.66666667e-01,  7.07106781e-01, -2.35702260e-01],\n",
       "       [-6.66666667e-01, -7.07106781e-01, -2.35702260e-01],\n",
       "       [-3.33333333e-01,  5.92577380e-18,  9.42809042e-01]])"
      ]
     },
     "execution_count": 8,
     "metadata": {},
     "output_type": "execute_result"
    }
   ],
   "source": [
    "U"
   ]
  },
  {
   "cell_type": "code",
   "execution_count": 9,
   "id": "1fc76cf6",
   "metadata": {},
   "outputs": [
    {
     "data": {
      "text/plain": [
       "array([4.24264069, 2.        ])"
      ]
     },
     "execution_count": 9,
     "metadata": {},
     "output_type": "execute_result"
    }
   ],
   "source": [
    "S"
   ]
  },
  {
   "cell_type": "code",
   "execution_count": 12,
   "id": "4f08e0d0",
   "metadata": {},
   "outputs": [
    {
     "data": {
      "text/plain": [
       "array([[4.24264069, 0.        ],\n",
       "       [0.        , 2.        ],\n",
       "       [0.        , 0.        ]])"
      ]
     },
     "execution_count": 12,
     "metadata": {},
     "output_type": "execute_result"
    }
   ],
   "source": [
    "np.diag(S, 1)[:, 1:]"
   ]
  },
  {
   "cell_type": "code",
   "execution_count": 10,
   "id": "dd200219",
   "metadata": {},
   "outputs": [
    {
     "data": {
      "text/plain": [
       "array([[-0.70710678, -0.70710678],\n",
       "       [ 0.70710678, -0.70710678]])"
      ]
     },
     "execution_count": 10,
     "metadata": {},
     "output_type": "execute_result"
    }
   ],
   "source": [
    "VT"
   ]
  },
  {
   "cell_type": "code",
   "execution_count": null,
   "id": "2fe9aa1d",
   "metadata": {},
   "outputs": [],
   "source": []
  },
  {
   "cell_type": "code",
   "execution_count": 14,
   "id": "1bfd0b1a",
   "metadata": {},
   "outputs": [],
   "source": [
    "B = np.array([[3, 2, 2], [2, 3, -2]])\n",
    "C = np.array([[2, 3], [1, 3], [0, 0], [0, 0]])"
   ]
  },
  {
   "cell_type": "code",
   "execution_count": 40,
   "id": "cc5c9425",
   "metadata": {},
   "outputs": [],
   "source": [
    "U1, S1, VT1 = svd(B, full_matrices=False)\n",
    "U2, S2, VT2 = svd(C)"
   ]
  },
  {
   "cell_type": "code",
   "execution_count": 35,
   "id": "8684be62",
   "metadata": {},
   "outputs": [
    {
     "data": {
      "text/plain": [
       "array([[-0.70710678, -0.70710678],\n",
       "       [-0.70710678,  0.70710678]])"
      ]
     },
     "execution_count": 35,
     "metadata": {},
     "output_type": "execute_result"
    }
   ],
   "source": [
    "U1"
   ]
  },
  {
   "cell_type": "code",
   "execution_count": 37,
   "id": "466caff6",
   "metadata": {},
   "outputs": [
    {
     "data": {
      "text/plain": [
       "array([[5., 0.],\n",
       "       [0., 3.]])"
      ]
     },
     "execution_count": 37,
     "metadata": {},
     "output_type": "execute_result"
    }
   ],
   "source": [
    "diag_1 = np.diag(S1, 0)\n",
    "# diag_1 = np.append(diag_1, [[0],[0]], axis = 1)\n",
    "diag_1"
   ]
  },
  {
   "cell_type": "code",
   "execution_count": 38,
   "id": "9408b270",
   "metadata": {},
   "outputs": [
    {
     "data": {
      "text/plain": [
       "array([[-7.07106781e-01, -7.07106781e-01, -6.47932334e-17],\n",
       "       [-2.35702260e-01,  2.35702260e-01, -9.42809042e-01]])"
      ]
     },
     "execution_count": 38,
     "metadata": {},
     "output_type": "execute_result"
    }
   ],
   "source": [
    "VT1"
   ]
  },
  {
   "cell_type": "code",
   "execution_count": 39,
   "id": "1c57f163",
   "metadata": {},
   "outputs": [
    {
     "data": {
      "text/plain": [
       "array([[ 3.,  2.,  2.],\n",
       "       [ 2.,  3., -2.]])"
      ]
     },
     "execution_count": 39,
     "metadata": {},
     "output_type": "execute_result"
    }
   ],
   "source": [
    "U1 @ diag_1 @ VT1"
   ]
  },
  {
   "cell_type": "code",
   "execution_count": null,
   "id": "c128cc1d",
   "metadata": {},
   "outputs": [],
   "source": []
  },
  {
   "cell_type": "code",
   "execution_count": 42,
   "id": "9a781f6e",
   "metadata": {},
   "outputs": [
    {
     "data": {
      "text/plain": [
       "array([[-0.75336353, -0.65760429,  0.        ,  0.        ],\n",
       "       [-0.65760429,  0.75336353,  0.        ,  0.        ],\n",
       "       [ 0.        ,  0.        ,  1.        ,  0.        ],\n",
       "       [ 0.        ,  0.        ,  0.        ,  1.        ]])"
      ]
     },
     "execution_count": 42,
     "metadata": {},
     "output_type": "execute_result"
    }
   ],
   "source": [
    "U2"
   ]
  },
  {
   "cell_type": "code",
   "execution_count": 53,
   "id": "10e11156",
   "metadata": {},
   "outputs": [
    {
     "data": {
      "text/plain": [
       "array([[4.75413522, 0.        ],\n",
       "       [0.        , 0.63102959],\n",
       "       [0.        , 0.        ],\n",
       "       [0.        , 0.        ]])"
      ]
     },
     "execution_count": 53,
     "metadata": {},
     "output_type": "execute_result"
    }
   ],
   "source": [
    "diag_2 = np.diag(S2)\n",
    "diag_2 = np.append(diag_2,[[0, 0], [0, 0]],axis= 0)\n",
    "diag_2"
   ]
  },
  {
   "cell_type": "code",
   "execution_count": 54,
   "id": "c129f0f2",
   "metadata": {},
   "outputs": [
    {
     "data": {
      "text/plain": [
       "array([[-0.45525237, -0.89036244],\n",
       "       [-0.89036244,  0.45525237]])"
      ]
     },
     "execution_count": 54,
     "metadata": {},
     "output_type": "execute_result"
    }
   ],
   "source": [
    "VT2"
   ]
  },
  {
   "cell_type": "code",
   "execution_count": 55,
   "id": "e2662f25",
   "metadata": {},
   "outputs": [
    {
     "data": {
      "text/plain": [
       "array([[2., 3.],\n",
       "       [1., 3.],\n",
       "       [0., 0.],\n",
       "       [0., 0.]])"
      ]
     },
     "execution_count": 55,
     "metadata": {},
     "output_type": "execute_result"
    }
   ],
   "source": [
    "U2 @ diag_2 @ VT2"
   ]
  },
  {
   "cell_type": "code",
   "execution_count": null,
   "id": "5f143492",
   "metadata": {},
   "outputs": [],
   "source": []
  }
 ],
 "metadata": {
  "kernelspec": {
   "display_name": "Python 3",
   "language": "python",
   "name": "python3"
  },
  "language_info": {
   "codemirror_mode": {
    "name": "ipython",
    "version": 3
   },
   "file_extension": ".py",
   "mimetype": "text/x-python",
   "name": "python",
   "nbconvert_exporter": "python",
   "pygments_lexer": "ipython3",
   "version": "3.6.13"
  }
 },
 "nbformat": 4,
 "nbformat_minor": 5
}
