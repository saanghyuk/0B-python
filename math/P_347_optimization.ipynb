{
 "cells": [
  {
   "cell_type": "markdown",
   "id": "8747acb3",
   "metadata": {},
   "source": [
    "### 최적화"
   ]
  },
  {
   "cell_type": "code",
   "execution_count": 1,
   "id": "e03be849",
   "metadata": {},
   "outputs": [],
   "source": [
    "# 목적함수\n",
    "def f1(x):\n",
    "    return (x - 2) ** 2 + 2"
   ]
  },
  {
   "cell_type": "code",
   "execution_count": 2,
   "id": "426b3680",
   "metadata": {},
   "outputs": [],
   "source": [
    "x0 = 0"
   ]
  },
  {
   "cell_type": "code",
   "execution_count": 4,
   "id": "37cf494e",
   "metadata": {},
   "outputs": [
    {
     "name": "stdout",
     "output_type": "stream",
     "text": [
      "      fun: 2.0\n",
      " hess_inv: array([[0.5]])\n",
      "      jac: array([0.])\n",
      "  message: 'Optimization terminated successfully.'\n",
      "     nfev: 6\n",
      "      nit: 2\n",
      "     njev: 3\n",
      "   status: 0\n",
      "  success: True\n",
      "        x: array([1.99999999])\n"
     ]
    }
   ],
   "source": [
    "result = sp.optimize.minimize(f1, x0)\n",
    "print(result)"
   ]
  },
  {
   "cell_type": "code",
   "execution_count": null,
   "id": "e5cdaf24",
   "metadata": {},
   "outputs": [],
   "source": []
  },
  {
   "cell_type": "code",
   "execution_count": 5,
   "id": "fec0e2e5",
   "metadata": {},
   "outputs": [],
   "source": [
    "def f1p(x):\n",
    "    return 2*(x-2)"
   ]
  },
  {
   "cell_type": "code",
   "execution_count": 7,
   "id": "412ab143",
   "metadata": {},
   "outputs": [
    {
     "data": {
      "text/plain": [
       "      fun: 2.0\n",
       " hess_inv: array([[0.5]])\n",
       "      jac: array([0.])\n",
       "  message: 'Optimization terminated successfully.'\n",
       "     nfev: 3\n",
       "      nit: 2\n",
       "     njev: 3\n",
       "   status: 0\n",
       "  success: True\n",
       "        x: array([2.])"
      ]
     },
     "execution_count": 7,
     "metadata": {},
     "output_type": "execute_result"
    }
   ],
   "source": [
    "result = sp.optimize.minimize(f1, x0, jac = f1p)\n",
    "result"
   ]
  },
  {
   "cell_type": "code",
   "execution_count": null,
   "id": "9544525d",
   "metadata": {},
   "outputs": [],
   "source": []
  },
  {
   "cell_type": "markdown",
   "id": "1660a175",
   "metadata": {},
   "source": [
    "### 다변수인 경우"
   ]
  },
  {
   "cell_type": "code",
   "execution_count": 8,
   "id": "2ecccd13",
   "metadata": {
    "scrolled": true
   },
   "outputs": [
    {
     "name": "stdout",
     "output_type": "stream",
     "text": [
      "      fun: 1.2197702024999478e-11\n",
      " hess_inv: array([[0.50957143, 1.01994476],\n",
      "       [1.01994476, 2.04656074]])\n",
      "      jac: array([ 9.66714798e-05, -4.64005023e-05])\n",
      "  message: 'Desired error not necessarily achieved due to precision loss.'\n",
      "     nfev: 342\n",
      "      nit: 57\n",
      "     njev: 110\n",
      "   status: 2\n",
      "  success: False\n",
      "        x: array([0.99999746, 0.99999468])\n"
     ]
    }
   ],
   "source": [
    "def f2(x):\n",
    "    return (1 - x[0])**2 + 100.0 * (x[1] - x[0]**2)**2\n",
    "\n",
    "x0 = (-2, -2)\n",
    "result = sp.optimize.minimize(f2, x0)\n",
    "print(result)"
   ]
  },
  {
   "cell_type": "code",
   "execution_count": null,
   "id": "9f8bbad7",
   "metadata": {},
   "outputs": [],
   "source": []
  },
  {
   "cell_type": "markdown",
   "id": "ce43bc8a",
   "metadata": {},
   "source": [
    "#### 연습문제 5.1.1."
   ]
  },
  {
   "cell_type": "code",
   "execution_count": 9,
   "id": "1ccbfc72",
   "metadata": {},
   "outputs": [
    {
     "name": "stdout",
     "output_type": "stream",
     "text": [
      "      fun: 2.8439854262904333e-11\n",
      " hess_inv: array([[0.49482461, 0.98957648],\n",
      "       [0.98957648, 1.98394242]])\n",
      "      jac: array([ 3.98678486e-06, -2.84414614e-06])\n",
      "  message: 'Optimization terminated successfully.'\n",
      "     nfev: 72\n",
      "      nit: 19\n",
      "     njev: 24\n",
      "   status: 0\n",
      "  success: True\n",
      "        x: array([0.99999467, 0.99998932])\n"
     ]
    }
   ],
   "source": [
    "x0 = (0, 0)\n",
    "result = sp.optimize.minimize(f2, x0)\n",
    "print(result)"
   ]
  },
  {
   "cell_type": "markdown",
   "id": "d5463c79",
   "metadata": {},
   "source": [
    "로젠브록 함수의 gradient vector 넣어보기. "
   ]
  },
  {
   "cell_type": "code",
   "execution_count": null,
   "id": "9662cc1d",
   "metadata": {},
   "outputs": [],
   "source": []
  },
  {
   "cell_type": "code",
   "execution_count": 10,
   "id": "cb1acbc4",
   "metadata": {},
   "outputs": [],
   "source": [
    "def j_f2(x):\n",
    "    return np.array([2*x[0]-2-400*x[0]*x[1]+400*x[0]**3, 200*x[1] - 200*x[0]**2])"
   ]
  },
  {
   "cell_type": "code",
   "execution_count": 13,
   "id": "d0c5e107",
   "metadata": {},
   "outputs": [
    {
     "name": "stdout",
     "output_type": "stream",
     "text": [
      "      fun: 7.7172888987925e-13\n",
      " hess_inv: array([[0.49480256, 0.98953879],\n",
      "       [0.98953879, 1.98387918]])\n",
      "      jac: array([ 3.92841196e-06, -2.83120875e-06])\n",
      "  message: 'Optimization terminated successfully.'\n",
      "     nfev: 24\n",
      "      nit: 19\n",
      "     njev: 24\n",
      "   status: 0\n",
      "  success: True\n",
      "        x: array([0.99999913, 0.99999825])\n"
     ]
    }
   ],
   "source": [
    "x0 = (0, 0)\n",
    "result = sp.optimize.minimize(f2, x0, jac = j_f2)\n",
    "print(result)"
   ]
  },
  {
   "cell_type": "code",
   "execution_count": null,
   "id": "2c9ed567",
   "metadata": {},
   "outputs": [],
   "source": []
  },
  {
   "cell_type": "code",
   "execution_count": null,
   "id": "93dd3754",
   "metadata": {},
   "outputs": [],
   "source": []
  },
  {
   "cell_type": "code",
   "execution_count": null,
   "id": "f10f63ff",
   "metadata": {},
   "outputs": [],
   "source": []
  },
  {
   "cell_type": "markdown",
   "id": "df9e6904",
   "metadata": {},
   "source": [
    "### with contrasint"
   ]
  },
  {
   "cell_type": "code",
   "execution_count": 14,
   "id": "ff31b4d2",
   "metadata": {},
   "outputs": [
    {
     "name": "stdout",
     "output_type": "stream",
     "text": [
      "Optimization terminated successfully    (Exit mode 0)\n",
      "            Current function value: 0.5000000000000002\n",
      "            Iterations: 2\n",
      "            Function evaluations: 6\n",
      "            Gradient evaluations: 2\n"
     ]
    },
    {
     "data": {
      "text/plain": [
       "array([0.5, 0.5])"
      ]
     },
     "execution_count": 14,
     "metadata": {},
     "output_type": "execute_result"
    }
   ],
   "source": [
    "def f1array(x):\n",
    "    return x[0] ** 2 + x[1] ** 2\n",
    "\n",
    "\n",
    "def eq_constraint(x):\n",
    "    return x[0] + x[1] - 1\n",
    "\n",
    "\n",
    "sp.optimize.fmin_slsqp(f1array, np.array([1, 1]), eqcons=[eq_constraint])"
   ]
  },
  {
   "cell_type": "code",
   "execution_count": null,
   "id": "3e226bc1",
   "metadata": {},
   "outputs": [],
   "source": []
  }
 ],
 "metadata": {
  "kernelspec": {
   "display_name": "Python 3",
   "language": "python",
   "name": "python3"
  },
  "language_info": {
   "codemirror_mode": {
    "name": "ipython",
    "version": 3
   },
   "file_extension": ".py",
   "mimetype": "text/x-python",
   "name": "python",
   "nbconvert_exporter": "python",
   "pygments_lexer": "ipython3",
   "version": "3.9.1"
  }
 },
 "nbformat": 4,
 "nbformat_minor": 5
}
