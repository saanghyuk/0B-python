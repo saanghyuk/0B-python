{
 "cells": [
  {
   "cell_type": "code",
   "execution_count": 1,
   "id": "a99d460c",
   "metadata": {},
   "outputs": [],
   "source": [
    "# 기본 starter file 설정\n",
    "# import numpy as np\n",
    "# import scipy as sp\n",
    "# import pandas as pd\n",
    "# import matplotlib.pylab as plt\n",
    "# import seaborn as sns\n",
    "# import sklearn as sk\n",
    "# import statsmodels.api as sm"
   ]
  },
  {
   "cell_type": "code",
   "execution_count": 10,
   "id": "78f7ec8b",
   "metadata": {},
   "outputs": [
    {
     "data": {
      "text/plain": [
       "<module 'matplotlib.pyplot' from '/Users/sanghyuk/anaconda/envs/py39/lib/python3.9/site-packages/matplotlib/pyplot.py'>"
      ]
     },
     "execution_count": 10,
     "metadata": {},
     "output_type": "execute_result"
    }
   ],
   "source": [
    "plt"
   ]
  },
  {
   "cell_type": "code",
   "execution_count": null,
   "id": "8fd24e84",
   "metadata": {},
   "outputs": [],
   "source": []
  }
 ],
 "metadata": {
  "kernelspec": {
   "display_name": "Python 3",
   "language": "python",
   "name": "python3"
  },
  "language_info": {
   "codemirror_mode": {
    "name": "ipython",
    "version": 3
   },
   "file_extension": ".py",
   "mimetype": "text/x-python",
   "name": "python",
   "nbconvert_exporter": "python",
   "pygments_lexer": "ipython3",
   "version": "3.9.1"
  }
 },
 "nbformat": 4,
 "nbformat_minor": 5
}
