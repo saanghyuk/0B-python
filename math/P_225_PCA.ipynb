{
 "cells": [
  {
   "cell_type": "code",
   "execution_count": null,
   "id": "942519ec",
   "metadata": {},
   "outputs": [],
   "source": []
  },
  {
   "cell_type": "code",
   "execution_count": 6,
   "id": "e7f44ac6",
   "metadata": {},
   "outputs": [],
   "source": [
    "from sklearn.datasets import load_iris"
   ]
  },
  {
   "cell_type": "code",
   "execution_count": 7,
   "id": "f659453e",
   "metadata": {},
   "outputs": [],
   "source": [
    "iris = load_iris()"
   ]
  },
  {
   "cell_type": "code",
   "execution_count": 10,
   "id": "d7b47cb1",
   "metadata": {},
   "outputs": [],
   "source": [
    "# 앞에 10송이만 선택, 컬럼 2개 선택\n",
    "# 꽃받침 길이 & 꽃받침 폭\n",
    "N = 10\n",
    "X = iris.data[:N, :2]"
   ]
  },
  {
   "cell_type": "code",
   "execution_count": 11,
   "id": "8e3032e4",
   "metadata": {},
   "outputs": [
    {
     "data": {
      "text/plain": [
       "array([[5.1, 3.5],\n",
       "       [4.9, 3. ],\n",
       "       [4.7, 3.2],\n",
       "       [4.6, 3.1],\n",
       "       [5. , 3.6],\n",
       "       [5.4, 3.9],\n",
       "       [4.6, 3.4],\n",
       "       [5. , 3.4],\n",
       "       [4.4, 2.9],\n",
       "       [4.9, 3.1]])"
      ]
     },
     "execution_count": 11,
     "metadata": {},
     "output_type": "execute_result"
    }
   ],
   "source": [
    "X"
   ]
  },
  {
   "cell_type": "code",
   "execution_count": null,
   "id": "6a930823",
   "metadata": {},
   "outputs": [],
   "source": []
  },
  {
   "cell_type": "code",
   "execution_count": 12,
   "id": "29c4f671",
   "metadata": {},
   "outputs": [],
   "source": [
    "from sklearn.decomposition import PCA"
   ]
  },
  {
   "cell_type": "code",
   "execution_count": 15,
   "id": "3c628669",
   "metadata": {},
   "outputs": [],
   "source": [
    "pca1 = PCA(n_components=1) # 1차원으로 축소시키는 PCA 객체\n",
    "\n",
    "# # 10개짜리 1차원 데이터\n",
    "# 근데 왜 음수가 나오는가? 원점을 데이터 평균으로 옮기기로 했잖아. \n",
    "X_low = pca1.fit_transform(X) \n",
    "\n",
    "# 10개짜리 2차원 데이터\n",
    "x2 = pca1.inverse_transform(X_low) "
   ]
  },
  {
   "cell_type": "code",
   "execution_count": 16,
   "id": "fd8841a6",
   "metadata": {},
   "outputs": [
    {
     "data": {
      "text/plain": [
       "array([[ 0.30270263],\n",
       "       [-0.1990931 ],\n",
       "       [-0.18962889],\n",
       "       [-0.33097106],\n",
       "       [ 0.30743473],\n",
       "       [ 0.79976625],\n",
       "       [-0.11185966],\n",
       "       [ 0.16136046],\n",
       "       [-0.61365539],\n",
       "       [-0.12605597]])"
      ]
     },
     "execution_count": 16,
     "metadata": {},
     "output_type": "execute_result"
    }
   ],
   "source": [
    "X_low"
   ]
  },
  {
   "cell_type": "code",
   "execution_count": 17,
   "id": "20ecf322",
   "metadata": {},
   "outputs": [
    {
     "data": {
      "text/plain": [
       "array([[5.06676112, 3.53108532],\n",
       "       [4.7240094 , 3.1645881 ],\n",
       "       [4.73047393, 3.17150049],\n",
       "       [4.63393012, 3.06826822],\n",
       "       [5.06999338, 3.53454152],\n",
       "       [5.40628057, 3.89412635],\n",
       "       [4.78359423, 3.22830091],\n",
       "       [4.97021731, 3.42785306],\n",
       "       [4.44084251, 2.86180369],\n",
       "       [4.77389743, 3.21793233]])"
      ]
     },
     "execution_count": 17,
     "metadata": {},
     "output_type": "execute_result"
    }
   ],
   "source": [
    "# 원래 데이터랑 비교하면 살짝 차이 남. \n",
    "# 비슷하긴 함. \n",
    "x2"
   ]
  },
  {
   "cell_type": "code",
   "execution_count": 18,
   "id": "5f63082b",
   "metadata": {},
   "outputs": [
    {
     "data": {
      "text/plain": [
       "array([4.86, 3.31])"
      ]
     },
     "execution_count": 18,
     "metadata": {},
     "output_type": "execute_result"
    }
   ],
   "source": [
    "# 새로운 원점\n",
    "pca1.mean_"
   ]
  },
  {
   "cell_type": "code",
   "execution_count": 19,
   "id": "ea1cdea1",
   "metadata": {},
   "outputs": [
    {
     "data": {
      "text/plain": [
       "array([[0.68305029, 0.73037134]])"
      ]
     },
     "execution_count": 19,
     "metadata": {},
     "output_type": "execute_result"
    }
   ],
   "source": [
    "# 새로운 기저벡터의 방향을 나타내는 단위벡터\n",
    "# 이게 바로 X의 오른쪽 특이벡터의 가장 첫번째 벡터\n",
    "pca1.components_"
   ]
  },
  {
   "cell_type": "code",
   "execution_count": null,
   "id": "8d3416c8",
   "metadata": {},
   "outputs": [],
   "source": []
  },
  {
   "cell_type": "code",
   "execution_count": 24,
   "id": "fffaa4f2",
   "metadata": {},
   "outputs": [
    {
     "data": {
      "text/plain": [
       "array([[5.1, 3.5],\n",
       "       [4.9, 3. ],\n",
       "       [4.7, 3.2],\n",
       "       [4.6, 3.1],\n",
       "       [5. , 3.6],\n",
       "       [5.4, 3.9],\n",
       "       [4.6, 3.4],\n",
       "       [5. , 3.4],\n",
       "       [4.4, 2.9],\n",
       "       [4.9, 3.1]])"
      ]
     },
     "execution_count": 24,
     "metadata": {},
     "output_type": "execute_result"
    }
   ],
   "source": [
    "X"
   ]
  },
  {
   "cell_type": "code",
   "execution_count": 23,
   "id": "cde65fc8",
   "metadata": {},
   "outputs": [
    {
     "data": {
      "text/plain": [
       "array([4.86, 3.31])"
      ]
     },
     "execution_count": 23,
     "metadata": {},
     "output_type": "execute_result"
    }
   ],
   "source": [
    "X.mean(axis = 0 )"
   ]
  },
  {
   "cell_type": "code",
   "execution_count": 22,
   "id": "ce792279",
   "metadata": {},
   "outputs": [
    {
     "data": {
      "text/plain": [
       "array([[-0.68305029, -0.73037134],\n",
       "       [-0.73037134,  0.68305029]])"
      ]
     },
     "execution_count": 22,
     "metadata": {},
     "output_type": "execute_result"
    }
   ],
   "source": [
    "# 실제로 오른쪽 특이벡터의 첫번째 벡터가 나오네(현재 T상태니깐)\n",
    "X0 = X- X.mean(axis = 0 )\n",
    "U, S, VT = np.linalg.svd(X0)\n",
    "VT"
   ]
  },
  {
   "cell_type": "code",
   "execution_count": null,
   "id": "f4dfa8bf",
   "metadata": {},
   "outputs": [],
   "source": []
  },
  {
   "cell_type": "code",
   "execution_count": 28,
   "id": "0e300c51",
   "metadata": {},
   "outputs": [
    {
     "data": {
      "text/plain": [
       "array([[-0.73037134, -0.68305029],\n",
       "       [ 0.68305029, -0.73037134]])"
      ]
     },
     "execution_count": 28,
     "metadata": {},
     "output_type": "execute_result"
    }
   ],
   "source": [
    "XCOV = X0.T @ X0\n",
    "W, V = np.linalg.eig(XCOV)\n",
    "V"
   ]
  },
  {
   "cell_type": "code",
   "execution_count": null,
   "id": "ade9b4cb",
   "metadata": {},
   "outputs": [],
   "source": []
  },
  {
   "cell_type": "markdown",
   "id": "b810f8e4",
   "metadata": {},
   "source": [
    "### 3.5.1 연습문제"
   ]
  },
  {
   "cell_type": "code",
   "execution_count": 30,
   "id": "f2280886",
   "metadata": {},
   "outputs": [],
   "source": [
    "from sklearn.datasets import load_iris"
   ]
  },
  {
   "cell_type": "code",
   "execution_count": 29,
   "id": "a20a23df",
   "metadata": {},
   "outputs": [],
   "source": [
    "iris = load_iris()"
   ]
  },
  {
   "cell_type": "code",
   "execution_count": 44,
   "id": "3b54a698",
   "metadata": {},
   "outputs": [],
   "source": [
    "# 앞에 10송이만 선택, 컬럼 2개 선택\n",
    "# 꽃받침 길이 & 꽃받침 폭\n",
    "N = 10\n",
    "X = iris.data[:N, :]"
   ]
  },
  {
   "cell_type": "code",
   "execution_count": 45,
   "id": "cdbb197e",
   "metadata": {},
   "outputs": [
    {
     "data": {
      "text/plain": [
       "array([[5.1, 3.5, 1.4, 0.2],\n",
       "       [4.9, 3. , 1.4, 0.2],\n",
       "       [4.7, 3.2, 1.3, 0.2],\n",
       "       [4.6, 3.1, 1.5, 0.2],\n",
       "       [5. , 3.6, 1.4, 0.2],\n",
       "       [5.4, 3.9, 1.7, 0.4],\n",
       "       [4.6, 3.4, 1.4, 0.3],\n",
       "       [5. , 3.4, 1.5, 0.2],\n",
       "       [4.4, 2.9, 1.4, 0.2],\n",
       "       [4.9, 3.1, 1.5, 0.1]])"
      ]
     },
     "execution_count": 45,
     "metadata": {},
     "output_type": "execute_result"
    }
   ],
   "source": [
    "X"
   ]
  },
  {
   "cell_type": "code",
   "execution_count": 46,
   "id": "0e3d8cbf",
   "metadata": {},
   "outputs": [],
   "source": [
    "pca1 = PCA(n_components=1) # 1차원으로 축소시키는 PCA 객체\n",
    "\n",
    "# # 10개짜리 1차원 데이터\n",
    "# 근데 왜 음수가 나오는가? 원점을 데이터 평균으로 옮기기로 했잖아. \n",
    "X_low = pca1.fit_transform(X) \n",
    "\n",
    "# 실제 4차원 상에서 어떤 값들에 해당되는지\n",
    "x2 = pca1.inverse_transform(X_low) "
   ]
  },
  {
   "cell_type": "code",
   "execution_count": 47,
   "id": "beff6278",
   "metadata": {},
   "outputs": [
    {
     "data": {
      "text/plain": [
       "array([[ 0.28600351],\n",
       "       [-0.20593593],\n",
       "       [-0.21267237],\n",
       "       [-0.31826466],\n",
       "       [ 0.29085585],\n",
       "       [ 0.84524522],\n",
       "       [-0.10829984],\n",
       "       [ 0.16397009],\n",
       "       [-0.61165489],\n",
       "       [-0.12924697]])"
      ]
     },
     "execution_count": 47,
     "metadata": {},
     "output_type": "execute_result"
    }
   ],
   "source": [
    "X_low"
   ]
  },
  {
   "cell_type": "code",
   "execution_count": 48,
   "id": "0de7fb66",
   "metadata": {},
   "outputs": [
    {
     "data": {
      "text/plain": [
       "array([[5.0510821 , 3.51495998, 1.4970222 , 0.25264906],\n",
       "       [4.72241193, 3.16241921, 1.41614181, 0.19649115],\n",
       "       [4.71791125, 3.15759165, 1.41503426, 0.19572214],\n",
       "       [4.64736387, 3.08192057, 1.3976737 , 0.18366814],\n",
       "       [5.054324  , 3.51843733, 1.49781998, 0.25320298],\n",
       "       [5.42471764, 3.91573186, 1.58896784, 0.31648993],\n",
       "       [4.78764369, 3.2323886 , 1.43219429, 0.20763691],\n",
       "       [4.96955022, 3.42750662, 1.47695853, 0.23871819],\n",
       "       [4.45134663, 2.87166702, 1.34943704, 0.15017584],\n",
       "       [4.77364867, 3.21737716, 1.42875034, 0.20524567]])"
      ]
     },
     "execution_count": 48,
     "metadata": {},
     "output_type": "execute_result"
    }
   ],
   "source": [
    "x2"
   ]
  },
  {
   "cell_type": "code",
   "execution_count": 49,
   "id": "51332273",
   "metadata": {},
   "outputs": [
    {
     "data": {
      "text/plain": [
       "array([4.86, 3.31, 1.45, 0.22])"
      ]
     },
     "execution_count": 49,
     "metadata": {},
     "output_type": "execute_result"
    }
   ],
   "source": [
    "# 원점(원래 관점에서 본)\n",
    "pca1.mean_"
   ]
  },
  {
   "cell_type": "code",
   "execution_count": 52,
   "id": "b070eae4",
   "metadata": {},
   "outputs": [
    {
     "data": {
      "text/plain": [
       "array([[0.66811102, 0.71663448, 0.16441128, 0.11415614]])"
      ]
     },
     "execution_count": 52,
     "metadata": {},
     "output_type": "execute_result"
    }
   ],
   "source": [
    "# W의 방향(원래 관점엣)\n",
    "pca1.components_"
   ]
  },
  {
   "cell_type": "code",
   "execution_count": 50,
   "id": "d7a0eca8",
   "metadata": {},
   "outputs": [
    {
     "data": {
      "text/plain": [
       "array([[-0.66811102, -0.71663448, -0.16441128, -0.11415614],\n",
       "       [ 0.70647649, -0.64270361,  0.11898477, -0.27141419],\n",
       "       [-0.1402659 , -0.13565029,  0.91363679,  0.35664028],\n",
       "       [-0.18666579,  0.23444848,  0.35224902, -0.88662868]])"
      ]
     },
     "execution_count": 50,
     "metadata": {},
     "output_type": "execute_result"
    }
   ],
   "source": [
    "X0 = X - X.mean(axis = 0)\n",
    "U, S, VT = np.linalg.svd(X0)\n",
    "VT"
   ]
  },
  {
   "cell_type": "code",
   "execution_count": null,
   "id": "ef468751",
   "metadata": {},
   "outputs": [],
   "source": []
  }
 ],
 "metadata": {
  "kernelspec": {
   "display_name": "Python 3",
   "language": "python",
   "name": "python3"
  },
  "language_info": {
   "codemirror_mode": {
    "name": "ipython",
    "version": 3
   },
   "file_extension": ".py",
   "mimetype": "text/x-python",
   "name": "python",
   "nbconvert_exporter": "python",
   "pygments_lexer": "ipython3",
   "version": "3.6.13"
  }
 },
 "nbformat": 4,
 "nbformat_minor": 5
}
