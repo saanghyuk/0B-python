{
 "cells": [
  {
   "cell_type": "code",
   "execution_count": 1,
   "id": "20b24dfb",
   "metadata": {},
   "outputs": [],
   "source": [
    "import sympy"
   ]
  },
  {
   "cell_type": "code",
   "execution_count": 3,
   "id": "b0d8fca4",
   "metadata": {},
   "outputs": [],
   "source": [
    "sympy.init_printing(use_latex='mathjax')"
   ]
  },
  {
   "cell_type": "code",
   "execution_count": null,
   "id": "8de9e172",
   "metadata": {},
   "outputs": [],
   "source": []
  },
  {
   "cell_type": "code",
   "execution_count": 4,
   "id": "9f2ac62e",
   "metadata": {},
   "outputs": [],
   "source": [
    "x = sympy.symbols('x')"
   ]
  },
  {
   "cell_type": "code",
   "execution_count": 5,
   "id": "e3474c5b",
   "metadata": {},
   "outputs": [
    {
     "data": {
      "text/plain": [
       "sympy.core.symbol.Symbol"
      ]
     },
     "execution_count": 5,
     "metadata": {},
     "output_type": "execute_result"
    }
   ],
   "source": [
    "type(x)"
   ]
  },
  {
   "cell_type": "code",
   "execution_count": 7,
   "id": "612494fe",
   "metadata": {},
   "outputs": [
    {
     "data": {
      "text/latex": [
       "$\\displaystyle x e^{x}$"
      ],
      "text/plain": [
       "   x\n",
       "x⋅ℯ "
      ]
     },
     "execution_count": 7,
     "metadata": {},
     "output_type": "execute_result"
    }
   ],
   "source": [
    "f = x * sympy.exp(x)\n",
    "f"
   ]
  },
  {
   "cell_type": "markdown",
   "id": "c913a99f",
   "metadata": {},
   "source": [
    "자동 미분"
   ]
  },
  {
   "cell_type": "code",
   "execution_count": 8,
   "id": "52357f1d",
   "metadata": {},
   "outputs": [
    {
     "data": {
      "text/latex": [
       "$\\displaystyle x e^{x} + e^{x}$"
      ],
      "text/plain": [
       "   x    x\n",
       "x⋅ℯ  + ℯ "
      ]
     },
     "execution_count": 8,
     "metadata": {},
     "output_type": "execute_result"
    }
   ],
   "source": [
    "sympy.diff(f)"
   ]
  },
  {
   "cell_type": "code",
   "execution_count": 10,
   "id": "79319942",
   "metadata": {},
   "outputs": [
    {
     "data": {
      "text/latex": [
       "$\\displaystyle \\left(x + 1\\right) e^{x}$"
      ],
      "text/plain": [
       "         x\n",
       "(x + 1)⋅ℯ "
      ]
     },
     "execution_count": 10,
     "metadata": {},
     "output_type": "execute_result"
    }
   ],
   "source": [
    "# 인수분해 까지도 해줌\n",
    "sympy.simplify(sympy.diff(f))"
   ]
  },
  {
   "cell_type": "code",
   "execution_count": null,
   "id": "deaf8d46",
   "metadata": {},
   "outputs": [],
   "source": []
  },
  {
   "cell_type": "code",
   "execution_count": 12,
   "id": "1b2112fb",
   "metadata": {},
   "outputs": [
    {
     "data": {
      "text/latex": [
       "$\\displaystyle x^{2} + 4 x y + 16$"
      ],
      "text/plain": [
       " 2             \n",
       "x  + 4⋅x⋅y + 16"
      ]
     },
     "execution_count": 12,
     "metadata": {},
     "output_type": "execute_result"
    }
   ],
   "source": [
    "x, y = sympy.symbols('x y')\n",
    "f = x**2 + 4 * x * y + 4**2\n",
    "f"
   ]
  },
  {
   "cell_type": "code",
   "execution_count": 14,
   "id": "63471952",
   "metadata": {},
   "outputs": [
    {
     "data": {
      "text/latex": [
       "$\\displaystyle 2 x + 4 y$"
      ],
      "text/plain": [
       "2⋅x + 4⋅y"
      ]
     },
     "execution_count": 14,
     "metadata": {},
     "output_type": "execute_result"
    }
   ],
   "source": [
    "# x 편미분\n",
    "sympy.diff(f, x)"
   ]
  },
  {
   "cell_type": "code",
   "execution_count": 15,
   "id": "daa567c5",
   "metadata": {},
   "outputs": [
    {
     "data": {
      "text/latex": [
       "$\\displaystyle 4 x$"
      ],
      "text/plain": [
       "4⋅x"
      ]
     },
     "execution_count": 15,
     "metadata": {},
     "output_type": "execute_result"
    }
   ],
   "source": [
    "# y 편미분\n",
    "sympy.diff(f, y)"
   ]
  },
  {
   "cell_type": "code",
   "execution_count": null,
   "id": "e117ead5",
   "metadata": {},
   "outputs": [],
   "source": []
  },
  {
   "cell_type": "code",
   "execution_count": 17,
   "id": "5ba3fb72",
   "metadata": {},
   "outputs": [
    {
     "data": {
      "text/latex": [
       "$\\displaystyle e^{\\frac{\\left(- \\mu + x\\right)^{2}}{\\sigma^{2}}}$"
      ],
      "text/plain": [
       "         2\n",
       " (-μ + x) \n",
       " ─────────\n",
       "      2   \n",
       "     σ    \n",
       "ℯ         "
      ]
     },
     "execution_count": 17,
     "metadata": {},
     "output_type": "execute_result"
    }
   ],
   "source": [
    "x, mu, sigma = sympy.symbols('x mu sigma')\n",
    "f = sympy.exp((x-mu)**2 / sigma**2)\n",
    "f"
   ]
  },
  {
   "cell_type": "code",
   "execution_count": 19,
   "id": "2a81f537",
   "metadata": {},
   "outputs": [
    {
     "data": {
      "text/latex": [
       "$\\displaystyle \\frac{\\left(- 2 \\mu + 2 x\\right) e^{\\frac{\\left(- \\mu + x\\right)^{2}}{\\sigma^{2}}}}{\\sigma^{2}}$"
      ],
      "text/plain": [
       "                      2\n",
       "              (-μ + x) \n",
       "              ─────────\n",
       "                   2   \n",
       "                  σ    \n",
       "(-2⋅μ + 2⋅x)⋅ℯ         \n",
       "───────────────────────\n",
       "            2          \n",
       "           σ           "
      ]
     },
     "execution_count": 19,
     "metadata": {},
     "output_type": "execute_result"
    }
   ],
   "source": [
    "# 사람이면 당연히 X가 변수라고 생각했는데, \n",
    "# 컴퓨터 입장에서는 mu, sigma, x 다 변수라고 받아들이고 있음. \n",
    "# 편견이 없는 컴퓨터. 그래서 여기서도 변수 써줘야함. 심볼이 하나 이상 있으면\n",
    "sympy.diff(f, x)"
   ]
  },
  {
   "cell_type": "code",
   "execution_count": 20,
   "id": "d2c870a2",
   "metadata": {},
   "outputs": [
    {
     "data": {
      "text/latex": [
       "$\\displaystyle \\frac{2 \\left(- \\mu + x\\right) e^{\\frac{\\left(\\mu - x\\right)^{2}}{\\sigma^{2}}}}{\\sigma^{2}}$"
      ],
      "text/plain": [
       "                   2\n",
       "            (μ - x) \n",
       "            ────────\n",
       "                2   \n",
       "               σ    \n",
       "2⋅(-μ + x)⋅ℯ        \n",
       "────────────────────\n",
       "          2         \n",
       "         σ          "
      ]
     },
     "execution_count": 20,
     "metadata": {},
     "output_type": "execute_result"
    }
   ],
   "source": [
    "sympy.simplify(sympy.diff(f, x))"
   ]
  },
  {
   "cell_type": "code",
   "execution_count": 22,
   "id": "89c2b537",
   "metadata": {},
   "outputs": [
    {
     "data": {
      "text/latex": [
       "$\\displaystyle \\frac{2 \\left(1 + \\frac{2 \\left(\\mu - x\\right)^{2}}{\\sigma^{2}}\\right) e^{\\frac{\\left(\\mu - x\\right)^{2}}{\\sigma^{2}}}}{\\sigma^{2}}$"
      ],
      "text/plain": [
       "                           2\n",
       "                    (μ - x) \n",
       "                    ────────\n",
       "  ⎛             2⎞      2   \n",
       "  ⎜    2⋅(μ - x) ⎟     σ    \n",
       "2⋅⎜1 + ──────────⎟⋅ℯ        \n",
       "  ⎜         2    ⎟          \n",
       "  ⎝        σ     ⎠          \n",
       "────────────────────────────\n",
       "              2             \n",
       "             σ              "
      ]
     },
     "execution_count": 22,
     "metadata": {},
     "output_type": "execute_result"
    }
   ],
   "source": [
    "# 미분 해야 될 변수 2번 써주면, x 한번 미분 하고 x로 한번 더 미분함\n",
    "sympy.diff(f, x, x)"
   ]
  },
  {
   "cell_type": "code",
   "execution_count": null,
   "id": "4a5b4b39",
   "metadata": {},
   "outputs": [],
   "source": []
  },
  {
   "cell_type": "code",
   "execution_count": 23,
   "id": "5983cf58",
   "metadata": {},
   "outputs": [
    {
     "data": {
      "text/latex": [
       "$\\displaystyle 3 x^{2}$"
      ],
      "text/plain": [
       "   2\n",
       "3⋅x "
      ]
     },
     "execution_count": 23,
     "metadata": {},
     "output_type": "execute_result"
    }
   ],
   "source": [
    "x = sympy.symbols('x')\n",
    "f = x**3 - 1\n",
    "sympy.simplify(sympy.diff(f))"
   ]
  },
  {
   "cell_type": "code",
   "execution_count": 27,
   "id": "4a4f2a0c",
   "metadata": {},
   "outputs": [
    {
     "data": {
      "text/latex": [
       "$\\displaystyle \\frac{2 x}{- 3 k + x^{2}}$"
      ],
      "text/plain": [
       "   2⋅x   \n",
       "─────────\n",
       "        2\n",
       "-3⋅k + x "
      ]
     },
     "execution_count": 27,
     "metadata": {},
     "output_type": "execute_result"
    }
   ],
   "source": [
    "x, k = sympy.symbols('x k')\n",
    "f = sympy.log(x**2 - 3*k)\n",
    "sympy.simplify(sympy.diff(f, x))"
   ]
  },
  {
   "cell_type": "code",
   "execution_count": 28,
   "id": "2e577252",
   "metadata": {},
   "outputs": [
    {
     "data": {
      "text/latex": [
       "$\\displaystyle a b x^{b - 1} e^{a x^{b}}$"
      ],
      "text/plain": [
       "               b\n",
       "     b - 1  a⋅x \n",
       "a⋅b⋅x     ⋅ℯ    "
      ]
     },
     "execution_count": 28,
     "metadata": {},
     "output_type": "execute_result"
    }
   ],
   "source": [
    "a, b, x = sympy.symbols('a b x')\n",
    "f = sympy.exp(a*(x**b))\n",
    "sympy.simplify(sympy.diff(f, x))"
   ]
  },
  {
   "cell_type": "code",
   "execution_count": 29,
   "id": "ef1efea6",
   "metadata": {},
   "outputs": [
    {
     "data": {
      "text/latex": [
       "$\\displaystyle 2 x e^{x^{2} + 2 y^{2}}$"
      ],
      "text/plain": [
       "      2      2\n",
       "     x  + 2⋅y \n",
       "2⋅x⋅ℯ         "
      ]
     },
     "execution_count": 29,
     "metadata": {},
     "output_type": "execute_result"
    }
   ],
   "source": [
    "x, y = sympy.symbols('x y')\n",
    "f = sympy.exp(x**2 + 2*(y**2))\n",
    "sympy.simplify(sympy.diff(f, x))"
   ]
  },
  {
   "cell_type": "code",
   "execution_count": 30,
   "id": "423fd2ac",
   "metadata": {},
   "outputs": [
    {
     "data": {
      "text/latex": [
       "$\\displaystyle 4 y e^{x^{2} + 2 y^{2}}$"
      ],
      "text/plain": [
       "      2      2\n",
       "     x  + 2⋅y \n",
       "4⋅y⋅ℯ         "
      ]
     },
     "execution_count": 30,
     "metadata": {},
     "output_type": "execute_result"
    }
   ],
   "source": [
    "sympy.simplify(sympy.diff(f, y))"
   ]
  },
  {
   "cell_type": "code",
   "execution_count": 31,
   "id": "f3a2973f",
   "metadata": {},
   "outputs": [
    {
     "data": {
      "text/latex": [
       "$\\displaystyle \\left(4 x^{2} + 2\\right) e^{x^{2} + 2 y^{2}}$"
      ],
      "text/plain": [
       "             2      2\n",
       "⎛   2    ⎞  x  + 2⋅y \n",
       "⎝4⋅x  + 2⎠⋅ℯ         "
      ]
     },
     "execution_count": 31,
     "metadata": {},
     "output_type": "execute_result"
    }
   ],
   "source": [
    "sympy.simplify(sympy.diff(f, x, x))"
   ]
  },
  {
   "cell_type": "code",
   "execution_count": 32,
   "id": "a9152362",
   "metadata": {},
   "outputs": [
    {
     "data": {
      "text/latex": [
       "$\\displaystyle 8 x y e^{x^{2} + 2 y^{2}}$"
      ],
      "text/plain": [
       "        2      2\n",
       "       x  + 2⋅y \n",
       "8⋅x⋅y⋅ℯ         "
      ]
     },
     "execution_count": 32,
     "metadata": {},
     "output_type": "execute_result"
    }
   ],
   "source": [
    "sympy.simplify(sympy.diff(f, x, y))"
   ]
  },
  {
   "cell_type": "code",
   "execution_count": 33,
   "id": "56ab7a93",
   "metadata": {},
   "outputs": [
    {
     "data": {
      "text/latex": [
       "$\\displaystyle 8 x y e^{x^{2} + 2 y^{2}}$"
      ],
      "text/plain": [
       "        2      2\n",
       "       x  + 2⋅y \n",
       "8⋅x⋅y⋅ℯ         "
      ]
     },
     "execution_count": 33,
     "metadata": {},
     "output_type": "execute_result"
    }
   ],
   "source": [
    "sympy.simplify(sympy.diff(f, y, x))"
   ]
  },
  {
   "cell_type": "code",
   "execution_count": 34,
   "id": "53855324",
   "metadata": {},
   "outputs": [
    {
     "data": {
      "text/latex": [
       "$\\displaystyle \\left(16 y^{2} + 4\\right) e^{x^{2} + 2 y^{2}}$"
      ],
      "text/plain": [
       "              2      2\n",
       "⎛    2    ⎞  x  + 2⋅y \n",
       "⎝16⋅y  + 4⎠⋅ℯ         "
      ]
     },
     "execution_count": 34,
     "metadata": {},
     "output_type": "execute_result"
    }
   ],
   "source": [
    "sympy.simplify(sympy.diff(f, y, y))"
   ]
  },
  {
   "cell_type": "code",
   "execution_count": null,
   "id": "43e070d9",
   "metadata": {},
   "outputs": [],
   "source": []
  },
  {
   "cell_type": "markdown",
   "id": "dca1d3df",
   "metadata": {},
   "source": [
    "### 부정적분"
   ]
  },
  {
   "cell_type": "code",
   "execution_count": 35,
   "id": "1712bc20",
   "metadata": {},
   "outputs": [],
   "source": [
    "import sympy"
   ]
  },
  {
   "cell_type": "code",
   "execution_count": 36,
   "id": "edeb6c47",
   "metadata": {},
   "outputs": [],
   "source": [
    "sympy.init_printing(use_latex = 'mathjax')"
   ]
  },
  {
   "cell_type": "code",
   "execution_count": 37,
   "id": "c96ab266",
   "metadata": {},
   "outputs": [
    {
     "data": {
      "text/latex": [
       "$\\displaystyle x e^{x}$"
      ],
      "text/plain": [
       "   x\n",
       "x⋅ℯ "
      ]
     },
     "execution_count": 37,
     "metadata": {},
     "output_type": "execute_result"
    }
   ],
   "source": [
    "x = sympy.symbols('x')\n",
    "f = x * sympy.exp(x) + sympy.exp(x)\n",
    "sympy.integrate(f)"
   ]
  },
  {
   "cell_type": "markdown",
   "id": "f723a855",
   "metadata": {},
   "source": [
    "연습문제 4.3.3"
   ]
  },
  {
   "cell_type": "code",
   "execution_count": 38,
   "id": "14533ec0",
   "metadata": {},
   "outputs": [],
   "source": [
    "x, y = sympy.symbols('x y')"
   ]
  },
  {
   "cell_type": "code",
   "execution_count": 39,
   "id": "5ed4e435",
   "metadata": {},
   "outputs": [],
   "source": [
    "f = x*y*sympy.exp(x**2 + y**2)"
   ]
  },
  {
   "cell_type": "code",
   "execution_count": 41,
   "id": "656c7122",
   "metadata": {},
   "outputs": [
    {
     "data": {
      "text/latex": [
       "$\\displaystyle \\frac{e^{x^{2} + y^{2}}}{4}$"
      ],
      "text/plain": [
       "  2    2\n",
       " x  + y \n",
       "ℯ       \n",
       "────────\n",
       "   4    "
      ]
     },
     "execution_count": 41,
     "metadata": {},
     "output_type": "execute_result"
    }
   ],
   "source": [
    "sympy.integrate(sympy.integrate(f, x), y)"
   ]
  },
  {
   "cell_type": "code",
   "execution_count": null,
   "id": "5d62bc7e",
   "metadata": {},
   "outputs": [],
   "source": []
  },
  {
   "cell_type": "markdown",
   "id": "9a8e556e",
   "metadata": {},
   "source": [
    "### 정적분"
   ]
  },
  {
   "cell_type": "code",
   "execution_count": null,
   "id": "1e054200",
   "metadata": {},
   "outputs": [],
   "source": [
    "x, y = sympy"
   ]
  },
  {
   "cell_type": "code",
   "execution_count": 42,
   "id": "41ef34e2",
   "metadata": {},
   "outputs": [
    {
     "data": {
      "text/latex": [
       "$\\displaystyle \\infty$"
      ],
      "text/plain": [
       "inf"
      ]
     },
     "execution_count": 42,
     "metadata": {},
     "output_type": "execute_result"
    }
   ],
   "source": [
    "np.inf"
   ]
  },
  {
   "cell_type": "code",
   "execution_count": null,
   "id": "a88cff21",
   "metadata": {},
   "outputs": [],
   "source": []
  }
 ],
 "metadata": {
  "kernelspec": {
   "display_name": "Python 3",
   "language": "python",
   "name": "python3"
  },
  "language_info": {
   "codemirror_mode": {
    "name": "ipython",
    "version": 3
   },
   "file_extension": ".py",
   "mimetype": "text/x-python",
   "name": "python",
   "nbconvert_exporter": "python",
   "pygments_lexer": "ipython3",
   "version": "3.9.1"
  }
 },
 "nbformat": 4,
 "nbformat_minor": 5
}
