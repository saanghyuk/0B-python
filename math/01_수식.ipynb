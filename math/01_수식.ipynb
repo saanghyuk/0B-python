{
 "cells": [
  {
   "cell_type": "markdown",
   "id": "6a9e1331",
   "metadata": {},
   "source": [
    "- 수식을 사용할 수 있게 해주는 레이텍"
   ]
  },
  {
   "cell_type": "markdown",
   "id": "57e525e4",
   "metadata": {},
   "source": [
    "- 수식을 쓰는 방법 2가지. 인라인 수식/독립적인 문단이 되는 수식\n",
    "    - 인라인 수식 `$ $` 달러와 달러 사이 \n",
    "    - 독립 문단 수식 `$$ $$` 더블 달러 사이\n",
    "    - 그리스 문자는 /뒤에 해당 스펠링을 써주면 됨($\\alpha$ 와 $\\beta$)"
   ]
  },
  {
   "cell_type": "markdown",
   "id": "3b935f31",
   "metadata": {},
   "source": [
    "`$\\alpha$` 와 `$\\beta$`의 값이 같다."
   ]
  },
  {
   "cell_type": "markdown",
   "id": "96e0e417",
   "metadata": {},
   "source": [
    "- 독립 수식은 \n",
    "- `$$\\alpha$$` 와 `$$\\beta$$`로 사용하면 된다.\n",
    "- $$\\alpha$$\n",
    "- $$\\beta$$"
   ]
  },
  {
   "cell_type": "code",
   "execution_count": null,
   "id": "8235bd7f",
   "metadata": {},
   "outputs": [],
   "source": []
  },
  {
   "cell_type": "markdown",
   "id": "230db250",
   "metadata": {},
   "source": [
    "### 그리스 문자 써보기"
   ]
  },
  {
   "cell_type": "markdown",
   "id": "84381e6d",
   "metadata": {},
   "source": [
    "alpha\n",
    "\n",
    "$\\alpha$\n",
    "$$\\alpha$$"
   ]
  },
  {
   "cell_type": "markdown",
   "id": "bf634e17",
   "metadata": {},
   "source": [
    "beta \n",
    "\n",
    "$\\beta$\n",
    "$$\\beta$$"
   ]
  },
  {
   "cell_type": "markdown",
   "id": "0f7d9c93",
   "metadata": {},
   "source": [
    "gamma\n",
    "\n",
    "$\\gamma$\n",
    "$$\\gamma$$"
   ]
  },
  {
   "cell_type": "markdown",
   "id": "a916129c",
   "metadata": {},
   "source": [
    "delta\n",
    "\n",
    "$\\delta$\n",
    "$$\\delta$$"
   ]
  },
  {
   "cell_type": "markdown",
   "id": "31907faa",
   "metadata": {},
   "source": [
    "epsilon\n",
    "\n",
    "$\\epsilon$\n",
    "$$\\epsilon$$"
   ]
  },
  {
   "cell_type": "markdown",
   "id": "68d36250",
   "metadata": {},
   "source": [
    "zeta\n",
    "\n",
    "$\\zeta$\n",
    "$$\\zeta$$"
   ]
  },
  {
   "cell_type": "markdown",
   "id": "6dc895df",
   "metadata": {},
   "source": [
    "eta\n",
    "\n",
    "$\\eta$\n",
    "$$\\eta$$"
   ]
  },
  {
   "cell_type": "markdown",
   "id": "a289cd00",
   "metadata": {},
   "source": [
    "theta\n",
    "\n",
    "$\\theta$\n",
    "$$\\theta$$"
   ]
  },
  {
   "cell_type": "markdown",
   "id": "a8981a58",
   "metadata": {},
   "source": [
    "kappa\n",
    "\n",
    "$\\kappa$\n",
    "$$\\kappa$$"
   ]
  },
  {
   "cell_type": "markdown",
   "id": "eb7abf6c",
   "metadata": {},
   "source": [
    "lambda\n",
    "\n",
    "$\\lambda$\n",
    "$$\\lambda$$"
   ]
  },
  {
   "cell_type": "markdown",
   "id": "39b148f2",
   "metadata": {},
   "source": [
    "mu\n",
    "\n",
    "$\\mu$\n",
    "$$\\mu$$"
   ]
  },
  {
   "cell_type": "markdown",
   "id": "1e4334c9",
   "metadata": {},
   "source": [
    "nu\n",
    "\n",
    "$\\nu$\n",
    "$$\\nu$$"
   ]
  },
  {
   "cell_type": "markdown",
   "id": "8cb75ec4",
   "metadata": {},
   "source": [
    "xi(크싸이)\n",
    "\n",
    "$\\xi$\n",
    "$$\\xi$$"
   ]
  },
  {
   "cell_type": "markdown",
   "id": "62165b16",
   "metadata": {},
   "source": [
    "pi\n",
    "\n",
    "$\\pi$\n",
    "$$\\pi$$"
   ]
  },
  {
   "cell_type": "markdown",
   "id": "65ae1ec8",
   "metadata": {},
   "source": [
    "rho(로)\n",
    "\n",
    "$\\rho$\n",
    "$$\\rho$$"
   ]
  },
  {
   "cell_type": "markdown",
   "id": "5df632b5",
   "metadata": {},
   "source": [
    "sigma(시그마)\n",
    "\n",
    "$\\sigma$\n",
    "$$\\sigma$$"
   ]
  },
  {
   "cell_type": "markdown",
   "id": "bfb4c15a",
   "metadata": {},
   "source": [
    "tau(타우)\n",
    "\n",
    "$\\tau$\n",
    "$$\\tau$$"
   ]
  },
  {
   "cell_type": "markdown",
   "id": "2e7ca4dc",
   "metadata": {},
   "source": [
    "phi(파이/피)\n",
    "\n",
    "$\\phi$\n",
    "$$\\phi$$"
   ]
  },
  {
   "cell_type": "markdown",
   "id": "fc4bc15b",
   "metadata": {},
   "source": [
    "chi(카이)\n",
    "\n",
    "$\\chi$\n",
    "$$\\chi$$"
   ]
  },
  {
   "cell_type": "markdown",
   "id": "48b08f48",
   "metadata": {},
   "source": [
    "psi(프사이)\n",
    "\n",
    "$\\psi$\n",
    "$$\\psi$$"
   ]
  },
  {
   "cell_type": "markdown",
   "id": "e685cc86",
   "metadata": {},
   "source": [
    "omega\n",
    "\n",
    "$\\omega$\n",
    "$$\\omega$$"
   ]
  }
 ],
 "metadata": {
  "kernelspec": {
   "display_name": "Python 3",
   "language": "python",
   "name": "python3"
  },
  "language_info": {
   "codemirror_mode": {
    "name": "ipython",
    "version": 3
   },
   "file_extension": ".py",
   "mimetype": "text/x-python",
   "name": "python",
   "nbconvert_exporter": "python",
   "pygments_lexer": "ipython3",
   "version": "3.9.1"
  }
 },
 "nbformat": 4,
 "nbformat_minor": 5
}
