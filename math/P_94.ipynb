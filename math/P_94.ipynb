{
 "cells": [
  {
   "cell_type": "markdown",
   "id": "8a4f3249",
   "metadata": {},
   "source": [
    "#### 행렬의 곱셈"
   ]
  },
  {
   "cell_type": "code",
   "execution_count": 1,
   "id": "e4a630fc",
   "metadata": {},
   "outputs": [],
   "source": [
    "A = np.array([[1, 2, 3], [4, 5, 6]])\n",
    "B = np.array([[1, 2], [3, 4], [5, 6]])"
   ]
  },
  {
   "cell_type": "code",
   "execution_count": 2,
   "id": "504ee5a0",
   "metadata": {},
   "outputs": [
    {
     "data": {
      "text/plain": [
       "(3, 2)"
      ]
     },
     "execution_count": 2,
     "metadata": {},
     "output_type": "execute_result"
    }
   ],
   "source": [
    "B.shape"
   ]
  },
  {
   "cell_type": "code",
   "execution_count": 3,
   "id": "b2879d02",
   "metadata": {},
   "outputs": [
    {
     "data": {
      "text/plain": [
       "array([[22, 28],\n",
       "       [49, 64]])"
      ]
     },
     "execution_count": 3,
     "metadata": {},
     "output_type": "execute_result"
    }
   ],
   "source": [
    "np.dot(A, B)"
   ]
  },
  {
   "cell_type": "code",
   "execution_count": null,
   "id": "be8f9ec5",
   "metadata": {},
   "outputs": [],
   "source": []
  },
  {
   "cell_type": "markdown",
   "id": "ca23874e",
   "metadata": {},
   "source": [
    "#### 연습문제 2.2.4"
   ]
  },
  {
   "cell_type": "code",
   "execution_count": 4,
   "id": "6919cfae",
   "metadata": {},
   "outputs": [],
   "source": [
    "A = np.array([1, 2, 3])\n",
    "B = np.array([[4, 7], [5, 8], [6, 9]])"
   ]
  },
  {
   "cell_type": "code",
   "execution_count": 5,
   "id": "f7d9d277",
   "metadata": {},
   "outputs": [
    {
     "data": {
      "text/plain": [
       "array([32, 50])"
      ]
     },
     "execution_count": 5,
     "metadata": {},
     "output_type": "execute_result"
    }
   ],
   "source": [
    "np.dot(A, B)"
   ]
  },
  {
   "cell_type": "code",
   "execution_count": null,
   "id": "1cde1387",
   "metadata": {},
   "outputs": [],
   "source": []
  },
  {
   "cell_type": "code",
   "execution_count": null,
   "id": "ebf5d0ac",
   "metadata": {},
   "outputs": [],
   "source": []
  },
  {
   "cell_type": "markdown",
   "id": "38e42ff0",
   "metadata": {},
   "source": [
    "#### 연습문제 2.2.11"
   ]
  },
  {
   "cell_type": "code",
   "execution_count": 13,
   "id": "e53bba15",
   "metadata": {},
   "outputs": [],
   "source": [
    "x = np.array([1, 2, 3])"
   ]
  },
  {
   "cell_type": "code",
   "execution_count": 15,
   "id": "4dd33c0f",
   "metadata": {},
   "outputs": [
    {
     "data": {
      "text/plain": [
       "array([[1, 2, 3],\n",
       "       [4, 5, 6],\n",
       "       [7, 8, 9]])"
      ]
     },
     "execution_count": 15,
     "metadata": {},
     "output_type": "execute_result"
    }
   ],
   "source": [
    "A = np.arange(1, 10).reshape(3, 3)\n",
    "A"
   ]
  },
  {
   "cell_type": "code",
   "execution_count": 16,
   "id": "26d9c702",
   "metadata": {},
   "outputs": [
    {
     "data": {
      "text/plain": [
       "228"
      ]
     },
     "execution_count": 16,
     "metadata": {},
     "output_type": "execute_result"
    }
   ],
   "source": [
    "x @ A @ x.T"
   ]
  },
  {
   "cell_type": "code",
   "execution_count": null,
   "id": "6b4779d8",
   "metadata": {},
   "outputs": [],
   "source": []
  }
 ],
 "metadata": {
  "kernelspec": {
   "display_name": "Python 3",
   "language": "python",
   "name": "python3"
  },
  "language_info": {
   "codemirror_mode": {
    "name": "ipython",
    "version": 3
   },
   "file_extension": ".py",
   "mimetype": "text/x-python",
   "name": "python",
   "nbconvert_exporter": "python",
   "pygments_lexer": "ipython3",
   "version": "3.9.1"
  }
 },
 "nbformat": 4,
 "nbformat_minor": 5
}
