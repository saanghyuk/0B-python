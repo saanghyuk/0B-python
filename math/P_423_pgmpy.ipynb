{
 "cells": [
  {
   "cell_type": "code",
   "execution_count": 3,
   "id": "64b59302",
   "metadata": {},
   "outputs": [],
   "source": [
    "from pgmpy.factors.discrete import JointProbabilityDistribution as JPD"
   ]
  },
  {
   "cell_type": "code",
   "execution_count": 5,
   "id": "2e31a174",
   "metadata": {
    "scrolled": true
   },
   "outputs": [
    {
     "name": "stdout",
     "output_type": "stream",
     "text": [
      "+------+--------+\n",
      "| X    |   P(X) |\n",
      "+======+========+\n",
      "| X(0) | 0.6000 |\n",
      "+------+--------+\n",
      "| X(1) | 0.4000 |\n",
      "+------+--------+\n"
     ]
    }
   ],
   "source": [
    "px = JPD(['X'], [2], np.array([12, 8])/ 20)\n",
    "print(px)"
   ]
  },
  {
   "cell_type": "code",
   "execution_count": 8,
   "id": "d761c4b8",
   "metadata": {},
   "outputs": [
    {
     "name": "stdout",
     "output_type": "stream",
     "text": [
      "+------+--------+\n",
      "| Y    |   P(Y) |\n",
      "+======+========+\n",
      "| Y(0) | 0.5000 |\n",
      "+------+--------+\n",
      "| Y(1) | 0.5000 |\n",
      "+------+--------+\n"
     ]
    }
   ],
   "source": [
    "py = JPD(['Y'], [2], np.array([10, 10])/ 20)\n",
    "print(py)"
   ]
  },
  {
   "cell_type": "code",
   "execution_count": 12,
   "id": "9d2b01f3",
   "metadata": {
    "scrolled": true
   },
   "outputs": [
    {
     "name": "stdout",
     "output_type": "stream",
     "text": [
      "+------+------+----------+\n",
      "| X    | Y    |   P(X,Y) |\n",
      "+======+======+==========+\n",
      "| X(0) | Y(0) |   0.1500 |\n",
      "+------+------+----------+\n",
      "| X(0) | Y(1) |   0.4500 |\n",
      "+------+------+----------+\n",
      "| X(1) | Y(0) |   0.3500 |\n",
      "+------+------+----------+\n",
      "| X(1) | Y(1) |   0.0500 |\n",
      "+------+------+----------+\n"
     ]
    }
   ],
   "source": [
    "pxy = JPD(['X', 'Y'], [2, 2], np.array([3, 9, 7, 1])/ 20)\n",
    "print(pxy)"
   ]
  },
  {
   "cell_type": "code",
   "execution_count": null,
   "id": "80bb42b2",
   "metadata": {},
   "outputs": [],
   "source": []
  },
  {
   "cell_type": "code",
   "execution_count": 15,
   "id": "e10779b4",
   "metadata": {},
   "outputs": [
    {
     "name": "stdout",
     "output_type": "stream",
     "text": [
      "+------+------+----------+\n",
      "| X    | Y    |   P(X,Y) |\n",
      "+======+======+==========+\n",
      "| X(0) | Y(0) |   0.3000 |\n",
      "+------+------+----------+\n",
      "| X(0) | Y(1) |   0.3000 |\n",
      "+------+------+----------+\n",
      "| X(1) | Y(0) |   0.2000 |\n",
      "+------+------+----------+\n",
      "| X(1) | Y(1) |   0.2000 |\n",
      "+------+------+----------+\n"
     ]
    }
   ],
   "source": [
    "pxy2 = JPD([\"X\", \"Y\"], [2, 2], [0.3, 0.3, 0.2, 0.2])\n",
    "print(pxy2)"
   ]
  },
  {
   "cell_type": "code",
   "execution_count": null,
   "id": "1d924501",
   "metadata": {},
   "outputs": [],
   "source": []
  },
  {
   "cell_type": "code",
   "execution_count": 21,
   "id": "0ac2c851",
   "metadata": {},
   "outputs": [
    {
     "name": "stdout",
     "output_type": "stream",
     "text": [
      "+------+--------+\n",
      "| X    |   P(X) |\n",
      "+======+========+\n",
      "| X(0) | 0.6000 |\n",
      "+------+--------+\n",
      "| X(1) | 0.4000 |\n",
      "+------+--------+\n"
     ]
    }
   ],
   "source": [
    "pmx = pxy.marginal_distribution(['X'], inplace=False )\n",
    "print(pmx)"
   ]
  },
  {
   "cell_type": "code",
   "execution_count": null,
   "id": "133c0416",
   "metadata": {},
   "outputs": [],
   "source": []
  },
  {
   "cell_type": "code",
   "execution_count": 22,
   "id": "1b6b0937",
   "metadata": {},
   "outputs": [
    {
     "name": "stdout",
     "output_type": "stream",
     "text": [
      "+------+--------+\n",
      "| X    |   P(X) |\n",
      "+======+========+\n",
      "| X(0) | 0.6000 |\n",
      "+------+--------+\n",
      "| X(1) | 0.4000 |\n",
      "+------+--------+\n"
     ]
    }
   ],
   "source": [
    "pmx = pxy.marginalize(['Y'], inplace=False )\n",
    "print(pmx)"
   ]
  },
  {
   "cell_type": "code",
   "execution_count": null,
   "id": "fdfc0c9e",
   "metadata": {},
   "outputs": [],
   "source": []
  },
  {
   "cell_type": "code",
   "execution_count": 24,
   "id": "f2bf6bd3",
   "metadata": {},
   "outputs": [
    {
     "name": "stdout",
     "output_type": "stream",
     "text": [
      "+------+--------+\n",
      "| Y    |   P(Y) |\n",
      "+======+========+\n",
      "| Y(0) | 0.2500 |\n",
      "+------+--------+\n",
      "| Y(1) | 0.7500 |\n",
      "+------+--------+\n"
     ]
    }
   ],
   "source": [
    "py_on_x0 = pxy.conditional_distribution([('X', 0)], inplace=False)\n",
    "print(py_on_x0)"
   ]
  },
  {
   "cell_type": "code",
   "execution_count": null,
   "id": "bf8d0ebb",
   "metadata": {},
   "outputs": [],
   "source": []
  },
  {
   "cell_type": "code",
   "execution_count": 25,
   "id": "61fbeb5c",
   "metadata": {},
   "outputs": [
    {
     "data": {
      "text/plain": [
       "False"
      ]
     },
     "execution_count": 25,
     "metadata": {},
     "output_type": "execute_result"
    }
   ],
   "source": [
    "pxy.check_independence(['X'], ['Y'])"
   ]
  },
  {
   "cell_type": "code",
   "execution_count": null,
   "id": "dd4ce898",
   "metadata": {},
   "outputs": [],
   "source": []
  },
  {
   "cell_type": "code",
   "execution_count": null,
   "id": "5dfcfa81",
   "metadata": {},
   "outputs": [],
   "source": []
  },
  {
   "cell_type": "code",
   "execution_count": 28,
   "id": "4f07c057",
   "metadata": {},
   "outputs": [
    {
     "data": {
      "text/plain": [
       "True"
      ]
     },
     "execution_count": 28,
     "metadata": {},
     "output_type": "execute_result"
    }
   ],
   "source": [
    "# 이렇게 독립일때는 바깥의 marginal만 알고 있으면 안쪽은 자동으로 나옴. \n",
    "# 그냥 두 수 곱하면 되는 거니깐\n",
    "pxy2.check_independence(['X'], ['Y'])"
   ]
  },
  {
   "cell_type": "code",
   "execution_count": 29,
   "id": "beb6f3a8",
   "metadata": {},
   "outputs": [
    {
     "data": {
      "text/plain": [
       "<Joint Distribution representing P(X:2, Y:2) at 0x7fa6388a6580>"
      ]
     },
     "execution_count": 29,
     "metadata": {},
     "output_type": "execute_result"
    }
   ],
   "source": [
    "pxy2"
   ]
  },
  {
   "cell_type": "code",
   "execution_count": null,
   "id": "8bb562a0",
   "metadata": {},
   "outputs": [],
   "source": []
  }
 ],
 "metadata": {
  "kernelspec": {
   "display_name": "Python 3",
   "language": "python",
   "name": "python3"
  },
  "language_info": {
   "codemirror_mode": {
    "name": "ipython",
    "version": 3
   },
   "file_extension": ".py",
   "mimetype": "text/x-python",
   "name": "python",
   "nbconvert_exporter": "python",
   "pygments_lexer": "ipython3",
   "version": "3.9.1"
  }
 },
 "nbformat": 4,
 "nbformat_minor": 5
}
