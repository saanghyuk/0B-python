{
 "cells": [
  {
   "cell_type": "markdown",
   "metadata": {},
   "source": [
    "앞의 로지스틱 회귀 같은 경우는 확률적 판별모형이였다. 베이즈정리 사용하지 않았다. <br>\n",
    "그러나, 앞으로 나올 ***LDA, QDA, 나이브베이즈*** 같은 경우는 확률적 생성모형이다. 베이지안 정리를 사용한다. <br>\n",
    "\n",
    "**확률적 생성모형은 베이즈룰을 이용해서 조건부확률을 계산하는 과정이 있다.**"
   ]
  },
  {
   "cell_type": "markdown",
   "metadata": {},
   "source": [
    "## 7.1 선형판별분석법과 이차판별분석법"
   ]
  },
  {
   "cell_type": "markdown",
   "metadata": {},
   "source": [
    "선형판별분석법(linear discriminant analysis, LDA)과 이차판별분석법(quadratic discriminant analysis, QDA)는 대표적인 확률론적 생성모형(generative model)이다. 가능도 즉, y의 클래스값에 따른 x의 분포에 대한 정보를 먼저 알아낸 후, 베이즈 정리를 사용하여 주어진 x에 대한 y의 확률분포를 찾아낸다."
   ]
  },
  {
   "cell_type": "markdown",
   "metadata": {},
   "source": [
    "![1_70.jpeg](./materials/1_70.jpeg)"
   ]
  },
  {
   "cell_type": "markdown",
   "metadata": {},
   "source": [
    "즉, 먼저 모델입장에서 y=0, y=1 등 일때 x가 어떻게 생겼는지를 분포를 공부한다. <br>\n",
    "예를 들어, 의사가 되기 위해 공부한다면 \"정상인은 체온을 재면 37도 근처에서 나오고 감기에 걸리면 40도 +-2 이렇게 나오는 분포다.\" 이것을 먼저 공부한다. <br>\n",
    "\n",
    "즉, y의 클래스에 따른 x의 분포를 먼저 공부하면, \"감기에 걸린 사람의 체온 예로 들어 봐라.\" 이런 질문에 대답할 수가 있다.<br>\n",
    "\n",
    "그럼 이제, 반대로 묻는다. \"이 사람 체온이 39도 인데 감기에 걸렸을까?\" 대답할 수 있겠지. "
   ]
  },
  {
   "cell_type": "markdown",
   "metadata": {},
   "source": [
    "### 생성모형"
   ]
  },
  {
   "cell_type": "markdown",
   "metadata": {},
   "source": [
    "생성모형에서는 베이즈 정리를 사용하여 조건부확률 $p(y = k \\mid x)$ 을 계산한다.\n",
    "\n",
    "$$\n",
    "P(y = k \\mid x) = \\dfrac{P(x \\mid y = k)\\; P(y = k)}{P(x)}\n",
    "$$\n",
    "\n",
    "분류문제를 풀기 위해서는 각 클래스 $k$에 대한 확률을 비교하여 가장 큰 값을 선택한다. 따라서 모든 클래스에 대해 값이 같은 분모 ${P(x)}$은 굳이 계산하지 않아도 괜찮다.\n",
    "\n",
    "$$\n",
    "P(y = k \\mid x) \\;\\; \\propto \\;\\; P(x \\mid y = k) \\; P(y = k)\n",
    "$$\n"
   ]
  },
  {
   "cell_type": "markdown",
   "metadata": {
    "variables": {
     "\\text{ ": "<p><strong>SyntaxError</strong>: unexpected character after line continuation character (<ipython-input-1-e7faf2bb8c96>, line 1)</p>\n"
    }
   },
   "source": [
    "여기에서 사전확률 $P(y = k)$는 특별한 정보가 없는 경우, 다음처럼 계산한다.\n",
    "\n",
    "$$\n",
    "P(y = k) \\approx  \\frac{y=k인 데이터의 수}{모든 데이터의 수}$$\n",
    "\n",
    "만약 다른 지식이나 정보로 알고 있는 사전확률값이 있다면 그 값을 사용하면 된다.\n",
    "\n",
    "만약 다른 지식이나 정보로 알고 있는 사전확률값이 있다면 그 값을 사용하면 된다. <br>\n",
    "진짜 아무 데이터도 없고 아무것도 모르면, $1/n$라고 대답하는 수 밖에 없지. "
   ]
  },
  {
   "cell_type": "code",
   "execution_count": null,
   "metadata": {},
   "outputs": [],
   "source": []
  },
  {
   "cell_type": "markdown",
   "metadata": {},
   "source": [
    "우리가 알고 싶은 것은 X에 대해서, \n",
    "$$\n",
    "P(y=0|x),\n",
    "P(y=1|x),\n",
    "P(y=2|x),\n",
    "P(y=3|x)\n",
    "$$\n",
    "이렇게 구해서, 가장 큰 것을 고르면 되는 것. 누가 제일 큰지만 알면 돼. 꼭 다 더해서 1이 되게 만들 필요도 없다.<br>\n",
    "그러면, 생각 해보면 누가 제일 큰지 구별하는데 위 베이즈정리 식에서, $P(x)$를 알아서 뭐해. 어차피 제일 큰 것만 고르면 되는데. <br>\n",
    "대신 그렇게 해서 $P(X)$ 없앴으면 이제 확률은 아니지. 그래서, 이제 equal 등호로 표현을 안하고 비레 표시로 한다. "
   ]
  },
  {
   "cell_type": "code",
   "execution_count": null,
   "metadata": {},
   "outputs": [],
   "source": []
  },
  {
   "cell_type": "markdown",
   "metadata": {},
   "source": [
    "***결국은 P(X|Y=k)를 알아내는 것이 이 모형들의 핵심. 이것을 어떻게 알아내느냐에 따라 이름이 LDA, QDA, Naive Baysian 등등으로 나뉘는 것.***"
   ]
  },
  {
   "cell_type": "markdown",
   "metadata": {},
   "source": [
    "$y$에 대한 $x$의 조건부확률인 가능도는 다음과 같이 계산한다.\n",
    "\n",
    "1. $P(x \\mid y = k)$ 가 특정한 확률분포 모형을 따른다고 가정한다. 즉, 확률밀도함수의 형태를 가정한다(정규분포를 가장 많이 가정, 회귀분석에서는 x의 분포 이런거는 따로 가정 안했음. y, disturbance만 가정했었지. 그러나, 여기서는 x의 분포가 중요하다).\n",
    "2. $k$번째 클래스에 속하는 학습 데이터 $\\{x_1, \\cdots, x_N\\}$을 사용하여 이 모형의 모수값을 구한다(가우시안 분포였으면, $\\mu$, $\\sigma$).\n",
    "3. 모수값을 알고 있으므로 $P(x \\mid y = k)$의 확률 밀도 함수를 구한 것이다. 즉, 새로운 독립변수 값 $x$이 어떤 값이 되더라도 $P(x \\mid y = k)$의 값을 계산할 수 있다."
   ]
  },
  {
   "cell_type": "markdown",
   "metadata": {},
   "source": [
    "예를 들어보자. <br>\n",
    "정상인의 체온은 정규분포라 가정. <br>\n",
    "정상인 데이터를 모아서 평균과 시그마 구한다. <br>\n",
    "그러면, $P(X|정상인)$의 수식을 알고 있는 것. <br>\n",
    "그렇다면, 정상인 체온이 37.8일 확률밀도는? "
   ]
  },
  {
   "cell_type": "code",
   "execution_count": 19,
   "metadata": {},
   "outputs": [
    {
     "data": {
      "text/plain": [
       "0.044318484119383855"
      ]
     },
     "execution_count": 19,
     "metadata": {},
     "output_type": "execute_result"
    }
   ],
   "source": [
    "rv=sp.stats.norm(37.5, scale=0.1)\n",
    "rv.pdf(37.8)"
   ]
  },
  {
   "cell_type": "markdown",
   "metadata": {},
   "source": [
    "정상인이 체온이 37.8일 확률밀도는 0.044\n",
    "\n",
    "그렇다면, 정상이 아닌 사람은? $\\mu=40$, $\\sigma=0.2$라고 구해졌다. "
   ]
  },
  {
   "cell_type": "code",
   "execution_count": 20,
   "metadata": {},
   "outputs": [
    {
     "data": {
      "text/plain": [
       "1.0594096267545113e-26"
      ]
     },
     "execution_count": 20,
     "metadata": {},
     "output_type": "execute_result"
    }
   ],
   "source": [
    "rv=sp.stats.norm(40, scale=0.2)\n",
    "rv.pdf(37.8)"
   ]
  },
  {
   "cell_type": "markdown",
   "metadata": {},
   "source": [
    "비정상인이 체온이 37.8일 확률밀도는 엄청 작아. "
   ]
  },
  {
   "cell_type": "markdown",
   "metadata": {},
   "source": [
    "이 과정을 할 수 있게 되면, 이제 다 구할 수 있는 것. "
   ]
  },
  {
   "cell_type": "code",
   "execution_count": null,
   "metadata": {},
   "outputs": [],
   "source": []
  },
  {
   "cell_type": "markdown",
   "metadata": {},
   "source": [
    "그럼, 데이터 보니깐 38.4도야. 정상인일까? 비정상인일까? <br>\n",
    "정상인이 38.4일 확률과 비정상인이 38.4일 확률을 비교해서 더 높은 놈 고르면 된다는 거야. "
   ]
  },
  {
   "cell_type": "code",
   "execution_count": null,
   "metadata": {},
   "outputs": [],
   "source": []
  },
  {
   "cell_type": "markdown",
   "metadata": {},
   "source": [
    "### 이차판별분석법(QDA)"
   ]
  },
  {
   "cell_type": "markdown",
   "metadata": {},
   "source": [
    "여기서 엄청 주의하는게, y가 k마다 다변수정규분포. <br>\n",
    "다변수정규분포에서 모수는 mu(평균벡터)와 sigma(공분산행렬)가 모수잖아. <br>\n",
    "***그 어떻게 생겼는지 모양/모수가, mu와 sigma가 class마다 다르다는 것이 중요하다.*** "
   ]
  },
  {
   "cell_type": "markdown",
   "metadata": {},
   "source": [
    "이차판별분석법에서는 독립변수 $x$가 실수이고 확률분포가 다변수 정규분포라고 가정한다. 단 $x$ 분포의 위치와 형태는 클래스에 따라 달라질 수 있다.\n",
    "\n",
    "$$\n",
    "p(x \\mid y = k) = \\dfrac{1}{(2\\pi)^{D/2} |\\Sigma_k|^{1/2}} \\exp \\left( -\\dfrac{1}{2} (x-\\mu_k)^T \\Sigma_k^{-1} (x-\\mu_k) \\right)\n",
    "$$\n",
    "\n",
    "이 분포들을 알고 있으면 독립변수 $x$에 대한 $y$ 클래스의 조건부확률분포는 다음과 같이 베이즈 정리와 전체 확률의 법칙으로 구할 수 있다.\n",
    "\n",
    "$$\n",
    "P(y=k \\mid x) = \\dfrac{p(x \\mid y = k)P(y=k)}{p(x)} = \\dfrac{p(x \\mid y = k)P(y=k)}{\\sum_l p(x \\mid y = l)P(y=l) }\n",
    "$$"
   ]
  },
  {
   "cell_type": "markdown",
   "metadata": {},
   "source": [
    "예를 들어 $y$가  1, 2, 3 이라는 3개의 클래스를 가지고 각 클래스에서의 $x$의 확률분포가 다음과 같은 기대값 및 공분산 행렬을 가진다고 가정하자.\n",
    "\n",
    "$$\n",
    "\\mu_1 = \\begin{bmatrix}  0 \\\\ 0 \\end{bmatrix}, \\;\\;\n",
    "\\mu_2 = \\begin{bmatrix}  1 \\\\ 1 \\end{bmatrix}, \\;\\;\n",
    "\\mu_3 = \\begin{bmatrix}-1  \\\\ 1 \\end{bmatrix}\n",
    "$$\n",
    "\n",
    "$$\n",
    "\\Sigma_1 = \\begin{bmatrix} 0.7 &   0 \\\\ 0   & 0.7 \\end{bmatrix}, \\;\\;\n",
    "\\Sigma_2 = \\begin{bmatrix} 0.8 & 0.2 \\\\ 0.2 & 0.8 \\end{bmatrix}, \\;\\;\n",
    "\\Sigma_3 = \\begin{bmatrix} 0.8 & 0.2 \\\\ 0.2 & 0.8 \\end{bmatrix}\n",
    "$$\n",
    "\n",
    "$y$의 사전 확률은 다음과 같이 동일하다\n",
    "\n",
    "$$\n",
    "P(Y=1) = P(Y=2) = P(Y=3) = \\dfrac{1}{3}\n",
    "$$"
   ]
  },
  {
   "cell_type": "code",
   "execution_count": 21,
   "metadata": {},
   "outputs": [
    {
     "data": {
      "image/png": "[encoded data removed]",
      "text/plain": [
       "<Figure size 432x288 with 1 Axes>"
      ]
     },
     "metadata": {
      "image/png": {
       "height": 270,
       "width": 386
      }
     },
     "output_type": "display_data"
    }
   ],
   "source": [
    "N = 100\n",
    "\n",
    "# 각 x1, x2라는 데이터는 class에 따라 서로 다른 다변수정규분포에서 나온 값. \n",
    "rv1 = sp.stats.multivariate_normal([ 0, 0], [[0.7, 0.0], [0.0, 0.7]])\n",
    "rv2 = sp.stats.multivariate_normal([ 1, 1], [[0.8, 0.2], [0.2, 0.8]])\n",
    "rv3 = sp.stats.multivariate_normal([-1, 1], [[0.8, 0.2], [0.2, 0.8]])\n",
    "np.random.seed(0)\n",
    "X1 = rv1.rvs(N)\n",
    "X2 = rv2.rvs(N)\n",
    "X3 = rv3.rvs(N)\n",
    "y1 = np.zeros(N)\n",
    "y2 = np.ones(N)\n",
    "y3 = 2 * np.ones(N)\n",
    "X = np.vstack([X1, X2, X3])\n",
    "y = np.hstack([y1, y2, y3])\n",
    "\n",
    "plt.scatter(X1[:, 0], X1[:, 1], alpha=0.8, s=50, marker=\"o\", color='r', label=\"class 1\")\n",
    "plt.scatter(X2[:, 0], X2[:, 1], alpha=0.8, s=50, marker=\"s\", color='g', label=\"class 2\")\n",
    "plt.scatter(X3[:, 0], X3[:, 1], alpha=0.8, s=50, marker=\"x\", color='b', label=\"class 3\")\n",
    "plt.xlim(-5, 5)\n",
    "plt.ylim(-4, 5)\n",
    "plt.xlabel(\"$x_1$\")\n",
    "plt.ylabel(\"$x_2$\")\n",
    "plt.legend()\n",
    "plt.show()"
   ]
  },
  {
   "cell_type": "code",
   "execution_count": 26,
   "metadata": {
    "collapsed": true
   },
   "outputs": [
    {
     "data": {
      "text/plain": [
       "array([[ 1.47591208,  0.33479554],\n",
       "       [ 0.81887095,  1.87486576],\n",
       "       [ 1.56251112, -0.81764934],\n",
       "       [ 0.794901  , -0.12663453],\n",
       "       [-0.08635909,  0.34353135],\n",
       "       [ 0.1205155 ,  1.21673251],\n",
       "       [ 0.63672984,  0.10180062],\n",
       "       [ 0.37136262,  0.27917197],\n",
       "       [ 1.25003624, -0.17164772],\n",
       "       [ 0.26193123, -0.71458776],\n",
       "       [-2.13598453,  0.54685655],\n",
       "       [ 0.72323921, -0.62093981],\n",
       "       [ 1.89901296, -1.21680962],\n",
       "       [ 0.03828432, -0.15660924],\n",
       "       [ 1.2824151 ,  1.22935375],\n",
       "       [ 0.12963832,  0.31639346],\n",
       "       [-0.74277485, -1.65725323],\n",
       "       [-0.29108419,  0.13081093],\n",
       "       [ 1.02933503,  1.00598316],\n",
       "       [-0.32406087, -0.25292463],\n",
       "       [-0.87728235, -1.18807224],\n",
       "       [-1.42756806,  1.63213579],\n",
       "       [-0.42640561, -0.36651926],\n",
       "       [-1.0481638 ,  0.6504951 ],\n",
       "       [-1.35028382, -0.17799129],\n",
       "       [-0.74920108,  0.32370585],\n",
       "       [-0.42737024, -0.98778775],\n",
       "       [-0.02357894,  0.35836815],\n",
       "       [ 0.0556523 ,  0.25306615],\n",
       "       [-0.53071194, -0.30349103],\n",
       "       [-0.56262078, -0.30082376],\n",
       "       [-0.68032699, -1.44431165],\n",
       "       [ 0.14844536, -0.33615405],\n",
       "       [-1.36392179,  0.38719141],\n",
       "       [-0.75910027,  0.04346064],\n",
       "       [ 0.61000093,  0.10791485],\n",
       "       [ 0.95329101, -1.0331294 ],\n",
       "       [ 0.33662317, -0.57295323],\n",
       "       [-0.72856117, -0.48430038],\n",
       "       [-0.26066355,  0.0469913 ],\n",
       "       [-0.9748343 ,  0.75368551],\n",
       "       [ 0.38960115, -1.28531368],\n",
       "       [ 1.24516112,  1.58621469],\n",
       "       [ 0.98623775, -0.15053592],\n",
       "       [-0.89585592,  0.88221761],\n",
       "       [-0.33732204,  1.02277093],\n",
       "       [ 0.17425535,  0.81711484],\n",
       "       [ 0.29815752,  0.59116153],\n",
       "       [ 0.00878495,  1.49416645],\n",
       "       [ 0.10618227,  0.33632843],\n",
       "       [ 1.57555691, -1.12761613],\n",
       "       [-1.06296401,  0.81105548],\n",
       "       [-0.98150546,  1.62615015],\n",
       "       [-0.34605847, -0.62536556],\n",
       "       [ 1.60884873,  1.23868754],\n",
       "       [ 1.56251193,  0.75805135],\n",
       "       [-0.7205531 ,  1.59807499],\n",
       "       [-0.22422771,  0.67138319],\n",
       "       [ 0.79252786, -0.12969075],\n",
       "       [ 0.51377566,  0.77157346],\n",
       "       [ 0.31494019, -0.91982469],\n",
       "       [ 0.24952396,  1.10973406],\n",
       "       [-0.58111716, -0.12519324],\n",
       "       [-0.36407558,  1.54720504],\n",
       "       [ 0.56248215,  0.34090703],\n",
       "       [-0.644158  ,  0.45116824],\n",
       "       [-0.56418718,  0.02663136],\n",
       "       [-0.531987  ,  0.5659447 ],\n",
       "       [ 0.48241049, -0.17427524],\n",
       "       [ 0.33132299, -0.91452087],\n",
       "       [-1.24767562,  0.36762147],\n",
       "       [ 0.13944905,  0.53130542],\n",
       "       [ 1.99388197,  0.79020823],\n",
       "       [-0.76372187,  0.93456288],\n",
       "       [-1.10096713, -0.38618939],\n",
       "       [-0.05709502,  1.43348537],\n",
       "       [-0.62310659, -0.69144809],\n",
       "       [-0.08237129, -0.55510576],\n",
       "       [ 0.94261124, -0.90353552],\n",
       "       [-0.96004115, -0.36630653],\n",
       "       [-0.41668384,  1.61436234],\n",
       "       [ 0.79434244,  0.07325062],\n",
       "       [-1.02527291,  0.70644475],\n",
       "       [-0.8368402 , -1.29244823],\n",
       "       [ 0.99397704,  0.26517321],\n",
       "       [ 0.77044577,  0.26666669],\n",
       "       [ 0.71687592, -0.54468709],\n",
       "       [-0.86530964,  0.57026289],\n",
       "       [-0.67218075, -0.57691874],\n",
       "       [-0.38112584,  0.01462411],\n",
       "       [-0.29617256, -1.15036679],\n",
       "       [-0.53848979, -1.86023254],\n",
       "       [ 0.52310616, -1.3403776 ],\n",
       "       [-0.92399339,  0.04364444],\n",
       "       [-0.6187628 ,  1.29097863],\n",
       "       [-1.0816817 ,  0.22343079],\n",
       "       [-0.03286636, -0.97729714],\n",
       "       [ 0.43780466, -0.14352596],\n",
       "       [ 0.6457263 ,  0.68899301],\n",
       "       [ 1.80989305,  1.11821951],\n",
       "       [ 1.39216436,  1.12993761],\n",
       "       [-0.13647948,  0.58132597],\n",
       "       [ 1.43300196, -0.33828464],\n",
       "       [ 1.42143734,  0.61296499],\n",
       "       [ 0.8558226 ,  0.74830424],\n",
       "       [ 0.18265875,  0.53015389],\n",
       "       [ 0.69945043,  0.18851391],\n",
       "       [ 1.89241782,  1.44323089],\n",
       "       [ 0.80436529,  1.21970521],\n",
       "       [-0.57442748, -0.62071788],\n",
       "       [ 1.86545722,  1.48645317],\n",
       "       [ 1.06409359,  1.59153012],\n",
       "       [ 2.054858  ,  2.12415804],\n",
       "       [ 0.76216237,  1.01650396],\n",
       "       [ 1.55268134,  1.29205114],\n",
       "       [ 2.27716555,  1.7367607 ],\n",
       "       [ 1.15598104,  1.61174103],\n",
       "       [ 1.38966462,  2.24542426],\n",
       "       [ 1.07701734, -1.19053765],\n",
       "       [ 0.32783176,  1.06934736],\n",
       "       [ 1.66833078,  1.23314131],\n",
       "       [ 1.25706754,  0.93085398],\n",
       "       [ 2.13649026,  0.30052007],\n",
       "       [-0.40615292,  0.77650999],\n",
       "       [ 2.37832907,  0.7719417 ],\n",
       "       [ 0.94692355,  0.31617943],\n",
       "       [ 1.07452733,  0.72472058],\n",
       "       [ 0.13047848,  0.89153804],\n",
       "       [ 2.27077447,  0.75537518],\n",
       "       [ 1.78498792,  2.45362503],\n",
       "       [ 2.11824519,  1.56305569],\n",
       "       [ 1.45044999,  1.39286541],\n",
       "       [ 2.26575829,  2.47255488],\n",
       "       [ 0.58112233,  0.67798388],\n",
       "       [ 1.16648145,  1.27317799],\n",
       "       [ 2.23644322, -0.80077997],\n",
       "       [-0.59670177, -0.16937594],\n",
       "       [ 1.67545652,  1.24718855],\n",
       "       [ 0.71446459,  0.58727909],\n",
       "       [ 1.30514145,  3.56668007],\n",
       "       [ 0.51939244,  1.63693566],\n",
       "       [ 0.64784477,  2.33086151],\n",
       "       [ 0.46404693,  1.13100194],\n",
       "       [ 1.07573415,  2.40247734],\n",
       "       [-0.20082565,  1.22527544],\n",
       "       [ 1.70759438,  1.18065557],\n",
       "       [-0.04852054, -1.2097097 ],\n",
       "       [ 0.47342991,  1.718832  ],\n",
       "       [ 0.61160113,  1.25019489],\n",
       "       [ 1.07976516,  1.48514107],\n",
       "       [ 1.01565842,  2.83204957],\n",
       "       [ 1.45610354,  0.71100565],\n",
       "       [ 0.78114262,  0.27644938],\n",
       "       [ 2.68109077,  1.20583566],\n",
       "       [ 0.59683027,  0.42202633],\n",
       "       [ 0.50423669,  1.68484587],\n",
       "       [ 2.19699486,  1.39657748],\n",
       "       [ 1.22047263,  1.32382962],\n",
       "       [ 1.18695431,  0.87268513],\n",
       "       [ 1.10234997,  0.98480293],\n",
       "       [ 1.95413174,  1.06354254],\n",
       "       [ 1.29386191,  0.31791333],\n",
       "       [ 1.98942326,  1.64732424],\n",
       "       [-0.12457095,  2.34754578],\n",
       "       [ 0.98165317,  2.01494352],\n",
       "       [ 1.12287003, -0.17955391],\n",
       "       [ 1.10166571, -0.19521056],\n",
       "       [ 2.54822384,  3.2124136 ],\n",
       "       [ 1.99461516,  2.48858912],\n",
       "       [ 0.57469534,  2.39264215],\n",
       "       [ 0.49277939, -0.00387987],\n",
       "       [ 2.15135222,  0.82139706],\n",
       "       [ 1.46533641,  1.15822235],\n",
       "       [ 1.17204704,  1.34370751],\n",
       "       [ 0.39940989,  0.78243716],\n",
       "       [ 2.32784217,  0.75282053],\n",
       "       [ 0.41275715, -0.34249659],\n",
       "       [ 1.74670837,  1.17577408],\n",
       "       [ 2.56504412,  2.04144983],\n",
       "       [ 0.99938364,  1.67895211],\n",
       "       [ 0.50405081,  0.50818161],\n",
       "       [ 0.15487721,  0.52729019],\n",
       "       [ 0.92294494,  1.09923292],\n",
       "       [ 1.35108036,  0.91854439],\n",
       "       [ 1.80715345,  0.57147895],\n",
       "       [ 1.34565397,  0.25774156],\n",
       "       [ 0.54151092,  0.26824273],\n",
       "       [ 0.69451622,  1.2354873 ],\n",
       "       [ 1.40537385, -0.31515789],\n",
       "       [ 0.66420915,  1.62839684],\n",
       "       [ 1.98861989,  2.41286439],\n",
       "       [ 3.15497483,  2.0348747 ],\n",
       "       [ 1.88010431,  0.06526384],\n",
       "       [ 2.50301856,  0.89070409],\n",
       "       [-0.25535863, -0.07545614],\n",
       "       [ 0.72082937,  0.47690102],\n",
       "       [ 2.13529336,  0.36453461],\n",
       "       [ 1.62344664,  0.78927372],\n",
       "       [-0.23165106,  1.01836341],\n",
       "       [-0.50398968,  0.42993417],\n",
       "       [ 0.03451421,  0.81211031],\n",
       "       [-1.73726235,  0.65303688],\n",
       "       [ 0.05584013,  2.44525093],\n",
       "       [-1.60822736,  0.45632238],\n",
       "       [-0.42678   ,  0.68848541],\n",
       "       [-0.41548674,  2.46119573],\n",
       "       [-0.65354812,  1.09070196],\n",
       "       [-2.6001356 ,  0.1496978 ],\n",
       "       [-1.34002333,  0.81559758],\n",
       "       [-3.01665653,  0.86705918],\n",
       "       [-1.97615691,  0.66163817],\n",
       "       [ 0.41334275,  2.54887332],\n",
       "       [-0.95946079,  1.14345981],\n",
       "       [-0.1662513 , -1.16741727],\n",
       "       [-0.74526829,  1.55039712],\n",
       "       [ 0.10618109,  0.55403821],\n",
       "       [-1.76609896,  0.53719901],\n",
       "       [-0.48575786,  1.85910711],\n",
       "       [-1.58384773,  0.42195007],\n",
       "       [-1.60894966,  0.47678006],\n",
       "       [-0.08549014,  0.64442832],\n",
       "       [-1.0456564 ,  1.16718085],\n",
       "       [-1.55626033,  0.31764576],\n",
       "       [-0.79510192,  0.14821856],\n",
       "       [-0.38613491,  1.49293967],\n",
       "       [-0.7035333 ,  2.19500318],\n",
       "       [-1.48034964,  0.82538445],\n",
       "       [-2.34661255,  1.86732974],\n",
       "       [ 0.5373161 ,  0.125758  ],\n",
       "       [-1.11320982,  0.83135678],\n",
       "       [-0.09793158,  0.82981403],\n",
       "       [-0.78876926,  1.40987704],\n",
       "       [-1.9658102 ,  2.6769004 ],\n",
       "       [ 0.11358743,  1.24477089],\n",
       "       [ 0.48055506,  2.75604244],\n",
       "       [ 0.72128627,  2.13034333],\n",
       "       [-0.41633748,  0.80619449],\n",
       "       [-2.7742209 ,  0.31508358],\n",
       "       [-1.44944994, -0.41609132],\n",
       "       [-2.06970742,  0.47363439],\n",
       "       [-2.10931325,  1.01838049],\n",
       "       [-0.12499901,  1.41018432],\n",
       "       [-0.15540501, -1.06448997],\n",
       "       [-2.37304746,  0.23287836],\n",
       "       [-1.08845944,  1.1530946 ],\n",
       "       [-0.0800539 ,  1.53660235],\n",
       "       [-2.48897443,  0.9329374 ],\n",
       "       [-2.8660281 , -0.94700852],\n",
       "       [-0.25267519,  1.18400973],\n",
       "       [-0.23749288,  1.67722151],\n",
       "       [-1.25187743,  0.71061203],\n",
       "       [-1.64694901,  0.09648043],\n",
       "       [-0.43594143,  0.92731086],\n",
       "       [ 1.01314869,  1.2957452 ],\n",
       "       [-0.87903094,  2.54661208],\n",
       "       [-2.38614344,  1.12005423],\n",
       "       [ 1.02027604,  0.86375575],\n",
       "       [-0.62956971,  1.56303031],\n",
       "       [-1.92662526,  1.22137071],\n",
       "       [-2.15551508,  1.75348292],\n",
       "       [-0.34247993,  0.6572919 ],\n",
       "       [ 0.67571047,  1.70189114],\n",
       "       [-0.68443112,  0.34202462],\n",
       "       [-2.43594069,  1.11118679],\n",
       "       [ 0.20229003,  3.14881191],\n",
       "       [ 0.36372913,  2.80354931],\n",
       "       [-1.90163743,  0.16940887],\n",
       "       [ 0.22553077,  1.58422302],\n",
       "       [-0.71516915,  1.08519169],\n",
       "       [-0.79634499,  1.08328446],\n",
       "       [-0.48899014,  0.18708376],\n",
       "       [-1.66045203,  2.00271975],\n",
       "       [-0.48491557,  1.02888635],\n",
       "       [-0.36067745, -1.1641238 ],\n",
       "       [-1.48925288, -0.18146876],\n",
       "       [-1.16867238,  0.93684237],\n",
       "       [-1.51985792,  0.18700672],\n",
       "       [-1.23142279,  2.19029604],\n",
       "       [ 0.66058585,  2.68286083],\n",
       "       [ 0.37025813,  1.53599628],\n",
       "       [-2.39774732, -0.44659916],\n",
       "       [-0.16213294, -0.11373727],\n",
       "       [-0.5921465 ,  1.62317134],\n",
       "       [-1.58873425,  1.08703111],\n",
       "       [-1.29475294,  1.28255125],\n",
       "       [-0.31868217, -0.32306237],\n",
       "       [-1.44676447,  1.39443047],\n",
       "       [-1.21781434,  0.3835983 ],\n",
       "       [ 0.18218863,  0.9571393 ],\n",
       "       [-1.52794423,  1.71328259],\n",
       "       [ 0.7415715 ,  2.01869633],\n",
       "       [-0.6239769 ,  2.23590099],\n",
       "       [-0.35026504,  1.13417723],\n",
       "       [-1.09054542,  1.39735844],\n",
       "       [ 0.94590219, -0.39098034],\n",
       "       [-1.62465325,  0.85629421],\n",
       "       [-0.25100974,  0.56148764],\n",
       "       [-1.45646196,  0.95896975],\n",
       "       [-0.54892785,  1.21365472],\n",
       "       [-0.24446276,  1.5599027 ]])"
      ]
     },
     "execution_count": 26,
     "metadata": {},
     "output_type": "execute_result"
    }
   ],
   "source": [
    "np.vstack([X1, X2, X3])"
   ]
  },
  {
   "cell_type": "code",
   "execution_count": 24,
   "metadata": {},
   "outputs": [
    {
     "data": {
      "text/plain": [
       "(300, 2)"
      ]
     },
     "execution_count": 24,
     "metadata": {},
     "output_type": "execute_result"
    }
   ],
   "source": [
    "X.shape"
   ]
  },
  {
   "cell_type": "code",
   "execution_count": 25,
   "metadata": {},
   "outputs": [
    {
     "data": {
      "text/plain": [
       "(300,)"
      ]
     },
     "execution_count": 25,
     "metadata": {},
     "output_type": "execute_result"
    }
   ],
   "source": [
    "y.shape"
   ]
  },
  {
   "cell_type": "markdown",
   "metadata": {},
   "source": [
    "이거 지금 우리한테 주어져있는 데이터만 보여준거야(라벨링 되있는 정답까지 보여준 것. 우리는 이 class를 맞춰야 돼). "
   ]
  },
  {
   "cell_type": "code",
   "execution_count": null,
   "metadata": {},
   "outputs": [],
   "source": []
  },
  {
   "cell_type": "markdown",
   "metadata": {},
   "source": [
    "Scikit-Learn은 이차판별분석법을 위한 `QuadraticDiscriminantAnalysis` 클래스를 제공한다. "
   ]
  },
  {
   "cell_type": "code",
   "execution_count": 2,
   "metadata": {},
   "outputs": [],
   "source": [
    "from sklearn.discriminant_analysis import QuadraticDiscriminantAnalysis\n",
    "\n",
    "qda = QuadraticDiscriminantAnalysis(store_covariance=True).fit(X, y)"
   ]
  },
  {
   "cell_type": "markdown",
   "metadata": {},
   "source": [
    "학습용 데이터에서 가능도를 추정한 후에는 다음과 같은 속성을 가지게 된다.\n",
    "\n",
    "* `priors_`: 각 클래스 $k$의 사전확률.\n",
    "* `means_`: 각 클래스 $k$에서 $x$의 기댓값 벡터 $\\mu_k$의 추정치 벡터.\n",
    "* `covariance_`: 각 클래스 $k$에서 $x$의 공분산 행렬 $\\Sigma_k$의 추정치 행렬. (생성자 인수 `store_covariance` 값이 True인 경우에만 제공)"
   ]
  },
  {
   "cell_type": "code",
   "execution_count": 3,
   "metadata": {
    "scrolled": true
   },
   "outputs": [
    {
     "data": {
      "text/plain": [
       "array([0.33333333, 0.33333333, 0.33333333])"
      ]
     },
     "execution_count": 3,
     "metadata": {},
     "output_type": "execute_result"
    }
   ],
   "source": [
    "qda.priors_"
   ]
  },
  {
   "cell_type": "code",
   "execution_count": 43,
   "metadata": {},
   "outputs": [
    {
     "data": {
      "text/plain": [
       "(array([-0.00080125,  0.1194572 ]),\n",
       " array([1.16303727, 1.03930605]),\n",
       " array([-0.8640604 ,  1.02295794]))"
      ]
     },
     "execution_count": 43,
     "metadata": {},
     "output_type": "execute_result"
    }
   ],
   "source": [
    "X1.mean(axis=0), X2.mean(axis=0), X3.mean(axis=0)"
   ]
  },
  {
   "cell_type": "code",
   "execution_count": 4,
   "metadata": {},
   "outputs": [
    {
     "data": {
      "text/plain": [
       "array([[-8.01254084e-04,  1.19457204e-01],\n",
       "       [ 1.16303727e+00,  1.03930605e+00],\n",
       "       [-8.64060404e-01,  1.02295794e+00]])"
      ]
     },
     "execution_count": 4,
     "metadata": {},
     "output_type": "execute_result"
    }
   ],
   "source": [
    "# mu1, mu2, mu3 모수 추정\n",
    "qda.means_"
   ]
  },
  {
   "cell_type": "code",
   "execution_count": 45,
   "metadata": {},
   "outputs": [
    {
     "data": {
      "text/plain": [
       "(array([[ 0.73846319, -0.01762041],\n",
       "        [-0.01762041,  0.72961278]]),\n",
       " array([[0.66534246, 0.21132313],\n",
       "        [0.21132313, 0.78806006]]),\n",
       " array([[0.9351386 , 0.22880955],\n",
       "        [0.22880955, 0.79142383]]))"
      ]
     },
     "execution_count": 45,
     "metadata": {},
     "output_type": "execute_result"
    }
   ],
   "source": [
    "np.cov(X1.T), np.cov(X2.T), np.cov(X3.T)"
   ]
  },
  {
   "cell_type": "code",
   "execution_count": 29,
   "metadata": {},
   "outputs": [
    {
     "data": {
      "text/plain": [
       "array([[ 0.73846319, -0.01762041],\n",
       "       [-0.01762041,  0.72961278]])"
      ]
     },
     "execution_count": 29,
     "metadata": {},
     "output_type": "execute_result"
    }
   ],
   "source": [
    "# 각 sig(공분산행렬) 모수 추정\n",
    "qda.covariance_[0]"
   ]
  },
  {
   "cell_type": "code",
   "execution_count": 30,
   "metadata": {},
   "outputs": [
    {
     "data": {
      "text/plain": [
       "array([[0.66534246, 0.21132313],\n",
       "       [0.21132313, 0.78806006]])"
      ]
     },
     "execution_count": 30,
     "metadata": {},
     "output_type": "execute_result"
    }
   ],
   "source": [
    "qda.covariance_[1]"
   ]
  },
  {
   "cell_type": "code",
   "execution_count": 31,
   "metadata": {},
   "outputs": [
    {
     "data": {
      "text/plain": [
       "array([[0.9351386 , 0.22880955],\n",
       "       [0.22880955, 0.79142383]])"
      ]
     },
     "execution_count": 31,
     "metadata": {},
     "output_type": "execute_result"
    }
   ],
   "source": [
    "qda.covariance_[2]"
   ]
  },
  {
   "cell_type": "code",
   "execution_count": null,
   "metadata": {},
   "outputs": [],
   "source": []
  },
  {
   "cell_type": "markdown",
   "metadata": {},
   "source": [
    "그럼, 각 class 별로 mu와 sigma를 다 추정했어?<br>\n",
    "그러면, likelihood를 알게 된 거잖아. "
   ]
  },
  {
   "cell_type": "markdown",
   "metadata": {},
   "source": [
    "예를 들어, class=1이면서, $x_1 = 2$, $x_2 = 1$일 확률을 구해보자. <br>\n",
    "$P(2, -1 | y=1)$을 구하라는 것. <br>\n",
    "그리고, $P(2, -1 | y=2)$, $P(2, -1 | y=3)$도 구해보자."
   ]
  },
  {
   "cell_type": "code",
   "execution_count": 55,
   "metadata": {},
   "outputs": [
    {
     "data": {
      "text/plain": [
       "(0.006562123656856293, 0.0034060346804690735, 1.5412251295785986e-05)"
      ]
     },
     "execution_count": 55,
     "metadata": {},
     "output_type": "execute_result"
    }
   ],
   "source": [
    "rv1 = sp.stats.multivariate_normal(qda.means_[0], qda.covariance_[0])\n",
    "rv2 = sp.stats.multivariate_normal(qda.means_[1], qda.covariance_[1])\n",
    "rv3 = sp.stats.multivariate_normal(qda.means_[2], qda.covariance_[2])\n",
    "\n",
    "\n",
    "rv1.pdf([2, -1]), rv2.pdf([2, -1]), rv3.pdf([2, -1])"
   ]
  },
  {
   "cell_type": "markdown",
   "metadata": {},
   "source": [
    "지금 우리는 가능도를 구한거야. 그러면, 이제 prior을 알아야지. "
   ]
  },
  {
   "cell_type": "markdown",
   "metadata": {},
   "source": [
    "현재는 prior $P(y=k)$. 현재 priors가 k갯수/n을 해서 구해 놓은 것. \n"
   ]
  },
  {
   "cell_type": "code",
   "execution_count": 57,
   "metadata": {},
   "outputs": [
    {
     "data": {
      "text/plain": [
       "array([0.33333333, 0.33333333, 0.33333333])"
      ]
     },
     "execution_count": 57,
     "metadata": {},
     "output_type": "execute_result"
    }
   ],
   "source": [
    "qda.priors_"
   ]
  },
  {
   "cell_type": "markdown",
   "metadata": {},
   "source": [
    "그럼 이제 두개 곱하면 posterior 계산할 수 있잖아. "
   ]
  },
  {
   "cell_type": "code",
   "execution_count": 59,
   "metadata": {},
   "outputs": [
    {
     "data": {
      "text/plain": [
       "(0.0021873745522854307, 0.001135344893489691, 5.137417098595329e-06)"
      ]
     },
     "execution_count": 59,
     "metadata": {},
     "output_type": "execute_result"
    }
   ],
   "source": [
    "rv1.pdf([2, -1])*qda.priors_[0], rv2.pdf([2, -1])*qda.priors_[1], rv3.pdf([2, -1])*qda.priors_[2]"
   ]
  },
  {
   "cell_type": "markdown",
   "metadata": {},
   "source": [
    "제일 큰거 고른게 우리의 추정.<br>\n",
    "그렇게 골라서 하단에 그림으로 표시해 놓은 것."
   ]
  },
  {
   "cell_type": "code",
   "execution_count": null,
   "metadata": {},
   "outputs": [],
   "source": []
  },
  {
   "cell_type": "markdown",
   "metadata": {},
   "source": [
    "이 확률분포를 사용하여 분류를 한 결과는 다음과 같다."
   ]
  },
  {
   "cell_type": "code",
   "execution_count": 77,
   "metadata": {},
   "outputs": [
    {
     "data": {
      "image/png": "[encoded data removed]",
      "text/plain": [
       "<Figure size 432x288 with 1 Axes>"
      ]
     },
     "metadata": {
      "image/png": {
       "height": 281,
       "width": 386
      }
     },
     "output_type": "display_data"
    }
   ],
   "source": [
    "x1min, x1max = -5, 5\n",
    "x2min, x2max = -4, 5\n",
    "XX1, XX2 = np.meshgrid(np.arange(x1min, x1max, (x1max-x1min)/1000),\n",
    "                       np.arange(x2min, x2max, (x2max-x2min)/1000))\n",
    "YY = np.reshape(qda.predict(np.array([XX1.ravel(), XX2.ravel()]).T), XX1.shape)\n",
    "cmap = mpl.colors.ListedColormap(sns.color_palette([\"r\", \"g\", \"b\"]).as_hex())\n",
    "plt.contourf(XX1, XX2, YY, cmap=cmap, alpha=0.5)\n",
    "plt.scatter(X1[:, 0], X1[:, 1], alpha=0.8, s=50, marker=\"o\", color='r', label=\"class 1\")\n",
    "plt.scatter(X2[:, 0], X2[:, 1], alpha=0.8, s=50, marker=\"s\", color='g', label=\"class 2\")\n",
    "plt.scatter(X3[:, 0], X3[:, 1], alpha=0.8, s=50, marker=\"x\", color='b', label=\"class 3\")\n",
    "plt.xlim(x1min, x1max)\n",
    "plt.ylim(x2min, x2max)\n",
    "plt.xlabel(\"$x_1$\")\n",
    "plt.ylabel(\"$x_2$\")\n",
    "plt.title(\"QDA results\")\n",
    "plt.legend()\n",
    "plt.show()"
   ]
  },
  {
   "cell_type": "code",
   "execution_count": 107,
   "metadata": {},
   "outputs": [
    {
     "data": {
      "text/plain": [
       "array([[-5.  , -4.99, -4.98, ...,  4.97,  4.98,  4.99],\n",
       "       [-5.  , -4.99, -4.98, ...,  4.97,  4.98,  4.99],\n",
       "       [-5.  , -4.99, -4.98, ...,  4.97,  4.98,  4.99],\n",
       "       ...,\n",
       "       [-5.  , -4.99, -4.98, ...,  4.97,  4.98,  4.99],\n",
       "       [-5.  , -4.99, -4.98, ...,  4.97,  4.98,  4.99],\n",
       "       [-5.  , -4.99, -4.98, ...,  4.97,  4.98,  4.99]])"
      ]
     },
     "execution_count": 107,
     "metadata": {},
     "output_type": "execute_result"
    }
   ],
   "source": [
    "XX1"
   ]
  },
  {
   "cell_type": "code",
   "execution_count": 108,
   "metadata": {},
   "outputs": [
    {
     "data": {
      "text/plain": [
       "array([[-4.   , -4.   , -4.   , ..., -4.   , -4.   , -4.   ],\n",
       "       [-3.991, -3.991, -3.991, ..., -3.991, -3.991, -3.991],\n",
       "       [-3.982, -3.982, -3.982, ..., -3.982, -3.982, -3.982],\n",
       "       ...,\n",
       "       [ 4.982,  4.982,  4.982, ...,  4.982,  4.982,  4.982],\n",
       "       [ 4.991,  4.991,  4.991, ...,  4.991,  4.991,  4.991],\n",
       "       [ 5.   ,  5.   ,  5.   , ...,  5.   ,  5.   ,  5.   ]])"
      ]
     },
     "execution_count": 108,
     "metadata": {},
     "output_type": "execute_result"
    }
   ],
   "source": [
    "XX2"
   ]
  },
  {
   "cell_type": "code",
   "execution_count": 106,
   "metadata": {},
   "outputs": [
    {
     "data": {
      "text/plain": [
       "array([1.])"
      ]
     },
     "execution_count": 106,
     "metadata": {},
     "output_type": "execute_result"
    }
   ],
   "source": [
    "qda.predict([[2, 3]])"
   ]
  },
  {
   "cell_type": "code",
   "execution_count": 105,
   "metadata": {},
   "outputs": [
    {
     "data": {
      "text/plain": [
       "array([[-5.  , -4.  ],\n",
       "       [-4.99, -4.  ],\n",
       "       [-4.98, -4.  ],\n",
       "       ...,\n",
       "       [ 4.97,  5.  ],\n",
       "       [ 4.98,  5.  ],\n",
       "       [ 4.99,  5.  ]])"
      ]
     },
     "execution_count": 105,
     "metadata": {},
     "output_type": "execute_result"
    }
   ],
   "source": []
  },
  {
   "cell_type": "code",
   "execution_count": 82,
   "metadata": {},
   "outputs": [
    {
     "data": {
      "text/plain": [
       "array([[-5.  , -4.99, -4.98, ...,  4.97,  4.98,  4.99],\n",
       "       [-5.  , -4.99, -4.98, ...,  4.97,  4.98,  4.99],\n",
       "       [-5.  , -4.99, -4.98, ...,  4.97,  4.98,  4.99],\n",
       "       ...,\n",
       "       [-5.  , -4.99, -4.98, ...,  4.97,  4.98,  4.99],\n",
       "       [-5.  , -4.99, -4.98, ...,  4.97,  4.98,  4.99],\n",
       "       [-5.  , -4.99, -4.98, ...,  4.97,  4.98,  4.99]])"
      ]
     },
     "execution_count": 82,
     "metadata": {},
     "output_type": "execute_result"
    }
   ],
   "source": [
    "XX1"
   ]
  },
  {
   "cell_type": "markdown",
   "metadata": {},
   "source": [
    "[등고선 그리는 방법](https://m31phy.tistory.com/220)"
   ]
  },
  {
   "cell_type": "code",
   "execution_count": 68,
   "metadata": {},
   "outputs": [],
   "source": [
    "XX3, XX4 = np.meshgrid([1, 2, 3],\n",
    "                       [4, 5, 6])"
   ]
  },
  {
   "cell_type": "code",
   "execution_count": 69,
   "metadata": {},
   "outputs": [
    {
     "data": {
      "text/plain": [
       "array([[1, 2, 3],\n",
       "       [1, 2, 3],\n",
       "       [1, 2, 3]])"
      ]
     },
     "execution_count": 69,
     "metadata": {},
     "output_type": "execute_result"
    }
   ],
   "source": [
    "XX3"
   ]
  },
  {
   "cell_type": "code",
   "execution_count": 70,
   "metadata": {},
   "outputs": [
    {
     "data": {
      "text/plain": [
       "array([[4, 4, 4],\n",
       "       [5, 5, 5],\n",
       "       [6, 6, 6]])"
      ]
     },
     "execution_count": 70,
     "metadata": {},
     "output_type": "execute_result"
    }
   ],
   "source": [
    "XX4"
   ]
  },
  {
   "cell_type": "code",
   "execution_count": null,
   "metadata": {},
   "outputs": [],
   "source": []
  },
  {
   "cell_type": "code",
   "execution_count": null,
   "metadata": {},
   "outputs": [],
   "source": []
  },
  {
   "cell_type": "markdown",
   "metadata": {},
   "source": [
    "#### 연습 문제 1\n",
    "\n",
    "이차판별분석법을 사용하여 붓꽃 분류문제를 풀고 성능을 분류결과표와 분류보고서를 출력하라. 그리고 각 클래스에 대한 ROC 커브를 그려라."
   ]
  },
  {
   "cell_type": "code",
   "execution_count": 113,
   "metadata": {},
   "outputs": [],
   "source": [
    "from sklearn.datasets import load_iris\n",
    "iris = load_iris()\n",
    "X1 = iris.data\n",
    "y1 = iris.target"
   ]
  },
  {
   "cell_type": "code",
   "execution_count": 116,
   "metadata": {},
   "outputs": [
    {
     "data": {
      "text/plain": [
       "(['sepal length (cm)',\n",
       "  'sepal width (cm)',\n",
       "  'petal length (cm)',\n",
       "  'petal width (cm)'],\n",
       " (150, 4))"
      ]
     },
     "execution_count": 116,
     "metadata": {},
     "output_type": "execute_result"
    }
   ],
   "source": [
    "iris.feature_names, X1.shape"
   ]
  },
  {
   "cell_type": "code",
   "execution_count": 117,
   "metadata": {},
   "outputs": [],
   "source": [
    "from sklearn.discriminant_analysis import QuadraticDiscriminantAnalysis\n",
    "\n",
    "qda = QuadraticDiscriminantAnalysis(store_covariance=True).fit(X1, y1)"
   ]
  },
  {
   "cell_type": "markdown",
   "metadata": {},
   "source": [
    "다변수정규분포 총 3개 만들게 된다. class 3개니깐. "
   ]
  },
  {
   "cell_type": "code",
   "execution_count": 119,
   "metadata": {},
   "outputs": [
    {
     "data": {
      "text/plain": [
       "array([[5.006, 3.428, 1.462, 0.246],\n",
       "       [5.936, 2.77 , 4.26 , 1.326],\n",
       "       [6.588, 2.974, 5.552, 2.026]])"
      ]
     },
     "execution_count": 119,
     "metadata": {},
     "output_type": "execute_result"
    }
   ],
   "source": [
    "qda.means_"
   ]
  },
  {
   "cell_type": "code",
   "execution_count": 120,
   "metadata": {},
   "outputs": [
    {
     "data": {
      "text/plain": [
       "[array([[0.12424898, 0.09921633, 0.0163551 , 0.01033061],\n",
       "        [0.09921633, 0.1436898 , 0.01169796, 0.00929796],\n",
       "        [0.0163551 , 0.01169796, 0.03015918, 0.00606939],\n",
       "        [0.01033061, 0.00929796, 0.00606939, 0.01110612]]),\n",
       " array([[0.26643265, 0.08518367, 0.18289796, 0.05577959],\n",
       "        [0.08518367, 0.09846939, 0.08265306, 0.04120408],\n",
       "        [0.18289796, 0.08265306, 0.22081633, 0.07310204],\n",
       "        [0.05577959, 0.04120408, 0.07310204, 0.03910612]]),\n",
       " array([[0.40434286, 0.09376327, 0.3032898 , 0.04909388],\n",
       "        [0.09376327, 0.10400408, 0.07137959, 0.04762857],\n",
       "        [0.3032898 , 0.07137959, 0.30458776, 0.04882449],\n",
       "        [0.04909388, 0.04762857, 0.04882449, 0.07543265]])]"
      ]
     },
     "execution_count": 120,
     "metadata": {},
     "output_type": "execute_result"
    }
   ],
   "source": [
    "qda.covariance_"
   ]
  },
  {
   "cell_type": "code",
   "execution_count": 121,
   "metadata": {
    "scrolled": true
   },
   "outputs": [
    {
     "data": {
      "text/plain": [
       "array([0, 0, 0, 0, 0, 0, 0, 0, 0, 0, 0, 0, 0, 0, 0, 0, 0, 0, 0, 0, 0, 0,\n",
       "       0, 0, 0, 0, 0, 0, 0, 0, 0, 0, 0, 0, 0, 0, 0, 0, 0, 0, 0, 0, 0, 0,\n",
       "       0, 0, 0, 0, 0, 0, 1, 1, 1, 1, 1, 1, 1, 1, 1, 1, 1, 1, 1, 1, 1, 1,\n",
       "       1, 1, 1, 1, 2, 1, 1, 1, 1, 1, 1, 1, 1, 1, 1, 1, 1, 2, 1, 1, 1, 1,\n",
       "       1, 1, 1, 1, 1, 1, 1, 1, 1, 1, 1, 1, 2, 2, 2, 2, 2, 2, 2, 2, 2, 2,\n",
       "       2, 2, 2, 2, 2, 2, 2, 2, 2, 2, 2, 2, 2, 2, 2, 2, 2, 2, 2, 2, 2, 2,\n",
       "       2, 1, 2, 2, 2, 2, 2, 2, 2, 2, 2, 2, 2, 2, 2, 2, 2, 2])"
      ]
     },
     "execution_count": 121,
     "metadata": {},
     "output_type": "execute_result"
    }
   ],
   "source": [
    "qda.predict(X1)"
   ]
  },
  {
   "cell_type": "code",
   "execution_count": 126,
   "metadata": {},
   "outputs": [
    {
     "data": {
      "text/plain": [
       "array([[50,  0,  0],\n",
       "       [ 0, 48,  2],\n",
       "       [ 0,  1, 49]])"
      ]
     },
     "execution_count": 126,
     "metadata": {},
     "output_type": "execute_result"
    }
   ],
   "source": [
    "confusion_matrix(y1, qda.predict(X1))"
   ]
  },
  {
   "cell_type": "code",
   "execution_count": 123,
   "metadata": {},
   "outputs": [
    {
     "name": "stdout",
     "output_type": "stream",
     "text": [
      "              precision    recall  f1-score   support\n",
      "\n",
      "           0       1.00      1.00      1.00        50\n",
      "           1       0.98      0.96      0.97        50\n",
      "           2       0.96      0.98      0.97        50\n",
      "\n",
      "    accuracy                           0.98       150\n",
      "   macro avg       0.98      0.98      0.98       150\n",
      "weighted avg       0.98      0.98      0.98       150\n",
      "\n"
     ]
    }
   ],
   "source": [
    "from sklearn.metrics import classification_report\n",
    "\n",
    "print(classification_report(y1, qda.predict(X1)))"
   ]
  },
  {
   "cell_type": "code",
   "execution_count": 125,
   "metadata": {},
   "outputs": [
    {
     "name": "stderr",
     "output_type": "stream",
     "text": [
      "/Users/sanghyuk/anaconda/envs/py38/lib/python3.8/site-packages/sklearn/utils/validation.py:67: FutureWarning: Pass classes=[0, 1, 2] as keyword args. From version 0.25 passing these as positional arguments will result in an error\n",
      "  warnings.warn(\"Pass {} as keyword args. From version 0.25 \"\n"
     ]
    }
   ],
   "source": [
    "from sklearn.preprocessing import label_binarize\n",
    "\n",
    "y1_vec = label_binarize(y1, [0, 1, 2])\n",
    "\n",
    "from sklearn.metrics import roc_curve"
   ]
  },
  {
   "cell_type": "code",
   "execution_count": 131,
   "metadata": {
    "collapsed": true
   },
   "outputs": [
    {
     "data": {
      "text/plain": [
       "array([[1.00000000e+000, 4.91851689e-026, 2.98154146e-041],\n",
       "       [1.00000000e+000, 7.65580771e-019, 1.31103176e-034],\n",
       "       [1.00000000e+000, 1.55227924e-021, 3.38044010e-036],\n",
       "       [1.00000000e+000, 8.30039554e-019, 8.54185774e-032],\n",
       "       [1.00000000e+000, 3.36561380e-027, 2.01014681e-041],\n",
       "       [1.00000000e+000, 1.47253294e-026, 1.27192771e-040],\n",
       "       [1.00000000e+000, 2.63301868e-021, 2.51056687e-034],\n",
       "       [1.00000000e+000, 1.13567432e-023, 6.53870712e-038],\n",
       "       [1.00000000e+000, 1.30942413e-016, 8.35500744e-030],\n",
       "       [1.00000000e+000, 8.24712823e-021, 5.76072745e-035],\n",
       "       [1.00000000e+000, 5.96747292e-029, 2.19584458e-044],\n",
       "       [1.00000000e+000, 2.13646184e-022, 1.08151318e-034],\n",
       "       [1.00000000e+000, 5.25557083e-020, 9.12359712e-035],\n",
       "       [1.00000000e+000, 4.44354674e-020, 3.83745348e-034],\n",
       "       [1.00000000e+000, 7.19912809e-037, 7.40303308e-056],\n",
       "       [1.00000000e+000, 1.49441544e-037, 1.26431454e-052],\n",
       "       [1.00000000e+000, 4.63421383e-030, 1.43979620e-046],\n",
       "       [1.00000000e+000, 2.06795545e-024, 6.20304813e-040],\n",
       "       [1.00000000e+000, 1.88976874e-027, 3.20464865e-043],\n",
       "       [1.00000000e+000, 7.24511749e-028, 1.29178592e-041],\n",
       "       [1.00000000e+000, 2.02702079e-022, 2.14189622e-037],\n",
       "       [1.00000000e+000, 1.50728212e-024, 6.80725900e-039],\n",
       "       [1.00000000e+000, 2.69669196e-027, 6.98565615e-042],\n",
       "       [1.00000000e+000, 1.00348255e-015, 5.34396379e-030],\n",
       "       [1.00000000e+000, 1.20823630e-019, 1.92604903e-029],\n",
       "       [1.00000000e+000, 2.02759970e-017, 2.93042726e-032],\n",
       "       [1.00000000e+000, 1.88756947e-019, 1.39997188e-033],\n",
       "       [1.00000000e+000, 1.64177622e-025, 1.49099978e-040],\n",
       "       [1.00000000e+000, 9.02481858e-025, 5.73290170e-041],\n",
       "       [1.00000000e+000, 1.49354315e-019, 5.20731561e-032],\n",
       "       [1.00000000e+000, 1.68493284e-018, 7.22896518e-032],\n",
       "       [1.00000000e+000, 2.93391362e-021, 3.40671105e-038],\n",
       "       [1.00000000e+000, 9.10713243e-037, 3.43241666e-048],\n",
       "       [1.00000000e+000, 2.73268455e-038, 7.66168096e-053],\n",
       "       [1.00000000e+000, 1.96401875e-019, 3.82837292e-034],\n",
       "       [1.00000000e+000, 8.25121506e-023, 6.09245894e-040],\n",
       "       [1.00000000e+000, 2.35398343e-027, 9.03678743e-046],\n",
       "       [1.00000000e+000, 1.40000661e-028, 1.60095494e-041],\n",
       "       [1.00000000e+000, 3.15381784e-018, 8.40855541e-032],\n",
       "       [1.00000000e+000, 7.17596208e-024, 1.06152230e-038],\n",
       "       [1.00000000e+000, 9.14159109e-025, 2.40736205e-040],\n",
       "       [1.00000000e+000, 3.89658546e-010, 9.31579454e-026],\n",
       "       [1.00000000e+000, 1.92444720e-020, 2.26569856e-033],\n",
       "       [1.00000000e+000, 8.42745654e-017, 3.12568944e-030],\n",
       "       [1.00000000e+000, 6.22722774e-022, 2.32591927e-033],\n",
       "       [1.00000000e+000, 2.65696503e-017, 1.30101241e-032],\n",
       "       [1.00000000e+000, 5.75326616e-029, 2.37965767e-041],\n",
       "       [1.00000000e+000, 1.18893567e-020, 4.97179324e-034],\n",
       "       [1.00000000e+000, 9.24457061e-029, 1.37366580e-043],\n",
       "       [1.00000000e+000, 5.40881752e-023, 2.33885374e-038],\n",
       "       [3.03934001e-090, 9.99956069e-001, 4.39307588e-005],\n",
       "       [6.91955431e-082, 9.99649822e-001, 3.50178316e-004],\n",
       "       [2.80744640e-102, 9.98386057e-001, 1.61394343e-003],\n",
       "       [7.24221706e-063, 9.97221419e-001, 2.77858118e-003],\n",
       "       [1.75567847e-090, 9.97343757e-001, 2.65624318e-003],\n",
       "       [1.30246285e-077, 9.88827725e-001, 1.11722753e-002],\n",
       "       [6.76868328e-092, 9.94709436e-001, 5.29056366e-003],\n",
       "       [2.43741509e-033, 9.99993897e-001, 6.10312608e-006],\n",
       "       [9.96118220e-085, 9.99786749e-001, 2.13250554e-004],\n",
       "       [2.47522222e-059, 9.93655926e-001, 6.34407398e-003],\n",
       "       [2.07035107e-041, 9.99937846e-001, 6.21539827e-005],\n",
       "       [4.75913651e-071, 9.98549588e-001, 1.45041184e-003],\n",
       "       [6.22657634e-060, 9.99986035e-001, 1.39651971e-005],\n",
       "       [6.98490558e-089, 9.88480093e-001, 1.15199070e-002],\n",
       "       [7.84235904e-046, 9.99989292e-001, 1.07084527e-005],\n",
       "       [1.60346043e-077, 9.99986892e-001, 1.31084829e-005],\n",
       "       [5.60132204e-082, 9.73369489e-001, 2.66305108e-002],\n",
       "       [9.11522085e-057, 9.99866683e-001, 1.33316597e-004],\n",
       "       [3.74640367e-090, 8.13090636e-001, 1.86909364e-001],\n",
       "       [1.18606438e-053, 9.99964274e-001, 3.57258782e-005],\n",
       "       [1.05272330e-103, 3.35944183e-001, 6.64055817e-001],\n",
       "       [8.72387125e-061, 9.99989805e-001, 1.01952503e-005],\n",
       "       [5.63451155e-105, 6.99318719e-001, 3.00681281e-001],\n",
       "       [2.49926281e-084, 9.72109076e-001, 2.78909241e-002],\n",
       "       [7.08952682e-072, 9.99979411e-001, 2.05890902e-005],\n",
       "       [3.53577539e-078, 9.99967778e-001, 3.22219219e-005],\n",
       "       [3.30101676e-098, 9.98465710e-001, 1.53429049e-003],\n",
       "       [1.20548271e-112, 8.60998588e-001, 1.39001412e-001],\n",
       "       [1.79969682e-083, 9.92145149e-001, 7.85485081e-003],\n",
       "       [1.11215323e-038, 9.99999911e-001, 8.90306383e-008],\n",
       "       [5.49312387e-051, 9.99970127e-001, 2.98734477e-005],\n",
       "       [9.49036355e-046, 9.99994101e-001, 5.89879234e-006],\n",
       "       [7.04819685e-055, 9.99988584e-001, 1.14158300e-005],\n",
       "       [4.10200927e-114, 1.54348331e-001, 8.45651669e-001],\n",
       "       [6.55677337e-082, 9.43428575e-001, 5.65714253e-002],\n",
       "       [1.91076804e-082, 9.95999923e-001, 4.00007681e-003],\n",
       "       [1.77873671e-092, 9.99393125e-001, 6.06875003e-004],\n",
       "       [2.00261060e-081, 9.98897652e-001, 1.10234781e-003],\n",
       "       [3.20250815e-061, 9.99764261e-001, 2.35738842e-004],\n",
       "       [1.70943415e-061, 9.98944289e-001, 1.05571127e-003],\n",
       "       [3.71266732e-072, 9.80652558e-001, 1.93474416e-002],\n",
       "       [6.95455048e-084, 9.96970204e-001, 3.02979552e-003],\n",
       "       [3.95060919e-059, 9.99959477e-001, 4.05233412e-005],\n",
       "       [4.28567455e-034, 9.99996230e-001, 3.76978251e-006],\n",
       "       [3.78388704e-067, 9.98638081e-001, 1.36191858e-003],\n",
       "       [5.47230325e-062, 9.99727307e-001, 2.72693124e-004],\n",
       "       [1.00830330e-065, 9.99574802e-001, 4.25197771e-004],\n",
       "       [6.13353337e-071, 9.99932627e-001, 6.73728522e-005],\n",
       "       [1.67952913e-027, 9.99999304e-001, 6.95559090e-007],\n",
       "       [4.62188647e-063, 9.99759688e-001, 2.40311677e-004],\n",
       "       [6.28308974e-199, 3.35773072e-009, 9.99999997e-001],\n",
       "       [6.15334255e-126, 4.56214944e-004, 9.99543785e-001],\n",
       "       [1.24814966e-177, 5.41104857e-005, 9.99945890e-001],\n",
       "       [1.21083825e-145, 5.84233387e-003, 9.94157666e-001],\n",
       "       [3.16683483e-174, 2.60911336e-006, 9.99997391e-001],\n",
       "       [4.41194373e-224, 1.94040064e-006, 9.99998060e-001],\n",
       "       [2.47595563e-093, 3.87820157e-003, 9.96121798e-001],\n",
       "       [1.03584813e-192, 4.43284365e-005, 9.99955672e-001],\n",
       "       [2.31273142e-163, 1.29720572e-004, 9.99870279e-001],\n",
       "       [2.63792952e-203, 6.57738114e-008, 9.99999934e-001],\n",
       "       [6.65095013e-127, 6.05160570e-003, 9.93948394e-001],\n",
       "       [5.54046602e-137, 9.50792539e-004, 9.99049207e-001],\n",
       "       [1.31833568e-154, 6.45339470e-005, 9.99935466e-001],\n",
       "       [6.94358923e-128, 1.57803511e-006, 9.99998422e-001],\n",
       "       [2.08376906e-153, 3.09624843e-013, 1.00000000e+000],\n",
       "       [1.08641115e-152, 6.51767589e-008, 9.99999935e-001],\n",
       "       [4.91649789e-140, 3.31035136e-002, 9.66896486e-001],\n",
       "       [1.08522270e-223, 2.59510608e-004, 9.99740489e-001],\n",
       "       [1.80671872e-259, 1.43838553e-010, 1.00000000e+000],\n",
       "       [4.27836871e-111, 4.11013085e-002, 9.58898691e-001],\n",
       "       [1.35194277e-173, 5.18494105e-007, 9.99999482e-001],\n",
       "       [2.88681275e-121, 2.50228484e-005, 9.99974977e-001],\n",
       "       [5.00938681e-231, 2.91278742e-007, 9.99999709e-001],\n",
       "       [2.20541695e-113, 2.80877990e-002, 9.71912201e-001],\n",
       "       [3.62911272e-161, 8.95576862e-004, 9.99104423e-001],\n",
       "       [3.48865088e-169, 7.34632401e-003, 9.92653676e-001],\n",
       "       [1.22141282e-107, 5.66460401e-002, 9.43353960e-001],\n",
       "       [5.99794773e-110, 1.51143870e-001, 8.48856130e-001],\n",
       "       [2.17867081e-160, 5.96214310e-006, 9.99994038e-001],\n",
       "       [5.18264587e-154, 1.98154060e-002, 9.80184594e-001],\n",
       "       [4.09909460e-186, 1.51828865e-004, 9.99848171e-001],\n",
       "       [3.96133688e-197, 9.23421764e-003, 9.90765782e-001],\n",
       "       [1.48454192e-165, 1.83495222e-007, 9.99999817e-001],\n",
       "       [4.55066994e-111, 6.04961132e-001, 3.95038868e-001],\n",
       "       [1.91324993e-135, 2.15723326e-004, 9.99784277e-001],\n",
       "       [3.62718383e-203, 1.21272236e-007, 9.99999879e-001],\n",
       "       [2.74230249e-171, 5.38491028e-008, 9.99999946e-001],\n",
       "       [1.47335659e-138, 5.01901525e-002, 9.49809848e-001],\n",
       "       [1.85771601e-105, 1.40718867e-001, 8.59281133e-001],\n",
       "       [9.99427354e-149, 1.88999026e-004, 9.99811001e-001],\n",
       "       [7.82424421e-175, 1.04302494e-009, 9.99999999e-001],\n",
       "       [2.21256284e-145, 6.09200446e-009, 9.99999994e-001],\n",
       "       [6.15334255e-126, 4.56214944e-004, 9.99543785e-001],\n",
       "       [6.98453512e-184, 9.34123810e-007, 9.99999066e-001],\n",
       "       [4.83073094e-184, 1.84454959e-010, 1.00000000e+000],\n",
       "       [1.31349682e-150, 3.16817863e-009, 9.99999997e-001],\n",
       "       [1.79534307e-124, 1.65796279e-004, 9.99834204e-001],\n",
       "       [7.99355624e-134, 1.06795855e-003, 9.98932041e-001],\n",
       "       [1.81418261e-155, 1.17192114e-006, 9.99998828e-001],\n",
       "       [7.14615387e-119, 6.08206574e-002, 9.39179343e-001]])"
      ]
     },
     "execution_count": 131,
     "metadata": {},
     "output_type": "execute_result"
    }
   ],
   "source": [
    "# 1, 2, 3열이 각각 1, 2, 3일 확률\n",
    "qda.predict_proba(X1)"
   ]
  },
  {
   "cell_type": "code",
   "execution_count": 147,
   "metadata": {
    "scrolled": true
   },
   "outputs": [
    {
     "name": "stderr",
     "output_type": "stream",
     "text": [
      "/Users/sanghyuk/anaconda/envs/py38/lib/python3.8/site-packages/sklearn/utils/validation.py:67: FutureWarning: Pass classes=[0, 1, 2] as keyword args. From version 0.25 passing these as positional arguments will result in an error\n",
      "  warnings.warn(\"Pass {} as keyword args. From version 0.25 \"\n"
     ]
    },
    {
     "data": {
      "image/png": "[encoded data removed]",
      "text/plain": [
       "<Figure size 432x288 with 1 Axes>"
      ]
     },
     "metadata": {
      "image/png": {
       "height": 251,
       "width": 374
      }
     },
     "output_type": "display_data"
    }
   ],
   "source": [
    "from sklearn.preprocessing import label_binarize\n",
    "\n",
    "# answer\n",
    "y1_vec = label_binarize(y1, [0, 1, 2])\n",
    "\n",
    "from sklearn.metrics import roc_curve\n",
    "\n",
    "for i in range(3):\n",
    "    # binary model\n",
    "    model = QuadraticDiscriminantAnalysis().fit(X1, y1_vec[:, i])\n",
    "    fpr, tpr, thr = roc_curve(y1_vec[:, i], model.predict_proba(X1)[:, 1])\n",
    "    plt.plot(fpr, tpr)\n",
    "\n",
    "plt.show()"
   ]
  },
  {
   "cell_type": "code",
   "execution_count": 141,
   "metadata": {
    "scrolled": true
   },
   "outputs": [
    {
     "name": "stdout",
     "output_type": "stream",
     "text": [
      "[[1.00000000e+00 1.25181995e-24]\n",
      " [1.00000000e+00 1.94693278e-17]\n",
      " [1.00000000e+00 3.02553698e-20]\n",
      " [1.00000000e+00 1.86107755e-17]\n",
      " [1.00000000e+00 8.29537132e-26]\n",
      " [1.00000000e+00 1.64518684e-25]\n",
      " [1.00000000e+00 2.39102605e-20]\n",
      " [1.00000000e+00 2.86512726e-22]\n",
      " [1.00000000e+00 2.85795424e-15]\n",
      " [1.00000000e+00 8.68813022e-20]\n",
      " [1.00000000e+00 1.18003453e-27]\n",
      " [1.00000000e+00 3.90000843e-21]\n",
      " [1.00000000e+00 7.83351654e-19]\n",
      " [1.00000000e+00 1.19793998e-19]\n",
      " [1.00000000e+00 2.96367223e-36]\n",
      " [1.00000000e+00 4.40297000e-36]\n",
      " [1.00000000e+00 4.05216730e-29]\n",
      " [1.00000000e+00 5.13070310e-23]\n",
      " [1.00000000e+00 1.32188224e-26]\n",
      " [1.00000000e+00 1.87623182e-26]\n",
      " [1.00000000e+00 6.56757593e-22]\n",
      " [1.00000000e+00 1.70248924e-23]\n",
      " [1.00000000e+00 6.38979922e-28]\n",
      " [1.00000000e+00 9.77539683e-16]\n",
      " [1.00000000e+00 1.66329174e-19]\n",
      " [1.00000000e+00 1.96035966e-16]\n",
      " [1.00000000e+00 1.50482875e-18]\n",
      " [1.00000000e+00 3.63155884e-24]\n",
      " [1.00000000e+00 1.94034825e-23]\n",
      " [1.00000000e+00 2.50332551e-18]\n",
      " [1.00000000e+00 2.66652169e-17]\n",
      " [1.00000000e+00 2.89946249e-20]\n",
      " [1.00000000e+00 1.10771874e-35]\n",
      " [1.00000000e+00 6.55175343e-37]\n",
      " [1.00000000e+00 4.42181363e-18]\n",
      " [1.00000000e+00 1.13777409e-21]\n",
      " [1.00000000e+00 2.23137043e-26]\n",
      " [1.00000000e+00 1.73707077e-27]\n",
      " [1.00000000e+00 4.61560217e-17]\n",
      " [1.00000000e+00 1.65186548e-22]\n",
      " [1.00000000e+00 1.43967728e-23]\n",
      " [9.99999991e-01 9.34335978e-09]\n",
      " [1.00000000e+00 1.67498996e-19]\n",
      " [1.00000000e+00 1.04608686e-17]\n",
      " [1.00000000e+00 9.50209389e-22]\n",
      " [1.00000000e+00 6.04601608e-16]\n",
      " [1.00000000e+00 1.34157300e-27]\n",
      " [1.00000000e+00 2.52555723e-19]\n",
      " [1.00000000e+00 2.19876347e-27]\n",
      " [1.00000000e+00 1.40505966e-21]\n",
      " [2.64344449e-01 7.35655551e-01]\n",
      " [3.06315860e-01 6.93684140e-01]\n",
      " [1.66075682e-01 8.33924318e-01]\n",
      " [6.89622313e-02 9.31037769e-01]\n",
      " [1.17806098e-01 8.82193902e-01]\n",
      " [1.00307842e-01 8.99692158e-01]\n",
      " [3.29802193e-01 6.70197807e-01]\n",
      " [8.70255326e-02 9.12974467e-01]\n",
      " [1.09990471e-01 8.90009529e-01]\n",
      " [1.99956646e-01 8.00043354e-01]\n",
      " [1.70152538e-02 9.82984746e-01]\n",
      " [3.45509135e-01 6.54490865e-01]\n",
      " [1.25490597e-02 9.87450940e-01]\n",
      " [1.29122946e-01 8.70877054e-01]\n",
      " [6.18385125e-01 3.81614875e-01]\n",
      " [2.33097580e-01 7.66902420e-01]\n",
      " [1.27101461e-01 8.72898539e-01]\n",
      " [3.23015240e-01 6.76984760e-01]\n",
      " [3.39724644e-01 6.60275356e-01]\n",
      " [4.56696170e-02 9.54330383e-01]\n",
      " [7.26251882e-01 2.73748118e-01]\n",
      " [1.32458502e-01 8.67541498e-01]\n",
      " [3.06099682e-01 6.93900318e-01]\n",
      " [3.15397476e-01 6.84602524e-01]\n",
      " [1.10483559e-01 8.89516441e-01]\n",
      " [1.48908280e-01 8.51091720e-01]\n",
      " [6.79981794e-02 9.32001821e-01]\n",
      " [4.48905228e-01 5.51094772e-01]\n",
      " [1.64563641e-01 8.35436359e-01]\n",
      " [2.01017821e-01 7.98982179e-01]\n",
      " [3.31032852e-02 9.66896715e-01]\n",
      " [4.52535815e-02 9.54746418e-01]\n",
      " [9.06470785e-02 9.09352921e-01]\n",
      " [6.43125424e-01 3.56874576e-01]\n",
      " [9.95055133e-02 9.00494487e-01]\n",
      " [4.37608487e-01 5.62391513e-01]\n",
      " [1.79560535e-01 8.20439465e-01]\n",
      " [2.31696680e-02 9.76830332e-01]\n",
      " [1.63502215e-01 8.36497785e-01]\n",
      " [6.77713387e-02 9.32228661e-01]\n",
      " [9.74514519e-02 9.02548548e-01]\n",
      " [1.34896148e-01 8.65103852e-01]\n",
      " [5.14124978e-02 9.48587502e-01]\n",
      " [5.79741816e-02 9.42025818e-01]\n",
      " [6.80417944e-02 9.31958206e-01]\n",
      " [2.33579070e-01 7.66420930e-01]\n",
      " [1.09936734e-01 8.90063266e-01]\n",
      " [1.15884633e-01 8.84115367e-01]\n",
      " [6.67086262e-01 3.32913738e-01]\n",
      " [9.63719285e-02 9.03628071e-01]\n",
      " [9.99999995e-01 4.84436828e-09]\n",
      " [9.98088534e-01 1.91146647e-03]\n",
      " [9.99758963e-01 2.41037294e-04]\n",
      " [9.70414482e-01 2.95855176e-02]\n",
      " [9.99993485e-01 6.51519010e-06]\n",
      " [9.99990488e-01 9.51226821e-06]\n",
      " [9.64423890e-01 3.55761103e-02]\n",
      " [9.99362882e-01 6.37117871e-04]\n",
      " [9.99440911e-01 5.59088909e-04]\n",
      " [9.99999709e-01 2.90711967e-07]\n",
      " [9.93254684e-01 6.74531603e-03]\n",
      " [9.96924409e-01 3.07559070e-03]\n",
      " [9.99758756e-01 2.41243793e-04]\n",
      " [9.99994335e-01 5.66520765e-06]\n",
      " [1.00000000e+00 3.02875068e-12]\n",
      " [9.99999559e-01 4.40996132e-07]\n",
      " [8.94848741e-01 1.05151259e-01]\n",
      " [9.98689160e-01 1.31084008e-03]\n",
      " [1.00000000e+00 2.00371182e-11]\n",
      " [8.80715890e-01 1.19284110e-01]\n",
      " [9.99997543e-01 2.45707940e-06]\n",
      " [9.99834652e-01 1.65348123e-04]\n",
      " [9.99997825e-01 2.17537507e-06]\n",
      " [9.63143899e-01 3.68561008e-02]\n",
      " [9.96810202e-01 3.18979785e-03]\n",
      " [9.57574801e-01 4.24251995e-02]\n",
      " [9.50145923e-01 4.98540771e-02]\n",
      " [8.48737195e-01 1.51262805e-01]\n",
      " [9.99983609e-01 1.63906762e-05]\n",
      " [8.98697663e-01 1.01302337e-01]\n",
      " [9.98416438e-01 1.58356220e-03]\n",
      " [9.75456758e-01 2.45432418e-02]\n",
      " [9.99999544e-01 4.55761020e-07]\n",
      " [3.50930715e-01 6.49069285e-01]\n",
      " [9.95009668e-01 4.99033165e-03]\n",
      " [9.99998701e-01 1.29892503e-06]\n",
      " [9.99999591e-01 4.09297011e-07]\n",
      " [8.38054087e-01 1.61945913e-01]\n",
      " [8.73894714e-01 1.26105286e-01]\n",
      " [9.99480763e-01 5.19236883e-04]\n",
      " [9.99999994e-01 6.16389607e-09]\n",
      " [9.99999966e-01 3.37935183e-08]\n",
      " [9.98088534e-01 1.91146647e-03]\n",
      " [9.99996918e-01 3.08169151e-06]\n",
      " [9.99999999e-01 1.23137952e-09]\n",
      " [9.99999976e-01 2.40592528e-08]\n",
      " [9.99504148e-01 4.95852150e-04]\n",
      " [9.97493743e-01 2.50625727e-03]\n",
      " [9.99990355e-01 9.64488857e-06]\n",
      " [8.13525735e-01 1.86474265e-01]]\n"
     ]
    },
    {
     "name": "stderr",
     "output_type": "stream",
     "text": [
      "/Users/sanghyuk/anaconda/envs/py38/lib/python3.8/site-packages/sklearn/utils/validation.py:67: FutureWarning: Pass classes=[0, 1, 2] as keyword args. From version 0.25 passing these as positional arguments will result in an error\n",
      "  warnings.warn(\"Pass {} as keyword args. From version 0.25 \"\n"
     ]
    }
   ],
   "source": [
    "y1_vec = label_binarize(y1, [0, 1, 2])\n",
    "model = QuadraticDiscriminantAnalysis().fit(X1, y1_vec[:, 1])\n",
    "fpr, tpr, thr = roc_curve(y1_vec[:, i], model.predict_proba(X1)[:, 1])\n",
    "print(model.predict_proba(X1))"
   ]
  },
  {
   "cell_type": "code",
   "execution_count": 144,
   "metadata": {},
   "outputs": [
    {
     "data": {
      "text/plain": [
       "array([0, 0, 0, 0, 0, 0, 0, 0, 0, 0, 0, 0, 0, 0, 0, 0, 0, 0, 0, 0, 0, 0,\n",
       "       0, 0, 0, 0, 0, 0, 0, 0, 0, 0, 0, 0, 0, 0, 0, 0, 0, 0, 0, 0, 0, 0,\n",
       "       0, 0, 0, 0, 0, 0, 1, 1, 1, 1, 1, 1, 1, 1, 1, 1, 1, 1, 1, 1, 1, 1,\n",
       "       1, 1, 1, 1, 1, 1, 1, 1, 1, 1, 1, 1, 1, 1, 1, 1, 1, 1, 1, 1, 1, 1,\n",
       "       1, 1, 1, 1, 1, 1, 1, 1, 1, 1, 1, 1, 0, 0, 0, 0, 0, 0, 0, 0, 0, 0,\n",
       "       0, 0, 0, 0, 0, 0, 0, 0, 0, 0, 0, 0, 0, 0, 0, 0, 0, 0, 0, 0, 0, 0,\n",
       "       0, 0, 0, 0, 0, 0, 0, 0, 0, 0, 0, 0, 0, 0, 0, 0, 0, 0])"
      ]
     },
     "execution_count": 144,
     "metadata": {},
     "output_type": "execute_result"
    }
   ],
   "source": [
    "# 1 vs others\n",
    "y1_vec[:, 1]"
   ]
  },
  {
   "cell_type": "code",
   "execution_count": 146,
   "metadata": {
    "scrolled": true
   },
   "outputs": [
    {
     "data": {
      "text/plain": [
       "array([0.66666667, 0.33333333])"
      ]
     },
     "execution_count": 146,
     "metadata": {},
     "output_type": "execute_result"
    }
   ],
   "source": [
    "model.priors_"
   ]
  },
  {
   "cell_type": "code",
   "execution_count": null,
   "metadata": {},
   "outputs": [],
   "source": []
  },
  {
   "cell_type": "code",
   "execution_count": null,
   "metadata": {},
   "outputs": [],
   "source": []
  },
  {
   "cell_type": "code",
   "execution_count": null,
   "metadata": {},
   "outputs": [],
   "source": []
  },
  {
   "cell_type": "code",
   "execution_count": null,
   "metadata": {},
   "outputs": [],
   "source": []
  },
  {
   "cell_type": "code",
   "execution_count": 148,
   "metadata": {},
   "outputs": [
    {
     "data": {
      "text/plain": [
       "array([[50,  0,  0],\n",
       "       [ 0, 48,  2],\n",
       "       [ 0,  1, 49]])"
      ]
     },
     "execution_count": 148,
     "metadata": {},
     "output_type": "execute_result"
    }
   ],
   "source": [
    "from sklearn.datasets import load_iris\n",
    "iris = load_iris()\n",
    "X1 = iris.data\n",
    "y1 = iris.target\n",
    "\n",
    "from sklearn.discriminant_analysis import QuadraticDiscriminantAnalysis\n",
    "\n",
    "model = QuadraticDiscriminantAnalysis().fit(X1, y1)\n",
    "y1_pred = model.predict(X1)\n",
    "\n",
    "from sklearn.metrics import confusion_matrix\n",
    "\n",
    "confusion_matrix(y1, y1_pred)"
   ]
  },
  {
   "cell_type": "code",
   "execution_count": 149,
   "metadata": {},
   "outputs": [
    {
     "name": "stdout",
     "output_type": "stream",
     "text": [
      "              precision    recall  f1-score   support\n",
      "\n",
      "           0       1.00      1.00      1.00        50\n",
      "           1       0.98      0.96      0.97        50\n",
      "           2       0.96      0.98      0.97        50\n",
      "\n",
      "    accuracy                           0.98       150\n",
      "   macro avg       0.98      0.98      0.98       150\n",
      "weighted avg       0.98      0.98      0.98       150\n",
      "\n"
     ]
    }
   ],
   "source": [
    "from sklearn.metrics import classification_report\n",
    "\n",
    "print(classification_report(y1, y1_pred))"
   ]
  },
  {
   "cell_type": "code",
   "execution_count": 150,
   "metadata": {
    "collapsed": true
   },
   "outputs": [
    {
     "name": "stderr",
     "output_type": "stream",
     "text": [
      "/Users/sanghyuk/anaconda/envs/py38/lib/python3.8/site-packages/sklearn/utils/validation.py:67: FutureWarning: Pass classes=[0, 1, 2] as keyword args. From version 0.25 passing these as positional arguments will result in an error\n",
      "  warnings.warn(\"Pass {} as keyword args. From version 0.25 \"\n"
     ]
    },
    {
     "data": {
      "image/png": "[encoded data removed]",
      "text/plain": [
       "<Figure size 432x288 with 1 Axes>"
      ]
     },
     "metadata": {
      "image/png": {
       "height": 251,
       "width": 374
      }
     },
     "output_type": "display_data"
    }
   ],
   "source": [
    "from sklearn.preprocessing import label_binarize\n",
    "\n",
    "y1_vec = label_binarize(y1, [0, 1, 2])\n",
    "\n",
    "from sklearn.metrics import roc_curve\n",
    "\n",
    "for i in range(3):\n",
    "    model = QuadraticDiscriminantAnalysis().fit(X1, y1_vec[:, i])\n",
    "    fpr, tpr, thr = roc_curve(y1_vec[:, i], model.predict_proba(X1)[:, 1])\n",
    "    plt.plot(fpr, tpr)\n",
    "\n",
    "plt.show()"
   ]
  },
  {
   "cell_type": "code",
   "execution_count": null,
   "metadata": {},
   "outputs": [],
   "source": []
  },
  {
   "cell_type": "code",
   "execution_count": null,
   "metadata": {},
   "outputs": [],
   "source": []
  },
  {
   "cell_type": "markdown",
   "metadata": {},
   "source": [
    "QDA를 하다 보면 문제가, 가능도 함수를 추정하려면, class마다 평균벡터와 공분산행렬을 추정해야 한다. <br>\n",
    "feature가 1000개짜리면? 각 클래스마다 평균벡터($\\mu$)는 1000개짜리 벡터, 공분산행렬은 100만개짜리 행렬. <br>\n",
    "feature 10000개면? <br>\n",
    "\n",
    "줄이려고 노력을 해봐야지. <br>\n",
    "\n",
    "\n",
    "1. 데이터 분포 보면 대충 다들 동그랗게 모여있더라. 각 클래스마다 $\\mu$와 sigma추정하지 말고, 어차피 완전히 정확할 필요 없잖아(위에서도 mu/sigma추정한거 보면 원래랑 조금씩 달라). 각 class마다 mu와 sigma가 똑같다고 가정하자. -> 이것을 가정한게 바로 아래 Linear Discriminative Analysis.  "
   ]
  },
  {
   "cell_type": "markdown",
   "metadata": {},
   "source": [
    "### 선형판별분석법"
   ]
  },
  {
   "cell_type": "markdown",
   "metadata": {},
   "source": [
    "모든 class에 대해 $\\mu$와 sigma(공분산행렬) 같다고 가정한다."
   ]
  },
  {
   "cell_type": "markdown",
   "metadata": {},
   "source": [
    "선형판별분석법에서는 각 Y 클래스에 대한 독립변수 X의 조건부확률분포가 **공통된 공분산 행렬을 가지는** 다변수 정규분포(multivariate Gaussian normal distribution)이라고 가정한다. 즉\n",
    "\n",
    "$$ \\Sigma_k = \\Sigma \\;\\;\\; \\text{ for all } k $$\n",
    "\n",
    "이다.\n",
    "\n",
    "이 때는 조건부확률분포를 다음과 같이 정리할 수 있다.\n",
    "\n",
    "$$\n",
    "\\begin{eqnarray}\n",
    "\\log p(x \\mid y = k) \n",
    "&=& \\log \\dfrac{1}{(2\\pi)^{D/2} |\\Sigma|^{1/2}} -  \\dfrac{1}{2} (x-\\mu_k)^T \\Sigma^{-1} (x-\\mu_k) \\\\\n",
    "&=& C_0 - \\dfrac{1}{2} (x-\\mu_k)^T \\Sigma^{-1} (x-\\mu_k) \\\\\n",
    "&=& C_0 - \\dfrac{1}{2} \\left( x^T\\Sigma^{-1}x - 2\\mu_k^T \\Sigma^{-1}x + \\mu_k^T \\Sigma^{-1}\\mu_k \\right) \\\\\n",
    "&=& C(x)  + \\mu_k^T \\Sigma^{-1}x - \\dfrac{1}{2} \\mu_k^T \\Sigma^{-1}\\mu_k \\\\\n",
    "\\end{eqnarray}\n",
    "$$"
   ]
  },
  {
   "cell_type": "markdown",
   "metadata": {},
   "source": [
    "지수함수 취한다. "
   ]
  },
  {
   "cell_type": "markdown",
   "metadata": {},
   "source": [
    "\n",
    "$$\n",
    "\\begin{eqnarray}\n",
    "p(x \\mid y = k) \n",
    "&=& C'(x)\\exp(w_k^Tx + w_{k0}) \\\\\n",
    "\\end{eqnarray}\n",
    "$$\n",
    "\n",
    "이 식에서 $C'(x) = \\exp C(x) $이다."
   ]
  },
  {
   "cell_type": "markdown",
   "metadata": {},
   "source": [
    "여기까지는 가능도 구한거고, 이제 조건부확률 구해야지. "
   ]
  },
  {
   "cell_type": "markdown",
   "metadata": {},
   "source": [
    "$$\n",
    "\\begin{eqnarray}\n",
    "P(y=k \\mid x) \n",
    "&=& \\dfrac{p(x \\mid y = k)P(y=k)}{\\sum_l p(x \\mid y = l)P(y=l) } \\\\\n",
    "&=& \\dfrac{C'(x)\\exp(w_k^Tx + w_{k0}) P(y=k)}{\\sum_l C'(x)\\exp(w_l^Tx + w_{l0})P(y=l) } \\\\\n",
    "&=& \\dfrac{C'(x)\\exp(w_k^Tx + w_{k0}) P(y=k)}{C'(x)\\sum_l \\exp(w_l^Tx + w_{l0})P(y=l) } \\\\\n",
    "&=& \\dfrac{P(y=k) \\exp(w_k^Tx + w_{k0}) }{\\sum_l P(y=l) \\exp(w_l^Tx + w_{k0})} \\\\\n",
    "&=& \\dfrac{P(y=k) \\exp(w_k^Tx + w_{k0}) }{P(x)} \\\\\n",
    "\\end{eqnarray}\n",
    "$$\n",
    "\n",
    "이 식에서 $P(x)$는 $y$ 클래스값에 영향을 받지 않는다."
   ]
  },
  {
   "cell_type": "markdown",
   "metadata": {},
   "source": [
    "따라서\n",
    "\n",
    "$$\n",
    "\\log P(y=k \\mid x) = \\log P(y=k) + w_k^Tx + w_{k0} - \\log{P(x)} = w_k^Tx + C''_k\n",
    "$$\n",
    "\n",
    "모든 클래스 $k$에 대해 위와 같은 식이 성립하므로 클래스 $k_1$과 클래스 $k_2$의 경계선, 즉 두 클래스에 대한 확률값이 같아지는 $x$ 위치를 찾으면 다음과 같다.\n",
    "\n",
    "$$  w_{k_1}^Tx + C''_{k_1} = w_{k_2}^Tx + C''_{k_2} $$\n",
    "\n",
    "$$  (w_{k_1} - w_{k_2})^Tx + (C''_{k_1} - C''_{k_2}) = 0 $$\n",
    "\n",
    "$$  w^Tx + C = 0 $$\n",
    "\n",
    "\n",
    "즉, 판별함수가 x에 대한 선형방정식이 되고 ***경계선의 모양이 직선***이 된다."
   ]
  },
  {
   "cell_type": "markdown",
   "metadata": {},
   "source": [
    "Scikit-Learn은 선형판별분석법을 위한 `LinearDiscriminantAnalysis` 클래스를 제공한다. "
   ]
  },
  {
   "cell_type": "code",
   "execution_count": 155,
   "metadata": {},
   "outputs": [],
   "source": [
    "rv1 = sp.stats.multivariate_normal([ 0, 0], [[0.7, 0.0], [0.0, 0.7]])\n",
    "rv2 = sp.stats.multivariate_normal([ 1, 1], [[0.8, 0.2], [0.2, 0.8]])\n",
    "rv3 = sp.stats.multivariate_normal([-1, 1], [[0.8, 0.2], [0.2, 0.8]])\n",
    "np.random.seed(0)\n",
    "X1 = rv1.rvs(N)\n",
    "X2 = rv2.rvs(N)\n",
    "X3 = rv3.rvs(N)\n",
    "y1 = np.zeros(N)\n",
    "y2 = np.ones(N)\n",
    "y3 = 2 * np.ones(N)\n",
    "X = np.vstack([X1, X2, X3])\n",
    "y = np.hstack([y1, y2, y3])"
   ]
  },
  {
   "cell_type": "code",
   "execution_count": 156,
   "metadata": {},
   "outputs": [],
   "source": [
    "from sklearn.discriminant_analysis import LinearDiscriminantAnalysis\n",
    "\n",
    "lda = LinearDiscriminantAnalysis(n_components=2, solver=\"svd\", store_covariance=True).fit(X, y)"
   ]
  },
  {
   "cell_type": "markdown",
   "metadata": {},
   "source": [
    "선형판별분석법에서는 기댓값 벡터만 클래스에 따라 달라지고 공분산 행렬은 공통으로 추정한다."
   ]
  },
  {
   "cell_type": "code",
   "execution_count": 157,
   "metadata": {},
   "outputs": [
    {
     "data": {
      "text/plain": [
       "array([[-8.01254084e-04,  1.19457204e-01],\n",
       "       [ 1.16303727e+00,  1.03930605e+00],\n",
       "       [-8.64060404e-01,  1.02295794e+00]])"
      ]
     },
     "execution_count": 157,
     "metadata": {},
     "output_type": "execute_result"
    }
   ],
   "source": [
    "lda.means_"
   ]
  },
  {
   "cell_type": "code",
   "execution_count": 158,
   "metadata": {},
   "outputs": [
    {
     "data": {
      "text/plain": [
       "array([[0.7718516 , 0.13942905],\n",
       "       [0.13942905, 0.7620019 ]])"
      ]
     },
     "execution_count": 158,
     "metadata": {},
     "output_type": "execute_result"
    }
   ],
   "source": [
    "lda.covariance_"
   ]
  },
  {
   "cell_type": "markdown",
   "metadata": {},
   "source": [
    "결과는 다음처럼 직선인 경계선을 가진다."
   ]
  },
  {
   "cell_type": "code",
   "execution_count": 160,
   "metadata": {},
   "outputs": [
    {
     "data": {
      "image/png": "[encoded data removed]",
      "text/plain": [
       "<Figure size 432x288 with 1 Axes>"
      ]
     },
     "metadata": {
      "image/png": {
       "height": 281,
       "width": 386
      }
     },
     "output_type": "display_data"
    }
   ],
   "source": [
    "x1min, x1max = -5, 5\n",
    "x2min, x2max = -4, 5\n",
    "XX1, XX2 = np.meshgrid(np.arange(x1min, x1max, (x1max-x1min)/1000),\n",
    "                       np.arange(x2min, x2max, (x2max-x2min)/1000))\n",
    "YY = np.reshape(lda.predict(np.array([XX1.ravel(), XX2.ravel()]).T), XX1.shape)\n",
    "cmap = mpl.colors.ListedColormap(sns.color_palette([\"r\", \"g\", \"b\"]).as_hex())\n",
    "plt.contourf(XX1, XX2, YY, cmap=cmap, alpha=0.5)\n",
    "plt.scatter(X1[:, 0], X1[:, 1], alpha=0.8, s=50, marker=\"o\", color='r', label=\"Class 1\")\n",
    "plt.scatter(X2[:, 0], X2[:, 1], alpha=0.8, s=50, marker=\"s\", color='g', label=\"Class 2\")\n",
    "plt.scatter(X3[:, 0], X3[:, 1], alpha=0.8, s=50, marker=\"x\", color='b', label=\"Class 3\")\n",
    "plt.xlim(x1min, x1max)\n",
    "plt.ylim(x2min, x2max)\n",
    "plt.xlabel(\"$x_1$\")\n",
    "plt.ylabel(\"$x_2$\")\n",
    "plt.legend()\n",
    "plt.title(\"LDA Result Analysis\")\n",
    "plt.show()"
   ]
  },
  {
   "cell_type": "markdown",
   "metadata": {},
   "source": [
    "이론적으로 그랬던 것처럼, 직선으로 영역이 나오네. "
   ]
  },
  {
   "cell_type": "markdown",
   "metadata": {},
   "source": [
    "어쨋든 중요한것은, ***Covariance Matrix가 공통이라고 가정하면, QDA가 아니라 LDA이다.*** 라는 것만 알면 된다. "
   ]
  },
  {
   "cell_type": "markdown",
   "metadata": {},
   "source": []
  },
  {
   "cell_type": "code",
   "execution_count": null,
   "metadata": {},
   "outputs": [],
   "source": []
  },
  {
   "cell_type": "markdown",
   "metadata": {},
   "source": [
    "#### 연습 문제 2\n",
    "\n",
    "선형판별분석법을 사용하여 붓꽃 분류문제를 풀고 성능을 분류결과표와 분류보고서를 출력하라. 그리고 각 클래스에 대한 ROC 커브를 그려라."
   ]
  },
  {
   "cell_type": "code",
   "execution_count": 161,
   "metadata": {},
   "outputs": [
    {
     "data": {
      "text/plain": [
       "array([[50,  0,  0],\n",
       "       [ 0, 48,  2],\n",
       "       [ 0,  1, 49]])"
      ]
     },
     "execution_count": 161,
     "metadata": {},
     "output_type": "execute_result"
    }
   ],
   "source": [
    "from sklearn.datasets import load_iris\n",
    "iris = load_iris()\n",
    "X2 = iris.data\n",
    "y2 = iris.target\n",
    "\n",
    "from sklearn.discriminant_analysis import LinearDiscriminantAnalysis\n",
    "\n",
    "model = LinearDiscriminantAnalysis().fit(X2, y2)\n",
    "y2_pred = model.predict(X2)\n",
    "\n",
    "from sklearn.metrics import confusion_matrix\n",
    "\n",
    "confusion_matrix(y2, y2_pred)"
   ]
  },
  {
   "cell_type": "code",
   "execution_count": 163,
   "metadata": {},
   "outputs": [
    {
     "name": "stdout",
     "output_type": "stream",
     "text": [
      "              precision    recall  f1-score   support\n",
      "\n",
      "           0       1.00      1.00      1.00        50\n",
      "           1       0.98      0.96      0.97        50\n",
      "           2       0.96      0.98      0.97        50\n",
      "\n",
      "    accuracy                           0.98       150\n",
      "   macro avg       0.98      0.98      0.98       150\n",
      "weighted avg       0.98      0.98      0.98       150\n",
      "\n"
     ]
    }
   ],
   "source": [
    "from sklearn.metrics import classification_report\n",
    "\n",
    "print(classification_report(y2, y2_pred))"
   ]
  },
  {
   "cell_type": "code",
   "execution_count": 164,
   "metadata": {},
   "outputs": [
    {
     "name": "stderr",
     "output_type": "stream",
     "text": [
      "/Users/sanghyuk/anaconda/envs/py38/lib/python3.8/site-packages/sklearn/utils/validation.py:67: FutureWarning: Pass classes=[0, 1, 2] as keyword args. From version 0.25 passing these as positional arguments will result in an error\n",
      "  warnings.warn(\"Pass {} as keyword args. From version 0.25 \"\n"
     ]
    },
    {
     "data": {
      "image/png": "[encoded data removed]",
      "text/plain": [
       "<Figure size 432x288 with 1 Axes>"
      ]
     },
     "metadata": {
      "image/png": {
       "height": 251,
       "width": 374
      }
     },
     "output_type": "display_data"
    }
   ],
   "source": [
    "from sklearn.preprocessing import label_binarize\n",
    "\n",
    "y2_vec = label_binarize(y2, [0, 1, 2])\n",
    "\n",
    "from sklearn.metrics import roc_curve\n",
    "\n",
    "for i in range(3):\n",
    "    model = LinearDiscriminantAnalysis().fit(X2, y2_vec[:, i])\n",
    "    fpr, tpr, thr = roc_curve(y2_vec[:, i], model.predict_proba(X2)[:, 1])\n",
    "    plt.plot(fpr, tpr)\n",
    "\n",
    "plt.show()"
   ]
  },
  {
   "cell_type": "code",
   "execution_count": null,
   "metadata": {},
   "outputs": [],
   "source": []
  },
  {
   "cell_type": "code",
   "execution_count": null,
   "metadata": {},
   "outputs": [],
   "source": []
  },
  {
   "cell_type": "code",
   "execution_count": null,
   "metadata": {},
   "outputs": [],
   "source": []
  },
  {
   "cell_type": "markdown",
   "metadata": {},
   "source": [
    "## 7.2 나이브베이즈 분류모형"
   ]
  },
  {
   "cell_type": "markdown",
   "metadata": {},
   "source": [
    "현실적으로 텍스트 분석에서 굉장히 많이 쓰이는 모형. 왜냐하면, X/feature의 종류가 굉장히 많다. BOW방법을 쓰니깐. <br>\n",
    "그 안에 단어마다(ngram 쓰면 구문/구절마다) token이 생긴다. 그 토큰의 갯수가 feature의 갯수가 된다. 그러면 feature가 수만개 수십만개씩 돼. <br>그러면 현실적으로, 계산이 안된다. <br>\n",
    "\n",
    "feature 10만개면 QDA/LDA 시그마 계산하는데 100억개야. 100억개를 어떻게 추정해? 시간도 시간인데, 실제로는 이정도를 추정하면 추정해서 나온 값이 거의 쓸모가 없는 값이 나온다. 쓰레기들만 나온다(random-matrix theory). <br>\n",
    "데이터는 수천개인데 거기서 수백억개를 강제로 뽑는다? 노이즈가 실리게 된다. 그래서 실제로는 쓰레기만 나온다.  <br>\n",
    "\n",
    "\n",
    "그래서 나이브베이즈를 쓰게 된다. QDA에 조건부 독립 가정하는 것. "
   ]
  },
  {
   "cell_type": "markdown",
   "metadata": {},
   "source": [
    "### 조건부독립"
   ]
  },
  {
   "cell_type": "markdown",
   "metadata": {},
   "source": [
    "확률변수 A, B가 독립이면 A, B의 결합확률은 주변확률의 곱과 같다.\n",
    "\n",
    "$$ P(A, B) = P(A)P(B) $$\n",
    "\n",
    "조건부독립(conditional independence)은 일반적인 독립과 달리 조건이 되는 별개의 확률변수 C가 존재해야 한다.\n",
    "조건이 되는 확률변수 C에 대한 A, B의 결합조건부확률이 C에 대한 A, B의 조건부확률의 곱과 같으면 A와 B가 C에 대해 조건부독립이라고 한다. 즉, 조건부 독립은 C가 주어졌을때만 독립이 되는 것을 의미한다. C가 주어지지 않으면 당연히 독립이 아닐 수도 있다. \n",
    "\n",
    "$$ P(A, B|C) = P(A|C) P(B|C) $$\n",
    "\n",
    "기호로는 다음과 같이 표기한다.\n",
    "\n",
    "$$ A \\text{⫫} B \\;\\vert\\; C $$\n",
    "\n",
    "조건부독립과 비교하여 일반적인 독립은 무조건부독립이라고 한다. 무조건부독립은 다음과 같이 표기하도 한다(아예 공집합 기호 안써도 무조건부 독립).\n",
    "\n",
    "$$ A \\text{⫫} B \\;\\vert\\; \\emptyset $$\n",
    "\n",
    "A, B가 C에 대해 조건부독립이면 다음도 만족한다.\n",
    "\n",
    "$$ P(A|B,C) = P(A|C) $$\n",
    "\n",
    "$$ P(B|A,C) = P(B|C) $$\n",
    "\n",
    "주의할 점은 조건부독립과 무조건부독립은 관계가 없다는 점이다. 즉, 두 확률변수가 독립이라고 항상 조건부독립이 되는 것도 아니고 조건부독립이라고 꼭 독립이 되는 것도 아니다.\n",
    "\n",
    "$$ P(A,B) = P(A)P(B) \\;\\; \\bcancel{\\implies} \\;\\; P(A,B|C) = P(A|C)P(B|C) $$\n",
    "\n",
    "$$  P(A,B|C) = P(A|C)P(B|C) \\;\\; \\bcancel{\\implies} \\;\\; P(A,B) = P(A)P(B) $$"
   ]
  },
  {
   "cell_type": "markdown",
   "metadata": {},
   "source": [
    "예를 들어 어떤 동물의 어미의 몸무게가 $x$kg일 때 새끼의 몸무게는 $x$를 기댓값으로 하고 5kg 표준편차를 가지는 정규분포라고 가정하자. 이 동물의 새끼 중 2마리의 몸무게를 각각 A, B라고 하고 어미의 몸무게를 C라고 한다. 시물레이션을 통해 어미 표본과 각각의 어미에 대해 2마리의 새끼 표본을 만들자."
   ]
  },
  {
   "cell_type": "markdown",
   "metadata": {},
   "source": [
    "어미가 Xkg, 새끼는 X+-N(0, 5)따른다고 가정 한다고 해보자. <br>\n",
    "그러면 형 돼지가 무거우면 동생 돼지도 무겁냐? <br>\n",
    "형 돼지가 무거우면 동생 돼지도 무겁겠구나 생각할 수 있지.  <br>\n",
    "\n",
    "두 자식 돼지도 상관관계가 있는 거지. 근데, 조건부독립이야. 어미의 몸무게에 대해서 조건부독립.  <br>\n",
    "\n",
    "\n",
    "만약 어미가 100kg다. 그거를 아는 상태에서 형이 95kg라고 동생도 그래? 그런건 아니지. 100에서 +-5 사이로는 지 맘대로 나오는거야.  <br>\n",
    "그러니깐 독립인 것.  <br>\n",
    "\n",
    "즉, \"같은어미다\"를 빼면 서로 상관관계가 있다. 그런데, 어미가 같은 어미다 라고 박는 순간 형이 큰거랑 동생이 큰거랑 상관이 없어. "
   ]
  },
  {
   "cell_type": "code",
   "execution_count": 165,
   "metadata": {},
   "outputs": [],
   "source": [
    "np.random.seed(0)\n",
    "C = np.random.normal(100, 15, 2000) # 어미 몸무게\n",
    "A = C + np.random.normal(0, 5, 2000) # 형 몸무게\n",
    "B = C + np.random.normal(0, 5, 2000) # 동생 몸무게"
   ]
  },
  {
   "cell_type": "markdown",
   "metadata": {},
   "source": [
    "스캐터플롯을 보면 B와 C 자체는 상관관계가 있음을 알 수 있다. 하지만 어미의 몸무게가 고정되어 있으면 두 새끼의 몸무게는 서로 독립인 것을 볼 수 있다."
   ]
  },
  {
   "cell_type": "code",
   "execution_count": 171,
   "metadata": {},
   "outputs": [
    {
     "data": {
      "text/plain": [
       "array([False, False, False, ..., False, False, False])"
      ]
     },
     "execution_count": 171,
     "metadata": {},
     "output_type": "execute_result"
    }
   ],
   "source": [
    "idx1"
   ]
  },
  {
   "cell_type": "code",
   "execution_count": 170,
   "metadata": {},
   "outputs": [
    {
     "data": {
      "image/png": "[encoded data removed]",
      "text/plain": [
       "<Figure size 576x288 with 2 Axes>"
      ]
     },
     "metadata": {
      "image/png": {
       "height": 278,
       "width": 565
      }
     },
     "output_type": "display_data"
    }
   ],
   "source": [
    "plt.figure(figsize=(8, 4))\n",
    "\n",
    "plt.subplot(121)\n",
    "plt.scatter(A, B)\n",
    "plt.xlabel(\"A\")\n",
    "plt.ylabel(\"B\")\n",
    "plt.xlim(30, 180)\n",
    "plt.ylim(30, 180)\n",
    "plt.title(\"Unconditional Correlation with A and B\")\n",
    "\n",
    "plt.subplot(122)\n",
    "idx1 = (118 < C) & (C < 122)\n",
    "idx2 = (78 < C) & (C < 82)\n",
    "plt.scatter(A[idx1], B[idx1], label=\"C=120\")\n",
    "plt.scatter(A[idx2], B[idx2], label=\"C=80\")\n",
    "plt.xlabel(\"A\")\n",
    "plt.ylabel(\"B\")\n",
    "plt.xlim(30, 180)\n",
    "plt.ylim(30, 180)\n",
    "plt.legend()\n",
    "plt.title(\"Conditional Correlation with A and B\")\n",
    "\n",
    "plt.tight_layout()\n",
    "plt.show()"
   ]
  },
  {
   "cell_type": "markdown",
   "metadata": {},
   "source": [
    "즉, 어미랑 아예 무관하게 보면 A랑 B는 관련이 되겠지. <br>\n",
    "근데, 어미가 결정 됬다? 그러면 그때부터는 독립이야. 자식들 끼리는 그냥 각 독립 정규분포야. "
   ]
  },
  {
   "cell_type": "code",
   "execution_count": null,
   "metadata": {},
   "outputs": [],
   "source": []
  },
  {
   "cell_type": "code",
   "execution_count": null,
   "metadata": {},
   "outputs": [],
   "source": []
  },
  {
   "cell_type": "markdown",
   "metadata": {},
   "source": [
    "### 나이브 가정"
   ]
  },
  {
   "cell_type": "markdown",
   "metadata": {},
   "source": [
    "독립변수 $x$가 $D$차원이라고 가정하자. \n",
    "\n",
    "$$ x = (x_1, \\ldots, x_D) $$\n",
    "\n",
    "가능도함수는 $x_1, \\ldots, x_D$의 결합확률이 된다.\n",
    "\n",
    "$$ P(x \\mid y = k) = P(x_1, \\ldots, x_D \\mid y = k) $$ \n",
    "\n",
    "원리상으로는 $y=k$인 데이터만 모아서 이 가능도함수의 모양을 추정할 수 있다. 하지만 차원 $D$가 커지면 가능도함수의 추정이 현실적으로 어려워진다. \n",
    "\n",
    "따라서 나이즈베이즈 분류모형(Naive Bayes classification model)에서는 모든 차원의 개별 독립변수가 서로 조건부독립(conditional independent)이라는 가정을 사용한다. 이러한 가정을 나이브 가정(naive assumption)이라고 한다.\n",
    "\n",
    "\n",
    "\n",
    "나이브 가정으로 사용하면 벡터 $x$의 결합확률분포함수는 개별 스칼라 원소 $x_d$의 확률분포함수의 곱이 된다.\n",
    "\n",
    "$$\n",
    "P(x_1, \\ldots, x_D \\mid y = k) = \\prod_{d=1}^D P(x_d \\mid y = k)\n",
    "$$\n",
    "\n",
    "스칼라 원소 $x_d$의 확률분포함수는 결합확률분포함수보다 추정하기 훨씬 쉽다.\n",
    "\n",
    "가능도함수를 추정한 후에는 베이즈정리를 사용하여 조건부확률을 계산할 수 있다.\n",
    "\n",
    "$$\n",
    "\\begin{align}\n",
    "P(y = k \\mid x) \n",
    "&= \\dfrac{ P(x_1, \\ldots, x_D \\mid y = k) P(y = k) }{P(x)} \\\\\n",
    "&= \\dfrac{ \\left( \\prod_{d=1}^D P(x_{d} \\mid y = k) \\right) P(y = k) }{P(x)}\n",
    "\\end{align}\n",
    "$$\n"
   ]
  },
  {
   "cell_type": "markdown",
   "metadata": {},
   "source": [
    "즉, 같은 클래스라는 조건이 있는 경우에는 결합확률분포를 구할 때 그냥 곱해서 구한다는 것. "
   ]
  },
  {
   "cell_type": "markdown",
   "metadata": {},
   "source": [
    "그럼 가능도 함수는? 3가지를 가장 많이 사용한다. <br>\n",
    "- 정규분포\n",
    "- 베르누이분포\n",
    "- 다항분포"
   ]
  },
  {
   "cell_type": "markdown",
   "metadata": {},
   "source": [
    "### 정규분포 가능도 모형"
   ]
  },
  {
   "cell_type": "markdown",
   "metadata": {},
   "source": [
    "$x$ 벡터의 원소가 모두 실수이고 클래스마다 특정한 값 주변에서 발생한다고 하면 가능도 분포로 정규분포를 사용한다.\n",
    "각 독립변수 $x_d$마다, 그리고 클래스 $k$마다 정규 분포의 기댓값 $\\mu_{d,k}$, 표준 편차 $\\sigma_{d,k}^2$가 달라진다. QDA 모형과는 달리 모든 독립변수들이 서로 조건부독립이라고 가정한다. 같은 클래스 내에서는 독립. \n",
    "\n",
    "$$ P(x_d \\mid y = k) = \\dfrac{1}{\\sqrt{2\\pi\\sigma_{d,k}^2}} \\exp \\left(-\\dfrac{(x_d-\\mu_{d,k})^2}{2\\sigma_{d,k}^2}\\right) $$\n",
    "  "
   ]
  },
  {
   "cell_type": "markdown",
   "metadata": {},
   "source": [
    "같은 클래스 내에서는 독립. 그러면, 시그마라고 하는 공분산행렬을 구할 필요가 없는 것. 왜냐면, 공분산 행렬 구해봐야. <br>\n",
    "\n",
    "공분산행렬이 대각행렬에 대각선 각 요소가 각 feature의 분산이 되고 끝. 나머지 0. \n",
    "여기는 단변수 정규분포 여러개를 곱해놓은 형태로 가능도 함수가 나오겠지. "
   ]
  },
  {
   "cell_type": "markdown",
   "metadata": {},
   "source": [
    "### 베르누이분포 가능도 모형"
   ]
  },
  {
   "cell_type": "markdown",
   "metadata": {},
   "source": [
    "베르누이분포 가능도 모형에서는 각각의 $x = (x_1,\\ldots, x_D)$의 각 원소 $x_d$가 0 또는 1이라는 값만을 가질 수 있다. 즉 독립변수는 $D$개의 독립적인 베르누이 확률변수, 즉 동전으로 구성된 동전 세트로 표현할 수 있다. 이 동전들의 모수 $\\mu_{d}$는 동전 $d$마다 다르다.\n",
    "\n",
    "그런데 클래스 $y = k$ $(k=1,\\ldots,K)$마다도 $x_d$가 1이 될 확률이 다르다. 즉, 동전의 모수 $\\mu_{d,k}$는 동전 $d$마다 다르고 클래스 $k$마다도 다르다. 즉, 전체 $D \\times K$의 동전이 존재하며 같은 클래스에 속하는 $D$개의 동전이 하나의 동전 세트를 구성하고 이러한 동전 세트가 $K$개 있다고 생각할 수 있다.\n",
    "\n",
    "$$ P(x_d \\mid y = k) = \\mu_{d,k}^{x_d} (1-\\mu_{d,k})^{(1-x_d)} $$\n",
    "\n",
    "$$ \n",
    "P(x_1, \\ldots, x_D \\mid y = k) \n",
    "= \\prod_{d=1}^D \\mu_{d,k}^{x_d} (1-\\mu_{d,k})^{(1-x_d)}\n",
    "$$\n",
    "\n",
    "이러한 동전 세트마다 확률 특성이 다르므로 베르누이분포 가능도 모형을 기반으로 하는 나이브베이즈 모형은 동전 세트를 $N$번 던진 결과로부터 $1,\\ldots,K$ 중 어느 동전 세트를 던졌는지를 찾아내는 모형이라고 할 수 있다."
   ]
  },
  {
   "cell_type": "markdown",
   "metadata": {},
   "source": [
    "### 다항분포 가능도 모형"
   ]
  },
  {
   "cell_type": "markdown",
   "metadata": {},
   "source": [
    "x 벡터 전체가 다항분포의 표본이라 가정. "
   ]
  },
  {
   "cell_type": "markdown",
   "metadata": {},
   "source": [
    "다항분포 모형에서는 $x$ 벡터가 다항분포의 표본이라고 가정한다. 즉, $D$개의 면을 가지는 주사위를 $\\sum_{d=1}^D x_d$번 던져서 나온 결과로 본다.\n",
    "예를 들어 $x$가 다음과 같다면,\n",
    "\n",
    "$$ x = (1, 4, 0, 5) $$\n",
    "\n",
    "4면체 주사위를 10번 던져서 1인 면이 1번, 2인 면이 4번, 4인 면이 5번 나온 결과로 해석한다.\n",
    "\n",
    "각 클래스마다 주사위가 다르다고 가정하므로 $K$개의 클래스를 구분하는 문제에서는 $D$개의 면을 가진 주사위가  $K$개 있다고 본다. \n",
    "\n",
    "$$ \n",
    "P(x_1, \\ldots, x_D \\mid y = k) \n",
    "\\;\\; \\propto \\;\\; \\prod_{d=1}^D \\mu_{d,k}^{x_{d,k}} \n",
    "$$\n",
    "\n",
    "$$ \\sum_{d=1}^{D} \\mu_{d,k} = 1 $$\n",
    "\n",
    "따라서 다항분포 가능도 모형을 기반으로 하는 나이브베이즈 모형은 주사위를 던진 결과로부터  $1,\\ldots,K$ 중 어느 주사위를 던졌는지를 찾아내는 모형이라고 할 수 있다."
   ]
  },
  {
   "cell_type": "markdown",
   "metadata": {},
   "source": [
    "다항분포는 원래 함수 자체가 원래 곱하기 형태로 되어 있음. <br>\n",
    "독립이라서 서로 곱한건 아니야. 원래 이렇게 생긴거야. 그냥. <br>\n",
    "잘 생각해보면 여기 뭐 독립이라고 나온게 이상하긴 한 것. 서로 독립은 아니지. 전체 갯수의 합이 N으로 똑같아야 되니깐. <br>\n",
    "\n",
    "그냥 하다 보니깐, 결합함수가 곱형태라서 나이브베이즈 모델에 그냥 끼워 넣고 쓰는 것. "
   ]
  },
  {
   "cell_type": "code",
   "execution_count": null,
   "metadata": {},
   "outputs": [],
   "source": []
  },
  {
   "cell_type": "markdown",
   "metadata": {},
   "source": [
    "### 사이킷런에서 제공하는 나이브베이즈 모형"
   ]
  },
  {
   "cell_type": "markdown",
   "metadata": {},
   "source": [
    "사이킷런의 naive_bayes 서브패키지에서는 다음과 같은 세가지 나이브베이즈 모형 클래스를 제공한다.\n",
    "\n",
    "* [`GaussianNB`](http://scikit-learn.org/stable/modules/generated/sklearn.naive_bayes.GaussianNB.html):\t정규분포 나이브베이즈(x들이 실수 일 때)\n",
    "* [`BernoulliNB`](http://scikit-learn.org/stable/modules/generated/sklearn.naive_bayes.BernoulliNB.html): 베르누이분포 나이브베이즈(x들이 01010100 이렇게 되어 있을 때)\n",
    "* [`MultinomialNB`](http://scikit-learn.org/stable/modules/generated/sklearn.naive_bayes.MultinomialNB.html): 다항분포 나이브베이즈(x값이 정수 일 때)\n"
   ]
  },
  {
   "cell_type": "markdown",
   "metadata": {},
   "source": [
    "이 클래스들은 다양한 속성값 및 메서드를 가진다. 우선 사전 확률과 관련된 속성은 다음과 같다."
   ]
  },
  {
   "cell_type": "markdown",
   "metadata": {},
   "source": [
    "* `classes_`\n",
    "\n",
    " * 종속변수 Y의 클래스(라벨) - Y의 클래스가 뭐가 존재하는지. \n",
    "\n",
    "\n",
    "* `class_count_`\n",
    "\n",
    " * 종속변수 Y의 값이 특정한 클래스인 표본 데이터의 수 - 각각의 Y클래스 별로 데이터가 몇개씩 있는지. \n",
    "\n",
    "\n",
    "* `class_prior_`\n",
    "\n",
    " * 종속변수 Y의 무조건부 확률분포 $ P(Y) $ (정규분포의 경우에만) - 사전확률\n",
    " \n",
    "\n",
    "* `class_log_prior_`\n",
    "\n",
    " * 종속변수 Y의 무조건부 확률분포의 로그 $ \\log P(Y) $ (베르누이분포나 다항분포의 경우에만) - 사전확률에 log\n",
    " "
   ]
  },
  {
   "cell_type": "code",
   "execution_count": null,
   "metadata": {},
   "outputs": [],
   "source": []
  },
  {
   "cell_type": "markdown",
   "metadata": {},
   "source": [
    "### 정규분포 나이브베이즈 모형"
   ]
  },
  {
   "cell_type": "markdown",
   "metadata": {},
   "source": [
    "가우시안 나이브베이즈 모형 `GaussianNB`은 가능도 추정과 관련하여 다음과 같은 속성을 가진다(둘다 벡터).\n",
    "\n",
    "* `theta_`: 정규분포의 기댓값 $\\mu$\n",
    "* `sigma_`: 정규분포의 분산 $\\sigma^2$  - 이것도 벡터. 왜냐면 어차피 서로 독립이니깐, Covariance Matrix에서 비대각성분들은 0이 된다. "
   ]
  },
  {
   "cell_type": "markdown",
   "metadata": {},
   "source": [
    "#### 예제\n",
    "\n",
    "실수인 두 개의 독립변수 $x_1, x_2$와 두 종류의 클래스 $y=0,1$을 가지는 분류문제가 있다. \n",
    "\n",
    "두 독립변수의 분포는 정규분포이고 $y$의 클래스에 따라 다음처럼 모수가 달라진다.\n",
    "\n",
    "$$ \n",
    "\\mu_0 = \\begin{bmatrix} -2 \\\\ -2 \\end{bmatrix},\n",
    "\\;\\; \n",
    "\\Sigma_0 = \\begin{bmatrix} 1 & 0.9 \\\\ 0.9 & 2 \\end{bmatrix} \n",
    "$$\n",
    "$$ \n",
    "\\mu_1 = \\begin{bmatrix} 2 \\\\ 2 \\end{bmatrix},\n",
    "\\;\\; \n",
    "\\Sigma_1 = \\begin{bmatrix} 1.2 & -0.8 \\\\ -0.8 & 2 \\end{bmatrix} \n",
    "$$\n",
    "\n",
    "데이터는 $y=0$인 데이터가 40개, $y=1$인 데이터가 60개 주어졌다. 이 데이터를 시각화하면 다음과 같다."
   ]
  },
  {
   "cell_type": "code",
   "execution_count": 173,
   "metadata": {},
   "outputs": [
    {
     "data": {
      "image/png": "[encoded data removed]",
      "text/plain": [
       "<Figure size 432x288 with 1 Axes>"
      ]
     },
     "metadata": {
      "image/png": {
       "height": 266,
       "width": 371
      }
     },
     "output_type": "display_data"
    }
   ],
   "source": [
    "np.random.seed(0)\n",
    "rv0 = sp.stats.multivariate_normal([-2, -2], [[1, 0.9], [0.9, 2]])\n",
    "rv1 = sp.stats.multivariate_normal([2, 2], [[1.2, -0.8], [-0.8, 2]])\n",
    "X0 = rv0.rvs(40)\n",
    "X1 = rv1.rvs(60)\n",
    "X = np.vstack([X0, X1])\n",
    "y = np.hstack([np.zeros(40), np.ones(60)])\n",
    "\n",
    "xx1 = np.linspace(-5, 5, 100)\n",
    "xx2 = np.linspace(-5, 5, 100)\n",
    "XX1, XX2 = np.meshgrid(xx1, xx2)\n",
    "plt.grid(False)\n",
    "plt.contour(XX1, XX2, rv0.pdf(np.dstack([XX1, XX2])), cmap=mpl.cm.cool)\n",
    "plt.contour(XX1, XX2, rv1.pdf(np.dstack([XX1, XX2])), cmap=mpl.cm.hot)\n",
    "plt.scatter(X0[:, 0], X0[:, 1], marker=\"o\", c='b', label=\"y=0\")\n",
    "plt.scatter(X1[:, 0], X1[:, 1], marker=\"s\", c='r', label=\"y=1\")\n",
    "plt.legend()\n",
    "plt.title(\"Distribution of Data\")\n",
    "plt.axis(\"equal\")\n",
    "plt.show()"
   ]
  },
  {
   "cell_type": "markdown",
   "metadata": {},
   "source": [
    "이걸 QDA로 풀면? 각각의 mu와 sigma를 구해서 추정한다. <br>\n",
    "LDA를 하게 되면? mu는 추정하고, sigma는 다 똑같다고 가정하고 푼다(그렇게 하면, 위에 데이터에서 두 데이터의 타원 모양이 똑같은 것). <br>\n",
    "나이브베이즈에서는? 두개가 독립이라고 가정하니깐, 두 타원이 둘다 수직으로 딱 나오지. 하단에 그림 참고. <br>\n",
    "타원이 딱 수직으로 생겼다고 가정하고 모델링을 해버린다. \n",
    "![1_71.png](./materials/1_71.png)"
   ]
  },
  {
   "cell_type": "code",
   "execution_count": null,
   "metadata": {},
   "outputs": [],
   "source": []
  },
  {
   "cell_type": "markdown",
   "metadata": {},
   "source": [
    "이 데이터를 가우시안 나이브베이즈 모형으로 다음처럼 풀 수 있다."
   ]
  },
  {
   "cell_type": "code",
   "execution_count": 177,
   "metadata": {},
   "outputs": [],
   "source": [
    "from sklearn.naive_bayes import GaussianNB\n",
    "model_norm = GaussianNB().fit(X, y)"
   ]
  },
  {
   "cell_type": "markdown",
   "metadata": {},
   "source": [
    "y 클래스의 종류와 각 클래스에 속하는 표본의 수, 그리고 그 값으로부터 구한 사전 확률\n",
    "\n",
    "$$ p(y=0), p(y=1) $$\n",
    "\n",
    "의 값은 다음과 같다."
   ]
  },
  {
   "cell_type": "code",
   "execution_count": 178,
   "metadata": {},
   "outputs": [
    {
     "data": {
      "text/plain": [
       "array([0., 1.])"
      ]
     },
     "execution_count": 178,
     "metadata": {},
     "output_type": "execute_result"
    }
   ],
   "source": [
    "# 지금 0과 1로 분류하고 있으니깐.\n",
    "model_norm.classes_"
   ]
  },
  {
   "cell_type": "code",
   "execution_count": 179,
   "metadata": {},
   "outputs": [
    {
     "data": {
      "text/plain": [
       "array([40., 60.])"
      ]
     },
     "execution_count": 179,
     "metadata": {},
     "output_type": "execute_result"
    }
   ],
   "source": [
    "# 현재 데이터에서 y=0이 40개 y=1이 60개\n",
    "model_norm.class_count_"
   ]
  },
  {
   "cell_type": "code",
   "execution_count": 180,
   "metadata": {},
   "outputs": [
    {
     "data": {
      "text/plain": [
       "array([0.4, 0.6])"
      ]
     },
     "execution_count": 180,
     "metadata": {},
     "output_type": "execute_result"
    }
   ],
   "source": [
    "# Prior 40/100, 60/100이 되겠지. \n",
    "model_norm.class_prior_"
   ]
  },
  {
   "cell_type": "markdown",
   "metadata": {},
   "source": [
    "각 클래스에 따라 $x$가 이루는 확률분포의 모수를 계산하면 다음과 같다. 나이브 가정에 따라 $x_1, x_2$는 독립이므로 상관관계를 구하지 않았다. "
   ]
  },
  {
   "cell_type": "code",
   "execution_count": 181,
   "metadata": {},
   "outputs": [
    {
     "data": {
      "text/plain": [
       "(array([[-1.96197643, -2.00597903],\n",
       "        [ 2.19130701,  2.12626716]]),\n",
       " array([[1.02398854, 2.31390497],\n",
       "        [1.25429371, 1.93742544]]))"
      ]
     },
     "execution_count": 181,
     "metadata": {},
     "output_type": "execute_result"
    }
   ],
   "source": [
    "model_norm.theta_, model_norm.sigma_"
   ]
  },
  {
   "cell_type": "markdown",
   "metadata": {},
   "source": [
    "실제로 위에서 그림을 봐도, class=1일때, 중심위치가 -2, -2<br>\n",
    "그리고, 원래 같으면 타원의 중심이 mu로 나오고 고유벡터 방향으로 돌려지잖아. <br>\n",
    "근데 여기서는 지금 가정이 두개 독립이라고 놨으니깐, 회전 안함. 각각의 sigma만 나온다."
   ]
  },
  {
   "cell_type": "code",
   "execution_count": 187,
   "metadata": {},
   "outputs": [
    {
     "data": {
      "text/plain": [
       "array([[1., 0.],\n",
       "       [0., 1.]])"
      ]
     },
     "execution_count": 187,
     "metadata": {},
     "output_type": "execute_result"
    }
   ],
   "source": [
    "cov_0 = np.array([[1.02398854, 0], [0, 2.31390497]])\n",
    "w1, V1 = np.linalg.eig(cov_0)\n",
    "V1"
   ]
  },
  {
   "cell_type": "markdown",
   "metadata": {},
   "source": [
    "실제 고윳값 분해 해봐도 딱 독립으로 구하네. 서로 독립으로 가정하고 추론한거 맞음. "
   ]
  },
  {
   "cell_type": "code",
   "execution_count": 184,
   "metadata": {},
   "outputs": [
    {
     "data": {
      "text/plain": [
       "(array([-1.96197643, -2.00597903]), array([1.02398854, 2.31390497]))"
      ]
     },
     "execution_count": 184,
     "metadata": {},
     "output_type": "execute_result"
    }
   ],
   "source": [
    "model_norm.theta_[0], model_norm.sigma_[0]"
   ]
  },
  {
   "cell_type": "code",
   "execution_count": 188,
   "metadata": {},
   "outputs": [
    {
     "data": {
      "text/plain": [
       "array([[1., 0.],\n",
       "       [0., 1.]])"
      ]
     },
     "execution_count": 188,
     "metadata": {},
     "output_type": "execute_result"
    }
   ],
   "source": [
    "cov_1 = np.array([[1.25429371, 0], [0, 1.93742544]])\n",
    "w1, V1 = np.linalg.eig(cov_1)\n",
    "V1"
   ]
  },
  {
   "cell_type": "code",
   "execution_count": 183,
   "metadata": {},
   "outputs": [
    {
     "data": {
      "text/plain": [
       "(array([2.19130701, 2.12626716]), array([1.25429371, 1.93742544]))"
      ]
     },
     "execution_count": 183,
     "metadata": {},
     "output_type": "execute_result"
    }
   ],
   "source": [
    "model_norm.theta_[1], model_norm.sigma_[1]"
   ]
  },
  {
   "cell_type": "code",
   "execution_count": null,
   "metadata": {},
   "outputs": [],
   "source": []
  },
  {
   "cell_type": "markdown",
   "metadata": {},
   "source": [
    "실제로 QDA써서 추론해보면, 각각의 공분산행렬을 아래처럼 추론한다.<br>\n",
    "[[1, 0.9], [0.9, 2]], [[1.2, -0.8], [-0.8, 2]]<br>\n",
    "딱 상관관계 의미하는 대각 부분만 0으로 바뀌어있는 것. <br>"
   ]
  },
  {
   "cell_type": "code",
   "execution_count": null,
   "metadata": {},
   "outputs": [],
   "source": []
  },
  {
   "cell_type": "markdown",
   "metadata": {},
   "source": [
    "이렇게 구한 데이터의 확률분포를 시각화하면 다음과 같다."
   ]
  },
  {
   "cell_type": "code",
   "execution_count": 176,
   "metadata": {},
   "outputs": [
    {
     "data": {
      "image/png": "[encoded data removed]",
      "text/plain": [
       "<Figure size 432x288 with 1 Axes>"
      ]
     },
     "metadata": {
      "image/png": {
       "height": 266,
       "width": 371
      }
     },
     "output_type": "display_data"
    }
   ],
   "source": [
    "rv0 = sp.stats.multivariate_normal(model_norm.theta_[0], model_norm.sigma_[0])\n",
    "rv1 = sp.stats.multivariate_normal(model_norm.theta_[1], model_norm.sigma_[1])\n",
    "\n",
    "xx1 = np.linspace(-5, 5, 100)\n",
    "xx2 = np.linspace(-5, 5, 100)\n",
    "XX1, XX2 = np.meshgrid(xx1, xx2)\n",
    "plt.grid(False)\n",
    "plt.contour(XX1, XX2, rv0.pdf(np.dstack([XX1, XX2])), cmap=mpl.cm.cool)\n",
    "plt.contour(XX1, XX2, rv1.pdf(np.dstack([XX1, XX2])), cmap=mpl.cm.hot)\n",
    "plt.scatter(X0[:, 0], X0[:, 1], marker=\"o\", c='b', label=\"y=0\")\n",
    "plt.scatter(X1[:, 0], X1[:, 1], marker=\"s\", c='r', label=\"y=1\")\n",
    "\n",
    "x_new = [0, 0]\n",
    "plt.scatter(x_new[0], x_new[1], c=\"g\", marker=\"x\", s=150, linewidth=5)\n",
    "plt.legend()\n",
    "plt.title(\"Data Distribution with Naive Bayse\")\n",
    "plt.axis(\"equal\")\n",
    "plt.show()"
   ]
  },
  {
   "cell_type": "markdown",
   "metadata": {},
   "source": [
    "이 모형을 사용하여 $x_{\\text{new}} = (0, 0)$인 데이터의 $y$값을 예측하자. 각 클래스값이 나올 확률은 `predict_proba` 메서드로 구할 수 있다. 결과는 y=0일 확률이 0.48, y=1일 확률이 0.52이다."
   ]
  },
  {
   "cell_type": "code",
   "execution_count": 189,
   "metadata": {},
   "outputs": [
    {
     "data": {
      "text/plain": [
       "array([[0.48475244, 0.51524756]])"
      ]
     },
     "execution_count": 189,
     "metadata": {},
     "output_type": "execute_result"
    }
   ],
   "source": [
    "model_norm.predict_proba([x_new])"
   ]
  },
  {
   "cell_type": "markdown",
   "metadata": {},
   "source": [
    "이 값이 나오게 된 중간 과정을 살펴보자. 우선 추정된 독립변수의 모수와 정규 분포의 확률 밀도 함수를 사용하여 가능도를 구할 수 있다.\n",
    "나이브베이즈 가정에 따라 두 입력 변수의 곱을 결합 확률로 계산한다.\n",
    "\n",
    "$$ p(x_1, x_2 | y) \\propto p(x_1|y) p(x_2|y) $$"
   ]
  },
  {
   "cell_type": "markdown",
   "metadata": {},
   "source": [
    "이 아래 식에 나이브베이즈 계산과정이 다 들어있다. 이것을 무조건 이해해야 한다."
   ]
  },
  {
   "cell_type": "markdown",
   "metadata": {},
   "source": [
    "![1_72.jpeg](./materials/1_72.jpeg)"
   ]
  },
  {
   "cell_type": "code",
   "execution_count": 190,
   "metadata": {},
   "outputs": [
    {
     "data": {
      "text/plain": [
       "[0.006615760017637298, 0.00468796559514829]"
      ]
     },
     "execution_count": 190,
     "metadata": {},
     "output_type": "execute_result"
    }
   ],
   "source": [
    "likelihood = [\n",
    "    (sp.stats.norm(model_norm.theta_[0][0], np.sqrt(model_norm.sigma_[0][0])).pdf(x_new[0]) * \\\n",
    "     sp.stats.norm(model_norm.theta_[0][1], np.sqrt(model_norm.sigma_[0][1])).pdf(x_new[1])),\n",
    "    (sp.stats.norm(model_norm.theta_[1][0], np.sqrt(model_norm.sigma_[1][0])).pdf(x_new[0]) * \\\n",
    "     sp.stats.norm(model_norm.theta_[1][1], np.sqrt(model_norm.sigma_[1][1])).pdf(x_new[1])),\n",
    "]\n",
    "likelihood"
   ]
  },
  {
   "cell_type": "markdown",
   "metadata": {},
   "source": [
    "여기에 사전 확률을 곱하면 사후 확률에 비례하는 값이 나온다.\n",
    "\n",
    "$$ p(y|x_1, x_2) \\propto p(x_1, x_2|y) p(y) $$\n",
    "\n",
    "아직 정규화 상수 $p(x)$로 나누어주지 않았으므로 두 값의 합이 1이 아니다. 즉, 확률이라고 부를 수는 없다. 하지만 크기를 비교하면 y=0일 확률이 y=1일 확률보다 훨씬 크다는 것을 알 수 있다. 사실 확률 아니여도 상관 없어. 우리는 크기만 보고 판단하는 거야. "
   ]
  },
  {
   "cell_type": "code",
   "execution_count": 197,
   "metadata": {},
   "outputs": [
    {
     "data": {
      "text/plain": [
       "array([0.0026463 , 0.00281278])"
      ]
     },
     "execution_count": 197,
     "metadata": {},
     "output_type": "execute_result"
    }
   ],
   "source": [
    "posterior = likelihood * model_norm.class_prior_\n",
    "posterior"
   ]
  },
  {
   "cell_type": "markdown",
   "metadata": {},
   "source": [
    "이 값을 정규화하면 `predict_proba` 메서드로 구한 것과 같은 값이 나온다. 근데 이걸 할 필요가 없어. 이걸 알면 뭐할꺼야. "
   ]
  },
  {
   "cell_type": "code",
   "execution_count": 198,
   "metadata": {},
   "outputs": [
    {
     "data": {
      "text/plain": [
       "array([0.48475244, 0.51524756])"
      ]
     },
     "execution_count": 198,
     "metadata": {},
     "output_type": "execute_result"
    }
   ],
   "source": [
    "posterior / posterior.sum()"
   ]
  },
  {
   "cell_type": "code",
   "execution_count": null,
   "metadata": {},
   "outputs": [],
   "source": []
  },
  {
   "cell_type": "markdown",
   "metadata": {},
   "source": [
    "#### 연습 문제 1\n",
    "\n",
    "붓꽃 분류문제를 가우시안 나이브베이즈 모형을 사용하여 풀어보자.\n",
    "\n",
    "(1) 각각의 종이 선택될 사전확률을 구하라.\n",
    "\n",
    "(2) 각각의 종에 대해 꽃받침의 길이, 꽃받침의 폭, 꽃잎의 길이, 꽃잎의 폭의 평균과 분산을 구하라.\n",
    "\n",
    "(3) 학습용 데이터를 사용하여 분류문제를 풀고 다음을 계산하라.\n",
    "\n",
    "* 분류결과표\n",
    "* 분류보고서"
   ]
  },
  {
   "cell_type": "markdown",
   "metadata": {},
   "source": [
    "근데 이것도 잘 생각해보면, 같은 종이면 무조건 꽃받침 길이와 꽃받침 폭이 독립이야? <br>\n",
    "같은 종이라도 큰놈은 꽃받침 길이가 커지면, 꽃받침 폭도 커지겠지. PCA하면서 보기도 했어. <br>\n",
    "사실 현실에서 이게 말이 안되는 가정이야. <br>\n",
    "그래서, 이름이 **나이브베이즈** 인거야. 너무 순진하다는 거야. "
   ]
  },
  {
   "cell_type": "code",
   "execution_count": 199,
   "metadata": {},
   "outputs": [],
   "source": [
    "from sklearn.datasets import load_iris\n",
    "\n",
    "iris = load_iris()\n",
    "X1 = iris.data\n",
    "y1 = iris.target"
   ]
  },
  {
   "cell_type": "code",
   "execution_count": 200,
   "metadata": {},
   "outputs": [
    {
     "data": {
      "text/plain": [
       "array([0.33333333, 0.33333333, 0.33333333])"
      ]
     },
     "execution_count": 200,
     "metadata": {},
     "output_type": "execute_result"
    }
   ],
   "source": [
    "from sklearn.naive_bayes import GaussianNB\n",
    "\n",
    "model1 = GaussianNB().fit(X1, y1)\n",
    "model1.class_prior_"
   ]
  },
  {
   "cell_type": "code",
   "execution_count": 201,
   "metadata": {},
   "outputs": [
    {
     "data": {
      "text/plain": [
       "array([0, 1, 2])"
      ]
     },
     "execution_count": 201,
     "metadata": {},
     "output_type": "execute_result"
    }
   ],
   "source": [
    "model1.classes_"
   ]
  },
  {
   "cell_type": "code",
   "execution_count": 204,
   "metadata": {},
   "outputs": [
    {
     "data": {
      "text/plain": [
       "array([[5.006, 3.428, 1.462, 0.246],\n",
       "       [5.936, 2.77 , 4.26 , 1.326],\n",
       "       [6.588, 2.974, 5.552, 2.026]])"
      ]
     },
     "execution_count": 204,
     "metadata": {},
     "output_type": "execute_result"
    }
   ],
   "source": [
    "model1.theta_"
   ]
  },
  {
   "cell_type": "code",
   "execution_count": 205,
   "metadata": {},
   "outputs": [
    {
     "data": {
      "text/plain": [
       "array([[0.121764, 0.140816, 0.029556, 0.010884],\n",
       "       [0.261104, 0.0965  , 0.2164  , 0.038324],\n",
       "       [0.396256, 0.101924, 0.298496, 0.073924]])"
      ]
     },
     "execution_count": 205,
     "metadata": {},
     "output_type": "execute_result"
    }
   ],
   "source": [
    "model1.sigma_"
   ]
  },
  {
   "cell_type": "markdown",
   "metadata": {},
   "source": [
    "해석해보자면, <br>\n",
    "y=0 일때, X1~N(5.006, 0.1217^2) ... "
   ]
  },
  {
   "cell_type": "code",
   "execution_count": 206,
   "metadata": {},
   "outputs": [],
   "source": [
    "y1_pred = model1.predict(X1)"
   ]
  },
  {
   "cell_type": "code",
   "execution_count": 207,
   "metadata": {},
   "outputs": [
    {
     "data": {
      "text/plain": [
       "array([[50,  0,  0],\n",
       "       [ 0, 47,  3],\n",
       "       [ 0,  3, 47]])"
      ]
     },
     "execution_count": 207,
     "metadata": {},
     "output_type": "execute_result"
    }
   ],
   "source": [
    "from sklearn.metrics import confusion_matrix\n",
    "\n",
    "confusion_matrix(y1, y1_pred)"
   ]
  },
  {
   "cell_type": "code",
   "execution_count": 208,
   "metadata": {},
   "outputs": [
    {
     "name": "stdout",
     "output_type": "stream",
     "text": [
      "              precision    recall  f1-score   support\n",
      "\n",
      "           0       1.00      1.00      1.00        50\n",
      "           1       0.94      0.94      0.94        50\n",
      "           2       0.94      0.94      0.94        50\n",
      "\n",
      "    accuracy                           0.96       150\n",
      "   macro avg       0.96      0.96      0.96       150\n",
      "weighted avg       0.96      0.96      0.96       150\n",
      "\n"
     ]
    }
   ],
   "source": [
    "from sklearn.metrics import classification_report\n",
    "\n",
    "print(classification_report(y1, y1_pred))"
   ]
  },
  {
   "cell_type": "markdown",
   "metadata": {},
   "source": [
    "지금 결과 보면, 이렇게 많이 단순화 했는데도, QDA/LDA와 결과가 그렇게 큰 차이가 없다."
   ]
  },
  {
   "cell_type": "code",
   "execution_count": null,
   "metadata": {},
   "outputs": [],
   "source": []
  },
  {
   "cell_type": "code",
   "execution_count": 210,
   "metadata": {},
   "outputs": [
    {
     "name": "stderr",
     "output_type": "stream",
     "text": [
      "/Users/sanghyuk/anaconda/envs/py38/lib/python3.8/site-packages/sklearn/utils/validation.py:67: FutureWarning: Pass classes=[0, 1, 2] as keyword args. From version 0.25 passing these as positional arguments will result in an error\n",
      "  warnings.warn(\"Pass {} as keyword args. From version 0.25 \"\n"
     ]
    },
    {
     "data": {
      "image/png": "[encoded data removed]",
      "text/plain": [
       "<Figure size 432x288 with 1 Axes>"
      ]
     },
     "metadata": {
      "image/png": {
       "height": 266,
       "width": 389
      }
     },
     "output_type": "display_data"
    }
   ],
   "source": [
    "from sklearn.naive_bayes import GaussianNB\n",
    "from sklearn.datasets import load_iris\n",
    "from sklearn.preprocessing import label_binarize\n",
    "\n",
    "iris = load_iris()\n",
    "X = iris.data\n",
    "y = label_binarize(iris.target, [0, 1, 2])\n",
    "\n",
    "fpr = [None] * 3\n",
    "tpr = [None] * 3\n",
    "thr = [None] * 3\n",
    "\n",
    "for i in range(3):\n",
    "    model = GaussianNB().fit(X, y[:, i])\n",
    "    fpr[i], tpr[i], thr[i] = roc_curve(y[:, i], model.predict_proba(X)[:, 1])\n",
    "    plt.plot(fpr[i], tpr[i])\n",
    "\n",
    "plt.xlabel('(Fall-Out)')\n",
    "plt.ylabel('(Recall)')\n",
    "plt.show()"
   ]
  },
  {
   "cell_type": "code",
   "execution_count": null,
   "metadata": {},
   "outputs": [],
   "source": []
  },
  {
   "cell_type": "code",
   "execution_count": null,
   "metadata": {},
   "outputs": [],
   "source": []
  },
  {
   "cell_type": "code",
   "execution_count": null,
   "metadata": {},
   "outputs": [],
   "source": []
  },
  {
   "cell_type": "code",
   "execution_count": null,
   "metadata": {},
   "outputs": [],
   "source": [
    "from sklearn.datasets import load_iris\n",
    "\n",
    "iris = load_iris()\n",
    "X1 = iris.data\n",
    "y1 = iris.target\n",
    "\n",
    "from sklearn.naive_bayes import GaussianNB\n",
    "\n",
    "model1 = GaussianNB().fit(X1, y1)\n",
    "model1.class_prior_"
   ]
  },
  {
   "cell_type": "code",
   "execution_count": null,
   "metadata": {},
   "outputs": [],
   "source": [
    "model1.theta_"
   ]
  },
  {
   "cell_type": "code",
   "execution_count": null,
   "metadata": {},
   "outputs": [],
   "source": [
    "model1.sigma_"
   ]
  },
  {
   "cell_type": "code",
   "execution_count": null,
   "metadata": {},
   "outputs": [],
   "source": [
    "y1_pred = model1.predict(X1)\n",
    "\n",
    "from sklearn.metrics import confusion_matrix\n",
    "\n",
    "confusion_matrix(y1, y1_pred)"
   ]
  },
  {
   "cell_type": "code",
   "execution_count": null,
   "metadata": {},
   "outputs": [],
   "source": [
    "from sklearn.metrics import classification_report\n",
    "\n",
    "print(classification_report(y1, y1_pred))"
   ]
  },
  {
   "cell_type": "markdown",
   "metadata": {},
   "source": [
    "### 베르누이분포 나이브베이즈 모형"
   ]
  },
  {
   "cell_type": "markdown",
   "metadata": {},
   "source": [
    "전자우편과 같은 문서 내에 특정한 단어가 포함되어 있는지의 여부는 베르누이 확률변수로 모형화할 수 있다. 이렇게 독립변수가 0 또는 1의 값을 가지면 베르누이 나이브베이즈 모형을 사용한다. \n",
    "\n",
    "베르누이분포 나이브베이즈 모형 클래스 `BernoulliNB`는 가능도 추정과 관련하여 다음 속성을 가진다.\n",
    "\n",
    "* `feature_count_`: 각 클래스 $k$에 대해 $d$번째 동전이 앞면이 나온 횟수 $N_{d,k}$\n",
    "* `feature_log_prob_`: 베르누이분포 모수의 로그\n",
    " \n",
    "$$ \\log \\mu_k = (\\log \\mu_{1,k}, \\ldots, \\log \\mu_{D, k}) = \\left( \\log \\dfrac{N_{1,k}}{N_k}, \\ldots, \\log \\dfrac{N_{D,k}}{N_k} \\right)$$\n",
    " \n",
    "여기에서 $N_k$은 클래스 $k$에 대해 동전을 던진 총 횟수이다. \n",
    "표본 데이터의 수가 적은 경우에는 모수에 대해 다음처럼 스무딩(smoothing)을 할 수도 있다."
   ]
  },
  {
   "cell_type": "markdown",
   "metadata": {},
   "source": [
    "언더플로우 등의 현상을 막기 위해 log로 보통 많이 쓴다고 앞에서 많이 말했음. "
   ]
  },
  {
   "cell_type": "markdown",
   "metadata": {},
   "source": [
    "### 스무딩"
   ]
  },
  {
   "cell_type": "markdown",
   "metadata": {},
   "source": [
    "베르누이 분포 모수측정 할때, \"앞면 나온 횟수/전체 횟수\" 이렇게 추정하잖아. <br>\n",
    "10번 던졌더니 그 중에 6번 앞면이 나오면 $\\mu=0.6$ 추정. <br>\n",
    "그런데, 문제가 되는 경우는 데이터에서 한번도 앞면이 안나왔거나 모두가 앞면이 나온 경우. <br>\n",
    "$\\mu=0$ 혹은 $\\mu=1$ 이렇게 추정되버릴 수 있겠지. <br>\n",
    "\n",
    "이건 너무 극단적이야. 무한번 던져도 0이나 1이야? 그거는 너무해. <br>\n",
    "이렇게 너무 극단적으로 나오면 조금 고치자는거야. <br>\n",
    "이 데이터를 좀 만지자는게 조작하자는게 전문용어로 **스무딩**이야. <br>\n",
    "데이터를 섞어버린다. 가짜 데이터를 넣는다. <br>\n",
    "우리가 아무것도 모른다고 하면 $\\mu=0.5$잖아. 그 0.5랑 잘 섞어보자는거야. <br>\n",
    "\n",
    "원래 내 동전($\\hat{\\mu}=1$)은 10번 던졌더니 앞면 10번이야. $\\mu=1/2$인 가상의 동전과 섞어. <br>\n",
    "2번던 던진 가짜 데이터 섞으면, \n",
    "$$\n",
    "\\frac {1+10} {2+10}  = \\mu\n",
    "$$\n",
    "새로운 $\\mu$로 셋팅. <br><br>\n",
    "\n",
    "그리고 여기서 데이터 섞을때도, 얼마나 많이 섞을 것인가를 조절할 수가 있다. $\\alpha$로. \n",
    "$\\alpha=1$일 때는 한 세트 2번 던진 것 섞는 것. <br>\n",
    "$\\alpha=2$일 때는 두 세트 섞는다. $12/14$ <br>\n",
    "$\\alpha=3$일 때는 두 세트 섞는다. $13/16$ <br>\n",
    "\n",
    "어쨋든 $\\alpha$를 크게 할수록 점점 중간으로 오네. <br><br>\n",
    "\n",
    "보통은 1세트 섞고 이렇게 섞는것을 **라플라스 스무딩 혹은 애드원(1세트) 스무딩** 이라고 한다."
   ]
  },
  {
   "cell_type": "markdown",
   "metadata": {},
   "source": [
    "표본 데이터의 수가 적은 경우에는 베르누이 모수가 0 또는 1이라는 극단적인 모수 추정값이 나올 수도 있다. 하지만 현실적으로는 실제 모수값이 이런 극단적인 값이 나올 가능성이 적다. 따라서 베르누이 모수가 0.5인 가장 일반적인 경우를 가정하여 0이 나오는 경우와 1이 나오는 경우, 두 개의 가상 표본 데이터를 추가한다. 그러면 0이나 1과 같은 극단적인 추정값이 0.5에 가까운 다음과 값으로 변한다. 이를 라플라스 스무딩(Laplace smoothing) 또는 애드원(Add-One) 스무딩이라고 한다.\n",
    "\n",
    "$$ \\hat{\\mu}_{d,k} = \\frac{ N_{d,k} + \\alpha}{N_k + 2 \\alpha} $$ \n",
    "\n",
    "가중치 $\\alpha$를 사용하여 스무딩의 정도를 조절할 수도 있다. 가중치 $\\alpha$는 정수가 아니라도 괜찮다. 가중치가 1인 경우는 무정보 사전확률을 사용한 베이즈 모수추정의 결과와 같다."
   ]
  },
  {
   "cell_type": "code",
   "execution_count": 211,
   "metadata": {},
   "outputs": [],
   "source": [
    "# BOW인코딩한 메일 총 10개, 키워드 4개 있는 것.\n",
    "\n",
    "X = np.array([\n",
    "    [0, 1, 1, 0],\n",
    "    [1, 1, 1, 1],\n",
    "    [1, 1, 1, 0],\n",
    "    [0, 1, 0, 0],\n",
    "    [0, 0, 0, 1],\n",
    "    [0, 1, 1, 0],\n",
    "    [0, 1, 1, 1],\n",
    "    [1, 0, 1, 0],\n",
    "    [1, 0, 1, 1],\n",
    "    [0, 1, 1, 0]])\n",
    "y = np.array([0, 0, 0, 0, 1, 1, 1, 1, 1, 1])"
   ]
  },
  {
   "cell_type": "markdown",
   "metadata": {},
   "source": [
    "이 데이터는 4개의 키워드를 사용하여 정상 메일 4개와 스팸 메일 6개를 BOW 인코딩한 행렬이다. 예를 들어 첫번째 메일은 정상 메일이고 1번, 4번 키워드는 포함하지 않지만 2번, 3번 키워드를 포함한다고 볼 수 있다.\n",
    "\n",
    "이 데이터를 베르누이 나이브베이즈 모형으로 예측해 보자."
   ]
  },
  {
   "cell_type": "markdown",
   "metadata": {},
   "source": [
    "![1_73.jpeg](./materials/1_73.jpeg)"
   ]
  },
  {
   "cell_type": "code",
   "execution_count": 212,
   "metadata": {},
   "outputs": [],
   "source": [
    "from sklearn.naive_bayes import BernoulliNB\n",
    "model_bern = BernoulliNB().fit(X, y)"
   ]
  },
  {
   "cell_type": "markdown",
   "metadata": {},
   "source": [
    "y 클래스의 종류와 각 클래스에 속하는 표본의 수, 그리고 그 값으로부터 구한 사전 확률의 값은 다음과 같다."
   ]
  },
  {
   "cell_type": "code",
   "execution_count": 213,
   "metadata": {},
   "outputs": [
    {
     "data": {
      "text/plain": [
       "array([0, 1])"
      ]
     },
     "execution_count": 213,
     "metadata": {},
     "output_type": "execute_result"
    }
   ],
   "source": [
    "model_bern.classes_"
   ]
  },
  {
   "cell_type": "code",
   "execution_count": 214,
   "metadata": {},
   "outputs": [
    {
     "data": {
      "text/plain": [
       "array([4., 6.])"
      ]
     },
     "execution_count": 214,
     "metadata": {},
     "output_type": "execute_result"
    }
   ],
   "source": [
    "model_bern.class_count_"
   ]
  },
  {
   "cell_type": "code",
   "execution_count": 215,
   "metadata": {},
   "outputs": [
    {
     "data": {
      "text/plain": [
       "array([0.4, 0.6])"
      ]
     },
     "execution_count": 215,
     "metadata": {},
     "output_type": "execute_result"
    }
   ],
   "source": [
    "np.exp(model_bern.class_log_prior_)"
   ]
  },
  {
   "cell_type": "markdown",
   "metadata": {},
   "source": [
    "각 클래스 $k$ 별로, 그리고 각 독립변수 $d$ 별로, 각각 다른 베르누이 확률변수라고 가정하여 모두 8개의 베르누이 확률변수의 모수를 구하면 다음과 같다."
   ]
  },
  {
   "cell_type": "code",
   "execution_count": 216,
   "metadata": {},
   "outputs": [
    {
     "data": {
      "text/plain": [
       "array([[2., 4., 3., 1.],\n",
       "       [2., 3., 5., 3.]])"
      ]
     },
     "execution_count": 216,
     "metadata": {},
     "output_type": "execute_result"
    }
   ],
   "source": [
    "fc = model_bern.feature_count_\n",
    "fc"
   ]
  },
  {
   "cell_type": "code",
   "execution_count": 217,
   "metadata": {},
   "outputs": [
    {
     "data": {
      "text/plain": [
       "array([[0.5       , 1.        , 0.75      , 0.25      ],\n",
       "       [0.33333333, 0.5       , 0.83333333, 0.5       ]])"
      ]
     },
     "execution_count": 217,
     "metadata": {},
     "output_type": "execute_result"
    }
   ],
   "source": [
    "fc / np.repeat(model_bern.class_count_[:, np.newaxis], 4, axis=1)"
   ]
  },
  {
   "cell_type": "markdown",
   "metadata": {},
   "source": [
    "그런데 이 값은 모형 내에서 구한 값과 다르다. 모형 내에서 스무딩(smoothing)이 이루어지기 때문이다. 스무딩은 동전의 각 면 즉, 0과 1이 나오는 가상의 데이터를 추가함으로서 추정한 모수의 값이 좀 더 0.5에 가까워지도록 하는 방법이다. 이 때 사용한 스무딩 가중치 값은 다음처럼 확인할 수 있다."
   ]
  },
  {
   "cell_type": "code",
   "execution_count": 218,
   "metadata": {},
   "outputs": [
    {
     "data": {
      "text/plain": [
       "1.0"
      ]
     },
     "execution_count": 218,
     "metadata": {},
     "output_type": "execute_result"
    }
   ],
   "source": [
    "model_bern.alpha"
   ]
  },
  {
   "cell_type": "markdown",
   "metadata": {},
   "source": [
    "스무딩이 적용된 베르누이 모수값은 다음과 같다."
   ]
  },
  {
   "cell_type": "code",
   "execution_count": 219,
   "metadata": {},
   "outputs": [
    {
     "data": {
      "text/plain": [
       "array([[0.5       , 0.83333333, 0.66666667, 0.33333333],\n",
       "       [0.375     , 0.5       , 0.75      , 0.5       ]])"
      ]
     },
     "execution_count": 219,
     "metadata": {},
     "output_type": "execute_result"
    }
   ],
   "source": [
    "theta = np.exp(model_bern.feature_log_prob_)\n",
    "theta"
   ]
  },
  {
   "cell_type": "markdown",
   "metadata": {},
   "source": [
    "이에 모형이 완성되었으니 테스트 데이터를 사용하여 예측을 해 본다. 예를 들어 1번, 2번 키워드를 포함한 메일이 정상 메일인지 스팸 메일인지 알아보자."
   ]
  },
  {
   "cell_type": "code",
   "execution_count": 232,
   "metadata": {},
   "outputs": [],
   "source": [
    "x_new = np.array([0, 1, 1, 1])"
   ]
  },
  {
   "cell_type": "code",
   "execution_count": 233,
   "metadata": {
    "scrolled": false
   },
   "outputs": [
    {
     "data": {
      "text/plain": [
       "array([0, 1])"
      ]
     },
     "execution_count": 233,
     "metadata": {},
     "output_type": "execute_result"
    }
   ],
   "source": [
    "model_bern.classes_"
   ]
  },
  {
   "cell_type": "code",
   "execution_count": 234,
   "metadata": {
    "scrolled": true
   },
   "outputs": [
    {
     "data": {
      "text/plain": [
       "array([[0.34501348, 0.65498652]])"
      ]
     },
     "execution_count": 234,
     "metadata": {},
     "output_type": "execute_result"
    }
   ],
   "source": [
    "model_bern.predict_proba([x_new])"
   ]
  },
  {
   "cell_type": "markdown",
   "metadata": {},
   "source": [
    "위 결과에서 정상 메일일 가능성이 약 3배임을 알 수 있다. 이 값은 다음처럼 구할 수도 있다."
   ]
  },
  {
   "cell_type": "code",
   "execution_count": 235,
   "metadata": {
    "scrolled": true
   },
   "outputs": [
    {
     "data": {
      "text/plain": [
       "array([0.34501348, 0.65498652])"
      ]
     },
     "execution_count": 235,
     "metadata": {},
     "output_type": "execute_result"
    }
   ],
   "source": [
    "p = ((theta ** x_new) * (1 - theta) ** (1 - x_new)).prod(axis=1)\\\n",
    "    * np.exp(model_bern.class_log_prior_)\n",
    "p / p.sum()"
   ]
  },
  {
   "cell_type": "markdown",
   "metadata": {},
   "source": [
    "수동으로 계산해도 똑같이 나온다(하단)."
   ]
  },
  {
   "cell_type": "markdown",
   "metadata": {},
   "source": [
    "![1_74.jpeg](./materials/1_74.jpeg)"
   ]
  },
  {
   "cell_type": "code",
   "execution_count": 238,
   "metadata": {},
   "outputs": [],
   "source": [
    "a1 = 0.4*(1/2)*(5/6)*(4/6)*(2/6)"
   ]
  },
  {
   "cell_type": "code",
   "execution_count": 239,
   "metadata": {},
   "outputs": [],
   "source": [
    "a2 = 0.6*(5/8)*(4/8)*(6/8)*(4/8)"
   ]
  },
  {
   "cell_type": "code",
   "execution_count": 240,
   "metadata": {},
   "outputs": [
    {
     "data": {
      "text/plain": [
       "(0.34501347708894875, 0.6549865229110512)"
      ]
     },
     "execution_count": 240,
     "metadata": {},
     "output_type": "execute_result"
    }
   ],
   "source": [
    "a1/(a1+a2), a2/(a1+a2)"
   ]
  },
  {
   "cell_type": "code",
   "execution_count": null,
   "metadata": {},
   "outputs": [],
   "source": []
  },
  {
   "cell_type": "markdown",
   "metadata": {},
   "source": [
    "반대로 3번, 4번 키워드가 포함된 메일은 스팸일 가능성이 약 90%이다."
   ]
  },
  {
   "cell_type": "code",
   "execution_count": 225,
   "metadata": {},
   "outputs": [],
   "source": [
    "x_new = np.array([0, 0, 1, 1])"
   ]
  },
  {
   "cell_type": "code",
   "execution_count": 226,
   "metadata": {},
   "outputs": [
    {
     "data": {
      "text/plain": [
       "array([[0.09530901, 0.90469099]])"
      ]
     },
     "execution_count": 226,
     "metadata": {},
     "output_type": "execute_result"
    }
   ],
   "source": [
    "model_bern.predict_proba([x_new])"
   ]
  },
  {
   "cell_type": "code",
   "execution_count": 227,
   "metadata": {},
   "outputs": [
    {
     "data": {
      "text/plain": [
       "array([0.09530901, 0.90469099])"
      ]
     },
     "execution_count": 227,
     "metadata": {},
     "output_type": "execute_result"
    }
   ],
   "source": [
    "p = ((theta ** x_new) * (1 - theta) ** (1 - x_new)).prod(axis=1)\\\n",
    "    * np.exp(model_bern.class_log_prior_)\n",
    "p / p.sum()"
   ]
  },
  {
   "cell_type": "code",
   "execution_count": null,
   "metadata": {},
   "outputs": [],
   "source": []
  },
  {
   "cell_type": "markdown",
   "metadata": {},
   "source": [
    "#### 연습 문제 2\n",
    "\n",
    "(1) MNIST 숫자 분류문제에서 `sklearn.preprocessing.Binarizer`로 x값을 0, 1로 바꾼다(값이 8 이상이면 1, 8 미만이면 0). 즉 흰색과 검은색 픽셀로만 구성된 이미지로 만든다(다음 코드 참조)\n",
    "```\n",
    "from sklearn.datasets import load_digits\n",
    "digits = load_digits()\n",
    "X2 = digits.data\n",
    "y2 = digits.target\n",
    "from sklearn.preprocessing import Binarizer\n",
    "X2 = Binarizer(7).fit_transform(X2)\n",
    "```\n",
    "\n",
    "이 이미지에 대해 베르누이 나이브베이즈 모형을 적용하자. 분류 결과를 분류보고서 형식으로 나타내라.\n",
    "\n",
    "(2) `BernoulliNB` 클래스의 `binarize` 인수를 사용하여 같은 문제를 풀어본다.\n",
    "\n",
    "(3) 계산된 모형의 모수 벡터 값을 각 클래스별로 8x8 이미지의 형태로 나타내라. 이 이미지는 무엇을 뜻하는가?\n"
   ]
  },
  {
   "cell_type": "code",
   "execution_count": 241,
   "metadata": {},
   "outputs": [
    {
     "name": "stderr",
     "output_type": "stream",
     "text": [
      "/Users/sanghyuk/anaconda/envs/py38/lib/python3.8/site-packages/sklearn/utils/validation.py:67: FutureWarning: Pass threshold=7 as keyword args. From version 0.25 passing these as positional arguments will result in an error\n",
      "  warnings.warn(\"Pass {} as keyword args. From version 0.25 \"\n"
     ]
    }
   ],
   "source": [
    "from sklearn.datasets import load_digits\n",
    "digits = load_digits()\n",
    "X2 = digits.data\n",
    "y2 = digits.target\n",
    "from sklearn.preprocessing import Binarizer\n",
    "X2 = Binarizer(7).fit_transform(X2)"
   ]
  },
  {
   "cell_type": "code",
   "execution_count": 249,
   "metadata": {},
   "outputs": [
    {
     "data": {
      "text/plain": [
       "array([[ 0.,  0.,  5., 13.,  9.,  1.,  0.,  0.],\n",
       "       [ 0.,  0., 13., 15., 10., 15.,  5.,  0.],\n",
       "       [ 0.,  3., 15.,  2.,  0., 11.,  8.,  0.],\n",
       "       [ 0.,  4., 12.,  0.,  0.,  8.,  8.,  0.],\n",
       "       [ 0.,  5.,  8.,  0.,  0.,  9.,  8.,  0.],\n",
       "       [ 0.,  4., 11.,  0.,  1., 12.,  7.,  0.],\n",
       "       [ 0.,  2., 14.,  5., 10., 12.,  0.,  0.],\n",
       "       [ 0.,  0.,  6., 13., 10.,  0.,  0.,  0.]])"
      ]
     },
     "execution_count": 249,
     "metadata": {},
     "output_type": "execute_result"
    }
   ],
   "source": [
    "#원래는 각 이미지가 2차원 배열\n",
    "digits.images[0, :, : ]"
   ]
  },
  {
   "cell_type": "code",
   "execution_count": 251,
   "metadata": {},
   "outputs": [],
   "source": [
    "X = digits.data"
   ]
  },
  {
   "cell_type": "code",
   "execution_count": 254,
   "metadata": {},
   "outputs": [
    {
     "data": {
      "text/plain": [
       "array([ 0.,  0.,  5., 13.,  9.,  1.,  0.,  0.,  0.,  0., 13., 15., 10.,\n",
       "       15.,  5.,  0.,  0.,  3., 15.,  2.,  0., 11.,  8.,  0.,  0.,  4.,\n",
       "       12.,  0.,  0.,  8.,  8.,  0.,  0.,  5.,  8.,  0.,  0.,  9.,  8.,\n",
       "        0.,  0.,  4., 11.,  0.,  1., 12.,  7.,  0.,  0.,  2., 14.,  5.,\n",
       "       10., 12.,  0.,  0.,  0.,  0.,  6., 13., 10.,  0.,  0.,  0.])"
      ]
     },
     "execution_count": 254,
     "metadata": {},
     "output_type": "execute_result"
    }
   ],
   "source": [
    "# 1차원 배열로 만들어서 뱉는 것이 data\n",
    "# 그런데, 0~15까지로 되어 있음.\n",
    "X[0, :]"
   ]
  },
  {
   "cell_type": "code",
   "execution_count": 259,
   "metadata": {},
   "outputs": [
    {
     "name": "stderr",
     "output_type": "stream",
     "text": [
      "/Users/sanghyuk/anaconda/envs/py38/lib/python3.8/site-packages/sklearn/utils/validation.py:67: FutureWarning: Pass threshold=7 as keyword args. From version 0.25 passing these as positional arguments will result in an error\n",
      "  warnings.warn(\"Pass {} as keyword args. From version 0.25 \"\n"
     ]
    },
    {
     "data": {
      "text/plain": [
       "array([[0., 0., 0., ..., 0., 0., 0.],\n",
       "       [0., 0., 0., ..., 1., 0., 0.],\n",
       "       [0., 0., 0., ..., 1., 1., 0.],\n",
       "       ...,\n",
       "       [0., 0., 0., ..., 0., 0., 0.],\n",
       "       [0., 0., 0., ..., 1., 0., 0.],\n",
       "       [0., 0., 1., ..., 1., 0., 0.]])"
      ]
     },
     "execution_count": 259,
     "metadata": {},
     "output_type": "execute_result"
    }
   ],
   "source": [
    "# Binarizer로 0, 1로 고친 것.\n",
    "# 7보다 크면 1, 8보다 작으면 0으로\n",
    "from sklearn.preprocessing import Binarizer\n",
    "X2 = Binarizer(7).fit_transform(X)\n",
    "X2"
   ]
  },
  {
   "cell_type": "code",
   "execution_count": 261,
   "metadata": {},
   "outputs": [
    {
     "data": {
      "text/plain": [
       "(-0.5, 7.5, 7.5, -0.5)"
      ]
     },
     "execution_count": 261,
     "metadata": {},
     "output_type": "execute_result"
    },
    {
     "data": {
      "image/png": "[encoded data removed]",
      "text/plain": [
       "<Figure size 432x288 with 1 Axes>"
      ]
     },
     "metadata": {
      "image/png": {
       "height": 231,
       "width": 231
      }
     },
     "output_type": "display_data"
    }
   ],
   "source": [
    "# 원래 이미지\n",
    "plt.imshow(digits.images[0, :, :],cmap=plt.cm.binary)\n",
    "plt.axis(\"off\")"
   ]
  },
  {
   "cell_type": "code",
   "execution_count": 264,
   "metadata": {},
   "outputs": [
    {
     "data": {
      "text/plain": [
       "(-0.5, 7.5, 7.5, -0.5)"
      ]
     },
     "execution_count": 264,
     "metadata": {},
     "output_type": "execute_result"
    },
    {
     "data": {
      "image/png": "[encoded data removed]",
      "text/plain": [
       "<Figure size 432x288 with 1 Axes>"
      ]
     },
     "metadata": {
      "image/png": {
       "height": 231,
       "width": 231
      }
     },
     "output_type": "display_data"
    }
   ],
   "source": [
    "# Binarizer 후 이미지. \n",
    "plt.imshow(X2[0, :].reshape((8, 8)), cmap=plt.cm.binary)\n",
    "plt.axis(\"off\")"
   ]
  },
  {
   "cell_type": "markdown",
   "metadata": {},
   "source": [
    "그럼 이제 Bernouli Naive Beyse를 쓸 수 있게 되지. "
   ]
  },
  {
   "cell_type": "code",
   "execution_count": 265,
   "metadata": {},
   "outputs": [],
   "source": [
    "from sklearn.naive_bayes import BernoulliNB\n",
    "model_bern = BernoulliNB().fit(X2, y2)"
   ]
  },
  {
   "cell_type": "code",
   "execution_count": 266,
   "metadata": {},
   "outputs": [
    {
     "data": {
      "text/plain": [
       "array([[173,   0,   0,   0,   2,   1,   1,   0,   1,   0],\n",
       "       [  0, 145,   9,   0,   0,   1,   2,   0,  16,   9],\n",
       "       [  0,   7, 159,   3,   0,   0,   0,   2,   4,   2],\n",
       "       [  0,   3,   2, 156,   0,   2,   0,   5,   5,  10],\n",
       "       [  0,   4,   0,   0, 170,   0,   0,   4,   3,   0],\n",
       "       [  0,   1,   0,   3,   2, 161,   1,   0,   0,  14],\n",
       "       [  1,   3,   0,   0,   1,   0, 174,   0,   2,   0],\n",
       "       [  0,   0,   1,   0,   1,   0,   0, 177,   0,   0],\n",
       "       [  0,  15,   2,   2,   0,   6,   1,   0, 143,   5],\n",
       "       [  0,   3,   1,   3,   1,   4,   0,   7,   4, 157]])"
      ]
     },
     "execution_count": 266,
     "metadata": {},
     "output_type": "execute_result"
    }
   ],
   "source": [
    "y2_pred = model_bern.predict(X2)\n",
    "\n",
    "from sklearn.metrics import confusion_matrix\n",
    "\n",
    "confusion_matrix(y2, y2_pred)"
   ]
  },
  {
   "cell_type": "code",
   "execution_count": 267,
   "metadata": {},
   "outputs": [
    {
     "name": "stdout",
     "output_type": "stream",
     "text": [
      "              precision    recall  f1-score   support\n",
      "\n",
      "           0       0.99      0.97      0.98       178\n",
      "           1       0.80      0.80      0.80       182\n",
      "           2       0.91      0.90      0.91       177\n",
      "           3       0.93      0.85      0.89       183\n",
      "           4       0.96      0.94      0.95       181\n",
      "           5       0.92      0.88      0.90       182\n",
      "           6       0.97      0.96      0.97       181\n",
      "           7       0.91      0.99      0.95       179\n",
      "           8       0.80      0.82      0.81       174\n",
      "           9       0.80      0.87      0.83       180\n",
      "\n",
      "    accuracy                           0.90      1797\n",
      "   macro avg       0.90      0.90      0.90      1797\n",
      "weighted avg       0.90      0.90      0.90      1797\n",
      "\n"
     ]
    }
   ],
   "source": [
    "from sklearn.metrics import classification_report\n",
    "\n",
    "print(classification_report(y2, y2_pred))"
   ]
  },
  {
   "cell_type": "code",
   "execution_count": null,
   "metadata": {},
   "outputs": [],
   "source": []
  },
  {
   "cell_type": "markdown",
   "metadata": {},
   "source": [
    "#### binarize가 사실, class에 들어 있음. "
   ]
  },
  {
   "cell_type": "code",
   "execution_count": 268,
   "metadata": {},
   "outputs": [],
   "source": [
    "from sklearn.naive_bayes import BernoulliNB\n",
    "model_bern = BernoulliNB(binarize=7).fit(X, y2)"
   ]
  },
  {
   "cell_type": "code",
   "execution_count": 269,
   "metadata": {},
   "outputs": [
    {
     "data": {
      "text/plain": [
       "array([[173,   0,   0,   0,   2,   1,   1,   0,   1,   0],\n",
       "       [  0, 145,   9,   0,   0,   1,   2,   0,  16,   9],\n",
       "       [  0,   7, 159,   3,   0,   0,   0,   2,   4,   2],\n",
       "       [  0,   3,   2, 156,   0,   2,   0,   5,   5,  10],\n",
       "       [  0,   4,   0,   0, 170,   0,   0,   4,   3,   0],\n",
       "       [  0,   1,   0,   3,   2, 161,   1,   0,   0,  14],\n",
       "       [  1,   3,   0,   0,   1,   0, 174,   0,   2,   0],\n",
       "       [  0,   0,   1,   0,   1,   0,   0, 177,   0,   0],\n",
       "       [  0,  15,   2,   2,   0,   6,   1,   0, 143,   5],\n",
       "       [  0,   3,   1,   3,   1,   4,   0,   7,   4, 157]])"
      ]
     },
     "execution_count": 269,
     "metadata": {},
     "output_type": "execute_result"
    }
   ],
   "source": [
    "y2_pred = model_bern.predict(X)\n",
    "\n",
    "from sklearn.metrics import confusion_matrix\n",
    "\n",
    "confusion_matrix(y2, y2_pred)"
   ]
  },
  {
   "cell_type": "code",
   "execution_count": 270,
   "metadata": {},
   "outputs": [
    {
     "name": "stdout",
     "output_type": "stream",
     "text": [
      "              precision    recall  f1-score   support\n",
      "\n",
      "           0       0.99      0.97      0.98       178\n",
      "           1       0.80      0.80      0.80       182\n",
      "           2       0.91      0.90      0.91       177\n",
      "           3       0.93      0.85      0.89       183\n",
      "           4       0.96      0.94      0.95       181\n",
      "           5       0.92      0.88      0.90       182\n",
      "           6       0.97      0.96      0.97       181\n",
      "           7       0.91      0.99      0.95       179\n",
      "           8       0.80      0.82      0.81       174\n",
      "           9       0.80      0.87      0.83       180\n",
      "\n",
      "    accuracy                           0.90      1797\n",
      "   macro avg       0.90      0.90      0.90      1797\n",
      "weighted avg       0.90      0.90      0.90      1797\n",
      "\n"
     ]
    }
   ],
   "source": [
    "from sklearn.metrics import classification_report\n",
    "\n",
    "print(classification_report(y2, y2_pred))"
   ]
  },
  {
   "cell_type": "code",
   "execution_count": 280,
   "metadata": {},
   "outputs": [
    {
     "data": {
      "text/plain": [
       "(1797, 64)"
      ]
     },
     "execution_count": 280,
     "metadata": {},
     "output_type": "execute_result"
    }
   ],
   "source": [
    "# 행은 데이터 수, 열은 feature 수\n",
    "X.shape"
   ]
  },
  {
   "cell_type": "code",
   "execution_count": 272,
   "metadata": {},
   "outputs": [
    {
     "data": {
      "text/plain": [
       "(10, 64)"
      ]
     },
     "execution_count": 272,
     "metadata": {},
     "output_type": "execute_result"
    }
   ],
   "source": [
    "# 10은 각 클래스별, 64개 feature에 대한 모수\n",
    "\n",
    "theta = np.exp(model_bern.feature_log_prob_)\n",
    "theta.shape"
   ]
  },
  {
   "cell_type": "code",
   "execution_count": 273,
   "metadata": {},
   "outputs": [
    {
     "data": {
      "text/plain": [
       "(-0.5, 7.5, 7.5, -0.5)"
      ]
     },
     "execution_count": 273,
     "metadata": {},
     "output_type": "execute_result"
    },
    {
     "data": {
      "image/png": "[encoded data removed]",
      "text/plain": [
       "<Figure size 432x288 with 1 Axes>"
      ]
     },
     "metadata": {
      "image/png": {
       "height": 231,
       "width": 231
      }
     },
     "output_type": "display_data"
    }
   ],
   "source": [
    "# Binarizer 후 이미지. \n",
    "plt.imshow(theta[0, :].reshape((8, 8)), cmap=plt.cm.binary)\n",
    "plt.axis(\"off\")"
   ]
  },
  {
   "cell_type": "code",
   "execution_count": 283,
   "metadata": {},
   "outputs": [
    {
     "data": {
      "text/plain": [
       "(-0.5, 7.5, 7.5, -0.5)"
      ]
     },
     "execution_count": 283,
     "metadata": {},
     "output_type": "execute_result"
    },
    {
     "data": {
      "image/png": "[encoded data removed]",
      "text/plain": [
       "<Figure size 432x288 with 1 Axes>"
      ]
     },
     "metadata": {
      "image/png": {
       "height": 231,
       "width": 231
      }
     },
     "output_type": "display_data"
    }
   ],
   "source": [
    "plt.imshow(theta[3, :].reshape((8, 8)), cmap=plt.cm.binary)\n",
    "plt.axis(\"off\")"
   ]
  },
  {
   "cell_type": "code",
   "execution_count": 284,
   "metadata": {},
   "outputs": [
    {
     "data": {
      "text/plain": [
       "array([0.00540541, 0.00540541, 0.6       , 0.96756757, 0.97297297,\n",
       "       0.50810811, 0.03243243, 0.00540541, 0.00540541, 0.2       ,\n",
       "       0.89189189, 0.64864865, 0.80540541, 0.8       , 0.12432432,\n",
       "       0.00540541, 0.00540541, 0.10810811, 0.22162162, 0.12972973,\n",
       "       0.84324324, 0.65945946, 0.02162162, 0.00540541, 0.00540541,\n",
       "       0.01621622, 0.05405405, 0.61081081, 0.95675676, 0.3027027 ,\n",
       "       0.00540541, 0.00540541, 0.00540541, 0.00540541, 0.07027027,\n",
       "       0.31891892, 0.85945946, 0.76216216, 0.0972973 , 0.00540541,\n",
       "       0.00540541, 0.01621622, 0.07027027, 0.05405405, 0.26486486,\n",
       "       0.86486486, 0.42702703, 0.00540541, 0.00540541, 0.02702703,\n",
       "       0.43243243, 0.36216216, 0.55135135, 0.89189189, 0.34594595,\n",
       "       0.00540541, 0.00540541, 0.00540541, 0.62702703, 0.98378378,\n",
       "       0.94054054, 0.63243243, 0.05405405, 0.01081081])"
      ]
     },
     "execution_count": 284,
     "metadata": {},
     "output_type": "execute_result"
    }
   ],
   "source": [
    "theta[3, :]"
   ]
  },
  {
   "cell_type": "markdown",
   "metadata": {},
   "source": [
    "각 클래스별 $\\mu$ 값이 나오잖아. 그럼 이것을 어떻게 한다는 걸까? <br>\n",
    "classification할때, 얘랑 그림을 겹쳐본다. 겹친 다음에, 1이 나오는 부분은 mu값을 그대로 쓰고 1이 안나오는 부분은 1-mu로 뒤집는다. <br>\n",
    "그 다음에 그걸 다 곱해. 거기다가 사전확률을 곱하면 그게 조건부확률이 된다는 거야. <br>\n",
    "그 중에 큰거 찾는 과정을 한 것. \n",
    "\n",
    "\n",
    "\n",
    "즉, 이 위에서 보이는 것을 마스크로 사용해서 한장씩 씌워보면서 확률을 계산하는 과정이였던 것. "
   ]
  },
  {
   "cell_type": "code",
   "execution_count": null,
   "metadata": {},
   "outputs": [],
   "source": []
  },
  {
   "cell_type": "code",
   "execution_count": null,
   "metadata": {},
   "outputs": [],
   "source": []
  },
  {
   "cell_type": "code",
   "execution_count": 13,
   "metadata": {},
   "outputs": [
    {
     "data": {
      "image/png": "[encoded data removed]",
      "text/plain": [
       "<Figure size 432x288 with 1 Axes>"
      ]
     },
     "metadata": {
      "image/png": {
       "height": 251,
       "width": 247
      }
     },
     "output_type": "display_data"
    }
   ],
   "source": [
    "from sklearn.datasets import load_digits\n",
    "\n",
    "digits = load_digits()\n",
    "X2 = digits.data\n",
    "y2 = digits.target\n",
    "\n",
    "\n",
    "plt.imshow(X2[0, :].reshape((8, 8)), cmap=plt.cm.binary)\n",
    "plt.grid(False)\n",
    "plt.show()"
   ]
  },
  {
   "cell_type": "code",
   "execution_count": 275,
   "metadata": {},
   "outputs": [
    {
     "name": "stderr",
     "output_type": "stream",
     "text": [
      "/Users/sanghyuk/anaconda/envs/py38/lib/python3.8/site-packages/sklearn/utils/validation.py:67: FutureWarning: Pass threshold=7 as keyword args. From version 0.25 passing these as positional arguments will result in an error\n",
      "  warnings.warn(\"Pass {} as keyword args. From version 0.25 \"\n"
     ]
    },
    {
     "data": {
      "image/png": "[encoded data removed]",
      "text/plain": [
       "<Figure size 432x288 with 1 Axes>"
      ]
     },
     "metadata": {
      "image/png": {
       "height": 251,
       "width": 247
      }
     },
     "output_type": "display_data"
    }
   ],
   "source": [
    "from sklearn.preprocessing import Binarizer\n",
    "\n",
    "X2 = Binarizer(7).fit_transform(X2)\n",
    "\n",
    "plt.imshow(X2[0, :].reshape((8, 8)), cmap=plt.cm.binary)\n",
    "plt.grid(False)\n",
    "plt.show()"
   ]
  },
  {
   "cell_type": "code",
   "execution_count": 276,
   "metadata": {},
   "outputs": [
    {
     "name": "stdout",
     "output_type": "stream",
     "text": [
      "              precision    recall  f1-score   support\n",
      "\n",
      "           0       0.00      0.00      0.00       178\n",
      "           1       0.00      0.00      0.00       182\n",
      "           2       0.00      0.00      0.00       177\n",
      "           3       0.10      1.00      0.18       183\n",
      "           4       0.00      0.00      0.00       181\n",
      "           5       0.00      0.00      0.00       182\n",
      "           6       0.00      0.00      0.00       181\n",
      "           7       0.00      0.00      0.00       179\n",
      "           8       0.00      0.00      0.00       174\n",
      "           9       0.00      0.00      0.00       180\n",
      "\n",
      "    accuracy                           0.10      1797\n",
      "   macro avg       0.01      0.10      0.02      1797\n",
      "weighted avg       0.01      0.10      0.02      1797\n",
      "\n"
     ]
    },
    {
     "name": "stderr",
     "output_type": "stream",
     "text": [
      "/Users/sanghyuk/anaconda/envs/py38/lib/python3.8/site-packages/sklearn/metrics/_classification.py:1221: UndefinedMetricWarning: Precision and F-score are ill-defined and being set to 0.0 in labels with no predicted samples. Use `zero_division` parameter to control this behavior.\n",
      "  _warn_prf(average, modifier, msg_start, len(result))\n"
     ]
    }
   ],
   "source": [
    "from sklearn.naive_bayes import BernoulliNB\n",
    "\n",
    "model = BernoulliNB().fit(X2, y2)\n",
    "y2_pred = model.predict(X2)\n",
    "\n",
    "from sklearn.metrics import classification_report\n",
    "\n",
    "print(classification_report(y2, y2_pred))"
   ]
  },
  {
   "cell_type": "code",
   "execution_count": 277,
   "metadata": {},
   "outputs": [
    {
     "name": "stdout",
     "output_type": "stream",
     "text": [
      "              precision    recall  f1-score   support\n",
      "\n",
      "           0       0.99      0.97      0.98       178\n",
      "           1       0.80      0.80      0.80       182\n",
      "           2       0.91      0.90      0.91       177\n",
      "           3       0.93      0.85      0.89       183\n",
      "           4       0.96      0.94      0.95       181\n",
      "           5       0.92      0.88      0.90       182\n",
      "           6       0.97      0.96      0.97       181\n",
      "           7       0.91      0.99      0.95       179\n",
      "           8       0.80      0.82      0.81       174\n",
      "           9       0.80      0.87      0.83       180\n",
      "\n",
      "    accuracy                           0.90      1797\n",
      "   macro avg       0.90      0.90      0.90      1797\n",
      "weighted avg       0.90      0.90      0.90      1797\n",
      "\n"
     ]
    }
   ],
   "source": [
    "X2 = digits.data\n",
    "y2 = digits.target\n",
    "\n",
    "model = BernoulliNB(binarize=7).fit(X2, y2)\n",
    "y2_pred = model.predict(X2)\n",
    "\n",
    "from sklearn.metrics import classification_report\n",
    "\n",
    "print(classification_report(y2, y2_pred))"
   ]
  },
  {
   "cell_type": "code",
   "execution_count": 278,
   "metadata": {},
   "outputs": [
    {
     "data": {
      "image/png": "[encoded data removed]",
      "text/plain": [
       "<Figure size 432x288 with 1 Axes>"
      ]
     },
     "metadata": {
      "image/png": {
       "height": 251,
       "width": 247
      }
     },
     "output_type": "display_data"
    }
   ],
   "source": [
    "plt.imshow(np.exp(model.feature_log_prob_)[2].reshape((8, 8)), cmap=plt.cm.binary)\n",
    "plt.grid(False)\n",
    "plt.show()"
   ]
  },
  {
   "cell_type": "code",
   "execution_count": null,
   "metadata": {},
   "outputs": [],
   "source": []
  },
  {
   "cell_type": "code",
   "execution_count": null,
   "metadata": {},
   "outputs": [],
   "source": []
  },
  {
   "cell_type": "markdown",
   "metadata": {},
   "source": [
    "### 다항분포 나이브베이즈 모형"
   ]
  },
  {
   "cell_type": "markdown",
   "metadata": {},
   "source": [
    "주사위. $y=0$일때, $y=1$일때 던지는 주사위가 서로 다른 상황. <br>\n",
    "총 5번 던졌더니, (1, 1, 0, 2, 1, 0)이 나왔음. <br>\n",
    "이게 $y=0$일때 주사위에서 나온건지 $y=1$일때 주사위에서 나온건지를 알아내면 된다는 것. <br>\n",
    "베르누이분포는 동전들 있던 박스였다면, 여기서는 주사위로 바뀐 것일 뿐. "
   ]
  },
  {
   "cell_type": "markdown",
   "metadata": {},
   "source": [
    "(해당 면이 나온 횟수/전체 던진 횟수) 이게 모수가 되는 것. <br>\n",
    "다만, log를 취한 값으로 모수를 가지고 있다. <br>\n",
    "또한, 스무딩을 한다. <br><br>\n",
    "\n",
    "\n",
    "5번 던졌는데, (1, 1, 0, 2, 1, 0) 3과 6은 한번도 안나왔음. <br>\n",
    "이 상태에서 모수를 구하면, 1/5, 1/5, 0, 2/5, 1/5가 된다. <br>\n",
    "0으로 모수를 해버리면, 앞으로 100만번을 던져도 3, 6은 안나온다는 건데 너무 극단적이잖아. <br>\n",
    "그래서, 여기서도 평범한 주사위와 데이터를 조금 섞어서 데이터를 마사지를 해줘야 한다. <br>\n",
    "평범한 주사위라는 것은 모든 면이 고르게 나오는 주사위를 의미한다. <br>\n",
    "\n",
    "즉, 주사위를 6번 던진 데이터가 한세트 더 있는 것. <br>\n",
    "$(1, 1, 0, 2, 1, 0)$ -> $(2, 2, 1, 3, 2, 1)$이 된다. <br>\n",
    "전체 던진 횟수는 11번이 된다. <br>\n",
    "모수는, \n",
    "2/11, 2/11, 1/11, 3/11, 2/11, 1/11이 된다. <br>\n",
    "$\\alpha$는 알파 세트 만큼을 의미한다. 주사위라는 a=1일 때 6, a=2일 때 12를 의미한다."
   ]
  },
  {
   "cell_type": "markdown",
   "metadata": {},
   "source": [
    "다항분포 나이브베이즈 모형 클래스 `MultinomialNB`는 가능도 추정과 관련하여 다음 속성을 가진다.\n",
    "\n",
    "* `feature_count_`: 각 클래스 $k$에서 $d$번째 면이 나온 횟수 $N_{d,k}$\n",
    "* `feature_log_prob_`: 다항분포의 모수의 로그\n",
    " \n",
    "$$ \\log \\mu_k = (\\log \\mu_{1,k}, \\ldots, \\log \\mu_{D, k}) = \\left( \\log \\dfrac{N_{1,k}}{N_k}, \\ldots, \\log \\dfrac{N_{D,k}}{N_k} \\right)$$\n",
    " \n",
    "여기에서 $N_k$은 클래스 $k$에 대해 주사위를 던진 총 횟수를 뜻한다.\n",
    "\n",
    "스무딩 공식은\n",
    "\n",
    "$$ \\hat{\\mu}_{d,k} = \\frac{ N_{d,k} + \\alpha}{N_k + D \\alpha} $$ \n",
    "\n",
    "이다."
   ]
  },
  {
   "cell_type": "markdown",
   "metadata": {},
   "source": [
    "이번에도 스팸 메일 필터링을 예로 들어보다. 다만 BOW 인코딩을 할 때, 각 키워드가 출현한 빈도를 직접 입력 변수로 사용한다."
   ]
  },
  {
   "cell_type": "markdown",
   "metadata": {},
   "source": [
    "10개 메일, [3, 4, 1, 2] 1번 키워드 3번 2번 키워드 4번 3번 키워드 1번, 4번 키워드 2번 나왔다. <br>\n",
    "의미를 잘 보면, 앞에 4개는 y=0주사위에서 나온거고, 뒤에 6개는 y=1이라는 주사위에서 나온 것. "
   ]
  },
  {
   "cell_type": "markdown",
   "metadata": {},
   "source": [
    "![1_75.jpeg](./materials/1_75.jpeg)"
   ]
  },
  {
   "cell_type": "code",
   "execution_count": 285,
   "metadata": {},
   "outputs": [],
   "source": [
    "X = np.array([\n",
    "    [3, 4, 1, 2],\n",
    "    [3, 5, 1, 1],\n",
    "    [3, 3, 0, 4],\n",
    "    [3, 4, 1, 2],\n",
    "    [1, 2, 1, 4],\n",
    "    [0, 0, 5, 3],\n",
    "    [1, 2, 4, 1],\n",
    "    [1, 1, 4, 2],\n",
    "    [0, 1, 2, 5],\n",
    "    [2, 1, 2, 3]])\n",
    "y = np.array([0, 0, 0, 0, 1, 1, 1, 1, 1, 1])"
   ]
  },
  {
   "cell_type": "code",
   "execution_count": 286,
   "metadata": {},
   "outputs": [],
   "source": [
    "from sklearn.naive_bayes import MultinomialNB\n",
    "model_mult = MultinomialNB().fit(X, y)"
   ]
  },
  {
   "cell_type": "markdown",
   "metadata": {},
   "source": [
    "사전 확률은 다음과 같이 구한다."
   ]
  },
  {
   "cell_type": "code",
   "execution_count": 287,
   "metadata": {},
   "outputs": [
    {
     "data": {
      "text/plain": [
       "array([0, 1])"
      ]
     },
     "execution_count": 287,
     "metadata": {},
     "output_type": "execute_result"
    }
   ],
   "source": [
    "model_mult.classes_"
   ]
  },
  {
   "cell_type": "code",
   "execution_count": 288,
   "metadata": {},
   "outputs": [
    {
     "data": {
      "text/plain": [
       "array([4., 6.])"
      ]
     },
     "execution_count": 288,
     "metadata": {},
     "output_type": "execute_result"
    }
   ],
   "source": [
    "model_mult.class_count_"
   ]
  },
  {
   "cell_type": "code",
   "execution_count": 289,
   "metadata": {},
   "outputs": [
    {
     "data": {
      "text/plain": [
       "array([0.4, 0.6])"
      ]
     },
     "execution_count": 289,
     "metadata": {},
     "output_type": "execute_result"
    }
   ],
   "source": [
    "np.exp(model_mult.class_log_prior_)"
   ]
  },
  {
   "cell_type": "markdown",
   "metadata": {},
   "source": [
    "다음으로 각 클래스에 대한 가능도 확률분포를 구한다. 다항분포 모형을 사용하므로 각 클래스틑 4개의 면을 가진 주사위로 생각할 수 있다. 그리고 각 면이 나올 확률은 각 면이 나온 횟수를 주사위를 던진 전체 횟수로 나누면 된다. 우선 각 클래스 별로 각각의 면이 나온 횟수는 다음과 같다. "
   ]
  },
  {
   "cell_type": "code",
   "execution_count": 290,
   "metadata": {},
   "outputs": [
    {
     "data": {
      "text/plain": [
       "array([[12., 16.,  3.,  9.],\n",
       "       [ 5.,  7., 18., 18.]])"
      ]
     },
     "execution_count": 290,
     "metadata": {},
     "output_type": "execute_result"
    }
   ],
   "source": [
    "fc = model_mult.feature_count_\n",
    "fc"
   ]
  },
  {
   "cell_type": "markdown",
   "metadata": {},
   "source": [
    "이 데이터에서 클래스 Y=0인 주사위를 던진 횟수는 첫번째 행의 값의 합인 40이므로 클래스 Y=0인 주사위를 던져 1이라는 면이 나올 확률은 다음처럼 계산할 수 있다.\n",
    "\n",
    "$$ \\mu_{1,Y=0} = \\dfrac{12}{40} = 0.3 $$"
   ]
  },
  {
   "cell_type": "code",
   "execution_count": 291,
   "metadata": {},
   "outputs": [
    {
     "data": {
      "text/plain": [
       "array([[0.3       , 0.4       , 0.075     , 0.225     ],\n",
       "       [0.10416667, 0.14583333, 0.375     , 0.375     ]])"
      ]
     },
     "execution_count": 291,
     "metadata": {},
     "output_type": "execute_result"
    }
   ],
   "source": [
    "fc / np.repeat(fc.sum(axis=1)[:, np.newaxis], 4, axis=1)"
   ]
  },
  {
   "cell_type": "markdown",
   "metadata": {},
   "source": [
    "실제로는 극단적인 추정을 피하기 위해 이 값을 가중치 1인 스무딩을 한 추정값을 사용한다."
   ]
  },
  {
   "cell_type": "code",
   "execution_count": 292,
   "metadata": {},
   "outputs": [
    {
     "data": {
      "text/plain": [
       "1.0"
      ]
     },
     "execution_count": 292,
     "metadata": {},
     "output_type": "execute_result"
    }
   ],
   "source": [
    "model_mult.alpha"
   ]
  },
  {
   "cell_type": "code",
   "execution_count": 293,
   "metadata": {},
   "outputs": [
    {
     "data": {
      "text/plain": [
       "array([[0.29545455, 0.38636364, 0.09090909, 0.22727273],\n",
       "       [0.11538462, 0.15384615, 0.36538462, 0.36538462]])"
      ]
     },
     "execution_count": 293,
     "metadata": {},
     "output_type": "execute_result"
    }
   ],
   "source": [
    "(fc + model_mult.alpha) / \\\n",
    "    (np.repeat(fc.sum(axis=1)[:, np.newaxis],\n",
    "               4, axis=1) + model_mult.alpha * X.shape[1])"
   ]
  },
  {
   "cell_type": "markdown",
   "metadata": {},
   "source": [
    "이렇게 구한 모수 추정치는 다음과 같다."
   ]
  },
  {
   "cell_type": "code",
   "execution_count": 294,
   "metadata": {},
   "outputs": [
    {
     "data": {
      "text/plain": [
       "array([[0.29545455, 0.38636364, 0.09090909, 0.22727273],\n",
       "       [0.11538462, 0.15384615, 0.36538462, 0.36538462]])"
      ]
     },
     "execution_count": 294,
     "metadata": {},
     "output_type": "execute_result"
    }
   ],
   "source": [
    "theta = np.exp(model_mult.feature_log_prob_)\n",
    "theta"
   ]
  },
  {
   "cell_type": "markdown",
   "metadata": {},
   "source": [
    "이제 이 값을 사용하여 예측을 해 보자. 만약 어떤 메일에 1번부터 4번까지의 키워드가 각각 10번씩 나왔다면 다음처럼 확률을 구할 수 있다. 구해진 확률로부터 이 메일이 스팸임을 알 수 있다. "
   ]
  },
  {
   "cell_type": "code",
   "execution_count": 295,
   "metadata": {
    "scrolled": true
   },
   "outputs": [
    {
     "data": {
      "text/plain": [
       "array([[0.38848858, 0.61151142]])"
      ]
     },
     "execution_count": 295,
     "metadata": {},
     "output_type": "execute_result"
    }
   ],
   "source": [
    "x_new = np.array([10, 10, 10, 10])\n",
    "model_mult.predict_proba([x_new])"
   ]
  },
  {
   "cell_type": "markdown",
   "metadata": {},
   "source": [
    "다항분포의 확률질량함수을 사용하면 다음처럼 직접 확률을 구할 수도 있다."
   ]
  },
  {
   "cell_type": "code",
   "execution_count": 296,
   "metadata": {},
   "outputs": [
    {
     "ename": "ValueError",
     "evalue": "operands could not be broadcast together with shapes (2,) (10,) ",
     "output_type": "error",
     "traceback": [
      "\u001b[0;31m---------------------------------------------------------------------------\u001b[0m",
      "\u001b[0;31mValueError\u001b[0m                                Traceback (most recent call last)",
      "\u001b[0;32m<ipython-input-296-61929fb9e2c1>\u001b[0m in \u001b[0;36m<module>\u001b[0;34m\u001b[0m\n\u001b[0;32m----> 1\u001b[0;31m \u001b[0mp\u001b[0m \u001b[0;34m=\u001b[0m \u001b[0;34m(\u001b[0m\u001b[0mtheta\u001b[0m \u001b[0;34m**\u001b[0m \u001b[0mx_new\u001b[0m\u001b[0;34m)\u001b[0m\u001b[0;34m.\u001b[0m\u001b[0mprod\u001b[0m\u001b[0;34m(\u001b[0m\u001b[0maxis\u001b[0m\u001b[0;34m=\u001b[0m\u001b[0;36m1\u001b[0m\u001b[0;34m)\u001b[0m\u001b[0;34m*\u001b[0m\u001b[0mnp\u001b[0m\u001b[0;34m.\u001b[0m\u001b[0mexp\u001b[0m\u001b[0;34m(\u001b[0m\u001b[0mmodel_bern\u001b[0m\u001b[0;34m.\u001b[0m\u001b[0mclass_log_prior_\u001b[0m\u001b[0;34m)\u001b[0m\u001b[0;34m\u001b[0m\u001b[0;34m\u001b[0m\u001b[0m\n\u001b[0m\u001b[1;32m      2\u001b[0m \u001b[0mp\u001b[0m \u001b[0;34m/\u001b[0m \u001b[0mp\u001b[0m\u001b[0;34m.\u001b[0m\u001b[0msum\u001b[0m\u001b[0;34m(\u001b[0m\u001b[0;34m)\u001b[0m\u001b[0;34m\u001b[0m\u001b[0;34m\u001b[0m\u001b[0m\n",
      "\u001b[0;31mValueError\u001b[0m: operands could not be broadcast together with shapes (2,) (10,) "
     ]
    }
   ],
   "source": [
    "p = (theta ** x_new).prod(axis=1)*np.exp(model_bern.class_log_prior_)\n",
    "p / p.sum()"
   ]
  },
  {
   "cell_type": "code",
   "execution_count": null,
   "metadata": {},
   "outputs": [],
   "source": []
  },
  {
   "cell_type": "markdown",
   "metadata": {},
   "source": [
    "#### 연습 문제 3\n",
    "\n",
    "MNIST 숫자 분류문제를 다항분포 나이브베이즈 모형을 사용하여 풀고 이진화(Binarizing)를 하여 베르누이 나이브베이즈 모형을 적용했을 경우와 성능을 비교하라.\n"
   ]
  },
  {
   "cell_type": "code",
   "execution_count": 297,
   "metadata": {},
   "outputs": [
    {
     "name": "stdout",
     "output_type": "stream",
     "text": [
      "              precision    recall  f1-score   support\n",
      "\n",
      "           0       0.99      0.99      0.99       178\n",
      "           1       0.83      0.85      0.84       182\n",
      "           2       0.98      0.64      0.77       177\n",
      "           3       0.94      0.79      0.86       183\n",
      "           4       0.98      0.84      0.90       181\n",
      "           5       0.91      0.93      0.92       182\n",
      "           6       0.96      0.99      0.98       181\n",
      "           7       0.72      0.99      0.83       179\n",
      "           8       0.58      0.86      0.69       174\n",
      "           9       0.94      0.71      0.81       180\n",
      "\n",
      "    accuracy                           0.86      1797\n",
      "   macro avg       0.88      0.86      0.86      1797\n",
      "weighted avg       0.89      0.86      0.86      1797\n",
      "\n"
     ]
    }
   ],
   "source": [
    "from sklearn.datasets import load_digits\n",
    "\n",
    "digits = load_digits()\n",
    "X2 = digits.data\n",
    "y2 = digits.target\n",
    "\n",
    "from sklearn.naive_bayes import GaussianNB\n",
    "\n",
    "model = GaussianNB().fit(X2, y2)\n",
    "y2_pred = model.predict(X2)\n",
    "\n",
    "from sklearn.metrics import classification_report\n",
    "\n",
    "print(classification_report(y2, y2_pred))"
   ]
  },
  {
   "cell_type": "code",
   "execution_count": null,
   "metadata": {},
   "outputs": [],
   "source": []
  },
  {
   "cell_type": "code",
   "execution_count": 298,
   "metadata": {},
   "outputs": [],
   "source": [
    "from sklearn.datasets import load_digits\n",
    "digits = load_digits()\n",
    "X2 = digits.data\n",
    "y2 = digits.target"
   ]
  },
  {
   "cell_type": "code",
   "execution_count": 299,
   "metadata": {},
   "outputs": [
    {
     "name": "stdout",
     "output_type": "stream",
     "text": [
      "              precision    recall  f1-score   support\n",
      "\n",
      "           0       0.99      0.98      0.99       178\n",
      "           1       0.87      0.75      0.81       182\n",
      "           2       0.90      0.90      0.90       177\n",
      "           3       0.99      0.87      0.93       183\n",
      "           4       0.96      0.96      0.96       181\n",
      "           5       0.97      0.86      0.91       182\n",
      "           6       0.98      0.97      0.98       181\n",
      "           7       0.89      0.99      0.94       179\n",
      "           8       0.78      0.89      0.83       174\n",
      "           9       0.76      0.88      0.82       180\n",
      "\n",
      "    accuracy                           0.91      1797\n",
      "   macro avg       0.91      0.91      0.91      1797\n",
      "weighted avg       0.91      0.91      0.91      1797\n",
      "\n"
     ]
    }
   ],
   "source": [
    "from sklearn.naive_bayes import MultinomialNB\n",
    "\n",
    "model = MultinomialNB().fit(X2, y2)\n",
    "y2_pred = model.predict(X2)\n",
    "\n",
    "from sklearn.metrics import classification_report\n",
    "\n",
    "print(classification_report(y2, y2_pred))"
   ]
  },
  {
   "cell_type": "code",
   "execution_count": null,
   "metadata": {},
   "outputs": [],
   "source": []
  },
  {
   "cell_type": "code",
   "execution_count": null,
   "metadata": {},
   "outputs": [],
   "source": []
  },
  {
   "cell_type": "markdown",
   "metadata": {},
   "source": [
    "#### 연습 문제 4\n",
    "\n",
    "텍스트 분석에서 TF-IDF 인코딩을 하면 단어의 빈도수가 정수가 아닌 실수값이 된다. 이런 경우에도  다항분포 모형을 적용할 수 있는가?\n"
   ]
  },
  {
   "cell_type": "markdown",
   "metadata": {},
   "source": [
    "**TF-IDF** : 이 단어가 들어가 있는 문서의 수로 나눠주는 형태. 그러면 정수가 아니다. <br>\n",
    "그러면 어떻게 하지? <br>\n",
    "돌아가는지 해보자. <br>"
   ]
  },
  {
   "cell_type": "code",
   "execution_count": 301,
   "metadata": {},
   "outputs": [
    {
     "name": "stdout",
     "output_type": "stream",
     "text": [
      "              precision    recall  f1-score   support\n",
      "\n",
      "           0       1.00      1.00      1.00         4\n",
      "           1       1.00      1.00      1.00         6\n",
      "\n",
      "    accuracy                           1.00        10\n",
      "   macro avg       1.00      1.00      1.00        10\n",
      "weighted avg       1.00      1.00      1.00        10\n",
      "\n"
     ]
    }
   ],
   "source": [
    "X4 = np.array([\n",
    "    [3.1, 4.0, 1.0, 2.0],\n",
    "    [3.0, 5.0, 1.0, 1.0],\n",
    "    [3.0, 3.5, 0.0, 4.0],\n",
    "    [3.0, 4.0, 1.0, 2.8],\n",
    "    [1.0, 2.1, 1.0, 4.0],\n",
    "    [0.0, 0.0, 5.0, 3.0],\n",
    "    [1.0, 2.0, 4.0, 1.0],\n",
    "    [1.0, 1.0, 4.1, 2.0],\n",
    "    [0.0, 1.0, 2.0, 5.0],\n",
    "    [2.9, 1.0, 2.0, 3.0]])\n",
    "y4 = np.array([0, 0, 0, 0, 1, 1, 1, 1, 1, 1])\n",
    "\n",
    "from sklearn.naive_bayes import MultinomialNB\n",
    "\n",
    "model_mult4 = MultinomialNB().fit(X4, y4)\n",
    "y4_pred = model_mult4.predict(X4)\n",
    "\n",
    "from sklearn.metrics import classification_report\n",
    "\n",
    "print(classification_report(y4, y4_pred))"
   ]
  },
  {
   "cell_type": "code",
   "execution_count": null,
   "metadata": {},
   "outputs": [],
   "source": []
  },
  {
   "cell_type": "markdown",
   "metadata": {},
   "source": [
    "사실은 정수가 아니여도 된다. <br>\n",
    "왜냐면, $\\mu$구하면서, feature_count할때, 실제로 사람이 세듯이 새는게 아니야. 내부에서는 sum()하는 것으로 구현이 되어 있어. <br>\n",
    "그래서 그냥 비슷하게 나오게 된다. <br>\n",
    "\n",
    "베르누이 나이브 베이즈 에서도 다 이렇게 구현이 되어 있어서, 실제로 1이 아니라 0.9를 해도 돌아간다. "
   ]
  },
  {
   "cell_type": "markdown",
   "metadata": {},
   "source": [
    "### 중요 \n",
    "\n",
    "이론적으로는 \n",
    "실수 - 가우시안, 정수 - 다항, 0/1 - 베르누이 <br>\n",
    "이렇게 해야되잖아. \n",
    "\n",
    "그런데, 현실에서는 <br>\n",
    "그냥 다 아무데나 넣고 쓴다. 실수든 뭐든 베르누이든, 어디다 넣든 다 동작은 한다. <br>\n",
    "다만, 가정에 잘 안맞으면 성능은 안나오겠지. <br>\n",
    "어쨋든 에러는 안난다는 거야. 곧, TF-IDF를 해도 문제가 없다는 거야. "
   ]
  },
  {
   "cell_type": "code",
   "execution_count": null,
   "metadata": {},
   "outputs": [],
   "source": []
  },
  {
   "cell_type": "code",
   "execution_count": null,
   "metadata": {},
   "outputs": [],
   "source": []
  },
  {
   "cell_type": "markdown",
   "metadata": {},
   "source": [
    "### 뉴스그룹 분류"
   ]
  },
  {
   "cell_type": "markdown",
   "metadata": {},
   "source": [
    "파이프라인?\n",
    "![1_76.jpeg](./materials/1_76.jpeg)"
   ]
  },
  {
   "cell_type": "markdown",
   "metadata": {},
   "source": [
    "다음은 뉴스그룹 데이터에 대해 나이브베이즈 분류모형을 적용한 결과이다. "
   ]
  },
  {
   "cell_type": "code",
   "execution_count": 302,
   "metadata": {},
   "outputs": [],
   "source": [
    "from sklearn.datasets import fetch_20newsgroups\n",
    "\n",
    "news = fetch_20newsgroups(subset=\"all\")\n",
    "X = news.data\n",
    "y = news.target\n",
    "\n",
    "from sklearn.feature_extraction.text import TfidfVectorizer, HashingVectorizer, CountVectorizer\n",
    "from sklearn.naive_bayes import MultinomialNB\n",
    "from sklearn.pipeline import Pipeline\n",
    "\n",
    "model1 = Pipeline([\n",
    "    ('vect', CountVectorizer()),\n",
    "    ('model', MultinomialNB()),\n",
    "])\n",
    "model2 = Pipeline([\n",
    "    ('vect', TfidfVectorizer()),\n",
    "    ('model', MultinomialNB()),\n",
    "])\n",
    "model3 = Pipeline([\n",
    "    ('vect', TfidfVectorizer(stop_words=\"english\")),\n",
    "    ('model', MultinomialNB()),\n",
    "])\n",
    "model4 = Pipeline([\n",
    "    ('vect', TfidfVectorizer(stop_words=\"english\",\n",
    "                             # 쓸데없는 키워드 더 뺏음.\n",
    "                             token_pattern=r\"\\b[a-z0-9_\\-\\.]+[a-z][a-z0-9_\\-\\.]+\\b\")),\n",
    "    ('model', MultinomialNB()),\n",
    "])"
   ]
  },
  {
   "cell_type": "markdown",
   "metadata": {},
   "source": [
    "지금 아래 Accuracy보면서 느껴야 할 것은 한가지. <br>\n",
    "나이브베이즈에서는 쓸데없는 X데이터 빼면 뺄수록 예측력이 좋아진다는 것. <br>\n",
    "***나이브베이즈에서는 쓸데없는거 빼는게 제일 중요하다.***"
   ]
  },
  {
   "cell_type": "code",
   "execution_count": 303,
   "metadata": {},
   "outputs": [
    {
     "name": "stdout",
     "output_type": "stream",
     "text": [
      "Model1: Mean score: 0.855\n",
      "Model2: Mean score: 0.856\n",
      "Model3: Mean score: 0.883\n",
      "Model4: Mean score: 0.888\n",
      "CPU times: user 1min 34s, sys: 4.8 s, total: 1min 39s\n",
      "Wall time: 1min 43s\n"
     ]
    }
   ],
   "source": [
    "%%time\n",
    "from sklearn.model_selection import cross_val_score, KFold\n",
    "\n",
    "for i, model in enumerate([model1, model2, model3, model4]):\n",
    "    scores = cross_val_score(model, X, y, cv=5)\n",
    "    print((\"Model{0:d}: Mean score: {1:.3f}\").format(i + 1, np.mean(scores)))"
   ]
  },
  {
   "cell_type": "code",
   "execution_count": null,
   "metadata": {},
   "outputs": [],
   "source": []
  },
  {
   "cell_type": "code",
   "execution_count": null,
   "metadata": {},
   "outputs": [],
   "source": []
  },
  {
   "cell_type": "code",
   "execution_count": null,
   "metadata": {},
   "outputs": [],
   "source": []
  },
  {
   "cell_type": "markdown",
   "metadata": {},
   "source": [
    "## X가 섞여 있을 때. 매우 현실적으로 중요한 부분.  "
   ]
  },
  {
   "cell_type": "markdown",
   "metadata": {},
   "source": [
    "`X1~X10`은 가우시안으로 모델링 해야되고(feature마다 어떤 특정값 주변으로 모여있음), <br>\n",
    "`X11~X20`은 0/1 분포로 이루고 있어서 베르누이로 모델링 해야 함. <br>\n",
    "`X21~X30`은 Multi Normial처럼 되있어. <br>\n",
    "\n",
    "\n",
    "**이제 어떻게 할래?**<br>\n",
    "\n",
    "우리는 $P(Y|X)=P(X|Y)*P(Y)$를 구하면 된다.<br>\n"
   ]
  },
  {
   "cell_type": "markdown",
   "metadata": {},
   "source": [
    "X : 54개 종류, 위랑 똑같은 상황. "
   ]
  },
  {
   "cell_type": "code",
   "execution_count": 304,
   "metadata": {},
   "outputs": [
    {
     "name": "stdout",
     "output_type": "stream",
     "text": [
      ".. _covtype_dataset:\n",
      "\n",
      "Forest covertypes\n",
      "-----------------\n",
      "\n",
      "The samples in this dataset correspond to 30×30m patches of forest in the US,\n",
      "collected for the task of predicting each patch's cover type,\n",
      "i.e. the dominant species of tree.\n",
      "There are seven covertypes, making this a multiclass classification problem.\n",
      "Each sample has 54 features, described on the\n",
      "`dataset's homepage <https://archive.ics.uci.edu/ml/datasets/Covertype>`__.\n",
      "Some of the features are boolean indicators,\n",
      "while others are discrete or continuous measurements.\n",
      "\n",
      "**Data Set Characteristics:**\n",
      "\n",
      "    =================   ============\n",
      "    Classes                        7\n",
      "    Samples total             581012\n",
      "    Dimensionality                54\n",
      "    Features                     int\n",
      "    =================   ============\n",
      "\n",
      ":func:`sklearn.datasets.fetch_covtype` will load the covertype dataset;\n",
      "it returns a dictionary-like object\n",
      "with the feature matrix in the ``data`` member\n",
      "and the target values in ``target``.\n",
      "The dataset will be downloaded from the web if necessary.\n",
      "\n"
     ]
    }
   ],
   "source": [
    "from sklearn.datasets import fetch_covtype\n",
    "covtype = fetch_covtype()\n",
    "print(covtype.DESCR)"
   ]
  },
  {
   "cell_type": "markdown",
   "metadata": {},
   "source": [
    "![1_77.jpeg](./materials/1_77.jpeg)"
   ]
  },
  {
   "cell_type": "code",
   "execution_count": null,
   "metadata": {},
   "outputs": [],
   "source": []
  },
  {
   "cell_type": "markdown",
   "metadata": {},
   "source": [
    "#### 연습 문제 5\n",
    "\n",
    "(1) 만약 독립변수로 실수 변수, 0 또는 1 값을 가지는 변수, 자연수 값을 가지는 변수가 섞여있다면 사이킷런에서 제공하는 나이브베이즈 클래스를 사용하여 풀 수 있는가?\n",
    "\n",
    "(2) 사이킷런에서 제공하는 분류문제 예제 중 숲의 수종을 예측하는 covtype 분류문제는 연속확률분포 특징과 베르누이확률분포 특징이 섞여있다. 이 문제를 사이킷런에서 제공하는 나이브베이즈 클래스를 사용하여 풀어라."
   ]
  },
  {
   "cell_type": "code",
   "execution_count": 305,
   "metadata": {},
   "outputs": [
    {
     "data": {
      "text/plain": [
       "(array([2.596e+03, 5.100e+01, 3.000e+00, 2.580e+02, 0.000e+00, 5.100e+02,\n",
       "        2.210e+02, 2.320e+02, 1.480e+02, 6.279e+03]),\n",
       " array([1., 0., 0., 0., 0., 0., 0., 0., 0., 0., 0., 0., 0., 0., 0., 0., 0.,\n",
       "        0., 0., 0., 0., 0., 0., 0., 0., 0., 0., 0., 0., 0., 0., 0., 1., 0.,\n",
       "        0., 0., 0., 0., 0., 0., 0., 0., 0., 0.]))"
      ]
     },
     "execution_count": 305,
     "metadata": {},
     "output_type": "execute_result"
    }
   ],
   "source": [
    "from sklearn.datasets import fetch_covtype\n",
    "\n",
    "covtype = fetch_covtype()\n",
    "X = covtype.data\n",
    "y = covtype.target\n",
    "X1 = X[:, :10]\n",
    "X2 = X[:, 10:]\n",
    "X1[0], X2[0]"
   ]
  },
  {
   "cell_type": "code",
   "execution_count": 310,
   "metadata": {},
   "outputs": [
    {
     "data": {
      "text/plain": [
       "array([1, 2, 3, 4, 5, 6, 7], dtype=int32)"
      ]
     },
     "execution_count": 310,
     "metadata": {},
     "output_type": "execute_result"
    }
   ],
   "source": [
    "np.unique(y)"
   ]
  },
  {
   "cell_type": "code",
   "execution_count": 306,
   "metadata": {},
   "outputs": [],
   "source": [
    "from sklearn.naive_bayes import GaussianNB, BernoulliNB\n",
    "\n",
    "model1 = GaussianNB().fit(X1, y)\n",
    "model2 = BernoulliNB().fit(X2, y)"
   ]
  },
  {
   "cell_type": "code",
   "execution_count": 308,
   "metadata": {},
   "outputs": [
    {
     "data": {
      "text/plain": [
       "(581012, 7)"
      ]
     },
     "execution_count": 308,
     "metadata": {},
     "output_type": "execute_result"
    }
   ],
   "source": [
    "model1.predict_proba(X1).shape"
   ]
  },
  {
   "cell_type": "code",
   "execution_count": 317,
   "metadata": {},
   "outputs": [
    {
     "data": {
      "text/plain": [
       "array([0.36460521, 0.48759922, 0.06153746, 0.00472796, 0.01633873,\n",
       "       0.02989095, 0.03530048])"
      ]
     },
     "execution_count": 317,
     "metadata": {},
     "output_type": "execute_result"
    }
   ],
   "source": [
    "model1.class_prior_.shape\n",
    "model1.class_prior_"
   ]
  },
  {
   "cell_type": "code",
   "execution_count": 319,
   "metadata": {},
   "outputs": [
    {
     "data": {
      "text/plain": [
       "(581012, 7)"
      ]
     },
     "execution_count": 319,
     "metadata": {},
     "output_type": "execute_result"
    }
   ],
   "source": [
    "(model1.predict_proba(X1) / model1.class_prior_)"
   ]
  },
  {
   "cell_type": "code",
   "execution_count": 321,
   "metadata": {},
   "outputs": [
    {
     "data": {
      "text/plain": [
       "(581012, 7)"
      ]
     },
     "execution_count": 321,
     "metadata": {},
     "output_type": "execute_result"
    }
   ],
   "source": [
    "(model2.predict_proba(X2) / model2.class_log_prior_).shape"
   ]
  },
  {
   "cell_type": "code",
   "execution_count": 324,
   "metadata": {},
   "outputs": [],
   "source": [
    "prob = (model1.predict_proba(X1) / model1.class_prior_) * (model2.predict_proba(X2) / model2.class_log_prior_) "
   ]
  },
  {
   "cell_type": "code",
   "execution_count": 328,
   "metadata": {},
   "outputs": [],
   "source": [
    "model_for_prior = BernoulliNB().fit(X, y)"
   ]
  },
  {
   "cell_type": "code",
   "execution_count": 329,
   "metadata": {},
   "outputs": [
    {
     "data": {
      "text/plain": [
       "array([-1.00894014, -0.71826147, -2.78810926, -5.354262  , -4.11421673,\n",
       "       -3.51019956, -3.34385884])"
      ]
     },
     "execution_count": 329,
     "metadata": {},
     "output_type": "execute_result"
    }
   ],
   "source": [
    "model_for_prior.class_log_prior_"
   ]
  },
  {
   "cell_type": "code",
   "execution_count": 331,
   "metadata": {},
   "outputs": [],
   "source": [
    "final_prob = prob * model_for_prior.class_log_prior_"
   ]
  },
  {
   "cell_type": "code",
   "execution_count": 334,
   "metadata": {},
   "outputs": [],
   "source": [
    "pred = []\n",
    "for row in final_prob:\n",
    "    max_value = max(row)\n",
    "    index = list(row).index(max_value)\n",
    "    pred.append(index+1)"
   ]
  },
  {
   "cell_type": "code",
   "execution_count": 338,
   "metadata": {},
   "outputs": [
    {
     "data": {
      "text/plain": [
       "(array([1, 2, 3, 4, 5, 6, 7]),\n",
       " array([211995, 251820,  36737,   5675,  19930,  22715,  32140]))"
      ]
     },
     "execution_count": 338,
     "metadata": {},
     "output_type": "execute_result"
    }
   ],
   "source": [
    "np.unique(pred, return_counts=True)"
   ]
  },
  {
   "cell_type": "code",
   "execution_count": 339,
   "metadata": {},
   "outputs": [
    {
     "name": "stdout",
     "output_type": "stream",
     "text": [
      "              precision    recall  f1-score   support\n",
      "\n",
      "           1       0.66      0.66      0.66    211840\n",
      "           2       0.75      0.67      0.71    283301\n",
      "           3       0.64      0.66      0.65     35754\n",
      "           4       0.34      0.71      0.46      2747\n",
      "           5       0.18      0.37      0.24      9493\n",
      "           6       0.36      0.47      0.41     17367\n",
      "           7       0.43      0.68      0.53     20510\n",
      "\n",
      "    accuracy                           0.65    581012\n",
      "   macro avg       0.48      0.60      0.52    581012\n",
      "weighted avg       0.68      0.65      0.66    581012\n",
      "\n"
     ]
    }
   ],
   "source": [
    "print(classification_report(y, pred))"
   ]
  },
  {
   "cell_type": "code",
   "execution_count": 344,
   "metadata": {},
   "outputs": [
    {
     "data": {
      "text/plain": [
       "array([[140348,  53648,    157,      0,   2071,    881,  14735],\n",
       "       [ 65031, 188638,   5849,     19,  12541,   7752,   3471],\n",
       "       [     0,   2307,  23675,   3094,   1319,   5359,      0],\n",
       "       [     0,      0,    551,   1941,      0,    255,      0],\n",
       "       [   245,   5134,    275,      0,   3513,    326,      0],\n",
       "       [     0,   1910,   6230,    621,    464,   8142,      0],\n",
       "       [  6371,    183,      0,      0,     22,      0,  13934]])"
      ]
     },
     "execution_count": 344,
     "metadata": {},
     "output_type": "execute_result"
    }
   ],
   "source": [
    "confusion_matrix(y, pred)"
   ]
  },
  {
   "cell_type": "code",
   "execution_count": null,
   "metadata": {},
   "outputs": [],
   "source": []
  },
  {
   "cell_type": "code",
   "execution_count": 350,
   "metadata": {},
   "outputs": [
    {
     "data": {
      "text/plain": [
       "array([-1.00894014, -0.71826147, -2.78810926, -5.354262  , -4.11421673,\n",
       "       -3.51019956, -3.34385884])"
      ]
     },
     "execution_count": 350,
     "metadata": {},
     "output_type": "execute_result"
    }
   ],
   "source": [
    "np.log(model1.class_prior_)"
   ]
  },
  {
   "cell_type": "code",
   "execution_count": 348,
   "metadata": {},
   "outputs": [
    {
     "data": {
      "text/plain": [
       "array([-1.00894014, -0.71826147, -2.78810926, -5.354262  , -4.11421673,\n",
       "       -3.51019956, -3.34385884])"
      ]
     },
     "execution_count": 348,
     "metadata": {},
     "output_type": "execute_result"
    }
   ],
   "source": [
    "model2.class_log_prior_"
   ]
  },
  {
   "cell_type": "code",
   "execution_count": 340,
   "metadata": {},
   "outputs": [],
   "source": [
    "from sklearn.naive_bayes import GaussianNB, BernoulliNB\n",
    "\n",
    "model1 = GaussianNB().fit(X1, y)\n",
    "model2 = BernoulliNB().fit(X2, y)\n",
    "\n",
    "prob1 = model1.predict_proba(X1)\n",
    "prob2 = model2.predict_proba(X2)\n",
    "\n",
    "likeli1 = prob1 / model1.class_prior_\n",
    "likeli2 = prob2 / model1.class_prior_\n",
    "prob = likeli1 * likeli2 * model1.class_prior_\n",
    "y_pred = np.argmax(prob, axis=1) + 1"
   ]
  },
  {
   "cell_type": "code",
   "execution_count": 341,
   "metadata": {},
   "outputs": [
    {
     "data": {
      "text/plain": [
       "array([[140348,  53648,    157,      0,   2071,    881,  14735],\n",
       "       [ 65031, 188638,   5849,     19,  12541,   7752,   3471],\n",
       "       [     0,   2307,  23675,   3094,   1319,   5359,      0],\n",
       "       [     0,      0,    551,   1941,      0,    255,      0],\n",
       "       [   245,   5134,    275,      0,   3513,    326,      0],\n",
       "       [     0,   1910,   6230,    621,    464,   8142,      0],\n",
       "       [  6371,    183,      0,      0,     22,      0,  13934]])"
      ]
     },
     "execution_count": 341,
     "metadata": {},
     "output_type": "execute_result"
    }
   ],
   "source": [
    "confusion_matrix(y, y_pred)"
   ]
  },
  {
   "cell_type": "code",
   "execution_count": 342,
   "metadata": {},
   "outputs": [
    {
     "name": "stdout",
     "output_type": "stream",
     "text": [
      "              precision    recall  f1-score   support\n",
      "\n",
      "           1       0.66      0.66      0.66    211840\n",
      "           2       0.75      0.67      0.71    283301\n",
      "           3       0.64      0.66      0.65     35754\n",
      "           4       0.34      0.71      0.46      2747\n",
      "           5       0.18      0.37      0.24      9493\n",
      "           6       0.36      0.47      0.41     17367\n",
      "           7       0.43      0.68      0.53     20510\n",
      "\n",
      "    accuracy                           0.65    581012\n",
      "   macro avg       0.48      0.60      0.52    581012\n",
      "weighted avg       0.68      0.65      0.66    581012\n",
      "\n"
     ]
    }
   ],
   "source": [
    "print(classification_report(y, y_pred))"
   ]
  },
  {
   "cell_type": "code",
   "execution_count": 343,
   "metadata": {},
   "outputs": [
    {
     "name": "stdout",
     "output_type": "stream",
     "text": [
      "              precision    recall  f1-score   support\n",
      "\n",
      "           1       0.65      0.48      0.55    211840\n",
      "           2       0.65      0.76      0.70    283301\n",
      "           3       0.60      0.87      0.71     35754\n",
      "           4       0.55      0.43      0.48      2747\n",
      "           5       0.22      0.06      0.10      9493\n",
      "           6       0.24      0.23      0.23     17367\n",
      "           7       0.63      0.61      0.62     20510\n",
      "\n",
      "    accuracy                           0.63    581012\n",
      "   macro avg       0.51      0.49      0.49    581012\n",
      "weighted avg       0.63      0.63      0.62    581012\n",
      "\n"
     ]
    }
   ],
   "source": [
    "model = BernoulliNB().fit(X, y)\n",
    "y_pred = model.predict(X)\n",
    "print(classification_report(y, y_pred))"
   ]
  },
  {
   "cell_type": "code",
   "execution_count": null,
   "metadata": {},
   "outputs": [],
   "source": []
  },
  {
   "cell_type": "code",
   "execution_count": null,
   "metadata": {},
   "outputs": [],
   "source": []
  },
  {
   "cell_type": "code",
   "execution_count": null,
   "metadata": {},
   "outputs": [],
   "source": []
  },
  {
   "cell_type": "code",
   "execution_count": null,
   "metadata": {},
   "outputs": [],
   "source": []
  },
  {
   "cell_type": "markdown",
   "metadata": {},
   "source": [
    "# 감성 분석"
   ]
  },
  {
   "cell_type": "markdown",
   "metadata": {},
   "source": [
    "앞에서 공부한 나이브 베이즈 분류 모형을 이용하여 문서에 대한 감성 분석(sentiment analysis)를 해보자. 감성 분석이란 문서에 대해 좋다(positive) 혹은 나쁘다(negative)는 평가를 내리는 것을 말한다.\n",
    "\n",
    "샘플 데이터로는 github에 올려져 있는 네이버 영화 감상평에 대한 감성 분석 예제를 이용한다.\n",
    "\n",
    "* https://github.com/e9t/nsmc"
   ]
  },
  {
   "cell_type": "markdown",
   "metadata": {},
   "source": [
    "## 데이터 전처리"
   ]
  },
  {
   "cell_type": "markdown",
   "metadata": {},
   "source": [
    "우선 데이터를 다운로드 받아서 읽어보자."
   ]
  },
  {
   "cell_type": "code",
   "execution_count": 15,
   "metadata": {},
   "outputs": [
    {
     "name": "stdout",
     "output_type": "stream",
     "text": [
      "--2021-08-30 14:48:53--  https://raw.githubusercontent.com/e9t/nsmc/master/ratings_train.txt\n",
      "Resolving raw.githubusercontent.com (raw.githubusercontent.com)... 185.199.111.133, 185.199.110.133, 185.199.109.133, ...\n",
      "Connecting to raw.githubusercontent.com (raw.githubusercontent.com)|185.199.111.133|:443... connected.\n",
      "HTTP request sent, awaiting response... 200 OK\n",
      "Length: 14628807 (14M) [text/plain]\n",
      "Saving to: ‘ratings_train.txt’\n",
      "\n",
      "ratings_train.txt   100%[===================>]  13.95M  15.8MB/s    in 0.9s    \n",
      "\n",
      "2021-08-30 14:48:56 (15.8 MB/s) - ‘ratings_train.txt’ saved [14628807/14628807]\n",
      "\n",
      "--2021-08-30 14:48:57--  https://raw.githubusercontent.com/e9t/nsmc/master/ratings_test.txt\n",
      "Resolving raw.githubusercontent.com (raw.githubusercontent.com)... 185.199.111.133, 185.199.110.133, 185.199.109.133, ...\n",
      "Connecting to raw.githubusercontent.com (raw.githubusercontent.com)|185.199.111.133|:443... connected.\n",
      "HTTP request sent, awaiting response... 200 OK\n",
      "Length: 4893335 (4.7M) [text/plain]\n",
      "Saving to: ‘ratings_test.txt’\n",
      "\n",
      "ratings_test.txt    100%[===================>]   4.67M  14.0MB/s    in 0.3s    \n",
      "\n",
      "2021-08-30 14:48:58 (14.0 MB/s) - ‘ratings_test.txt’ saved [4893335/4893335]\n",
      "\n",
      "CPU times: user 116 ms, sys: 75.3 ms, total: 191 ms\n",
      "Wall time: 5.83 s\n"
     ]
    }
   ],
   "source": [
    "%%time\n",
    "!rm -f ratings_train.txt ratings_test.txt\n",
    "!wget -nc https://raw.githubusercontent.com/e9t/nsmc/master/ratings_train.txt\n",
    "!wget -nc https://raw.githubusercontent.com/e9t/nsmc/master/ratings_test.txt"
   ]
  },
  {
   "cell_type": "markdown",
   "metadata": {},
   "source": [
    "여기에서는 유니코드로 인코딩하며 읽기 위해 codecs 패키지를 사용한다. 읽어들인 결과는 유니코드 문자열이 된다."
   ]
  },
  {
   "cell_type": "markdown",
   "metadata": {},
   "source": [
    "\"UTF-8 -> Byte열 -> Unicode\" 원래는 이 과정을 거쳐야 하는데, codecs는 이 과정을 한번에 해준다. <br>\n",
    "Codecs는 읽는순간에 디코딩해서 바꿔준다.<br>\n",
    "특히 데이터가 엄청 커서 메모리에 한번 올리고 바꾸고 하기 어려운 경우, 유용한다. <br>\n",
    "\n",
    "\n",
    "한줄씩 바꿔주면서 디코딩 해주기 때문에, **streaming encoder** 라고 부른다. "
   ]
  },
  {
   "cell_type": "code",
   "execution_count": 354,
   "metadata": {
    "scrolled": true
   },
   "outputs": [
    {
     "name": "stderr",
     "output_type": "stream",
     "text": [
      "IOPub data rate exceeded.\n",
      "The notebook server will temporarily stop sending output\n",
      "to the client in order to avoid crashing it.\n",
      "To change this limit, set the config variable\n",
      "`--NotebookApp.iopub_data_rate_limit`.\n",
      "\n",
      "Current values:\n",
      "NotebookApp.iopub_data_rate_limit=1000000.0 (bytes/sec)\n",
      "NotebookApp.rate_limit_window=3.0 (secs)\n",
      "\n"
     ]
    }
   ],
   "source": [
    "# utf-8로 인코딩 되있기 때문에, 그냥 읽으면 파이썬3에서 bites열로 읽는다. \n",
    "\n",
    "import codecs\n",
    "with codecs.open(\"ratings_train.txt\", encoding='utf-8') as f:\n",
    "    data = [line.split('\\t') for line in f.read().splitlines()]\n",
    "    data = data[1:]   # header 제외"
   ]
  },
  {
   "cell_type": "code",
   "execution_count": 356,
   "metadata": {
    "collapsed": true
   },
   "outputs": [
    {
     "data": {
      "text/plain": [
       "[['9976970', '아 더빙.. 진짜 짜증나네요 목소리', '0'],\n",
       " ['3819312', '흠...포스터보고 초딩영화줄....오버연기조차 가볍지 않구나', '1'],\n",
       " ['10265843', '너무재밓었다그래서보는것을추천한다', '0'],\n",
       " ['9045019', '교도소 이야기구먼 ..솔직히 재미는 없다..평점 조정', '0'],\n",
       " ['6483659',\n",
       "  '사이몬페그의 익살스런 연기가 돋보였던 영화!스파이더맨에서 늙어보이기만 했던 커스틴 던스트가 너무나도 이뻐보였다',\n",
       "  '1'],\n",
       " ['5403919', '막 걸음마 뗀 3세부터 초등학교 1학년생인 8살용영화.ㅋㅋㅋ...별반개도 아까움.', '0'],\n",
       " ['7797314', '원작의 긴장감을 제대로 살려내지못했다.', '0'],\n",
       " ['9443947',\n",
       "  '별 반개도 아깝다 욕나온다 이응경 길용우 연기생활이몇년인지..정말 발로해도 그것보단 낫겟다 납치.감금만반복반복..이드라마는 가족도없다 연기못하는사람만모엿네',\n",
       "  '0'],\n",
       " ['7156791', '액션이 없는데도 재미 있는 몇안되는 영화', '1'],\n",
       " ['5912145', '왜케 평점이 낮은건데? 꽤 볼만한데.. 헐리우드식 화려함에만 너무 길들여져 있나?', '1'],\n",
       " ['9008700', '걍인피니트가짱이다.진짜짱이다♥', '1'],\n",
       " ['10217543', '볼때마다 눈물나서 죽겠다90년대의 향수자극!!허진호는 감성절제멜로의 달인이다~', '1'],\n",
       " ['5957425', '울면서 손들고 횡단보도 건널때 뛰쳐나올뻔 이범수 연기 드럽게못해', '0'],\n",
       " ['8628627', '담백하고 깔끔해서 좋다. 신문기사로만 보다 보면 자꾸 잊어버린다. 그들도 사람이었다는 것을.', '1'],\n",
       " ['9864035', '취향은 존중한다지만 진짜 내생에 극장에서 본 영화중 가장 노잼 노감동임 스토리도 어거지고 감동도 어거지', '0'],\n",
       " ['6852435', 'ㄱ냥 매번 긴장되고 재밋음ㅠㅠ', '1'],\n",
       " ['9143163',\n",
       "  '참 사람들 웃긴게 바스코가 이기면 락스코라고 까고바비가 이기면 아이돌이라고 깐다.그냥 까고싶어서 안달난것처럼 보인다',\n",
       "  '1'],\n",
       " ['4891476', '굿바이 레닌 표절인것은 이해하는데 왜 뒤로 갈수록 재미없어지냐', '0'],\n",
       " ['7465483', '이건 정말 깨알 캐스팅과 질퍽하지않은 산뜻한 내용구성이 잘 버무러진 깨알일드!!♥', '1'],\n",
       " ['3989148', '약탈자를 위한 변명, 이라. 저놈들은 착한놈들 절대 아닌걸요.', '1'],\n",
       " ['4581211', '나름 심오한 뜻도 있는 듯. 그냥 학생이 선생과 놀아나는 영화는 절대 아님', '1'],\n",
       " ['2718894', '보면서 웃지 않는 건 불가능하다', '1'],\n",
       " ['9705777',\n",
       "  '재미없다 지루하고. 같은 음식 영화인데도 바베트의 만찬하고 넘 차이남....바베트의 만찬은 이야기도 있고 음식 보는재미도 있는데 ; 이건 볼게없다 음식도 별로 안나오고, 핀란드 풍경이라도 구경할랫는데 그것도 별로 안나옴 ㅡㅡ',\n",
       "  '0'],\n",
       " ['471131', '절대 평범한 영화가 아닌 수작이라는걸 말씀드립니다.', '1'],\n",
       " ['8480268', '주제는 좋은데 중반부터 지루하다', '0'],\n",
       " ['4254115', '다 짤랐을꺼야. 그래서 납득할 수 없었던거야.. 그럴꺼야.. 꼭 그랬던걸꺼야..', '0'],\n",
       " ['7295746', 'kl2g 고추를 털어버려야 할텐데', '1'],\n",
       " ['5457633', '카밀라벨 발연기', '0'],\n",
       " ['6091784', '재밋는뎅', '1'],\n",
       " ['8322926', '센스있는 연출력..탁월한 캐스팅..90년대의 향수.. 그래서 9점..', '1'],\n",
       " ['6331922', '엄포스의 위력을 다시 한번 깨닫게 해준 적.남 꽃검사님도 연기 정말 좋았어요! 완전 명품드라마!', '1'],\n",
       " ['9005897', '졸쓰레기 진부하고말도안됌ㅋㅋ 아..시간아까워', '0'],\n",
       " ['164908', '재밌는데 별점이 왜이리 낮은고', '1'],\n",
       " ['9671124', '1%라도 기대했던 내가 죄인입니다 죄인입니다....', '0'],\n",
       " ['5712231', '아직도 이 드라마는 내인생의 최고!', '1'],\n",
       " ['4726746', '패션에 대한 열정! 안나 윈투어!', '1'],\n",
       " ['7203432', '키이라 나이틀리가 연기하고자 했던건 대체 정신장애일까 틱장애일까', '0'],\n",
       " ['112724', '허허...원작가 정신나간 유령이라... 재미있겠네요!', '1'],\n",
       " ['1105872', '포스터는 있어보이는데 관객은 114명이네', '0'],\n",
       " ['4805788', '이 영화가 왜 이렇게 저평가 받는지 모르겠다', '1'],\n",
       " ['9336496', '단순하면서 은은한 매력의 영화', '1'],\n",
       " ['9994900',\n",
       "  \"'다 알바생인가 내용도 없고 무서운거도 없고 웃긴거도 하나도 없음 완전 별싱거운 영화.ㅇ.ㅇ내ㅇ시간 넘 아까움 .. . 완전 낚임\",\n",
       "  '0'],\n",
       " ['6760577', '오게두어라! 서리한이 굶주렸다!', '1'],\n",
       " ['3440864', '정말 맘에 들어요. 그래서 또 보고싶은데 또 보는 방법이 없네? >.. ㅜㅡ', '1'],\n",
       " ['8548510',\n",
       "  '윤제문이라는 멋진 배우를 발견하게 됐어요. 소소한 일탈이 잔잔한 미소를 머금게 합니다. 음악은 조금 아쉽네요ㅠㅠ 8점 주고 싶은데 평점 올리고 싶어 10점 줄게요^^',\n",
       "  '1'],\n",
       " ['7719892', '평점에속지마시길시간낭비 돈낭비임', '0'],\n",
       " ['9440670',\n",
       "  '리얼리티가 뛰어나긴 한데 큰 공감은 안간다. 이민기캐릭터는 정신의학상 분노조절장애 초기 증상일거다. 툭하면 사람패고 욕하고 물건 파손하고.. 조금 오바였음. 극 초반엔 신선했는데 가면 갈수록 이민기 정신상태 공감불가.',\n",
       "  '0'],\n",
       " ['7991636', '마이너스는 왜없냐 ㅋ 뮤비 보고 영화수준 딱 알만하더군 ㅉㅉ 북한에서 이런거 만들라고 돈 대주던?', '0'],\n",
       " ['4679407', '난 우리영화를 사랑합니다....^^;', '0'],\n",
       " ['9837767',\n",
       "  '데너리스 타르 가르엔...나도 용의주인이 되고 싶다...누이랑,근친상간이나 하고 다닐지라도,소설 속에선 제일 멋진 놈이 자이메 라니스터였는데,드라마속에선,드래곤(용)이 제일 멋지네(웃음)감독님 토르-2 다크 월드는 말아 잡수셨을지라도,기본 선방은 했음',\n",
       "  '1'],\n",
       " ['9063648', '영화가 사람의 영혼을 어루만져 줄 수도 있군요 거친 세상사를 잠시 잊고 동화같은 영화에 행복했네요', '1'],\n",
       " ['8272095', '야 세르게이! 작은고추의 매운맛을 보여주마! 포퐁저그 콩진호가 간다', '0'],\n",
       " ['2345905', '이렇게 가슴시리게 본 드라마가 또 있을까? 감동 그 자체!', '1'],\n",
       " ['7865630', '난또 저 꼬마애가 무슨 원한이 깊길래.,. 했더니 OO 그냥 혼자 나대다 OO걸 어쩌라고.', '0'],\n",
       " ['7207064', '재미있어요', '1'],\n",
       " ['5719655', '전 좋아요', '1'],\n",
       " ['1651126', '최고', '0'],\n",
       " ['7246040',\n",
       "  '너무 충격적이엇다. 기분을 완전히 푹 꺼지게 하는 느낌... 활력이라고는 하나도 없는 너무나도 무거운....지독하고 차갑고 무자비하다. 그저 일본인들의 상상력은 정말 대단한거 같다는 생각이 든다.',\n",
       "  '1'],\n",
       " ['717775', '심심한영화.', '0'],\n",
       " ['8317483', '백봉기 언제나오나요?', '1'],\n",
       " ['1031725', '보는내내 그대로 들어맞는 예측 카리스마 없는 악역', '0'],\n",
       " ['3993146', '불알이 나와서 당황...아무튼 영화가 중간에 끝나는 느낌', '0'],\n",
       " ['2196616', '평범함속에 녹아든 평범한 일상. 조금 밋밋한게 흠.', '0'],\n",
       " ['8203798',\n",
       "  '보던거라 계속보고있는데 전개도 느리고 주인공인 은희는 한두컷 나오면서 소극적인모습에 짜증이 ㅜㅜ 맨날 언제끝나나 기대만하고있어요 전개좀 빨리빨리 ㅜㅜ',\n",
       "  '0'],\n",
       " ['2332588', '사랑하고싶게하는,가슴속온감정을헤집어놓는영화예요정말최고.', '1'],\n",
       " ['10084753',\n",
       "  '많은 사람들이 이 다큐를 보고 우리나라 슬픈 현대사의 한 단면에 대해 깊이 생각하고 사죄하고 바로 잡기 위해 노력했으면 합니다. 말로만 듣던 보도연맹, 그 민간인 학살이 이정도 일 줄이야. 이건 명백한 살인입니다. 살인자들은 다 어디있나요?',\n",
       "  '1'],\n",
       " ['8518645',\n",
       "  '예전 작품 캐릭터, 에피소드 재탕 삼탕 사골우려먹듯 우리고 내용은 산으로 가고 시청률은 아예안나오고 이제 70회중반인데 120부작이라니 ...',\n",
       "  '0'],\n",
       " ['7956793', '김남길의 백점짜리 연기력과 초반 몰입도에도 불구하고 지루하고 손예진 ㅈㅈ', '0'],\n",
       " ['3996917', '재밌네 비슷한 영화를 안보신 분들한테는 재미있을 듯', '1'],\n",
       " ['8128006', '노래실력으로뽑는게 맞냐? 박시환이 mama나가면 진짜 망신이다', '0'],\n",
       " ['2192046', '아 일본영화 다이런건가?? 유치하다', '0'],\n",
       " ['7250961',\n",
       "  '이틀만에 다 봤어요 재밌어요 근데 차 안에 물건 넣어 조작하려고 하면 차 안이 열려있다던지 집 안이 활짝 열려서 아무나 들어간다던가 문자를 조작하려고하면 비번이 안 걸려있고 ㅋㅋㅋ 그런 건 억지스러웠는데 그래도 내용 자체는 좋았어요',\n",
       "  '1'],\n",
       " ['5679106', '졸작', '0'],\n",
       " ['9179128', '재밋네요 달팽이가 빨라서 더 재밌었어요', '1'],\n",
       " ['9048450', '어설픈 전개 어이없는 결말', '0'],\n",
       " ['8387244', '부패한 로마노프 왕조를 기리는 뭣같은 영화... 온몸으로 항거했던 러시아 민중들이 그저 폭도냐', '0'],\n",
       " ['9803156', '내용전개는 무난한 편이였구 잘 보았습니다 ^^', '1'],\n",
       " ['2135015', '매우 실망.....', '0'],\n",
       " ['7884025', '한국영화 흥행코드: 갈등-갈등-계~에속 갈등-화해-감동- 평점 10점 남발- 흥행 뻔하지 뭐...', '0'],\n",
       " ['9801316', '아햏햏 아햏햏 아햏햏.', '1'],\n",
       " ['2009382', '뭐냐..시작하고 3분만에 나왔다. 리플릿 사진 보며 불안하더니만..', '0'],\n",
       " ['10112591', '단연 최고라고 할수있지', '1'],\n",
       " ['7280935', '감독이 럼먹고 영화를 만들었나보다.. 관객에게 뭘 말하는지도 모르겠고, 엉망진창 개진창이다.', '0'],\n",
       " ['5971506', '이건 뭐냐? 우뢰매냐? ;;;', '0'],\n",
       " ['9875922', '정말쓰레기영화입니다', '0'],\n",
       " ['9850710', '진정 위대한 영화 최고임', '1'],\n",
       " ['1927486', '별루 였다..', '0'],\n",
       " ['5023820', '내일이 기대되는 `', '1'],\n",
       " ['1859380', '근데 조미가 막문위 좋아한건가요??', '1'],\n",
       " ['1635552', 'ㅋㅋㅋ 진짜 골깜..ㅋㅋ 눈 부라릴때 쓰러짐..ㅋㅋ', '1'],\n",
       " ['7852366', '성룡영화중 최악인듯 ㅋㅋ', '0'],\n",
       " ['9480003', '골때리네ㅋㅋㅋㅋ 걸스데이 이혜리 잘 되라!', '1'],\n",
       " ['1797212', '서기가이뻐서', '1'],\n",
       " ['6374262', '완전 재밌어요ㅋㅋㅋㅋㅋ백인공주귀여움ㅋㅋㅋㅋㅋㅋ', '1'],\n",
       " ['1607129', '인상적인 영화였다', '1'],\n",
       " ['8763660', '어내스트와 셀레스틴 완전 강추에요~ 정말 재밌습니다^^', '1'],\n",
       " ['9361974', '재미있는영화입니다.', '1'],\n",
       " ['7928957', '클라라볼라고화신본거아닌데', '0'],\n",
       " ['10250221', '진짜 보면서 너무 슬펐던 영화다', '1'],\n",
       " ['6122458', '설정이 재밌고 새로운 에피소드 내에서 메인 스토리도 차차 나오는게 재밌음', '1'],\n",
       " ['10044377', '신카이 마코토의 작화와,미유와 하나카나가 연기를 잘해줘서 더대박이였다.', '1'],\n",
       " ['6158844', '재미없음 진심 1이훨나 캐스팅두못한듯', '0'],\n",
       " ['1723799', '잔잔한게 생각보다 볼만한 영화인거 같습니다 ㅋ', '1'],\n",
       " ['10273782', '감독님들 고은님 쓰면 영화안봅니다 .', '0'],\n",
       " ['1666795', '무섭지도 않았고 스토리도 ..ㅡㅡ', '0'],\n",
       " ['4866815', '영화속 억지스럽고 노골적인 술광고를 좀 은은하고 센스있게 했으면 어땠을까?', '0'],\n",
       " ['7747745', '킬링타임', '0'],\n",
       " ['8213218', '크리스마스하면 떠오르는영화', '1'],\n",
       " ['8659712', \"재미있게 봤습니다. 매력적인 행복이네요, '-' ㅎㅎㅎ.\", '1'],\n",
       " ['1204710', '음악에 완전히 빠져서 볼 수 있었던 영화. 쫌 산만하긴 하던데;;', '1'],\n",
       " ['3926204', '태어나서 처음으로 영화보다 중간에 나왔습니다,,,,불륜이 로맨스냐,,', '0'],\n",
       " ['2304429', '왕짜증.....아주 전개를 짬뽕으로 믹스했구나...음향만 무섭게하네..하아', '0'],\n",
       " ['9685228', '솔직히 난 별루더라 시간낭비느낌', '0'],\n",
       " ['7115568', '대박', '1'],\n",
       " ['6205383', '시청률 기준이 되는 패널가구들 머하는거지 명작드라마 다 망치네 ㅡㅡ 내가 다 서운하다...', '1'],\n",
       " ['85848', '내용이 이상해;', '0'],\n",
       " ['8741214', '몬스터 주식회사 3D 재밌게 봤다', '1'],\n",
       " ['7785809', '내용전개가 너무나 느리다........', '0'],\n",
       " ['9757434', '소재는 흥미를 끌지만 이야기 전개가 투박해서 몰입이 안되는군', '0'],\n",
       " ['9753792', '절대 보지마라 쓰레기 영화', '0'],\n",
       " ['7520154',\n",
       "  '중국인 특유의 과장, 허풍... 있어보이려고 안간힘 쓴 노력은 가상하나, 고증과 현실감 떨어지는 설정이 거북스럽다... 도대체 그들은 왜 이렇게까지 스스로를 과대포장하는 것인지...',\n",
       "  '0'],\n",
       " ['8902582',\n",
       "  '그냥 불법체류자 때려잡는 영화면 좋았을텐데...무슨 우상화를 만든다고 미국의 따뜻한 설정...이건 뭥미??',\n",
       "  '0'],\n",
       " ['9578691', '2년의 삶속에 주인공의 생애가 전부 드러난 듯 하다.', '1'],\n",
       " ['7469033', '별점10점가자', '1'],\n",
       " ['3914806', '별로다.', '0'],\n",
       " ['10212945', '본지 꽤 지난 후에 남기지만...재미있었음', '1'],\n",
       " ['9893434', '아니 이게 왜 9점대 일까...;;;', '0'],\n",
       " ['9615602', '10년이 지나 다시 보게된 영화 .. 다시봐도 그 순수한 사랑에 감동 ㅠㅠ 숀펜의 연기또한 甲', '1'],\n",
       " ['10138538',\n",
       "  '올레에 공짜로있길래 봤음 ㅋㅋ 헐 ... 스토리가 문제가아니라 연기자들이 전혀 배역이랑 어울리지않음 그리고 상대배우들하고 다 따로 노는거같음~~ 이건 연기자들도 문제있음 보아는 진심 완전 별로임 라미란하고 아들이 젤 볼만했음',\n",
       "  '0'],\n",
       " ['6139250', '너무 욕심이 많았던 영화. 어느 한 쪽만이라도 제대로 보여줬다면......', '0'],\n",
       " ['6738759', '아 빵점~', '0'],\n",
       " ['10108387', '베댓이 말을 아주 잘써놨네', '1'],\n",
       " ['5678216', '아주 모자라진 않다.', '0'],\n",
       " ['8470143', '영화 도둑들이나 뫼비우스 하고 같은 나라에서 만들어졌다는게 믿어지냐..?', '0'],\n",
       " ['6565615', '온몸이.. 찌릿..짜릿. 나두 용기를 가져야지!!', '1'],\n",
       " ['7838658', '정말재미있고 교훈적인 영화이네요!', '1'],\n",
       " ['3526263', '당시의 상황과 주제를 주입식이 아닌 긴장감있고 재밌게 전하는 작품', '1'],\n",
       " ['625839', '케이블에서 그만 나와줬으면 - -', '0'],\n",
       " ['6153764', '다르덴,이냐리투,차이밍량이 하나도 안섞인채 짬뽕 그릇에 담겨있다.', '0'],\n",
       " ['9179457', '여군 잼없음 뭐하는건지 ...ㅡㅡ잼없음 엠비씨 다잼없음 질린다이제', '0'],\n",
       " ['3685947', '좋구나', '1'],\n",
       " ['8747603', '한석규, 김혜수 연기만 돋보인 영화. 어딘지 모르게 많이 어설픈 영화.', '0'],\n",
       " ['9153275',\n",
       "  '솔직히 에볼라바이러스가 떠들석해서 보게된영화인데 작품성이나 어떤면에서도 20여년전 영화라고보기엔 믿기힘들정도로 정말 잘만들었다고본다 마지막후반부가 살짝 아쉽긴하지만 이정도면 수작이라고본다 시간이 아깝지않은영화',\n",
       "  '1'],\n",
       " ['2850477', '볼만해;', '0'],\n",
       " ['8513072', '재미있다고 허풍 떨지 마세요', '0'],\n",
       " ['8546726', '용가리 진짜짱짱맨이다ㅋ', '0'],\n",
       " ['8674440',\n",
       "  '이 영화를 이제서야 보다니.. 감히 내 인생 최고의 영화중 하나로 꼽을 수 있을만한 작품. 어떻게 살아야할지 나를 위한 고민을 한번 더 하게 되는 시간. 그리고 모건 프리먼은 나이가 들어도 여전히 섹시하다.',\n",
       "  '1'],\n",
       " ['6842532', '작가가별로다 내용이진짜별로임.. 맨날그냥기대하고 재방송하면 혹시나하고봐줘도 답없다진짜..', '0'],\n",
       " ['9106604', '명작도 이런 명작이 있을까 싶다. 보고 또 봐도 여운이 남는 영화.', '1'],\n",
       " ['10261336',\n",
       "  '아~ 진짜 조금만 더 손 좀 보면 왠만한 상업 영화 못지 않게 퀄리티 쩔게 만들어 질 수 있었는데 아쉽네요 그래도 충분히 재미있었습니다 개인적으로 조금만 더 잔인하게 더 자극적으로 노출씬도 화끈하게 했더라면 어땠을까 하는 국산영화라 많이 아낀 듯 보임',\n",
       "  '1'],\n",
       " ['8518274', '그만좀 끌고 이제 끝내라. 지겹다 지겨워.', '0'],\n",
       " ['7348295', '아', '0'],\n",
       " ['5882876', '역시 드니로의 연기는 일품 나도 맥스가 샘을 죽이길 바랬다', '1'],\n",
       " ['8472176', '나름 괜찮은 작품입니다', '1'],\n",
       " ['4446905', '너무 좋은 영화', '1'],\n",
       " ['6252170', '정말 실망 스러웟음..', '0'],\n",
       " ['8777723',\n",
       "  '배우들은 지네들 안뜨니까 이런영화 찍을껀데??? 왜 안뜨는지 진짜 모르는거야? 면상 딱 보면 알겠구만... 왜 지네 자신들은 모를까?',\n",
       "  '0'],\n",
       " ['8670820', '어린이가 좋아할듯...내어릴적 동심은 멀리 떠낫나보다.', '0'],\n",
       " ['3384269', '무술인이 왜 총을드나?', '0'],\n",
       " ['7781028', '10점', '1'],\n",
       " ['9890330', '크리스토퍼왈츠와 타란티노의 조합이란 ㅠㅠ', '1'],\n",
       " ['8660428', '한국에선유명한편은아니지만 외국에선 상상초월한 유명한 영화입니다.', '1'],\n",
       " ['10212029', '오랜만에 재밋는영화봤네요', '1'],\n",
       " ['8575963',\n",
       "  '종방되어 아쉬워요. 오늘막방도 잘봤어요.방송대본이 꽤 완성도있다는 느낌받았고요. 요즘 드라마들의 막장에 지쳐있었는데 수백향은 정말 바른드라마였던듯해요.악역들도 그리 심하게 어이없지도 않았고요..MBC화이팅!!',\n",
       "  '1'],\n",
       " ['7033414',\n",
       "  '평점조절위원회에서 나왔습니다(웃음)김혜선은 @내일이 오면@의 김순정,순정이 역할이 제일이다.팜므파탈로써,그 정도까지 잘해낼 줄은,정말 의외였어...연기20년 한사람에게 요즘 사극에서 벌어지고 있는,그녀에 대한 연기논란은 왠지 코미디의한장면 같음(웃음)',\n",
       "  '0'],\n",
       " ['10122280', '\"\"\"영화 끝나갈때쯤에 멍하다가 다보고나면 한마디 나올거임 \"\"\"\"ㅈ같다.\"\"\"\"\"\"\"', '1'],\n",
       " ['8062501', '공유 존잘!!!ㅎㅎㅎ', '1'],\n",
       " ['2937929', '상쾌발랄한 영화다. 말하기 껄끄런 성이란 소재를 유쾌하게 해설했다.', '1'],\n",
       " ['4777325', '소파에 죽 치고 앉아 지켜 볼 이유가 없는 작품.', '0'],\n",
       " ['7047706', '로큰롤!!!!!!!!!!!!!!', '1'],\n",
       " ['7263316',\n",
       "  '주된 타겟이 어린이니 일반적인 논리가 통하지 않는 건 알겠다. 하지만 게임은 흥미롭지 않고, 요원이라는 주인공이 너무 무능력해서 별로 재미없다. CG 배경도 거슬린다.',\n",
       "  '0'],\n",
       " ['9297500',\n",
       "  '뮤지컬 영화인데 사운드 녹음 엉망, 남주는 춤도 못추고, 내용은 뻔할뻔, 주인공들 목소리도 너무 안어울리고 어제 CGV에서 뛰어 나가려다 참았습니다.진심 말리고 싶습니다. 영국의 저예산 DVD용 영화뮤지컬영화 아닙니다. 맘마미아 1/10도 안됨',\n",
       "  '0'],\n",
       " ['3234156', '어린나이에 봤음에도 꽤나 좋아했던 로맨틱코미디', '1'],\n",
       " ['6245450', '게이물인줄 모르고 봤네...', '0'],\n",
       " ['5249559', '알바는꺼저라', '0'],\n",
       " ['8570013',\n",
       "  '이 영화 머임????내가 왜 받아 봤을까? 그것이 알고싶다....이 영화는 배우들과 스텝들이 감독의 꼭두각시였음.',\n",
       "  '0'],\n",
       " ['8880577', '4대2라니....최악', '0'],\n",
       " ['6197121', '정말 아름다운 영화 입니다', '1'],\n",
       " ['9169160', '자극적인 것에 익숙해진 현대인이 봐도 눈을 떼기 힘든 연출력.', '1'],\n",
       " ['10066840', '뻑~뻑~잘 읽어볼걸 나도 당했음', '1'],\n",
       " ['8681070',\n",
       "  '정말 짜증의 극치를 보여주는영화. 굉장히 언밸러스한 느낌. 뚱뚱하고 못생긴 남자애의 발연기를 시종일관 봐야하는게 고역인듯. 간간히 흘러나오는 잔잔한 클래식풍의 음악조차도 듣기싫어 짜증날정도로 상당히 싫은영화.',\n",
       "  '0'],\n",
       " ['6077668', '감동감동ㅜㅜ, 정말 최고네요!!!!', '1'],\n",
       " ['6555618',\n",
       "  '별점 주기도 아깝네요 얼마나 내용이 진부한지 욕 밖에 안나오네요보고 재밌다고 하는 사람 초딩들인가요 죄송해요 너무 화가나서.아무 것도 볼게 없습니다 보지 마세요 그냥 티비판짜집기 한거 같네요',\n",
       "  '0'],\n",
       " ['4989285', '나 왠만해서 짜증안내는데...-_-', '0'],\n",
       " ['1711932', '돼지피먹고 닭목따는 장면에선 우웩~ 역시 무당은 아무나 하는게 아니다.', '0'],\n",
       " ['1870395', '버려', '0'],\n",
       " ['9829888', '유치하고 지루하고 잠이 왔다', '0'],\n",
       " ['8333987', '3류풍 판타지 3점만 가져가', '0'],\n",
       " ['8126489',\n",
       "  '윤종신 복귀는 좋았지만 이하늘은 도대체 왜 뽑혔는지 알수가없다. 참가자 실력을 따지기 전에 심사위원 인격과 실력부터 쌓고 오시길^^ 어하어허 그만좀 하고요',\n",
       "  '0'],\n",
       " ['81637', '광장한 작품 옛날것도 보고 싶다', '1'],\n",
       " ['23929', '내 생의 최고의 영화', '1'],\n",
       " ['6663588', '어린시절 너무 무섭고 재미있게 봤던 추억의 판타지영화.절대 나쁜짓은 금물.지옥가요..', '1'],\n",
       " ['5503928', '기존 멜로영화 형식을 탈피하려고 하였으나 감정의 절제가 지나쳐 너무 담백한 영화', '0'],\n",
       " ['6344106', '난 사랑비 서준에게 쏙 빠져버렸네. 1.2.3초만에 쏙ㅋㅋ난 절대잊지도않고후회도안할거야', '1'],\n",
       " ['10149152', '이영화를보니까 교훈을 주네요! 나도 남은인생을 화려하게 살아야겟다.. 말밖에 안나오네요..', '1'],\n",
       " ['9295404', '나름 추억에 젖어들고 좋았음ㅋㅋ아무생각없이 가볍게 보고오기 추천요~', '1'],\n",
       " ['9603725', '단순한 싸이코물을 벗어난', '1'],\n",
       " ['9163009', '이게 14년도에 만들어진건가요? 아니면 예전에 만든거 다시개봉한건가요?ㅠ너무 허접해요 ㅠ', '0'],\n",
       " ['9418231', '넘 사랑스러운 영화다 ㅠㅠ 1보고 2 연이어 봤다~!! 넘 귀여워 ㅠㅠ♥♥', '1'],\n",
       " ['9687122',\n",
       "  '청춘 영화만이 줄 수 있는 감성이 넘쳐난다. 이 순간 지나가면 다시 돌아오지 않을테지만, 그 순간만큼은 무한할 젊음이 줄 수 있는 그런 감성.',\n",
       "  '1'],\n",
       " ['4038387', 'TV용 건담 시리즈 중에서 아직까지도 최고봉', '1'],\n",
       " ['8913715', '개콘은 요즘 갈수록 코너들이 다노잼이고 웃음이안난다', '0'],\n",
       " ['7927383', '사다코의 한이 서린 우물펀치ㅜㅜ 감동', '1'],\n",
       " ['8508764',\n",
       "  '후세와 사랑하게된 결정적 계기 그시간이 표현되지 않았으며 시람의 생명을 빼앗아야만하는이유등을 시노가 출현하는 연극으 로 더 알려주었으면 하는 생각이든다. 또한 시노가 얼마나 본능을절제히면서 시랑을 하려고 노력하는지를 더 보여줬다면 좋았을뻔했다',\n",
       "  '0'],\n",
       " ['3403149', '새벽시간에 하는 일본 영화들은 전부 개졸작이다.일본영화원래 다이래??', '0'],\n",
       " ['1119950', '강수연의 나가있어~!그리고 최정원의 신음신~', '0'],\n",
       " ['6976560', '아..정말 김혜성 너무 예쁘네요 이현진도 웃는 거 정말...하....', '1'],\n",
       " ['4817061', '가발 쓰고 싶다', '0'],\n",
       " ['1025241', '화려한여정이인상깊어요ㅋㅋ재밋어요ㅋㅋ배두나연기정말잘해요ㅋ', '1'],\n",
       " ['2922082', '10대들을 위한 성적 호기심 영화?', '0'],\n",
       " ['5444748', '감동적인 영화', '1'],\n",
       " ['9363921', '이건 말이 필요 없다 그냥 닥치고 봐라', '1'],\n",
       " ['2361255', '각기 다른 사람들의 재밌고 멋진 사랑영화', '1'],\n",
       " ['2385954', '역시 미국드라마의 파워. 정말 알수없는 그 미묘함까지 사로잡아버렸다 최고!!', '1'],\n",
       " ['5686473', '너무너무 훈훈하네요^^', '1'],\n",
       " ['7227535', '이거 응답하라에서 은지원원도 스스로 욕하지 않앗나? ㅋㅋㅋㅋ', '0'],\n",
       " ['1508152', '아 너무 웃기고 배꼽 빠질뻔했네^^ 내 컴에 이 영화 있는데^^', '1'],\n",
       " ['3943125', '구성이 상당히 부실한 영화. 역시 네이버 평점은 믿을수 없다.', '0'],\n",
       " ['1922525', '장끌로드의 몰락을 가져온 오우삼 헐리우드 작품중 가장 재미없었던 졸작', '0'],\n",
       " ['9039778', '언제적 영웅본색 연출인지 현실성 제로인 영화', '0'],\n",
       " ['7805059',\n",
       "  '작은거 하나에도 설레어했던 학창시절 그때 그느낌을 다시 느껴볼수있는시간이었다. 장면 하나 하나 대사 하나 하나 배경음악 하나 하나 버릴게 없는 드라마.',\n",
       "  '1'],\n",
       " ['9324383', '진심 재미 없는데 너무 평점 높아서 화남;', '0'],\n",
       " ['9150201', '더럽게 재미없다 어떤 형태로도 와 닿지 않는 허무하고 완벽히 지루한 영화고 영양가 하나도 없는 영화다', '0'],\n",
       " ['7473724', '이승기 정말 연기 잘하는.. 조연들도 연기 정말 잘하고', '1'],\n",
       " ['7573034', '현실은 꿈, 꿈은 현실', '1'],\n",
       " ['4550192', '오늘 현충일특집프로로 보게되었습니다 1963년도의 매우 훌륭한 작품입니다', '1'],\n",
       " ['1347002', '판의미로와 동급 trash of the trash', '0'],\n",
       " ['6590993', '제대하고 보니까 더 재밌네요 ㅋㅋㅋㅋ', '1'],\n",
       " ['6580205',\n",
       "  '영화를 보는것만으로도 마음의 휴가를 다녀온 느낌.소박하지고 잔잔하지만 지루하지않은..그래서 다시 보고싶은 영화.햇살가득한 비이의 부엌과 요리도 인상적',\n",
       "  '1'],\n",
       " ['9666256', '코믹한건 좋았는데 짜임새가 너무 허술하다', '0'],\n",
       " ['9967162',\n",
       "  '1996년 그때 당시에는 우리 나라에 이런 판타지 로맨스가 없었다... 아직도 신현준의 황장군 연기는 음... 괜찮네... ㅎㅎ....한석규의 전성시대가 열린 영화.... 이때 한석규한테 뿅 갔었다~~♥',\n",
       "  '1'],\n",
       " ['5304583', '일단 재생하면 괴물같은 서스펜스 귀신같은 흡입력', '1'],\n",
       " ['8309459',\n",
       "  \"하..진짜 댓글보고 한번쯤볼만한 영화인거같아서봤지만 기가찬다..이게무슨버킷리스트인가! 죽기직전에 소원들어주기? 내가보기엔 죽기직전에 막 살자 인거같다. 감동도없고.. 진짜 '버킷리스트' 란 영화에 발톱에 때만큼도 못따라가는쓰레기영화.. 완존실망..\",\n",
       "  '0'],\n",
       " ['8010423',\n",
       "  '이시간좀...밝고긍정적인드라마보고싶어서..보긴보는데....오버하는연기들이거슬리네요...연기인게너무표나요....홍혜정역이그나마도후련기도하고시원하고.....나머진다들답답하네요...낼월요일인데...해피한것만보고싶네요....',\n",
       "  '0'],\n",
       " ['7712668', '정치인의 모순인가, 정치범의 모순인가....', '0'],\n",
       " ['5923805', '어떻게 이런 상상을 대단하다.', '1'],\n",
       " ['5613442', '좀 어렵기도 하고, 전쟁에 대한 묘사가... 잘 모르겠다.', '0'],\n",
       " ['4193028', '일본에서10주년 극장판만드는데 우리나라에선 10주년으로 재개봉하니이건 좀 ㅄ 아님?', '0'],\n",
       " ['9103654', '한대희가 개그콘서트본다고 내전화끊음개그콘서트 없애주세요 ㅡㅡ', '0'],\n",
       " ['9737474', '한물 간 동서양 두 배우의 싸움판.', '0'],\n",
       " ['8711262', '푸하하하 이거 기대 안했지만.. 역시나 구만..ㅋ', '0'],\n",
       " ['4437265', '세계최초의 반공 애니매이션이라는 역사적 가치가 있다.', '1'],\n",
       " ['36087', '감각적인..시각으로...바라보는..색다른...느낌의...사랑...문학적이', '1'],\n",
       " ['10114923', '엄마는 무고한 지 딸을 감옥살이 시켜시켜? 이해 안돼요', '0'],\n",
       " ['3988502', '이영화는.제발 책을보세여.감독이 미친겁니다.이따위로 만들어놓고.화가 날정도 ㅡㅡ', '0'],\n",
       " ['512688', '신나는 흑인음악과 아이스 큐브 뿐 남는게 없다', '0'],\n",
       " ['10010968', '드럽게 재미없네 시간이 돈이다? 내 시간은 어쩔건데', '0'],\n",
       " ['3265565', \"그저 한마디뿐 '알리시아'\", '1'],\n",
       " ['8890254', '진짜 생생하게 느낄 수 있었다', '1'],\n",
       " ['9119967', '재밌는데 평점이 이상하다 싶을 정도로 낮다.', '1'],\n",
       " ['7435669', '옥소리 프로필 사진에 1점남기고 갑니다 ㅋㅋㅋㅋㅋㅋㅋㅋㅋㅋㅋㅋㅋㅋ완전 대박이다 진짜 아우 짜증나!', '0'],\n",
       " ['7603466', '드라마 너무 재밓당', '1'],\n",
       " ['8055931', '아진짜너무좋아요ㅜㅜ짱짱!!!', '1'],\n",
       " ['2182684', '연기 굿', '1'],\n",
       " ['8154957', '이런 영화 다시는 안나오겠지..그때 시절을 잘나타내주었던거같아요 ㅎㅎ', '1'],\n",
       " ['3545895', '중간정도 부터 봤는데도 꽤나 대단하군요...', '1'],\n",
       " ['9414462', '콩은 까야 제맛 콩은 까야 제맛', '0'],\n",
       " ['6291727', '이적의 소설. 재미없다.', '0'],\n",
       " ['3427286', '액션영화가 아니다.범죄 느와르 영화다. 허나 범죄 느와르 영화로서도 실패작.......', '0'],\n",
       " ['1207277', '뭔가알수없는매력에빠져드는 영화', '1'],\n",
       " ['8670966',\n",
       "  '모녀를 토막살해한 살인자가 부성애라니.... 말이되나... 감동받은 사람들 본인들이 피해자가 되도 감동받았다고 할수있을까... 진심 묻고싶습니다...',\n",
       "  '0'],\n",
       " ['6871120', '재밌는데 평점이 왜 이렇게 구리지', '1'],\n",
       " ['5124760', '아 OOO기.. 이걸 본 내눈이 아깝다 ㅡㅡ 진짜 아놔 진짜 OOO기명작이네요', '0'],\n",
       " ['6931068', '필름값이 아깝다..재미 더럽게없다..2점부터 점수준것들 매미 OO', '0'],\n",
       " ['1618314', '또보고 싶은데 어디서 보죠???', '1'],\n",
       " ['4289323', '영화 재미있드만.. ㅎㅎ', '1'],\n",
       " ['8381652',\n",
       "  '남주인공 연기력 안습이네요... 혀짧은 소리 듣기도 너무 힘들었네요 매니저역활분이 남주인공하는게 훨 좋았겠다는 생각이 들정도... 영화 자체는 적당히 볼 만 합니다 ^^',\n",
       "  '0'],\n",
       " ['8557261', '3점이 딱.... 액션,스릴러인데 액션과 스릴이 없다.', '0'],\n",
       " ['3187395', '완전 스토리도 엉망이구, 완전 비추..ㅜ', '0'],\n",
       " ['10274403', 'OOO영화 뭘전달하려는지모르겠네 오글거리고', '0'],\n",
       " ['2523528', '좋은영화', '1'],\n",
       " ['7041870', '......더빙이 이상해요.....할머니는 월래익숙한 ㄷㅔ.....', '0'],\n",
       " ['9268003', '이게 2편이 나왔어???', '0'],\n",
       " ['917164', '모든게 2%씩 다 부족했다...아니..50%씩...', '0'],\n",
       " ['1595727', \"정말 말 그대로 '쇼'하는 영화..\", '0'],\n",
       " ['10079284', '12년 전에 봐서 기억이 나질 않지만 진개가(천카이거) 감독 이름 세 자는 기억해 두었던.', '1'],\n",
       " ['9077483',\n",
       "  '정은지 언니!! 연기 잘하구..노래도 잘부르시고! 마지막회 웃으면서 즐겁게! 봤습니다! 트로트의 연인!♥',\n",
       "  '1'],\n",
       " ['1724444', '이게 웃겨?', '0'],\n",
       " ['7124022', '망함', '0'],\n",
       " ['6409443', '아이의 시선으로 보는 전쟁.., 보는 내내 가슴이 먹먹했다는...', '1'],\n",
       " ['10243387',\n",
       "  '사람들이 재미없다고 해서 레알 기대 안했는데 생각보다 볼만함. 근데 여자애랑 복순이랑 다투는 장면? 그건 굳이 없어도 됐다고 생각함 몰입도 겁나 없애고, 어색해보였음',\n",
       "  '0'],\n",
       " ['2577310', '설정이 연속극같은 느낌이 든다. 하지만 배우들의 연기가 뛰어나다.', '1'],\n",
       " ['4523923', '여주인공 인터뷰할때 지루해죽는줄알았음 ㅡㅡ 그냥저냥 킬링타임용 스릴러', '0'],\n",
       " ['7862272',\n",
       "  '전미 박스 오피스1위 ㅋㅋ 그냥 몰아주기 하는건가 어떻게 이런영화가 1위를 하지 옛날 80~90년대 우뢰매수준의 물폭탄싸움이네 ㅋㅋ 손에서 빔나가나 손에서 물폭탄 나가나 다를게 뭐지?',\n",
       "  '0'],\n",
       " ['573776', '감독이 여자다보니 기량이 많이 딸리네', '0'],\n",
       " ['9056760', '또 보고 또 울.었.다..', '1'],\n",
       " ['9643549', '이런 영화는 하나의 개연성만 없어도 허무하게 만들어 버린다. 조디포스터의 이쁜 모습만 남을 영화.', '0'],\n",
       " ['6081437', '굳굳', '1'],\n",
       " ['9907350',\n",
       "  '스토리도 말이 안되고 개막장 사랑이야기도 아니예요 이걸보고계신다면 당신의 시간과돈을 아낀거예요^.^휴 그래도 본다면 호구',\n",
       "  '0'],\n",
       " ['4445737', '네놈을 살려두기엔 쌀이 아까워! 세기의 명대사', '1'],\n",
       " ['6969112',\n",
       "  '평점이 너무 높다. 전혀 재미있지 않았다. 쓸데없이 말만 많음. 이런 류의 영화는 조연들의 뒷받침이 중요한데 조연들의 내용자체가 전혀 없음. 또한 여배우도 별로 매력 없었다. 이틀전에 저스트고위드잇의 애니스톤을 보고 이 영화를 봐서 그런가. 실망했음',\n",
       "  '0'],\n",
       " ['5149470', '맛깔 나는 드라마.', '1'],\n",
       " ['7696175', '시베리아인가 거기가서 훈련할때나오는 ost 개작살', '1'],\n",
       " ['9197636',\n",
       "  '이건 시종일관 질~~질왜? 제목이 야경꾼 일지냐고 지금 10회가 넘어가는데 즉 2달이 넘어가는데. 앞에서 누군가가 얘기 하더만 이거 100부작이냐고 그러다 또 한 순간에 모든걸 훅진짜 지루함의 지존',\n",
       "  '0'],\n",
       " ['7303814', '나이들수록 이해가 가는 영화', '1'],\n",
       " ['6256531', 'ㅠㅠ 슬픔', '1'],\n",
       " ['7860179',\n",
       "  '장면 개연성도 없고 아역은 연기도 못하고 무슨 추노에 나오는 민폐언년 외국판인줄....초반만 그럴싸한 저급영화',\n",
       "  '0'],\n",
       " ['4813296', '이 영화 정말 별루예요. 결말이 이상해요....', '0'],\n",
       " ['8153915', '딱히 재미는 없네요 킁;;', '0'],\n",
       " ['9698597', '송강호는 정말 연기를 하기위해 태어났고 그로인해 우리는 즐거움을 느낀다 역시 송강호는 연기파다.', '1'],\n",
       " ['9936129', '일본영화 수입 금지 시절에도 비디오 테이프로 돌려봤던 불후의 명작 아 그립다', '1'],\n",
       " ['7758340',\n",
       "  '살인을 소재로 한 영화가 이토록 재밌을 줄이야. 살인에 대한 감독의 해석이 정말 재치있다. 대 배우님들의 10여년전 모습도 새롭웠고. ㅋ. 정말 유쾌하고 재밌다.',\n",
       "  '1'],\n",
       " ['7983475', '누미 라파스 신봉선 닮아서 안 본다', '0'],\n",
       " ['6986888', '케이블에서 그만 좀 재탕해라.', '0'],\n",
       " ['220218', '멋졌다. 정말이지, 멋지다는 말 이외엔 할 말이 없다.', '1'],\n",
       " ['8730958', '98년에 어떻게 이런영화가 만들어졌는지 의문.. 당대 최고의 영화 지금봐도 퀄에서 결코 떨어지지 않아요', '1'],\n",
       " ['7717145', '지금 이거 티비로 돈내고 보고있는 내가한심하다', '0'],\n",
       " ['7713083', '쓰레기 연예인 재기의 장~~그러나...', '0'],\n",
       " ['5941602', '굿 좋아', '0'],\n",
       " ['472846', '많은 감동을 준 드라마이다.', '1'],\n",
       " ['9796817',\n",
       "  '발로만든영화. 지진나서 주인공 넘어지는데 뒤로 사람들 유유히 걸어다니고 있음. 발CG + 발연기 + 발시나리오.... 내용도 정말 뭐같음 ㅋㅋㅋ',\n",
       "  '0'],\n",
       " ['7049293', '적당히 해야지 언제 끝나는것인가?', '0'],\n",
       " ['214940', '잊을 수 없는 안개낀 워터루 다리와 마스코트.', '1'],\n",
       " ['8520381',\n",
       "  '곤사토시 감독... 2010년 안타깝게 돌아가셔서 가슴이 먹먹합니다.. 정말 천재적인 감독인데 암으로 가시다니.. ㅠㅠ 이제와서 다시봐도 모든 작품이 대작...',\n",
       "  '1'],\n",
       " ['9360766', '많은생각을 하게 됐습니다. 예뼈지고 싶은 맘은 있었지만 과하면 독이겠네요. ^^', '1'],\n",
       " ['8830133', '아 츠무구만 없어지면 별 5개줄게', '0'],\n",
       " ['10043297',\n",
       "  '어릴땐 조폭영화로 알다가 나이가들수록 이게 인생이구나 하고 뭉클해지는 영화.세상을 살아가면 갈수록 와닿는게 많아지네요...세상은 비정하지만 비정함마져도 따뜻해지는게 친구라고...',\n",
       "  '1'],\n",
       " ['3398464', '영상이 너무나도 멋지다.', '1'],\n",
       " ['1576800', '비디오가 있어서 봤는데 1997년도인줄모를정도로 잘만들었습니다 긴장감도있고', '1'],\n",
       " ['4913424', '처ㅝ주', '1'],\n",
       " ['9182989',\n",
       "  '2009년에 만들어진것치곤 재밌음 영화가 길어서 좀 다듬었으면 ..소재도 좋고 몰입감도 기대이상 매끄럽지 못한 부분도 있지만 연기는 둘 다 잘한듯',\n",
       "  '1'],\n",
       " ['8189929',\n",
       "  '철지난 조폭 코미디와 뼈대 있는 가문의 이야기를 섞었지만, 둘 다 지루하다. 박정아를 비롯해 배우들은 보기 민망한 연기를 펼치고, 기억에 남는 건 하나도 없다.',\n",
       "  '0'],\n",
       " ['8823884', '군더더기 없이 잘 진행되는데 재미도 없는게 문제', '0'],\n",
       " ['10052602', '심심해서봤는데 재밌네요 탑연기 못할줄알았는데배우포스나고 잘하군요', '1'],\n",
       " ['7728430', '고다미 괜찮음', '1'],\n",
       " ['1374993', '아 지대짜증 아빠랑 봣는데 민망해 죽는줄', '0'],\n",
       " ['6394494', '0점은 못주냐??', '0'],\n",
       " ['3743025', '빠순이 영화 ㅋㅋㅋㅋㅋㅋㅋ 훈훈하긔 재밋쎠', '1'],\n",
       " ['1699544', '최악의 애니메이션.. 지루하고 재미없고 스토리마저 진부하다', '0'],\n",
       " ['6352418', '좋은 의도와는 다르게 불쾌한 표현법', '0'],\n",
       " ['2211206', '줄리아로버츠 귀여운연인은 이거보다 5년전꺼다 ...', '0'],\n",
       " ['10212408', '신선하네..,,..,,..', '0'],\n",
       " ['9751638', '예술가로써의 한 사람의 인생과당시 시대적 상황을 질 느낄 수 있었던 명작', '1'],\n",
       " ['10225984', '관객수가 너무 아쉬운 영화...베테랑보다도 더 류승완감독의 역작이고 더 강한악역이다', '1'],\n",
       " ['5591006', '한창 핵펭귄이 남북 거짓평화로 전국민을 속이던때 만들어진 영화', '0'],\n",
       " ['9793236', '지금 티비에서 하는데.. 못 보겠다..', '0'],\n",
       " ['9502251', '여자애 한명이잘 못해서몇명이죽는거야ㅋㅋ답도없다ㅋ', '0'],\n",
       " ['8504382', '성룡의 헐리웃작 중 단연 최고지 ㅋㅋㅋ', '1'],\n",
       " ['2092294', '안습', '0'],\n",
       " ['4930770', '감독의 의도를 전혀 알아차리지 못했다.', '0'],\n",
       " ['5402666', '하나님이가정을온전히만든다. 진리이신분이만든영화. 눈으로만보지말고마음으로봐라.', '1'],\n",
       " ['8198021', '2편도 나름 흥미진진한데 핀헤드가 죽은게 좀 아쉬운 점이랄까?', '1'],\n",
       " ['9823215', '국산 코미디영화중에서 난 신라의달밤이 제일좋았음뭔가 푸근하고 따뜻함..', '1'],\n",
       " ['9569992', '최악이다 영화보다가 잠오긴첨임 지루해둑을뻔', '0'],\n",
       " ['7751180', '탄탄한 !~배우들 될고 ~머하는 건지~~~~~~~~~~~', '0'],\n",
       " ['9467674', '영화가 점점 끝을 달려갈수록 몰입도가 더 높아진 영화는 이번이 처음이네요.', '1'],\n",
       " ['9954533',\n",
       "  '결국 감독 자신이 하고 싶은 의견을 지존파 핑계삼아 하려고 한듯. 지존파 살인은 정당화하고 정부탓이 였다는.사회탓이라는.',\n",
       "  '0'],\n",
       " ['8555924',\n",
       "  '사실여부를 떠나,알고왔던 아더와 너무 매칭이 안돼더라.원탁기사중 실제 검술 최고수는 랜슬롯으로 알고 있는데,트리스탄보다 못하고,싸우는 검술은 마치 중국검술 흉내낸거 같은게;; 그리고 란슬롯이 실제는 쌍검였나?너무 매칭이 안대 하튼 ㅋ기네비어역도 미스.',\n",
       "  '0'],\n",
       " ['5277723', '대한민국 영화 수준의 평균치를 하락시키기에 충분한 C급 영상물', '0'],\n",
       " ['7917426', '0점은 없나??', '0'],\n",
       " ['5767948', '재밌는데', '1'],\n",
       " ['6237814', '재미없다... 기대 완전 했는데.... 완전 못함!!! 실망....', '0'],\n",
       " ['2334468', '종착역 없는 인생의 대유. 트레비스는 단지 흘러간다.', '1'],\n",
       " ['9831680', '돈과 시간이 아까운 영화', '0'],\n",
       " ['9751497',\n",
       "  '네러티브는 하나도 없는 예쁜 음악 동영상. 취미로 영화만드는 것은 이걸로 끝나길 . 잘하는 음악에 올인하길.',\n",
       "  '0'],\n",
       " ['8117850', '배우들의 연기는 좋았는데.. 뭘 말 하려는 건지?', '0'],\n",
       " ['6277438', '학위위조성범죄자 문제자들만 모아서 영화찍음 왜그랬으까 제작비 아끼려구 패자부활전 하냐?', '0'],\n",
       " ['5878347', '솔직히', '0'],\n",
       " ['9465707', '완전재미있어요.애들도보기에알맞는듯', '1'],\n",
       " ['9405373', '잔인하기도 하고 무서웠어요ㅠ탑은 멋있더라구요~~', '0'],\n",
       " ['4758250', '무섭지도 않고 기분만 나쁘고 쩝', '0'],\n",
       " ['3644982', '군더더기 없는 깔끔한 그러나 강한 메세지 전달. 뜻밖의 참좋은 영화..!', '1'],\n",
       " ['9724344', '이 영화는 최고다. 그냥 최고야 그런 줄 알아', '1'],\n",
       " ['9040261', '그랜드 부다페스트 호텔과 시리즈 같네.. 캐스팅이 아까워~', '0'],\n",
       " ['6824144', '빨리감기해서 봤음...투자비는 많이 들었을 것 같은데...영화사 망했네~ㅎ', '0'],\n",
       " ['10184469',\n",
       "  '도대체 뭐가 재밌다는건지 모르겠네요 무슨 아이언맨 시리즈의 개그도 뛰어넘는다 하는데 어디서 웃어야할지도 모르겠고 내용도 뭔지 뜬금없는 히어로놀이는 또 뭔지.. 왜이렇게 평점이 높은지 모르겠습니다',\n",
       "  '0'],\n",
       " ['9589406',\n",
       "  '왜 극을 끌어가는 중심있는 캐릭터가 있어야 하는지 알게 된영화 살인마와 대적하는 그리고 사건을 해결하는 인물이 없고 그리고 왜 마지막에 다 탈출 해놓고 나서 잡히고 죽임을 당하는지 이해할수가 없다. 대체 조달환 정유미는 왜 나옴?',\n",
       "  '0'],\n",
       " ['4879638', '진 짜 리얼 개 쓰레기 영화 . 다 보고 나면 정말 찝찝해지는 영화 절대보지마', '0'],\n",
       " ['9915234',\n",
       "  '비록 로봇이지만 점차 인간의 감정을 가지고 자신에 대해 고민하면서 결국 인간이 되어 죽는 앤드류의 모습내가 봤던 영화 중에서도 최고의 감동을 선사한 영화',\n",
       "  '1'],\n",
       " ['3274253', '영구와땡칠이시리즈는 레전드영화다', '1'],\n",
       " ['8652917',\n",
       "  '초딩 때 친척형이 비디오로 빌려와서 봤던 기억이 난다...너무 재미 없었다 근데 나중에 우연히 다시보니 재밌더라 그 땐 왜 그렇게 재미가 없었을까?? 98년이면 내가 초등학교 2학년 때니까...사촌형이 당시 나름 최신 비디오를 빌려온거 같다',\n",
       "  '1'],\n",
       " ['1043813', '지루할만큼 고요하고 서글픈 시선속에 머문 깊은 성찰과 사색.', '1'],\n",
       " ['10221467', '영화 진짜 보고 .. 펑펑울었습니다 , 너무슬픈거같아요 .. ㅜㅜㅜ !', '1'],\n",
       " ['1656447', '누가 더 혀짧은가 내기하면 박빙일것같다', '0'],\n",
       " ['1911721', '애 둘 딸린 심은하의 그 눈부신 미모, 아름다운 영상, 메인 주제가', '1'],\n",
       " ['10080984',\n",
       "  '3기 나오겠죠 ? 아직 안풀린 이야기들이 많은데 극장판은 정말 시간가는줄도 모르고 봤네요 역시 싸패..',\n",
       "  '1'],\n",
       " ['9999070', '개노잼;; 뭔가 스토리도 부족하고 다이상함 진짜;', '0'],\n",
       " ['8063353', '답없네, 뭐하는건지..', '0'],\n",
       " ['7685723', '절망과 슬픔 속에서도 자신을 챙겨야만하는 삶의 잔인함을 거부한 비참함에 대하여', '1'],\n",
       " ['6641262', '페이스 허거 같음ㅋㅋㅋㅋㅋ', '0'],\n",
       " ['9219254', '시간이 흘러도 퇴색되지 않는 맛이 있는 영화', '1'],\n",
       " ['9673595', '진짜 어마어마한 여운을 주는 멜로 영화에요.ㅎ', '1'],\n",
       " ['9855049',\n",
       "  '소피마르소와의 말같지도 않은 불륜이 내용 다 망침. 물론 실제 역사에는 그런 똥같은 이야기는 전혀 없었음.(주인공 죽을때 공주는 10살이었음)한마디.만약 미국인과 맞서 싸우는 아메리칸 원주민의 자유 투쟁기였으면 절대 아카데미상 못 받았음.',\n",
       "  '0'],\n",
       " ['3877797', '훈훈하고 따뜻한 부정을 느낄수잇엇음', '1'],\n",
       " ['7679615', '잼', '1'],\n",
       " ['8888834', '전 정말 재미있게 봤습니다', '1'],\n",
       " ['9298858',\n",
       "  '어딘가에서 일어나고 일일것같은 느낌이 강하다.우베볼이 이런 영화를 만드는 이유는 누군가 실제로 따라 했으면 하고 바라는것 같은데 정장 월가 있는 애들이 보면 웃겠지...',\n",
       "  '1'],\n",
       " ['10232830', '림프비즈킷의 OST만 10점. 개봉 당시 극장에서 봤는데 영화내내 오우삼 쥑이고 싶었던ㅋㅋ', '0'],\n",
       " ['8057595', '견자단 대박!!엽문 시리즈는 계속된다.', '1'],\n",
       " ['6989907',\n",
       "  '정말 오월의 멜로는 정말로 보고보고 또봐도 계속 보고싶은 영화순위 1순위다하,,,늦은 밤이라 그런지 야릇한 느낌이 들었다',\n",
       "  '1'],\n",
       " ['3829341', '흥미롭게 봤어요. 여배우들 이쁘네요. 반했음', '1'],\n",
       " ['8313164', '스토리, 액션, 그래픽 머 하나 건질게 없는 망작. 그냥 게임으로나 즐기셔~', '0'],\n",
       " ['9964594', '그냥 레전드다 레전드!!!', '1'],\n",
       " ['10107265',\n",
       "  '평론가 명치를 겁나 때리고 싶다. 정말 이 영화 재미없을거라 생각했는데 재미도 있고 내 인생에 도움이 가장큰 영화입니다. 본인이 깨달고 싶으면 꼭 보세요. 인생을 바꿔줄겁니다.',\n",
       "  '1'],\n",
       " ['9753915', '키아누 리브스 최고의 액션 영화!!', '1'],\n",
       " ['7778515',\n",
       "  '소재가 아름다운 영화. 다소 아쉬운 부분들이 있는 이유는 이 영화는 영화스러운 극적 로맨스보단, 좀 더 사실적으로 한 남자의 마음과 시선을 말하고 싶었기 때문 아닐까.',\n",
       "  '1'],\n",
       " ['3562504', '영화평론가는 아니지만, 좋았다, 한번보고마는 영화가 아닌, 울림이있는영화', '1'],\n",
       " ['5523522', '역시 효느!!! 역시 재밌다ㅋㅋㅋ 재탕중...', '1'],\n",
       " ['7448331', '4대강', '1'],\n",
       " ['8939261', '간첩색휘들 애쓴다 밥은 먹고 다니냐?', '0'],\n",
       " ['7857671', '좀 검증된 애들좀 출현시켜라이탈리아 특집 장난하냐', '0'],\n",
       " ['142324', '아 정말짜증나네 절때보지말껄욕나옴', '0'],\n",
       " ['5427136', '슬프다 ㅠㅠ', '1'],\n",
       " ['2331482', '.최악의 환경속에서 이런 만화라도 만든사람들에게 경의를 보낸다.', '1'],\n",
       " ['4221289', 'What is this movie for?', '0'],\n",
       " ['8648758', '여운이 엄청~길게 남는영화.. 이이경을 사랑하게하는 영화!', '1'],\n",
       " ['4779812', '이딴게 한국 영화라니', '0'],\n",
       " ['8497657', '짜가인가 이게뭐여..뭔..', '0'],\n",
       " ['9456842', '굿 10자 이상 .가나다라', '1'],\n",
       " ['8665016',\n",
       "  '짱이다ㅎ 혼자자식키우며살아온엄마 그의아들 힘들게살아오면서 서로예민해지고날카로워질때도잇엇지만 결국 ..가족ㅎ 아빠라는 사람도 생각보다최악이아니고..여자는, 확실히 요구하면도와준다는 그말이 왠지짠하게와닿는다ㅎ 나혼자괜히끙끙거리지말자ㅡ이런단순한생각이든다',\n",
       "  '1'],\n",
       " ['8896748', 'CG도 별로고 전개도 별로고 연기도 별로고 한마디로 재미없다', '0'],\n",
       " ['3107684', '번지수 잃고 갈팡질팡', '0'],\n",
       " ['9509970', 'Yesterday when i was young', '1'],\n",
       " ['5549220', '너무 사랑스럽고 감동적인 영화:) 정말 좋앗어요', '1'],\n",
       " ['7538996', '최고의영화', '1'],\n",
       " ['9113253',\n",
       "  '13년전 영활 다시보니 공효진 코평수줄이고 콧대높였네...완전 못생겼어 ㅎㅎ호 권상우는 화산고때 왼쪽 팔자 심하더니 지금 사라지고 더 잘생겨졌고 장혁은 멋지게 늙었네. ㅋㅋㅋ다시보니 웃겨',\n",
       "  '1'],\n",
       " ['5025054', '말랑말랑 ...', '0'],\n",
       " ['7648726', '공부 열심히 합시다 공부 안하면 저런 OO인생 삽니다.', '1'],\n",
       " ['7084152', '그냥. 최고다.', '1'],\n",
       " ['8937659',\n",
       "  '전쟁이후의 아픔을 잘 그린영화마지막 장면이 압권유대인줄 알아 더럽게 여기나 도움이 필요하니동행했던 토마스에게 더러운유태인이라고 말한장면 그러나 유대인인척한 사실 유대인가족사진을 보면서 미묘한 감정들을 사슴인형을 밟아까며 대변한다므찐영화^^',\n",
       "  '1'],\n",
       " ['10147064', '오랜만에 동화다운 동화를 본 기분이다.', '1'],\n",
       " ['10001967', '감사합니다 정말로 감사합니다.', '1'],\n",
       " ['4655750', '걍 둘다 변태', '0'],\n",
       " ['6167275', '샤넬의 인생과 성공,이 아니라 샤넬과 그의 남자들', '0'],\n",
       " ['4877829', '영화가 내용이 없다', '0'],\n",
       " ['9601176', '십수년의 세월을 찰나의 순간처럼, 찰나의 순간을 영원한 기억으로 남기는 시간의 상대성 이론에 관하여.', '1'],\n",
       " ['8216491', '니노의 이중인격연기 두근거리네요♥', '1'],\n",
       " ['10242465', '보다가 울컥핫 영화...재미도 있고...먼가 감동적임', '1'],\n",
       " ['3231034', '열정만으로 돌진하고 싶게 만드는 영화.', '1'],\n",
       " ['9248386', '연기력에서 유혹하지 못한다', '0'],\n",
       " ['5483898', '난감하다. 재미도 없고, 세상을 깜짝 놀라게 하는 센세이션도 없다.', '0'],\n",
       " ['6302401', \"아무리 노력했어도 '차이나타운'을 대놓고 베낀 것은 용서가 안 됨.\", '0'],\n",
       " ['9200443', '신화 화이팅 에릭 화이팅>< 모두 힘내요 !', '1'],\n",
       " ['7654525', '엔딩이 넘 슬퍼요 :(', '1'],\n",
       " ['3960206', '영화관에 가서 보면 더 좋았을걸...어린시절로 돌아간 느낌이들어 만감이...', '1'],\n",
       " ['7561877', '정말 최고였어요 ㅠㅠ 이민정씨와 신하균씨 연기 너무 좋았어요!!', '1'],\n",
       " ['8781402', '몇 안되는 재밌게 본 영화', '1'],\n",
       " ['8825291',\n",
       "  '교양시간에 보고 좀 충격먹은 영화....마지막에 너무 슬펐다 빨갱이라 소리지르던 몬초가 갑자기 다른 단어를 말한건 선생님에대한 그리움 미안함 슬픔이었을까...몬초가 마지막에 좀 울먹인거 같기도 하고...',\n",
       "  '1'],\n",
       " ['1033103', '잘봤습니다', '1'],\n",
       " ['3379092', '안무서워!! 귀신이 애기라 그런건지,,, 그냥 깜놀하기만할뿐이야', '0'],\n",
       " ['5785985', '뭐하자는건쥐... 모든것이 다 어설프고...', '0'],\n",
       " ['5842441', '배우들의 따뜻한 연기도 일상의 힘겨움을 그리는 현실감도 다 좋았어요.', '1'],\n",
       " ['3249844', '남자배우들 정말 미스캐스팅. 연기력 안습... 조은숙, 김유미 연기땜에 참고 봤다', '0'],\n",
       " ['9853892',\n",
       "  '1차 세계대전 中 피고 진 청춘들. 무기와 기술력은 20t세기, 전쟁을 일으킨 정치인들과 전쟁을 지휘하는 고위 장교들의 생각은 19세기.',\n",
       "  '1'],\n",
       " ['5414569', '책과는 분명히 다른시선. 괜찮네요', '1'],\n",
       " ['5059623', '내가 이거 왜 봤지 싶은데 한예슬이랑 김태희 나와서 본 듯. 적월도 개 쌤 ㅋㅋ', '1'],\n",
       " ['9762198', '솔직히 6점때가 뭐냐 약간 더러운 장면만빼면 7.5정도다', '1'],\n",
       " ['9808764', '와 이연서님 신인답지 않은 연기력 잘 봤습니다 다음 작품에서 또 뵙길 바랍니다', '1'],\n",
       " ['10018872', '반전이 전부가 아닌영화..몇 번을 봐도 또 보고 싶은 영화', '1'],\n",
       " ['7871532', '피해자만 있고,피의자는 없는 ..', '1'],\n",
       " ['9488543', '개답답 먼주인공이 지혼자 복수도 못함?주변에서 해주길바라는 민폐녀?아직도 끌려다니고ㅡㅡ', '0'],\n",
       " ['7360385', '신선한 소재. 화끈한 액션. 스피디한 전개', '1'],\n",
       " ['10131631',\n",
       "  '이 영화의 3박자는 디테일이었다. (정말 시가전의 퀄리티는 완벽했고) 남자의 사랑에 대한 묘사... (작중에 한석규는 누군가를 사랑하는 마음은 정말 디테일이 대단했다.) 마지막 얘기의 완급조절이 완벽했다. 이 영화가 정말 멋졌다.',\n",
       "  '1'],\n",
       " ['9342020', '탕웨이찡 그녀 만으로도 10점주기에 충분하다!!', '1'],\n",
       " ['5351337', '감동적인 영화다', '1'],\n",
       " ['5686145', '당시 대박쳤던 영화..괜찮다!!', '1'],\n",
       " ['8392466',\n",
       "  '억지스러운 시나리오..지루한 전개.. 1편 보다 못한 구성등.. 2편은 안나오는게 나았다..망작..배우들이 영화보는 눈이 없어서 안타깝다.',\n",
       "  '0'],\n",
       " ['3398398', 'ㅋㅋㅋㅋㅋㅋㅋㅋ 반도 안되는 영화', '0'],\n",
       " ['2504572', '이 영화가 평점이 높은 이유를 모르겠어..ㅡ.ㅡ::', '0'],\n",
       " ['1747519', '평생 기억할만한 영화,정상적인 소재는 아니지만', '1'],\n",
       " ['9972054', '요즘 상황 보고 이 영화가 생각났다.', '1'],\n",
       " ['10226361', '많을 것을 생각하게 만드는 영화입니다.마지막에 사람들이 짐승으로 보이고 아수라가 사람같아 보였습니다.', '1'],\n",
       " ['6150881', '진짜 재미 없는 영화 공통점....스포츠영화,군대영화,자막 나오는 영화', '0'],\n",
       " ['3800651', '로버트 드니로의 광기의 복수 연기를 만끽할수 있는 수작 서스펜스 스릴러물', '1'],\n",
       " ['8705316', '감동감동감동의 도가니탕', '1'],\n",
       " ['8164006',\n",
       "  '세계 어디서나 정치 경제 문화 사회 전반에 걸쳐 변화가 절실한 상황이지만 변화를 가져올 방법이 없다는게 함정인 것 같다...',\n",
       "  '1'],\n",
       " ['501464', '귀여운벤지.. 똑똑한 벤지 예쁘고 귀여운 친구... 압삘럽 ㅎ', '1'],\n",
       " ['2163194', '당시 개봉날 보고 울면서 나왔다. 돈아까워서..ㅋㅋ', '0'],\n",
       " ['10242398', '정말 최고의 영화...', '1'],\n",
       " ['9733856',\n",
       "  '잔잔하게 숨막히는 영화 . 연출이 대단하다. 곳곳에 숨어있는 복선. 치밀하다 싶을정도로 섬세한 감정표현. 거기에 김영애의 연기까지',\n",
       "  '1'],\n",
       " ['10147571', 'once upon a dream', '1'],\n",
       " ['9990660', '시나리오 연출 연기 어느것 하나 갖추지 못한 시간이 넘 아까운 억지 싸구려 중국 신파 경극...', '0'],\n",
       " ['10055131', '거부하는 몸짓으로 저 하늘을 ~ ^^', '1'],\n",
       " ['7086350',\n",
       "  '그만빙빙돌리고 밝혀지게하면안되나요 ?보려다아직도질질끌어짜증나.안봄 여기서또사고터져 또질질끌면진짜짜증날듯 ?빨리빨리밝혀질건밝혀지면서반전이있든지 ?작가님 이드라마사랑하고잼있는데 넘끌어짜증나요',\n",
       "  '0'],\n",
       " ['9849333', '졸면서 봤다 왜이리 평정이 높은겨 내용도 별거 없고 아오 감수성 영화냐 이거', '0'],\n",
       " ['2626505', '기대하지 않았던 영화의 아름다움이 밀려온다. 꽤 괜찮다았던 영화.', '1'],\n",
       " ['6237908', '진짜 한번만더 이런영화 상영하면 용서하지 않는다지금 영화보면서 카톡하고잇음 아놔 진짜', '0'],\n",
       " ['9484080', '살아는 있지만 생동감을 잃은 박물관', '0'],\n",
       " ['9578706', '노땅들의 한심한 추억미화', '0'],\n",
       " ['4996289', '어릴적에 눈물흘리며 웃던기억에 간신히 찾아 다시 봤네요 ^^', '1'],\n",
       " ['1109987', '인종차별과 유괴라는 두주제의 불협화음', '0'],\n",
       " ['7551529', '고명환이 연기가 쩌냐? 아니면 돈이 없어 쓴거냐..후자라면 볼가치가 없는영화', '0'],\n",
       " ['5080819', '속편에서는주인공이전작처럼앨빈의밴드였으면좋았을것같다.캐릭터추가로더이상해진듯', '0'],\n",
       " ['156982', '혼자 보긴 너무 아깝다. 2004년 올해의 영화.', '1'],\n",
       " ['8082654', '마지막 결투씬 최고! ㅋㅋ 폭풍눈물에~ 팝핀현준 할아버지 ㅋㅋㅋ', '1'],\n",
       " ['9659875', 'ㄵ 5점대asfgsdlgkbjsjvb', '0'],\n",
       " ['9215986', '좋아 상술최고..아니 선거술 최고...', '1'],\n",
       " ['9076407', '쓰레기 함부로 버리지 맙시다.', '1'],\n",
       " ['9265375', '글쎄 나와는 안 맞는 성향의 영화 중 하나. OST는 들을 만함', '0'],\n",
       " ['3978509', '즐~~~~~', '0'],\n",
       " ['9293103',\n",
       "  '막장도 재미가있어야 보지..재미도 없고 짜증만 남남녀주인공이 어울리면 참고보겠는데 진짜 안어울리고웬만하면 다 재밌게 보는데 진짜 내가본것중 제일 최악이였음!!무튼 주인공들부터시작해서 성격 개 이상함!!조기종영이 답이다...',\n",
       "  '0'],\n",
       " ['7931340', '줄리델피는 나이가 들수록 멋지다!', '1'],\n",
       " ['3382430', '내가 본 일드 중 쵝오~!!!!!>0<', '1'],\n",
       " ['9880437', '역시 명작은 명작이다...', '1'],\n",
       " ['10153465', '글쎄요.... 뭐랄까... 영화 제목을 잘못 보고 착각한 내 잘못이랄까...', '0'],\n",
       " ['10049872', '그냥 기독교영화네요. 좀 더 깊이있는 내용을 기대했는데.. 실망입니다. 영화도 뭔가 엉성해요;;', '0'],\n",
       " ['9427493',\n",
       "  '그냥 책으로 읽는게 더 절절하게 다가온다. 영화는 내용을 너무 비약하고 삭제해서 행간을 잃어버렸다. 책에서 꽉 찼었던 느낌과 반대로 모든 것이 엉성하다.',\n",
       "  '0'],\n",
       " ['6629097', '너무나 감동적인 영화', '1'],\n",
       " ['9995177', '스킨헤드성님들이 이 영화를 싫어합니다.', '0'],\n",
       " ['9600841', '자동차 매니아인 나의 평점은 5점 이하~속았다...아오~', '0'],\n",
       " ['9244416', '나 이거 보고 인형 절대안삼', '1'],\n",
       " ['6159178', '정체성은 사치인가?', '0'],\n",
       " ['10059230', '나이먹은아저씨들이 일찐놀이하는영화 개역겹다. 알바풀었냐 현실감 개진짜 개제로', '0'],\n",
       " ['9988541', '남극은 왔는데 그만 길을 잃었다. 오르지 못할 곳은 오르는 것이 아니다.', '0'],\n",
       " ['7790870', '재밌음 귀엽고 신남', '1'],\n",
       " ['8130040', '포스터는 진심 개쩐다~ 엑소시스트를 능가하는 공포물 같지만 실상은 처키보다 못한영화', '0'],\n",
       " ['5398829', '시청률 44%는 개뿔;; 존11나 재미없어;; 이제보니 MBC가 사극너무못만드네;;', '0'],\n",
       " ['7141862', '요즘 재방보는데 넘 재밌는데...왜 시청률은 저조했을까 싶네요...둘다 귀요미', '1'],\n",
       " ['8605792',\n",
       "  '연출 연기 영상이 아름다운 영화입니다. 저예산영화인 관계로 스펙타클은 부족하지만 한국영화계에 새로운 바람, 희망, 다크호스가 될것임을 믿습니다. 많은 응원부탁드리고 벌써부터 일찍 관람해주신분들 진심으로 감사합니다. New hope',\n",
       "  '1'],\n",
       " ['8852339',\n",
       "  '평점이왜이렇게낮지?난 이거 또다운받고있다.3번째...정말잼있던데...끝에 견자단하고 대빵하고싸울땐 정말 가슴이뜨거워졌다.난정말로 잼있게봤다...최근댓글이니 내가 알바아닌줄은 알거다.',\n",
       "  '1'],\n",
       " ['5924043', '이게 어떻게 평점이 낮을수가 있지?', '1'],\n",
       " ['10095254', '블랙코미디 조롱 대상이 우린데 기분 드러워서 점수 주겠냐? 성기 노출 등으로 어그로나 끌고서는 ㅉㅉ', '0'],\n",
       " ['7545407', '촌동네 조폭삼류영화. 가끔씩 툭툭들이미는 유머도 영쌩뚱맞구 촌스럽기까지하다.', '0'],\n",
       " ['1028779', '10점 만들기', '1'],\n",
       " ['5947102', '스타뎀 형님의 얼굴에 먹칠을 한영화..', '0'],\n",
       " ['29672', '헐...남자몸매보면 기분 좋나?', '0'],\n",
       " ['8673629', '안봐도 별점 한개 주고싶은 10류 영화 같다... ㅋㅋ심형래 아저씨와 동급감독인듯 ㅋㅋㅋ', '0'],\n",
       " ['9922565', '정말 완벽했다.최고의 영화중에 꼽히는 영화.', '1'],\n",
       " ['9869002', '조잡하고 유치한 저예산 3류 B급 영화다.. 스토리에 깊이감도 없고 전체적으로 루즈하다.', '0'],\n",
       " ['8622080',\n",
       "  '진짜..뭐냐 민국이나 지아는 더빙 더이상시키면안되겠네 더빙이 얼마나중요한데 이런애들을시켜데뷔도안한애들을 연예인이해도 뭐라고하는판에',\n",
       "  '0'],\n",
       " ['8954713', '그냥 재미가 없어요....ㅠㅠ', '0'],\n",
       " ['1998203', '쇼를해라 쇼', '0'],\n",
       " ['4355661', '중심이 약하니 언저리 가지고 무리한 승부수를 띄운다', '0'],\n",
       " ['247380', '주연배우들의 이름만 기억에 남.', '0'],\n",
       " ['9149689', '그냥 안보는게 이득 ...', '0'],\n",
       " ['8931143', '키기키기키기키기키기', '0'],\n",
       " ['5364316', '박얘쁜 빠수니 죄다 OO 없어져버려', '0'],\n",
       " ['9915858', '진짜 짜증나는 영화..', '0'],\n",
       " ['9985367',\n",
       "  '불은 잘 보이지도 않고 사람 죽어나갈 때는 엄청난 웅장한 음악만 나오고 전혀 마음에 와 닿지 않는 설정들',\n",
       "  '0'],\n",
       " ['6438587', '망작', '0'],\n",
       " ['9678213', '상당히 재밌게 봤습니다', '1'],\n",
       " ['4602811', '내코끼리내놔가 더재밌음ㅋ', '1'],\n",
       " ['586485', '코믹은 코믹으로 봐라 패러디하고 카메오들보는 재미도 있다', '1'],\n",
       " ['10101756', '유치짬뽕이네!!. 딱 초등3학년 영화다. 초등학교 자녀 있는 가족분께 추천함!!', '0'],\n",
       " ['9425646', '후속 지금이라도 나와라 한국애니 좀 살려보자', '1'],\n",
       " ['4376802', 'EBS를 통해 봤는데.. 정말 재밌게 잘 봤어요. 요 근래 본 영화 중 최고인듯!', '1'],\n",
       " ['7806661', '기대않고 봤는데, 찰지게 만든 토종느와르네~! 흥미진진하다..', '1'],\n",
       " ['6238614', '성인영화를 가족영화로 만드려하는 멍청한 자막제작자가 마음에 안들어서 1점', '0'],\n",
       " ['720113', '일본인 특유의 어색한 연기 여주인공 연기 너무 못해', '0'],\n",
       " ['7674213',\n",
       "  '전반적으로 무거운 느낌의 영화네요.가비의향과맛처럼,씁쓸함이 느껴집니다.장윤현감독님께서,커피부분에관해 신경을 쓰시다보니,연출부분에있어서,좀 미흡하지않았나싶고, 배우들연기력은 괜찮았습니다.',\n",
       "  '1'],\n",
       " ['9719704', '전작보다 100 재밌다. 배우, 내용 모두 세련됨', '1'],\n",
       " ['8679307', '진지하고 무거운 소재를 경쾌하고 재미있게 만들었다', '1'],\n",
       " ['6148658', '유럽작품상 탈만한 유럽에 중요한 얘기..또한 픽션', '1'],\n",
       " ['4550608', '풍정정은 어케된거지ㅋㅋㅋ과도한 압축으로 개연성없지만...배우들이 호화로워서...', '1'],\n",
       " ['9353256',\n",
       "  '이영화 구성좋다는분들 ㅋㅋ아마 친구랑 같이영화보고 님들이 영화 좋다고 재밌다하면 같이본 친구들은 이해하지 못할겁니다 ㅋㅋ진짜 최악 최저 스토리 주인공 행동 개연성없음캐릭간의 이해관계 최악 ㅋㅋㅋCIA갘ㅋㅋ이렇게 허접하게 표현된 영화 간만이라능ㅋ',\n",
       "  '0'],\n",
       " ['6082274', '이젠 그만 보고 싶은, 막돼먹은 스토리텔링.', '0'],\n",
       " ['8935552', '말이 필요 없다.로맨스 싫어하는 내가 봤을때 기절할 것 같았어 ㅜㅜㅜㅜ', '1'],\n",
       " ['10257700', '제 취향적 이고 우울한 마음을 완전히 날려버리고 슬픈내용을 본뒤 마음을 정화시켜주네요.', '1'],\n",
       " ['9437693', '영상미가 역시 최고네요', '1'],\n",
       " ['6825866', '끙.....', '0'],\n",
       " ['9326219', '역시 한국영화는 보지말아야돼', '0'],\n",
       " ['455825', '괜찮은 영화...', '1'],\n",
       " ['208558', '요즘 재밌음!', '1'],\n",
       " ['10038451',\n",
       "  '소재는 참 좋아서 삼점준다. 제작된 영화는 공포도, 스릴러도 아닌 본분을 잊은 드라마아닌 드라마같은 느낌이다. 연기, 연출은 괜찮았다. 다만 시작부터 끝까지 지루할 뿐이다. 또 어떤 장면들은 살짝 유치했다.',\n",
       "  '0'],\n",
       " ['8411258', '남자인데 보는내내 울었다 딸 낳으면 잘해줘야지...', '1'],\n",
       " ['9566485', '안타까울뿐. 안타까울뿐.', '0'],\n",
       " ['6027897', '영웅은 사람들이 원하기 때문에 만들어지는 또다른 희생자다..', '1'],\n",
       " ['6361907', '그냥 평작. 욕까진안나오고..', '0'],\n",
       " ['10149061',\n",
       "  '극장가서 안본 내머리를 깨버리고싶네요. 제인생 최고의 영홥니다. 키이라작품 중에서도 최고일듯. 알럽키이라♡♡',\n",
       "  '1'],\n",
       " ['1135339', '중고생들의 마마추어 포르노', '0'],\n",
       " ['9134639', '비디오 물이냐 동시상영물이냐 ~ 넌 정체가 모냐', '0'],\n",
       " ['8759753', '이건 말로 설명할 수 없는 유치함이다. 진짜 필름이 아깝다', '0'],\n",
       " ['5658983', '이승연의 강렬함이 묻어나는 영화. 그러나 홍경인은 너무 불쌍하게 나옴', '1'],\n",
       " ['2955927', \"'드릴브라' 에서 뿜었다\", '0'],\n",
       " ['8821260',\n",
       "  '2% 부족한 영화가아닌 98%부족한 영화감동이 있다길래 참고 끝까지 다봤는데...;;진심으로 이렇게 재미없다고 느끼는건 처음;;',\n",
       "  '0'],\n",
       " ['8384832', '계몽영화의 한계를 고스란이 답습한다', '0'],\n",
       " ['3711748', '우와 정말 오랜만에 통쾌하게 웃었네요 ㅎㅎ 내일이 기대됩니다', '1'],\n",
       " ['8759142', '청춘에는 마침표가 없다.', '1'],\n",
       " ['7459571', '세얼간이 아줌마 나와서 한번 본건데 실망...신선한 반전을 주고싶었나 본데 개연성도 없구 뭐이런...', '0'],\n",
       " ['9618670', '좋은 소재에 만족할 연출.', '1'],\n",
       " ['522869', '심혜진이 나와서 겨우 저정도라니 실망이다', '0'],\n",
       " ['9505968',\n",
       "  '아들놈은 끝까지 아빠한테 미안한 감정 없어..ㅠ 소재가 신선했는데 영화 자체는 메시지도 모호하고 스토리가 짜임새 있지 않은 것 같다.',\n",
       "  '0'],\n",
       " ['8567896',\n",
       "  '창업을 꿈꾸는가! 좋은 아이템이 있어 사업을 하려하는가!! 그렇다면 기를 쓰고 이 영활 보기바란다!! 그 멀고 험한 여정에 스승이 될것이요 지침서가 될것이다... 혹은 단념에 도움이 될지도... 참 오랜만에 박장대소하며 본 독립영활세~~~ ★',\n",
       "  '1'],\n",
       " ['2828148', '슬픈액션영화치고는실망이크다부자간의배신과원망으로끝나는것이너무허무하다', '0'],\n",
       " ['9087701', 'EBS 명화에서 이거보고 움 진짜감동적', '1'],\n",
       " ['8775560',\n",
       "  '낰였다 티 프리미엄ㅡㅡ 인간적인 면이 쫌 맘에 들어서 2점줬다 근데 진짜 이선균 정재영 김상중 연기파배우들 불러노코 이딴 쓰레기 영화 찍냐ㅡㅡ 진짜 영화보는데 계쇠 지루하고 괴로웠다ㅡㅡ',\n",
       "  '0'],\n",
       " ['2956430', '너무나 따뜻하고 감동적인 영화', '1'],\n",
       " ['6984995', 'C급영화도 안되는...일점도 아깝다... 네이버는 마이너스 점수도 만들어 달라', '0'],\n",
       " ['5875641', '스토리의 부진은 액션의 재미까지 반감시킨다', '0'],\n",
       " ['9674250', '누구나 ㅡ낄수ㅣㅆ느덕을 영화화함...굿,,', '1'],\n",
       " ['9698428', '시종일관 오락가락 말하고자하는게 뭔지 모르겠다 감독자기만의 세계에 빠져 만든것같은 영화..', '0'],\n",
       " ['1956819', '왠지모를 색다른 감동을 주는영화이다....', '1'],\n",
       " ['9352399',\n",
       "  '전주영화제에서봤었는데넘늦게개봉한듯... 종교와업에대해한번더생각할수있게만든영화. 저예산으로만들었으나감독의노력이느껴져큰박수를보내고싶다. 화이팅!',\n",
       "  '1'],\n",
       " ['10270814', '보는내내 웃었습니다 재밌네요', '1'],\n",
       " ['7117896', '1', '0'],\n",
       " ['5787812', '사랑에 상처받으면 다시 치유될수 있을까? 하는 생각이 드는 영화!', '1'],\n",
       " ['1353144', '극장가서 본영화중 쓰디쓴아픔을 처음으로 느끼게해준 퍼스트', '0'],\n",
       " ['8422811', '최고! 더 무슨평가가 필요한가 ~~탑!', '1'],\n",
       " ['1268778', '자신의삶에대해 다시한번 생각하게하는영화...', '1'],\n",
       " ['9062386', '알바놈들 양심도 없냐...멀보고 십점주는거냐', '0'],\n",
       " ['9589263', '90년도로 돌아가게 해준다는 ㅡㅡ', '0'],\n",
       " ['9589188', '끼워 맞추기 개쩔던데, 반전 하나 보고 와 하는 인간들 이해 불가', '0'],\n",
       " ['8029041', '우웩. 개랑 무슨짓을 했길래. 후세가 태어나. 일본놈들 진짜 정신상태 이상하네.', '0'],\n",
       " ['6478189', '4', '0'],\n",
       " ['8181452', '이 영활 보고나면 흐뭇해진다.. 영화는 한국이 더 잘만든다는 걸 느끼게 되니까..', '0'],\n",
       " ['1633598', '지들이 뭔데 대우를 까냐?', '0'],\n",
       " ['10095078', '재밌고 짠하고 그게 매력입니다', '1'],\n",
       " ['7622143', '와 ㅠㅠ 내머릿속지우개 이후에 진짜 슬픈영화였어요 ㅠㅠ 마지막에 눈물폭발 ㅜㅜ 오늘이후에도 또보고싶네요', '1'],\n",
       " ['9102887', '월요커플 짱짱!! 덕분에 아주 재미있게 보고 있습니당!!', '1'],\n",
       " ['8206148',\n",
       "  '007 터키특집..액션은 스키추격이 기억에 남고. 소피의,소피에 의한,소피를 위한 시리즈..로저무어 시절보다 재미는 조금 떨어진다',\n",
       "  '1'],\n",
       " ['1509830', '수많은 최루성 멜로는 여기에서...', '1'],\n",
       " ['499334', '내평생 최고의 걸작. 현실 건너편 세계를 잠시 엿본듯한 느낌.', '1'],\n",
       " ['6662535', '내 인생 최고의 영화', '1'],\n",
       " ['4881827', '진짜 추천해요 ^^', '1'],\n",
       " ['9825558',\n",
       "  '포스터가 사기. 너무 현실적이어서 배우들은 심각한데 빵빵 터지는 화성남 금성녀. 아 슈발 지는 혼자 내리면서 본전생각에 담배 피는 남편.',\n",
       "  '1'],\n",
       " ['5043859', '머가마술이라는거야?나죽기전에외계인만나볼수나있을지?', '0'],\n",
       " ['5409088', '참 재밌는 영화 ㅎㅎ', '1'],\n",
       " ['8962807', '빨리좀 끝나라...으이그 처음엔재밌는줄알았는데이게뭐야!이리재미없다.', '0'],\n",
       " ['5943761', '극에 전혀 몰입안되는 장면 이어붙이기식 단순 진행,연출력이 형편없음.', '0'],\n",
       " ['5536004', '자막제작자가 써놨듯이 막장임.', '0'],\n",
       " ['6932147', '그리 무서운 수도승이 물에 쉽게 떠내려가네', '0'],\n",
       " ['6484469',\n",
       "  '이게왜 주온보다 평점이높은지 이해가안간다 이영화 맨처음 여배우가 물대포쏠때부터 웃겻다 포스터가 더무섭다 영화상영시간내내 포스터만보여줘도 충분히지린다',\n",
       "  '0'],\n",
       " ['10004793', '진짜 신기하다...라는 말밖에 안나와', '1'],\n",
       " ['9391681', '좋은 배우들을 데리고....;; 작품의 부족함.', '0'],\n",
       " ['8130315',\n",
       "  '아니 왜 5점대라니, 근래에 본 다크 히어로무비 중에서 최고였어요. 아주 그냥 고스트라이더에게 걸리면 스치면 사망인거에요.',\n",
       "  '1'],\n",
       " ['7392240', '묵직하게 시작해서 우습게 끝남', '0'],\n",
       " ['8772531', '내용 전개가엉성하고지루할정도로 재미가없슴', '0'],\n",
       " ['1367092', '돈뭉치로 싸대기;; 명장면이다ㅋㅋ', '0'],\n",
       " ['8495001', '2.2고고하자 ㅋㅋㅋ', '0'],\n",
       " ['1185788', '쓰레기영화', '0'],\n",
       " ['8824834',\n",
       "  '너무일찍슬픔을알게된제제가안쓰럽다..책으로읽고도눈물이났는데..영화도마찬가지다.어린나이의제제는슬픔을너무일찍알아버렸다',\n",
       "  '1'],\n",
       " ['14513', '정말 비디오마저 돈주고 보고 아깝다..최악...', '0'],\n",
       " ['4357478', '말그대로 뚝방에서 볼영화', '0'],\n",
       " ['6021189', '내 인생 최고의 영화. 10년이 다되가는데, 아직도 아련하고 애틋한 기억.', '1'],\n",
       " ['7287648', '감독ㅡㅡ다신영화찍지마라', '0'],\n",
       " ['10253977', '육감적인 섹시한 여인들의 존재 자체가 이 영화의 전부', '0'],\n",
       " ['9992205', '영화 첫 도입부 부터 카메라 각도라든지 화질이라든지 겁나 구림.. 영화 아닌줄 알았음', '0'],\n",
       " ['8026930',\n",
       "  '진정 좋은 영화란 볼때당시 잼있다... 도 있지만.. 두고두고 기억나고생각나고 또 한번쯤 보고싶은 이런영화가 아닐런지요 ㅋㅋ',\n",
       "  '1'],\n",
       " ['8043001', '박사아들 정시현 정말 멋져요', '1'],\n",
       " ['2168829', '1편이 너무좋아서 2편이 너무묻힌다', '0'],\n",
       " ['6377552', '할 말이 없다', '0'],\n",
       " ['129805', '난 별로던데 -_ -', '0'],\n",
       " ['5661543', '이런 영화가 참 좋다.', '1'],\n",
       " ['542441', '곳곳에 번뜩이는 아이디어. 아기자기한 구성이 돋보이는 수작.', '1'],\n",
       " ['4592004', '우아....새벽에보니까 무섭네 ㅠ_ㅠ 미스터리와에로스와 스릴러를 겸비한 영화!', '1'],\n",
       " ['7963429', '짧지만 정말 재밌게 잘봤어요~. 윤계상 능청연기 좋구 잘됬으면 하는 생각을 계속 했네요~ ㅋㅋ', '1'],\n",
       " ['7175213', '에린이 초반에 타던차 현대자동차 프레스토 네요. 보면서 추억이세록세록', '1'],\n",
       " ['9905070', '남들이 철학적인 영화라고도 하지만 단순 액션용으로 봐도 이 정도 점수는 나와야된다', '1'],\n",
       " ['9364602', '4.444.444.444.444.44', '0'],\n",
       " ['529768', '효과음이 기가막혔던 영화', '1'],\n",
       " ['9040274', '솔직히 평점 8점 이상은 되야되는거같다.', '1'],\n",
       " ['3208499', '난강혜정이 일본가서 찍은건가 했네ㅋㅋ닮은것같다는 생각이 들었을 뿐이고...', '0'],\n",
       " ['6731536', '일본영화 좋아한다면 꼭 봐야할 영화!', '1'],\n",
       " ['6615814',\n",
       "  '진짜 이건 아님ㅋㅋㅋㅋㅋ액션영화좋아해서 액션영화만 다운받아서 꾸준히 본게 벌써 몇년인 사람임 근데 이건 진짴ㅋㅋㅋㅋㅋㅋ아무리 점수 잘 줘도 100점 만점에 10점?ㅡㅡ돈주고봤는데너무아깝다진짜ㅜㅜ그리고대체 왜 13구역 타이틀을 달고나왔는지 모르겠음 실망',\n",
       "  '0'],\n",
       " ['5529456', '가슴이 먹먹하다, 뷰욕을 왜 이제서야 알게됐을까', '1'],\n",
       " ['7393226', '커스틴 때문에 좋겠다', '1'],\n",
       " ['10036253',\n",
       "  '보는내내 찝찝하고 영화가 끝나고 나서도 불쾌했다.. 중년의 남성이 이렇게까지 추잡해보일 수가 있을까..',\n",
       "  '0'],\n",
       " ['5812647', '진짜 퀵이유로 이렇게 어이없고 재미없는영화는 처음입니다 진짜 돈아까운적은 두번째라', '0'],\n",
       " ['9713238', '진짜재미없다..영화관에삼십분정도늦게들어갔는데사람이한명도없고..그이유를왠지알것같네..^^완전비추요', '0'],\n",
       " ['8717232', '2012년에 본영화인대 솜이랑 키작은남자 살아서 나감', '0'],\n",
       " ['8342710', 'ㅋㅋ 조금은 유치했지만 왕조현 주윤발 이것만으로도 충분히 볼만했다.', '1'],\n",
       " ['8920121', '난 솔직히 재미없었어. 코믹요소가 없어서', '0'],\n",
       " ['6148289', '싸구려 왜색 영화, 키작고 교활한 일본원숭이들의 망상, 사무라이 정신..토나온다...', '0'],\n",
       " ['9208964', '재미있게봄 감동적이고', '1'],\n",
       " ['10095017', '아니 찍어놓고 모니터링 한번 안하나 어떻게 염치 업이 이런걸 극장에 걸수가 있지?', '0'],\n",
       " ['10010400',\n",
       "  \"영화'산업'이라고 하잖는가? 이딴식으로 홍보 해놓고 속여서 팔았다는 게 소비자 입장에서는 짜증난다. 그나마 다행은 아주 싸구려를 상급품으로 속여판 게 아니라는 점. 그래서 1점. 차라리 연상호 감독 작품 처럼 홍보가 됐다면, 그 비슷하게 만이라도 하지\",\n",
       "  '0'],\n",
       " ['6486325', '완전 감동이다 ㅠㅠ 박신혜 짱이뻐요 ㅎㅎ', '1'],\n",
       " ['9028463', '절망속에서 결국 빠져나온 눈물겨운 실화', '1'],\n",
       " ['1253368', '국민학교 다닐때 이거 동생이랑 보다가.... 눈물이...ㅋ', '1'],\n",
       " ['297077', '욕망이라는 이름의 전차.', '1'],\n",
       " ['8599155', \"'디 워'랑 같은 부류.. 저예산 + 저렴한 CG + 마구잡이연출\", '0'],\n",
       " ['8740203', '무기여 잘있거라는 보는 내내 손에 땀을 쥐고본 첫번째 애니', '1'],\n",
       " ['8804100', '배우들 연기력이 아깝다. 별 한 개도 아깝다.', '0'],\n",
       " ['5950829', '딱 90년대코미디영화', '0'],\n",
       " ['3895103', '어릴때 진짜 재미있게 봤음ㅋㅋㅋㅋ', '1'],\n",
       " ['9146695',\n",
       "  '정말최고의영화고 마지막 아이들의 노래와 비행기가 정말 잊을수 없는 여운을 남긴다.이런 영화를 이제알게된것자체가 후회될정도로 잔잔하고 깊은 여운이 남는 영화.',\n",
       "  '1'],\n",
       " ['4993640', '보면서 어이없어서 헛웃음만 나던....', '0'],\n",
       " ['5794799', '악역인 금단비가 더 주목받았다는것은 주연여배우들의 미스캐스팅을 의미한다', '0'],\n",
       " ['1600635', 'General', '0'],\n",
       " ['1118508', '보고 나서도 내내 여운이 남는 영화..', '1'],\n",
       " ['3488301', '절대로 보지마라 보면 후회한다!!이걸영화라고 만든거냐!볼사람은 뇌를 놓고보아라!', '0'],\n",
       " ['7749595', '무슨 내용인지 도통 모르겠다... 쓸데없이 특별해 보이려는 시도에만 열중이었던 영화.', '0'],\n",
       " ['9804254',\n",
       "  '기쁨, 슬픔, 생명 그리고 죽음. 인간의 역사속에 거대한 하나님의 우주적 섭리가 느껴지는 영화. 특별히 어머니의 역을 맡은 여배우의 여성미와 자애로움이 인상적이다. 인생을 살면서 그런 존재가 된다면. 영상미 예술이다!',\n",
       "  '1'],\n",
       " ['9109132', '이게뭔가요내용도없고', '0'],\n",
       " ['10136005', '평점 어마어마하게 높네;;;; 빨리 낮춰야 할듯 5점이 적당한 영화.', '0'],\n",
       " ['9272388',\n",
       "  '이야기도보통재미있고. 10점정도는아니라고봐요.5점6점정도인데 고릴라제작한거도 잘했긴했고.하지만 감동은 보통..아쉬운결말',\n",
       "  '0'],\n",
       " ['9832161',\n",
       "  '솔직히 웬만한 공포영화는 다 섭렵할만큼 매니아인데. 주온은 정말 무서웠었다. 아직까지도 샤워하면서 머리감을때 공포를 느낀다. 누가 나를 쳐다보고 있는 느낌이라서... 이 느낌 나말고도 겪어본사람 있을거야. 그만큼 당시에 대단했던 영화다.',\n",
       "  '1'],\n",
       " ['6106079', '아름다운 영화였어요', '1'],\n",
       " ['6760555', '정말 광해와 비슷한가?', '1'],\n",
       " ['8658227', '조쉬 하트넷 특유의 여성들을 자극하는 나약한듯하면서도 남성적인 이미지를 작 부각한듯', '1'],\n",
       " ['3284962', '정말 속은느낌이다', '0'],\n",
       " ['9814376', '몸매,베드신 보기좋다고 한사람은 영화 안본사람', '0'],\n",
       " ['9093996',\n",
       "  \"잘봤어요 외모뿐만이 아니라 여러가지들을 따지며 사랑에 빠지는것이 아니라 '하려고' 하는 요즘 사람들에게 좋은 영화인거 같아요....\",\n",
       "  '1'],\n",
       " ['8891326', '최악의 쓰레기. 어설프려고 정말 노력했다', '0'],\n",
       " ['8016672', '콜린파렐. 123412341234', '1'],\n",
       " ['9884619', '난이게 제일 재밌었는데..', '1'],\n",
       " ['3095788', '난 좋았는데요..... 괜찮았어요', '1'],\n",
       " ['7008459', '영화보다 댓글이 더 재밌어', '0'],\n",
       " ['8365221', '에라이 미친 사이코 드라마야!!!', '0'],\n",
       " ['7326531', '모든 일본문화가 들어가 있다고 할 수 있을까? 최고의 사극!!', '1'],\n",
       " ['8415974', '엄청나게 기대를 하고 본게 아니라 괜찮았던듯?', '1'],\n",
       " ['8488748', '더빙이 똥이야 ....', '0'],\n",
       " ['5235134', '안타깝네. 이해를 못하는사람들 속출. 불교적이고 철학적인 작품.', '1'],\n",
       " ['7441317',\n",
       "  '진짜 이런 개 씨,1바ㄹ OOO 같은 영화 개 시간낭비 의미도없고 무섭지도않고 내가 왠만하면 공포영화는 즐겨보는데 이건 진짜 OOOO같다',\n",
       "  '0'],\n",
       " ['7403099', '색다르고 재밌는 영화였음. 실제로도 이런 일이 있다면 참 재밌을 것 같음. 막장 of 막장.', '1'],\n",
       " ['57586', '어캐봐여? 꼬옥~~~~~~~보고싶내여~~~~~~~~~~~~~~~~~~~~', '0'],\n",
       " ['5141238', '정말 식상하다못해 촌스럽기까지 ~~~~~~~~~~', '0'],\n",
       " ['5575615', '종교적 분위기 물씬 풍기는 최루성 가족영화', '0'],\n",
       " ['765033', '재밌다', '1'],\n",
       " ['286680', '그냥 살지 그랬어.. 이성재만 멋짐', '0'],\n",
       " ['9694445',\n",
       "  '음악영화라 나에겐 취향저격이지만... 비긴어게인처럼 대중적으로 흥행하긴 힘들 영화네요.. 하지만 여주가 너무 매력적이에요 ㅎㅎ',\n",
       "  '1'],\n",
       " ['5256752', '별 0개 선택 왜없어요? 솔직히 별 반개도 아깝다', '0'],\n",
       " ['5316818', '돈에 미친 남편과 .. 아기에 미친 돈 있는 남자 그속에서 갈등 하는 여자 18', '0'],\n",
       " ['4929205', '어린이의 시점에서만 볼만하겠지. 오로지 어린이의 시점.', '0'],\n",
       " ['7764248', '잠을 청할 수 있었다.', '0'],\n",
       " ['5610275', '좋아하는 사람의 뇌가 아니던가?.. 완전 난해함.. 결말 왕실망임', '0'],\n",
       " ['4975754', '전작에 비해서 왠지 허탈하다. 카이사르도 전작이 더 멋있는 듯 하고...', '0'],\n",
       " ['8098297', '김민종 최고! 더 잘되시요', '1'],\n",
       " ['4437772', '공격적인 재미, 유순한 여성성, 일기토, 지략 삼국지의 그것과 맞짱!', '1'],\n",
       " ['8750781', '-점수를 주고 싶다. 2003년에 이정도 밖에 못만들었다는게 충격...', '0'],\n",
       " ['5317808', '비디오테잎으로 좍좍 감아가며 봤던 영화. 가장 슬펐던 영화', '1'],\n",
       " ['7941197',\n",
       "  '도입부를 제외하고는 따분.헬기에서 민간인을 마구 쏴 죽이는 미군, 베트공 여성 스나이퍼 등,현실감 없는 극단적인 설정.라이언 일병에서의 업햄 그리고 이 영화 주인공인 조커, 두 넘 모두 내가 싫어하는 캐릭터, 착한척 하면서 주위에 피해를 주는 넘들.',\n",
       "  '0'],\n",
       " ['8392485',\n",
       "  '재밌는데...나만 그런가? 참고로 우리나라 까거나 하는건 하나도 안나옴 그냥 지들끼리 소설쓰고 지들끼리 자위하고 자위대도 등장하는데 그사람들도 자위나 하고 있음 일본 감정 다 떠나서 과학도로써 과학적으로 볼만한 영화였음 신선함',\n",
       "  '1'],\n",
       " ['9551603', '제 취향은 아니네요~~~~', '0'],\n",
       " ['1128434', '평점 조절...', '0'],\n",
       " ['8098523', '1점도 아까운 쓰레기영화 전작이 아까움', '0'],\n",
       " ['9969680',\n",
       "  '일편에 비해 삽질하는 브리짓이 쪼~끔 짜증날 때도 있었지만 그래도 여전히 사랑스럽다ㅎ 콜린 퍼스와 휴 그랜트를 한자리에 모아놓은 것 만으로도 10점줘야함!',\n",
       "  '1'],\n",
       " ['7467524',\n",
       "  '지금까지본 아이리스 시리즈중 최악이다ㅠㅠ 이거해도 너무하는거아닌가...수치스럽다. 연기고자시고 다 떠나 너무도허접합....',\n",
       "  '0'],\n",
       " ['9375027',\n",
       "  '연기력때문에 할말이 없다. 정우성과 고소영이 왜그토록 흥행작이 없는지 알고싶으면, 비트에서 연기하는거 봐라.',\n",
       "  '0'],\n",
       " ['10079804', '전라도 노예 업주 처벌 안받았나요?? 이슈가안됐네요 그러고보니..', '1'],\n",
       " ['4459001', '배우가 아깝다 ,,', '0'],\n",
       " ['1971330', '볼만 한데', '0'],\n",
       " ['8777093',\n",
       "  '결말의 의미공자가 자연에 숨어사는 노자에게 말했지. 짐승도 끼리끼리 사는데 사람이라고 따로 사냐고 진정 순수함은 더러운것사이에서도 그 빛을 유지하는것 ·',\n",
       "  '1'],\n",
       " ['746383', '크리스 터커 짱이삼! ㅋㅋ', '1'],\n",
       " ['10106046', '믿고보는 덴젤와싱턴. 근데 모레쯔는 왜이렇게 후덕하지...', '1'],\n",
       " ['9456361', '나오코 진짜 집중안된다', '0'],\n",
       " ['2461114', '감독이 밥은 먹고 다니는지 궁금하다. 배틀로얄2 이후로 최고 쓰래기.', '0'],\n",
       " ['4854124', '아 재미 너무 없네요.. 시간 아까워요', '0'],\n",
       " ['3352939', '난 잼있던데..ㅎㅎ', '1'],\n",
       " ['8225461',\n",
       "  '어떻게 상류층의 속물근성을 정당화시키면서미화시킨지 모르겠다. 감독이 국회의원이나 사회적 강자한테 아부하고 싶은 가봐요 그리고 얼굴만 예쁘다고 왕되는것은 맞지만 드라마라도 도덕적으로 표현좀 해야되는게 아닌가요 감독님 정신차리세요',\n",
       "  '0'],\n",
       " ['4728005', '가만히 보고만 있어도 씨익 웃음나는 행복한 가족의 이야기', '1'],\n",
       " ['8761788', '사고 후 잠시 정상인이 되었던 일탈', '0'],\n",
       " ['7094992', '좋은 영화~', '1'],\n",
       " ['7915590', '이거예전에나온거같은데 재미네', '1'],\n",
       " ['8693853', '샬라샬라 나오다즁자쥬아', '0'],\n",
       " ['6714986', '......감독의 옹졸함과 치졸함이 묻어나는 영화', '0'],\n",
       " ['5073654', '팔빠다 ㅋㅋ', '0'],\n",
       " ['1227060', '재미없음 -_-', '0'],\n",
       " ['8331844', '무슨 생각으로 만든걸까.', '0'],\n",
       " ['9594029', '스토리도 흥미롭고 배우들의 연기도 인상적이다. 충분히 볼만하다!!!', '1'],\n",
       " ['5683859', '내 인생 최고의 미드!!', '1'],\n",
       " ['9907691',\n",
       "  \"이 영화를 보고 '사랑하고 싶다' 라는 생각을 했습니다. 청소년 관람불가임에도 선정적인 장면은 나오지 않았습니다. 연인 혹은 솔로이신 분들에게 추천합니다.\",\n",
       "  '1'],\n",
       " ['10103306', '일본공포영화는 링 주온 이후로 망했음', '0'],\n",
       " ['5850503', '지루하다.. 지루해..', '0'],\n",
       " ['10070313',\n",
       "  '625를 직접 겪은 어르신들 얘길 들어보면 그당시 잔인한 학살은 대부분 주민들 서로간에 (주로 하층민들의 복수심에서 비롯된) 또는 군/경이 빨치산 학살한다며 벌인 살인이었지 정작 북한군은 민간인들한테는 잘해줬다고 하던데?',\n",
       "  '1'],\n",
       " ['6475186', '그냥 다큐일뿐 ..', '0'],\n",
       " ['8058599', '10점짜리 영화는아닌데 개인적으로는 평균평점 7점정도의 가치는 한다고 본다 스타일리쉬한 영화 ㅋ', '1'],\n",
       " ['8217932', '정말 질질끌고 작가님제발좀 적당히하시죠은희수역맡은 사람도 그만 나쁘게 만들지아침드라마가 막장이네', '0'],\n",
       " ['3134317', '으이구 괴물 그래픽이나 좀 다듬지 그게 머니 다 티나게 공포영화보다 웃은 건 첨이다', '0'],\n",
       " ['5725614', '대표적인 쓰레기 김치드라마', '0'],\n",
       " ['1251944', '네이버 별점, 꽤 신뢰도가 높네요.5점 이하는 안보는게 좋을듯..', '0'],\n",
       " ['9836293', '남주 헤어스타일 왜 저래...? 가게분신노찌쯔!!!!', '0'],\n",
       " ['3935543', '이런영화는 두번봐야지 안다 작은 일에도 크게 화를만드는 저나라의 국민이 인상깊다', '0'],\n",
       " ['9329701', '김명민이 약 구해서 차 탔을 때 진짜 설마설마 했음', '0'],\n",
       " ['6987687', '보지말아라 재미있든 재미없든 진짜 찝찝하고 기분 드러운 영화공포영화 싸이코 영화...', '0'],\n",
       " ['4268313', '짝퉁쓰래기', '0'],\n",
       " ['8751084', '이거 시청률이 너무낮은대 명작이고만', '1'],\n",
       " ['9579206',\n",
       "  '현실감 제로지만 배우들이 너무 좋았어요. 특히 다니엘헤니를 많이 볼 수 있어 좋았어요. 같은 남자지만 게이는 아닙니당. 다니엘헤니 최고. 설경구 씨두 최고!',\n",
       "  '1'],\n",
       " ['6380732', '프레디가 나에게 모욕감을 줬다 그래도 프레디라서4점준다', '0'],\n",
       " ['6730559', '잼없네요넘', '0'],\n",
       " ['10121905',\n",
       "  '평점이 너무 높군요. 원작으로 보심이 나을듯. 짧은 러닝타임에 감사하다고 해야하나. 주인공이 썰매를 타고 목적지에 가니 모든 사람들의 기억이 돌아온다는 황당한 설정이고 인간의 감정을 통제한다는건 데몰리션맨, 이퀄리브리엄에서 봤기때문에 신선함도 없음',\n",
       "  '0'],\n",
       " ['8822540', '막장 드라마의 원조격인 영화... 근데 이 영화는 확실히 로즈번이 살린듯', '1'],\n",
       " ['9109790', '해군 출신이라 관심있게 본 영화~', '1'],\n",
       " ['9953912', '파란색 슬픔이 영화에..', '0'],\n",
       " ['7298459', '액션 완전 OOO기..차라리 유오성이 나오는 챔프를 보겠다..;;', '0'],\n",
       " ['9355956', '폭풍오열ㅠㅜㅠㅍ퓨ㅠ', '1'],\n",
       " ['4329345', '착한영화... 그리고... 재미없습니다', '0'],\n",
       " ['1504875', '사소한 이야기조차 눈을 뗄수 없게 만들던 거장의 솜씨. 예전 장이모우 그립다', '1'],\n",
       " ['8960254', '내가본영화중 베스트5안에 듬 진짜꼭보세요', '1'],\n",
       " ['7589723', '지금까지 본 페이크다큐영화중 제일 별로...', '0'],\n",
       " ['9797993', '재미도 있고 공감도되는 누구나 즐길수있는 독립영화 !!!', '1'],\n",
       " ['1180080', '\"\"\"시미즈레이코의 만화책\"\"\"\"비밀\"\"\"\".에서 영향받은거 아냐? 똑같애\"\"\"', '0'],\n",
       " ['8293622', '기존 한국 영화에서 느끼지 못한 색다른 느낌상업적이기 보다는 새로움에 도전한듯한 ..', '1'],\n",
       " ['4431197', '장난하나--반전같은거 있을 줄 알고 끝까지 다 봤는데 진짜 아오..시간아까워', '0'],\n",
       " ['8937179',\n",
       "  '예고편을 왜 하는건지 모르겠음.. 예고편에 나오는건 하나도 안나오고.. 예고편은 대판 쌈질 하는것마냥 나오더니 하하호호 하고 끝남.. 예고편이 무슨 뜻인지를 모르는건지.. 시청자들을 호구로 보는건지..낚시질좀 그만하시고 차라리 시청률 걱정되면 폐지해',\n",
       "  '0'],\n",
       " ['8846509', '난 프랑스 영화가 이래서 좋다..', '1'],\n",
       " ['9335640', '쓰레기쓰레기쓰레기쓰레기쓰레기쓰레기쓰레기쓰레기', '0'],\n",
       " ['435623', '참 재밌게 봤는데... 귀여운 지미 +_+', '1'],\n",
       " ['4198269', '시간이 지나서 또 봐도 정말 가슴애린 드라마......ㅠ.ㅠ', '1'],\n",
       " ['5733754', '사촌동생들 때문에 같이 보긴했는데 정말.. 사촌동생들도 재미없다고 하네요', '0'],\n",
       " ['8278608', '설득력없는 꼴통페미니즘. 페미나치적인 마인드.', '0'],\n",
       " ['23653', 'B급을 지향하는 C급 작품.', '0'],\n",
       " ['7813287', '음 잘 모르겠다 뭘 봐야 하는 건지 소녀 가장 이야기인가', '0'],\n",
       " ['5824795', '우리와 틀리다고 생각했던 장애인이 우리와 틀리지않단것을 알려주었다.10403', '1'],\n",
       " ['842944', '재밌고 감각있고 쿨한 영화였는데.마지막 결말이 약간 아쉽지만', '1'],\n",
       " ['7929874',\n",
       "  '그냥 재미없네 보던거니까 마저봐야지 이랬는데 갑자기 원주민생활하는건 진짜 어처구니가 없었음이건 그냥 영화가 아니다',\n",
       "  '0'],\n",
       " ['10155376',\n",
       "  '진짜 언제 90분이 지나갔는지 모를정도로 몰입해서보고 정말 너무 재미있게 봄... 너무 아련해서 영화 평 정말 처음 남겨봄.. 진짜 내가 이 나이에 애니를 보며 이 밤중에 이렇게 울줄이야.. 에몽아ㅠㅠ',\n",
       "  '1'],\n",
       " ['8680215', '사과해요, 나한테!!!', '1'],\n",
       " ['7679026', '골목상권에 들어온 대형슈퍼마켓이 생각난다', '0'],\n",
       " ['9989270', '평점 조절이 필요하다 라는 생각이 든다!', '0'],\n",
       " ['8827685', '무협 멜로의 걸작 ... 말해 모해', '1'],\n",
       " ['5524686', '너무재미있게 보았는데요 다시 볼수없을까요', '1'],\n",
       " ['6158788', '오글거리고 유치하고 완전최악이었음...', '0'],\n",
       " ['307912', '절대비추.....', '0'],\n",
       " ['6082188', '한국껀줄알앗는데 일본꺼엿네 ㅋㅋ', '0'],\n",
       " ['9704763', '꽃 한송이 놓고 갑니다ㅋㅋ', '0'],\n",
       " ['9687594',\n",
       "  '내 삶의 가장 의미있는 일 중 하나라면 바로 이 영화를 봤다는 것이다. 살면서 죽기 전에 한번 꼭 봐야 할 영화.',\n",
       "  '1'],\n",
       " ['9430257', '생각보다 볼만했음ㅋ여주인공이 연기가 좋네여', '1'],\n",
       " ['9073274',\n",
       "  '자꾸 뭘 설득할려하고 설교할려고하는게 보기거북하다. 그리고결혼반지를 위해 범죄가담하다니 무슨 개역지설정이냐.',\n",
       "  '0'],\n",
       " ['7726829', '와...', '0'],\n",
       " ['8213409', '제발 전문성우를 써주세요 ㅠㅠ', '0'],\n",
       " ['8544691',\n",
       "  '살면서 처음 접해본 장르라서 조금 당황스럽다. 솔직히 영화 자체는 100% 자신의 색깔에 충실했고 완성도 역시 뛰어난 편이지만.. 좋아하지도 이해하지도 못하겠다ㅋ',\n",
       "  '0'],\n",
       " ['6269046', '오늘 아이데리고 봤는데...아이는 좋아하데요...ㅎㅎ 미취학, 초등 어린이에게 추천~', '1'],\n",
       " ['5934328', '이것을 끝까지 참고 본 내가 제일 자랑스럽습니다.', '0'],\n",
       " ['7668668', '존내재밋습네다', '1'],\n",
       " ['5655827', '안봐도 되는 영화.', '0'],\n",
       " ['4644401', '원작 망쳤네요', '1'],\n",
       " ['9945284', '그냥 주는거다. 5점은 아닌 듯', '1'],\n",
       " ['705362', '나쁘지 않으나 개인적으로는 지루했다는.', '0'],\n",
       " ['5708802', '어의없는 스토리.. 여자죽을때 웃음나옴.. 로맨스영화냐?', '0'],\n",
       " ['9790871', '순수함이 두근거려 좋았다 감독님은 관객들이 뭘원하는지 잘아는듯..여운이 많이 남는다', '1'],\n",
       " ['3810929', '기방난동사건이후 최악의 영화 .재밌다는 사람들 믿고 봤더니 다 알바생인듯 ... ㅜㅜ', '0'],\n",
       " ['6278900', '로맨스와 스릴러 짬뽕놔서 뭘 말하고 싶은건지.. 스토리도 허황된 느낌', '0'],\n",
       " ['4666521', '이건좀 아니잖아...', '0'],\n",
       " ['8894910', '윤아은 안됨!!원작자님 캐스팅에 참여해주세요작품 망치면 안되잖아요', '1'],\n",
       " ['10067891', '지금생각해도 내가본영화중에 이영화는 내생애 최고의영화였던것같다', '1'],\n",
       " ['4656042', '천녀유혼1,2에 비하면, 뭐라 표현하기 힘든 퀭한 영화', '0'],\n",
       " ['9541420',\n",
       "  '불륜을 미화한 영화 남은사람들은 어쩌라고 또 돈걱정 따위 안하는 사람들의 이야기를 공감하라고 강요하는 영화 음악이랑 영상미로 3점',\n",
       "  '0'],\n",
       " ['6206837', '최고다....... walk like a man 이란 노래는 원곡보다 영화속 노래가 훠~~얼씬 좋아요', '1'],\n",
       " ['8970443', '소재가 굉장히 신선했다', '1'],\n",
       " ['8870035', '내사랑 키아누 ♡.♡ 리브스 ♡.♡', '1'],\n",
       " ['9969587',\n",
       "  '두말할 나위없이 최고의 작품.인생에 대해서 생각해보게 하는 깊이있는 영화.전 출연진과 제작진에게 큰박수를 보낸다.',\n",
       "  '1'],\n",
       " ['7666606', '솔직히 산만 하기만했다', '0'],\n",
       " ['2176436', '말이필요없지.. 성룡영화에선.....무언가를다른것을느낄수있다', '1'],\n",
       " ['10018117', '화학을 해서 그런지 잼잇게 봣습니닼ㅋ 옆에 친구 중간중간 노이해.... 나중에 해석 ㅠㅠ 잼잇엇숩니다', '1'],\n",
       " ['8033328', '아직 준비되지 않는 젊은영화인들여 함부로 장편에 손대지 마라천천히 공부하고 나와라', '0'],\n",
       " ['7088731',\n",
       "  '으엉 간만에 추억돋아서 봤는데사실 원작 자체도 두서없이 전개되는데영화감독은 내용앞뒤도없이 막 잘라서정신없음ㅇ배우들은 책읽고 특히 대사 그대로 살린거 오그리오그링ㅋㅋㅋ간만에 소설로 읽어야지',\n",
       "  '0'],\n",
       " ['4883754', '개 쓰레기같은 것들아 감히 파라노말엑티비티를 팔아먹냐', '0'],\n",
       " ['9942955', '기억은 조작되기 마련.. 그사람이 아니고서는 함부러 말하지 말자', '1'],\n",
       " ['9466607',\n",
       "  '재밌게 봤습니다,, 그저 문헌에 적힌 문란한 사도세자가 아닌, 정조의 아버지로서 그 그릇이 어느 정도였는지 잘 보여준 작품이 아니었나 싶네요 시나리오도 시나리오지만 배우들 연기가 일품이었습니다',\n",
       "  '1'],\n",
       " ['8933491',\n",
       "  '휴일낮에 침대에누워서 티비보다가 영화채널에서 틀어주길래 어쩔수 없이 봤는데 나중에는 벌떡 앉아서 봤던 영화.!완전 몰입되고 나름 스토리도 치밀하고 해리슨 포드다운 액션- 좋습니다. 저는 영화광도 영화 평론가도 아니고 영화 자주보는 일반 남자사람임',\n",
       "  '1'],\n",
       " ['5844083', '절제의 미학이아니라.. 지루함의 극치가 되버린 안타갑다..', '0'],\n",
       " ['3674831', '영화관에서 보기엔 돈아까웠다;;;;;....... 솔직히 재미없었다 ㅜㅜ', '0'],\n",
       " ['1736999', '인간의 솔직함을 보여 주고 싶었는가..이런 방법말고도 다른 방법이 충분이 있을텐데?', '0'],\n",
       " ['9845902', '정말 사랑에 대해 다시생각한거같습니다 감동이에요', '0'],\n",
       " ['7406758', '내용은 교육적이나 정말지루해서요ㅜ', '0'],\n",
       " ['9121447', '꿀잼! 특히 소유랑 서인영ㅋㅋㅋㅋ매력터져', '1'],\n",
       " ['7988084', '태어나서 본 영화중에 제일 재미없었음', '0'],\n",
       " ['6880550', '화면을 흑백으로 바꾸기만 하면 50년대 작', '0'],\n",
       " ['9759719', '쇼핑몰 안에서만 찍어서 너무 재미없고 답답한..내용도 없다.', '0'],\n",
       " ['2288547', '진짜 쓰레기영화.. 돈아까워 죽는줄 알았다.. 여러분 보지 마세요', '0'],\n",
       " ['468899', '와아오 두근두근~ 익스트림자체', '1'],\n",
       " ['9736192', '폭력영화, 자극적이고 실험적이라고 예술인가?', '0'],\n",
       " ['9304503',\n",
       "  '일본영화랑 비슷한건 저만 느끼는건가요??수트입으면 미남으루 변하구 마지막에 평생입으라구 권유받구...창조가 이렇게까지 중복될수 있눈건지...잘 모르겠네여',\n",
       "  '0'],\n",
       " ['9231599',\n",
       "  '진짜 이렇게 재미도 없고 감동도 없는 영화는 처음이네특히나 박사고 나발이고 모든인물들이 컴퓨터 할때 손찍는데키보드 누르지도 않고 ㅋㅋㅋ컴퓨터 화면들은 똑같은 파트만 무한 반복되고허접해도 너무 허접하네... 배우들 연기도 개떡이고 ...',\n",
       "  '0'],\n",
       " ['5657638', '최고의 농촌드라마.', '1'],\n",
       " ['8239718',\n",
       "  \"독립영화 실력자들의 스타 리그, 옴니버스라는 피로감이 극복되는 수준이다. '얼음강'은 단독 장편으로 만들었어도 좋았을 듯. 주인공이 혹여 - 평소라면 1%도 공감 안되는 - 여호와의 증인이라도 납득이 될 정도로 감정을 설득하는 솜씨가 탁월하다.\",\n",
       "  '1'],\n",
       " ['9147374', '좀비좀비 그러는데 좀비아닙니다. 우주의 아름다움에 미쳐버린 인간일뿐 충분히 가능한 일이죠', '1'],\n",
       " ['9788286', '개재미없음 막장스토리 어거지 ㅋㅋ', '0'],\n",
       " ['502971', '뭐하나 흠잡을 것이 없다. 최고!', '1'],\n",
       " ['8837036', 'OST가 좋은 영화!!', '1'],\n",
       " ['3059926', '탁재훈나오믄재밌는데와이라지스토리중반부터너무쳐짐약해약해약해~지겨워뒈지는줄알', '0'],\n",
       " ['4009568', '서스펜스도 없고 스릴도 없다.', '0'],\n",
       " ['3044091', '우리나라 정서하고 안맞다`~', '0'],\n",
       " ['4161935', '어디선가 많이 본 흔한 스토리', '0'],\n",
       " ['8535856', '최고의 드라마....', '1'],\n",
       " ['9848292', '우리 모두는 누군가에게 섬머였다!', '1'],\n",
       " ['1389397', '힘알이 하나 없는 주인공들..맥이 다 빠진다.', '0'],\n",
       " ['8014926', '너무너무귀여운영화', '1'],\n",
       " ['518874', '전형적인 일본식 엽기 괴짜 코메디. 그 특이함에 끌리는건 왜지', '0'],\n",
       " ['6428636', '와 이걸 5점 이상 준 사람들은 뭐지. 나루토 극장판 중에 가장 쓰래기', '0'],\n",
       " ['4008401', '정당한 노력이란 보상받게 마련이다.나름 일정 성취가 있고,좋은 결실을 거둔 작품.', '0'],\n",
       " ['7494798', '아씨 울었다.', '1'],\n",
       " ['5954884', '기적은 이미 일어났다.', '1'],\n",
       " ['9718518', '아이들과 함께 보기 좋았지만, 그냥 그래요.', '0'],\n",
       " ['4492202', '전율을 느꼈다.', '1'],\n",
       " ['6940155',\n",
       "  '여기저기 지저분한내용에 이기적인 사람들의 역겨운 연애사...마지막으로 갈수록 시청률 안나오니까 막 갈겨쓴내용...',\n",
       "  '0'],\n",
       " ['8662240', '별로...완전별로....마지막빼고 넘 유치하고재미없고 ..', '0'],\n",
       " ['9924896', '세월이 지나서 다시 보니 뭔가 먹먹함이 다르더군요. 공감하는 사람이라면 가슴속에 명작으로 남을 듯...', '1'],\n",
       " ['8607739', '아이들이 보기엔 좋을지도?', '0'],\n",
       " ['7081837', '보니까 선정성이 좀 15세 같음:::: 그래도 액션은 좋음', '1'],\n",
       " ['8672382', '카타르시스를 느끼기에 충분한...값진영화였다..', '1'],\n",
       " ['5838594', '여주 린제이 로한 닮았다. 전체적인 분위기나 배경은 좋았지만 내용은 지루했다.', '0'],\n",
       " ['8747250', '당신이 솔로가 아니면 이 영화를 보지마세요.', '0'],\n",
       " ['8893010',\n",
       "  '남이 차안에서 전화통화 하는걸 90분 가까이 구경하고 있으라고? 폰부스는 명작이라 생각하지만 이 영화는 진짜 장난하나',\n",
       "  '0'],\n",
       " ['4063053', '전형적인 저질영화', '0'],\n",
       " ['1964094', '답을 알려고 하지마라.', '1'],\n",
       " ['3748749', '재미잇음매우~~', '1'],\n",
       " ['7236510', '진짜 잘 만든 수작', '1'],\n",
       " ['10110553', '제발 2좀 찍어주세요. 현기증 난단 말이에요', '1'],\n",
       " ['3889299', '너무나도 따뜻한, 마음이 따뜻해지는... 한번쯤 자신을 되돌아보게 만드는 영화', '1'],\n",
       " ['3551150', '뭔가 조금씩 부족한 영화 놀래킬려면 확! 놀래키던지 어정쩡한 -_-;;', '0'],\n",
       " ['9855967',\n",
       "  '이거 참...소재는 참 좋은데 내용전개가 개판...사람수도 많고 총도 있는데 그걸 지들끼리 서로 다 흩어져서 일방적으로 밀리네..거기다 식인종이라면서 표현을 좀비로 해놓으면 어쩌잔거야..식인으로 인해 인성이 말살되고 짐승화 되었다는 표현이라도 있던가',\n",
       "  '0'],\n",
       " ['6607633',\n",
       "  '포스터만 그럴싸하다. 13구역이라는 이름만 가져다 쓴 영화. 완전 졸작이다. 액션 신도 개허술하고, 스토리도 이상하다.',\n",
       "  '0'],\n",
       " ['10263072', '대체 왜 재미없다는거지;;난 존나재밌던데', '1'],\n",
       " ['9135211', '늑대들의 여정이 너무 낭만적이었던 애니 스토리도 좋지만 음악은 일본 애니중에 탑으로 뛰어나다', '1'],\n",
       " ['8676753', '미국 흑인 민권운동사를 완벽하게 요약했다.', '1'],\n",
       " ['9798776', '그가 뛰어내리지 않았다면 어떻게 되었을까', '1'],\n",
       " ['9393658',\n",
       "  '8점대는 나와야지. 그냥 단순한 액션공포물이 아닌데도 긴장감 공포감 연출 쩔고 음악도 좋고.. 몇년이 지나도 기억나는 인상적인 좀비물인데. 평점 너무 짜서 10줌',\n",
       "  '1'],\n",
       " ['6890985', '아역 연기는 좋았으나 내용은 쓰레기', '0'],\n",
       " ['7060802',\n",
       "  '진짜....재미없다 극장에서 볼거없어서 걍 스릴러라길래봤는데ㅋㅋㅋㅋㅋㅋㅋㅋㅋ웃음밖에안나온다 혹시나해서라도 절대보지마라진짜제발',\n",
       "  '0'],\n",
       " ['8914565', '평점은 믿지마셈 재밌음', '1'],\n",
       " ['1318078', '이거 좋다는 놈들은 뭐하는 것들이야 ㅡ.ㅡ', '0'],\n",
       " ['6825739', '이게 21c영화냐? 90년도영화냐? 쓰래기들아', '0'],\n",
       " ['9984617', 'ufo를 믿으려는 자들.', '0'],\n",
       " ['9132252', '너무 구식으로 웃길려고 함. 보는 내내 지겨움', '0'],\n",
       " ['9612977', '이런거 좋아하는 사람들 정신 세계가 궁금하다..', '0'],\n",
       " ['8200058', '연예계의 현실을 알리고자 하는 마음은 알겠지만, 영화의 재미는 없었다. 지루해 죽을뻔 했음.', '0'],\n",
       " ['3527577', '아주 재미있고 책으로봐도 정말재미있다~~', '1'],\n",
       " ['3656988', '..........끝내주게 재밌다.', '1'],\n",
       " ['6584219', '유투브동영상을 돈내고 보는게 낫다는 생각이 들게한 영화', '0'],\n",
       " ['4919409', '아쉬운 점도 있지만, 스토리에 맞는 분위기나 배경, 지하철기관사의 삶 등을 잘 묘사', '1'],\n",
       " ['8466409',\n",
       "  '스타워즈 1편과 맞아떨어지도록 잘 만든영화 최고의 에피소드 다스베이더의 탄생과 루크,레이어의 운명을 알수있는 레전드',\n",
       "  '1'],\n",
       " ['8116113', '소희가 귀엽다 귀엽다 졸귀', '1'],\n",
       " ['3436810', '소문난 잔치(호화 캐스팅)에 먹을 건 없다', '0'],\n",
       " ['2074725', '주성치 영화 최고의 졸작', '0'],\n",
       " ['10181517', '구우우웃~~!!!!', '1'],\n",
       " ['3217546', '딱히 흠잡을 것도 두근거릴 것도 없는 교과서적 플레이.', '0'],\n",
       " ['9841078', '영화의 중심은 역시 스토리인것을. 반전의 반전 너무 재미있다.', '1'],\n",
       " ['9025696', '8.3이 아니라 9.3 이 아닌가?', '1'],\n",
       " ['4276245', '참 재미있었다. 연기를 발로 하는 삼류배우들 얼굴보면서... ㅋㅋㅋ', '0'],\n",
       " ['6020106', '재밌군', '1'],\n",
       " ['8705473', '이것도 재밌는데...ㅋㅋ', '1'],\n",
       " ['9810971', '1점도 아깝다 평쓰는 것도 귀찮다 보는 내내 오글거려서 손발사라지는 줄 알았다', '0'],\n",
       " ['7852536', '기대 안하고 봤는데... 영화 보는 내내 몰입해서 재미있게 봤어요~~', '1'],\n",
       " ['8386647',\n",
       "  '유쾌함과 스릴러적인 요소가 잘 어울려진 명작. 후속작 보다 훨씬 매력있음. 두고 두고 간직해두면서 꺼내보고 싶은 영화.',\n",
       "  '1'],\n",
       " ['39563', '좋네..괜찮고.', '1'],\n",
       " ['7772563', '명작. 너무 좋았던 드라마. 스토리, 캐스팅, 연기, 음악, 연출 모두 완벽했던.', '1'],\n",
       " ['5725103', '괜찮은영화,,영화도괜찮았지만 나영언니완전머싯고예뻤음ㅠㅠ', '1'],\n",
       " ['7462757',\n",
       "  '일단 재미있다 ! 고래 몇마리로 국가적으로 호들갑떠는게 오버스럽겠지만 그런 모습이 우리는 모두가 도와가며 살아야하는 지구의 생명이란 메세지는 참으로 감동적이다.',\n",
       "  '1'],\n",
       " ['8868808', '지금 첨봤는데 1회만 봐볼까하고 봤다가 주말 밤새완주하였다. 여운이 많이 남는 드라마', '1'],\n",
       " ['6933426', '애니메이션 뮬란이 아쉽다. 전쟁씬도 그렇고 연기도 그렇고 이야기도 그렇고그저 그래', '0'],\n",
       " ['10111771', '기대않 하고 봣는데 진짜 내용도 좋고 재미도 있네요!!', '1'],\n",
       " ['493092', '좋았다', '1'],\n",
       " ['1132815', '슬픈 맑음. 파문에 주목하라.', '1'],\n",
       " ['10102549', '김윤진 좋아하니깐...♡', '1'],\n",
       " ['2110412', '재밌따!!', '1'],\n",
       " ['10138191', '무리수가 되어버린 코미디 기획상품.', '0'],\n",
       " ['7457162', '나홀로집에와더불어 나의최고의영화..', '1'],\n",
       " ['9167250', '나는 떠올랐다 그옛날 국산애니 (아마겟돈)의 악몽이', '0'],\n",
       " ['8404879', '완전 역겨운 쓰레기 영화다 기술적 수준을 떠나 각본이 무개념', '0'],\n",
       " ['2422271', 'sunday booldy sunday........., 고결한 신사들께서 무슨 짓을 하셧을까?', '1'],\n",
       " ['7530240', '캬.. 개안음..ㅎㅎㅎㅎ', '1'],\n",
       " ['9991915', '보는내내 너무너무 재미있었음', '1'],\n",
       " ['9988760', '김소현 팬됬습니다....너무 재밌음', '1'],\n",
       " ['2615698', '삐에로와 흑인남자와싸웠을때 재미있었다 ㅋㅋㅋ아웃겨', '1'],\n",
       " ['7684164',\n",
       "  '유럽영화가 이번정부에 많이 들어와 즐겁긴하다만 그 내용들이 왜 이리 진부한걸까,,,,,,,,,,,,,,,,,,,,,,,,,,,유럽영화를 욕되게 하고있단 소리다,,',\n",
       "  '0'],\n",
       " ['10020563', '왠만한 허접영화도 재미있게보는데 이건 도를 넘어섰다', '0'],\n",
       " ['2497690', '어떤 누구도 다른 이의 삶과 죽음에 대해 왈가왈부 할 순 없다.', '1'],\n",
       " ['8906022', '굿굿굿 또해라또해라 제발 ㅠㅠ', '1'],\n",
       " ['4133147', '주님께서 부르셔서 제가 여기 있나이다.', '1'],\n",
       " ['9436392', '미성년자가 돈많은 아저씨에게 순결을 바치고 데인후 결국 정신차리고 공부해거 명문대가는 진부한 결말', '0'],\n",
       " ['9840716', '정말 재밌게 봤고 빈센트도 꼬마도 연기 너무 잘하네요. ㅎ', '1'],\n",
       " ['6170546', '솔직히 원작보다 훨씬낫다 원작 무슨 인간이 말도못하게설정해놨어', '1'],\n",
       " ['5383358', '말이 필요없음,,, 아 진심 개재밌다ㅠㅠ', '1'],\n",
       " ['10208479', '보니까 이양반이 다세포소녀 감독이네', '0'],\n",
       " ['4761480', '굿 잡!!! 친구랑 또 보고 싶네요!', '1'],\n",
       " ['8180877', '재미진짜 흥하네 근데 yang**** 이새끼 관종인가 ㅋㅋㅋ', '1'],\n",
       " ['9320316', '야경꾼보다 엉망지루함', '0'],\n",
       " ['9661317', '예원찡... 그만울어....', '1'],\n",
       " ['9444015', '근 5년동안 본 모든영화 통틀어서 최악의영화..시간이 남아돌때 봐도 시간이 아까운 역대급 쓰레기영화;;', '0'],\n",
       " ['7301394',\n",
       "  '감동이다.. 참고로 이 영화 보신분들 마지막엔딩부분에 자막으로나오는부분잇죠? .. 이게 영화상에서 실화라는거지 진짜 레알 현재 실제로 실화라는말이아니에요.. 전지현이 피디잔아요 다큐찍는거 ...그 다큐에서엔딩장면이지 진짜 실제가아니에여.. 쨋든',\n",
       "  '1'],\n",
       " ['8059949', '달기지...미니어쳐 티 팍팍 나던데...우뢔매 보는줄 알았다...혹시 특수효과 감독이 심형래?', '0'],\n",
       " ['8051141', '재미 드럽게 없다ㅋㅋㅋ', '0'],\n",
       " ['9146376', '야 세르게이!!! 작은 고추의 매운맛을 보여주마', '0'],\n",
       " ['9413155',\n",
       "  '정여립과 정철, 기축옥사까지.. 스토리 탄탄해서 좋습니다. 배우들도 연기 참 잘하고 남녀주인공들 케미도 좋고! 챙겨 볼 수 밖에 없는 드라마ㅠㅠㅠㅠ',\n",
       "  '1'],\n",
       " ['8007833', '개OO영화네요....내용도없고 그냥심심해서만든영화가..', '0'],\n",
       " ['8557767', '두개는 줄려고 했는데 알바가 많아서. 아후 볼거없어서 채널 돌려도 다시 다른데로 돌리게만드는구나', '0'],\n",
       " ['9136302', '왜 0점은 줄 수 없나요?', '0'],\n",
       " ['8657974', '영화사에 남을 작품. 실험영화의 완성본', '1'],\n",
       " ['9111762', '자식을 그렇게 때리냐?', '0'],\n",
       " ['8929395', '이게 대체 무슨 내용이야;;', '0'],\n",
       " ['7339744',\n",
       "  'ㅋㅋㅋㅋㅋㅋㅋㅋㅋㅋㅋㅋㅋ옛다 1점이나 처먹어랔ㅋㅋㅋㅋㅋㅋㅋㅋ이게 7점급?이건 1점짜리. 내용도 결말도. 살다 살다 뭐 이딴...',\n",
       "  '0'],\n",
       " ['9445949', '감동적이였고 좋았습니다', '1'],\n",
       " ['9830821',\n",
       "  '초반에 개재미없었는데 볼수록 점점 재밌어짐! 외계인이 내가 알던 에일리언에 나오던 외계인이 아니야....',\n",
       "  '1'],\n",
       " ['9602598', '쇼핑백 잊혀지지 않는다....', '0'],\n",
       " ['4085435', '의도는 좋지만 너무 몰입이 안되는걸 어떡해', '0'],\n",
       " ['7404128', '유치하지만 가볍게 볼만함', '0'],\n",
       " ['7628876',\n",
       "  '화려한 색채때문에 눈이 아프지만 그 나름대로 화려연예계여자욕망에대해 표현해냈던거같다 보는내내 진짜 리리코심정가진 연옌들도 있을거같고..나를한번도보지못하고알지못하는사람들이날어떻게사랑하냐그런대사 나왔을때 소름돋더라 연예인들은 많은사랑받으면서도 참 허전할듯',\n",
       "  '1'],\n",
       " ['3889736', '본지 수OO이 지나도 아직도 생생함. 고양이 귀신의 복수가 진짜 무서웠지', '1'],\n",
       " ['4070437', '영상이 대학교 졸업작품같아서 그렇지 꽤나 많은걸 담아놓은 영화임에는 분명하다.', '1'],\n",
       " ['9445843', '최강 전차부대 ..,,..', '0'],\n",
       " ['7425748', 'ㅇㅇ', '0'],\n",
       " ['7991350', '진짜 어이없는 소재라고 생각하며 보는데 개 웃겨.... 남자로서는 솔직히 조금은 부러울수도 있는', '1'],\n",
       " ['8825761', 'tv 전기세가 아까웠다!!!', '0'],\n",
       " ['10251900',\n",
       "  '초등학교때 선생님이 보여주신 영화 시간이 흘러서 기억나는건 에이즈에 걸렸던 남자아이와 운동화였고 그때 봤던 영화가 뭐였을까? 궁금했었는데 그 영화가 바로 굿바이마이프렌드였다 12년전이나 12년후나 명작은 시간이 흘러도 명작이다',\n",
       "  '1'],\n",
       " ['4202224', '넘 재밌었어요/ㅅ/ㅎㅎㅎ', '1'],\n",
       " ['4726967', '설리 94년생인데 93년도 영화에 어떻게 나오져?', '1'],\n",
       " ['5466870', '샷의 연결이 아닌 충돌만큼이나 거룩한 제목 또한 인상적이구려', '1'],\n",
       " ['6077451', 'ㅋㅋㅋ 재미없음', '0'],\n",
       " ['9469311', '오오 난 여태까지 맷데이먼의 최고의영화는 본 얼티메이텀,라이언일병구하기 뿐인줄알았음ㅠ 굿윌헌팅도쩐당', '1'],\n",
       " ['9726724', '이야기 자체가 흥미를 끌지 못하는군', '0'],\n",
       " ['7285074', '날 로그인하게 만들다니.....청춘이여 영원하라....', '1'],\n",
       " ['6236997', '현정언니 짱이죠 완전 잼잇어요 ㅎ', '1'],\n",
       " ['7558359',\n",
       "  '영상미 예쁘고 좋지만 러닝타임이 2시간이 넘는데 초반 30분에 줄거리 다 나갔고 엄청 지루한 화보집 보는 기분 일본영화 특유의 그 이해못할 희한함이 있음',\n",
       "  '0'],\n",
       " ['7252691', '스토리 연결 전혀 안되고 편집해서 끼워맞춘 드라마 말아먹은 작품', '0'],\n",
       " ['8789344', '여자 주인공이 예뻐서 끝까지 봤다', '0'],\n",
       " ['247661', '지구를 지켜라...혹 이 작품을 보고 만든 건 아닌지...', '1'],\n",
       " ['10263063', '저렇게 힘들게 영화를 만드는데, 왜 한국영화는 다 쓰레기냐?', '0'],\n",
       " ['6831499',\n",
       "  '케릭터가 살아있었으며, 미장센이 훌륭했다. 이야기는 몰입도 있었고, 불필요한 샷은 존재하지 않았다. 노인을 위한나라는 없다 먼저 봤지만 코엔감독 매력적인영화를 만드는 멋있는 사람',\n",
       "  '1'],\n",
       " ['474835', '마지막이 좀황당했지만 좋은영화', '1'],\n",
       " ['3279841', '우연히 tv를 돌려보다가 사로잡혔다. 최근 10년간 본 코미디 영화 중 최고', '1'],\n",
       " ['8407277', '연 기 굿 화이팅해요누나', '1'],\n",
       " ['9673323',\n",
       "  '마이클베이 최근작을 볼때마다 느낀다. 블록버스터 액션장르라도 탄탄한 시나리오는 영화의 필수라는것을. 그리고 당신이 기대하던 메간폭스는 늙었다.',\n",
       "  '0'],\n",
       " ['8121444', '0점은없나?1점은 너무 후하네', '0'],\n",
       " ['10275296', '미달이는.. 연예계를 바라보는 태도를 고쳐야 한다.', '0'],\n",
       " ['6473973', '파괴된 관객들.', '0'],\n",
       " ['8417568', '알콜중독자들 덕에 평점이 낮은가?', '1'],\n",
       " ['7126211', '중견배우들이 만들어놓은 긴장감이 나름 긴장감있게 싸워보려했던 도술사들에 의해 헛웃음나온다.', '0'],\n",
       " ['8379556',\n",
       "  '남자 주인공 늑대 인간으로 변하고 끝나네유. 평점 보고 안 볼까 하다가 봤는디 재밌네유. CG보다 이런 실물 특수 효과가 더 보는 재미가 있어유. 웃기기까지 하네유. 근디 제목 번역은 어느 바보가 한거여. 그냥 늑대 인간이 아니잖여.',\n",
       "  '1'],\n",
       " ...]"
      ]
     },
     "execution_count": 356,
     "metadata": {},
     "output_type": "execute_result"
    }
   ],
   "source": [
    "data"
   ]
  },
  {
   "cell_type": "markdown",
   "metadata": {},
   "source": [
    "이 데이터는 번호, 내용, 평점으로 이루져 있으므로 내용을 X, 평점을 y로 저장한다."
   ]
  },
  {
   "cell_type": "markdown",
   "metadata": {},
   "source": [
    "0이 안좋은것. 1이 좋은 것."
   ]
  },
  {
   "cell_type": "code",
   "execution_count": 355,
   "metadata": {},
   "outputs": [
    {
     "name": "stdout",
     "output_type": "stream",
     "text": [
      "['9976970', '아 더빙.. 진짜 짜증나네요 목소리', '0']\n"
     ]
    }
   ],
   "source": [
    "from pprint import pprint\n",
    "pprint(data[0])"
   ]
  },
  {
   "cell_type": "code",
   "execution_count": 358,
   "metadata": {},
   "outputs": [],
   "source": [
    "X = list(zip(*data))[1]\n",
    "y = np.array(list(zip(*data))[2], dtype=int)"
   ]
  },
  {
   "cell_type": "markdown",
   "metadata": {},
   "source": [
    "이제 이 데이터를 다항 나이브 베이즈 모형으로 학습시킨다."
   ]
  },
  {
   "cell_type": "code",
   "execution_count": 365,
   "metadata": {},
   "outputs": [
    {
     "data": {
      "text/plain": [
       "(150000, 150000)"
      ]
     },
     "execution_count": 365,
     "metadata": {},
     "output_type": "execute_result"
    }
   ],
   "source": [
    "len(X), len(y)"
   ]
  },
  {
   "cell_type": "code",
   "execution_count": 366,
   "metadata": {},
   "outputs": [],
   "source": [
    "from sklearn.feature_extraction.text import CountVectorizer\n",
    "from sklearn.naive_bayes import MultinomialNB\n",
    "from sklearn.pipeline import Pipeline\n",
    "from sklearn.metrics import classification_report\n",
    "\n",
    "model1 = Pipeline([\n",
    "    ('vect', CountVectorizer()),\n",
    "    ('mb', MultinomialNB()),\n",
    "])"
   ]
  },
  {
   "cell_type": "code",
   "execution_count": 367,
   "metadata": {
    "scrolled": true
   },
   "outputs": [
    {
     "name": "stdout",
     "output_type": "stream",
     "text": [
      "CPU times: user 3.28 s, sys: 192 ms, total: 3.47 s\n",
      "Wall time: 3.72 s\n"
     ]
    },
    {
     "data": {
      "text/plain": [
       "Pipeline(steps=[('vect', CountVectorizer()), ('mb', MultinomialNB())])"
      ]
     },
     "execution_count": 367,
     "metadata": {},
     "output_type": "execute_result"
    }
   ],
   "source": [
    "%%time\n",
    "model1.fit(X, y)"
   ]
  },
  {
   "cell_type": "markdown",
   "metadata": {},
   "source": [
    "모형의 성능을 보기 위해 테스트 데이터도 읽어들인다."
   ]
  },
  {
   "cell_type": "markdown",
   "metadata": {},
   "source": [
    "for cross validation"
   ]
  },
  {
   "cell_type": "code",
   "execution_count": 368,
   "metadata": {},
   "outputs": [],
   "source": [
    "import codecs\n",
    "with codecs.open(\"ratings_test.txt\", encoding='utf-8') as f:\n",
    "    data_test = [line.split('\\t') for line in f.read().splitlines()]\n",
    "    data_test = data_test[1:]   # header 제외"
   ]
  },
  {
   "cell_type": "code",
   "execution_count": 369,
   "metadata": {},
   "outputs": [
    {
     "name": "stdout",
     "output_type": "stream",
     "text": [
      "              precision    recall  f1-score   support\n",
      "\n",
      "           0       0.81      0.84      0.83     24827\n",
      "           1       0.84      0.81      0.82     25173\n",
      "\n",
      "    accuracy                           0.83     50000\n",
      "   macro avg       0.83      0.83      0.83     50000\n",
      "weighted avg       0.83      0.83      0.83     50000\n",
      "\n"
     ]
    }
   ],
   "source": [
    "X_test = list(zip(*data_test))[1]\n",
    "y_test = np.array(list(zip(*data_test))[2], dtype=int)\n",
    "\n",
    "print(classification_report(y_test, model1.predict(X_test)))"
   ]
  },
  {
   "cell_type": "code",
   "execution_count": null,
   "metadata": {},
   "outputs": [],
   "source": []
  },
  {
   "cell_type": "code",
   "execution_count": 370,
   "metadata": {},
   "outputs": [
    {
     "data": {
      "text/plain": [
       "array([1])"
      ]
     },
     "execution_count": 370,
     "metadata": {},
     "output_type": "execute_result"
    }
   ],
   "source": [
    "model1.predict([\"캡이다\"])"
   ]
  },
  {
   "cell_type": "code",
   "execution_count": 371,
   "metadata": {},
   "outputs": [
    {
     "data": {
      "text/plain": [
       "array([0])"
      ]
     },
     "execution_count": 371,
     "metadata": {},
     "output_type": "execute_result"
    }
   ],
   "source": [
    "model1.predict([\"병신같네\"])"
   ]
  },
  {
   "cell_type": "code",
   "execution_count": 372,
   "metadata": {},
   "outputs": [
    {
     "data": {
      "text/plain": [
       "array([0])"
      ]
     },
     "execution_count": 372,
     "metadata": {},
     "output_type": "execute_result"
    }
   ],
   "source": [
    "model1.predict([\"뭐 이딴게 다있어\"])"
   ]
  },
  {
   "cell_type": "code",
   "execution_count": 373,
   "metadata": {
    "scrolled": true
   },
   "outputs": [
    {
     "data": {
      "text/plain": [
       "array([0])"
      ]
     },
     "execution_count": 373,
     "metadata": {},
     "output_type": "execute_result"
    }
   ],
   "source": [
    "model1.predict([\"shit\"])"
   ]
  },
  {
   "cell_type": "code",
   "execution_count": 375,
   "metadata": {},
   "outputs": [
    {
     "data": {
      "text/plain": [
       "array([0])"
      ]
     },
     "execution_count": 375,
     "metadata": {},
     "output_type": "execute_result"
    }
   ],
   "source": [
    "model1.predict([\"개새끼\"])"
   ]
  },
  {
   "cell_type": "code",
   "execution_count": null,
   "metadata": {},
   "outputs": [],
   "source": []
  },
  {
   "cell_type": "markdown",
   "metadata": {},
   "source": [
    "이 결과를 Tfidf 방법을 사용했을 때와 비교해 보자."
   ]
  },
  {
   "cell_type": "code",
   "execution_count": 376,
   "metadata": {},
   "outputs": [],
   "source": [
    "from sklearn.feature_extraction.text import TfidfVectorizer\n",
    "\n",
    "model2 = Pipeline([\n",
    "    ('vect', TfidfVectorizer()),\n",
    "    ('mb', MultinomialNB()),\n",
    "])"
   ]
  },
  {
   "cell_type": "code",
   "execution_count": 377,
   "metadata": {},
   "outputs": [
    {
     "name": "stdout",
     "output_type": "stream",
     "text": [
      "CPU times: user 3.2 s, sys: 175 ms, total: 3.38 s\n",
      "Wall time: 3.51 s\n"
     ]
    },
    {
     "data": {
      "text/plain": [
       "Pipeline(steps=[('vect', TfidfVectorizer()), ('mb', MultinomialNB())])"
      ]
     },
     "execution_count": 377,
     "metadata": {},
     "output_type": "execute_result"
    }
   ],
   "source": [
    "%%time\n",
    "model2.fit(X, y)"
   ]
  },
  {
   "cell_type": "code",
   "execution_count": 378,
   "metadata": {},
   "outputs": [
    {
     "name": "stdout",
     "output_type": "stream",
     "text": [
      "              precision    recall  f1-score   support\n",
      "\n",
      "           0       0.81      0.84      0.83     24827\n",
      "           1       0.84      0.81      0.83     25173\n",
      "\n",
      "    accuracy                           0.83     50000\n",
      "   macro avg       0.83      0.83      0.83     50000\n",
      "weighted avg       0.83      0.83      0.83     50000\n",
      "\n"
     ]
    }
   ],
   "source": [
    "print(classification_report(y_test, model2.predict(X_test)))"
   ]
  },
  {
   "cell_type": "code",
   "execution_count": null,
   "metadata": {},
   "outputs": [],
   "source": []
  },
  {
   "cell_type": "markdown",
   "metadata": {},
   "source": [
    "이번에는 형태소 분석기를 사용한 결과와 비교한다."
   ]
  },
  {
   "cell_type": "code",
   "execution_count": 379,
   "metadata": {},
   "outputs": [],
   "source": [
    "from konlpy.tag import Okt\n",
    "pos_tagger = Okt()\n",
    "\n",
    "def tokenize_pos(doc):\n",
    "    return ['/'.join(t) for t in pos_tagger.pos(doc)]"
   ]
  },
  {
   "cell_type": "code",
   "execution_count": 387,
   "metadata": {},
   "outputs": [
    {
     "data": {
      "text/plain": [
       "['흠/Noun',\n",
       " '.../Punctuation',\n",
       " '포스터/Noun',\n",
       " '보고/Noun',\n",
       " '초딩/Noun',\n",
       " '영화/Noun',\n",
       " '줄/Noun',\n",
       " '..../Punctuation',\n",
       " '오버/Noun',\n",
       " '연기/Noun',\n",
       " '조차/Josa',\n",
       " '가볍지/Adjective',\n",
       " '않구나/Verb']"
      ]
     },
     "execution_count": 387,
     "metadata": {},
     "output_type": "execute_result"
    }
   ],
   "source": [
    "['/'.join(t) for t in pos_tagger.pos(X[1])]"
   ]
  },
  {
   "cell_type": "code",
   "execution_count": null,
   "metadata": {},
   "outputs": [],
   "source": []
  },
  {
   "cell_type": "code",
   "execution_count": 381,
   "metadata": {},
   "outputs": [
    {
     "data": {
      "text/plain": [
       "'흠...포스터보고 초딩영화줄....오버연기조차 가볍지 않구나'"
      ]
     },
     "execution_count": 381,
     "metadata": {},
     "output_type": "execute_result"
    }
   ],
   "source": [
    "X[1]"
   ]
  },
  {
   "cell_type": "code",
   "execution_count": 388,
   "metadata": {},
   "outputs": [],
   "source": [
    "model3 = Pipeline([\n",
    "    ('vect', CountVectorizer(tokenizer=tokenize_pos)),\n",
    "    ('mb', MultinomialNB()),\n",
    "])"
   ]
  },
  {
   "cell_type": "code",
   "execution_count": 389,
   "metadata": {},
   "outputs": [
    {
     "name": "stdout",
     "output_type": "stream",
     "text": [
      "CPU times: user 11min, sys: 6.52 s, total: 11min 7s\n",
      "Wall time: 10min 51s\n"
     ]
    },
    {
     "data": {
      "text/plain": [
       "Pipeline(steps=[('vect',\n",
       "                 CountVectorizer(tokenizer=<function tokenize_pos at 0x7fb2a119a1f0>)),\n",
       "                ('mb', MultinomialNB())])"
      ]
     },
     "execution_count": 389,
     "metadata": {},
     "output_type": "execute_result"
    }
   ],
   "source": [
    "%%time\n",
    "model3.fit(X, y)"
   ]
  },
  {
   "cell_type": "code",
   "execution_count": 390,
   "metadata": {},
   "outputs": [
    {
     "name": "stdout",
     "output_type": "stream",
     "text": [
      "              precision    recall  f1-score   support\n",
      "\n",
      "           0       0.85      0.86      0.85     24827\n",
      "           1       0.86      0.85      0.85     25173\n",
      "\n",
      "    accuracy                           0.85     50000\n",
      "   macro avg       0.85      0.85      0.85     50000\n",
      "weighted avg       0.85      0.85      0.85     50000\n",
      "\n"
     ]
    }
   ],
   "source": [
    "print(classification_report(y_test, model3.predict(X_test)))"
   ]
  },
  {
   "cell_type": "code",
   "execution_count": null,
   "metadata": {},
   "outputs": [],
   "source": []
  },
  {
   "cell_type": "markdown",
   "metadata": {},
   "source": [
    "(1,2)-gram 을 사용하면 성능이 더 개선되는 것을 볼 수 있다."
   ]
  },
  {
   "cell_type": "code",
   "execution_count": 391,
   "metadata": {},
   "outputs": [],
   "source": [
    "model4 = Pipeline([\n",
    "    ('vect', TfidfVectorizer(tokenizer=tokenize_pos, ngram_range=(1, 2))),\n",
    "    ('mb', MultinomialNB()),\n",
    "])"
   ]
  },
  {
   "cell_type": "code",
   "execution_count": 392,
   "metadata": {},
   "outputs": [
    {
     "name": "stdout",
     "output_type": "stream",
     "text": [
      "CPU times: user 13min 17s, sys: 15.6 s, total: 13min 33s\n",
      "Wall time: 13min 47s\n"
     ]
    },
    {
     "data": {
      "text/plain": [
       "Pipeline(steps=[('vect',\n",
       "                 TfidfVectorizer(ngram_range=(1, 2),\n",
       "                                 tokenizer=<function tokenize_pos at 0x7fb2a119a1f0>)),\n",
       "                ('mb', MultinomialNB())])"
      ]
     },
     "execution_count": 392,
     "metadata": {},
     "output_type": "execute_result"
    }
   ],
   "source": [
    "%%time\n",
    "model4.fit(X, y)"
   ]
  },
  {
   "cell_type": "code",
   "execution_count": 393,
   "metadata": {},
   "outputs": [
    {
     "name": "stdout",
     "output_type": "stream",
     "text": [
      "              precision    recall  f1-score   support\n",
      "\n",
      "           0       0.86      0.87      0.87     24827\n",
      "           1       0.87      0.86      0.87     25173\n",
      "\n",
      "    accuracy                           0.87     50000\n",
      "   macro avg       0.87      0.87      0.87     50000\n",
      "weighted avg       0.87      0.87      0.87     50000\n",
      "\n"
     ]
    }
   ],
   "source": [
    "print(classification_report(y_test, model4.predict(X_test)))"
   ]
  },
  {
   "cell_type": "code",
   "execution_count": null,
   "metadata": {},
   "outputs": [],
   "source": []
  },
  {
   "cell_type": "code",
   "execution_count": null,
   "metadata": {},
   "outputs": [],
   "source": []
  },
  {
   "cell_type": "code",
   "execution_count": null,
   "metadata": {},
   "outputs": [],
   "source": []
  },
  {
   "cell_type": "code",
   "execution_count": null,
   "metadata": {},
   "outputs": [],
   "source": []
  },
  {
   "cell_type": "code",
   "execution_count": null,
   "metadata": {},
   "outputs": [],
   "source": []
  },
  {
   "cell_type": "code",
   "execution_count": null,
   "metadata": {},
   "outputs": [],
   "source": []
  }
 ],
 "metadata": {
  "kernelspec": {
   "display_name": "Python 3",
   "language": "python",
   "name": "python3"
  },
  "language_info": {
   "codemirror_mode": {
    "name": "ipython",
    "version": 3
   },
   "file_extension": ".py",
   "mimetype": "text/x-python",
   "name": "python",
   "nbconvert_exporter": "python",
   "pygments_lexer": "ipython3",
   "version": "3.8.5"
  }
 },
 "nbformat": 4,
 "nbformat_minor": 4
}
