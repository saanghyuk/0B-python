{
 "cells": [
  {
   "cell_type": "markdown",
   "metadata": {},
   "source": [
    "앞의 로지스틱 회귀 같은 경우는 확률적 판별모형이였다. 베이즈정리 사용하지 않았다. <br>\n",
    "그러나, 앞으로 나올 ***LDA, QDA, 나이브베이즈*** 같은 경우는 확률적 생성모형이다. 베이지안 정리를 사용한다. <br>\n",
    "\n",
    "**확률적 생성모형은 베이즈룰을 이용해서 조건부확률을 계산하는 과정이 있다.**"
   ]
  },
  {
   "cell_type": "markdown",
   "metadata": {},
   "source": [
    "## 7.1 선형판별분석법과 이차판별분석법"
   ]
  },
  {
   "cell_type": "markdown",
   "metadata": {},
   "source": [
    "선형판별분석법(linear discriminant analysis, LDA)과 이차판별분석법(quadratic discriminant analysis, QDA)는 대표적인 확률론적 생성모형(generative model)이다. 가능도 즉, y의 클래스값에 따른 x의 분포에 대한 정보를 먼저 알아낸 후, 베이즈 정리를 사용하여 주어진 x에 대한 y의 확률분포를 찾아낸다."
   ]
  },
  {
   "attachments": {},
   "cell_type": "markdown",
   "metadata": {},
   "source": [
    "![1_70.jpeg](./materials/1_70.jpeg)"
   ]
  },
  {
   "cell_type": "markdown",
   "metadata": {},
   "source": [
    "즉, 먼저 모델입장에서 y=0, y=1 등 일때 x가 어떻게 생겼는지를 분포를 공부한다. <br>\n",
    "예를 들어, 의사가 되기 위해 공부한다면 \"정상인은 체온을 재면 37도 근처에서 나오고 감기에 걸리면 40도 +-2 이렇게 나오는 분포다.\" 이것을 먼저 공부한다. <br>\n",
    "\n",
    "즉, y의 클래스에 따른 x의 분포를 먼저 공부하면, \"감기에 걸린 사람의 체온 예로 들어 봐라.\" 이런 질문에 대답할 수가 있다.<br>\n",
    "\n",
    "그럼 이제, 반대로 묻는다. \"이 사람 체온이 39도 인데 감기에 걸렸을까?\" 대답할 수 있겠지. "
   ]
  },
  {
   "cell_type": "markdown",
   "metadata": {},
   "source": [
    "### 생성모형"
   ]
  },
  {
   "cell_type": "markdown",
   "metadata": {},
   "source": [
    "생성모형에서는 베이즈 정리를 사용하여 조건부확률 $p(y = k \\mid x)$ 을 계산한다.\n",
    "\n",
    "$$\n",
    "P(y = k \\mid x) = \\dfrac{P(x \\mid y = k)\\; P(y = k)}{P(x)}\n",
    "$$\n",
    "\n",
    "분류문제를 풀기 위해서는 각 클래스 $k$에 대한 확률을 비교하여 가장 큰 값을 선택한다. 따라서 모든 클래스에 대해 값이 같은 분모 ${P(x)}$은 굳이 계산하지 않아도 괜찮다.\n",
    "\n",
    "$$\n",
    "P(y = k \\mid x) \\;\\; \\propto \\;\\; P(x \\mid y = k) \\; P(y = k)\n",
    "$$\n"
   ]
  },
  {
   "cell_type": "markdown",
   "metadata": {
    "variables": {
     "\\text{ ": "<p><strong>SyntaxError</strong>: unexpected character after line continuation character (<ipython-input-1-e7faf2bb8c96>, line 1)</p>\n"
    }
   },
   "source": [
    "여기에서 사전확률 $P(y = k)$는 특별한 정보가 없는 경우, 다음처럼 계산한다.\n",
    "\n",
    "$$\n",
    "P(y = k) \\approx  \\frac{y=k인 데이터의 수}{모든 데이터의 수}$$\n",
    "\n",
    "만약 다른 지식이나 정보로 알고 있는 사전확률값이 있다면 그 값을 사용하면 된다.\n",
    "\n",
    "만약 다른 지식이나 정보로 알고 있는 사전확률값이 있다면 그 값을 사용하면 된다. <br>\n",
    "진짜 아무 데이터도 없고 아무것도 모르면, $1/n$라고 대답하는 수 밖에 없지. "
   ]
  },
  {
   "cell_type": "code",
   "execution_count": null,
   "metadata": {},
   "outputs": [],
   "source": []
  },
  {
   "cell_type": "markdown",
   "metadata": {},
   "source": [
    "우리가 알고 싶은 것은 X에 대해서, \n",
    "$$\n",
    "P(y=0|x),\n",
    "P(y=1|x),\n",
    "P(y=2|x),\n",
    "P(y=3|x)\n",
    "$$\n",
    "이렇게 구해서, 가장 큰 것을 고르면 되는 것. 누가 제일 큰지만 알면 돼. 꼭 다 더해서 1이 되게 만들 필요도 없다.<br>\n",
    "그러면, 생각 해보면 누가 제일 큰지 구별하는데 위 베이즈정리 식에서, $P(x)$를 알아서 뭐해. 어차피 제일 큰 것만 고르면 되는데. <br>\n",
    "대신 그렇게 해서 $P(X)$ 없앴으면 이제 확률은 아니지. 그래서, 이제 equal 등호로 표현을 안하고 비레 표시로 한다. "
   ]
  },
  {
   "cell_type": "code",
   "execution_count": null,
   "metadata": {},
   "outputs": [],
   "source": []
  },
  {
   "cell_type": "markdown",
   "metadata": {},
   "source": [
    "***결국은 P(X|Y=k)를 알아내는 것이 이 모형들의 핵심. 이것을 어떻게 알아내느냐에 따라 이름이 LDA, QDA, Naive Baysian 등등으로 나뉘는 것.***"
   ]
  },
  {
   "cell_type": "markdown",
   "metadata": {},
   "source": [
    "$y$에 대한 $x$의 조건부확률인 가능도는 다음과 같이 계산한다.\n",
    "\n",
    "1. $P(x \\mid y = k)$ 가 특정한 확률분포 모형을 따른다고 가정한다. 즉, 확률밀도함수의 형태를 가정한다(정규분포를 가장 많이 가정, 회귀분석에서는 x의 분포 이런거는 따로 가정 안했음. y, disturbance만 가정했었지. 그러나, 여기서는 x의 분포가 중요하다).\n",
    "2. $k$번째 클래스에 속하는 학습 데이터 $\\{x_1, \\cdots, x_N\\}$을 사용하여 이 모형의 모수값을 구한다(가우시안 분포였으면, $\\mu$, $\\sigma$).\n",
    "3. 모수값을 알고 있으므로 $P(x \\mid y = k)$의 확률 밀도 함수를 구한 것이다. 즉, 새로운 독립변수 값 $x$이 어떤 값이 되더라도 $P(x \\mid y = k)$의 값을 계산할 수 있다."
   ]
  },
  {
   "cell_type": "markdown",
   "metadata": {},
   "source": [
    "예를 들어보자. <br>\n",
    "정상인의 체온은 정규분포라 가정. <br>\n",
    "정상인 데이터를 모아서 평균과 시그마 구한다. <br>\n",
    "그러면, $P(X|정상인)$의 수식을 알고 있는 것. <br>\n",
    "그렇다면, 정상인 체온이 37.8일 확률밀도는? "
   ]
  },
  {
   "cell_type": "code",
   "execution_count": 19,
   "metadata": {},
   "outputs": [
    {
     "data": {
      "text/plain": [
       "0.044318484119383855"
      ]
     },
     "execution_count": 19,
     "metadata": {},
     "output_type": "execute_result"
    }
   ],
   "source": [
    "rv=sp.stats.norm(37.5, scale=0.1)\n",
    "rv.pdf(37.8)"
   ]
  },
  {
   "cell_type": "markdown",
   "metadata": {},
   "source": [
    "정상인이 체온이 37.8일 확률밀도는 0.044\n",
    "\n",
    "그렇다면, 정상이 아닌 사람은? $\\mu=40$, $\\sigma=0.2$라고 구해졌다. "
   ]
  },
  {
   "cell_type": "code",
   "execution_count": 20,
   "metadata": {},
   "outputs": [
    {
     "data": {
      "text/plain": [
       "1.0594096267545113e-26"
      ]
     },
     "execution_count": 20,
     "metadata": {},
     "output_type": "execute_result"
    }
   ],
   "source": [
    "rv=sp.stats.norm(40, scale=0.2)\n",
    "rv.pdf(37.8)"
   ]
  },
  {
   "cell_type": "markdown",
   "metadata": {},
   "source": [
    "비정상인이 체온이 37.8일 확률밀도는 엄청 작아. "
   ]
  },
  {
   "cell_type": "markdown",
   "metadata": {},
   "source": [
    "이 과정을 할 수 있게 되면, 이제 다 구할 수 있는 것. "
   ]
  },
  {
   "cell_type": "code",
   "execution_count": null,
   "metadata": {},
   "outputs": [],
   "source": []
  },
  {
   "cell_type": "markdown",
   "metadata": {},
   "source": [
    "그럼, 데이터 보니깐 38.4도야. 정상인일까? 비정상인일까? <br>\n",
    "정상인이 38.4일 확률과 비정상인이 38.4일 확률을 비교해서 더 높은 놈 고르면 된다는 거야. "
   ]
  },
  {
   "cell_type": "code",
   "execution_count": null,
   "metadata": {},
   "outputs": [],
   "source": []
  },
  {
   "cell_type": "markdown",
   "metadata": {},
   "source": [
    "### 이차판별분석법(QDA)"
   ]
  },
  {
   "cell_type": "markdown",
   "metadata": {},
   "source": [
    "여기서 엄청 주의하는게, y가 k마다 다변수정규분포. <br>\n",
    "다변수정규분포에서 모수는 mu(평균벡터)와 sigma(공분산행렬)가 모수잖아. <br>\n",
    "***그 어떻게 생겼는지 모양/모수가, mu와 sigma가 class마다 다르다는 것이 중요하다.*** "
   ]
  },
  {
   "cell_type": "markdown",
   "metadata": {},
   "source": [
    "이차판별분석법에서는 독립변수 $x$가 실수이고 확률분포가 다변수 정규분포라고 가정한다. 단 $x$ 분포의 위치와 형태는 클래스에 따라 달라질 수 있다.\n",
    "\n",
    "$$\n",
    "p(x \\mid y = k) = \\dfrac{1}{(2\\pi)^{D/2} |\\Sigma_k|^{1/2}} \\exp \\left( -\\dfrac{1}{2} (x-\\mu_k)^T \\Sigma_k^{-1} (x-\\mu_k) \\right)\n",
    "$$\n",
    "\n",
    "이 분포들을 알고 있으면 독립변수 $x$에 대한 $y$ 클래스의 조건부확률분포는 다음과 같이 베이즈 정리와 전체 확률의 법칙으로 구할 수 있다.\n",
    "\n",
    "$$\n",
    "P(y=k \\mid x) = \\dfrac{p(x \\mid y = k)P(y=k)}{p(x)} = \\dfrac{p(x \\mid y = k)P(y=k)}{\\sum_l p(x \\mid y = l)P(y=l) }\n",
    "$$"
   ]
  },
  {
   "cell_type": "markdown",
   "metadata": {},
   "source": [
    "예를 들어 $y$가  1, 2, 3 이라는 3개의 클래스를 가지고 각 클래스에서의 $x$의 확률분포가 다음과 같은 기대값 및 공분산 행렬을 가진다고 가정하자.\n",
    "\n",
    "$$\n",
    "\\mu_1 = \\begin{bmatrix}  0 \\\\ 0 \\end{bmatrix}, \\;\\;\n",
    "\\mu_2 = \\begin{bmatrix}  1 \\\\ 1 \\end{bmatrix}, \\;\\;\n",
    "\\mu_3 = \\begin{bmatrix}-1  \\\\ 1 \\end{bmatrix}\n",
    "$$\n",
    "\n",
    "$$\n",
    "\\Sigma_1 = \\begin{bmatrix} 0.7 &   0 \\\\ 0   & 0.7 \\end{bmatrix}, \\;\\;\n",
    "\\Sigma_2 = \\begin{bmatrix} 0.8 & 0.2 \\\\ 0.2 & 0.8 \\end{bmatrix}, \\;\\;\n",
    "\\Sigma_3 = \\begin{bmatrix} 0.8 & 0.2 \\\\ 0.2 & 0.8 \\end{bmatrix}\n",
    "$$\n",
    "\n",
    "$y$의 사전 확률은 다음과 같이 동일하다\n",
    "\n",
    "$$\n",
    "P(Y=1) = P(Y=2) = P(Y=3) = \\dfrac{1}{3}\n",
    "$$"
   ]
  },
  {
   "cell_type": "code",
   "execution_count": 21,
   "metadata": {},
   "outputs": [
    {
     "data": {
      "image/png": "[encoded data removed]",
      "text/plain": [
       "<Figure size 432x288 with 1 Axes>"
      ]
     },
     "metadata": {
      "image/png": {
       "height": 270,
       "width": 386
      }
     },
     "output_type": "display_data"
    }
   ],
   "source": [
    "N = 100\n",
    "\n",
    "# 각 x1, x2라는 데이터는 class에 따라 서로 다른 다변수정규분포에서 나온 값. \n",
    "rv1 = sp.stats.multivariate_normal([ 0, 0], [[0.7, 0.0], [0.0, 0.7]])\n",
    "rv2 = sp.stats.multivariate_normal([ 1, 1], [[0.8, 0.2], [0.2, 0.8]])\n",
    "rv3 = sp.stats.multivariate_normal([-1, 1], [[0.8, 0.2], [0.2, 0.8]])\n",
    "np.random.seed(0)\n",
    "X1 = rv1.rvs(N)\n",
    "X2 = rv2.rvs(N)\n",
    "X3 = rv3.rvs(N)\n",
    "y1 = np.zeros(N)\n",
    "y2 = np.ones(N)\n",
    "y3 = 2 * np.ones(N)\n",
    "X = np.vstack([X1, X2, X3])\n",
    "y = np.hstack([y1, y2, y3])\n",
    "\n",
    "plt.scatter(X1[:, 0], X1[:, 1], alpha=0.8, s=50, marker=\"o\", color='r', label=\"class 1\")\n",
    "plt.scatter(X2[:, 0], X2[:, 1], alpha=0.8, s=50, marker=\"s\", color='g', label=\"class 2\")\n",
    "plt.scatter(X3[:, 0], X3[:, 1], alpha=0.8, s=50, marker=\"x\", color='b', label=\"class 3\")\n",
    "plt.xlim(-5, 5)\n",
    "plt.ylim(-4, 5)\n",
    "plt.xlabel(\"$x_1$\")\n",
    "plt.ylabel(\"$x_2$\")\n",
    "plt.legend()\n",
    "plt.show()"
   ]
  },
  {
   "cell_type": "code",
   "execution_count": 26,
   "metadata": {
    "collapsed": true
   },
   "outputs": [
    {
     "data": {
      "text/plain": [
       "array([[ 1.47591208,  0.33479554],\n",
       "       [ 0.81887095,  1.87486576],\n",
       "       [ 1.56251112, -0.81764934],\n",
       "       [ 0.794901  , -0.12663453],\n",
       "       [-0.08635909,  0.34353135],\n",
       "       [ 0.1205155 ,  1.21673251],\n",
       "       [ 0.63672984,  0.10180062],\n",
       "       [ 0.37136262,  0.27917197],\n",
       "       [ 1.25003624, -0.17164772],\n",
       "       [ 0.26193123, -0.71458776],\n",
       "       [-2.13598453,  0.54685655],\n",
       "       [ 0.72323921, -0.62093981],\n",
       "       [ 1.89901296, -1.21680962],\n",
       "       [ 0.03828432, -0.15660924],\n",
       "       [ 1.2824151 ,  1.22935375],\n",
       "       [ 0.12963832,  0.31639346],\n",
       "       [-0.74277485, -1.65725323],\n",
       "       [-0.29108419,  0.13081093],\n",
       "       [ 1.02933503,  1.00598316],\n",
       "       [-0.32406087, -0.25292463],\n",
       "       [-0.87728235, -1.18807224],\n",
       "       [-1.42756806,  1.63213579],\n",
       "       [-0.42640561, -0.36651926],\n",
       "       [-1.0481638 ,  0.6504951 ],\n",
       "       [-1.35028382, -0.17799129],\n",
       "       [-0.74920108,  0.32370585],\n",
       "       [-0.42737024, -0.98778775],\n",
       "       [-0.02357894,  0.35836815],\n",
       "       [ 0.0556523 ,  0.25306615],\n",
       "       [-0.53071194, -0.30349103],\n",
       "       [-0.56262078, -0.30082376],\n",
       "       [-0.68032699, -1.44431165],\n",
       "       [ 0.14844536, -0.33615405],\n",
       "       [-1.36392179,  0.38719141],\n",
       "       [-0.75910027,  0.04346064],\n",
       "       [ 0.61000093,  0.10791485],\n",
       "       [ 0.95329101, -1.0331294 ],\n",
       "       [ 0.33662317, -0.57295323],\n",
       "       [-0.72856117, -0.48430038],\n",
       "       [-0.26066355,  0.0469913 ],\n",
       "       [-0.9748343 ,  0.75368551],\n",
       "       [ 0.38960115, -1.28531368],\n",
       "       [ 1.24516112,  1.58621469],\n",
       "       [ 0.98623775, -0.15053592],\n",
       "       [-0.89585592,  0.88221761],\n",
       "       [-0.33732204,  1.02277093],\n",
       "       [ 0.17425535,  0.81711484],\n",
       "       [ 0.29815752,  0.59116153],\n",
       "       [ 0.00878495,  1.49416645],\n",
       "       [ 0.10618227,  0.33632843],\n",
       "       [ 1.57555691, -1.12761613],\n",
       "       [-1.06296401,  0.81105548],\n",
       "       [-0.98150546,  1.62615015],\n",
       "       [-0.34605847, -0.62536556],\n",
       "       [ 1.60884873,  1.23868754],\n",
       "       [ 1.56251193,  0.75805135],\n",
       "       [-0.7205531 ,  1.59807499],\n",
       "       [-0.22422771,  0.67138319],\n",
       "       [ 0.79252786, -0.12969075],\n",
       "       [ 0.51377566,  0.77157346],\n",
       "       [ 0.31494019, -0.91982469],\n",
       "       [ 0.24952396,  1.10973406],\n",
       "       [-0.58111716, -0.12519324],\n",
       "       [-0.36407558,  1.54720504],\n",
       "       [ 0.56248215,  0.34090703],\n",
       "       [-0.644158  ,  0.45116824],\n",
       "       [-0.56418718,  0.02663136],\n",
       "       [-0.531987  ,  0.5659447 ],\n",
       "       [ 0.48241049, -0.17427524],\n",
       "       [ 0.33132299, -0.91452087],\n",
       "       [-1.24767562,  0.36762147],\n",
       "       [ 0.13944905,  0.53130542],\n",
       "       [ 1.99388197,  0.79020823],\n",
       "       [-0.76372187,  0.93456288],\n",
       "       [-1.10096713, -0.38618939],\n",
       "       [-0.05709502,  1.43348537],\n",
       "       [-0.62310659, -0.69144809],\n",
       "       [-0.08237129, -0.55510576],\n",
       "       [ 0.94261124, -0.90353552],\n",
       "       [-0.96004115, -0.36630653],\n",
       "       [-0.41668384,  1.61436234],\n",
       "       [ 0.79434244,  0.07325062],\n",
       "       [-1.02527291,  0.70644475],\n",
       "       [-0.8368402 , -1.29244823],\n",
       "       [ 0.99397704,  0.26517321],\n",
       "       [ 0.77044577,  0.26666669],\n",
       "       [ 0.71687592, -0.54468709],\n",
       "       [-0.86530964,  0.57026289],\n",
       "       [-0.67218075, -0.57691874],\n",
       "       [-0.38112584,  0.01462411],\n",
       "       [-0.29617256, -1.15036679],\n",
       "       [-0.53848979, -1.86023254],\n",
       "       [ 0.52310616, -1.3403776 ],\n",
       "       [-0.92399339,  0.04364444],\n",
       "       [-0.6187628 ,  1.29097863],\n",
       "       [-1.0816817 ,  0.22343079],\n",
       "       [-0.03286636, -0.97729714],\n",
       "       [ 0.43780466, -0.14352596],\n",
       "       [ 0.6457263 ,  0.68899301],\n",
       "       [ 1.80989305,  1.11821951],\n",
       "       [ 1.39216436,  1.12993761],\n",
       "       [-0.13647948,  0.58132597],\n",
       "       [ 1.43300196, -0.33828464],\n",
       "       [ 1.42143734,  0.61296499],\n",
       "       [ 0.8558226 ,  0.74830424],\n",
       "       [ 0.18265875,  0.53015389],\n",
       "       [ 0.69945043,  0.18851391],\n",
       "       [ 1.89241782,  1.44323089],\n",
       "       [ 0.80436529,  1.21970521],\n",
       "       [-0.57442748, -0.62071788],\n",
       "       [ 1.86545722,  1.48645317],\n",
       "       [ 1.06409359,  1.59153012],\n",
       "       [ 2.054858  ,  2.12415804],\n",
       "       [ 0.76216237,  1.01650396],\n",
       "       [ 1.55268134,  1.29205114],\n",
       "       [ 2.27716555,  1.7367607 ],\n",
       "       [ 1.15598104,  1.61174103],\n",
       "       [ 1.38966462,  2.24542426],\n",
       "       [ 1.07701734, -1.19053765],\n",
       "       [ 0.32783176,  1.06934736],\n",
       "       [ 1.66833078,  1.23314131],\n",
       "       [ 1.25706754,  0.93085398],\n",
       "       [ 2.13649026,  0.30052007],\n",
       "       [-0.40615292,  0.77650999],\n",
       "       [ 2.37832907,  0.7719417 ],\n",
       "       [ 0.94692355,  0.31617943],\n",
       "       [ 1.07452733,  0.72472058],\n",
       "       [ 0.13047848,  0.89153804],\n",
       "       [ 2.27077447,  0.75537518],\n",
       "       [ 1.78498792,  2.45362503],\n",
       "       [ 2.11824519,  1.56305569],\n",
       "       [ 1.45044999,  1.39286541],\n",
       "       [ 2.26575829,  2.47255488],\n",
       "       [ 0.58112233,  0.67798388],\n",
       "       [ 1.16648145,  1.27317799],\n",
       "       [ 2.23644322, -0.80077997],\n",
       "       [-0.59670177, -0.16937594],\n",
       "       [ 1.67545652,  1.24718855],\n",
       "       [ 0.71446459,  0.58727909],\n",
       "       [ 1.30514145,  3.56668007],\n",
       "       [ 0.51939244,  1.63693566],\n",
       "       [ 0.64784477,  2.33086151],\n",
       "       [ 0.46404693,  1.13100194],\n",
       "       [ 1.07573415,  2.40247734],\n",
       "       [-0.20082565,  1.22527544],\n",
       "       [ 1.70759438,  1.18065557],\n",
       "       [-0.04852054, -1.2097097 ],\n",
       "       [ 0.47342991,  1.718832  ],\n",
       "       [ 0.61160113,  1.25019489],\n",
       "       [ 1.07976516,  1.48514107],\n",
       "       [ 1.01565842,  2.83204957],\n",
       "       [ 1.45610354,  0.71100565],\n",
       "       [ 0.78114262,  0.27644938],\n",
       "       [ 2.68109077,  1.20583566],\n",
       "       [ 0.59683027,  0.42202633],\n",
       "       [ 0.50423669,  1.68484587],\n",
       "       [ 2.19699486,  1.39657748],\n",
       "       [ 1.22047263,  1.32382962],\n",
       "       [ 1.18695431,  0.87268513],\n",
       "       [ 1.10234997,  0.98480293],\n",
       "       [ 1.95413174,  1.06354254],\n",
       "       [ 1.29386191,  0.31791333],\n",
       "       [ 1.98942326,  1.64732424],\n",
       "       [-0.12457095,  2.34754578],\n",
       "       [ 0.98165317,  2.01494352],\n",
       "       [ 1.12287003, -0.17955391],\n",
       "       [ 1.10166571, -0.19521056],\n",
       "       [ 2.54822384,  3.2124136 ],\n",
       "       [ 1.99461516,  2.48858912],\n",
       "       [ 0.57469534,  2.39264215],\n",
       "       [ 0.49277939, -0.00387987],\n",
       "       [ 2.15135222,  0.82139706],\n",
       "       [ 1.46533641,  1.15822235],\n",
       "       [ 1.17204704,  1.34370751],\n",
       "       [ 0.39940989,  0.78243716],\n",
       "       [ 2.32784217,  0.75282053],\n",
       "       [ 0.41275715, -0.34249659],\n",
       "       [ 1.74670837,  1.17577408],\n",
       "       [ 2.56504412,  2.04144983],\n",
       "       [ 0.99938364,  1.67895211],\n",
       "       [ 0.50405081,  0.50818161],\n",
       "       [ 0.15487721,  0.52729019],\n",
       "       [ 0.92294494,  1.09923292],\n",
       "       [ 1.35108036,  0.91854439],\n",
       "       [ 1.80715345,  0.57147895],\n",
       "       [ 1.34565397,  0.25774156],\n",
       "       [ 0.54151092,  0.26824273],\n",
       "       [ 0.69451622,  1.2354873 ],\n",
       "       [ 1.40537385, -0.31515789],\n",
       "       [ 0.66420915,  1.62839684],\n",
       "       [ 1.98861989,  2.41286439],\n",
       "       [ 3.15497483,  2.0348747 ],\n",
       "       [ 1.88010431,  0.06526384],\n",
       "       [ 2.50301856,  0.89070409],\n",
       "       [-0.25535863, -0.07545614],\n",
       "       [ 0.72082937,  0.47690102],\n",
       "       [ 2.13529336,  0.36453461],\n",
       "       [ 1.62344664,  0.78927372],\n",
       "       [-0.23165106,  1.01836341],\n",
       "       [-0.50398968,  0.42993417],\n",
       "       [ 0.03451421,  0.81211031],\n",
       "       [-1.73726235,  0.65303688],\n",
       "       [ 0.05584013,  2.44525093],\n",
       "       [-1.60822736,  0.45632238],\n",
       "       [-0.42678   ,  0.68848541],\n",
       "       [-0.41548674,  2.46119573],\n",
       "       [-0.65354812,  1.09070196],\n",
       "       [-2.6001356 ,  0.1496978 ],\n",
       "       [-1.34002333,  0.81559758],\n",
       "       [-3.01665653,  0.86705918],\n",
       "       [-1.97615691,  0.66163817],\n",
       "       [ 0.41334275,  2.54887332],\n",
       "       [-0.95946079,  1.14345981],\n",
       "       [-0.1662513 , -1.16741727],\n",
       "       [-0.74526829,  1.55039712],\n",
       "       [ 0.10618109,  0.55403821],\n",
       "       [-1.76609896,  0.53719901],\n",
       "       [-0.48575786,  1.85910711],\n",
       "       [-1.58384773,  0.42195007],\n",
       "       [-1.60894966,  0.47678006],\n",
       "       [-0.08549014,  0.64442832],\n",
       "       [-1.0456564 ,  1.16718085],\n",
       "       [-1.55626033,  0.31764576],\n",
       "       [-0.79510192,  0.14821856],\n",
       "       [-0.38613491,  1.49293967],\n",
       "       [-0.7035333 ,  2.19500318],\n",
       "       [-1.48034964,  0.82538445],\n",
       "       [-2.34661255,  1.86732974],\n",
       "       [ 0.5373161 ,  0.125758  ],\n",
       "       [-1.11320982,  0.83135678],\n",
       "       [-0.09793158,  0.82981403],\n",
       "       [-0.78876926,  1.40987704],\n",
       "       [-1.9658102 ,  2.6769004 ],\n",
       "       [ 0.11358743,  1.24477089],\n",
       "       [ 0.48055506,  2.75604244],\n",
       "       [ 0.72128627,  2.13034333],\n",
       "       [-0.41633748,  0.80619449],\n",
       "       [-2.7742209 ,  0.31508358],\n",
       "       [-1.44944994, -0.41609132],\n",
       "       [-2.06970742,  0.47363439],\n",
       "       [-2.10931325,  1.01838049],\n",
       "       [-0.12499901,  1.41018432],\n",
       "       [-0.15540501, -1.06448997],\n",
       "       [-2.37304746,  0.23287836],\n",
       "       [-1.08845944,  1.1530946 ],\n",
       "       [-0.0800539 ,  1.53660235],\n",
       "       [-2.48897443,  0.9329374 ],\n",
       "       [-2.8660281 , -0.94700852],\n",
       "       [-0.25267519,  1.18400973],\n",
       "       [-0.23749288,  1.67722151],\n",
       "       [-1.25187743,  0.71061203],\n",
       "       [-1.64694901,  0.09648043],\n",
       "       [-0.43594143,  0.92731086],\n",
       "       [ 1.01314869,  1.2957452 ],\n",
       "       [-0.87903094,  2.54661208],\n",
       "       [-2.38614344,  1.12005423],\n",
       "       [ 1.02027604,  0.86375575],\n",
       "       [-0.62956971,  1.56303031],\n",
       "       [-1.92662526,  1.22137071],\n",
       "       [-2.15551508,  1.75348292],\n",
       "       [-0.34247993,  0.6572919 ],\n",
       "       [ 0.67571047,  1.70189114],\n",
       "       [-0.68443112,  0.34202462],\n",
       "       [-2.43594069,  1.11118679],\n",
       "       [ 0.20229003,  3.14881191],\n",
       "       [ 0.36372913,  2.80354931],\n",
       "       [-1.90163743,  0.16940887],\n",
       "       [ 0.22553077,  1.58422302],\n",
       "       [-0.71516915,  1.08519169],\n",
       "       [-0.79634499,  1.08328446],\n",
       "       [-0.48899014,  0.18708376],\n",
       "       [-1.66045203,  2.00271975],\n",
       "       [-0.48491557,  1.02888635],\n",
       "       [-0.36067745, -1.1641238 ],\n",
       "       [-1.48925288, -0.18146876],\n",
       "       [-1.16867238,  0.93684237],\n",
       "       [-1.51985792,  0.18700672],\n",
       "       [-1.23142279,  2.19029604],\n",
       "       [ 0.66058585,  2.68286083],\n",
       "       [ 0.37025813,  1.53599628],\n",
       "       [-2.39774732, -0.44659916],\n",
       "       [-0.16213294, -0.11373727],\n",
       "       [-0.5921465 ,  1.62317134],\n",
       "       [-1.58873425,  1.08703111],\n",
       "       [-1.29475294,  1.28255125],\n",
       "       [-0.31868217, -0.32306237],\n",
       "       [-1.44676447,  1.39443047],\n",
       "       [-1.21781434,  0.3835983 ],\n",
       "       [ 0.18218863,  0.9571393 ],\n",
       "       [-1.52794423,  1.71328259],\n",
       "       [ 0.7415715 ,  2.01869633],\n",
       "       [-0.6239769 ,  2.23590099],\n",
       "       [-0.35026504,  1.13417723],\n",
       "       [-1.09054542,  1.39735844],\n",
       "       [ 0.94590219, -0.39098034],\n",
       "       [-1.62465325,  0.85629421],\n",
       "       [-0.25100974,  0.56148764],\n",
       "       [-1.45646196,  0.95896975],\n",
       "       [-0.54892785,  1.21365472],\n",
       "       [-0.24446276,  1.5599027 ]])"
      ]
     },
     "execution_count": 26,
     "metadata": {},
     "output_type": "execute_result"
    }
   ],
   "source": [
    "np.vstack([X1, X2, X3])"
   ]
  },
  {
   "cell_type": "code",
   "execution_count": 24,
   "metadata": {},
   "outputs": [
    {
     "data": {
      "text/plain": [
       "(300, 2)"
      ]
     },
     "execution_count": 24,
     "metadata": {},
     "output_type": "execute_result"
    }
   ],
   "source": [
    "X.shape"
   ]
  },
  {
   "cell_type": "code",
   "execution_count": 25,
   "metadata": {},
   "outputs": [
    {
     "data": {
      "text/plain": [
       "(300,)"
      ]
     },
     "execution_count": 25,
     "metadata": {},
     "output_type": "execute_result"
    }
   ],
   "source": [
    "y.shape"
   ]
  },
  {
   "cell_type": "markdown",
   "metadata": {},
   "source": [
    "이거 지금 우리한테 주어져있는 데이터만 보여준거야(라벨링 되있는 정답까지 보여준 것. 우리는 이 class를 맞춰야 돼). "
   ]
  },
  {
   "cell_type": "code",
   "execution_count": null,
   "metadata": {},
   "outputs": [],
   "source": []
  },
  {
   "cell_type": "markdown",
   "metadata": {},
   "source": [
    "Scikit-Learn은 이차판별분석법을 위한 `QuadraticDiscriminantAnalysis` 클래스를 제공한다. "
   ]
  },
  {
   "cell_type": "code",
   "execution_count": 2,
   "metadata": {},
   "outputs": [],
   "source": [
    "from sklearn.discriminant_analysis import QuadraticDiscriminantAnalysis\n",
    "\n",
    "qda = QuadraticDiscriminantAnalysis(store_covariance=True).fit(X, y)"
   ]
  },
  {
   "cell_type": "markdown",
   "metadata": {},
   "source": [
    "학습용 데이터에서 가능도를 추정한 후에는 다음과 같은 속성을 가지게 된다.\n",
    "\n",
    "* `priors_`: 각 클래스 $k$의 사전확률.\n",
    "* `means_`: 각 클래스 $k$에서 $x$의 기댓값 벡터 $\\mu_k$의 추정치 벡터.\n",
    "* `covariance_`: 각 클래스 $k$에서 $x$의 공분산 행렬 $\\Sigma_k$의 추정치 행렬. (생성자 인수 `store_covariance` 값이 True인 경우에만 제공)"
   ]
  },
  {
   "cell_type": "code",
   "execution_count": 3,
   "metadata": {
    "scrolled": true
   },
   "outputs": [
    {
     "data": {
      "text/plain": [
       "array([0.33333333, 0.33333333, 0.33333333])"
      ]
     },
     "execution_count": 3,
     "metadata": {},
     "output_type": "execute_result"
    }
   ],
   "source": [
    "qda.priors_"
   ]
  },
  {
   "cell_type": "code",
   "execution_count": 43,
   "metadata": {},
   "outputs": [
    {
     "data": {
      "text/plain": [
       "(array([-0.00080125,  0.1194572 ]),\n",
       " array([1.16303727, 1.03930605]),\n",
       " array([-0.8640604 ,  1.02295794]))"
      ]
     },
     "execution_count": 43,
     "metadata": {},
     "output_type": "execute_result"
    }
   ],
   "source": [
    "X1.mean(axis=0), X2.mean(axis=0), X3.mean(axis=0)"
   ]
  },
  {
   "cell_type": "code",
   "execution_count": 4,
   "metadata": {},
   "outputs": [
    {
     "data": {
      "text/plain": [
       "array([[-8.01254084e-04,  1.19457204e-01],\n",
       "       [ 1.16303727e+00,  1.03930605e+00],\n",
       "       [-8.64060404e-01,  1.02295794e+00]])"
      ]
     },
     "execution_count": 4,
     "metadata": {},
     "output_type": "execute_result"
    }
   ],
   "source": [
    "# mu1, mu2, mu3 모수 추정\n",
    "qda.means_"
   ]
  },
  {
   "cell_type": "code",
   "execution_count": 45,
   "metadata": {},
   "outputs": [
    {
     "data": {
      "text/plain": [
       "(array([[ 0.73846319, -0.01762041],\n",
       "        [-0.01762041,  0.72961278]]),\n",
       " array([[0.66534246, 0.21132313],\n",
       "        [0.21132313, 0.78806006]]),\n",
       " array([[0.9351386 , 0.22880955],\n",
       "        [0.22880955, 0.79142383]]))"
      ]
     },
     "execution_count": 45,
     "metadata": {},
     "output_type": "execute_result"
    }
   ],
   "source": [
    "np.cov(X1.T), np.cov(X2.T), np.cov(X3.T)"
   ]
  },
  {
   "cell_type": "code",
   "execution_count": 29,
   "metadata": {},
   "outputs": [
    {
     "data": {
      "text/plain": [
       "array([[ 0.73846319, -0.01762041],\n",
       "       [-0.01762041,  0.72961278]])"
      ]
     },
     "execution_count": 29,
     "metadata": {},
     "output_type": "execute_result"
    }
   ],
   "source": [
    "# 각 sig(공분산행렬) 모수 추정\n",
    "qda.covariance_[0]"
   ]
  },
  {
   "cell_type": "code",
   "execution_count": 30,
   "metadata": {},
   "outputs": [
    {
     "data": {
      "text/plain": [
       "array([[0.66534246, 0.21132313],\n",
       "       [0.21132313, 0.78806006]])"
      ]
     },
     "execution_count": 30,
     "metadata": {},
     "output_type": "execute_result"
    }
   ],
   "source": [
    "qda.covariance_[1]"
   ]
  },
  {
   "cell_type": "code",
   "execution_count": 31,
   "metadata": {},
   "outputs": [
    {
     "data": {
      "text/plain": [
       "array([[0.9351386 , 0.22880955],\n",
       "       [0.22880955, 0.79142383]])"
      ]
     },
     "execution_count": 31,
     "metadata": {},
     "output_type": "execute_result"
    }
   ],
   "source": [
    "qda.covariance_[2]"
   ]
  },
  {
   "cell_type": "code",
   "execution_count": null,
   "metadata": {},
   "outputs": [],
   "source": []
  },
  {
   "cell_type": "markdown",
   "metadata": {},
   "source": [
    "그럼, 각 class 별로 mu와 sigma를 다 추정했어?<br>\n",
    "그러면, likelihood를 알게 된 거잖아. "
   ]
  },
  {
   "cell_type": "markdown",
   "metadata": {},
   "source": [
    "예를 들어, class=1이면서, $x_1 = 2$, $x_2 = 1$일 확률을 구해보자. <br>\n",
    "$P(2, -1 | y=1)$을 구하라는 것. <br>\n",
    "그리고, $P(2, -1 | y=2)$, $P(2, -1 | y=3)$도 구해보자."
   ]
  },
  {
   "cell_type": "code",
   "execution_count": 55,
   "metadata": {},
   "outputs": [
    {
     "data": {
      "text/plain": [
       "(0.006562123656856293, 0.0034060346804690735, 1.5412251295785986e-05)"
      ]
     },
     "execution_count": 55,
     "metadata": {},
     "output_type": "execute_result"
    }
   ],
   "source": [
    "rv1 = sp.stats.multivariate_normal(qda.means_[0], qda.covariance_[0])\n",
    "rv2 = sp.stats.multivariate_normal(qda.means_[1], qda.covariance_[1])\n",
    "rv3 = sp.stats.multivariate_normal(qda.means_[2], qda.covariance_[2])\n",
    "\n",
    "\n",
    "rv1.pdf([2, -1]), rv2.pdf([2, -1]), rv3.pdf([2, -1])"
   ]
  },
  {
   "cell_type": "markdown",
   "metadata": {},
   "source": [
    "지금 우리는 가능도를 구한거야. 그러면, 이제 prior을 알아야지. "
   ]
  },
  {
   "cell_type": "markdown",
   "metadata": {},
   "source": [
    "현재는 prior $P(y=k)$. 현재 priors가 k갯수/n을 해서 구해 놓은 것. \n"
   ]
  },
  {
   "cell_type": "code",
   "execution_count": 57,
   "metadata": {},
   "outputs": [
    {
     "data": {
      "text/plain": [
       "array([0.33333333, 0.33333333, 0.33333333])"
      ]
     },
     "execution_count": 57,
     "metadata": {},
     "output_type": "execute_result"
    }
   ],
   "source": [
    "qda.priors_"
   ]
  },
  {
   "cell_type": "markdown",
   "metadata": {},
   "source": [
    "그럼 이제 두개 곱하면 posterior 계산할 수 있잖아. "
   ]
  },
  {
   "cell_type": "code",
   "execution_count": 59,
   "metadata": {},
   "outputs": [
    {
     "data": {
      "text/plain": [
       "(0.0021873745522854307, 0.001135344893489691, 5.137417098595329e-06)"
      ]
     },
     "execution_count": 59,
     "metadata": {},
     "output_type": "execute_result"
    }
   ],
   "source": [
    "rv1.pdf([2, -1])*qda.priors_[0], rv2.pdf([2, -1])*qda.priors_[1], rv3.pdf([2, -1])*qda.priors_[2]"
   ]
  },
  {
   "cell_type": "markdown",
   "metadata": {},
   "source": [
    "제일 큰거 고른게 우리의 추정.<br>\n",
    "그렇게 골라서 하단에 그림으로 표시해 놓은 것."
   ]
  },
  {
   "cell_type": "code",
   "execution_count": null,
   "metadata": {},
   "outputs": [],
   "source": []
  },
  {
   "cell_type": "markdown",
   "metadata": {},
   "source": [
    "이 확률분포를 사용하여 분류를 한 결과는 다음과 같다."
   ]
  },
  {
   "cell_type": "code",
   "execution_count": 77,
   "metadata": {},
   "outputs": [
    {
     "data": {
      "image/png": "[encoded data removed]",
      "text/plain": [
       "<Figure size 432x288 with 1 Axes>"
      ]
     },
     "metadata": {
      "image/png": {
       "height": 281,
       "width": 386
      }
     },
     "output_type": "display_data"
    }
   ],
   "source": [
    "x1min, x1max = -5, 5\n",
    "x2min, x2max = -4, 5\n",
    "XX1, XX2 = np.meshgrid(np.arange(x1min, x1max, (x1max-x1min)/1000),\n",
    "                       np.arange(x2min, x2max, (x2max-x2min)/1000))\n",
    "YY = np.reshape(qda.predict(np.array([XX1.ravel(), XX2.ravel()]).T), XX1.shape)\n",
    "cmap = mpl.colors.ListedColormap(sns.color_palette([\"r\", \"g\", \"b\"]).as_hex())\n",
    "plt.contourf(XX1, XX2, YY, cmap=cmap, alpha=0.5)\n",
    "plt.scatter(X1[:, 0], X1[:, 1], alpha=0.8, s=50, marker=\"o\", color='r', label=\"class 1\")\n",
    "plt.scatter(X2[:, 0], X2[:, 1], alpha=0.8, s=50, marker=\"s\", color='g', label=\"class 2\")\n",
    "plt.scatter(X3[:, 0], X3[:, 1], alpha=0.8, s=50, marker=\"x\", color='b', label=\"class 3\")\n",
    "plt.xlim(x1min, x1max)\n",
    "plt.ylim(x2min, x2max)\n",
    "plt.xlabel(\"$x_1$\")\n",
    "plt.ylabel(\"$x_2$\")\n",
    "plt.title(\"QDA results\")\n",
    "plt.legend()\n",
    "plt.show()"
   ]
  },
  {
   "cell_type": "code",
   "execution_count": 107,
   "metadata": {},
   "outputs": [
    {
     "data": {
      "text/plain": [
       "array([[-5.  , -4.99, -4.98, ...,  4.97,  4.98,  4.99],\n",
       "       [-5.  , -4.99, -4.98, ...,  4.97,  4.98,  4.99],\n",
       "       [-5.  , -4.99, -4.98, ...,  4.97,  4.98,  4.99],\n",
       "       ...,\n",
       "       [-5.  , -4.99, -4.98, ...,  4.97,  4.98,  4.99],\n",
       "       [-5.  , -4.99, -4.98, ...,  4.97,  4.98,  4.99],\n",
       "       [-5.  , -4.99, -4.98, ...,  4.97,  4.98,  4.99]])"
      ]
     },
     "execution_count": 107,
     "metadata": {},
     "output_type": "execute_result"
    }
   ],
   "source": [
    "XX1"
   ]
  },
  {
   "cell_type": "code",
   "execution_count": 108,
   "metadata": {},
   "outputs": [
    {
     "data": {
      "text/plain": [
       "array([[-4.   , -4.   , -4.   , ..., -4.   , -4.   , -4.   ],\n",
       "       [-3.991, -3.991, -3.991, ..., -3.991, -3.991, -3.991],\n",
       "       [-3.982, -3.982, -3.982, ..., -3.982, -3.982, -3.982],\n",
       "       ...,\n",
       "       [ 4.982,  4.982,  4.982, ...,  4.982,  4.982,  4.982],\n",
       "       [ 4.991,  4.991,  4.991, ...,  4.991,  4.991,  4.991],\n",
       "       [ 5.   ,  5.   ,  5.   , ...,  5.   ,  5.   ,  5.   ]])"
      ]
     },
     "execution_count": 108,
     "metadata": {},
     "output_type": "execute_result"
    }
   ],
   "source": [
    "XX2"
   ]
  },
  {
   "cell_type": "code",
   "execution_count": 106,
   "metadata": {},
   "outputs": [
    {
     "data": {
      "text/plain": [
       "array([1.])"
      ]
     },
     "execution_count": 106,
     "metadata": {},
     "output_type": "execute_result"
    }
   ],
   "source": [
    "qda.predict([[2, 3]])"
   ]
  },
  {
   "cell_type": "code",
   "execution_count": 105,
   "metadata": {},
   "outputs": [
    {
     "data": {
      "text/plain": [
       "array([[-5.  , -4.  ],\n",
       "       [-4.99, -4.  ],\n",
       "       [-4.98, -4.  ],\n",
       "       ...,\n",
       "       [ 4.97,  5.  ],\n",
       "       [ 4.98,  5.  ],\n",
       "       [ 4.99,  5.  ]])"
      ]
     },
     "execution_count": 105,
     "metadata": {},
     "output_type": "execute_result"
    }
   ],
   "source": []
  },
  {
   "cell_type": "code",
   "execution_count": 82,
   "metadata": {},
   "outputs": [
    {
     "data": {
      "text/plain": [
       "array([[-5.  , -4.99, -4.98, ...,  4.97,  4.98,  4.99],\n",
       "       [-5.  , -4.99, -4.98, ...,  4.97,  4.98,  4.99],\n",
       "       [-5.  , -4.99, -4.98, ...,  4.97,  4.98,  4.99],\n",
       "       ...,\n",
       "       [-5.  , -4.99, -4.98, ...,  4.97,  4.98,  4.99],\n",
       "       [-5.  , -4.99, -4.98, ...,  4.97,  4.98,  4.99],\n",
       "       [-5.  , -4.99, -4.98, ...,  4.97,  4.98,  4.99]])"
      ]
     },
     "execution_count": 82,
     "metadata": {},
     "output_type": "execute_result"
    }
   ],
   "source": [
    "XX1"
   ]
  },
  {
   "cell_type": "markdown",
   "metadata": {},
   "source": [
    "[등고선 그리는 방법](https://m31phy.tistory.com/220)"
   ]
  },
  {
   "cell_type": "code",
   "execution_count": 68,
   "metadata": {},
   "outputs": [],
   "source": [
    "XX3, XX4 = np.meshgrid([1, 2, 3],\n",
    "                       [4, 5, 6])"
   ]
  },
  {
   "cell_type": "code",
   "execution_count": 69,
   "metadata": {},
   "outputs": [
    {
     "data": {
      "text/plain": [
       "array([[1, 2, 3],\n",
       "       [1, 2, 3],\n",
       "       [1, 2, 3]])"
      ]
     },
     "execution_count": 69,
     "metadata": {},
     "output_type": "execute_result"
    }
   ],
   "source": [
    "XX3"
   ]
  },
  {
   "cell_type": "code",
   "execution_count": 70,
   "metadata": {},
   "outputs": [
    {
     "data": {
      "text/plain": [
       "array([[4, 4, 4],\n",
       "       [5, 5, 5],\n",
       "       [6, 6, 6]])"
      ]
     },
     "execution_count": 70,
     "metadata": {},
     "output_type": "execute_result"
    }
   ],
   "source": [
    "XX4"
   ]
  },
  {
   "cell_type": "code",
   "execution_count": null,
   "metadata": {},
   "outputs": [],
   "source": []
  },
  {
   "cell_type": "code",
   "execution_count": null,
   "metadata": {},
   "outputs": [],
   "source": []
  },
  {
   "cell_type": "markdown",
   "metadata": {},
   "source": [
    "#### 연습 문제 1\n",
    "\n",
    "이차판별분석법을 사용하여 붓꽃 분류문제를 풀고 성능을 분류결과표와 분류보고서를 출력하라. 그리고 각 클래스에 대한 ROC 커브를 그려라."
   ]
  },
  {
   "cell_type": "code",
   "execution_count": 113,
   "metadata": {},
   "outputs": [],
   "source": [
    "from sklearn.datasets import load_iris\n",
    "iris = load_iris()\n",
    "X1 = iris.data\n",
    "y1 = iris.target"
   ]
  },
  {
   "cell_type": "code",
   "execution_count": 116,
   "metadata": {},
   "outputs": [
    {
     "data": {
      "text/plain": [
       "(['sepal length (cm)',\n",
       "  'sepal width (cm)',\n",
       "  'petal length (cm)',\n",
       "  'petal width (cm)'],\n",
       " (150, 4))"
      ]
     },
     "execution_count": 116,
     "metadata": {},
     "output_type": "execute_result"
    }
   ],
   "source": [
    "iris.feature_names, X1.shape"
   ]
  },
  {
   "cell_type": "code",
   "execution_count": 117,
   "metadata": {},
   "outputs": [],
   "source": [
    "from sklearn.discriminant_analysis import QuadraticDiscriminantAnalysis\n",
    "\n",
    "qda = QuadraticDiscriminantAnalysis(store_covariance=True).fit(X1, y1)"
   ]
  },
  {
   "cell_type": "markdown",
   "metadata": {},
   "source": [
    "다변수정규분포 총 3개 만들게 된다. class 3개니깐. "
   ]
  },
  {
   "cell_type": "code",
   "execution_count": 119,
   "metadata": {},
   "outputs": [
    {
     "data": {
      "text/plain": [
       "array([[5.006, 3.428, 1.462, 0.246],\n",
       "       [5.936, 2.77 , 4.26 , 1.326],\n",
       "       [6.588, 2.974, 5.552, 2.026]])"
      ]
     },
     "execution_count": 119,
     "metadata": {},
     "output_type": "execute_result"
    }
   ],
   "source": [
    "qda.means_"
   ]
  },
  {
   "cell_type": "code",
   "execution_count": 120,
   "metadata": {},
   "outputs": [
    {
     "data": {
      "text/plain": [
       "[array([[0.12424898, 0.09921633, 0.0163551 , 0.01033061],\n",
       "        [0.09921633, 0.1436898 , 0.01169796, 0.00929796],\n",
       "        [0.0163551 , 0.01169796, 0.03015918, 0.00606939],\n",
       "        [0.01033061, 0.00929796, 0.00606939, 0.01110612]]),\n",
       " array([[0.26643265, 0.08518367, 0.18289796, 0.05577959],\n",
       "        [0.08518367, 0.09846939, 0.08265306, 0.04120408],\n",
       "        [0.18289796, 0.08265306, 0.22081633, 0.07310204],\n",
       "        [0.05577959, 0.04120408, 0.07310204, 0.03910612]]),\n",
       " array([[0.40434286, 0.09376327, 0.3032898 , 0.04909388],\n",
       "        [0.09376327, 0.10400408, 0.07137959, 0.04762857],\n",
       "        [0.3032898 , 0.07137959, 0.30458776, 0.04882449],\n",
       "        [0.04909388, 0.04762857, 0.04882449, 0.07543265]])]"
      ]
     },
     "execution_count": 120,
     "metadata": {},
     "output_type": "execute_result"
    }
   ],
   "source": [
    "qda.covariance_"
   ]
  },
  {
   "cell_type": "code",
   "execution_count": 121,
   "metadata": {
    "scrolled": true
   },
   "outputs": [
    {
     "data": {
      "text/plain": [
       "array([0, 0, 0, 0, 0, 0, 0, 0, 0, 0, 0, 0, 0, 0, 0, 0, 0, 0, 0, 0, 0, 0,\n",
       "       0, 0, 0, 0, 0, 0, 0, 0, 0, 0, 0, 0, 0, 0, 0, 0, 0, 0, 0, 0, 0, 0,\n",
       "       0, 0, 0, 0, 0, 0, 1, 1, 1, 1, 1, 1, 1, 1, 1, 1, 1, 1, 1, 1, 1, 1,\n",
       "       1, 1, 1, 1, 2, 1, 1, 1, 1, 1, 1, 1, 1, 1, 1, 1, 1, 2, 1, 1, 1, 1,\n",
       "       1, 1, 1, 1, 1, 1, 1, 1, 1, 1, 1, 1, 2, 2, 2, 2, 2, 2, 2, 2, 2, 2,\n",
       "       2, 2, 2, 2, 2, 2, 2, 2, 2, 2, 2, 2, 2, 2, 2, 2, 2, 2, 2, 2, 2, 2,\n",
       "       2, 1, 2, 2, 2, 2, 2, 2, 2, 2, 2, 2, 2, 2, 2, 2, 2, 2])"
      ]
     },
     "execution_count": 121,
     "metadata": {},
     "output_type": "execute_result"
    }
   ],
   "source": [
    "qda.predict(X1)"
   ]
  },
  {
   "cell_type": "code",
   "execution_count": 126,
   "metadata": {},
   "outputs": [
    {
     "data": {
      "text/plain": [
       "array([[50,  0,  0],\n",
       "       [ 0, 48,  2],\n",
       "       [ 0,  1, 49]])"
      ]
     },
     "execution_count": 126,
     "metadata": {},
     "output_type": "execute_result"
    }
   ],
   "source": [
    "confusion_matrix(y1, qda.predict(X1))"
   ]
  },
  {
   "cell_type": "code",
   "execution_count": 123,
   "metadata": {},
   "outputs": [
    {
     "name": "stdout",
     "output_type": "stream",
     "text": [
      "              precision    recall  f1-score   support\n",
      "\n",
      "           0       1.00      1.00      1.00        50\n",
      "           1       0.98      0.96      0.97        50\n",
      "           2       0.96      0.98      0.97        50\n",
      "\n",
      "    accuracy                           0.98       150\n",
      "   macro avg       0.98      0.98      0.98       150\n",
      "weighted avg       0.98      0.98      0.98       150\n",
      "\n"
     ]
    }
   ],
   "source": [
    "from sklearn.metrics import classification_report\n",
    "\n",
    "print(classification_report(y1, qda.predict(X1)))"
   ]
  },
  {
   "cell_type": "code",
   "execution_count": 125,
   "metadata": {},
   "outputs": [
    {
     "name": "stderr",
     "output_type": "stream",
     "text": [
      "/Users/sanghyuk/anaconda/envs/py38/lib/python3.8/site-packages/sklearn/utils/validation.py:67: FutureWarning: Pass classes=[0, 1, 2] as keyword args. From version 0.25 passing these as positional arguments will result in an error\n",
      "  warnings.warn(\"Pass {} as keyword args. From version 0.25 \"\n"
     ]
    }
   ],
   "source": [
    "from sklearn.preprocessing import label_binarize\n",
    "\n",
    "y1_vec = label_binarize(y1, [0, 1, 2])\n",
    "\n",
    "from sklearn.metrics import roc_curve"
   ]
  },
  {
   "cell_type": "code",
   "execution_count": 131,
   "metadata": {
    "collapsed": true
   },
   "outputs": [
    {
     "data": {
      "text/plain": [
       "array([[1.00000000e+000, 4.91851689e-026, 2.98154146e-041],\n",
       "       [1.00000000e+000, 7.65580771e-019, 1.31103176e-034],\n",
       "       [1.00000000e+000, 1.55227924e-021, 3.38044010e-036],\n",
       "       [1.00000000e+000, 8.30039554e-019, 8.54185774e-032],\n",
       "       [1.00000000e+000, 3.36561380e-027, 2.01014681e-041],\n",
       "       [1.00000000e+000, 1.47253294e-026, 1.27192771e-040],\n",
       "       [1.00000000e+000, 2.63301868e-021, 2.51056687e-034],\n",
       "       [1.00000000e+000, 1.13567432e-023, 6.53870712e-038],\n",
       "       [1.00000000e+000, 1.30942413e-016, 8.35500744e-030],\n",
       "       [1.00000000e+000, 8.24712823e-021, 5.76072745e-035],\n",
       "       [1.00000000e+000, 5.96747292e-029, 2.19584458e-044],\n",
       "       [1.00000000e+000, 2.13646184e-022, 1.08151318e-034],\n",
       "       [1.00000000e+000, 5.25557083e-020, 9.12359712e-035],\n",
       "       [1.00000000e+000, 4.44354674e-020, 3.83745348e-034],\n",
       "       [1.00000000e+000, 7.19912809e-037, 7.40303308e-056],\n",
       "       [1.00000000e+000, 1.49441544e-037, 1.26431454e-052],\n",
       "       [1.00000000e+000, 4.63421383e-030, 1.43979620e-046],\n",
       "       [1.00000000e+000, 2.06795545e-024, 6.20304813e-040],\n",
       "       [1.00000000e+000, 1.88976874e-027, 3.20464865e-043],\n",
       "       [1.00000000e+000, 7.24511749e-028, 1.29178592e-041],\n",
       "       [1.00000000e+000, 2.02702079e-022, 2.14189622e-037],\n",
       "       [1.00000000e+000, 1.50728212e-024, 6.80725900e-039],\n",
       "       [1.00000000e+000, 2.69669196e-027, 6.98565615e-042],\n",
       "       [1.00000000e+000, 1.00348255e-015, 5.34396379e-030],\n",
       "       [1.00000000e+000, 1.20823630e-019, 1.92604903e-029],\n",
       "       [1.00000000e+000, 2.02759970e-017, 2.93042726e-032],\n",
       "       [1.00000000e+000, 1.88756947e-019, 1.39997188e-033],\n",
       "       [1.00000000e+000, 1.64177622e-025, 1.49099978e-040],\n",
       "       [1.00000000e+000, 9.02481858e-025, 5.73290170e-041],\n",
       "       [1.00000000e+000, 1.49354315e-019, 5.20731561e-032],\n",
       "       [1.00000000e+000, 1.68493284e-018, 7.22896518e-032],\n",
       "       [1.00000000e+000, 2.93391362e-021, 3.40671105e-038],\n",
       "       [1.00000000e+000, 9.10713243e-037, 3.43241666e-048],\n",
       "       [1.00000000e+000, 2.73268455e-038, 7.66168096e-053],\n",
       "       [1.00000000e+000, 1.96401875e-019, 3.82837292e-034],\n",
       "       [1.00000000e+000, 8.25121506e-023, 6.09245894e-040],\n",
       "       [1.00000000e+000, 2.35398343e-027, 9.03678743e-046],\n",
       "       [1.00000000e+000, 1.40000661e-028, 1.60095494e-041],\n",
       "       [1.00000000e+000, 3.15381784e-018, 8.40855541e-032],\n",
       "       [1.00000000e+000, 7.17596208e-024, 1.06152230e-038],\n",
       "       [1.00000000e+000, 9.14159109e-025, 2.40736205e-040],\n",
       "       [1.00000000e+000, 3.89658546e-010, 9.31579454e-026],\n",
       "       [1.00000000e+000, 1.92444720e-020, 2.26569856e-033],\n",
       "       [1.00000000e+000, 8.42745654e-017, 3.12568944e-030],\n",
       "       [1.00000000e+000, 6.22722774e-022, 2.32591927e-033],\n",
       "       [1.00000000e+000, 2.65696503e-017, 1.30101241e-032],\n",
       "       [1.00000000e+000, 5.75326616e-029, 2.37965767e-041],\n",
       "       [1.00000000e+000, 1.18893567e-020, 4.97179324e-034],\n",
       "       [1.00000000e+000, 9.24457061e-029, 1.37366580e-043],\n",
       "       [1.00000000e+000, 5.40881752e-023, 2.33885374e-038],\n",
       "       [3.03934001e-090, 9.99956069e-001, 4.39307588e-005],\n",
       "       [6.91955431e-082, 9.99649822e-001, 3.50178316e-004],\n",
       "       [2.80744640e-102, 9.98386057e-001, 1.61394343e-003],\n",
       "       [7.24221706e-063, 9.97221419e-001, 2.77858118e-003],\n",
       "       [1.75567847e-090, 9.97343757e-001, 2.65624318e-003],\n",
       "       [1.30246285e-077, 9.88827725e-001, 1.11722753e-002],\n",
       "       [6.76868328e-092, 9.94709436e-001, 5.29056366e-003],\n",
       "       [2.43741509e-033, 9.99993897e-001, 6.10312608e-006],\n",
       "       [9.96118220e-085, 9.99786749e-001, 2.13250554e-004],\n",
       "       [2.47522222e-059, 9.93655926e-001, 6.34407398e-003],\n",
       "       [2.07035107e-041, 9.99937846e-001, 6.21539827e-005],\n",
       "       [4.75913651e-071, 9.98549588e-001, 1.45041184e-003],\n",
       "       [6.22657634e-060, 9.99986035e-001, 1.39651971e-005],\n",
       "       [6.98490558e-089, 9.88480093e-001, 1.15199070e-002],\n",
       "       [7.84235904e-046, 9.99989292e-001, 1.07084527e-005],\n",
       "       [1.60346043e-077, 9.99986892e-001, 1.31084829e-005],\n",
       "       [5.60132204e-082, 9.73369489e-001, 2.66305108e-002],\n",
       "       [9.11522085e-057, 9.99866683e-001, 1.33316597e-004],\n",
       "       [3.74640367e-090, 8.13090636e-001, 1.86909364e-001],\n",
       "       [1.18606438e-053, 9.99964274e-001, 3.57258782e-005],\n",
       "       [1.05272330e-103, 3.35944183e-001, 6.64055817e-001],\n",
       "       [8.72387125e-061, 9.99989805e-001, 1.01952503e-005],\n",
       "       [5.63451155e-105, 6.99318719e-001, 3.00681281e-001],\n",
       "       [2.49926281e-084, 9.72109076e-001, 2.78909241e-002],\n",
       "       [7.08952682e-072, 9.99979411e-001, 2.05890902e-005],\n",
       "       [3.53577539e-078, 9.99967778e-001, 3.22219219e-005],\n",
       "       [3.30101676e-098, 9.98465710e-001, 1.53429049e-003],\n",
       "       [1.20548271e-112, 8.60998588e-001, 1.39001412e-001],\n",
       "       [1.79969682e-083, 9.92145149e-001, 7.85485081e-003],\n",
       "       [1.11215323e-038, 9.99999911e-001, 8.90306383e-008],\n",
       "       [5.49312387e-051, 9.99970127e-001, 2.98734477e-005],\n",
       "       [9.49036355e-046, 9.99994101e-001, 5.89879234e-006],\n",
       "       [7.04819685e-055, 9.99988584e-001, 1.14158300e-005],\n",
       "       [4.10200927e-114, 1.54348331e-001, 8.45651669e-001],\n",
       "       [6.55677337e-082, 9.43428575e-001, 5.65714253e-002],\n",
       "       [1.91076804e-082, 9.95999923e-001, 4.00007681e-003],\n",
       "       [1.77873671e-092, 9.99393125e-001, 6.06875003e-004],\n",
       "       [2.00261060e-081, 9.98897652e-001, 1.10234781e-003],\n",
       "       [3.20250815e-061, 9.99764261e-001, 2.35738842e-004],\n",
       "       [1.70943415e-061, 9.98944289e-001, 1.05571127e-003],\n",
       "       [3.71266732e-072, 9.80652558e-001, 1.93474416e-002],\n",
       "       [6.95455048e-084, 9.96970204e-001, 3.02979552e-003],\n",
       "       [3.95060919e-059, 9.99959477e-001, 4.05233412e-005],\n",
       "       [4.28567455e-034, 9.99996230e-001, 3.76978251e-006],\n",
       "       [3.78388704e-067, 9.98638081e-001, 1.36191858e-003],\n",
       "       [5.47230325e-062, 9.99727307e-001, 2.72693124e-004],\n",
       "       [1.00830330e-065, 9.99574802e-001, 4.25197771e-004],\n",
       "       [6.13353337e-071, 9.99932627e-001, 6.73728522e-005],\n",
       "       [1.67952913e-027, 9.99999304e-001, 6.95559090e-007],\n",
       "       [4.62188647e-063, 9.99759688e-001, 2.40311677e-004],\n",
       "       [6.28308974e-199, 3.35773072e-009, 9.99999997e-001],\n",
       "       [6.15334255e-126, 4.56214944e-004, 9.99543785e-001],\n",
       "       [1.24814966e-177, 5.41104857e-005, 9.99945890e-001],\n",
       "       [1.21083825e-145, 5.84233387e-003, 9.94157666e-001],\n",
       "       [3.16683483e-174, 2.60911336e-006, 9.99997391e-001],\n",
       "       [4.41194373e-224, 1.94040064e-006, 9.99998060e-001],\n",
       "       [2.47595563e-093, 3.87820157e-003, 9.96121798e-001],\n",
       "       [1.03584813e-192, 4.43284365e-005, 9.99955672e-001],\n",
       "       [2.31273142e-163, 1.29720572e-004, 9.99870279e-001],\n",
       "       [2.63792952e-203, 6.57738114e-008, 9.99999934e-001],\n",
       "       [6.65095013e-127, 6.05160570e-003, 9.93948394e-001],\n",
       "       [5.54046602e-137, 9.50792539e-004, 9.99049207e-001],\n",
       "       [1.31833568e-154, 6.45339470e-005, 9.99935466e-001],\n",
       "       [6.94358923e-128, 1.57803511e-006, 9.99998422e-001],\n",
       "       [2.08376906e-153, 3.09624843e-013, 1.00000000e+000],\n",
       "       [1.08641115e-152, 6.51767589e-008, 9.99999935e-001],\n",
       "       [4.91649789e-140, 3.31035136e-002, 9.66896486e-001],\n",
       "       [1.08522270e-223, 2.59510608e-004, 9.99740489e-001],\n",
       "       [1.80671872e-259, 1.43838553e-010, 1.00000000e+000],\n",
       "       [4.27836871e-111, 4.11013085e-002, 9.58898691e-001],\n",
       "       [1.35194277e-173, 5.18494105e-007, 9.99999482e-001],\n",
       "       [2.88681275e-121, 2.50228484e-005, 9.99974977e-001],\n",
       "       [5.00938681e-231, 2.91278742e-007, 9.99999709e-001],\n",
       "       [2.20541695e-113, 2.80877990e-002, 9.71912201e-001],\n",
       "       [3.62911272e-161, 8.95576862e-004, 9.99104423e-001],\n",
       "       [3.48865088e-169, 7.34632401e-003, 9.92653676e-001],\n",
       "       [1.22141282e-107, 5.66460401e-002, 9.43353960e-001],\n",
       "       [5.99794773e-110, 1.51143870e-001, 8.48856130e-001],\n",
       "       [2.17867081e-160, 5.96214310e-006, 9.99994038e-001],\n",
       "       [5.18264587e-154, 1.98154060e-002, 9.80184594e-001],\n",
       "       [4.09909460e-186, 1.51828865e-004, 9.99848171e-001],\n",
       "       [3.96133688e-197, 9.23421764e-003, 9.90765782e-001],\n",
       "       [1.48454192e-165, 1.83495222e-007, 9.99999817e-001],\n",
       "       [4.55066994e-111, 6.04961132e-001, 3.95038868e-001],\n",
       "       [1.91324993e-135, 2.15723326e-004, 9.99784277e-001],\n",
       "       [3.62718383e-203, 1.21272236e-007, 9.99999879e-001],\n",
       "       [2.74230249e-171, 5.38491028e-008, 9.99999946e-001],\n",
       "       [1.47335659e-138, 5.01901525e-002, 9.49809848e-001],\n",
       "       [1.85771601e-105, 1.40718867e-001, 8.59281133e-001],\n",
       "       [9.99427354e-149, 1.88999026e-004, 9.99811001e-001],\n",
       "       [7.82424421e-175, 1.04302494e-009, 9.99999999e-001],\n",
       "       [2.21256284e-145, 6.09200446e-009, 9.99999994e-001],\n",
       "       [6.15334255e-126, 4.56214944e-004, 9.99543785e-001],\n",
       "       [6.98453512e-184, 9.34123810e-007, 9.99999066e-001],\n",
       "       [4.83073094e-184, 1.84454959e-010, 1.00000000e+000],\n",
       "       [1.31349682e-150, 3.16817863e-009, 9.99999997e-001],\n",
       "       [1.79534307e-124, 1.65796279e-004, 9.99834204e-001],\n",
       "       [7.99355624e-134, 1.06795855e-003, 9.98932041e-001],\n",
       "       [1.81418261e-155, 1.17192114e-006, 9.99998828e-001],\n",
       "       [7.14615387e-119, 6.08206574e-002, 9.39179343e-001]])"
      ]
     },
     "execution_count": 131,
     "metadata": {},
     "output_type": "execute_result"
    }
   ],
   "source": [
    "# 1, 2, 3열이 각각 1, 2, 3일 확률\n",
    "qda.predict_proba(X1)"
   ]
  },
  {
   "cell_type": "code",
   "execution_count": 147,
   "metadata": {
    "scrolled": true
   },
   "outputs": [
    {
     "name": "stderr",
     "output_type": "stream",
     "text": [
      "/Users/sanghyuk/anaconda/envs/py38/lib/python3.8/site-packages/sklearn/utils/validation.py:67: FutureWarning: Pass classes=[0, 1, 2] as keyword args. From version 0.25 passing these as positional arguments will result in an error\n",
      "  warnings.warn(\"Pass {} as keyword args. From version 0.25 \"\n"
     ]
    },
    {
     "data": {
      "image/png": "[encoded data removed]",
      "text/plain": [
       "<Figure size 432x288 with 1 Axes>"
      ]
     },
     "metadata": {
      "image/png": {
       "height": 251,
       "width": 374
      }
     },
     "output_type": "display_data"
    }
   ],
   "source": [
    "from sklearn.preprocessing import label_binarize\n",
    "\n",
    "# answer\n",
    "y1_vec = label_binarize(y1, [0, 1, 2])\n",
    "\n",
    "from sklearn.metrics import roc_curve\n",
    "\n",
    "for i in range(3):\n",
    "    # binary model\n",
    "    model = QuadraticDiscriminantAnalysis().fit(X1, y1_vec[:, i])\n",
    "    fpr, tpr, thr = roc_curve(y1_vec[:, i], model.predict_proba(X1)[:, 1])\n",
    "    plt.plot(fpr, tpr)\n",
    "\n",
    "plt.show()"
   ]
  },
  {
   "cell_type": "code",
   "execution_count": 141,
   "metadata": {
    "collapsed": true
   },
   "outputs": [
    {
     "name": "stdout",
     "output_type": "stream",
     "text": [
      "[[1.00000000e+00 1.25181995e-24]\n",
      " [1.00000000e+00 1.94693278e-17]\n",
      " [1.00000000e+00 3.02553698e-20]\n",
      " [1.00000000e+00 1.86107755e-17]\n",
      " [1.00000000e+00 8.29537132e-26]\n",
      " [1.00000000e+00 1.64518684e-25]\n",
      " [1.00000000e+00 2.39102605e-20]\n",
      " [1.00000000e+00 2.86512726e-22]\n",
      " [1.00000000e+00 2.85795424e-15]\n",
      " [1.00000000e+00 8.68813022e-20]\n",
      " [1.00000000e+00 1.18003453e-27]\n",
      " [1.00000000e+00 3.90000843e-21]\n",
      " [1.00000000e+00 7.83351654e-19]\n",
      " [1.00000000e+00 1.19793998e-19]\n",
      " [1.00000000e+00 2.96367223e-36]\n",
      " [1.00000000e+00 4.40297000e-36]\n",
      " [1.00000000e+00 4.05216730e-29]\n",
      " [1.00000000e+00 5.13070310e-23]\n",
      " [1.00000000e+00 1.32188224e-26]\n",
      " [1.00000000e+00 1.87623182e-26]\n",
      " [1.00000000e+00 6.56757593e-22]\n",
      " [1.00000000e+00 1.70248924e-23]\n",
      " [1.00000000e+00 6.38979922e-28]\n",
      " [1.00000000e+00 9.77539683e-16]\n",
      " [1.00000000e+00 1.66329174e-19]\n",
      " [1.00000000e+00 1.96035966e-16]\n",
      " [1.00000000e+00 1.50482875e-18]\n",
      " [1.00000000e+00 3.63155884e-24]\n",
      " [1.00000000e+00 1.94034825e-23]\n",
      " [1.00000000e+00 2.50332551e-18]\n",
      " [1.00000000e+00 2.66652169e-17]\n",
      " [1.00000000e+00 2.89946249e-20]\n",
      " [1.00000000e+00 1.10771874e-35]\n",
      " [1.00000000e+00 6.55175343e-37]\n",
      " [1.00000000e+00 4.42181363e-18]\n",
      " [1.00000000e+00 1.13777409e-21]\n",
      " [1.00000000e+00 2.23137043e-26]\n",
      " [1.00000000e+00 1.73707077e-27]\n",
      " [1.00000000e+00 4.61560217e-17]\n",
      " [1.00000000e+00 1.65186548e-22]\n",
      " [1.00000000e+00 1.43967728e-23]\n",
      " [9.99999991e-01 9.34335978e-09]\n",
      " [1.00000000e+00 1.67498996e-19]\n",
      " [1.00000000e+00 1.04608686e-17]\n",
      " [1.00000000e+00 9.50209389e-22]\n",
      " [1.00000000e+00 6.04601608e-16]\n",
      " [1.00000000e+00 1.34157300e-27]\n",
      " [1.00000000e+00 2.52555723e-19]\n",
      " [1.00000000e+00 2.19876347e-27]\n",
      " [1.00000000e+00 1.40505966e-21]\n",
      " [2.64344449e-01 7.35655551e-01]\n",
      " [3.06315860e-01 6.93684140e-01]\n",
      " [1.66075682e-01 8.33924318e-01]\n",
      " [6.89622313e-02 9.31037769e-01]\n",
      " [1.17806098e-01 8.82193902e-01]\n",
      " [1.00307842e-01 8.99692158e-01]\n",
      " [3.29802193e-01 6.70197807e-01]\n",
      " [8.70255326e-02 9.12974467e-01]\n",
      " [1.09990471e-01 8.90009529e-01]\n",
      " [1.99956646e-01 8.00043354e-01]\n",
      " [1.70152538e-02 9.82984746e-01]\n",
      " [3.45509135e-01 6.54490865e-01]\n",
      " [1.25490597e-02 9.87450940e-01]\n",
      " [1.29122946e-01 8.70877054e-01]\n",
      " [6.18385125e-01 3.81614875e-01]\n",
      " [2.33097580e-01 7.66902420e-01]\n",
      " [1.27101461e-01 8.72898539e-01]\n",
      " [3.23015240e-01 6.76984760e-01]\n",
      " [3.39724644e-01 6.60275356e-01]\n",
      " [4.56696170e-02 9.54330383e-01]\n",
      " [7.26251882e-01 2.73748118e-01]\n",
      " [1.32458502e-01 8.67541498e-01]\n",
      " [3.06099682e-01 6.93900318e-01]\n",
      " [3.15397476e-01 6.84602524e-01]\n",
      " [1.10483559e-01 8.89516441e-01]\n",
      " [1.48908280e-01 8.51091720e-01]\n",
      " [6.79981794e-02 9.32001821e-01]\n",
      " [4.48905228e-01 5.51094772e-01]\n",
      " [1.64563641e-01 8.35436359e-01]\n",
      " [2.01017821e-01 7.98982179e-01]\n",
      " [3.31032852e-02 9.66896715e-01]\n",
      " [4.52535815e-02 9.54746418e-01]\n",
      " [9.06470785e-02 9.09352921e-01]\n",
      " [6.43125424e-01 3.56874576e-01]\n",
      " [9.95055133e-02 9.00494487e-01]\n",
      " [4.37608487e-01 5.62391513e-01]\n",
      " [1.79560535e-01 8.20439465e-01]\n",
      " [2.31696680e-02 9.76830332e-01]\n",
      " [1.63502215e-01 8.36497785e-01]\n",
      " [6.77713387e-02 9.32228661e-01]\n",
      " [9.74514519e-02 9.02548548e-01]\n",
      " [1.34896148e-01 8.65103852e-01]\n",
      " [5.14124978e-02 9.48587502e-01]\n",
      " [5.79741816e-02 9.42025818e-01]\n",
      " [6.80417944e-02 9.31958206e-01]\n",
      " [2.33579070e-01 7.66420930e-01]\n",
      " [1.09936734e-01 8.90063266e-01]\n",
      " [1.15884633e-01 8.84115367e-01]\n",
      " [6.67086262e-01 3.32913738e-01]\n",
      " [9.63719285e-02 9.03628071e-01]\n",
      " [9.99999995e-01 4.84436828e-09]\n",
      " [9.98088534e-01 1.91146647e-03]\n",
      " [9.99758963e-01 2.41037294e-04]\n",
      " [9.70414482e-01 2.95855176e-02]\n",
      " [9.99993485e-01 6.51519010e-06]\n",
      " [9.99990488e-01 9.51226821e-06]\n",
      " [9.64423890e-01 3.55761103e-02]\n",
      " [9.99362882e-01 6.37117871e-04]\n",
      " [9.99440911e-01 5.59088909e-04]\n",
      " [9.99999709e-01 2.90711967e-07]\n",
      " [9.93254684e-01 6.74531603e-03]\n",
      " [9.96924409e-01 3.07559070e-03]\n",
      " [9.99758756e-01 2.41243793e-04]\n",
      " [9.99994335e-01 5.66520765e-06]\n",
      " [1.00000000e+00 3.02875068e-12]\n",
      " [9.99999559e-01 4.40996132e-07]\n",
      " [8.94848741e-01 1.05151259e-01]\n",
      " [9.98689160e-01 1.31084008e-03]\n",
      " [1.00000000e+00 2.00371182e-11]\n",
      " [8.80715890e-01 1.19284110e-01]\n",
      " [9.99997543e-01 2.45707940e-06]\n",
      " [9.99834652e-01 1.65348123e-04]\n",
      " [9.99997825e-01 2.17537507e-06]\n",
      " [9.63143899e-01 3.68561008e-02]\n",
      " [9.96810202e-01 3.18979785e-03]\n",
      " [9.57574801e-01 4.24251995e-02]\n",
      " [9.50145923e-01 4.98540771e-02]\n",
      " [8.48737195e-01 1.51262805e-01]\n",
      " [9.99983609e-01 1.63906762e-05]\n",
      " [8.98697663e-01 1.01302337e-01]\n",
      " [9.98416438e-01 1.58356220e-03]\n",
      " [9.75456758e-01 2.45432418e-02]\n",
      " [9.99999544e-01 4.55761020e-07]\n",
      " [3.50930715e-01 6.49069285e-01]\n",
      " [9.95009668e-01 4.99033165e-03]\n",
      " [9.99998701e-01 1.29892503e-06]\n",
      " [9.99999591e-01 4.09297011e-07]\n",
      " [8.38054087e-01 1.61945913e-01]\n",
      " [8.73894714e-01 1.26105286e-01]\n",
      " [9.99480763e-01 5.19236883e-04]\n",
      " [9.99999994e-01 6.16389607e-09]\n",
      " [9.99999966e-01 3.37935183e-08]\n",
      " [9.98088534e-01 1.91146647e-03]\n",
      " [9.99996918e-01 3.08169151e-06]\n",
      " [9.99999999e-01 1.23137952e-09]\n",
      " [9.99999976e-01 2.40592528e-08]\n",
      " [9.99504148e-01 4.95852150e-04]\n",
      " [9.97493743e-01 2.50625727e-03]\n",
      " [9.99990355e-01 9.64488857e-06]\n",
      " [8.13525735e-01 1.86474265e-01]]\n"
     ]
    },
    {
     "name": "stderr",
     "output_type": "stream",
     "text": [
      "/Users/sanghyuk/anaconda/envs/py38/lib/python3.8/site-packages/sklearn/utils/validation.py:67: FutureWarning: Pass classes=[0, 1, 2] as keyword args. From version 0.25 passing these as positional arguments will result in an error\n",
      "  warnings.warn(\"Pass {} as keyword args. From version 0.25 \"\n"
     ]
    }
   ],
   "source": [
    "y1_vec = label_binarize(y1, [0, 1, 2])\n",
    "model = QuadraticDiscriminantAnalysis().fit(X1, y1_vec[:, 1])\n",
    "fpr, tpr, thr = roc_curve(y1_vec[:, i], model.predict_proba(X1)[:, 1])\n",
    "print(model.predict_proba(X1))"
   ]
  },
  {
   "cell_type": "code",
   "execution_count": 144,
   "metadata": {},
   "outputs": [
    {
     "data": {
      "text/plain": [
       "array([0, 0, 0, 0, 0, 0, 0, 0, 0, 0, 0, 0, 0, 0, 0, 0, 0, 0, 0, 0, 0, 0,\n",
       "       0, 0, 0, 0, 0, 0, 0, 0, 0, 0, 0, 0, 0, 0, 0, 0, 0, 0, 0, 0, 0, 0,\n",
       "       0, 0, 0, 0, 0, 0, 1, 1, 1, 1, 1, 1, 1, 1, 1, 1, 1, 1, 1, 1, 1, 1,\n",
       "       1, 1, 1, 1, 1, 1, 1, 1, 1, 1, 1, 1, 1, 1, 1, 1, 1, 1, 1, 1, 1, 1,\n",
       "       1, 1, 1, 1, 1, 1, 1, 1, 1, 1, 1, 1, 0, 0, 0, 0, 0, 0, 0, 0, 0, 0,\n",
       "       0, 0, 0, 0, 0, 0, 0, 0, 0, 0, 0, 0, 0, 0, 0, 0, 0, 0, 0, 0, 0, 0,\n",
       "       0, 0, 0, 0, 0, 0, 0, 0, 0, 0, 0, 0, 0, 0, 0, 0, 0, 0])"
      ]
     },
     "execution_count": 144,
     "metadata": {},
     "output_type": "execute_result"
    }
   ],
   "source": [
    "# 1 vs others\n",
    "y1_vec[:, 1]"
   ]
  },
  {
   "cell_type": "code",
   "execution_count": 146,
   "metadata": {
    "scrolled": true
   },
   "outputs": [
    {
     "data": {
      "text/plain": [
       "array([0.66666667, 0.33333333])"
      ]
     },
     "execution_count": 146,
     "metadata": {},
     "output_type": "execute_result"
    }
   ],
   "source": [
    "model.priors_"
   ]
  },
  {
   "cell_type": "code",
   "execution_count": null,
   "metadata": {},
   "outputs": [],
   "source": []
  },
  {
   "cell_type": "code",
   "execution_count": null,
   "metadata": {},
   "outputs": [],
   "source": []
  },
  {
   "cell_type": "code",
   "execution_count": null,
   "metadata": {},
   "outputs": [],
   "source": []
  },
  {
   "cell_type": "code",
   "execution_count": null,
   "metadata": {},
   "outputs": [],
   "source": []
  },
  {
   "cell_type": "code",
   "execution_count": 148,
   "metadata": {},
   "outputs": [
    {
     "data": {
      "text/plain": [
       "array([[50,  0,  0],\n",
       "       [ 0, 48,  2],\n",
       "       [ 0,  1, 49]])"
      ]
     },
     "execution_count": 148,
     "metadata": {},
     "output_type": "execute_result"
    }
   ],
   "source": [
    "from sklearn.datasets import load_iris\n",
    "iris = load_iris()\n",
    "X1 = iris.data\n",
    "y1 = iris.target\n",
    "\n",
    "from sklearn.discriminant_analysis import QuadraticDiscriminantAnalysis\n",
    "\n",
    "model = QuadraticDiscriminantAnalysis().fit(X1, y1)\n",
    "y1_pred = model.predict(X1)\n",
    "\n",
    "from sklearn.metrics import confusion_matrix\n",
    "\n",
    "confusion_matrix(y1, y1_pred)"
   ]
  },
  {
   "cell_type": "code",
   "execution_count": 149,
   "metadata": {},
   "outputs": [
    {
     "name": "stdout",
     "output_type": "stream",
     "text": [
      "              precision    recall  f1-score   support\n",
      "\n",
      "           0       1.00      1.00      1.00        50\n",
      "           1       0.98      0.96      0.97        50\n",
      "           2       0.96      0.98      0.97        50\n",
      "\n",
      "    accuracy                           0.98       150\n",
      "   macro avg       0.98      0.98      0.98       150\n",
      "weighted avg       0.98      0.98      0.98       150\n",
      "\n"
     ]
    }
   ],
   "source": [
    "from sklearn.metrics import classification_report\n",
    "\n",
    "print(classification_report(y1, y1_pred))"
   ]
  },
  {
   "cell_type": "code",
   "execution_count": 150,
   "metadata": {
    "scrolled": true
   },
   "outputs": [
    {
     "name": "stderr",
     "output_type": "stream",
     "text": [
      "/Users/sanghyuk/anaconda/envs/py38/lib/python3.8/site-packages/sklearn/utils/validation.py:67: FutureWarning: Pass classes=[0, 1, 2] as keyword args. From version 0.25 passing these as positional arguments will result in an error\n",
      "  warnings.warn(\"Pass {} as keyword args. From version 0.25 \"\n"
     ]
    },
    {
     "data": {
      "image/png": "[encoded data removed]",
      "text/plain": [
       "<Figure size 432x288 with 1 Axes>"
      ]
     },
     "metadata": {
      "image/png": {
       "height": 251,
       "width": 374
      }
     },
     "output_type": "display_data"
    }
   ],
   "source": [
    "from sklearn.preprocessing import label_binarize\n",
    "\n",
    "y1_vec = label_binarize(y1, [0, 1, 2])\n",
    "\n",
    "from sklearn.metrics import roc_curve\n",
    "\n",
    "for i in range(3):\n",
    "    model = QuadraticDiscriminantAnalysis().fit(X1, y1_vec[:, i])\n",
    "    fpr, tpr, thr = roc_curve(y1_vec[:, i], model.predict_proba(X1)[:, 1])\n",
    "    plt.plot(fpr, tpr)\n",
    "\n",
    "plt.show()"
   ]
  },
  {
   "cell_type": "code",
   "execution_count": null,
   "metadata": {},
   "outputs": [],
   "source": []
  },
  {
   "cell_type": "code",
   "execution_count": null,
   "metadata": {},
   "outputs": [],
   "source": []
  },
  {
   "cell_type": "markdown",
   "metadata": {},
   "source": [
    "QDA를 하다 보면 문제가, 가능도 함수를 추정하려면, class마다 평균벡터와 공분산행렬을 추정해야 한다. <br>\n",
    "feature가 1000개짜리면? 각 클래스마다 평균벡터($\\mu$)는 1000개짜리 벡터, 공분산행렬은 100만개짜리 행렬. <br>\n",
    "feature 10000개면? <br>\n",
    "\n",
    "줄이려고 노력을 해봐야지. <br>\n",
    "\n",
    "\n",
    "1. 데이터 분포 보면 대충 다들 동그랗게 모여있더라. 각 클래스마다 $\\mu$와 sigma추정하지 말고, 어차피 완전히 정확할 필요 없잖아(위에서도 mu/sigma추정한거 보면 원래랑 조금씩 달라). 각 class마다 mu와 sigma가 똑같다고 가정하자. -> 이것을 가정한게 바로 아래 Linear Discriminative Analysis.  "
   ]
  },
  {
   "cell_type": "markdown",
   "metadata": {},
   "source": [
    "### 선형판별분석법"
   ]
  },
  {
   "cell_type": "markdown",
   "metadata": {},
   "source": [
    "모든 class에 대해 $\\mu$와 sigma(공분산행렬) 같다고 가정한다."
   ]
  },
  {
   "cell_type": "markdown",
   "metadata": {},
   "source": [
    "선형판별분석법에서는 각 Y 클래스에 대한 독립변수 X의 조건부확률분포가 **공통된 공분산 행렬을 가지는** 다변수 정규분포(multivariate Gaussian normal distribution)이라고 가정한다. 즉\n",
    "\n",
    "$$ \\Sigma_k = \\Sigma \\;\\;\\; \\text{ for all } k $$\n",
    "\n",
    "이다.\n",
    "\n",
    "이 때는 조건부확률분포를 다음과 같이 정리할 수 있다.\n",
    "\n",
    "$$\n",
    "\\begin{eqnarray}\n",
    "\\log p(x \\mid y = k) \n",
    "&=& \\log \\dfrac{1}{(2\\pi)^{D/2} |\\Sigma|^{1/2}} -  \\dfrac{1}{2} (x-\\mu_k)^T \\Sigma^{-1} (x-\\mu_k) \\\\\n",
    "&=& C_0 - \\dfrac{1}{2} (x-\\mu_k)^T \\Sigma^{-1} (x-\\mu_k) \\\\\n",
    "&=& C_0 - \\dfrac{1}{2} \\left( x^T\\Sigma^{-1}x - 2\\mu_k^T \\Sigma^{-1}x + \\mu_k^T \\Sigma^{-1}\\mu_k \\right) \\\\\n",
    "&=& C(x)  + \\mu_k^T \\Sigma^{-1}x - \\dfrac{1}{2} \\mu_k^T \\Sigma^{-1}\\mu_k \\\\\n",
    "\\end{eqnarray}\n",
    "$$"
   ]
  },
  {
   "cell_type": "markdown",
   "metadata": {},
   "source": [
    "지수함수 취한다. "
   ]
  },
  {
   "cell_type": "markdown",
   "metadata": {},
   "source": [
    "\n",
    "$$\n",
    "\\begin{eqnarray}\n",
    "p(x \\mid y = k) \n",
    "&=& C'(x)\\exp(w_k^Tx + w_{k0}) \\\\\n",
    "\\end{eqnarray}\n",
    "$$\n",
    "\n",
    "이 식에서 $C'(x) = \\exp C(x) $이다."
   ]
  },
  {
   "cell_type": "markdown",
   "metadata": {},
   "source": [
    "여기까지는 가능도 구한거고, 이제 조건부확률 구해야지. "
   ]
  },
  {
   "cell_type": "markdown",
   "metadata": {},
   "source": [
    "$$\n",
    "\\begin{eqnarray}\n",
    "P(y=k \\mid x) \n",
    "&=& \\dfrac{p(x \\mid y = k)P(y=k)}{\\sum_l p(x \\mid y = l)P(y=l) } \\\\\n",
    "&=& \\dfrac{C'(x)\\exp(w_k^Tx + w_{k0}) P(y=k)}{\\sum_l C'(x)\\exp(w_l^Tx + w_{l0})P(y=l) } \\\\\n",
    "&=& \\dfrac{C'(x)\\exp(w_k^Tx + w_{k0}) P(y=k)}{C'(x)\\sum_l \\exp(w_l^Tx + w_{l0})P(y=l) } \\\\\n",
    "&=& \\dfrac{P(y=k) \\exp(w_k^Tx + w_{k0}) }{\\sum_l P(y=l) \\exp(w_l^Tx + w_{k0})} \\\\\n",
    "&=& \\dfrac{P(y=k) \\exp(w_k^Tx + w_{k0}) }{P(x)} \\\\\n",
    "\\end{eqnarray}\n",
    "$$\n",
    "\n",
    "이 식에서 $P(x)$는 $y$ 클래스값에 영향을 받지 않는다."
   ]
  },
  {
   "cell_type": "markdown",
   "metadata": {},
   "source": [
    "따라서\n",
    "\n",
    "$$\n",
    "\\log P(y=k \\mid x) = \\log P(y=k) + w_k^Tx + w_{k0} - \\log{P(x)} = w_k^Tx + C''_k\n",
    "$$\n",
    "\n",
    "모든 클래스 $k$에 대해 위와 같은 식이 성립하므로 클래스 $k_1$과 클래스 $k_2$의 경계선, 즉 두 클래스에 대한 확률값이 같아지는 $x$ 위치를 찾으면 다음과 같다.\n",
    "\n",
    "$$  w_{k_1}^Tx + C''_{k_1} = w_{k_2}^Tx + C''_{k_2} $$\n",
    "\n",
    "$$  (w_{k_1} - w_{k_2})^Tx + (C''_{k_1} - C''_{k_2}) = 0 $$\n",
    "\n",
    "$$  w^Tx + C = 0 $$\n",
    "\n",
    "\n",
    "즉, 판별함수가 x에 대한 선형방정식이 되고 ***경계선의 모양이 직선***이 된다."
   ]
  },
  {
   "cell_type": "markdown",
   "metadata": {},
   "source": [
    "Scikit-Learn은 선형판별분석법을 위한 `LinearDiscriminantAnalysis` 클래스를 제공한다. "
   ]
  },
  {
   "cell_type": "code",
   "execution_count": 155,
   "metadata": {},
   "outputs": [],
   "source": [
    "rv1 = sp.stats.multivariate_normal([ 0, 0], [[0.7, 0.0], [0.0, 0.7]])\n",
    "rv2 = sp.stats.multivariate_normal([ 1, 1], [[0.8, 0.2], [0.2, 0.8]])\n",
    "rv3 = sp.stats.multivariate_normal([-1, 1], [[0.8, 0.2], [0.2, 0.8]])\n",
    "np.random.seed(0)\n",
    "X1 = rv1.rvs(N)\n",
    "X2 = rv2.rvs(N)\n",
    "X3 = rv3.rvs(N)\n",
    "y1 = np.zeros(N)\n",
    "y2 = np.ones(N)\n",
    "y3 = 2 * np.ones(N)\n",
    "X = np.vstack([X1, X2, X3])\n",
    "y = np.hstack([y1, y2, y3])"
   ]
  },
  {
   "cell_type": "code",
   "execution_count": 156,
   "metadata": {},
   "outputs": [],
   "source": [
    "from sklearn.discriminant_analysis import LinearDiscriminantAnalysis\n",
    "\n",
    "lda = LinearDiscriminantAnalysis(n_components=2, solver=\"svd\", store_covariance=True).fit(X, y)"
   ]
  },
  {
   "cell_type": "markdown",
   "metadata": {},
   "source": [
    "선형판별분석법에서는 기댓값 벡터만 클래스에 따라 달라지고 공분산 행렬은 공통으로 추정한다."
   ]
  },
  {
   "cell_type": "code",
   "execution_count": 157,
   "metadata": {},
   "outputs": [
    {
     "data": {
      "text/plain": [
       "array([[-8.01254084e-04,  1.19457204e-01],\n",
       "       [ 1.16303727e+00,  1.03930605e+00],\n",
       "       [-8.64060404e-01,  1.02295794e+00]])"
      ]
     },
     "execution_count": 157,
     "metadata": {},
     "output_type": "execute_result"
    }
   ],
   "source": [
    "lda.means_"
   ]
  },
  {
   "cell_type": "code",
   "execution_count": 158,
   "metadata": {},
   "outputs": [
    {
     "data": {
      "text/plain": [
       "array([[0.7718516 , 0.13942905],\n",
       "       [0.13942905, 0.7620019 ]])"
      ]
     },
     "execution_count": 158,
     "metadata": {},
     "output_type": "execute_result"
    }
   ],
   "source": [
    "lda.covariance_"
   ]
  },
  {
   "cell_type": "markdown",
   "metadata": {},
   "source": [
    "결과는 다음처럼 직선인 경계선을 가진다."
   ]
  },
  {
   "cell_type": "code",
   "execution_count": 160,
   "metadata": {},
   "outputs": [
    {
     "data": {
      "image/png": "[encoded data removed]",
      "text/plain": [
       "<Figure size 432x288 with 1 Axes>"
      ]
     },
     "metadata": {
      "image/png": {
       "height": 281,
       "width": 386
      }
     },
     "output_type": "display_data"
    }
   ],
   "source": [
    "x1min, x1max = -5, 5\n",
    "x2min, x2max = -4, 5\n",
    "XX1, XX2 = np.meshgrid(np.arange(x1min, x1max, (x1max-x1min)/1000),\n",
    "                       np.arange(x2min, x2max, (x2max-x2min)/1000))\n",
    "YY = np.reshape(lda.predict(np.array([XX1.ravel(), XX2.ravel()]).T), XX1.shape)\n",
    "cmap = mpl.colors.ListedColormap(sns.color_palette([\"r\", \"g\", \"b\"]).as_hex())\n",
    "plt.contourf(XX1, XX2, YY, cmap=cmap, alpha=0.5)\n",
    "plt.scatter(X1[:, 0], X1[:, 1], alpha=0.8, s=50, marker=\"o\", color='r', label=\"Class 1\")\n",
    "plt.scatter(X2[:, 0], X2[:, 1], alpha=0.8, s=50, marker=\"s\", color='g', label=\"Class 2\")\n",
    "plt.scatter(X3[:, 0], X3[:, 1], alpha=0.8, s=50, marker=\"x\", color='b', label=\"Class 3\")\n",
    "plt.xlim(x1min, x1max)\n",
    "plt.ylim(x2min, x2max)\n",
    "plt.xlabel(\"$x_1$\")\n",
    "plt.ylabel(\"$x_2$\")\n",
    "plt.legend()\n",
    "plt.title(\"LDA Result Analysis\")\n",
    "plt.show()"
   ]
  },
  {
   "cell_type": "markdown",
   "metadata": {},
   "source": [
    "이론적으로 그랬던 것처럼, 직선으로 영역이 나오네. "
   ]
  },
  {
   "cell_type": "markdown",
   "metadata": {},
   "source": [
    "어쨋든 중요한것은, ***Covariance Matrix가 공통이라고 가정하면, QDA가 아니라 LDA이다.*** 라는 것만 알면 된다. "
   ]
  },
  {
   "cell_type": "markdown",
   "metadata": {},
   "source": []
  },
  {
   "cell_type": "code",
   "execution_count": null,
   "metadata": {},
   "outputs": [],
   "source": []
  },
  {
   "cell_type": "markdown",
   "metadata": {},
   "source": [
    "#### 연습 문제 2\n",
    "\n",
    "선형판별분석법을 사용하여 붓꽃 분류문제를 풀고 성능을 분류결과표와 분류보고서를 출력하라. 그리고 각 클래스에 대한 ROC 커브를 그려라."
   ]
  },
  {
   "cell_type": "code",
   "execution_count": 161,
   "metadata": {},
   "outputs": [
    {
     "data": {
      "text/plain": [
       "array([[50,  0,  0],\n",
       "       [ 0, 48,  2],\n",
       "       [ 0,  1, 49]])"
      ]
     },
     "execution_count": 161,
     "metadata": {},
     "output_type": "execute_result"
    }
   ],
   "source": [
    "from sklearn.datasets import load_iris\n",
    "iris = load_iris()\n",
    "X2 = iris.data\n",
    "y2 = iris.target\n",
    "\n",
    "from sklearn.discriminant_analysis import LinearDiscriminantAnalysis\n",
    "\n",
    "model = LinearDiscriminantAnalysis().fit(X2, y2)\n",
    "y2_pred = model.predict(X2)\n",
    "\n",
    "from sklearn.metrics import confusion_matrix\n",
    "\n",
    "confusion_matrix(y2, y2_pred)"
   ]
  },
  {
   "cell_type": "code",
   "execution_count": 163,
   "metadata": {},
   "outputs": [
    {
     "name": "stdout",
     "output_type": "stream",
     "text": [
      "              precision    recall  f1-score   support\n",
      "\n",
      "           0       1.00      1.00      1.00        50\n",
      "           1       0.98      0.96      0.97        50\n",
      "           2       0.96      0.98      0.97        50\n",
      "\n",
      "    accuracy                           0.98       150\n",
      "   macro avg       0.98      0.98      0.98       150\n",
      "weighted avg       0.98      0.98      0.98       150\n",
      "\n"
     ]
    }
   ],
   "source": [
    "from sklearn.metrics import classification_report\n",
    "\n",
    "print(classification_report(y2, y2_pred))"
   ]
  },
  {
   "cell_type": "code",
   "execution_count": 164,
   "metadata": {},
   "outputs": [
    {
     "name": "stderr",
     "output_type": "stream",
     "text": [
      "/Users/sanghyuk/anaconda/envs/py38/lib/python3.8/site-packages/sklearn/utils/validation.py:67: FutureWarning: Pass classes=[0, 1, 2] as keyword args. From version 0.25 passing these as positional arguments will result in an error\n",
      "  warnings.warn(\"Pass {} as keyword args. From version 0.25 \"\n"
     ]
    },
    {
     "data": {
      "image/png": "[encoded data removed]",
      "text/plain": [
       "<Figure size 432x288 with 1 Axes>"
      ]
     },
     "metadata": {
      "image/png": {
       "height": 251,
       "width": 374
      }
     },
     "output_type": "display_data"
    }
   ],
   "source": [
    "from sklearn.preprocessing import label_binarize\n",
    "\n",
    "y2_vec = label_binarize(y2, [0, 1, 2])\n",
    "\n",
    "from sklearn.metrics import roc_curve\n",
    "\n",
    "for i in range(3):\n",
    "    model = LinearDiscriminantAnalysis().fit(X2, y2_vec[:, i])\n",
    "    fpr, tpr, thr = roc_curve(y2_vec[:, i], model.predict_proba(X2)[:, 1])\n",
    "    plt.plot(fpr, tpr)\n",
    "\n",
    "plt.show()"
   ]
  },
  {
   "cell_type": "code",
   "execution_count": null,
   "metadata": {},
   "outputs": [],
   "source": []
  },
  {
   "cell_type": "code",
   "execution_count": null,
   "metadata": {},
   "outputs": [],
   "source": []
  },
  {
   "cell_type": "code",
   "execution_count": null,
   "metadata": {},
   "outputs": [],
   "source": []
  },
  {
   "cell_type": "markdown",
   "metadata": {},
   "source": [
    "## 7.2 나이브베이즈 분류모형"
   ]
  },
  {
   "cell_type": "markdown",
   "metadata": {},
   "source": [
    "### 조건부독립"
   ]
  },
  {
   "cell_type": "markdown",
   "metadata": {},
   "source": [
    "확률변수 A, B가 독립이면 A, B의 결합확률은 주변확률의 곱과 같다.\n",
    "\n",
    "$$ P(A, B) = P(A)P(B) $$\n",
    "\n",
    "조건부독립(conditional independence)은 일반적인 독립과 달리 조건이 되는 별개의 확률변수 C가 존재해야 한다.\n",
    "조건이 되는 확률변수 C에 대한 A, B의 결합조건부확률이 C에 대한 A, B의 조건부확률의 곱과 같으면 A와 B가 C에 대해 조건부독립이라고 한다.\n",
    "\n",
    "$$ P(A, B|C) = P(A|C) P(B|C) $$\n",
    "\n",
    "기호로는 다음과 같이 표기한다.\n",
    "\n",
    "$$ A \\text{⫫} B \\;\\vert\\; C $$\n",
    "\n",
    "조건부독립과 비교하여 일반적인 독립은 무조건부독립이라고 한다. 무조건부독립은 다음과 같이 표기하도 한다.\n",
    "\n",
    "$$ A \\text{⫫} B \\;\\vert\\; \\emptyset $$\n",
    "\n",
    "A, B가 C에 대해 조건부독립이면 다음도 만족한다.\n",
    "\n",
    "$$ P(A|B,C) = P(A|C) $$\n",
    "\n",
    "$$ P(B|A,C) = P(B|C) $$\n",
    "\n",
    "주의할 점은 조건부독립과 무조건부독립은 관계가 없다는 점이다. 즉, 두 확률변수가 독립이라고 항상 조건부독립이 되는 것도 아니고 조건부독립이라고 꼭 독립이 되는 것도 아니다.\n",
    "\n",
    "$$ P(A,B) = P(A)P(B) \\;\\; \\bcancel{\\implies} \\;\\; P(A,B|C) = P(A|C)P(B|C) $$\n",
    "\n",
    "$$  P(A,B|C) = P(A|C)P(B|C) \\;\\; \\bcancel{\\implies} \\;\\; P(A,B) = P(A)P(B) $$"
   ]
  },
  {
   "cell_type": "markdown",
   "metadata": {},
   "source": [
    "예를 들어 어떤 동물의 어미의 몸무게가 $x$kg일 때 새끼의 몸무게는 $x$를 기댓값으로 하고 5kg 표준편차를 가지는 정규분포라고 가정하자. 이 동물의 새끼 중 2마리의 몸무게를 각각 A, B라고 하고 어미의 몸무게를 C라고 한다. 시물레이션을 통해 어미 표본과 각각의 어미에 대해 2마리의 새끼 표본을 만들자."
   ]
  },
  {
   "cell_type": "code",
   "execution_count": null,
   "metadata": {},
   "outputs": [],
   "source": [
    "np.random.seed(0)\n",
    "C = np.random.normal(100, 15, 2000)\n",
    "A = C + np.random.normal(0, 5, 2000)\n",
    "B = C + np.random.normal(0, 5, 2000)"
   ]
  },
  {
   "cell_type": "markdown",
   "metadata": {},
   "source": [
    "스캐터플롯을 보면 B와 C 자체는 상관관계가 있음을 알 수 있다. 하지만 어미의 몸무게가 고정되어 있으면 두 새끼의 몸무게는 서로 독립인 것을 볼 수 있다."
   ]
  },
  {
   "cell_type": "code",
   "execution_count": null,
   "metadata": {},
   "outputs": [],
   "source": [
    "plt.figure(figsize=(8, 4))\n",
    "\n",
    "plt.subplot(121)\n",
    "plt.scatter(A, B)\n",
    "plt.xlabel(\"A\")\n",
    "plt.ylabel(\"B\")\n",
    "plt.xlim(30, 180)\n",
    "plt.ylim(30, 180)\n",
    "plt.title(\"B와 C의 무조건부 상관관계\")\n",
    "\n",
    "plt.subplot(122)\n",
    "idx1 = (118 < C) & (C < 122)\n",
    "idx2 = (78 < C) & (C < 82)\n",
    "plt.scatter(A[idx1], B[idx1], label=\"C=120\")\n",
    "plt.scatter(A[idx2], B[idx2], label=\"C=80\")\n",
    "plt.xlabel(\"A\")\n",
    "plt.ylabel(\"B\")\n",
    "plt.xlim(30, 180)\n",
    "plt.ylim(30, 180)\n",
    "plt.legend()\n",
    "plt.title(\"B와 C의 조건부 상관관계\")\n",
    "\n",
    "plt.tight_layout()\n",
    "plt.show()"
   ]
  },
  {
   "cell_type": "markdown",
   "metadata": {},
   "source": [
    "### 나이브 가정"
   ]
  },
  {
   "cell_type": "markdown",
   "metadata": {},
   "source": [
    "독립변수 $x$가 $D$차원이라고 가정하자. \n",
    "\n",
    "$$ x = (x_1, \\ldots, x_D) $$\n",
    "\n",
    "가능도함수는 $x_1, \\ldots, x_D$의 결합확률이 된다.\n",
    "\n",
    "$$ P(x \\mid y = k) = P(x_1, \\ldots, x_D \\mid y = k) $$ \n",
    "\n",
    "원리상으로는 $y=k$인 데이터만 모아서 이 가능도함수의 모양을 추정할 수 있다. 하지만 차원 $D$가 커지면 가능도함수의 추정이 현실적으로 어려워진다. \n",
    "\n",
    "따라서 나이즈베이즈 분류모형(Naive Bayes classification model)에서는 모든 차원의 개별 독립변수가 서로 조건부독립(conditional independent)이라는 가정을 사용한다. 이러한 가정을 나이브 가정(naive assumption)이라고 한다.\n",
    "\n",
    "\n",
    "\n",
    "나이브 가정으로 사용하면 벡터 $x$의 결합확률분포함수는 개별 스칼라 원소 $x_d$의 확률분포함수의 곱이 된다.\n",
    "\n",
    "$$\n",
    "P(x_1, \\ldots, x_D \\mid y = k) = \\prod_{d=1}^D P(x_d \\mid y = k)\n",
    "$$\n",
    "\n",
    "스칼라 원소 $x_d$의 확률분포함수는 결합확률분포함수보다 추정하기 훨씬 쉽다.\n",
    "\n",
    "가능도함수를 추정한 후에는 베이즈정리를 사용하여 조건부확률을 계산할 수 있다.\n",
    "\n",
    "$$\n",
    "\\begin{align}\n",
    "P(y = k \\mid x) \n",
    "&= \\dfrac{ P(x_1, \\ldots, x_D \\mid y = k) P(y = k) }{P(x)} \\\\\n",
    "&= \\dfrac{ \\left( \\prod_{d=1}^D P(x_{d} \\mid y = k) \\right) P(y = k) }{P(x)}\n",
    "\\end{align}\n",
    "$$\n"
   ]
  },
  {
   "cell_type": "markdown",
   "metadata": {},
   "source": [
    "### 정규분포 가능도 모형"
   ]
  },
  {
   "cell_type": "markdown",
   "metadata": {},
   "source": [
    "$x$ 벡터의 원소가 모두 실수이고 클래스마다 특정한 값 주변에서 발생한다고 하면 가능도 분포로 정규분포를 사용한다.\n",
    "각 독립변수 $x_d$마다, 그리고 클래스 $k$마다 정규 분포의 기댓값 $\\mu_{d,k}$, 표준 편차 $\\sigma_{d,k}^2$가 달라진다. QDA 모형과는 달리 모든 독립변수들이 서로 조건부독립이라고 가정한다.\n",
    "\n",
    "$$ P(x_d \\mid y = k) = \\dfrac{1}{\\sqrt{2\\pi\\sigma_{d,k}^2}} \\exp \\left(-\\dfrac{(x_d-\\mu_{d,k})^2}{2\\sigma_{d,k}^2}\\right) $$\n",
    "  "
   ]
  },
  {
   "cell_type": "markdown",
   "metadata": {},
   "source": [
    "### 베르누이분포 가능도 모형"
   ]
  },
  {
   "cell_type": "markdown",
   "metadata": {},
   "source": [
    "베르누이분포 가능도 모형에서는 각각의 $x = (x_1,\\ldots, x_D)$의 각 원소 $x_d$가 0 또는 1이라는 값만을 가질 수 있다. 즉 독립변수는 $D$개의 독립적인 베르누이 확률변수, 즉 동전으로 구성된 동전 세트로 표현할 수 있다. 이 동전들의 모수 $\\mu_{d}$는 동전 $d$마다 다르다.\n",
    "\n",
    "그런데 클래스 $y = k$ $(k=1,\\ldots,K)$마다도 $x_d$가 1이 될 확률이 다르다. 즉, 동전의 모수 $\\mu_{d,k}$는 동전 $d$마다 다르고 클래스 $k$마다도 다르다. 즉, 전체 $D \\times K$의 동전이 존재하며 같은 클래스에 속하는 $D$개의 동전이 하나의 동전 세트를 구성하고 이러한 동전 세트가 $K$개 있다고 생각할 수 있다.\n",
    "\n",
    "$$ P(x_d \\mid y = k) = \\mu_{d,k}^{x_d} (1-\\mu_{d,k})^{(1-x_d)} $$\n",
    "\n",
    "$$ \n",
    "P(x_1, \\ldots, x_D \\mid y = k) \n",
    "= \\prod_{d=1}^D \\mu_{d,k}^{x_d} (1-\\mu_{d,k})^{(1-x_d)}\n",
    "$$\n",
    "\n",
    "이러한 동전 세트마다 확률 특성이 다르므로 베르누이분포 가능도 모형을 기반으로 하는 나이브베이즈 모형은 동전 세트를 $N$번 던진 결과로부터 $1,\\ldots,K$ 중 어느 동전 세트를 던졌는지를 찾아내는 모형이라고 할 수 있다."
   ]
  },
  {
   "cell_type": "markdown",
   "metadata": {},
   "source": [
    "### 다항분포 가능도 모형"
   ]
  },
  {
   "cell_type": "markdown",
   "metadata": {},
   "source": [
    "다항분포 모형에서는 $x$ 벡터가 다항분포의 표본이라고 가정한다. 즉, $D$개의 면을 가지는 주사위를 $\\sum_{d=1}^D x_d$번 던져서 나온 결과로 본다.\n",
    "예를 들어 $x$가 다음과 같다면,\n",
    "\n",
    "$$ x = (1, 4, 0, 5) $$\n",
    "\n",
    "4면체 주사위를 10번 던져서 1인 면이 1번, 2인 면이 4번, 4인 면이 5번 나온 결과로 해석한다.\n",
    "\n",
    "각 클래스마다 주사위가 다르다고 가정하므로 $K$개의 클래스를 구분하는 문제에서는 $D$개의 면을 가진 주사위가  $K$개 있다고 본다. \n",
    "\n",
    "$$ \n",
    "P(x_1, \\ldots, x_D \\mid y = k) \n",
    "\\;\\; \\propto \\;\\; \\prod_{d=1}^D \\mu_{d,k}^{x_{d,k}} \n",
    "$$\n",
    "\n",
    "$$ \\sum_{d=1}^{D} \\mu_{d,k} = 1 $$\n",
    "\n",
    "따라서 다항분포 가능도 모형을 기반으로 하는 나이브베이즈 모형은 주사위를 던진 결과로부터  $1,\\ldots,K$ 중 어느 주사위를 던졌는지를 찾아내는 모형이라고 할 수 있다."
   ]
  },
  {
   "cell_type": "code",
   "execution_count": null,
   "metadata": {},
   "outputs": [],
   "source": []
  },
  {
   "cell_type": "markdown",
   "metadata": {},
   "source": [
    "### 사이킷런에서 제공하는 나이브베이즈 모형"
   ]
  },
  {
   "cell_type": "markdown",
   "metadata": {},
   "source": [
    "사이킷런의 naive_bayes 서브패키지에서는 다음과 같은 세가지 나이브베이즈 모형 클래스를 제공한다.\n",
    "\n",
    "* [`GaussianNB`](http://scikit-learn.org/stable/modules/generated/sklearn.naive_bayes.GaussianNB.html):\t정규분포 나이브베이즈\n",
    "* [`BernoulliNB`](http://scikit-learn.org/stable/modules/generated/sklearn.naive_bayes.BernoulliNB.html): 베르누이분포 나이브베이즈\n",
    "* [`MultinomialNB`](http://scikit-learn.org/stable/modules/generated/sklearn.naive_bayes.MultinomialNB.html): 다항분포 나이브베이즈\n"
   ]
  },
  {
   "cell_type": "markdown",
   "metadata": {},
   "source": [
    "이 클래스들은 다양한 속성값 및 메서드를 가진다. 우선 사전 확률과 관련된 속성은 다음과 같다."
   ]
  },
  {
   "cell_type": "markdown",
   "metadata": {},
   "source": [
    "* `classes_`\n",
    "\n",
    " * 종속변수 Y의 클래스(라벨)\n",
    "\n",
    "\n",
    "* `class_count_`\n",
    "\n",
    " * 종속변수 Y의 값이 특정한 클래스인 표본 데이터의 수\n",
    "\n",
    "\n",
    "* `class_prior_`\n",
    "\n",
    " * 종속변수 Y의 무조건부 확률분포 $ P(Y) $ (정규분포의 경우에만)\n",
    " \n",
    "\n",
    "* `class_log_prior_`\n",
    "\n",
    " * 종속변수 Y의 무조건부 확률분포의 로그 $ \\log P(Y) $ (베르누이분포나 다항분포의 경우에만)\n",
    " "
   ]
  },
  {
   "cell_type": "code",
   "execution_count": null,
   "metadata": {},
   "outputs": [],
   "source": []
  },
  {
   "cell_type": "markdown",
   "metadata": {},
   "source": [
    "### 정규분포 나이브베이즈 모형"
   ]
  },
  {
   "cell_type": "markdown",
   "metadata": {},
   "source": [
    "가우시안 나이브베이즈 모형 `GaussianNB`은 가능도 추정과 관련하여 다음과 같은 속성을 가진다.\n",
    "\n",
    "* `theta_`: 정규분포의 기댓값 $\\mu$\n",
    "* `sigma_`: 정규분포의 분산 $\\sigma^2$"
   ]
  },
  {
   "cell_type": "markdown",
   "metadata": {},
   "source": [
    "#### 예제\n",
    "\n",
    "실수인 두 개의 독립변수 $x_1, x_2$와 두 종류의 클래스 $y=0,1$을 가지는 분류문제가 있다. \n",
    "\n",
    "두 독립변수의 분포는 정규분포이고 $y$의 클래스에 따라 다음처럼 모수가 달라진다.\n",
    "\n",
    "$$ \n",
    "\\mu_0 = \\begin{bmatrix} -2 \\\\ -2 \\end{bmatrix},\n",
    "\\;\\; \n",
    "\\Sigma_0 = \\begin{bmatrix} 1 & 0.9 \\\\ 0.9 & 2 \\end{bmatrix} \n",
    "$$\n",
    "$$ \n",
    "\\mu_1 = \\begin{bmatrix} 2 \\\\ 2 \\end{bmatrix},\n",
    "\\;\\; \n",
    "\\Sigma_1 = \\begin{bmatrix} 1.2 & -0.8 \\\\ -0.8 & 2 \\end{bmatrix} \n",
    "$$\n",
    "\n",
    "데이터는 $y=0$인 데이터가 40개, $y=1$인 데이터가 60개 주어졌다. 이 데이터를 시각화하면 다음과 같다."
   ]
  },
  {
   "cell_type": "code",
   "execution_count": null,
   "metadata": {},
   "outputs": [],
   "source": [
    "np.random.seed(0)\n",
    "rv0 = sp.stats.multivariate_normal([-2, -2], [[1, 0.9], [0.9, 2]])\n",
    "rv1 = sp.stats.multivariate_normal([2, 2], [[1.2, -0.8], [-0.8, 2]])\n",
    "X0 = rv0.rvs(40)\n",
    "X1 = rv1.rvs(60)\n",
    "X = np.vstack([X0, X1])\n",
    "y = np.hstack([np.zeros(40), np.ones(60)])\n",
    "\n",
    "xx1 = np.linspace(-5, 5, 100)\n",
    "xx2 = np.linspace(-5, 5, 100)\n",
    "XX1, XX2 = np.meshgrid(xx1, xx2)\n",
    "plt.grid(False)\n",
    "plt.contour(XX1, XX2, rv0.pdf(np.dstack([XX1, XX2])), cmap=mpl.cm.cool)\n",
    "plt.contour(XX1, XX2, rv1.pdf(np.dstack([XX1, XX2])), cmap=mpl.cm.hot)\n",
    "plt.scatter(X0[:, 0], X0[:, 1], marker=\"o\", c='b', label=\"y=0\")\n",
    "plt.scatter(X1[:, 0], X1[:, 1], marker=\"s\", c='r', label=\"y=1\")\n",
    "plt.legend()\n",
    "plt.title(\"데이터의 확률분포\")\n",
    "plt.axis(\"equal\")\n",
    "plt.show()"
   ]
  },
  {
   "cell_type": "markdown",
   "metadata": {},
   "source": [
    "이 데이터를 가우시안 나이브베이즈 모형으로 다음처럼 풀 수 있다."
   ]
  },
  {
   "cell_type": "code",
   "execution_count": null,
   "metadata": {},
   "outputs": [],
   "source": [
    "from sklearn.naive_bayes import GaussianNB\n",
    "model_norm = GaussianNB().fit(X, y)"
   ]
  },
  {
   "cell_type": "markdown",
   "metadata": {},
   "source": [
    "y 클래스의 종류와 각 클래스에 속하는 표본의 수, 그리고 그 값으로부터 구한 사전 확률\n",
    "\n",
    "$$ p(y=0), p(y=1) $$\n",
    "\n",
    "의 값은 다음과 같다."
   ]
  },
  {
   "cell_type": "code",
   "execution_count": null,
   "metadata": {},
   "outputs": [],
   "source": [
    "model_norm.classes_"
   ]
  },
  {
   "cell_type": "code",
   "execution_count": null,
   "metadata": {},
   "outputs": [],
   "source": [
    "model_norm.class_count_"
   ]
  },
  {
   "cell_type": "code",
   "execution_count": null,
   "metadata": {},
   "outputs": [],
   "source": [
    "model_norm.class_prior_"
   ]
  },
  {
   "cell_type": "markdown",
   "metadata": {},
   "source": [
    "각 클래스에 따라 $x$가 이루는 확률분포의 모수를 계산하면 다음과 같다. 나이브 가정에 따라 $x_1, x_2$는 독립이므로 상관관계를 구하지 않았다. "
   ]
  },
  {
   "cell_type": "code",
   "execution_count": null,
   "metadata": {},
   "outputs": [],
   "source": [
    "model_norm.theta_[0], model_norm.sigma_[0]"
   ]
  },
  {
   "cell_type": "code",
   "execution_count": null,
   "metadata": {},
   "outputs": [],
   "source": [
    "model_norm.theta_[1], model_norm.sigma_[1]"
   ]
  },
  {
   "cell_type": "markdown",
   "metadata": {},
   "source": [
    "이렇게 구한 데이터의 확률분포를 시각화하면 다음과 같다."
   ]
  },
  {
   "cell_type": "code",
   "execution_count": null,
   "metadata": {},
   "outputs": [],
   "source": [
    "rv0 = sp.stats.multivariate_normal(model_norm.theta_[0], model_norm.sigma_[0])\n",
    "rv1 = sp.stats.multivariate_normal(model_norm.theta_[1], model_norm.sigma_[1])\n",
    "\n",
    "xx1 = np.linspace(-5, 5, 100)\n",
    "xx2 = np.linspace(-5, 5, 100)\n",
    "XX1, XX2 = np.meshgrid(xx1, xx2)\n",
    "plt.grid(False)\n",
    "plt.contour(XX1, XX2, rv0.pdf(np.dstack([XX1, XX2])), cmap=mpl.cm.cool)\n",
    "plt.contour(XX1, XX2, rv1.pdf(np.dstack([XX1, XX2])), cmap=mpl.cm.hot)\n",
    "plt.scatter(X0[:, 0], X0[:, 1], marker=\"o\", c='b', label=\"y=0\")\n",
    "plt.scatter(X1[:, 0], X1[:, 1], marker=\"s\", c='r', label=\"y=1\")\n",
    "\n",
    "x_new = [0, 0]\n",
    "plt.scatter(x_new[0], x_new[1], c=\"g\", marker=\"x\", s=150, linewidth=5)\n",
    "plt.legend()\n",
    "plt.title(\"나이브베이즈로 추정한 데이터의 확률분포\")\n",
    "plt.axis(\"equal\")\n",
    "plt.show()"
   ]
  },
  {
   "cell_type": "markdown",
   "metadata": {},
   "source": [
    "이 모형을 사용하여 $x_{\\text{new}} = (0, 0)$인 데이터의 $y$값을 예측하자. 각 클래스값이 나올 확률은 `predict_proba` 메서드로 구할 수 있다. 결과는 y=0일 확률이 0.48, y=1일 확률이 0.52이다."
   ]
  },
  {
   "cell_type": "code",
   "execution_count": null,
   "metadata": {},
   "outputs": [],
   "source": [
    "model_norm.predict_proba([x_new])"
   ]
  },
  {
   "cell_type": "markdown",
   "metadata": {},
   "source": [
    "이 값이 나오게 된 중간 과정을 살펴보자. 우선 추정된 독립변수의 모수와 정규 분포의 확률 밀도 함수를 사용하여 가능도를 구할 수 있다.\n",
    "나이브베이즈 가정에 따라 두 입력 변수의 곱을 결합 확률로 계산한다.\n",
    "\n",
    "$$ p(x_1, x_2 | y) \\propto p(x_1) p(x_2) $$"
   ]
  },
  {
   "cell_type": "code",
   "execution_count": null,
   "metadata": {},
   "outputs": [],
   "source": [
    "likelihood = [\n",
    "    (sp.stats.norm(model_norm.theta_[0][0], np.sqrt(model_norm.sigma_[0][0])).pdf(x_new[0]) * \\\n",
    "     sp.stats.norm(model_norm.theta_[0][1], np.sqrt(model_norm.sigma_[0][1])).pdf(x_new[1])),\n",
    "    (sp.stats.norm(model_norm.theta_[1][0], np.sqrt(model_norm.sigma_[1][0])).pdf(x_new[0]) * \\\n",
    "     sp.stats.norm(model_norm.theta_[1][1], np.sqrt(model_norm.sigma_[1][1])).pdf(x_new[1])),\n",
    "]\n",
    "likelihood"
   ]
  },
  {
   "cell_type": "markdown",
   "metadata": {},
   "source": [
    "여기에 사전 확률을 곱하면 사후 확률에 비례하는 값이 나온다.\n",
    "\n",
    "$$ p(y|x_1, x_2) \\propto p(x_1, x_2|y) p(y) $$\n",
    "\n",
    "아직 정규화 상수 $p(x)$로 나누어주지 않았으므로 두 값의 합이 1이 아니다. 즉, 확률이라고 부를 수는 없다. 하지만 크기를 비교하면 y=0일 확률이 y=1일 확률보다 훨씬 크다는 것을 알 수 있다."
   ]
  },
  {
   "cell_type": "code",
   "execution_count": null,
   "metadata": {},
   "outputs": [],
   "source": [
    "posterior = likelihood * model_norm.class_prior_\n",
    "posterior"
   ]
  },
  {
   "cell_type": "markdown",
   "metadata": {},
   "source": [
    "이 값을 정규화하면 `predict_proba` 메서드로 구한 것과 같은 값이 나온다."
   ]
  },
  {
   "cell_type": "code",
   "execution_count": null,
   "metadata": {},
   "outputs": [],
   "source": [
    "posterior / posterior.sum()"
   ]
  },
  {
   "cell_type": "code",
   "execution_count": null,
   "metadata": {},
   "outputs": [],
   "source": []
  },
  {
   "cell_type": "markdown",
   "metadata": {},
   "source": [
    "#### 연습 문제 1\n",
    "\n",
    "붓꽃 분류문제를 가우시안 나이브베이즈 모형을 사용하여 풀어보자.\n",
    "\n",
    "(1) 각각의 종이 선택될 사전확률을 구하라.\n",
    "\n",
    "(2) 각각의 종에 대해 꽃받침의 길이, 꽃받침의 폭, 꽃잎의 길이, 꽃잎의 폭의 평균과 분산을 구하라.\n",
    "\n",
    "(3) 학습용 데이터를 사용하여 분류문제를 풀고 다음을 계산하라.\n",
    "\n",
    "* 분류결과표\n",
    "* 분류보고서"
   ]
  },
  {
   "cell_type": "code",
   "execution_count": null,
   "metadata": {},
   "outputs": [],
   "source": []
  },
  {
   "cell_type": "code",
   "execution_count": null,
   "metadata": {},
   "outputs": [],
   "source": [
    "from sklearn.datasets import load_iris\n",
    "\n",
    "iris = load_iris()\n",
    "X1 = iris.data\n",
    "y1 = iris.target\n",
    "\n",
    "from sklearn.naive_bayes import GaussianNB\n",
    "\n",
    "model1 = GaussianNB().fit(X1, y1)\n",
    "model1.class_prior_"
   ]
  },
  {
   "cell_type": "code",
   "execution_count": null,
   "metadata": {},
   "outputs": [],
   "source": [
    "model1.theta_"
   ]
  },
  {
   "cell_type": "code",
   "execution_count": null,
   "metadata": {},
   "outputs": [],
   "source": [
    "model1.sigma_"
   ]
  },
  {
   "cell_type": "code",
   "execution_count": null,
   "metadata": {},
   "outputs": [],
   "source": [
    "y1_pred = model1.predict(X1)\n",
    "\n",
    "from sklearn.metrics import confusion_matrix\n",
    "\n",
    "confusion_matrix(y1, y1_pred)"
   ]
  },
  {
   "cell_type": "code",
   "execution_count": null,
   "metadata": {},
   "outputs": [],
   "source": [
    "from sklearn.metrics import classification_report\n",
    "\n",
    "print(classification_report(y1, y1_pred))"
   ]
  },
  {
   "cell_type": "code",
   "execution_count": null,
   "metadata": {},
   "outputs": [],
   "source": []
  },
  {
   "cell_type": "markdown",
   "metadata": {},
   "source": [
    "### 베르누이분포 나이브베이즈 모형"
   ]
  },
  {
   "cell_type": "markdown",
   "metadata": {},
   "source": [
    "전자우편과 같은 문서 내에 특정한 단어가 포함되어 있는지의 여부는 베르누이 확률변수로 모형화할 수 있다. 이렇게 독립변수가 0 또는 1의 값을 가지면 베르누이 나이브베이즈 모형을 사용한다. \n",
    "\n",
    "베르누이분포 나이브베이즈 모형 클래스 `BernoulliNB`는 가능도 추정과 관련하여 다음 속성을 가진다.\n",
    "\n",
    "* `feature_count_`: 각 클래스 $k$에 대해 $d$번째 동전이 앞면이 나온 횟수 $N_{d,k}$\n",
    "* `feature_log_prob_`: 베르누이분포 모수의 로그\n",
    " \n",
    "$$ \\log \\mu_k = (\\log \\mu_{1,k}, \\ldots, \\log \\mu_{D, k}) = \\left( \\log \\dfrac{N_{1,k}}{N_k}, \\ldots, \\log \\dfrac{N_{D,k}}{N_k} \\right)$$\n",
    " \n",
    "여기에서 $N_k$은 클래스 $k$에 대해 동전을 던진 총 횟수이다. \n",
    "표본 데이터의 수가 적은 경우에는 모수에 대해 다음처럼 스무딩(smoothing)을 할 수도 있다."
   ]
  },
  {
   "cell_type": "code",
   "execution_count": null,
   "metadata": {},
   "outputs": [],
   "source": []
  },
  {
   "cell_type": "markdown",
   "metadata": {},
   "source": [
    "### 스무딩"
   ]
  },
  {
   "cell_type": "markdown",
   "metadata": {},
   "source": [
    "표본 데이터의 수가 적은 경우에는 베르누이 모수가 0 또는 1이라는 극단적인 모수 추정값이 나올 수도 있다. 하지만 현실적으로는 실제 모수값이 이런 극단적인 값이 나올 가능성이 적다. 따라서 베르누이 모수가 0.5인 가장 일반적인 경우를 가정하여 0이 나오는 경우와 1이 나오는 경우, 두 개의 가상 표본 데이터를 추가한다. 그러면 0이나 1과 같은 극단적인 추정값이 0.5에 가까운 다음과 값으로 변한다. 이를 라플라스 스무딩(Laplace smoothing) 또는 애드원(Add-One) 스무딩이라고 한다.\n",
    "\n",
    "$$ \\hat{\\mu}_{d,k} = \\frac{ N_{d,k} + \\alpha}{N_k + 2 \\alpha} $$ \n",
    "\n",
    "가중치 $\\alpha$를 사용하여 스무딩의 정도를 조절할 수도 있다. 가중치 $\\alpha$는 정수가 아니라도 괜찮다. 가중치가 1인 경우는 무정보 사전확률을 사용한 베이즈 모수추정의 결과와 같다."
   ]
  },
  {
   "cell_type": "code",
   "execution_count": null,
   "metadata": {},
   "outputs": [],
   "source": [
    "X = np.array([\n",
    "    [0, 1, 1, 0],\n",
    "    [1, 1, 1, 1],\n",
    "    [1, 1, 1, 0],\n",
    "    [0, 1, 0, 0],\n",
    "    [0, 0, 0, 1],\n",
    "    [0, 1, 1, 0],\n",
    "    [0, 1, 1, 1],\n",
    "    [1, 0, 1, 0],\n",
    "    [1, 0, 1, 1],\n",
    "    [0, 1, 1, 0]])\n",
    "y = np.array([0, 0, 0, 0, 1, 1, 1, 1, 1, 1])"
   ]
  },
  {
   "cell_type": "markdown",
   "metadata": {},
   "source": [
    "이 데이터는 4개의 키워드를 사용하여 정상 메일 4개와 스팸 메일 6개를 BOW 인코딩한 행렬이다. 예를 들어 첫번째 메일은 정상 메일이고 1번, 4번 키워드는 포함하지 않지만 2번, 3번 키워드를 포함한다고 볼 수 있다.\n",
    "\n",
    "이 데이터를 베르누이 나이브베이즈 모형으로 예측해 보자."
   ]
  },
  {
   "cell_type": "code",
   "execution_count": null,
   "metadata": {},
   "outputs": [],
   "source": [
    "from sklearn.naive_bayes import BernoulliNB\n",
    "model_bern = BernoulliNB().fit(X, y)"
   ]
  },
  {
   "cell_type": "markdown",
   "metadata": {},
   "source": [
    "y 클래스의 종류와 각 클래스에 속하는 표본의 수, 그리고 그 값으로부터 구한 사전 확률의 값은 다음과 같다."
   ]
  },
  {
   "cell_type": "code",
   "execution_count": null,
   "metadata": {},
   "outputs": [],
   "source": [
    "model_bern.classes_"
   ]
  },
  {
   "cell_type": "code",
   "execution_count": null,
   "metadata": {},
   "outputs": [],
   "source": [
    "model_bern.class_count_"
   ]
  },
  {
   "cell_type": "code",
   "execution_count": null,
   "metadata": {},
   "outputs": [],
   "source": [
    "np.exp(model_bern.class_log_prior_)"
   ]
  },
  {
   "cell_type": "markdown",
   "metadata": {},
   "source": [
    "각 클래스 $k$ 별로, 그리고 각 독립변수 $d$ 별로, 각각 다른 베르누이 확률변수라고 가정하여 모두 8개의 베르누이 확률변수의 모수를 구하면 다음과 같다."
   ]
  },
  {
   "cell_type": "code",
   "execution_count": null,
   "metadata": {},
   "outputs": [],
   "source": [
    "fc = model_bern.feature_count_\n",
    "fc"
   ]
  },
  {
   "cell_type": "code",
   "execution_count": null,
   "metadata": {},
   "outputs": [],
   "source": [
    "fc / np.repeat(model_bern.class_count_[:, np.newaxis], 4, axis=1)"
   ]
  },
  {
   "cell_type": "markdown",
   "metadata": {},
   "source": [
    "그런데 이 값은 모형 내에서 구한 값과 다르다. 모형 내에서 스무딩(smoothing)이 이루어지기 때문이다. 스무딩은 동전의 각 면 즉, 0과 1이 나오는 가상의 데이터를 추가함으로서 추정한 모수의 값이 좀 더 0.5에 가까워지도록 하는 방법이다. 이 때 사용한 스무딩 가중치 값은 다음처럼 확인할 수 있다."
   ]
  },
  {
   "cell_type": "code",
   "execution_count": null,
   "metadata": {},
   "outputs": [],
   "source": [
    "model_bern.alpha"
   ]
  },
  {
   "cell_type": "markdown",
   "metadata": {},
   "source": [
    "스무딩이 적용된 베르누이 모수값은 다음과 같다."
   ]
  },
  {
   "cell_type": "code",
   "execution_count": 12,
   "metadata": {},
   "outputs": [
    {
     "ename": "NameError",
     "evalue": "name 'model_bern' is not defined",
     "output_type": "error",
     "traceback": [
      "\u001b[0;31m---------------------------------------------------------------------------\u001b[0m",
      "\u001b[0;31mNameError\u001b[0m                                 Traceback (most recent call last)",
      "\u001b[0;32m<ipython-input-12-108f3c2718b5>\u001b[0m in \u001b[0;36m<module>\u001b[0;34m\u001b[0m\n\u001b[0;32m----> 1\u001b[0;31m \u001b[0mtheta\u001b[0m \u001b[0;34m=\u001b[0m \u001b[0mnp\u001b[0m\u001b[0;34m.\u001b[0m\u001b[0mexp\u001b[0m\u001b[0;34m(\u001b[0m\u001b[0mmodel_bern\u001b[0m\u001b[0;34m.\u001b[0m\u001b[0mfeature_log_prob_\u001b[0m\u001b[0;34m)\u001b[0m\u001b[0;34m\u001b[0m\u001b[0;34m\u001b[0m\u001b[0m\n\u001b[0m\u001b[1;32m      2\u001b[0m \u001b[0mtheta\u001b[0m\u001b[0;34m\u001b[0m\u001b[0;34m\u001b[0m\u001b[0m\n",
      "\u001b[0;31mNameError\u001b[0m: name 'model_bern' is not defined"
     ]
    }
   ],
   "source": [
    "theta = np.exp(model_bern.feature_log_prob_)\n",
    "theta"
   ]
  },
  {
   "cell_type": "markdown",
   "metadata": {},
   "source": [
    "이에 모형이 완성되었으니 테스트 데이터를 사용하여 예측을 해 본다. 예를 들어 1번, 2번 키워드를 포함한 메일이 정상 메일인지 스팸 메일인지 알아보자."
   ]
  },
  {
   "cell_type": "code",
   "execution_count": null,
   "metadata": {},
   "outputs": [],
   "source": [
    "x_new = np.array([0, 1, 1, 1])"
   ]
  },
  {
   "cell_type": "code",
   "execution_count": null,
   "metadata": {},
   "outputs": [],
   "source": [
    "model_bern.predict_proba([x_new])"
   ]
  },
  {
   "cell_type": "markdown",
   "metadata": {},
   "source": [
    "위 결과에서 정상 메일일 가능성이 약 3배임을 알 수 있다. 이 값은 다음처럼 구할 수도 있다."
   ]
  },
  {
   "cell_type": "code",
   "execution_count": null,
   "metadata": {},
   "outputs": [],
   "source": [
    "p = ((theta ** x_new) * (1 - theta) ** (1 - x_new)).prod(axis=1)\\\n",
    "    * np.exp(model_bern.class_log_prior_)\n",
    "p / p.sum()"
   ]
  },
  {
   "cell_type": "markdown",
   "metadata": {},
   "source": [
    "반대로 3번, 4번 키워드가 포함된 메일은 스팸일 가능성이 약 90%이다."
   ]
  },
  {
   "cell_type": "code",
   "execution_count": null,
   "metadata": {},
   "outputs": [],
   "source": [
    "x_new = np.array([0, 0, 1, 1])"
   ]
  },
  {
   "cell_type": "code",
   "execution_count": null,
   "metadata": {},
   "outputs": [],
   "source": [
    "model_bern.predict_proba([x_new])"
   ]
  },
  {
   "cell_type": "code",
   "execution_count": null,
   "metadata": {},
   "outputs": [],
   "source": [
    "p = ((theta ** x_new) * (1 - theta) ** (1 - x_new)).prod(axis=1)\\\n",
    "    * np.exp(model_bern.class_log_prior_)\n",
    "p / p.sum()"
   ]
  },
  {
   "cell_type": "code",
   "execution_count": null,
   "metadata": {},
   "outputs": [],
   "source": []
  },
  {
   "cell_type": "markdown",
   "metadata": {},
   "source": [
    "#### 연습 문제 2\n",
    "\n",
    "(1) MNIST 숫자 분류문제에서 `sklearn.preprocessing.Binarizer`로 x값을 0, 1로 바꾼다(값이 8 이상이면 1, 8 미만이면 0). 즉 흰색과 검은색 픽셀로만 구성된 이미지로 만든다(다음 코드 참조)\n",
    "```\n",
    "from sklearn.datasets import load_digits\n",
    "digits = load_digits()\n",
    "X2 = digits.data\n",
    "y2 = digits.target\n",
    "from sklearn.preprocessing import Binarizer\n",
    "X2 = Binarizer(7).fit_transform(X2)\n",
    "```\n",
    "\n",
    "이 이미지에 대해 베르누이 나이브베이즈 모형을 적용하자. 분류 결과를 분류보고서 형식으로 나타내라.\n",
    "\n",
    "(2) `BernoulliNB` 클래스의 `binarize` 인수를 사용하여 같은 문제를 풀어본다.\n",
    "\n",
    "(3) 계산된 모형의 모수 벡터 값을 각 클래스별로 8x8 이미지의 형태로 나타내라. 이 이미지는 무엇을 뜻하는가?\n"
   ]
  },
  {
   "cell_type": "code",
   "execution_count": null,
   "metadata": {},
   "outputs": [],
   "source": []
  },
  {
   "cell_type": "code",
   "execution_count": 13,
   "metadata": {},
   "outputs": [
    {
     "data": {
      "image/png": "[encoded data removed]",
      "text/plain": [
       "<Figure size 432x288 with 1 Axes>"
      ]
     },
     "metadata": {
      "image/png": {
       "height": 251,
       "width": 247
      }
     },
     "output_type": "display_data"
    }
   ],
   "source": [
    "from sklearn.datasets import load_digits\n",
    "\n",
    "digits = load_digits()\n",
    "X2 = digits.data\n",
    "y2 = digits.target\n",
    "\n",
    "\n",
    "plt.imshow(X2[0, :].reshape((8, 8)), cmap=plt.cm.binary)\n",
    "plt.grid(False)\n",
    "plt.show()"
   ]
  },
  {
   "cell_type": "code",
   "execution_count": null,
   "metadata": {},
   "outputs": [],
   "source": [
    "from sklearn.preprocessing import Binarizer\n",
    "\n",
    "X2 = Binarizer(7).fit_transform(X2)\n",
    "\n",
    "plt.imshow(X2[0, :].reshape((8, 8)), cmap=plt.cm.binary)\n",
    "plt.grid(False)\n",
    "plt.show()"
   ]
  },
  {
   "cell_type": "code",
   "execution_count": null,
   "metadata": {},
   "outputs": [],
   "source": [
    "from sklearn.naive_bayes import BernoulliNB\n",
    "\n",
    "model = BernoulliNB().fit(X2, y2)\n",
    "y2_pred = model.predict(X2)\n",
    "\n",
    "from sklearn.metrics import classification_report\n",
    "\n",
    "print(classification_report(y2, y2_pred))"
   ]
  },
  {
   "cell_type": "code",
   "execution_count": null,
   "metadata": {},
   "outputs": [],
   "source": [
    "X2 = digits.data\n",
    "y2 = digits.target\n",
    "\n",
    "model = BernoulliNB(binarize=7).fit(X2, y2)\n",
    "y2_pred = model.predict(X2)\n",
    "\n",
    "from sklearn.metrics import classification_report\n",
    "\n",
    "print(classification_report(y2, y2_pred))"
   ]
  },
  {
   "cell_type": "code",
   "execution_count": null,
   "metadata": {},
   "outputs": [],
   "source": [
    "plt.imshow(np.exp(model.feature_log_prob_)[2].reshape((8, 8)), cmap=plt.cm.binary)\n",
    "plt.grid(False)\n",
    "plt.show()"
   ]
  },
  {
   "cell_type": "code",
   "execution_count": null,
   "metadata": {},
   "outputs": [],
   "source": []
  },
  {
   "cell_type": "code",
   "execution_count": null,
   "metadata": {},
   "outputs": [],
   "source": []
  },
  {
   "cell_type": "markdown",
   "metadata": {},
   "source": [
    "### 다항분포 나이브베이즈 모형"
   ]
  },
  {
   "cell_type": "markdown",
   "metadata": {},
   "source": [
    "다항분포 나이브베이즈 모형 클래스 `MultinomialNB`는 가능도 추정과 관련하여 다음 속성을 가진다.\n",
    "\n",
    "* `feature_count_`: 각 클래스 $k$에서 $d$번째 면이 나온 횟수 $N_{d,k}$\n",
    "* `feature_log_prob_`: 다항분포의 모수의 로그\n",
    " \n",
    "$$ \\log \\mu_k = (\\log \\mu_{1,k}, \\ldots, \\log \\mu_{D, k}) = \\left( \\log \\dfrac{N_{1,k}}{N_k}, \\ldots, \\log \\dfrac{N_{D,k}}{N_k} \\right)$$\n",
    " \n",
    "여기에서 $N_k$은 클래스 $k$에 대해 주사위를 던진 총 횟수를 뜻한다.\n",
    "\n",
    "스무딩 공식은\n",
    "\n",
    "$$ \\hat{\\mu}_{d,k} = \\frac{ N_{d,k} + \\alpha}{N_k + D \\alpha} $$ \n",
    "\n",
    "이다."
   ]
  },
  {
   "cell_type": "markdown",
   "metadata": {},
   "source": [
    "이번에도 스팸 메일 필터링을 예로 들어보다. 다만 BOW 인코딩을 할 때, 각 키워드가 출현한 빈도를 직접 입력 변수로 사용한다."
   ]
  },
  {
   "cell_type": "code",
   "execution_count": null,
   "metadata": {},
   "outputs": [],
   "source": [
    "X = np.array([\n",
    "    [3, 4, 1, 2],\n",
    "    [3, 5, 1, 1],\n",
    "    [3, 3, 0, 4],\n",
    "    [3, 4, 1, 2],\n",
    "    [1, 2, 1, 4],\n",
    "    [0, 0, 5, 3],\n",
    "    [1, 2, 4, 1],\n",
    "    [1, 1, 4, 2],\n",
    "    [0, 1, 2, 5],\n",
    "    [2, 1, 2, 3]])\n",
    "y = np.array([0, 0, 0, 0, 1, 1, 1, 1, 1, 1])"
   ]
  },
  {
   "cell_type": "code",
   "execution_count": null,
   "metadata": {},
   "outputs": [],
   "source": [
    "from sklearn.naive_bayes import MultinomialNB\n",
    "model_mult = MultinomialNB().fit(X, y)"
   ]
  },
  {
   "cell_type": "markdown",
   "metadata": {},
   "source": [
    "사전 확률은 다음과 같이 구한다."
   ]
  },
  {
   "cell_type": "code",
   "execution_count": null,
   "metadata": {},
   "outputs": [],
   "source": [
    "model_mult.classes_"
   ]
  },
  {
   "cell_type": "code",
   "execution_count": null,
   "metadata": {},
   "outputs": [],
   "source": [
    "model_mult.class_count_"
   ]
  },
  {
   "cell_type": "code",
   "execution_count": null,
   "metadata": {},
   "outputs": [],
   "source": [
    "np.exp(model_mult.class_log_prior_)"
   ]
  },
  {
   "cell_type": "markdown",
   "metadata": {},
   "source": [
    "다음으로 각 클래스에 대한 가능도 확률분포를 구한다. 다항분포 모형을 사용하므로 각 클래스틑 4개의 면을 가진 주사위로 생각할 수 있다. 그리고 각 면이 나올 확률은 각 면이 나온 횟수를 주사위를 던진 전체 횟수로 나누면 된다. 우선 각 클래스 별로 각각의 면이 나온 횟수는 다음과 같다. "
   ]
  },
  {
   "cell_type": "code",
   "execution_count": null,
   "metadata": {},
   "outputs": [],
   "source": [
    "fc = model_mult.feature_count_\n",
    "fc"
   ]
  },
  {
   "cell_type": "markdown",
   "metadata": {},
   "source": [
    "이 데이터에서 클래스 Y=0인 주사위를 던진 횟수는 첫번째 행의 값의 합인 40이므로 클래스 Y=0인 주사위를 던져 1이라는 면이 나올 확률은 다음처럼 계산할 수 있다.\n",
    "\n",
    "$$ \\mu_{1,Y=0} = \\dfrac{12}{40} = 0.3 $$"
   ]
  },
  {
   "cell_type": "code",
   "execution_count": null,
   "metadata": {},
   "outputs": [],
   "source": [
    "fc / np.repeat(fc.sum(axis=1)[:, np.newaxis], 4, axis=1)"
   ]
  },
  {
   "cell_type": "markdown",
   "metadata": {},
   "source": [
    "실제로는 극단적인 추정을 피하기 위해 이 값을 가중치 1인 스무딩을 한 추정값을 사용한다."
   ]
  },
  {
   "cell_type": "code",
   "execution_count": null,
   "metadata": {},
   "outputs": [],
   "source": [
    "model_mult.alpha"
   ]
  },
  {
   "cell_type": "code",
   "execution_count": null,
   "metadata": {},
   "outputs": [],
   "source": [
    "(fc + model_mult.alpha) / \\\n",
    "    (np.repeat(fc.sum(axis=1)[:, np.newaxis],\n",
    "               4, axis=1) + model_mult.alpha * X.shape[1])"
   ]
  },
  {
   "cell_type": "markdown",
   "metadata": {},
   "source": [
    "이렇게 구한 모수 추정치는 다음과 같다."
   ]
  },
  {
   "cell_type": "code",
   "execution_count": null,
   "metadata": {},
   "outputs": [],
   "source": [
    "theta = np.exp(model_mult.feature_log_prob_)\n",
    "theta"
   ]
  },
  {
   "cell_type": "markdown",
   "metadata": {},
   "source": [
    "이제 이 값을 사용하여 예측을 해 보자. 만약 어떤 메일에 1번부터 4번까지의 키워드가 각각 10번씩 나왔다면 다음처럼 확률을 구할 수 있다. 구해진 확률로부터 이 메일이 스팸임을 알 수 있다. "
   ]
  },
  {
   "cell_type": "code",
   "execution_count": null,
   "metadata": {},
   "outputs": [],
   "source": [
    "x_new = np.array([10, 10, 10, 10])\n",
    "model_mult.predict_proba([x_new])"
   ]
  },
  {
   "cell_type": "markdown",
   "metadata": {},
   "source": [
    "다항분포의 확률질량함수을 사용하면 다음처럼 직접 확률을 구할 수도 있다."
   ]
  },
  {
   "cell_type": "code",
   "execution_count": null,
   "metadata": {},
   "outputs": [],
   "source": [
    "p = (theta ** x_new).prod(axis=1)*np.exp(model_bern.class_log_prior_)\n",
    "p / p.sum()"
   ]
  },
  {
   "cell_type": "code",
   "execution_count": null,
   "metadata": {},
   "outputs": [],
   "source": []
  },
  {
   "cell_type": "markdown",
   "metadata": {},
   "source": [
    "#### 연습 문제 3\n",
    "\n",
    "MNIST 숫자 분류문제를 다항분포 나이브베이즈 모형을 사용하여 풀고 이진화(Binarizing)를 하여 베르누이 나이브베이즈 모형을 적용했을 경우와 성능을 비교하라.\n"
   ]
  },
  {
   "cell_type": "code",
   "execution_count": null,
   "metadata": {},
   "outputs": [],
   "source": [
    "from sklearn.datasets import load_digits\n",
    "\n",
    "digits = load_digits()\n",
    "X2 = digits.data\n",
    "y2 = digits.target\n",
    "\n",
    "from sklearn.naive_bayes import GaussianNB\n",
    "\n",
    "model = GaussianNB().fit(X2, y2)\n",
    "y2_pred = model.predict(X2)\n",
    "\n",
    "from sklearn.metrics import classification_report\n",
    "\n",
    "print(classification_report(y2, y2_pred))"
   ]
  },
  {
   "cell_type": "code",
   "execution_count": null,
   "metadata": {},
   "outputs": [],
   "source": []
  },
  {
   "cell_type": "code",
   "execution_count": null,
   "metadata": {},
   "outputs": [],
   "source": []
  },
  {
   "cell_type": "markdown",
   "metadata": {},
   "source": [
    "#### 연습 문제 4\n",
    "\n",
    "텍스트 분석에서 TF-IDF 인코딩을 하면 단어의 빈도수가 정수가 아닌 실수값이 된다. 이런 경우에도  다항분포 모형을 적용할 수 있는가?\n"
   ]
  },
  {
   "cell_type": "code",
   "execution_count": null,
   "metadata": {},
   "outputs": [],
   "source": [
    "X4 = np.array([\n",
    "    [3.1, 4.0, 1.0, 2.0],\n",
    "    [3.0, 5.0, 1.0, 1.0],\n",
    "    [3.0, 3.5, 0.0, 4.0],\n",
    "    [3.0, 4.0, 1.0, 2.8],\n",
    "    [1.0, 2.1, 1.0, 4.0],\n",
    "    [0.0, 0.0, 5.0, 3.0],\n",
    "    [1.0, 2.0, 4.0, 1.0],\n",
    "    [1.0, 1.0, 4.1, 2.0],\n",
    "    [0.0, 1.0, 2.0, 5.0],\n",
    "    [2.9, 1.0, 2.0, 3.0]])\n",
    "y4 = np.array([0, 0, 0, 0, 1, 1, 1, 1, 1, 1])\n",
    "\n",
    "from sklearn.naive_bayes import MultinomialNB\n",
    "\n",
    "model_mult4 = MultinomialNB().fit(X4, y4)\n",
    "y4_pred = model_mult4.predict(X4)\n",
    "\n",
    "from sklearn.metrics import classification_report\n",
    "\n",
    "print(classification_report(y4, y4_pred))"
   ]
  },
  {
   "cell_type": "code",
   "execution_count": null,
   "metadata": {},
   "outputs": [],
   "source": []
  },
  {
   "cell_type": "markdown",
   "metadata": {},
   "source": [
    "### 뉴스그룹 분류"
   ]
  },
  {
   "cell_type": "markdown",
   "metadata": {},
   "source": [
    "다음은 뉴스그룹 데이터에 대해 나이브베이즈 분류모형을 적용한 결과이다. "
   ]
  },
  {
   "cell_type": "code",
   "execution_count": null,
   "metadata": {},
   "outputs": [],
   "source": [
    "from sklearn.datasets import fetch_20newsgroups\n",
    "\n",
    "news = fetch_20newsgroups(subset=\"all\")\n",
    "X = news.data\n",
    "y = news.target\n",
    "\n",
    "from sklearn.feature_extraction.text import TfidfVectorizer, HashingVectorizer, CountVectorizer\n",
    "from sklearn.naive_bayes import MultinomialNB\n",
    "from sklearn.pipeline import Pipeline\n",
    "\n",
    "model1 = Pipeline([\n",
    "    ('vect', CountVectorizer()),\n",
    "    ('model', MultinomialNB()),\n",
    "])\n",
    "model2 = Pipeline([\n",
    "    ('vect', TfidfVectorizer()),\n",
    "    ('model', MultinomialNB()),\n",
    "])\n",
    "model3 = Pipeline([\n",
    "    ('vect', TfidfVectorizer(stop_words=\"english\")),\n",
    "    ('model', MultinomialNB()),\n",
    "])\n",
    "model4 = Pipeline([\n",
    "    ('vect', TfidfVectorizer(stop_words=\"english\",\n",
    "                             token_pattern=r\"\\b[a-z0-9_\\-\\.]+[a-z][a-z0-9_\\-\\.]+\\b\")),\n",
    "    ('model', MultinomialNB()),\n",
    "])"
   ]
  },
  {
   "cell_type": "code",
   "execution_count": null,
   "metadata": {},
   "outputs": [],
   "source": [
    "%%time\n",
    "from sklearn.model_selection import cross_val_score, KFold\n",
    "\n",
    "for i, model in enumerate([model1, model2, model3, model4]):\n",
    "    scores = cross_val_score(model, X, y, cv=5)\n",
    "    print((\"Model{0:d}: Mean score: {1:.3f}\").format(i + 1, np.mean(scores)))"
   ]
  },
  {
   "cell_type": "code",
   "execution_count": null,
   "metadata": {},
   "outputs": [],
   "source": []
  },
  {
   "cell_type": "markdown",
   "metadata": {},
   "source": [
    "#### 연습 문제 5\n",
    "\n",
    "(1) 만약 독립변수로 실수 변수, 0 또는 1 값을 가지는 변수, 자연수 값을 가지는 변수가 섞여있다면 사이킷런에서 제공하는 나이브베이즈 클래스를 사용하여 풀 수 있는가?\n",
    "\n",
    "(2) 사이킷런에서 제공하는 분류문제 예제 중 숲의 수종을 예측하는 covtype 분류문제는 연속확률분포 특징과 베르누이확률분포 특징이 섞여있다. 이 문제를 사이킷런에서 제공하는 나이브베이즈 클래스를 사용하여 풀어라."
   ]
  },
  {
   "cell_type": "code",
   "execution_count": null,
   "metadata": {},
   "outputs": [],
   "source": [
    "from sklearn.datasets import fetch_covtype\n",
    "\n",
    "covtype = fetch_covtype()\n",
    "X = covtype.data\n",
    "y = covtype.target\n",
    "X1 = X[:, :10]\n",
    "X2 = X[:, 10:]\n",
    "X1[0], X2[0]"
   ]
  },
  {
   "cell_type": "code",
   "execution_count": null,
   "metadata": {},
   "outputs": [],
   "source": [
    "from sklearn.naive_bayes import GaussianNB, BernoulliNB\n",
    "\n",
    "model1 = GaussianNB().fit(X1, y)\n",
    "model2 = BernoulliNB().fit(X2, y)\n",
    "\n",
    "prob1 = model1.predict_proba(X1)\n",
    "prob2 = model2.predict_proba(X2)\n",
    "\n",
    "likeli1 = prob1 / model1.class_prior_\n",
    "likeli2 = prob2 / model1.class_prior_\n",
    "prob = likeli1 * likeli2 * model1.class_prior_\n",
    "y_pred = np.argmax(prob, axis=1) + 1"
   ]
  },
  {
   "cell_type": "code",
   "execution_count": null,
   "metadata": {},
   "outputs": [],
   "source": [
    "confusion_matrix(y, y_pred)"
   ]
  },
  {
   "cell_type": "code",
   "execution_count": null,
   "metadata": {},
   "outputs": [],
   "source": [
    "print(classification_report(y, y_pred))"
   ]
  },
  {
   "cell_type": "code",
   "execution_count": null,
   "metadata": {},
   "outputs": [],
   "source": [
    "model = BernoulliNB().fit(X, y)\n",
    "y_pred = model.predict(X)\n",
    "print(classification_report(y, y_pred))"
   ]
  },
  {
   "cell_type": "code",
   "execution_count": null,
   "metadata": {},
   "outputs": [],
   "source": []
  },
  {
   "cell_type": "code",
   "execution_count": null,
   "metadata": {},
   "outputs": [],
   "source": []
  },
  {
   "cell_type": "code",
   "execution_count": null,
   "metadata": {},
   "outputs": [],
   "source": []
  },
  {
   "cell_type": "code",
   "execution_count": null,
   "metadata": {},
   "outputs": [],
   "source": []
  },
  {
   "cell_type": "markdown",
   "metadata": {},
   "source": [
    "# 감성 분석"
   ]
  },
  {
   "cell_type": "markdown",
   "metadata": {},
   "source": [
    "앞에서 공부한 나이브 베이즈 분류 모형을 이용하여 문서에 대한 감성 분석(sentiment analysis)를 해보자. 감성 분석이란 문서에 대해 좋다(positive) 혹은 나쁘다(negative)는 평가를 내리는 것을 말한다.\n",
    "\n",
    "샘플 데이터로는 github에 올려져 있는 네이버 영화 감상평에 대한 감성 분석 예제를 이용한다.\n",
    "\n",
    "* https://github.com/e9t/nsmc"
   ]
  },
  {
   "cell_type": "markdown",
   "metadata": {},
   "source": [
    "## 데이터 전처리"
   ]
  },
  {
   "cell_type": "markdown",
   "metadata": {},
   "source": [
    "우선 데이터를 다운로드 받아서 읽어보자."
   ]
  },
  {
   "cell_type": "code",
   "execution_count": 15,
   "metadata": {},
   "outputs": [
    {
     "name": "stdout",
     "output_type": "stream",
     "text": [
      "--2021-08-30 14:48:53--  https://raw.githubusercontent.com/e9t/nsmc/master/ratings_train.txt\n",
      "Resolving raw.githubusercontent.com (raw.githubusercontent.com)... 185.199.111.133, 185.199.110.133, 185.199.109.133, ...\n",
      "Connecting to raw.githubusercontent.com (raw.githubusercontent.com)|185.199.111.133|:443... connected.\n",
      "HTTP request sent, awaiting response... 200 OK\n",
      "Length: 14628807 (14M) [text/plain]\n",
      "Saving to: ‘ratings_train.txt’\n",
      "\n",
      "ratings_train.txt   100%[===================>]  13.95M  15.8MB/s    in 0.9s    \n",
      "\n",
      "2021-08-30 14:48:56 (15.8 MB/s) - ‘ratings_train.txt’ saved [14628807/14628807]\n",
      "\n",
      "--2021-08-30 14:48:57--  https://raw.githubusercontent.com/e9t/nsmc/master/ratings_test.txt\n",
      "Resolving raw.githubusercontent.com (raw.githubusercontent.com)... 185.199.111.133, 185.199.110.133, 185.199.109.133, ...\n",
      "Connecting to raw.githubusercontent.com (raw.githubusercontent.com)|185.199.111.133|:443... connected.\n",
      "HTTP request sent, awaiting response... 200 OK\n",
      "Length: 4893335 (4.7M) [text/plain]\n",
      "Saving to: ‘ratings_test.txt’\n",
      "\n",
      "ratings_test.txt    100%[===================>]   4.67M  14.0MB/s    in 0.3s    \n",
      "\n",
      "2021-08-30 14:48:58 (14.0 MB/s) - ‘ratings_test.txt’ saved [4893335/4893335]\n",
      "\n",
      "CPU times: user 116 ms, sys: 75.3 ms, total: 191 ms\n",
      "Wall time: 5.83 s\n"
     ]
    }
   ],
   "source": [
    "%%time\n",
    "!rm -f ratings_train.txt ratings_test.txt\n",
    "!wget -nc https://raw.githubusercontent.com/e9t/nsmc/master/ratings_train.txt\n",
    "!wget -nc https://raw.githubusercontent.com/e9t/nsmc/master/ratings_test.txt"
   ]
  },
  {
   "cell_type": "markdown",
   "metadata": {},
   "source": [
    "여기에서는 유니코드로 인코딩하며 읽기 위해 codecs 패키지를 사용한다. 읽어들인 결과는 유니코드 문자열이 된다."
   ]
  },
  {
   "cell_type": "code",
   "execution_count": null,
   "metadata": {},
   "outputs": [],
   "source": [
    "import codecs\n",
    "with codecs.open(\"ratings_train.txt\", encoding='utf-8') as f:\n",
    "    data = [line.split('\\t') for line in f.read().splitlines()]\n",
    "    data = data[1:]   # header 제외"
   ]
  },
  {
   "cell_type": "markdown",
   "metadata": {},
   "source": [
    "이 데이터는 번호, 내용, 평점으로 이루져 있으므로 내용을 X, 평점을 y로 저장한다."
   ]
  },
  {
   "cell_type": "code",
   "execution_count": 16,
   "metadata": {},
   "outputs": [
    {
     "ename": "NameError",
     "evalue": "name 'data' is not defined",
     "output_type": "error",
     "traceback": [
      "\u001b[0;31m---------------------------------------------------------------------------\u001b[0m",
      "\u001b[0;31mNameError\u001b[0m                                 Traceback (most recent call last)",
      "\u001b[0;32m<ipython-input-16-05e9957e2e80>\u001b[0m in \u001b[0;36m<module>\u001b[0;34m\u001b[0m\n\u001b[1;32m      1\u001b[0m \u001b[0;32mfrom\u001b[0m \u001b[0mpprint\u001b[0m \u001b[0;32mimport\u001b[0m \u001b[0mpprint\u001b[0m\u001b[0;34m\u001b[0m\u001b[0;34m\u001b[0m\u001b[0m\n\u001b[0;32m----> 2\u001b[0;31m \u001b[0mpprint\u001b[0m\u001b[0;34m(\u001b[0m\u001b[0mdata\u001b[0m\u001b[0;34m[\u001b[0m\u001b[0;36m0\u001b[0m\u001b[0;34m]\u001b[0m\u001b[0;34m)\u001b[0m\u001b[0;34m\u001b[0m\u001b[0;34m\u001b[0m\u001b[0m\n\u001b[0m",
      "\u001b[0;31mNameError\u001b[0m: name 'data' is not defined"
     ]
    }
   ],
   "source": [
    "from pprint import pprint\n",
    "pprint(data[0])"
   ]
  },
  {
   "cell_type": "code",
   "execution_count": null,
   "metadata": {},
   "outputs": [],
   "source": [
    "X = list(zip(*data))[1]\n",
    "y = np.array(list(zip(*data))[2], dtype=int)"
   ]
  },
  {
   "cell_type": "markdown",
   "metadata": {},
   "source": [
    "이제 이 데이터를 다항 나이브 베이즈 모형으로 학습시킨다."
   ]
  },
  {
   "cell_type": "code",
   "execution_count": null,
   "metadata": {},
   "outputs": [],
   "source": [
    "from sklearn.feature_extraction.text import CountVectorizer\n",
    "from sklearn.naive_bayes import MultinomialNB\n",
    "from sklearn.pipeline import Pipeline\n",
    "from sklearn.metrics import classification_report\n",
    "\n",
    "model1 = Pipeline([\n",
    "    ('vect', CountVectorizer()),\n",
    "    ('mb', MultinomialNB()),\n",
    "])"
   ]
  },
  {
   "cell_type": "code",
   "execution_count": null,
   "metadata": {},
   "outputs": [],
   "source": [
    "%%time\n",
    "model1.fit(X, y)"
   ]
  },
  {
   "cell_type": "markdown",
   "metadata": {},
   "source": [
    "모형의 성능을 보기 위해 테스트 데이터도 읽어들인다."
   ]
  },
  {
   "cell_type": "code",
   "execution_count": null,
   "metadata": {},
   "outputs": [],
   "source": [
    "import codecs\n",
    "with codecs.open(\"ratings_test.txt\", encoding='utf-8') as f:\n",
    "    data_test = [line.split('\\t') for line in f.read().splitlines()]\n",
    "    data_test = data_test[1:]   # header 제외"
   ]
  },
  {
   "cell_type": "code",
   "execution_count": null,
   "metadata": {},
   "outputs": [],
   "source": [
    "X_test = list(zip(*data_test))[1]\n",
    "y_test = np.array(list(zip(*data_test))[2], dtype=int)\n",
    "\n",
    "print(classification_report(y_test, model1.predict(X_test)))"
   ]
  },
  {
   "cell_type": "markdown",
   "metadata": {},
   "source": [
    "이 결과를 Tfidf 방법을 사용했을 때와 비교해 보자."
   ]
  },
  {
   "cell_type": "code",
   "execution_count": null,
   "metadata": {},
   "outputs": [],
   "source": [
    "from sklearn.feature_extraction.text import TfidfVectorizer\n",
    "\n",
    "model2 = Pipeline([\n",
    "    ('vect', TfidfVectorizer()),\n",
    "    ('mb', MultinomialNB()),\n",
    "])"
   ]
  },
  {
   "cell_type": "code",
   "execution_count": null,
   "metadata": {},
   "outputs": [],
   "source": [
    "%%time\n",
    "model2.fit(X, y)"
   ]
  },
  {
   "cell_type": "code",
   "execution_count": null,
   "metadata": {},
   "outputs": [],
   "source": [
    "print(classification_report(y_test, model2.predict(X_test)))"
   ]
  },
  {
   "cell_type": "markdown",
   "metadata": {},
   "source": [
    "이번에는 형태소 분석기를 사용한 결과와 비교한다."
   ]
  },
  {
   "cell_type": "code",
   "execution_count": null,
   "metadata": {},
   "outputs": [],
   "source": [
    "from konlpy.tag import Okt\n",
    "pos_tagger = Okt()\n",
    "\n",
    "def tokenize_pos(doc):\n",
    "    return ['/'.join(t) for t in pos_tagger.pos(doc)]"
   ]
  },
  {
   "cell_type": "code",
   "execution_count": null,
   "metadata": {},
   "outputs": [],
   "source": [
    "model3 = Pipeline([\n",
    "    ('vect', CountVectorizer(tokenizer=tokenize_pos)),\n",
    "    ('mb', MultinomialNB()),\n",
    "])"
   ]
  },
  {
   "cell_type": "code",
   "execution_count": null,
   "metadata": {},
   "outputs": [],
   "source": [
    "%%time\n",
    "model3.fit(X, y)"
   ]
  },
  {
   "cell_type": "code",
   "execution_count": null,
   "metadata": {},
   "outputs": [],
   "source": [
    "print(classification_report(y_test, model3.predict(X_test)))"
   ]
  },
  {
   "cell_type": "code",
   "execution_count": null,
   "metadata": {},
   "outputs": [],
   "source": []
  },
  {
   "cell_type": "markdown",
   "metadata": {},
   "source": [
    "(1,2)-gram 을 사용하면 성능이 더 개선되는 것을 볼 수 있다."
   ]
  },
  {
   "cell_type": "code",
   "execution_count": null,
   "metadata": {},
   "outputs": [],
   "source": [
    "model4 = Pipeline([\n",
    "    ('vect', TfidfVectorizer(tokenizer=tokenize_pos, ngram_range=(1, 2))),\n",
    "    ('mb', MultinomialNB()),\n",
    "])"
   ]
  },
  {
   "cell_type": "code",
   "execution_count": null,
   "metadata": {},
   "outputs": [],
   "source": [
    "%%time\n",
    "model4.fit(X, y)"
   ]
  },
  {
   "cell_type": "code",
   "execution_count": null,
   "metadata": {},
   "outputs": [],
   "source": [
    "print(classification_report(y_test, model4.predict(X_test)))"
   ]
  },
  {
   "cell_type": "code",
   "execution_count": null,
   "metadata": {},
   "outputs": [],
   "source": []
  },
  {
   "cell_type": "code",
   "execution_count": null,
   "metadata": {},
   "outputs": [],
   "source": []
  },
  {
   "cell_type": "code",
   "execution_count": null,
   "metadata": {},
   "outputs": [],
   "source": []
  },
  {
   "cell_type": "code",
   "execution_count": null,
   "metadata": {},
   "outputs": [],
   "source": []
  },
  {
   "cell_type": "code",
   "execution_count": null,
   "metadata": {},
   "outputs": [],
   "source": []
  },
  {
   "cell_type": "code",
   "execution_count": null,
   "metadata": {},
   "outputs": [],
   "source": []
  }
 ],
 "metadata": {
  "kernelspec": {
   "display_name": "Python 3",
   "language": "python",
   "name": "python3"
  },
  "language_info": {
   "codemirror_mode": {
    "name": "ipython",
    "version": 3
   },
   "file_extension": ".py",
   "mimetype": "text/x-python",
   "name": "python",
   "nbconvert_exporter": "python",
   "pygments_lexer": "ipython3",
   "version": "3.8.5"
  }
 },
 "nbformat": 4,
 "nbformat_minor": 4
}
