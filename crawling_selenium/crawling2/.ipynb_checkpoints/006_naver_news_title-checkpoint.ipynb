{
 "cells": [
  {
   "cell_type": "markdown",
   "metadata": {},
   "source": [
    "#### 네이버 기사 제목 데이터 크롤링\n",
    "- selenium 을 이용한 텍스트 데이터 수집\n",
    "- thread 를 사용한 데이터 수집"
   ]
  },
  {
   "cell_type": "markdown",
   "metadata": {},
   "source": [
    "- 1, 2, 3 페이지를 크롤링 하는 경우\n",
    "- 1페이지 request - response. \n",
    "- 그 후에 2 페이지 request - response. \n",
    "- 그 후에 3페이지 \n",
    "- 동기\n",
    "\n",
    "지금까지는 이런 방식으로 동작했음. "
   ]
  },
  {
   "cell_type": "markdown",
   "metadata": {},
   "source": [
    "- thread를 이용하면, 1페이지 request를 하고, response를 기다리는 동안 2페이지 request. \n",
    "- idle time을 줄이는 방식\n",
    "- 비동기\n",
    "- 이런 task를 관리해주는 툴이 있음. `celer`\n",
    "- scrapy는 자동으로 이렇게 async로 동작함. "
   ]
  },
  {
   "cell_type": "code",
   "execution_count": null,
   "metadata": {},
   "outputs": [],
   "source": []
  },
  {
   "cell_type": "code",
   "execution_count": 2,
   "metadata": {},
   "outputs": [],
   "source": [
    "from selenium import webdriver"
   ]
  },
  {
   "cell_type": "code",
   "execution_count": 4,
   "metadata": {},
   "outputs": [],
   "source": [
    "page = 2\n",
    "url = \"https://news.naver.com/main/main.nhn?\\\n",
    "mode=LSD&mid=shm&sid1=105#&date=%2000:00:00&page={}\".format(page)"
   ]
  },
  {
   "cell_type": "code",
   "execution_count": 5,
   "metadata": {},
   "outputs": [],
   "source": [
    "driver = webdriver.Chrome(executable_path=\"/usr/local/bin/chromedriver\")\n",
    "driver.get(url)"
   ]
  },
  {
   "cell_type": "code",
   "execution_count": 6,
   "metadata": {
    "scrolled": true
   },
   "outputs": [
    {
     "data": {
      "text/plain": [
       "20"
      ]
     },
     "execution_count": 6,
     "metadata": {},
     "output_type": "execute_result"
    }
   ],
   "source": [
    "articles = driver.find_elements_by_css_selector(\"#section_body li\")\n",
    "len(articles)"
   ]
  },
  {
   "cell_type": "code",
   "execution_count": 6,
   "metadata": {
    "scrolled": false
   },
   "outputs": [
    {
     "data": {
      "text/plain": [
       "'인텔 \"새로운 아키텍처 개발, 삼성전자와 협력\"'"
      ]
     },
     "execution_count": 6,
     "metadata": {},
     "output_type": "execute_result"
    }
   ],
   "source": [
    "articles[0].find_element_by_css_selector(\"dt:not(.photo) > a\").text"
   ]
  },
  {
   "cell_type": "code",
   "execution_count": 7,
   "metadata": {},
   "outputs": [],
   "source": [
    "article_list = []\n",
    "\n",
    "for article in articles:\n",
    "    title = article.find_element_by_css_selector(\"dt:not(.photo) > a\").text\n",
    "    article_list.append(title)"
   ]
  },
  {
   "cell_type": "code",
   "execution_count": 8,
   "metadata": {
    "scrolled": false
   },
   "outputs": [
    {
     "data": {
      "text/plain": [
       "[\"[스타트업 돋보기]숙박 플랫폼 '온다'가 '구글호텔'과 손잡은 이유\",\n",
       " '삼성 폴더블폰 흥행에…애플 가격·샤오미 프리미엄으로 도전 [하반기 한미중 스마트폰 전쟁]',\n",
       " '기계연, 미세유로칩 양산 기술로 바이오 핵심 소재 리포솜 대량 생산 길 열어',\n",
       " '공공 클라우드 카카오 가세하자…네이버 \"톱2는 나, 격차 벌린다\"',\n",
       " '세계 첫 전원 민간인 우주선 발사 성공…유리돔 너머 ‘지구뷰’ 공개',\n",
       " \"[아!이뉴스] '온플법' 카카오 못 막는다…LGU+ 스마트팩토리 5년내 매출 7배↑\",\n",
       " '“네이버도 미용실 예약, 족발 주문도 하는데”…카카오만 당하다?',\n",
       " \"35일후 우주로…韓 독자개발 '누리호' 새 역사 쓴다\",\n",
       " '[와우! 과학] 22만 6000년 전 어린이의 손자국…인류 최초의 예술?',\n",
       " '아이폰13, 韓 6번째로 저렴…국가별 가격 왜 다를까?',\n",
       " '코로나19 치료제, 개발 세분화 된다…\"차별화 움직임\"',\n",
       " '네이버웹툰, 문피아 지분 추가 취득…최대주주 등극',\n",
       " 'ARM, 차량용 반도체도 ‘ARM DNA’ 심는다',\n",
       " '소상공인 대출 상환유예 연장…케뱅·카뱅, 중저신용자 신규대출 이자 지원',\n",
       " '네이버 \"아마존·MS와 빅3 될 것…클라우드 연매출 80% 재투자\"',\n",
       " \"셀트리온, 지배구조 개편 '첫단추'…비상장 3사 합병 승인\",\n",
       " '[미래기술25]일상에 스며든 양자기술…양자암호폰에 CCTV까지',\n",
       " '[DD 퇴근길] “삼성·애플 기다려”…샤오미 가성비, 태블릿도 통할까',\n",
       " \"[플랫폼 수난시대] ② '온플법' 카카오 못 막는다…포퓰리즘 '우려'\",\n",
       " '삼성, 갤폴드3·갤플립3 인기에 비명… 물량 부족에 사전개통 또 연장']"
      ]
     },
     "execution_count": 8,
     "metadata": {},
     "output_type": "execute_result"
    }
   ],
   "source": [
    "article_list"
   ]
  },
  {
   "cell_type": "code",
   "execution_count": 9,
   "metadata": {},
   "outputs": [],
   "source": [
    "driver.quit()"
   ]
  },
  {
   "cell_type": "code",
   "execution_count": 10,
   "metadata": {},
   "outputs": [],
   "source": [
    "# 함수로 만들기\n",
    "article_list = []\n",
    "\n",
    "def get_articles(page):\n",
    "    driver = webdriver.Chrome()\n",
    "    url = \"https://news.naver.com/main/main.nhn?\\\n",
    "mode=LSD&mid=shm&sid1=105#&date=%2000:00:00&page={}\".format(page)\n",
    "    driver.get(url)\n",
    "    articles = driver.find_elements_by_css_selector(\"#section_body li\")\n",
    "    for article in articles:\n",
    "        title = article.find_element_by_css_selector(\"dt:not(.photo) > a\").text\n",
    "        article_list.append(title)\n",
    "    print(\"crawling : page {}\".format(page))\n",
    "    driver.quit()"
   ]
  },
  {
   "cell_type": "code",
   "execution_count": 11,
   "metadata": {},
   "outputs": [
    {
     "name": "stdout",
     "output_type": "stream",
     "text": [
      "crawling : page 1\n",
      "crawling : page 2\n",
      "crawling : page 3\n",
      "crawling : page 4\n",
      "CPU times: user 182 ms, sys: 78.3 ms, total: 260 ms\n",
      "Wall time: 20 s\n"
     ]
    }
   ],
   "source": [
    "%%time\n",
    "for page in range(1, 5):\n",
    "    get_articles(page)"
   ]
  },
  {
   "cell_type": "code",
   "execution_count": 12,
   "metadata": {
    "scrolled": true
   },
   "outputs": [
    {
     "data": {
      "text/plain": [
       "80"
      ]
     },
     "execution_count": 12,
     "metadata": {},
     "output_type": "execute_result"
    }
   ],
   "source": [
    "len(article_list)"
   ]
  },
  {
   "cell_type": "code",
   "execution_count": 13,
   "metadata": {},
   "outputs": [
    {
     "data": {
      "text/plain": [
       "[\"내 코인 어떡할까?…'혼돈의 시간' 투자자 대처법\", '갤플립3 라벤더 품귀…사전예약분 개통 두 차례 연기']"
      ]
     },
     "execution_count": 13,
     "metadata": {},
     "output_type": "execute_result"
    }
   ],
   "source": [
    "article_list[:2]"
   ]
  },
  {
   "cell_type": "markdown",
   "metadata": {},
   "source": [
    "#### thread 사용"
   ]
  },
  {
   "cell_type": "markdown",
   "metadata": {},
   "source": [
    "함수로 thread를 실행시키는 것. "
   ]
  },
  {
   "cell_type": "markdown",
   "metadata": {},
   "source": [
    "아래 두 for문과 while문을 동시에 실행시키면서 time을 측정. \n",
    "async는 끝날때를 몰라서, 이렇게 체크 하는 것. \n",
    "\n",
    "그래서 실무에서는 이렇게 안하고, async관리 툴들을 쓴다. 혹은 이것을 알아서 해주는게 scrapy. "
   ]
  },
  {
   "cell_type": "code",
   "execution_count": 15,
   "metadata": {},
   "outputs": [],
   "source": [
    "import threading"
   ]
  },
  {
   "cell_type": "code",
   "execution_count": 19,
   "metadata": {},
   "outputs": [],
   "source": [
    "article_list = []\n",
    "\n",
    "for page in range(1, 5):\n",
    "    # page 뒤 comma를 붙여야 데이터 1개 있는 튜플이 되는 것. \n",
    "    th = threading.Thread(target=get_articles, args=(page,))\n",
    "    # async start next function\n",
    "    th.start()"
   ]
  },
  {
   "cell_type": "markdown",
   "metadata": {},
   "source": [
    "browser 하나당 거의 100MB를 잡아먹게 된다. 너무 async많이 시켜서 브라우져가 너무 많이 뜨면 에러 난다. "
   ]
  },
  {
   "cell_type": "code",
   "execution_count": 20,
   "metadata": {
    "scrolled": true
   },
   "outputs": [
    {
     "name": "stdout",
     "output_type": "stream",
     "text": [
      "1 2 3 4 5 6 7 8 9 crawling : page 3\n",
      "10 11 crawling : page 2\n",
      "crawling : page 4\n",
      "crawling : page 1\n",
      "12 "
     ]
    }
   ],
   "source": [
    "import time\n",
    "sec = 0\n",
    "while len(article_list) < 80:\n",
    "    # 80개가 넘을때까지, 1, 2, 3 이렇게 seconds를 출력\n",
    "    time.sleep(1)\n",
    "    sec += 1\n",
    "    print(sec, end=\" \")"
   ]
  },
  {
   "cell_type": "code",
   "execution_count": 18,
   "metadata": {},
   "outputs": [
    {
     "data": {
      "text/plain": [
       "(1,)"
      ]
     },
     "execution_count": 18,
     "metadata": {},
     "output_type": "execute_result"
    }
   ],
   "source": [
    "(1, )"
   ]
  },
  {
   "cell_type": "code",
   "execution_count": null,
   "metadata": {},
   "outputs": [],
   "source": []
  }
 ],
 "metadata": {
  "kernelspec": {
   "display_name": "Python 3",
   "language": "python",
   "name": "python3"
  },
  "language_info": {
   "codemirror_mode": {
    "name": "ipython",
    "version": 3
   },
   "file_extension": ".py",
   "mimetype": "text/x-python",
   "name": "python",
   "nbconvert_exporter": "python",
   "pygments_lexer": "ipython3",
   "version": "3.8.5"
  }
 },
 "nbformat": 4,
 "nbformat_minor": 2
}
