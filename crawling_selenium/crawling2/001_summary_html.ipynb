{
 "cells": [
  {
   "cell_type": "markdown",
   "metadata": {},
   "source": [
    "- HTML : 화면의 레이아웃이나 텍스트 \n",
    "- CSS : 화면의 색상 크기 등의 스타일 \n",
    "- JS : 화면의 클릭, 드레그 등등의 이벤트"
   ]
  },
  {
   "cell_type": "markdown",
   "metadata": {},
   "source": [
    "### 1. HTML\n",
    "- 웹 문서를 작성하는 언어\n",
    "- Document\n",
    "    - HTML 코드를 구성하고 있는 모든 문자열 코드\n",
    "    - 페이지 전체 의미\n",
    "       \n",
    "- Element\n",
    "    - Document를 구성하고 있는 단위\n",
    "    - 시작 Tag와 끝 Tag로 구성되어 있습니다.\n",
    "    - 테그 하나하나를 Element라고 한다. \n",
    "    - Element 안에 또 Element, 그 안에 또 Element가 있을 수 있다. **계층적 구조**로 이루어져 있다. \n",
    "    \n",
    "- Tag\n",
    "    - Element를 구성하는 단위\n",
    "    - Tag의 종류에 따라서 웹 서비스에서 사용되는 기능이 달라집니다.\n",
    "    - 테그와 테그 사이에는 문자열 데이터를 가질 수 있다. \n",
    "    - 시작 Tag에 속성값을 설정할수 있습니다.\n",
    "    - div, ul li, a, p, span, img, table\n",
    "   \n",
    "    \n",
    "- Attribute\n",
    "    - 시작태그(**<**)에 태그의 속성을 설정하는 값\n",
    "    - id, class : 이 두가지는 목적 자체가 Element 선택이 목적\n",
    "        - id : 웹페이지 내에서 유일한 값\n",
    "        - class : 페이지 내에서 같은 값 사용이 가능, 엘리먼트 내에서도 여러개 설정\n",
    "    - 기타"
   ]
  },
  {
   "cell_type": "code",
   "execution_count": 4,
   "metadata": {},
   "outputs": [
    {
     "data": {
      "text/html": [
       "<div class=\"wrapper\">\n",
       "    <button id=\"button1\" type=\"button\" class=\"btn-1\">HTML 1</button>\n",
       "    <button id=\"button2\" type=\"button\" class=\"btn-1\" style=\"color:red\">HTML 2</button>    \n",
       "</div>\n"
      ],
      "text/plain": [
       "<IPython.core.display.HTML object>"
      ]
     },
     "metadata": {},
     "output_type": "display_data"
    }
   ],
   "source": [
    "%%html\n",
    "<div class=\"wrapper\">\n",
    "    <button id=\"button1\" type=\"button\" class=\"btn-1\">HTML 1</button>\n",
    "    <button id=\"button2\" type=\"button\" class=\"btn-1\" style=\"color:red\">HTML 2</button>    \n",
    "</div>"
   ]
  },
  {
   "cell_type": "code",
   "execution_count": 5,
   "metadata": {},
   "outputs": [
    {
     "data": {
      "text/html": [
       "\n",
       "<div>\n",
       "    <p>html 1</p>\n",
       "    <p>html 2</p>\n",
       "</div>\n",
       "<div>\n",
       "    <p>html 3</p>\n",
       "</div>\n"
      ],
      "text/plain": [
       "<IPython.core.display.HTML object>"
      ]
     },
     "metadata": {},
     "output_type": "display_data"
    }
   ],
   "source": [
    "%%html \n",
    "\n",
    "<div>\n",
    "    <p>html 1</p>\n",
    "    <p>html 2</p>\n",
    "</div>\n",
    "<div>\n",
    "    <p>html 3</p>\n",
    "</div>"
   ]
  },
  {
   "cell_type": "code",
   "execution_count": 6,
   "metadata": {},
   "outputs": [
    {
     "data": {
      "text/html": [
       "<table>\n",
       "    <caption>Table Title</caption>\n",
       "    <thead>\n",
       "        <tr>\n",
       "            <th>Code</th>\n",
       "            <th>Company</th>\n",
       "\n",
       "        </tr>\n",
       "    </thead>\n",
       "        <tr>\n",
       "            <td>0001</td>\n",
       "            <td>Samsung</td>\n",
       "        </tr>\n",
       "        <tr>\n",
       "            <td>0002</td>\n",
       "            <td>Kakao</td>\n",
       "        </tr>\n",
       "    <tbody>\n",
       "    </tbody>    \n",
       "    \n",
       "</table>\n"
      ],
      "text/plain": [
       "<IPython.core.display.HTML object>"
      ]
     },
     "metadata": {},
     "output_type": "display_data"
    }
   ],
   "source": [
    "%%html\n",
    "<table>\n",
    "    <caption>Table Title</caption>\n",
    "    <thead>\n",
    "        <tr>\n",
    "            <th>Code</th>\n",
    "            <th>Company</th>\n",
    "\n",
    "        </tr>\n",
    "    </thead>\n",
    "        <tr>\n",
    "            <td>0001</td>\n",
    "            <td>Samsung</td>\n",
    "        </tr>\n",
    "        <tr>\n",
    "            <td>0002</td>\n",
    "            <td>Kakao</td>\n",
    "        </tr>\n",
    "    <tbody>\n",
    "    </tbody>    \n",
    "    \n",
    "</table>"
   ]
  },
  {
   "cell_type": "markdown",
   "metadata": {},
   "source": [
    "li - list를 나타내는 코드"
   ]
  },
  {
   "cell_type": "code",
   "execution_count": 7,
   "metadata": {},
   "outputs": [
    {
     "data": {
      "text/html": [
       "<ul>\n",
       "<li>1</li>\n",
       "<li>2</li>\n",
       "<li>3</li>\n",
       "</ul>\n"
      ],
      "text/plain": [
       "<IPython.core.display.HTML object>"
      ]
     },
     "metadata": {},
     "output_type": "display_data"
    }
   ],
   "source": [
    "%%html\n",
    "<ul>\n",
    "    <li>1</li>\n",
    "    <li>2</li>\n",
    "    <li>3</li>\n",
    "</ul>"
   ]
  },
  {
   "cell_type": "markdown",
   "metadata": {},
   "source": [
    "a - 링크를 출력하는 태그, href 속성값에 이동할 URL을 넣습니다. "
   ]
  },
  {
   "cell_type": "code",
   "execution_count": 8,
   "metadata": {},
   "outputs": [
    {
     "data": {
      "text/html": [
       "\n",
       "<a href=\"https://naver.com\" target=\"_blank\">\n",
       "    naver\n",
       "</a>\n"
      ],
      "text/plain": [
       "<IPython.core.display.HTML object>"
      ]
     },
     "metadata": {},
     "output_type": "display_data"
    }
   ],
   "source": [
    "%%html\n",
    "\n",
    "<a href=\"https://naver.com\" target=\"_blank\">\n",
    "    naver\n",
    "</a>"
   ]
  },
  {
   "cell_type": "markdown",
   "metadata": {},
   "source": [
    "img"
   ]
  },
  {
   "cell_type": "code",
   "execution_count": 10,
   "metadata": {},
   "outputs": [
    {
     "data": {
      "text/html": [
       "\n",
       "<img src=\"https://storage.googleapis.com/static.fastcampus.co.kr/prod/uploads/202108/140209-348/bridge-image.png\"></img>\n"
      ],
      "text/plain": [
       "<IPython.core.display.HTML object>"
      ]
     },
     "metadata": {},
     "output_type": "display_data"
    }
   ],
   "source": [
    "%%html\n",
    "\n",
    "<img src=\"https://storage.googleapis.com/static.fastcampus.co.kr/prod/uploads/202108/140209-348/bridge-image.png\"></img>"
   ]
  },
  {
   "cell_type": "code",
   "execution_count": null,
   "metadata": {},
   "outputs": [],
   "source": []
  },
  {
   "cell_type": "markdown",
   "metadata": {},
   "source": [
    "iframe - 외부 URL 링크의 페이지를 보여주기 위한 태그. "
   ]
  },
  {
   "cell_type": "code",
   "execution_count": 14,
   "metadata": {},
   "outputs": [
    {
     "data": {
      "text/html": [
       "<iframe src=\"https://fastcampus.co.kr/\" width=\"400px\" height=\"100px\"></iframe>\n"
      ],
      "text/plain": [
       "<IPython.core.display.HTML object>"
      ]
     },
     "metadata": {},
     "output_type": "display_data"
    }
   ],
   "source": [
    "%%html\n",
    "<iframe src=\"https://fastcampus.co.kr/\" width=\"400px\" height=\"100px\"></iframe>"
   ]
  },
  {
   "cell_type": "code",
   "execution_count": null,
   "metadata": {},
   "outputs": [],
   "source": []
  },
  {
   "cell_type": "markdown",
   "metadata": {},
   "source": [
    "input \n",
    "- text\n",
    "- password\n",
    "- radio\n",
    "- checkbo\n",
    "- etc."
   ]
  },
  {
   "cell_type": "code",
   "execution_count": 17,
   "metadata": {},
   "outputs": [
    {
     "data": {
      "text/html": [
       "\n",
       "<input type=\"text\">Text1</input>\n",
       "<input type=\"password\">Password1</input>\n",
       "<input type=\"radio\" name=\"data1\">Radio1</input>\n",
       "<input type=\"radio\" name=\"data1\">Radio1</input>\n",
       "\n",
       "<input type=\"checkbox\">Checkbox1</input>\n"
      ],
      "text/plain": [
       "<IPython.core.display.HTML object>"
      ]
     },
     "metadata": {},
     "output_type": "display_data"
    }
   ],
   "source": [
    "%%html\n",
    "\n",
    "<input type=\"text\">Text1</input>\n",
    "<input type=\"password\">Password1</input>\n",
    "<input type=\"radio\" name=\"data1\">Radio1</input>\n",
    "<input type=\"radio\" name=\"data1\">Radio1</input>\n",
    "\n",
    "<input type=\"checkbox\">Checkbox1</input>"
   ]
  },
  {
   "cell_type": "code",
   "execution_count": null,
   "metadata": {},
   "outputs": [],
   "source": []
  },
  {
   "cell_type": "markdown",
   "metadata": {},
   "source": [
    "select, option \n",
    "- 옵션을 선택할 수 있는 드랍다운 형태의 태그"
   ]
  },
  {
   "cell_type": "code",
   "execution_count": 18,
   "metadata": {},
   "outputs": [
    {
     "data": {
      "text/html": [
       "<select>\n",
       "<option>data1</option>\n",
       "<option>data2</option>\n",
       "</select>\n"
      ],
      "text/plain": [
       "<IPython.core.display.HTML object>"
      ]
     },
     "metadata": {},
     "output_type": "display_data"
    }
   ],
   "source": [
    "%%html\n",
    "<select>\n",
    "<option>data1</option>\n",
    "<option>data2</option>\n",
    "</select>"
   ]
  },
  {
   "cell_type": "code",
   "execution_count": null,
   "metadata": {},
   "outputs": [],
   "source": []
  },
  {
   "cell_type": "code",
   "execution_count": null,
   "metadata": {},
   "outputs": [],
   "source": []
  },
  {
   "cell_type": "markdown",
   "metadata": {},
   "source": [
    "### 2. CSS Selector\n",
    "- HTML의 Element를 선택하기 위한 방법\n",
    "- Element를 선택하는 방법\n",
    "    - Tag : div\n",
    "    - id : #wrap\n",
    "    - class : .wrap\n",
    "    - attr : `[data=\"python\"]`\n",
    "- 혼합해서 사용 가능\n",
    "    - `div.wrap[data=\"python\"]`\n",
    "- not, nth-child\n",
    "    - .wrap:not(.python)\n",
    "    - #data > .wrap:nth-child(3)\n",
    "- 계층적구조로 선택\n",
    "    - #wrap > .txt : 바로 한단계 하위 엘리먼트에서 검색\n",
    "    - #wrap .txt : 모든 하위 엘리먼트에서 검색"
   ]
  },
  {
   "cell_type": "markdown",
   "metadata": {},
   "source": [
    "- data1 선택 : `div`\n",
    "- data2 선택 : `#txt`\n",
    "- data3 선택 : `.data3` "
   ]
  },
  {
   "cell_type": "markdown",
   "metadata": {},
   "source": [
    "- 속성 값(id, class 제외한 나머지)으로 선택 : `[val=\"d4\"]`"
   ]
  },
  {
   "cell_type": "code",
   "execution_count": null,
   "metadata": {},
   "outputs": [],
   "source": [
    "- 혼합해서 사용도 가능 \n",
    "    - `span.no5`"
   ]
  },
  {
   "cell_type": "code",
   "execution_count": null,
   "metadata": {},
   "outputs": [],
   "source": [
    "%%html\n",
    "<div>data 1</div>\n",
    "<p id=\"txt\">data 2</p>\n",
    "<span class=\"data3\">data 3</span>\n",
    "<span val=\"d4\">data 3</span>\n",
    "<span class=\"no5\">data 3</span>"
   ]
  },
  {
   "cell_type": "code",
   "execution_count": null,
   "metadata": {},
   "outputs": [],
   "source": []
  },
  {
   "cell_type": "markdown",
   "metadata": {},
   "source": [
    "- not selector\n",
    "    - ds 클래스 선택해서 data2 element만 제외하고 선택\n",
    "    - css-selector : `.ds:not(.dss2)`"
   ]
  },
  {
   "cell_type": "code",
   "execution_count": 21,
   "metadata": {},
   "outputs": [
    {
     "data": {
      "text/html": [
       "\n",
       "<p class=\"ds dss1\">data1</p>\n",
       "<p class=\"ds dss2\">data2</p>\n",
       "<p class=\"ds dss3\">data3</p>\n",
       "<p class=\"ds dss4\">data4</p>\n"
      ],
      "text/plain": [
       "<IPython.core.display.HTML object>"
      ]
     },
     "metadata": {},
     "output_type": "display_data"
    }
   ],
   "source": [
    "%%html\n",
    "\n",
    "<p class=\"ds dss1\">data1</p>\n",
    "<p class=\"ds dss2\">data2</p>\n",
    "<p class=\"ds dss3\">data3</p>\n",
    "<p class=\"ds dss4\">data4</p>"
   ]
  },
  {
   "cell_type": "code",
   "execution_count": null,
   "metadata": {},
   "outputs": [],
   "source": []
  },
  {
   "cell_type": "markdown",
   "metadata": {},
   "source": [
    "nth-child\n",
    "    - n번째의 엘리먼트를 선택\n",
    "    - data 3 선택하는 방법\n",
    "    - `.ds:nth-child(4)`"
   ]
  },
  {
   "cell_type": "code",
   "execution_count": null,
   "metadata": {},
   "outputs": [],
   "source": [
    "%%html\n",
    "<div>\n",
    "    <span>data 0</span>\n",
    "    <p class=\"ds dss1\">data1</p>\n",
    "    <p class=\"ds dss2\">data2</p>\n",
    "    <p class=\"ds dss3\">data3</p>\n",
    "    <p class=\"ds dss4\">data4</p>\n",
    "</div>"
   ]
  },
  {
   "cell_type": "code",
   "execution_count": null,
   "metadata": {},
   "outputs": [],
   "source": []
  },
  {
   "cell_type": "markdown",
   "metadata": {},
   "source": [
    "계층 구조로 엘리먼트 선택\n",
    "- 바로 아래 단계의 엘리먼트 선택\n",
    "    - `.wrap-1 > h5` : inner 1 선택\n",
    "- 모든 하위 엘리먼트 선택 \n",
    "    - `.wrap h5` : .wrap 하위의 모든 h5를 찾아온다. "
   ]
  },
  {
   "cell_type": "code",
   "execution_count": 23,
   "metadata": {},
   "outputs": [
    {
     "data": {
      "text/html": [
       "\n",
       "<div>\n",
       "    <h5>inner 1</h5>\n",
       "    <div>\n",
       "        <h5>inner 1</h5>\n",
       "        <div class=\"wrap-2\">\n",
       "            <h5>inner 2</h5>\n",
       "        </div>\n",
       "    </div>\n",
       "</div>\n"
      ],
      "text/plain": [
       "<IPython.core.display.HTML object>"
      ]
     },
     "metadata": {},
     "output_type": "display_data"
    }
   ],
   "source": [
    "%%html\n",
    "\n",
    "<div>\n",
    "    <h5>inner 1</h5>\n",
    "    <div>\n",
    "        <h5>inner 1</h5>\n",
    "        <div class=\"wrap-2\">\n",
    "            <h5>inner 2</h5>\n",
    "        </div>\n",
    "    </div>\n",
    "</div>"
   ]
  },
  {
   "cell_type": "code",
   "execution_count": null,
   "metadata": {},
   "outputs": [],
   "source": []
  },
  {
   "cell_type": "code",
   "execution_count": null,
   "metadata": {},
   "outputs": [],
   "source": []
  },
  {
   "cell_type": "code",
   "execution_count": null,
   "metadata": {},
   "outputs": [],
   "source": []
  }
 ],
 "metadata": {
  "kernelspec": {
   "display_name": "Python 3",
   "language": "python",
   "name": "python3"
  },
  "language_info": {
   "codemirror_mode": {
    "name": "ipython",
    "version": 3
   },
   "file_extension": ".py",
   "mimetype": "text/x-python",
   "name": "python",
   "nbconvert_exporter": "python",
   "pygments_lexer": "ipython3",
   "version": "3.8.5"
  }
 },
 "nbformat": 4,
 "nbformat_minor": 2
}
