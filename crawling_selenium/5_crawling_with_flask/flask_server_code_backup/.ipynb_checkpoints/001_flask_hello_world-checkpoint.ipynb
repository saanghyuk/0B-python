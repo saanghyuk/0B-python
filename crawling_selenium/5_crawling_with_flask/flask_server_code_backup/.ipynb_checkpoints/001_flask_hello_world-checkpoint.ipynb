{
 "cells": [
  {
   "cell_type": "markdown",
   "metadata": {},
   "source": [
    "## Flask \n",
    "- 파이썬 코드를 사용하는 웹 프레임워크\n",
    "- `https://blog.miguelgrinberg.com/post/the-flask-mega-tutorial-part-i-hello-world`\n",
    "- install \n",
    "    - `pip3 install flask`"
   ]
  },
  {
   "cell_type": "markdown",
   "metadata": {},
   "source": [
    "`pip3 install flask`"
   ]
  },
  {
   "cell_type": "markdown",
   "metadata": {},
   "source": [
    "### nginx setting"
   ]
  },
  {
   "cell_type": "markdown",
   "metadata": {},
   "source": [
    "nginx를 설치해야, 인터넷망으로 접속 가능 \n",
    "- sudo apt-get update\n",
    "- sudo apt-get install nginx\n",
    "- sudo systemctl status nginx\n",
    "- aws console에서 80번 포트 활성화\n",
    "    - aws 보안그룹, `80` `0.0.0.0/0`\n",
    "- 브라우져에 퍼블릭 ip입력해서 Welcome to Nginx 확인    "
   ]
  },
  {
   "cell_type": "markdown",
   "metadata": {},
   "source": [
    "##### nginx setting file"
   ]
  },
  {
   "cell_type": "markdown",
   "metadata": {},
   "source": [
    "- `sudo vi /etc/nginx/sites-available/default`\n",
    "\n",
    "<pre>\n",
    "server {\n",
    "        listen 80 default_server;\n",
    "        listen [::]:80 default_server;\n",
    "</pre>\n",
    "\n",
    "<pre>\n",
    "server {\n",
    "        listen 8080 default_server;\n",
    "        listen [::]:8080 default_server;\n",
    "</pre>\n",
    "\n",
    "and \n",
    "\n",
    "\n",
    "맨 하단에 추가. 80번 포트로 리퀘스트 받으면, localhost:5000으로 서비스 해 주겠다는 뜻. \n",
    "\n",
    "\n",
    "to\n",
    "<pre>\n",
    "server {\n",
    "    listen 80;\n",
    "    location / {\n",
    "        proxy_pass http://localhost:5000;\n",
    " }\n",
    "}\n",
    "</pre>\n",
    "\n",
    "\n",
    "\n",
    "\n",
    "- 이렇게 하면, 8080으로 들어오면 아까 welcom to nginx가 뜨고, 80으로 접속하면 우리꺼가 뜨는 것. \n"
   ]
  },
  {
   "cell_type": "markdown",
   "metadata": {},
   "source": [
    "- 이제 nginx restart \n",
    "    - sudo systemctl restart nginx"
   ]
  },
  {
   "cell_type": "markdown",
   "metadata": {},
   "source": [
    "#### Domain\n",
    "- [freenom](https://www.freenom.com/en/index.html?lang=en)\n",
    "- register한 후에, target에 내 IP 넣기만 하면 연결됨. 엄청 간단함. "
   ]
  },
  {
   "cell_type": "code",
   "execution_count": null,
   "metadata": {},
   "outputs": [],
   "source": []
  },
  {
   "cell_type": "code",
   "execution_count": 1,
   "metadata": {
    "scrolled": false
   },
   "outputs": [
    {
     "name": "stdout",
     "output_type": "stream",
     "text": [
      "\u001b[01;34mhello\u001b[00m\r\n",
      "├── hello.py\r\n",
      "├── \u001b[01;34mstatic\u001b[00m\r\n",
      "└── \u001b[01;34mtemplates\u001b[00m\r\n",
      "    └── index.html\r\n",
      "\r\n",
      "2 directories, 2 files\r\n"
     ]
    }
   ],
   "source": [
    "!mkdir -p hello/static\n",
    "!mkdir -p hello/templates\n",
    "!touch hello/hello.py\n",
    "!touch hello/templates/index.html\n",
    "!tree hello"
   ]
  },
  {
   "cell_type": "code",
   "execution_count": 44,
   "metadata": {},
   "outputs": [
    {
     "name": "stdout",
     "output_type": "stream",
     "text": [
      "\u001b[01;34mhello\u001b[00m\r\n",
      "├── hello.py\r\n",
      "├── index.html\r\n",
      "├── \u001b[01;34mmodel\u001b[00m\r\n",
      "│   └── clf.pkl\r\n",
      "├── \u001b[01;34mstatic\u001b[00m\r\n",
      "└── \u001b[01;34mtemplates\u001b[00m\r\n",
      "    └── index.html\r\n",
      "\r\n",
      "3 directories, 4 files\r\n"
     ]
    }
   ],
   "source": [
    "!tree hello"
   ]
  },
  {
   "cell_type": "markdown",
   "metadata": {},
   "source": [
    "- hello.py : app 객체를 생성, route 설정\n",
    "- static : js, css, imgage파일 등을 저장\n",
    "- templates : html 코드를 저장"
   ]
  },
  {
   "cell_type": "code",
   "execution_count": 13,
   "metadata": {
    "scrolled": true
   },
   "outputs": [
    {
     "name": "stdout",
     "output_type": "stream",
     "text": [
      "/home/ubuntu/flask/file_example\n"
     ]
    },
    {
     "data": {
      "text/plain": [
       "'/home/ubuntu/flask'"
      ]
     },
     "execution_count": 13,
     "metadata": {},
     "output_type": "execute_result"
    }
   ],
   "source": [
    "import os\n",
    "\n",
    "# flask에서 알아서 __file__에 현재 실행되는 절대 경로를 넣어준다. \n",
    "path= os.path.dirname(os.path.realpath(\"file_example\"))\n",
    "print(os.path.realpath(\"file_example\"))\n",
    "path"
   ]
  },
  {
   "cell_type": "code",
   "execution_count": 46,
   "metadata": {},
   "outputs": [
    {
     "name": "stdout",
     "output_type": "stream",
     "text": [
      "Overwriting ./hello/hello.py\n"
     ]
    }
   ],
   "source": [
    "%%writefile ./hello/hello.py\n",
    "from flask import *\n",
    "import os\n",
    "import pickle\n",
    "import numpy as np\n",
    "\n",
    "app = Flask(__name__)\n",
    "\n",
    "\n",
    "\n",
    "\n",
    "path= os.path.dirname(os.path.realpath(__file__))\n",
    "with open(\"{}/model/clf.pkl\".format(path), \"rb\") as f:\n",
    "    model = pickle.load(f)\n",
    "\n",
    "    \n",
    "\n",
    "@app.route(\"/\")\n",
    "def hello():\n",
    "    return \"Hello World!\"\n",
    "\n",
    "@app.route(\"/user/<name>\")\n",
    "def user(name):\n",
    "    return render_template('index.html', name=name)\n",
    "\n",
    "@app.route('/api/data')\n",
    "def api_data():\n",
    "    data = {\"noel\":25, \"mei\": 25}\n",
    "    return jsonify(data)\n",
    "\n",
    "@app.route('/api/predic')\n",
    "def predic():\n",
    "    result = {\"code\": 200}  \n",
    "    \n",
    "    sentence = request.values.get(\"sentence\")\n",
    "    print(sentence)\n",
    "    result['sentence'] = sentence\n",
    "    result['category']= [\"정치\", \"경제\", \"사회\", \"생활/문화\", \"세계\", \"IT/과학\"]\n",
    "    result[\"result\"] = np.round_(model.predict_proba([sentence])[0]*100, 2).tolist()\n",
    "    \n",
    "    print(result)\n",
    "    print(type(result))\n",
    "    \n",
    "    return jsonify(result)\n",
    "\n",
    "app.run(debug=True)"
   ]
  },
  {
   "cell_type": "code",
   "execution_count": 50,
   "metadata": {
    "scrolled": true
   },
   "outputs": [
    {
     "name": "stdout",
     "output_type": "stream",
     "text": [
      "Overwriting ./hello/templates/index.html\n"
     ]
    }
   ],
   "source": [
    "%%writefile ./hello/templates/index.html\n",
    "<html lang=\"en\">\n",
    "<head>\n",
    "  <meta charset=\"UTF-8\">\n",
    "  <meta name=\"viewport\" content=\"width=device-width, initial-scale=1.0\">\n",
    "  <title>Hello Flask</title>\n",
    "</head>\n",
    "<body>\n",
    "  <script src=\"https://cdnjs.cloudflare.com/ajax/libs/jquery/3.6.0/jquery.js\" integrity=\"sha512-n/4gHW3atM3QqRcbCn6ewmpxcLAHGaDjpEBu4xZd47N0W2oQ+6q7oc3PXstrJYXcbNU1OHdQ1T7pAP+gi5Yu8g==\" crossorigin=\"anonymous\" referrerpolicy=\"no-referrer\"></script>\n",
    "  Hello {{ name }}\n",
    "  <button class=\"result\">Click!</button>\n",
    "  <div class=\"data\"></div>\n",
    "  <input type=\"text\" class=\"sentence\">\n",
    "  <button type=\"button\" class=\"prediction-btn\">Predict!!</button>\n",
    "  <div class=\"prediction-wrap\"></div>\n",
    "\n",
    "  <script type=\"text/javascript\">\n",
    "    $(document).ready(function(){\n",
    "      $('.result').on('click', function(){\n",
    "        $.getJSON(\"/api/data\", function(data){\n",
    "            console.log(data);\n",
    "            var tag = \"<p> noel : \"+ data.noel +\"</p>\";\n",
    "                tag += \"<p> mei : \"+ data.mei +\"</p>\";\n",
    "            $(\".data\").append(tag)\n",
    "        })}\n",
    "      )\n",
    "\n",
    "      $('.prediction-btn').on('click', function(){\n",
    "          var sentence = $('.sentence').val();\n",
    "          var url =\"/api/predic?sentence=\"+sentence;\n",
    "          $.getJSON(url, function(data) {\n",
    "                console.log(data)\n",
    "                $('.prediction-wrap').empty()\n",
    "                for(var i=0; i < data.category.length; i++){\n",
    "                  var tag = \"\";\n",
    "                    tag += \"<p>\"+data.category[i]+ \" : \";\n",
    "                    tag +=  data.result[i] +\"%</p>\";\n",
    "                  $('.prediction-wrap').append(tag)\n",
    "                }\n",
    "          })\n",
    "      })\n",
    "    })\n",
    "  </script>\n",
    "</body>\n",
    "</html>"
   ]
  },
  {
   "cell_type": "code",
   "execution_count": 38,
   "metadata": {
    "scrolled": true
   },
   "outputs": [
    {
     "name": "stdout",
     "output_type": "stream",
     "text": [
      " * Serving Flask app \"hello\" (lazy loading)\n",
      " * Environment: production\n",
      "\u001b[31m   WARNING: This is a development server. Do not use it in a production deployment.\u001b[0m\n",
      "\u001b[2m   Use a production WSGI server instead.\u001b[0m\n",
      " * Debug mode: on\n",
      " * Running on http://127.0.0.1:5000/ (Press CTRL+C to quit)\n",
      " * Restarting with fsevents reloader\n",
      " * Debugger is active!\n",
      " * Debugger PIN: 147-741-579\n",
      "127.0.0.1 - - [20/Sep/2021 17:53:19] \"\u001b[37mGET /user/noel HTTP/1.1\u001b[0m\" 200 -\n",
      "127.0.0.1 - - [20/Sep/2021 17:53:20] \"\u001b[37mGET /api/data HTTP/1.1\u001b[0m\" 200 -\n",
      "127.0.0.1 - - [20/Sep/2021 18:58:54] \"\u001b[37mGET / HTTP/1.1\u001b[0m\" 200 -\n",
      "127.0.0.1 - - [20/Sep/2021 18:59:01] \"\u001b[33mGET /users HTTP/1.1\u001b[0m\" 404 -\n",
      "127.0.0.1 - - [20/Sep/2021 18:59:06] \"\u001b[37mGET /api/data HTTP/1.1\u001b[0m\" 200 -\n",
      "127.0.0.1 - - [20/Sep/2021 18:59:09] \"\u001b[37mGET / HTTP/1.1\u001b[0m\" 200 -\n",
      "127.0.0.1 - - [20/Sep/2021 18:59:22] \"\u001b[37mGET /api/data HTTP/1.1\u001b[0m\" 200 -\n",
      "^C\n"
     ]
    }
   ],
   "source": [
    "!python3 hello/hello.py"
   ]
  },
  {
   "cell_type": "code",
   "execution_count": null,
   "metadata": {},
   "outputs": [],
   "source": []
  },
  {
   "cell_type": "code",
   "execution_count": null,
   "metadata": {},
   "outputs": [],
   "source": []
  },
  {
   "cell_type": "code",
   "execution_count": null,
   "metadata": {},
   "outputs": [],
   "source": []
  },
  {
   "cell_type": "code",
   "execution_count": null,
   "metadata": {},
   "outputs": [],
   "source": []
  },
  {
   "cell_type": "code",
   "execution_count": null,
   "metadata": {},
   "outputs": [],
   "source": []
  },
  {
   "cell_type": "code",
   "execution_count": null,
   "metadata": {},
   "outputs": [],
   "source": []
  },
  {
   "cell_type": "code",
   "execution_count": null,
   "metadata": {},
   "outputs": [],
   "source": []
  }
 ],
 "metadata": {
  "kernelspec": {
   "display_name": "Python 3",
   "language": "python",
   "name": "python3"
  },
  "language_info": {
   "codemirror_mode": {
    "name": "ipython",
    "version": 3
   },
   "file_extension": ".py",
   "mimetype": "text/x-python",
   "name": "python",
   "nbconvert_exporter": "python",
   "pygments_lexer": "ipython3",
   "version": "3.8.5"
  }
 },
 "nbformat": 4,
 "nbformat_minor": 4
}
