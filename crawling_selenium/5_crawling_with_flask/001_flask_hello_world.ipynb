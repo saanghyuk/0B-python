{
 "cells": [
  {
   "cell_type": "markdown",
   "metadata": {},
   "source": [
    "## Flask \n",
    "- 파이썬 코드를 사용하는 웹 프레임워크\n",
    "- `https://blog.miguelgrinberg.com/post/the-flask-mega-tutorial-part-i-hello-world`\n",
    "- install \n",
    "    - `pip3 install flask`"
   ]
  },
  {
   "cell_type": "code",
   "execution_count": 2,
   "metadata": {},
   "outputs": [
    {
     "name": "stdout",
     "output_type": "stream",
     "text": [
      "\u001b[01;34mhello\u001b[00m\r\n",
      "├── \u001b[01;34mhello.py\u001b[00m\r\n",
      "├── \u001b[01;34mstatic\u001b[00m\r\n",
      "└── \u001b[01;34mtemplates\u001b[00m\r\n",
      "    └── index.html\r\n",
      "\r\n",
      "3 directories, 1 file\r\n"
     ]
    }
   ],
   "source": [
    "!mkdir -p hello/static\n",
    "!mkdir -p hello/templates\n",
    "!touch hello/hello.py\n",
    "!touch hello/templates/index.html\n",
    "!tree hello"
   ]
  },
  {
   "cell_type": "markdown",
   "metadata": {},
   "source": [
    "- hello.py : app 객체를 생성, route 설정\n",
    "- static : js, css, imgage파일 등을 저장\n",
    "- templates : html 코드를 저장"
   ]
  },
  {
   "cell_type": "code",
   "execution_count": 37,
   "metadata": {},
   "outputs": [
    {
     "name": "stdout",
     "output_type": "stream",
     "text": [
      "Overwriting ./hello/hello.py\n"
     ]
    }
   ],
   "source": [
    "%%writefile ./hello/hello.py\n",
    "from flask import *\n",
    "\n",
    "app = Flask(__name__)\n",
    "\n",
    "@app.route(\"/\")\n",
    "def hello():\n",
    "    return \"Hello World!\"\n",
    "\n",
    "@app.route(\"/user/<name>\")\n",
    "def user(name):\n",
    "    return render_template('index.html', name=name)\n",
    "\n",
    "@app.route('/api/data')\n",
    "def api_data():\n",
    "    data = {\"noel\":25, \"mei\": 25}\n",
    "    return jsonify(data)\n",
    "\n",
    "app.run(debug=True)"
   ]
  },
  {
   "cell_type": "code",
   "execution_count": 24,
   "metadata": {
    "scrolled": true
   },
   "outputs": [
    {
     "name": "stdout",
     "output_type": "stream",
     "text": [
      "Writing ./hello/index.html\n"
     ]
    }
   ],
   "source": [
    "%%writefile ./hello/index.html\n",
    "<html lang=\"en\">\n",
    "<head>\n",
    "  <meta charset=\"UTF-8\">\n",
    "  <meta name=\"viewport\" content=\"width=device-width, initial-scale=1.0\">\n",
    "  <title>Hello Flask</title>\n",
    "</head>\n",
    "<body>\n",
    "  Hello {{ name }}\n",
    "  <button class=\"result\">Click!</button>\n",
    "</body>\n",
    "</html>"
   ]
  },
  {
   "cell_type": "code",
   "execution_count": 38,
   "metadata": {
    "scrolled": true
   },
   "outputs": [
    {
     "name": "stdout",
     "output_type": "stream",
     "text": [
      " * Serving Flask app \"hello\" (lazy loading)\n",
      " * Environment: production\n",
      "\u001b[31m   WARNING: This is a development server. Do not use it in a production deployment.\u001b[0m\n",
      "\u001b[2m   Use a production WSGI server instead.\u001b[0m\n",
      " * Debug mode: on\n",
      " * Running on http://127.0.0.1:5000/ (Press CTRL+C to quit)\n",
      " * Restarting with fsevents reloader\n",
      " * Debugger is active!\n",
      " * Debugger PIN: 147-741-579\n",
      "127.0.0.1 - - [20/Sep/2021 17:53:19] \"\u001b[37mGET /user/noel HTTP/1.1\u001b[0m\" 200 -\n",
      "127.0.0.1 - - [20/Sep/2021 17:53:20] \"\u001b[37mGET /api/data HTTP/1.1\u001b[0m\" 200 -\n",
      "127.0.0.1 - - [20/Sep/2021 18:58:54] \"\u001b[37mGET / HTTP/1.1\u001b[0m\" 200 -\n",
      "127.0.0.1 - - [20/Sep/2021 18:59:01] \"\u001b[33mGET /users HTTP/1.1\u001b[0m\" 404 -\n",
      "127.0.0.1 - - [20/Sep/2021 18:59:06] \"\u001b[37mGET /api/data HTTP/1.1\u001b[0m\" 200 -\n",
      "127.0.0.1 - - [20/Sep/2021 18:59:09] \"\u001b[37mGET / HTTP/1.1\u001b[0m\" 200 -\n",
      "127.0.0.1 - - [20/Sep/2021 18:59:22] \"\u001b[37mGET /api/data HTTP/1.1\u001b[0m\" 200 -\n",
      "^C\n"
     ]
    }
   ],
   "source": [
    "!python3 hello/hello.py"
   ]
  },
  {
   "cell_type": "code",
   "execution_count": null,
   "metadata": {},
   "outputs": [],
   "source": []
  },
  {
   "cell_type": "code",
   "execution_count": null,
   "metadata": {},
   "outputs": [],
   "source": []
  },
  {
   "cell_type": "code",
   "execution_count": null,
   "metadata": {},
   "outputs": [],
   "source": []
  },
  {
   "cell_type": "code",
   "execution_count": null,
   "metadata": {},
   "outputs": [],
   "source": []
  },
  {
   "cell_type": "code",
   "execution_count": null,
   "metadata": {},
   "outputs": [],
   "source": []
  },
  {
   "cell_type": "code",
   "execution_count": null,
   "metadata": {},
   "outputs": [],
   "source": []
  },
  {
   "cell_type": "code",
   "execution_count": null,
   "metadata": {},
   "outputs": [],
   "source": []
  }
 ],
 "metadata": {
  "kernelspec": {
   "display_name": "Python 3",
   "language": "python",
   "name": "python3"
  },
  "language_info": {
   "codemirror_mode": {
    "name": "ipython",
    "version": 3
   },
   "file_extension": ".py",
   "mimetype": "text/x-python",
   "name": "python",
   "nbconvert_exporter": "python",
   "pygments_lexer": "ipython3",
   "version": "3.8.5"
  }
 },
 "nbformat": 4,
 "nbformat_minor": 4
}
