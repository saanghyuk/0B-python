{
 "cells": [
  {
   "cell_type": "markdown",
   "metadata": {},
   "source": [
    "## Boto3, Lambda, CloudWatch"
   ]
  },
  {
   "cell_type": "markdown",
   "metadata": {},
   "source": [
    "001에서 했던 crontab의 최대 문제는, 서버를 계속 켜놔야 한다는 것. <br>\n",
    "lambda, cloudwatch, boto3를 이용해서 이 문제를 해결할 수 있음. "
   ]
  },
  {
   "cell_type": "markdown",
   "metadata": {},
   "source": [
    "- boto3 : instant start와 stop을 파이썬 코드로 할 수 있게 만들어 줌. \n",
    "    - 하루에 5분 12시 - 12시 5분에만 크롤링을 하는데 24시간 켜 놓을 필요가 없음. \n",
    "    - 다른 서버에서 이 서버를 12시에 켜주고 12시 5분에 꺼주면 내 서버는 하루에 5분만 켜있게 되는 것. \n",
    "    - 다른 서버에서는 boto3를 crontab에 올려서 12시, 12시 5분에 키고 끄는 명령만 보내면 됨. \n",
    "    - 서버 키면서 동시에, slack.py 같은것 실행시키면 됨.\n",
    "    - 근데 여기서도 문제가 발생하는게, 이 어떤 서버에서는 boto3를 실행시켜 놔야 하는 것. \n",
    "    \n",
    "- lambda: server가 없이 python code를 실행시켜주는 aws service. \n",
    "    - 즉, boto3 start&stop을 lambda에 작성을 해놓는다. \n",
    "    - cloudwatch는 lambda에 올라가 있는 코드가 실행되게 해주는 trigger 역할을 해준다. \n",
    "    - cloudwatch를 통해, lambda에 올라가 있는 boto3 코드를 실행해 주면 되는 것. "
   ]
  },
  {
   "cell_type": "code",
   "execution_count": null,
   "metadata": {},
   "outputs": [],
   "source": []
  },
  {
   "cell_type": "markdown",
   "metadata": {},
   "source": [
    "### boto3"
   ]
  },
  {
   "cell_type": "markdown",
   "metadata": {},
   "source": [
    "- 일단 이것을 해주려면, 서버가 2개가 있어야 함. 컨트롤 해주는 서버, 크롤링 코드를 실행시키는 서버. \n",
    "- 인스턴스 하나 더 생성. \n",
    "- AWS - EC2 - AMI \n",
    "- `public image` - `소유자` - `035683184441` 검색(검색불가)\n",
    "- 나는 내 기존 환경 이미지 Private AMI 로 만들어놓고, 복사함. "
   ]
  },
  {
   "cell_type": "markdown",
   "metadata": {},
   "source": [
    "- 그 이미지 가지고 인스턴스 생성. \n",
    "- 다만, 그때 보안그룹 구성. \n",
    "    - 새로 생성하면, 22번 포트만 열려 있어서 기존 보안그룹으로 다시 선택하는 것. \n",
    "    - 새 보안 그룹이 디폴트로 되어 있음. 기존 보안 그룹중에 내가 원래 쓰던 보안그룹 선택. \n",
    "    - 검토 및 시작. \n",
    "- keypair는 내가 기존에 쓰던 keypair 선택하면 됨.     \n",
    "- 인스턴스 만든 후에는, 이름 내 맘대로 변경해도 됨. such as crawling-server\n",
    "- ip생성되면, 그 ip로 접속 하면 된다. \n",
    "    - 터미널 새로 열고\n",
    "    - `ssh -i /Users/sanghyuk/Mirror/aws_setting/<암호route> ubuntu@<ip>`\n",
    "    - 이때, 만약 내 원래 서버에 키파일 올려 놓으면 서버에서 또 다른 서버로도 접속 당연히 가능. 명령도 동일"
   ]
  },
  {
   "cell_type": "markdown",
   "metadata": {},
   "source": [
    "#### In Action"
   ]
  },
  {
   "cell_type": "markdown",
   "metadata": {},
   "source": [
    "##### 새로 생성한 instance - crawling server\n",
    "\n",
    "- 지금 새로 만든 서버를 crawling server로 쓸 것. \n",
    "- `vi slack.py` 열어서 위에 코드 복사하고 저장. \n",
    "- slack.py가 잘 동작하는지 test\n",
    "    - python3 weather.py\n",
    "- crontab에 이 코드를 넣어주자. \n",
    "    - crontab -l : 설정 보기 \n",
    "    - crontab -e : setting\n",
    "    - `*` 쓰는 부분에 `@reboot` 이라고 작성하면 부팅 될 때 실행된다. \n",
    "    - `@reboot python3 slack.py`\n",
    "    - 이렇게 쓰면, 서버가 꺼졌다가 딱 켜졌을 때 이 코드가 실행되는 것. \n",
    "- 테스트 하려면, \n",
    "    - 작업-상태-중지(종료하면 절대 안된다)\n",
    "    - 시작 \n",
    "    - 이렇게 재부팅 하고 slack으로 메세지 날아왔는지 check"
   ]
  },
  {
   "cell_type": "code",
   "execution_count": null,
   "metadata": {},
   "outputs": [],
   "source": []
  },
  {
   "cell_type": "markdown",
   "metadata": {},
   "source": [
    "### Boto 3 Setting"
   ]
  },
  {
   "cell_type": "markdown",
   "metadata": {},
   "source": [
    "- 새로 만든 서버(crawling-server)는 크롤링용 서버로 셋팅했음. \n",
    "- 이제 기존 서버로 가보자 dss"
   ]
  },
  {
   "cell_type": "markdown",
   "metadata": {},
   "source": [
    "- EC2 서버를 컨트롤 해주는 패키지 \n",
    "- `pip3 install boto3`\n",
    "- boto3를 쓰려면, 인스턴스에 접속할 수 있는 아이디, 시크릿키, 타겟 인스턴스 아이디 3가지가 필요하다. "
   ]
  },
  {
   "cell_type": "markdown",
   "metadata": {},
   "source": [
    "- AWS IAM(사용자 엑세스 및 암호화 키 관리)\n",
    "    - 지금까지는 계속 root 권한 계정으로 AWS를 사용하고 있었음. \n",
    "    - 그게 팀 단위로 있으면, DB팀, Front-Team 이런거를 권한을 다르게 해서 관리하게 해주는 서비스. \n",
    "    - EC2를 컨틀로 할 수 있는 사용자 계정을 하나 만들어서, 이 계정의 `엑세스키, 시크릿키, 사용자아이디`를 얻어내고, 타겟 인스턴스 아이디로 start/stop을 하는 것. \n",
    "- 엑세스 관리 - 사용자\n",
    "- 사용자 추가 사용자 이름 `saanghyuk`\n",
    "- `액세스 키 – 프로그래밍 방식 액세스` 클릭\n",
    "- `기존 정책에 직접 연결` - 검색 부분에 `EC2Full`이라고 입력하면 `AmazonEC2FullAccess`가 나온다. 체크. \n",
    "- saanghyuk이라는 사용자에게, EC2FullAccess권한을 추가해 준 것. \n",
    "- 다음-다음-사용자만들기\n",
    "- 이제 `엑세스 키 ID`와 `비밀 엑세스 키`를 준다. 이 두개가 필요했던 것. \n",
    "- 절대 이 키를 구글에 올리면 안된다. 이거만 찾아서 돌아다니는 bot들이 있다. "
   ]
  },
  {
   "cell_type": "code",
   "execution_count": null,
   "metadata": {},
   "outputs": [],
   "source": [
    "import boto3"
   ]
  },
  {
   "cell_type": "code",
   "execution_count": null,
   "metadata": {},
   "outputs": [],
   "source": [
    "aws_access_key_id = '###'\n",
    "aws_secret_access_key = '###'\n",
    "instance_id = \"###\""
   ]
  },
  {
   "cell_type": "code",
   "execution_count": null,
   "metadata": {},
   "outputs": [],
   "source": [
    "client = boto3.client(\n",
    "    \"ec2\",\n",
    "    aws_access_key_id = aws_access_key_id,\n",
    "    aws_secret_access_key = aws_secret_access_key, \n",
    "    region_name = 'ap-southeast-1',\n",
    ")"
   ]
  },
  {
   "cell_type": "markdown",
   "metadata": {},
   "source": [
    "#### Stop Server"
   ]
  },
  {
   "cell_type": "code",
   "execution_count": null,
   "metadata": {},
   "outputs": [],
   "source": [
    "client.stop_instances(InstanceIds=[instance_id], DryRun=False)\n",
    "print(\"stop\")"
   ]
  },
  {
   "cell_type": "markdown",
   "metadata": {},
   "source": [
    "#### Start Server"
   ]
  },
  {
   "cell_type": "code",
   "execution_count": null,
   "metadata": {},
   "outputs": [],
   "source": [
    "client.start_instances(InstanceIds=[instance_id], DryRun=False)\n",
    "print(\"start\")\n",
    "\n",
    "# crontab에 있던 slack으로 메세지 들어오는 것 까지 check 완료"
   ]
  },
  {
   "cell_type": "markdown",
   "metadata": {},
   "source": [
    "- boto3 넣을 기존 서버로 가서, `vi ec2.py`\n",
    "- 여기서 하려는 것은 `python3 ec2.py start`하면 start, `python3 ec2.py stop` 하면 stop이 실행되도록 할 것. \n",
    "- argument를 넣으려고, `import sys`한 것. \n",
    "    - `python ec2.py stop` 이라고 써있으면, `arg[0]`이 ec2.py, `arg[1]`이 stop "
   ]
  },
  {
   "cell_type": "code",
   "execution_count": null,
   "metadata": {},
   "outputs": [],
   "source": [
    "%%writefile ec2.py\n",
    "\n",
    "import sys\n",
    "import boto3\n",
    "\n",
    "aws_access_key_id = '###'\n",
    "aws_secret_access_key = '###'\n",
    "instance_id = \"###\"\n",
    "\n",
    "client = boto3.client(\n",
    "    \"ec2\",\n",
    "    aws_access_key_id = aws_access_key_id,\n",
    "    aws_secret_access_key = aws_secret_access_key,\n",
    "    region_name = 'ap-southeast-1',\n",
    ")\n",
    "\n",
    "command = sys.argv[1]\n",
    "if command ==\"start\":\n",
    "    client.start_instances(InstanceIds=[instance_id], DryRun=False)\n",
    "    print(\"start\")\n",
    "elif command ==\"stop\":\n",
    "    client.stop_instances(InstanceIds=[instance_id], DryRun=False)\n",
    "    print(\"stop\")"
   ]
  },
  {
   "cell_type": "markdown",
   "metadata": {},
   "source": [
    "- 되나 체크 해보자. \n",
    "    - `python3 ec2.py start`\n",
    "    - `python3 ec2.py stop`"
   ]
  },
  {
   "cell_type": "markdown",
   "metadata": {},
   "source": [
    "- 이제 간단하지, crontab -e에서 \n",
    "    - 시간 조건 앞에 걸고, `5 * * * * python3 ec2.py start` 이런식으로 해놓으면 해당 시간대에 꺼졌다가 켜졌다가 해 주겠지. "
   ]
  },
  {
   "cell_type": "code",
   "execution_count": null,
   "metadata": {},
   "outputs": [],
   "source": []
  },
  {
   "cell_type": "markdown",
   "metadata": {},
   "source": [
    "### Lambda"
   ]
  },
  {
   "cell_type": "markdown",
   "metadata": {},
   "source": [
    "- 근데 boto3도 문제는 어쨋든 control server는 계속 켜놔야 한다는 것. \n",
    "- aws lambda검색 후 들어가기 \n",
    "- 함수생성 - 새로작성 \n",
    "- 함수이름 : stopCrawlingServer, Runtime : Python : 3.6. \n",
    "- 함수 작성하는 화면에서, 제한시간을 걸 수 있음. 1분으로 해 놓으면 코드 실행되는 중간에 1분이 딱 되면 그 실행 중단되는 것. \n",
    "- 지금은 람다에 단순한 코드 넣고 있는데, 여기다가 내가 원하는 코드 넣으면 그거대로 다 되는 것. \n",
    "- 단 lambda가 무조건 싼 것은 아니다. 어떻게 사용하냐에 따라, 람다가 저렴할 수도 있고, 비쌀 수도 있다. "
   ]
  },
  {
   "cell_type": "markdown",
   "metadata": {},
   "source": [
    "#### lambda stopCrawlingServer"
   ]
  },
  {
   "cell_type": "markdown",
   "metadata": {},
   "source": [
    "import json\n",
    "import boto3\n",
    "\n",
    "def lambda_handler(event, context):\n",
    "    aws_access_key_id = '###'\n",
    "    aws_secret_access_key = '###'\n",
    "    instance_id = \"###\"\n",
    "    \n",
    "    client = boto3.client(\n",
    "    \"ec2\",\n",
    "    aws_access_key_id = aws_access_key_id,\n",
    "    aws_secret_access_key = aws_secret_access_key, \n",
    "    region_name = 'ap-southeast-1',\n",
    "    )\n",
    "    \n",
    "    client.stop_instances(InstanceIds=[instance_id], DryRun=False)\n",
    "    print(\"stop\")\n",
    "\n",
    "    return {\n",
    "        'statusCode': 200,\n",
    "        'body': json.dumps('Hello from Lambda!')\n",
    "    }\n"
   ]
  },
  {
   "cell_type": "markdown",
   "metadata": {},
   "source": [
    "- 그리고 테스트를 클릭. \n",
    "- 이벤트 이름 StopTest하고, 다른거 안건들고 그냥 생성 누르면. 테스트가 생성이 된다. \n",
    "- 이제 테스트텝가서 테스트 버튼 누르면 이 코드를 실행한다. \n",
    "- 정상적으로 작동됨. "
   ]
  },
  {
   "cell_type": "code",
   "execution_count": null,
   "metadata": {},
   "outputs": [],
   "source": []
  },
  {
   "cell_type": "markdown",
   "metadata": {},
   "source": [
    "#### lambda stopCrawlingServer"
   ]
  },
  {
   "cell_type": "markdown",
   "metadata": {},
   "source": [
    "- 똑같이 함수 작성 후, 테스트 하면 된다. "
   ]
  },
  {
   "cell_type": "code",
   "execution_count": 1,
   "metadata": {
    "collapsed": true
   },
   "outputs": [
    {
     "ename": "ModuleNotFoundError",
     "evalue": "No module named 'boto3'",
     "output_type": "error",
     "traceback": [
      "\u001b[0;31m---------------------------------------------------------------------------\u001b[0m",
      "\u001b[0;31mModuleNotFoundError\u001b[0m                       Traceback (most recent call last)",
      "\u001b[0;32m<ipython-input-1-a5736a865cb9>\u001b[0m in \u001b[0;36m<module>\u001b[0;34m\u001b[0m\n\u001b[1;32m      1\u001b[0m \u001b[0;32mimport\u001b[0m \u001b[0mjson\u001b[0m\u001b[0;34m\u001b[0m\u001b[0;34m\u001b[0m\u001b[0m\n\u001b[0;32m----> 2\u001b[0;31m \u001b[0;32mimport\u001b[0m \u001b[0mboto3\u001b[0m\u001b[0;34m\u001b[0m\u001b[0;34m\u001b[0m\u001b[0m\n\u001b[0m\u001b[1;32m      3\u001b[0m \u001b[0;34m\u001b[0m\u001b[0m\n\u001b[1;32m      4\u001b[0m \u001b[0;32mdef\u001b[0m \u001b[0mlambda_handler\u001b[0m\u001b[0;34m(\u001b[0m\u001b[0mevent\u001b[0m\u001b[0;34m,\u001b[0m \u001b[0mcontext\u001b[0m\u001b[0;34m)\u001b[0m\u001b[0;34m:\u001b[0m\u001b[0;34m\u001b[0m\u001b[0;34m\u001b[0m\u001b[0m\n\u001b[1;32m      5\u001b[0m     \u001b[0maws_access_key_id\u001b[0m \u001b[0;34m=\u001b[0m \u001b[0;34m'###'\u001b[0m\u001b[0;34m\u001b[0m\u001b[0;34m\u001b[0m\u001b[0m\n",
      "\u001b[0;31mModuleNotFoundError\u001b[0m: No module named 'boto3'"
     ]
    }
   ],
   "source": [
    "import json\n",
    "import boto3\n",
    "\n",
    "def lambda_handler(event, context):\n",
    "    aws_access_key_id = '###'\n",
    "    aws_secret_access_key = '###'\n",
    "    instance_id = \"###\"\n",
    "    \n",
    "    client = boto3.client(\n",
    "    \"ec2\",\n",
    "    aws_access_key_id = aws_access_key_id,\n",
    "    aws_secret_access_key = aws_secret_access_key, \n",
    "    region_name = 'ap-southeast-1',\n",
    "    )\n",
    "    \n",
    "    client.start_instances(InstanceIds=[instance_id], DryRun=False)\n",
    "    print(\"start\")\n",
    "\n",
    "    return {\n",
    "        'statusCode': 200,\n",
    "        'body': json.dumps('Hello from Lambda!')\n",
    "    }\n"
   ]
  },
  {
   "cell_type": "code",
   "execution_count": null,
   "metadata": {},
   "outputs": [],
   "source": []
  },
  {
   "cell_type": "code",
   "execution_count": null,
   "metadata": {},
   "outputs": [],
   "source": []
  },
  {
   "cell_type": "markdown",
   "metadata": {},
   "source": [
    "#### CloudWatch"
   ]
  },
  {
   "cell_type": "markdown",
   "metadata": {},
   "source": [
    "- 그럼 이제, 특정 시간, 혹은 특정 조건에 따라 lambda가 실행되게 해주기만 하면 된다.\n",
    "- 각 람다 함수별 그래프 처럼 그려진 곳에 `트리거 추가`라는 버튼이 있다. \n",
    "- 이 트리거도 여러개를 사용할 수 있는데, 그 중에 cloudwatch를 사용할 것. \n",
    "- 트리거 추가 - `CloudWatch Events`\n",
    "- 새 규칙 생성\n",
    "    - start_crwaling_server\n",
    "    - cron(36 18 22 9 ? 2021)\n",
    "    - 단, Cron으로 작성할때는, [UTC](https://www.timeanddate.com/worldclock/timezone/utc)가 기준이 된다. 무조건 이 시간 기준으로 써야 함. \n",
    "    "
   ]
  },
  {
   "cell_type": "markdown",
   "metadata": {},
   "source": [
    "단, 기존 Linux Crontab 사용 문법과 완전히 같지는 않다. \n",
    "- 제일 중요한 포인트는 요일과 날짜를 동시 설정 불가능. 그 날짜에 그 요일이 아닐 수도 있으니깐. \n",
    "- cron(15 12 8 1 ? 2019) - 2019년 1월 8일 12시 15분"
   ]
  },
  {
   "cell_type": "code",
   "execution_count": null,
   "metadata": {},
   "outputs": [],
   "source": []
  }
 ],
 "metadata": {
  "kernelspec": {
   "display_name": "Python 3",
   "language": "python",
   "name": "python3"
  },
  "language_info": {
   "codemirror_mode": {
    "name": "ipython",
    "version": 3
   },
   "file_extension": ".py",
   "mimetype": "text/x-python",
   "name": "python",
   "nbconvert_exporter": "python",
   "pygments_lexer": "ipython3",
   "version": "3.8.5"
  }
 },
 "nbformat": 4,
 "nbformat_minor": 4
}
