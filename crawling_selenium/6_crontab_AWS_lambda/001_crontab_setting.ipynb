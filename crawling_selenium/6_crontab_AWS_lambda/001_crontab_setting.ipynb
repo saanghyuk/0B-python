{
 "cells": [
  {
   "cell_type": "markdown",
   "metadata": {},
   "source": [
    "### Crontab\n",
    "\n",
    "- 유닉스 계열의 os에서 특정 시간에 특정 명령을 실행해야 하는 경우에 사용하는 스케쥴러\n",
    "- 설정 방법\n",
    "    - 설정 : `crontab -e`\n",
    "    - 스케쥴 확인 : `crontab -l`"
   ]
  },
  {
   "cell_type": "markdown",
   "metadata": {},
   "source": [
    "### 주기설정"
   ]
  },
  {
   "cell_type": "markdown",
   "metadata": {},
   "source": [
    "- 최상위 디렉토리로\n",
    "- `vi time.py`에 하단 코드 넣기"
   ]
  },
  {
   "cell_type": "code",
   "execution_count": 3,
   "metadata": {},
   "outputs": [
    {
     "name": "stdout",
     "output_type": "stream",
     "text": [
      "2021-09-22 00:38:36.509025\n"
     ]
    }
   ],
   "source": [
    "import datetime\n",
    "\n",
    "today = datetime.datetime.now()\n",
    "print(str(today))"
   ]
  },
  {
   "cell_type": "markdown",
   "metadata": {},
   "source": [
    "- `$python3 time.py`를 입력하면 함수 실행됨. \n",
    "- UTC 기준. TimeZone 변경\n",
    "- Linux에서 현재 timezone 확인은, `timedatectl`"
   ]
  },
  {
   "cell_type": "markdown",
   "metadata": {},
   "source": [
    "#### Change Time Zone "
   ]
  },
  {
   "cell_type": "markdown",
   "metadata": {},
   "source": [
    "- `$timedatectl` # 현재 timezone 확인 \n",
    "- `$sudo timedatectl set-timezone Asia/Seoul` or `sudo timedatectl set-timezone Asia/Singapore` "
   ]
  },
  {
   "cell_type": "markdown",
   "metadata": {},
   "source": [
    "#### Change Symbolic Link"
   ]
  },
  {
   "cell_type": "markdown",
   "metadata": {},
   "source": [
    "- A를 실행하면, B가 실행되게 해주는게 Symbolic Link. \n",
    "- `$sudo unlink /etc/localtime`\n",
    "- `$sudo ln -s /usr/share/zoneinfo/Asia/Singapore /etc/localtime`"
   ]
  },
  {
   "cell_type": "markdown",
   "metadata": {},
   "source": [
    "- `timedatectl` 이제 이 명령어 다시 쳐보면, 시간 바뀌어 있다. "
   ]
  },
  {
   "cell_type": "markdown",
   "metadata": {},
   "source": [
    "#### crontab 문법 \n",
    "- crontab은 앞에 5개의 숫자를 적어준다. \n",
    "- **분(0-59), 시(0-23), 일(1-31), 월(1-12), 요일(0-7, 0==7==Sunday) python time.py >> time.txt**\n",
    "\n",
    "\n",
    "*- crontab에 딱 설정하고 wq 누른 그 시점이 0*\n",
    "\n",
    "\n",
    "**예시** \n",
    "- 매분 실행, 1분에 한번씩 실행 \n",
    "    - `* * * * *``\n",
    "- 2분 간격 실행. 기준은 0. 2분 4분 6분 8분 일때 실행\n",
    "    - `*/2 * * * *`\n",
    "- 4시간 마다 5분 간격 실행. 0시 4시 8시 12시. \n",
    "    - `*/5 */4 * * *`\n",
    "    \n",
    "- 매시 10분에 실행 \n",
    "    - `10 * * * *`\n",
    "\n",
    "- 하루에 한번 15시 15분에 실행. \n",
    "    - `10 15 * * *`\n",
    "\n",
    "- 일요일 AM 5시 10분과 20분에 실행\n",
    "    - `10,20 5 * * 7`\n",
    "\n",
    "- 5시에 10시까지 매시에 5분 간격으로 실행 \n",
    "    - `*/5 5-10 * * *`"
   ]
  },
  {
   "cell_type": "code",
   "execution_count": null,
   "metadata": {},
   "outputs": [],
   "source": []
  },
  {
   "cell_type": "markdown",
   "metadata": {},
   "source": [
    "### In practice"
   ]
  },
  {
   "cell_type": "markdown",
   "metadata": {},
   "source": [
    "- `python time.py >> time.txt` 이렇게 하면, 결과가 time.txt에 쓰여짐. append 형태 \n",
    "- `cat time.txt`"
   ]
  },
  {
   "cell_type": "markdown",
   "metadata": {},
   "source": [
    "- 1분에 한번씩 돌려보기 \n",
    "    - `crontab -e` vi를 켜서\n",
    "    - `* * * * * python3 time.py >> time.txt` 입력 후 esc+wq \n",
    "    - 저장만 하면 자동으로 setting"
   ]
  },
  {
   "cell_type": "code",
   "execution_count": null,
   "metadata": {},
   "outputs": [],
   "source": []
  },
  {
   "cell_type": "markdown",
   "metadata": {},
   "source": [
    "### Check crontab log"
   ]
  },
  {
   "cell_type": "markdown",
   "metadata": {},
   "source": [
    "- time.py를 일부러 에러 나게 바꿔본다. \n",
    "- 더 이상 time.txt에 append가 안되고 있는 것 확인. \n",
    "\n",
    "- 에러 확인하는 방법 \n",
    "    - `sudo apt-get install postfix` : 시스템 에러 등을 메일링 해주는 서비스. \n",
    "        - install 과정에서 이상한 창 계속 뜨는데`오른쪽 화살표 - OK` 계속 누르면 된다. \n",
    "        - 디폴트로 안하고 잘못 움직였다가, 계속 에러 떴음. internet 어쩌고가 디폴트로 되어 있음. \n",
    "    - `cat /var/mail/ubuntu` 마지막 ubuntu는 지금 내 username이 ubuntu라고 되어 있기 떄문. \n",
    "    \n",
    "- 메일로 확인해 보기 \n",
    "    - `sudo apt install mailutils`\n",
    "    - 이제 `$mail` 이라는 커맨드가 먹는다. \n",
    "    - mail 커맨드 후에 1, 2, 3 이렇게 누르면서 1번 메일 2번메일 이렇게 설정 가능. \n",
    "    - q누르면 나가진다.     "
   ]
  },
  {
   "cell_type": "code",
   "execution_count": null,
   "metadata": {},
   "outputs": [],
   "source": []
  },
  {
   "cell_type": "markdown",
   "metadata": {},
   "source": [
    "#### 그런데 지금까지만 하면, crontab을 우리 가상환경으로 실행한게 아니라, 시스템에 원래 있던 python으로 실행하는 중인 것."
   ]
  },
  {
   "cell_type": "markdown",
   "metadata": {},
   "source": [
    "- `vi version.py` 안에 하단 코드 작성 후 저장"
   ]
  },
  {
   "cell_type": "code",
   "execution_count": null,
   "metadata": {},
   "outputs": [],
   "source": [
    "from platform import python_version\n",
    "\n",
    "print(python_version())"
   ]
  },
  {
   "cell_type": "markdown",
   "metadata": {},
   "source": [
    "- `python3 version.py >> version.txt`"
   ]
  },
  {
   "cell_type": "markdown",
   "metadata": {},
   "source": [
    "그럼 이 코드를 크론텝으로 실행해 보자. \n",
    "- `crontab -e`\n",
    "- 나는 해보니깐, \n",
    "    - `crontab -e` 내부에 `python3 version.py >> version.txt` 하면 3.6.9로 버전 나오고. \n",
    "    - `python version.py >> version.txt`로 하면, 2.7.17이 나온다. "
   ]
  },
  {
   "cell_type": "markdown",
   "metadata": {},
   "source": [
    "crontab 실행 파이썬 버전을 내가 원하는 파이썬 가상환경을 맞춰보자. \n",
    "- 가상환경 파이썬 찾기\n",
    "    - `cd /home/ubuntu/.pyenv/versions/python3/bin` (여기서 python3 는 가상환경 이름)\n",
    "    - 여기서 ls쳐보면, `python`, `python3`, `python3.6` 이렇게 3개가 나온다. 이 세개 다 동일함. symbolic link로 하나로 연결되어 있음. \n",
    "    - 여기 있는 파이썬을 실행하면 우리가 가상환경의 파이썬을 사용하는 것. \n",
    "    - pwd로 현재 경로 찾는다. `/home/ubuntu/.pyenv/versions/python3/bin`\n",
    "    - 이제 최상위 디렉토리로 나온다. \n",
    "    - 이제 이 파이썬을 가지고 다시 실행해 보자. \n",
    "        - `/home/ubuntu/.pyenv/versions/python3/bin/python version.py >> version2.txt` 당연하지만, 3.6.9 파이썬으로 실행됨. \n",
    "    - 그럼 이제 단순하지. \n",
    "        - `crontab -e` 를 수정해 주면 됨. \n",
    "        - 사실 python3 명령어로 실행시켜 주면 된다고 해도, 내부에서 내가 없는 동안 어떻게 작동될지 모른다. 때문에 이렇게 루트 제대로 써주는게 가장 안전한 방법이긴 하다. \n",
    "            - `crontab -e`\n",
    "            - `/home/ubuntu/.pyenv/versions/python3/bin/python version.py >> version2.txt`\n",
    "            - `cat version2.txt`"
   ]
  },
  {
   "cell_type": "code",
   "execution_count": null,
   "metadata": {},
   "outputs": [],
   "source": []
  },
  {
   "cell_type": "code",
   "execution_count": null,
   "metadata": {},
   "outputs": [],
   "source": []
  }
 ],
 "metadata": {
  "kernelspec": {
   "display_name": "Python 3",
   "language": "python",
   "name": "python3"
  },
  "language_info": {
   "codemirror_mode": {
    "name": "ipython",
    "version": 3
   },
   "file_extension": ".py",
   "mimetype": "text/x-python",
   "name": "python",
   "nbconvert_exporter": "python",
   "pygments_lexer": "ipython3",
   "version": "3.8.5"
  }
 },
 "nbformat": 4,
 "nbformat_minor": 4
}
