{
 "cells": [
  {
   "cell_type": "markdown",
   "metadata": {},
   "source": [
    "## Boto3, Lambda, CloudWatch"
   ]
  },
  {
   "cell_type": "markdown",
   "metadata": {},
   "source": [
    "001에서 했던 crontab의 최대 문제는, 서버를 계속 켜놔야 한다는 것. <br>\n",
    "lambda, cloudwatch, boto3를 이용해서 이 문제를 해결할 수 있음. "
   ]
  },
  {
   "cell_type": "markdown",
   "metadata": {},
   "source": [
    "- boto3 : instant start와 stop을 파이썬 코드로 할 수 있게 만들어 줌. \n",
    "    - 하루에 5분 12시 - 12시 5분에만 크롤링을 하는데 24시간 켜 놓을 필요가 없음. \n",
    "    - 다른 서버에서 이 서버를 12시에 켜주고 12시 5분에 꺼주면 내 서버는 하루에 5분만 켜있게 되는 것. \n",
    "    - 다른 서버에서는 boto3를 crontab에 올려서 12시, 12시 5분에 키고 끄는 명령만 보내면 됨. \n",
    "    - 서버 키면서 동시에, slack.py 같은것 실행시키면 됨.\n",
    "    - 근데 여기서도 문제가 발생하는게, 이 어떤 서버에서는 boto3를 실행시켜 놔야 하는 것. \n",
    "    \n",
    "- lambda: server가 없이 python code를 실행시켜주는 aws service. \n",
    "    - 즉, boto3 start&stop을 lambda에 작성을 해놓는다. \n",
    "    - cloudwatch는 lambda에 올라가 있는 코드가 실행되게 해주는 trigger 역할을 해준다. \n",
    "    - cloudwatch를 통해, lambda에 올라가 있는 boto3 코드를 실행해 주면 되는 것. "
   ]
  },
  {
   "cell_type": "code",
   "execution_count": null,
   "metadata": {},
   "outputs": [],
   "source": []
  },
  {
   "cell_type": "markdown",
   "metadata": {},
   "source": [
    "### boto3"
   ]
  },
  {
   "cell_type": "markdown",
   "metadata": {},
   "source": [
    "- 일단 이것을 해주려면, 서버가 2개가 있어야 함. 컨트롤 해주는 서버, 크롤링 코드를 실행시키는 서버. \n",
    "- 인스턴스 하나 더 생성. \n",
    "- AWS - EC2 - AMI \n",
    "- `public image` - `소유자` - `035683184441` 검색(검색불가)\n",
    "- 나는 내 기존 환경 이미지 Private AMI 로 만들어놓고, 복사함. "
   ]
  },
  {
   "cell_type": "markdown",
   "metadata": {},
   "source": [
    "- 그 이미지 가지고 인스턴스 생성. \n",
    "- 다만, 그때 보안그룹 구성. \n",
    "    - 새로 생성하면, 22번 포트만 열려 있어서 기존 보안그룹으로 다시 선택하는 것. \n",
    "    - 새 보안 그룹이 디폴트로 되어 있음. 기존 보안 그룹중에 내가 원래 쓰던 보안그룹 선택. \n",
    "    - 검토 및 시작. \n",
    "- keypair는 내가 기존에 쓰던 keypair 선택하면 됨.     \n",
    "- 인스턴스 만든 후에는, 이름 내 맘대로 변경해도 됨. such as crawling-server\n",
    "- ip생성되면, 그 ip로 접속 하면 된다. \n",
    "    - 터미널 새로 열고\n",
    "    - `ssh -i /Users/sanghyuk/Mirror/aws_setting/<암호route> ubuntu@<ip>`\n",
    "    - 이때, 만약 내 원래 서버에 키파일 올려 놓으면 서버에서 또 다른 서버로도 접속 당연히 가능. 명령도 동일"
   ]
  },
  {
   "cell_type": "markdown",
   "metadata": {},
   "source": [
    "#### In Action"
   ]
  },
  {
   "cell_type": "markdown",
   "metadata": {},
   "source": [
    "##### 새로 생성한 instance - crawling server\n",
    "\n",
    "- 지금 새로 만든 서버를 crawling server로 쓸 것. \n",
    "- `vi slack.py` 열어서 위에 코드 복사하고 저장. \n",
    "- slack.py가 잘 동작하는지 test\n",
    "    - python3 weather.py\n",
    "- crontab에 이 코드를 넣어주자. \n",
    "    - crontab -l : 설정 보기 \n",
    "    - crontab -e : setting\n",
    "    - `*` 쓰는 부분에 `@reboot` 이라고 작성하면 부팅 될 때 실행된다. \n",
    "    - `@reboot python3 slack.py`\n",
    "    - 이렇게 쓰면, 서버가 꺼졌다가 딱 켜졌을 때 이 코드가 실행되는 것. \n",
    "- 테스트 하려면, \n",
    "    - 작업-상태-중지(종료하면 절대 안된다)\n",
    "    - 시작 \n",
    "    - 이렇게 재부팅 하고 slack으로 메세지 날아왔는지 check"
   ]
  },
  {
   "cell_type": "code",
   "execution_count": null,
   "metadata": {},
   "outputs": [],
   "source": []
  },
  {
   "cell_type": "code",
   "execution_count": null,
   "metadata": {},
   "outputs": [],
   "source": []
  },
  {
   "cell_type": "code",
   "execution_count": null,
   "metadata": {},
   "outputs": [],
   "source": []
  },
  {
   "cell_type": "code",
   "execution_count": null,
   "metadata": {},
   "outputs": [],
   "source": []
  },
  {
   "cell_type": "code",
   "execution_count": null,
   "metadata": {},
   "outputs": [],
   "source": []
  }
 ],
 "metadata": {
  "kernelspec": {
   "display_name": "Python 3",
   "language": "python",
   "name": "python3"
  },
  "language_info": {
   "codemirror_mode": {
    "name": "ipython",
    "version": 3
   },
   "file_extension": ".py",
   "mimetype": "text/x-python",
   "name": "python",
   "nbconvert_exporter": "python",
   "pygments_lexer": "ipython3",
   "version": "3.8.5"
  }
 },
 "nbformat": 4,
 "nbformat_minor": 4
}
