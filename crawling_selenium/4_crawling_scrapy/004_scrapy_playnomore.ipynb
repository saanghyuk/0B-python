{
 "cells": [
  {
   "cell_type": "markdown",
   "metadata": {},
   "source": [
    "### playnomore\n",
    "- http://playnomore.co.kr/\n",
    "- scrapy에서 fake-useragent 사용\n",
    "- scrapy를 실행할때 아규먼트를 설정해서 실행\n",
    "- pipelines에서 데이터 베이스로 데이터를 저장"
   ]
  },
  {
   "cell_type": "code",
   "execution_count": 3,
   "metadata": {},
   "outputs": [],
   "source": [
    "import scrapy\n",
    "import requests\n",
    "from scrapy.http import TextResponse"
   ]
  },
  {
   "cell_type": "markdown",
   "metadata": {},
   "source": [
    "#### 1. 프로젝트 생성"
   ]
  },
  {
   "cell_type": "code",
   "execution_count": 4,
   "metadata": {
    "scrolled": true
   },
   "outputs": [
    {
     "name": "stdout",
     "output_type": "stream",
     "text": [
      "New Scrapy project 'playnomore', using template directory '/Users/sanghyuk/anaconda/envs/py38/lib/python3.8/site-packages/scrapy/templates/project', created in:\r\n",
      "    /Users/sanghyuk/Documents/0B-python/crawling_selenium/4_crawling_scrapy/playnomore\r\n",
      "\r\n",
      "You can start your first spider with:\r\n",
      "    cd playnomore\r\n",
      "    scrapy genspider example example.com\r\n"
     ]
    }
   ],
   "source": [
    "!rm -rf playnomore\n",
    "!scrapy startproject playnomore"
   ]
  },
  {
   "cell_type": "markdown",
   "metadata": {},
   "source": [
    "#### 2. items.py\n",
    "- title, price, img, link"
   ]
  },
  {
   "cell_type": "code",
   "execution_count": 5,
   "metadata": {
    "scrolled": true
   },
   "outputs": [
    {
     "name": "stdout",
     "output_type": "stream",
     "text": [
      "Overwriting playnomore/playnomore/items.py\n"
     ]
    }
   ],
   "source": [
    "%%writefile playnomore/playnomore/items.py\n",
    "import scrapy\n",
    "\n",
    "class PlaynomoreItem(scrapy.Item):\n",
    "    title = scrapy.Field()\n",
    "    price = scrapy.Field()\n",
    "    img = scrapy.Field()\n",
    "    link = scrapy.Field()"
   ]
  },
  {
   "cell_type": "markdown",
   "metadata": {},
   "source": [
    "#### 3. xpath 확인\n",
    "- 링크\n",
    "- 링크 -> 상세페이지(제목, 이미지URL, 가격)\n",
    "- fake_useragent 설치\n",
    "    - pip install fake_useragent"
   ]
  },
  {
   "cell_type": "code",
   "execution_count": 8,
   "metadata": {
    "scrolled": false
   },
   "outputs": [
    {
     "data": {
      "text/plain": [
       "<200 http://playnomore.co.kr/category/bag/24/>"
      ]
     },
     "execution_count": 8,
     "metadata": {},
     "output_type": "execute_result"
    }
   ],
   "source": [
    "from fake_useragent import UserAgent\n",
    "url = \"http://playnomore.co.kr/category/bag/24/\"\n",
    "headers = { \"User-Agent\": UserAgent().chrome }\n",
    "#headers = { \"User-Agent\": \"Mozilla/5.0 (Macintosh; Intel Mac OS X 10_15_1) AppleWebKit/537.36 (KHTML, like Gecko) Chrome/78.0.3904.108 Safari/537.36\" }\n",
    "req = requests.get(url, headers=headers)\n",
    "response = TextResponse(req.url, body=req.text, encoding=\"utf-8\") \n",
    "response"
   ]
  },
  {
   "cell_type": "code",
   "execution_count": 12,
   "metadata": {},
   "outputs": [],
   "source": [
    "# 링크\n",
    "links = response.xpath(\n",
    "    '//*[@id=\"contents\"]/div[2]/div/ul/li/div/a/@href'\n",
    ").extract()"
   ]
  },
  {
   "cell_type": "code",
   "execution_count": 13,
   "metadata": {},
   "outputs": [
    {
     "data": {
      "text/plain": [
       "['/product/detail.html?product_no=536&cate_no=24&display_group=1',\n",
       " '/product/detail.html?product_no=575&cate_no=24&display_group=1',\n",
       " '/product/detail.html?product_no=580&cate_no=24&display_group=1',\n",
       " '/product/detail.html?product_no=581&cate_no=24&display_group=1',\n",
       " '/product/detail.html?product_no=552&cate_no=24&display_group=1',\n",
       " '/product/detail.html?product_no=535&cate_no=24&display_group=1',\n",
       " '/product/detail.html?product_no=534&cate_no=24&display_group=1',\n",
       " '/product/detail.html?product_no=550&cate_no=24&display_group=1',\n",
       " '/product/detail.html?product_no=506&cate_no=24&display_group=1',\n",
       " '/product/detail.html?product_no=532&cate_no=24&display_group=1',\n",
       " '/product/detail.html?product_no=551&cate_no=24&display_group=1',\n",
       " '/product/detail.html?product_no=507&cate_no=24&display_group=1',\n",
       " '/product/detail.html?product_no=493&cate_no=24&display_group=1',\n",
       " '/product/detail.html?product_no=539&cate_no=24&display_group=1',\n",
       " '/product/detail.html?product_no=540&cate_no=24&display_group=1']"
      ]
     },
     "execution_count": 13,
     "metadata": {},
     "output_type": "execute_result"
    }
   ],
   "source": [
    "links"
   ]
  },
  {
   "cell_type": "code",
   "execution_count": 14,
   "metadata": {},
   "outputs": [],
   "source": [
    "links = list(map(response.urljoin, links))"
   ]
  },
  {
   "cell_type": "code",
   "execution_count": 25,
   "metadata": {
    "scrolled": true
   },
   "outputs": [
    {
     "data": {
      "text/plain": [
       "<200 http://playnomore.co.kr/product/preorder10off-180-micro-candy-midnight/536/?cate_no=24&display_group=1>"
      ]
     },
     "execution_count": 25,
     "metadata": {},
     "output_type": "execute_result"
    }
   ],
   "source": [
    "# 상세페이지 : 제목, 가격, 이미지URL\n",
    "url = links[0]\n",
    "headers = { \"User-Agent\": \"Mozilla/5.0 (Macintosh; Intel Mac OS X 10_15_1) AppleWebKit/537.36 (KHTML, like Gecko) Chrome/78.0.3904.108 Safari/537.36\" }\n",
    "req = requests.get(url, headers=headers)\n",
    "response = TextResponse(req.url, body=req.text, encoding=\"utf-8\") \n",
    "response"
   ]
  },
  {
   "cell_type": "code",
   "execution_count": null,
   "metadata": {},
   "outputs": [],
   "source": [
    "//*[@id=\"contents\"]/div[1]/div[1]/div[2]/div[1]/"
   ]
  },
  {
   "cell_type": "code",
   "execution_count": 31,
   "metadata": {
    "scrolled": true
   },
   "outputs": [
    {
     "data": {
      "text/plain": [
       "('[preorder/10%off]  MICRO CANDY midnight',\n",
       " '$ 162',\n",
       " 'https://cafe24img.poxo.com/playnomore/web/product/big/202007/13c6846e51721f079e2fd501e71d042f.jpg')"
      ]
     },
     "execution_count": 31,
     "metadata": {},
     "output_type": "execute_result"
    }
   ],
   "source": [
    "title1 = response.xpath(\n",
    "        '//*[@id=\"contents\"]/div[1]/div[1]/div[2]/div[1]/font/text()'\n",
    "    ).extract()\n",
    "title2 = response.xpath(\n",
    "        '//*[@id=\"contents\"]/div[1]/div[1]/div[2]/div[1]/text()'\n",
    "    ).extract()\n",
    "title = \"\".join(title1) + \"\".join(title2)\n",
    "price = response.xpath(\n",
    "        '//*[@id=\"contents\"]/div[1]/div[1]/div[2]/div[2]/text()'\n",
    "    ).extract()[0]\n",
    "img = response.xpath(\n",
    "        '//*[@id=\"contents\"]/div[1]/div[1]/div[1]/div[1]/img/@src'\n",
    "    ).extract()[0]\n",
    "title, price, img"
   ]
  },
  {
   "cell_type": "markdown",
   "metadata": {},
   "source": [
    "#### 4. spider.py\n",
    "- scrapy-fake-useragent 설치\n",
    "    - pip install scrapy-fake-useragent"
   ]
  },
  {
   "cell_type": "code",
   "execution_count": 2,
   "metadata": {
    "scrolled": true
   },
   "outputs": [
    {
     "name": "stdout",
     "output_type": "stream",
     "text": [
      "fake-useragent                     0.1.11\r\n"
     ]
    }
   ],
   "source": [
    "!pip3 list | grep fake"
   ]
  },
  {
   "cell_type": "code",
   "execution_count": 10,
   "metadata": {},
   "outputs": [
    {
     "name": "stdout",
     "output_type": "stream",
     "text": [
      "Overwriting playnomore/playnomore/spiders/spider.py\n"
     ]
    }
   ],
   "source": [
    "%%writefile playnomore/playnomore/spiders/spider.py\n",
    "import scrapy\n",
    "from playnomore.items import PlaynomoreItem\n",
    "\n",
    "class PlaynomoreSpider(scrapy.Spider):\n",
    "    name = \"Playnomore\"\n",
    "    custom_settings = {\n",
    "        'DOWNLOADER_MIDDLEWARES': {\n",
    "            # Remove Default User Agent\n",
    "            'scrapy.downloadermiddlewares.useragent.UserAgentMiddleware': None,\n",
    "            # Set New User Agent\n",
    "            'scrapy_fake_useragent.middleware.RandomUserAgentMiddleware': 400,\n",
    "        }\n",
    "    }\n",
    "    \n",
    "    # 우선적으로 실행됨\n",
    "    def start_requests(self):\n",
    "        url = \"http://playnomore.co.kr/category/bag/24/\"\n",
    "        yield scrapy.Request(url, callback=self.parse)\n",
    "        \n",
    "    def parse(self, response):\n",
    "        links = response.xpath('//*[@id=\"contents\"]/div[2]/div/ul/li/div/a/@href').extract()\n",
    "        links = list(map(response.urljoin, links))\n",
    "        for link in links:\n",
    "            yield scrapy.Request(link, callback=self.page_parse)\n",
    "    \n",
    "    def page_parse(self, response):\n",
    "        item = PlaynomoreItem()\n",
    "        title1 = response.xpath('//*[@id=\"contents\"]/div[1]/div[1]/div[2]/div[1]/font/text()').extract()\n",
    "        title2 = response.xpath('//*[@id=\"contents\"]/div[1]/div[1]/div[2]/div[1]/text()').extract()\n",
    "        item[\"title\"] = \"\".join(title1) + \"\".join(title2)\n",
    "        item[\"price\"] = response.xpath('//*[@id=\"contents\"]/div[1]/div[1]/div[2]/div[2]/text()').extract()[0]\n",
    "        item[\"img\"] = response.xpath('//*[@id=\"contents\"]/div[1]/div[1]/div[1]/div[1]/img/@src').extract()[0]\n",
    "        item[\"link\"] = response.url\n",
    "        yield item"
   ]
  },
  {
   "cell_type": "markdown",
   "metadata": {},
   "source": [
    "참고로, csv또 하면, 현재 있던 파일에 append가 되는 것."
   ]
  },
  {
   "cell_type": "code",
   "execution_count": 11,
   "metadata": {},
   "outputs": [
    {
     "name": "stdout",
     "output_type": "stream",
     "text": [
      "Overwriting playnomore/run.sh\n"
     ]
    }
   ],
   "source": [
    "%%writefile playnomore/run.sh\n",
    "cd playnomore\n",
    "python3 -m scrapy crawl Playnomore -o playnomore.csv"
   ]
  },
  {
   "cell_type": "code",
   "execution_count": 12,
   "metadata": {},
   "outputs": [],
   "source": [
    "!chmod +x playnomore/run.sh"
   ]
  },
  {
   "cell_type": "code",
   "execution_count": 13,
   "metadata": {
    "collapsed": true
   },
   "outputs": [
    {
     "name": "stdout",
     "output_type": "stream",
     "text": [
      "2021-09-20 00:39:59 [scrapy.utils.log] INFO: Scrapy 2.5.0 started (bot: playnomore)\n",
      "2021-09-20 00:39:59 [scrapy.utils.log] INFO: Versions: lxml 4.6.1.0, libxml2 2.9.10, cssselect 1.1.0, parsel 1.6.0, w3lib 1.22.0, Twisted 21.7.0, Python 3.8.5 (default, Sep  4 2020, 02:22:02) - [Clang 10.0.0 ], pyOpenSSL 19.1.0 (OpenSSL 1.1.1h  22 Sep 2020), cryptography 3.1.1, Platform macOS-10.16-x86_64-i386-64bit\n",
      "2021-09-20 00:39:59 [scrapy.utils.log] DEBUG: Using reactor: twisted.internet.selectreactor.SelectReactor\n",
      "2021-09-20 00:39:59 [scrapy.crawler] INFO: Overridden settings:\n",
      "{'BOT_NAME': 'playnomore',\n",
      " 'NEWSPIDER_MODULE': 'playnomore.spiders',\n",
      " 'ROBOTSTXT_OBEY': True,\n",
      " 'SPIDER_MODULES': ['playnomore.spiders']}\n",
      "2021-09-20 00:39:59 [scrapy.extensions.telnet] INFO: Telnet Password: d2bf28ff0fe8f850\n",
      "2021-09-20 00:39:59 [scrapy.middleware] INFO: Enabled extensions:\n",
      "['scrapy.extensions.corestats.CoreStats',\n",
      " 'scrapy.extensions.telnet.TelnetConsole',\n",
      " 'scrapy.extensions.memusage.MemoryUsage',\n",
      " 'scrapy.extensions.feedexport.FeedExporter',\n",
      " 'scrapy.extensions.logstats.LogStats']\n",
      "2021-09-20 00:39:59 [faker.factory] DEBUG: Not in REPL -> leaving logger event level as is.\n",
      "2021-09-20 00:39:59 [scrapy_fake_useragent.middleware] DEBUG: Loaded User-Agent provider: scrapy_fake_useragent.providers.FakeUserAgentProvider\n",
      "2021-09-20 00:39:59 [scrapy_fake_useragent.middleware] INFO: Using '<class 'scrapy_fake_useragent.providers.FakeUserAgentProvider'>' as the User-Agent provider\n",
      "2021-09-20 00:39:59 [scrapy.middleware] INFO: Enabled downloader middlewares:\n",
      "['scrapy.downloadermiddlewares.robotstxt.RobotsTxtMiddleware',\n",
      " 'scrapy.downloadermiddlewares.httpauth.HttpAuthMiddleware',\n",
      " 'scrapy.downloadermiddlewares.downloadtimeout.DownloadTimeoutMiddleware',\n",
      " 'scrapy.downloadermiddlewares.defaultheaders.DefaultHeadersMiddleware',\n",
      " 'scrapy_fake_useragent.middleware.RandomUserAgentMiddleware',\n",
      " 'scrapy.downloadermiddlewares.retry.RetryMiddleware',\n",
      " 'scrapy.downloadermiddlewares.redirect.MetaRefreshMiddleware',\n",
      " 'scrapy.downloadermiddlewares.httpcompression.HttpCompressionMiddleware',\n",
      " 'scrapy.downloadermiddlewares.redirect.RedirectMiddleware',\n",
      " 'scrapy.downloadermiddlewares.cookies.CookiesMiddleware',\n",
      " 'scrapy.downloadermiddlewares.httpproxy.HttpProxyMiddleware',\n",
      " 'scrapy.downloadermiddlewares.stats.DownloaderStats']\n",
      "2021-09-20 00:39:59 [scrapy.middleware] INFO: Enabled spider middlewares:\n",
      "['scrapy.spidermiddlewares.httperror.HttpErrorMiddleware',\n",
      " 'scrapy.spidermiddlewares.offsite.OffsiteMiddleware',\n",
      " 'scrapy.spidermiddlewares.referer.RefererMiddleware',\n",
      " 'scrapy.spidermiddlewares.urllength.UrlLengthMiddleware',\n",
      " 'scrapy.spidermiddlewares.depth.DepthMiddleware']\n",
      "2021-09-20 00:39:59 [scrapy.middleware] INFO: Enabled item pipelines:\n",
      "[]\n",
      "2021-09-20 00:39:59 [scrapy.core.engine] INFO: Spider opened\n",
      "2021-09-20 00:39:59 [scrapy.extensions.logstats] INFO: Crawled 0 pages (at 0 pages/min), scraped 0 items (at 0 items/min)\n",
      "2021-09-20 00:39:59 [scrapy.extensions.telnet] INFO: Telnet console listening on 127.0.0.1:6023\n",
      "2021-09-20 00:40:00 [scrapy.core.engine] DEBUG: Crawled (200) <GET http://playnomore.co.kr/robots.txt> (referer: None)\n",
      "2021-09-20 00:40:00 [scrapy.core.engine] DEBUG: Crawled (200) <GET http://playnomore.co.kr/category/bag/24/> (referer: None)\n",
      "2021-09-20 00:40:00 [scrapy.downloadermiddlewares.redirect] DEBUG: Redirecting (301) to <GET http://m.playnomore.co.kr/product/detail.html?product_no=581&cate_no=24&display_group=1> from <GET http://playnomore.co.kr/product/detail.html?product_no=581&cate_no=24&display_group=1>\n",
      "2021-09-20 00:40:01 [scrapy.downloadermiddlewares.redirect] DEBUG: Redirecting (301) to <GET http://playnomore.co.kr/product/bag-micro-candy-lavender/552/?cate_no=24&display_group=1> from <GET http://playnomore.co.kr/product/detail.html?product_no=552&cate_no=24&display_group=1>\n",
      "2021-09-20 00:40:01 [scrapy.downloadermiddlewares.redirect] DEBUG: Redirecting (301) to <GET http://playnomore.co.kr/product/bag-micro-candy-dot/550/?cate_no=24&display_group=1> from <GET http://playnomore.co.kr/product/detail.html?product_no=550&cate_no=24&display_group=1>\n",
      "2021-09-20 00:40:01 [scrapy.downloadermiddlewares.redirect] DEBUG: Redirecting (301) to <GET http://playnomore.co.kr/product/bag-micro-candy-tweed-black/534/?cate_no=24&display_group=1> from <GET http://playnomore.co.kr/product/detail.html?product_no=534&cate_no=24&display_group=1>\n",
      "2021-09-20 00:40:01 [scrapy.downloadermiddlewares.redirect] DEBUG: Redirecting (301) to <GET http://playnomore.co.kr/product/bag-micro-candy-pink/575/?cate_no=24&display_group=1> from <GET http://playnomore.co.kr/product/detail.html?product_no=575&cate_no=24&display_group=1>\n",
      "2021-09-20 00:40:01 [scrapy.downloadermiddlewares.redirect] DEBUG: Redirecting (301) to <GET http://playnomore.co.kr/product/bag-micro-candy-almond/535/?cate_no=24&display_group=1> from <GET http://playnomore.co.kr/product/detail.html?product_no=535&cate_no=24&display_group=1>\n",
      "2021-09-20 00:40:01 [scrapy.downloadermiddlewares.redirect] DEBUG: Redirecting (301) to <GET http://playnomore.co.kr/product/bag-micro-moon-chocolate/540/?cate_no=24&display_group=1> from <GET http://playnomore.co.kr/product/detail.html?product_no=540&cate_no=24&display_group=1>\n",
      "2021-09-20 00:40:01 [scrapy.downloadermiddlewares.redirect] DEBUG: Redirecting (301) to <GET http://playnomore.co.kr/product/bag-little-spencer-6-colors/580/?cate_no=24&display_group=1> from <GET http://playnomore.co.kr/product/detail.html?product_no=580&cate_no=24&display_group=1>\n",
      "2021-09-20 00:40:01 [scrapy.downloadermiddlewares.redirect] DEBUG: Redirecting (301) to <GET http://playnomore.co.kr/product/preorder10off-180-micro-candy-midnight/536/?cate_no=24&display_group=1> from <GET http://playnomore.co.kr/product/detail.html?product_no=536&cate_no=24&display_group=1>\n",
      "2021-09-20 00:40:01 [scrapy.downloadermiddlewares.redirect] DEBUG: Redirecting (301) to <GET http://playnomore.co.kr/product/bag-micro-moon-ivory/539/?cate_no=24&display_group=1> from <GET http://playnomore.co.kr/product/detail.html?product_no=539&cate_no=24&display_group=1>\n",
      "2021-09-20 00:40:01 [scrapy.core.engine] DEBUG: Crawled (200) <GET http://m.playnomore.co.kr/robots.txt> (referer: None)\n",
      "2021-09-20 00:40:01 [scrapy.downloadermiddlewares.redirect] DEBUG: Redirecting (301) to <GET http://playnomore.co.kr/product/bag-micro-candy-magenta/493/?cate_no=24&display_group=1> from <GET http://playnomore.co.kr/product/detail.html?product_no=493&cate_no=24&display_group=1>\n",
      "2021-09-20 00:40:01 [scrapy.downloadermiddlewares.redirect] DEBUG: Redirecting (301) to <GET http://playnomore.co.kr/product/bag-micro-candy-white/507/?cate_no=24&display_group=1> from <GET http://playnomore.co.kr/product/detail.html?product_no=507&cate_no=24&display_group=1>\n",
      "2021-09-20 00:40:01 [scrapy.downloadermiddlewares.redirect] DEBUG: Redirecting (301) to <GET http://playnomore.co.kr/product/bag-micro-candy-banana-yellow/551/?cate_no=24&display_group=1> from <GET http://playnomore.co.kr/product/detail.html?product_no=551&cate_no=24&display_group=1>\n",
      "2021-09-20 00:40:01 [scrapy.downloadermiddlewares.redirect] DEBUG: Redirecting (301) to <GET http://playnomore.co.kr/product/bag-micro-candy-black/506/?cate_no=24&display_group=1> from <GET http://playnomore.co.kr/product/detail.html?product_no=506&cate_no=24&display_group=1>\n",
      "2021-09-20 00:40:01 [scrapy.downloadermiddlewares.redirect] DEBUG: Redirecting (301) to <GET http://playnomore.co.kr/product/bag-micro-candy-natural/532/?cate_no=24&display_group=1> from <GET http://playnomore.co.kr/product/detail.html?product_no=532&cate_no=24&display_group=1>\n",
      "2021-09-20 00:40:01 [scrapy.core.engine] DEBUG: Crawled (200) <GET http://playnomore.co.kr/product/bag-micro-candy-dot/550/?cate_no=24&display_group=1> (referer: http://playnomore.co.kr/category/bag/24/)\n",
      "2021-09-20 00:40:01 [scrapy.core.engine] DEBUG: Crawled (200) <GET http://playnomore.co.kr/product/bag-micro-candy-lavender/552/?cate_no=24&display_group=1> (referer: http://playnomore.co.kr/category/bag/24/)\n",
      "2021-09-20 00:40:02 [scrapy.core.scraper] DEBUG: Scraped from <200 http://playnomore.co.kr/product/bag-micro-candy-dot/550/?cate_no=24&display_group=1>\n",
      "{'img': 'https://cafe24img.poxo.com/playnomore/web/product/big/202007/1e57f346e0464d670accecb8686d8e8e.jpg',\n",
      " 'link': 'http://playnomore.co.kr/product/bag-micro-candy-dot/550/?cate_no=24&display_group=1',\n",
      " 'price': '$ 180',\n",
      " 'title': '[BAG] MICRO CANDY dot'}\n",
      "2021-09-20 00:40:02 [scrapy.core.scraper] DEBUG: Scraped from <200 http://playnomore.co.kr/product/bag-micro-candy-lavender/552/?cate_no=24&display_group=1>\n",
      "{'img': 'https://cafe24img.poxo.com/playnomore/web/product/big/202007/41be7cd5c22e9c844a8e3a3b898c0234.jpg',\n",
      " 'link': 'http://playnomore.co.kr/product/bag-micro-candy-lavender/552/?cate_no=24&display_group=1',\n",
      " 'price': '$ 180',\n",
      " 'title': '[BAG] MICRO CANDY lavender'}\n"
     ]
    },
    {
     "name": "stdout",
     "output_type": "stream",
     "text": [
      "2021-09-20 00:40:02 [scrapy.core.engine] DEBUG: Crawled (200) <GET http://playnomore.co.kr/product/bag-micro-candy-tweed-black/534/?cate_no=24&display_group=1> (referer: http://playnomore.co.kr/category/bag/24/)\n",
      "2021-09-20 00:40:02 [scrapy.core.engine] DEBUG: Crawled (200) <GET http://playnomore.co.kr/product/preorder10off-180-micro-candy-midnight/536/?cate_no=24&display_group=1> (referer: http://playnomore.co.kr/category/bag/24/)\n",
      "2021-09-20 00:40:02 [scrapy.core.engine] DEBUG: Crawled (200) <GET http://playnomore.co.kr/product/bag-micro-candy-pink/575/?cate_no=24&display_group=1> (referer: http://playnomore.co.kr/category/bag/24/)\n",
      "2021-09-20 00:40:02 [scrapy.core.engine] DEBUG: Crawled (200) <GET http://playnomore.co.kr/product/bag-micro-moon-chocolate/540/?cate_no=24&display_group=1> (referer: http://playnomore.co.kr/category/bag/24/)\n",
      "2021-09-20 00:40:02 [scrapy.core.scraper] DEBUG: Scraped from <200 http://playnomore.co.kr/product/bag-micro-candy-tweed-black/534/?cate_no=24&display_group=1>\n",
      "{'img': 'https://cafe24img.poxo.com/playnomore/web/product/big/202007/f62379ae157d187c31bd34070ef07f2a.jpg',\n",
      " 'link': 'http://playnomore.co.kr/product/bag-micro-candy-tweed-black/534/?cate_no=24&display_group=1',\n",
      " 'price': '$ 180',\n",
      " 'title': '[BAG] MICRO CANDY tweed black'}\n",
      "2021-09-20 00:40:02 [scrapy.core.scraper] DEBUG: Scraped from <200 http://playnomore.co.kr/product/preorder10off-180-micro-candy-midnight/536/?cate_no=24&display_group=1>\n",
      "{'img': 'https://cafe24img.poxo.com/playnomore/web/product/big/202007/13c6846e51721f079e2fd501e71d042f.jpg',\n",
      " 'link': 'http://playnomore.co.kr/product/preorder10off-180-micro-candy-midnight/536/?cate_no=24&display_group=1',\n",
      " 'price': '$ 162',\n",
      " 'title': '[preorder/10%off]  MICRO CANDY midnight'}\n",
      "2021-09-20 00:40:02 [scrapy.core.scraper] DEBUG: Scraped from <200 http://playnomore.co.kr/product/bag-micro-candy-pink/575/?cate_no=24&display_group=1>\n",
      "{'img': 'https://cafe24img.poxo.com/playnomore/web/product/big/202009/77055f160ce10e87bf5ab44c8f2a96db.jpg',\n",
      " 'link': 'http://playnomore.co.kr/product/bag-micro-candy-pink/575/?cate_no=24&display_group=1',\n",
      " 'price': '$ 180',\n",
      " 'title': '[BAG] MICRO CANDY pink'}\n",
      "2021-09-20 00:40:02 [scrapy.core.scraper] DEBUG: Scraped from <200 http://playnomore.co.kr/product/bag-micro-moon-chocolate/540/?cate_no=24&display_group=1>\n",
      "{'img': 'https://cafe24img.poxo.com/playnomore/web/product/big/201909/f8981ada9b99c416229cb597ed13e777.jpg',\n",
      " 'link': 'http://playnomore.co.kr/product/bag-micro-moon-chocolate/540/?cate_no=24&display_group=1',\n",
      " 'price': '$ 180',\n",
      " 'title': '[BAG] MICRO MOON chocolate'}\n",
      "2021-09-20 00:40:02 [scrapy.core.engine] DEBUG: Crawled (200) <GET http://playnomore.co.kr/product/bag-little-spencer-6-colors/580/?cate_no=24&display_group=1> (referer: http://playnomore.co.kr/category/bag/24/)\n",
      "2021-09-20 00:40:02 [scrapy.core.engine] DEBUG: Crawled (200) <GET http://playnomore.co.kr/product/bag-micro-candy-almond/535/?cate_no=24&display_group=1> (referer: http://playnomore.co.kr/category/bag/24/)\n",
      "2021-09-20 00:40:02 [scrapy.core.scraper] DEBUG: Scraped from <200 http://playnomore.co.kr/product/bag-little-spencer-6-colors/580/?cate_no=24&display_group=1>\n",
      "{'img': 'https://cafe24img.poxo.com/playnomore/web/product/big/202101/d3a3c250047d92cb1363382c07b20e2d.jpg',\n",
      " 'link': 'http://playnomore.co.kr/product/bag-little-spencer-6-colors/580/?cate_no=24&display_group=1',\n",
      " 'price': '$ 255',\n",
      " 'title': '[BAG] LITTLE SPENCER 6 colors'}\n",
      "2021-09-20 00:40:02 [scrapy.core.scraper] DEBUG: Scraped from <200 http://playnomore.co.kr/product/bag-micro-candy-almond/535/?cate_no=24&display_group=1>\n",
      "{'img': 'https://cafe24img.poxo.com/playnomore/web/product/big/202007/56836cdda5d3760086b14bc2c4f4ba0c.jpg',\n",
      " 'link': 'http://playnomore.co.kr/product/bag-micro-candy-almond/535/?cate_no=24&display_group=1',\n",
      " 'price': '$ 180',\n",
      " 'title': '[BAG] MICRO CANDY almond'}\n",
      "2021-09-20 00:40:03 [scrapy.downloadermiddlewares.redirect] DEBUG: Redirecting (301) to <GET http://m.playnomore.co.kr/product/bag-shygirl-lavender/581/?cate_no=24&display_group=1> from <GET http://m.playnomore.co.kr/product/detail.html?product_no=581&cate_no=24&display_group=1>\n",
      "2021-09-20 00:40:04 [scrapy.core.engine] DEBUG: Crawled (200) <GET http://playnomore.co.kr/product/bag-micro-candy-magenta/493/?cate_no=24&display_group=1> (referer: http://playnomore.co.kr/category/bag/24/)\n",
      "2021-09-20 00:40:04 [scrapy.core.engine] DEBUG: Crawled (200) <GET http://playnomore.co.kr/product/bag-micro-candy-banana-yellow/551/?cate_no=24&display_group=1> (referer: http://playnomore.co.kr/category/bag/24/)\n",
      "2021-09-20 00:40:04 [scrapy.core.engine] DEBUG: Crawled (200) <GET http://playnomore.co.kr/product/bag-micro-candy-white/507/?cate_no=24&display_group=1> (referer: http://playnomore.co.kr/category/bag/24/)\n",
      "2021-09-20 00:40:04 [scrapy.core.engine] DEBUG: Crawled (200) <GET http://playnomore.co.kr/product/bag-micro-moon-ivory/539/?cate_no=24&display_group=1> (referer: http://playnomore.co.kr/category/bag/24/)\n",
      "2021-09-20 00:40:05 [scrapy.core.scraper] DEBUG: Scraped from <200 http://playnomore.co.kr/product/bag-micro-candy-magenta/493/?cate_no=24&display_group=1>\n",
      "{'img': 'https://cafe24img.poxo.com/playnomore/web/product/big/202007/c581235ef5adf6d4878dbffa4fb33e66.jpg',\n",
      " 'link': 'http://playnomore.co.kr/product/bag-micro-candy-magenta/493/?cate_no=24&display_group=1',\n",
      " 'price': '$ 180',\n",
      " 'title': '[BAG] MICRO CANDY magenta'}\n",
      "2021-09-20 00:40:05 [scrapy.core.scraper] DEBUG: Scraped from <200 http://playnomore.co.kr/product/bag-micro-candy-banana-yellow/551/?cate_no=24&display_group=1>\n",
      "{'img': 'https://cafe24img.poxo.com/playnomore/web/product/big/202007/b5d5a73be3e7b05972a57ea71f769a62.jpg',\n",
      " 'link': 'http://playnomore.co.kr/product/bag-micro-candy-banana-yellow/551/?cate_no=24&display_group=1',\n",
      " 'price': '$ 180',\n",
      " 'title': '[BAG] MICRO CANDY banana yellow'}\n",
      "2021-09-20 00:40:05 [scrapy.core.engine] DEBUG: Crawled (200) <GET http://playnomore.co.kr/product/bag-micro-candy-black/506/?cate_no=24&display_group=1> (referer: http://playnomore.co.kr/category/bag/24/)\n",
      "2021-09-20 00:40:05 [scrapy.core.scraper] DEBUG: Scraped from <200 http://playnomore.co.kr/product/bag-micro-candy-white/507/?cate_no=24&display_group=1>\n",
      "{'img': 'https://cafe24img.poxo.com/playnomore/web/product/big/202007/a4df4521be08ea0bea4882eec6fd27e8.jpg',\n",
      " 'link': 'http://playnomore.co.kr/product/bag-micro-candy-white/507/?cate_no=24&display_group=1',\n",
      " 'price': '$ 180',\n",
      " 'title': '[BAG] MICRO CANDY white'}\n",
      "2021-09-20 00:40:05 [scrapy.core.scraper] DEBUG: Scraped from <200 http://playnomore.co.kr/product/bag-micro-moon-ivory/539/?cate_no=24&display_group=1>\n",
      "{'img': 'https://cafe24img.poxo.com/playnomore/web/product/big/202007/350199fb22349dada57c94f5a9239f14.jpg',\n",
      " 'link': 'http://playnomore.co.kr/product/bag-micro-moon-ivory/539/?cate_no=24&display_group=1',\n",
      " 'price': '$ 180',\n",
      " 'title': '[BAG] MICRO MOON ivory'}\n",
      "2021-09-20 00:40:05 [scrapy.core.engine] DEBUG: Crawled (200) <GET http://playnomore.co.kr/product/bag-micro-candy-natural/532/?cate_no=24&display_group=1> (referer: http://playnomore.co.kr/category/bag/24/)\n",
      "2021-09-20 00:40:05 [scrapy.core.scraper] DEBUG: Scraped from <200 http://playnomore.co.kr/product/bag-micro-candy-black/506/?cate_no=24&display_group=1>\n",
      "{'img': 'https://cafe24img.poxo.com/playnomore/web/product/big/202007/fa7175a58806657a4edf2611ba7a7336.jpg',\n",
      " 'link': 'http://playnomore.co.kr/product/bag-micro-candy-black/506/?cate_no=24&display_group=1',\n",
      " 'price': '$ 180',\n",
      " 'title': '[BAG] MICRO CANDY black'}\n",
      "2021-09-20 00:40:05 [scrapy.core.scraper] DEBUG: Scraped from <200 http://playnomore.co.kr/product/bag-micro-candy-natural/532/?cate_no=24&display_group=1>\n",
      "{'img': 'https://cafe24img.poxo.com/playnomore/web/product/big/202007/598e56c9efa82be4dd6d129db71ba5cc.jpg',\n",
      " 'link': 'http://playnomore.co.kr/product/bag-micro-candy-natural/532/?cate_no=24&display_group=1',\n",
      " 'price': '$ 180',\n",
      " 'title': '[BAG] MICRO CANDY natural'}\n",
      "2021-09-20 00:40:05 [scrapy.core.engine] DEBUG: Crawled (200) <GET http://m.playnomore.co.kr/product/bag-shygirl-lavender/581/?cate_no=24&display_group=1> (referer: http://playnomore.co.kr/category/bag/24/)\n",
      "2021-09-20 00:40:05 [scrapy.core.scraper] ERROR: Spider error processing <GET http://m.playnomore.co.kr/product/bag-shygirl-lavender/581/?cate_no=24&display_group=1> (referer: http://playnomore.co.kr/category/bag/24/)\n",
      "Traceback (most recent call last):\n",
      "  File \"/Users/sanghyuk/anaconda/envs/py38/lib/python3.8/site-packages/scrapy/utils/defer.py\", line 120, in iter_errback\n",
      "    yield next(it)\n",
      "  File \"/Users/sanghyuk/anaconda/envs/py38/lib/python3.8/site-packages/scrapy/utils/python.py\", line 353, in __next__\n",
      "    return next(self.data)\n",
      "  File \"/Users/sanghyuk/anaconda/envs/py38/lib/python3.8/site-packages/scrapy/utils/python.py\", line 353, in __next__\n",
      "    return next(self.data)\n",
      "  File \"/Users/sanghyuk/anaconda/envs/py38/lib/python3.8/site-packages/scrapy/core/spidermw.py\", line 56, in _evaluate_iterable\n",
      "    for r in iterable:\n",
      "  File \"/Users/sanghyuk/anaconda/envs/py38/lib/python3.8/site-packages/scrapy/spidermiddlewares/offsite.py\", line 29, in process_spider_output\n",
      "    for x in result:\n",
      "  File \"/Users/sanghyuk/anaconda/envs/py38/lib/python3.8/site-packages/scrapy/core/spidermw.py\", line 56, in _evaluate_iterable\n",
      "    for r in iterable:\n",
      "  File \"/Users/sanghyuk/anaconda/envs/py38/lib/python3.8/site-packages/scrapy/spidermiddlewares/referer.py\", line 342, in <genexpr>\n",
      "    return (_set_referer(r) for r in result or ())\n",
      "  File \"/Users/sanghyuk/anaconda/envs/py38/lib/python3.8/site-packages/scrapy/core/spidermw.py\", line 56, in _evaluate_iterable\n",
      "    for r in iterable:\n",
      "  File \"/Users/sanghyuk/anaconda/envs/py38/lib/python3.8/site-packages/scrapy/spidermiddlewares/urllength.py\", line 40, in <genexpr>\n",
      "    return (r for r in result or () if _filter(r))\n",
      "  File \"/Users/sanghyuk/anaconda/envs/py38/lib/python3.8/site-packages/scrapy/core/spidermw.py\", line 56, in _evaluate_iterable\n",
      "    for r in iterable:\n",
      "  File \"/Users/sanghyuk/anaconda/envs/py38/lib/python3.8/site-packages/scrapy/spidermiddlewares/depth.py\", line 58, in <genexpr>\n",
      "    return (r for r in result or () if _filter(r))\n",
      "  File \"/Users/sanghyuk/anaconda/envs/py38/lib/python3.8/site-packages/scrapy/core/spidermw.py\", line 56, in _evaluate_iterable\n",
      "    for r in iterable:\n",
      "  File \"/Users/sanghyuk/Documents/0B-python/crawling_selenium/4_crawling_scrapy/playnomore/playnomore/spiders/spider.py\", line 31, in page_parse\n",
      "    item[\"price\"] = response.xpath('//*[@id=\"contents\"]/div[1]/div[1]/div[2]/div[2]/text()').extract()[0]\n",
      "IndexError: list index out of range\n",
      "2021-09-20 00:40:05 [scrapy.core.engine] INFO: Closing spider (finished)\n",
      "2021-09-20 00:40:05 [scrapy.extensions.feedexport] INFO: Stored csv feed (14 items) in: playnomore.csv\n",
      "2021-09-20 00:40:05 [scrapy.statscollectors] INFO: Dumping Scrapy stats:\n",
      "{'downloader/request_bytes': 14637,\n",
      " 'downloader/request_count': 34,\n",
      " 'downloader/request_method_count/GET': 34,\n",
      " 'downloader/response_bytes': 352219,\n",
      " 'downloader/response_count': 34,\n",
      " 'downloader/response_status_count/200': 18,\n",
      " 'downloader/response_status_count/301': 16,\n",
      " 'elapsed_time_seconds': 5.769397,\n",
      " 'feedexport/success_count/FileFeedStorage': 1,\n",
      " 'finish_reason': 'finished',\n",
      " 'finish_time': datetime.datetime(2021, 9, 19, 16, 40, 5, 395888),\n",
      " 'httpcompression/response_bytes': 1218446,\n",
      " 'httpcompression/response_count': 16,\n",
      " 'item_scraped_count': 14,\n",
      " 'log_count/DEBUG': 50,\n",
      " 'log_count/ERROR': 1,\n",
      " 'log_count/INFO': 12,\n",
      " 'memusage/max': 60612608,\n",
      " 'memusage/startup': 60612608,\n",
      " 'request_depth_max': 1,\n",
      " 'response_received_count': 18,\n",
      " 'robotstxt/request_count': 2,\n",
      " 'robotstxt/response_count': 2,\n",
      " 'robotstxt/response_status_count/200': 2,\n",
      " 'scheduler/dequeued': 32,\n",
      " 'scheduler/dequeued/memory': 32,\n",
      " 'scheduler/enqueued': 32,\n",
      " 'scheduler/enqueued/memory': 32,\n",
      " 'spider_exceptions/IndexError': 1,\n",
      " 'start_time': datetime.datetime(2021, 9, 19, 16, 39, 59, 626491)}\n",
      "2021-09-20 00:40:05 [scrapy.core.engine] INFO: Spider closed (finished)\n"
     ]
    }
   ],
   "source": [
    "!playnomore/run.sh"
   ]
  },
  {
   "cell_type": "code",
   "execution_count": 14,
   "metadata": {},
   "outputs": [
    {
     "data": {
      "text/html": [
       "<div>\n",
       "<style scoped>\n",
       "    .dataframe tbody tr th:only-of-type {\n",
       "        vertical-align: middle;\n",
       "    }\n",
       "\n",
       "    .dataframe tbody tr th {\n",
       "        vertical-align: top;\n",
       "    }\n",
       "\n",
       "    .dataframe thead th {\n",
       "        text-align: right;\n",
       "    }\n",
       "</style>\n",
       "<table border=\"1\" class=\"dataframe\">\n",
       "  <thead>\n",
       "    <tr style=\"text-align: right;\">\n",
       "      <th></th>\n",
       "      <th>img</th>\n",
       "      <th>link</th>\n",
       "      <th>price</th>\n",
       "      <th>title</th>\n",
       "    </tr>\n",
       "  </thead>\n",
       "  <tbody>\n",
       "    <tr>\n",
       "      <th>13</th>\n",
       "      <td>https://cafe24img.poxo.com/playnomore/web/prod...</td>\n",
       "      <td>http://playnomore.co.kr/product/bag-micro-cand...</td>\n",
       "      <td>$ 180</td>\n",
       "      <td>[BAG] MICRO CANDY natural</td>\n",
       "    </tr>\n",
       "  </tbody>\n",
       "</table>\n",
       "</div>"
      ],
      "text/plain": [
       "                                                  img  \\\n",
       "13  https://cafe24img.poxo.com/playnomore/web/prod...   \n",
       "\n",
       "                                                 link  price  \\\n",
       "13  http://playnomore.co.kr/product/bag-micro-cand...  $ 180   \n",
       "\n",
       "                        title  \n",
       "13  [BAG] MICRO CANDY natural  "
      ]
     },
     "execution_count": 14,
     "metadata": {},
     "output_type": "execute_result"
    }
   ],
   "source": [
    "import pandas as pd\n",
    "df = pd.read_csv(\"playnomore/playnomore.csv\")\n",
    "df.tail(1)"
   ]
  },
  {
   "cell_type": "code",
   "execution_count": null,
   "metadata": {},
   "outputs": [],
   "source": []
  },
  {
   "cell_type": "markdown",
   "metadata": {},
   "source": [
    "실행시킬때, shoes 이런 argument를 받아서, url을 만들어서 scraping을 해보자. "
   ]
  },
  {
   "cell_type": "markdown",
   "metadata": {},
   "source": [
    "#### 5. argument 설정"
   ]
  },
  {
   "cell_type": "code",
   "execution_count": 26,
   "metadata": {},
   "outputs": [
    {
     "name": "stdout",
     "output_type": "stream",
     "text": [
      "Overwriting playnomore/playnomore/spiders/spider.py\n"
     ]
    }
   ],
   "source": [
    "%%writefile playnomore/playnomore/spiders/spider.py\n",
    "import scrapy\n",
    "from playnomore.items import PlaynomoreItem\n",
    "\n",
    "class PlaynomoreSpider(scrapy.Spider):\n",
    "    name = \"Playnomore\"\n",
    "    custom_settings = {\n",
    "        'DOWNLOADER_MIDDLEWARES': {\n",
    "            'scrapy.downloadermiddlewares.useragent.UserAgentMiddleware': None,\n",
    "            'scrapy_fake_useragent.middleware.RandomUserAgentMiddleware': 400,\n",
    "        }\n",
    "    }\n",
    "    \n",
    "    def __init__(self, category1=\"bag\", category2=24, **kwargs):\n",
    "        self.start_url = \"http://playnomore.co.kr/category/{}/{}\".format(category1, category2)\n",
    "        super().__init__(**kwargs)\n",
    "        \n",
    "    def start_requests(self):\n",
    "        url = self.start_url\n",
    "        yield scrapy.Request(url, callback=self.parse)\n",
    "        \n",
    "    def parse(self, response):\n",
    "        links = response.xpath('//*[@id=\"contents\"]/div[2]/div/ul/li/div/a/@href').extract()\n",
    "        links = list(map(response.urljoin, links))\n",
    "        for link in links:\n",
    "            yield scrapy.Request(link, callback=self.page_parse)\n",
    "    \n",
    "    def page_parse(self, response):\n",
    "        item = PlaynomoreItem()\n",
    "        title1 = response.xpath('//*[@id=\"contents\"]/div[1]/div[1]/div[2]/div[1]/font/text()').extract()\n",
    "        title2 = response.xpath('//*[@id=\"contents\"]/div[1]/div[1]/div[2]/div[1]/text()').extract()\n",
    "        item[\"title\"] = \"\".join(title1) + \"\".join(title2)\n",
    "        item[\"price\"] = response.xpath('//*[@id=\"contents\"]/div[1]/div[1]/div[2]/div[2]/text()').extract()[0]\n",
    "        item[\"img\"] = \"http:\" + response.xpath('//*[@id=\"contents\"]/div[1]/div[1]/div[1]/div[1]/img/@src').extract()[0]\n",
    "        item[\"link\"] = response.url\n",
    "        yield item"
   ]
  },
  {
   "cell_type": "code",
   "execution_count": 29,
   "metadata": {},
   "outputs": [
    {
     "name": "stdout",
     "output_type": "stream",
     "text": [
      "Overwriting playnomore/run.sh\n"
     ]
    }
   ],
   "source": [
    "%%writefile playnomore/run.sh\n",
    "cd playnomore\n",
    "scrapy crawl Playnomore -o playnomore2.csv -a category1=apparel -a category2=26"
   ]
  },
  {
   "cell_type": "code",
   "execution_count": 30,
   "metadata": {
    "collapsed": true
   },
   "outputs": [
    {
     "name": "stdout",
     "output_type": "stream",
     "text": [
      "2021-09-20 00:50:24 [scrapy.utils.log] INFO: Scrapy 2.5.0 started (bot: playnomore)\n",
      "2021-09-20 00:50:24 [scrapy.utils.log] INFO: Versions: lxml 4.6.1.0, libxml2 2.9.10, cssselect 1.1.0, parsel 1.6.0, w3lib 1.22.0, Twisted 21.7.0, Python 3.8.5 (default, Sep  4 2020, 02:22:02) - [Clang 10.0.0 ], pyOpenSSL 19.1.0 (OpenSSL 1.1.1h  22 Sep 2020), cryptography 3.1.1, Platform macOS-10.16-x86_64-i386-64bit\n",
      "2021-09-20 00:50:24 [scrapy.utils.log] DEBUG: Using reactor: twisted.internet.selectreactor.SelectReactor\n",
      "2021-09-20 00:50:24 [scrapy.crawler] INFO: Overridden settings:\n",
      "{'BOT_NAME': 'playnomore',\n",
      " 'NEWSPIDER_MODULE': 'playnomore.spiders',\n",
      " 'ROBOTSTXT_OBEY': True,\n",
      " 'SPIDER_MODULES': ['playnomore.spiders']}\n",
      "2021-09-20 00:50:24 [scrapy.extensions.telnet] INFO: Telnet Password: b0c7532c38346864\n",
      "2021-09-20 00:50:24 [scrapy.middleware] INFO: Enabled extensions:\n",
      "['scrapy.extensions.corestats.CoreStats',\n",
      " 'scrapy.extensions.telnet.TelnetConsole',\n",
      " 'scrapy.extensions.memusage.MemoryUsage',\n",
      " 'scrapy.extensions.feedexport.FeedExporter',\n",
      " 'scrapy.extensions.logstats.LogStats']\n",
      "2021-09-20 00:50:24 [faker.factory] DEBUG: Not in REPL -> leaving logger event level as is.\n",
      "2021-09-20 00:50:24 [scrapy_fake_useragent.middleware] DEBUG: Loaded User-Agent provider: scrapy_fake_useragent.providers.FakeUserAgentProvider\n",
      "2021-09-20 00:50:24 [scrapy_fake_useragent.middleware] INFO: Using '<class 'scrapy_fake_useragent.providers.FakeUserAgentProvider'>' as the User-Agent provider\n",
      "2021-09-20 00:50:24 [scrapy.middleware] INFO: Enabled downloader middlewares:\n",
      "['scrapy.downloadermiddlewares.robotstxt.RobotsTxtMiddleware',\n",
      " 'scrapy.downloadermiddlewares.httpauth.HttpAuthMiddleware',\n",
      " 'scrapy.downloadermiddlewares.downloadtimeout.DownloadTimeoutMiddleware',\n",
      " 'scrapy.downloadermiddlewares.defaultheaders.DefaultHeadersMiddleware',\n",
      " 'scrapy_fake_useragent.middleware.RandomUserAgentMiddleware',\n",
      " 'scrapy.downloadermiddlewares.retry.RetryMiddleware',\n",
      " 'scrapy.downloadermiddlewares.redirect.MetaRefreshMiddleware',\n",
      " 'scrapy.downloadermiddlewares.httpcompression.HttpCompressionMiddleware',\n",
      " 'scrapy.downloadermiddlewares.redirect.RedirectMiddleware',\n",
      " 'scrapy.downloadermiddlewares.cookies.CookiesMiddleware',\n",
      " 'scrapy.downloadermiddlewares.httpproxy.HttpProxyMiddleware',\n",
      " 'scrapy.downloadermiddlewares.stats.DownloaderStats']\n",
      "2021-09-20 00:50:24 [scrapy.middleware] INFO: Enabled spider middlewares:\n",
      "['scrapy.spidermiddlewares.httperror.HttpErrorMiddleware',\n",
      " 'scrapy.spidermiddlewares.offsite.OffsiteMiddleware',\n",
      " 'scrapy.spidermiddlewares.referer.RefererMiddleware',\n",
      " 'scrapy.spidermiddlewares.urllength.UrlLengthMiddleware',\n",
      " 'scrapy.spidermiddlewares.depth.DepthMiddleware']\n",
      "2021-09-20 00:50:24 [scrapy.middleware] INFO: Enabled item pipelines:\n",
      "[]\n",
      "2021-09-20 00:50:24 [scrapy.core.engine] INFO: Spider opened\n",
      "2021-09-20 00:50:24 [scrapy.extensions.logstats] INFO: Crawled 0 pages (at 0 pages/min), scraped 0 items (at 0 items/min)\n",
      "2021-09-20 00:50:24 [scrapy.extensions.telnet] INFO: Telnet console listening on 127.0.0.1:6023\n",
      "2021-09-20 00:50:25 [scrapy.core.engine] DEBUG: Crawled (200) <GET http://playnomore.co.kr/robots.txt> (referer: None)\n",
      "2021-09-20 00:50:26 [scrapy.core.engine] DEBUG: Crawled (200) <GET http://playnomore.co.kr/category/apparel/26> (referer: None)\n",
      "2021-09-20 00:50:26 [scrapy.downloadermiddlewares.redirect] DEBUG: Redirecting (301) to <GET http://playnomore.co.kr/product/soldout-knight-hoodie-khaki/365/?cate_no=26&display_group=1> from <GET http://playnomore.co.kr/product/detail.html?product_no=365&cate_no=26&display_group=1>\n",
      "2021-09-20 00:50:26 [scrapy.downloadermiddlewares.redirect] DEBUG: Redirecting (301) to <GET http://playnomore.co.kr/product/soldout-knight-hoodie-black/364/?cate_no=26&display_group=1> from <GET http://playnomore.co.kr/product/detail.html?product_no=364&cate_no=26&display_group=1>\n",
      "2021-09-20 00:50:26 [scrapy.downloadermiddlewares.redirect] DEBUG: Redirecting (301) to <GET http://playnomore.co.kr/product/shy-bubble-sweat-grey/62/?cate_no=26&display_group=1> from <GET http://playnomore.co.kr/product/detail.html?product_no=62&cate_no=26&display_group=1>\n",
      "2021-09-20 00:50:26 [scrapy.downloadermiddlewares.redirect] DEBUG: Redirecting (301) to <GET http://playnomore.co.kr/product/soldout-shy-friends-sweat-oatmeal/443/?cate_no=26&display_group=1> from <GET http://playnomore.co.kr/product/detail.html?product_no=443&cate_no=26&display_group=1>\n",
      "2021-09-20 00:50:26 [scrapy.downloadermiddlewares.redirect] DEBUG: Redirecting (301) to <GET http://playnomore.co.kr/product/shy-sweat-grey/58/?cate_no=26&display_group=1> from <GET http://playnomore.co.kr/product/detail.html?product_no=58&cate_no=26&display_group=1>\n",
      "2021-09-20 00:50:26 [scrapy.downloadermiddlewares.redirect] DEBUG: Redirecting (301) to <GET http://playnomore.co.kr/product/shy-sweat-ivory/59/?cate_no=26&display_group=1> from <GET http://playnomore.co.kr/product/detail.html?product_no=59&cate_no=26&display_group=1>\n",
      "2021-09-20 00:50:27 [scrapy.core.engine] DEBUG: Crawled (200) <GET http://playnomore.co.kr/product/soldout-knight-hoodie-black/364/?cate_no=26&display_group=1> (referer: http://playnomore.co.kr/category/apparel/26)\n",
      "2021-09-20 00:50:27 [scrapy.core.engine] DEBUG: Crawled (200) <GET http://playnomore.co.kr/product/soldout-knight-hoodie-khaki/365/?cate_no=26&display_group=1> (referer: http://playnomore.co.kr/category/apparel/26)\n",
      "2021-09-20 00:50:27 [scrapy.core.scraper] DEBUG: Scraped from <200 http://playnomore.co.kr/product/soldout-knight-hoodie-black/364/?cate_no=26&display_group=1>\n",
      "{'img': 'http:https://cafe24img.poxo.com/playnomore/web/product/big/201712/364_shop7_612444.jpg',\n",
      " 'link': 'http://playnomore.co.kr/product/soldout-knight-hoodie-black/364/?cate_no=26&display_group=1',\n",
      " 'price': '$ 237',\n",
      " 'title': '[soldout] KNIGHT HOODIE black'}\n",
      "2021-09-20 00:50:27 [scrapy.core.scraper] DEBUG: Scraped from <200 http://playnomore.co.kr/product/soldout-knight-hoodie-khaki/365/?cate_no=26&display_group=1>\n",
      "{'img': 'http:https://cafe24img.poxo.com/playnomore/web/product/big/201712/365_shop7_459486.jpg',\n",
      " 'link': 'http://playnomore.co.kr/product/soldout-knight-hoodie-khaki/365/?cate_no=26&display_group=1',\n",
      " 'price': '$ 237',\n",
      " 'title': '[soldout] KNIGHT HOODIE khaki'}\n",
      "2021-09-20 00:50:27 [scrapy.core.engine] DEBUG: Crawled (200) <GET http://playnomore.co.kr/product/shy-sweat-grey/58/?cate_no=26&display_group=1> (referer: http://playnomore.co.kr/category/apparel/26)\n",
      "2021-09-20 00:50:27 [scrapy.core.engine] DEBUG: Crawled (200) <GET http://playnomore.co.kr/product/shy-bubble-sweat-grey/62/?cate_no=26&display_group=1> (referer: http://playnomore.co.kr/category/apparel/26)\n",
      "2021-09-20 00:50:27 [scrapy.core.engine] DEBUG: Crawled (200) <GET http://playnomore.co.kr/product/soldout-shy-friends-sweat-oatmeal/443/?cate_no=26&display_group=1> (referer: http://playnomore.co.kr/category/apparel/26)\n",
      "2021-09-20 00:50:27 [scrapy.core.scraper] DEBUG: Scraped from <200 http://playnomore.co.kr/product/shy-sweat-grey/58/?cate_no=26&display_group=1>\n",
      "{'img': 'http:https://cafe24img.poxo.com/playnomore/web/product/big/201702/58_shop7_964042.jpg',\n",
      " 'link': 'http://playnomore.co.kr/product/shy-sweat-grey/58/?cate_no=26&display_group=1',\n",
      " 'price': '$ 222',\n",
      " 'title': 'SHY SWEAT grey'}\n",
      "2021-09-20 00:50:27 [scrapy.core.scraper] DEBUG: Scraped from <200 http://playnomore.co.kr/product/shy-bubble-sweat-grey/62/?cate_no=26&display_group=1>\n",
      "{'img': 'http:https://cafe24img.poxo.com/playnomore/web/product/big/201702/62_shop7_310260.jpg',\n",
      " 'link': 'http://playnomore.co.kr/product/shy-bubble-sweat-grey/62/?cate_no=26&display_group=1',\n",
      " 'price': '$ 222',\n",
      " 'title': 'SHY BUBBLE SWEAT grey'}\n",
      "2021-09-20 00:50:27 [scrapy.core.scraper] DEBUG: Scraped from <200 http://playnomore.co.kr/product/soldout-shy-friends-sweat-oatmeal/443/?cate_no=26&display_group=1>\n",
      "{'img': 'http:https://cafe24img.poxo.com/playnomore/web/product/big/201807/443_shop7_15307806816619.jpg',\n",
      " 'link': 'http://playnomore.co.kr/product/soldout-shy-friends-sweat-oatmeal/443/?cate_no=26&display_group=1',\n",
      " 'price': '$ 222',\n",
      " 'title': '[soldout] SHY FRIENDS SWEAT oatmeal'}\n",
      "2021-09-20 00:50:27 [scrapy.core.engine] DEBUG: Crawled (200) <GET http://playnomore.co.kr/product/shy-sweat-ivory/59/?cate_no=26&display_group=1> (referer: http://playnomore.co.kr/category/apparel/26)\n"
     ]
    },
    {
     "name": "stdout",
     "output_type": "stream",
     "text": [
      "2021-09-20 00:50:27 [scrapy.core.scraper] DEBUG: Scraped from <200 http://playnomore.co.kr/product/shy-sweat-ivory/59/?cate_no=26&display_group=1>\n",
      "{'img': 'http:https://cafe24img.poxo.com/playnomore/web/product/big/201702/59_shop7_739643.jpg',\n",
      " 'link': 'http://playnomore.co.kr/product/shy-sweat-ivory/59/?cate_no=26&display_group=1',\n",
      " 'price': '$ 222',\n",
      " 'title': 'SHY SWEAT ivory'}\n",
      "2021-09-20 00:50:27 [scrapy.core.engine] INFO: Closing spider (finished)\n",
      "2021-09-20 00:50:27 [scrapy.extensions.feedexport] INFO: Stored csv feed (6 items) in: playnomore2.csv\n",
      "2021-09-20 00:50:27 [scrapy.statscollectors] INFO: Dumping Scrapy stats:\n",
      "{'downloader/request_bytes': 5843,\n",
      " 'downloader/request_count': 14,\n",
      " 'downloader/request_method_count/GET': 14,\n",
      " 'downloader/response_bytes': 143473,\n",
      " 'downloader/response_count': 14,\n",
      " 'downloader/response_status_count/200': 8,\n",
      " 'downloader/response_status_count/301': 6,\n",
      " 'elapsed_time_seconds': 2.623476,\n",
      " 'feedexport/success_count/FileFeedStorage': 1,\n",
      " 'finish_reason': 'finished',\n",
      " 'finish_time': datetime.datetime(2021, 9, 19, 16, 50, 27, 588978),\n",
      " 'httpcompression/response_bytes': 453411,\n",
      " 'httpcompression/response_count': 7,\n",
      " 'item_scraped_count': 6,\n",
      " 'log_count/DEBUG': 22,\n",
      " 'log_count/INFO': 12,\n",
      " 'memusage/max': 60964864,\n",
      " 'memusage/startup': 60964864,\n",
      " 'request_depth_max': 1,\n",
      " 'response_received_count': 8,\n",
      " 'robotstxt/request_count': 1,\n",
      " 'robotstxt/response_count': 1,\n",
      " 'robotstxt/response_status_count/200': 1,\n",
      " 'scheduler/dequeued': 13,\n",
      " 'scheduler/dequeued/memory': 13,\n",
      " 'scheduler/enqueued': 13,\n",
      " 'scheduler/enqueued/memory': 13,\n",
      " 'start_time': datetime.datetime(2021, 9, 19, 16, 50, 24, 965502)}\n",
      "2021-09-20 00:50:27 [scrapy.core.engine] INFO: Spider closed (finished)\n"
     ]
    }
   ],
   "source": [
    "!playnomore/run.sh"
   ]
  },
  {
   "cell_type": "code",
   "execution_count": 32,
   "metadata": {},
   "outputs": [
    {
     "data": {
      "text/html": [
       "<div>\n",
       "<style scoped>\n",
       "    .dataframe tbody tr th:only-of-type {\n",
       "        vertical-align: middle;\n",
       "    }\n",
       "\n",
       "    .dataframe tbody tr th {\n",
       "        vertical-align: top;\n",
       "    }\n",
       "\n",
       "    .dataframe thead th {\n",
       "        text-align: right;\n",
       "    }\n",
       "</style>\n",
       "<table border=\"1\" class=\"dataframe\">\n",
       "  <thead>\n",
       "    <tr style=\"text-align: right;\">\n",
       "      <th></th>\n",
       "      <th>img</th>\n",
       "      <th>link</th>\n",
       "      <th>price</th>\n",
       "      <th>title</th>\n",
       "    </tr>\n",
       "  </thead>\n",
       "  <tbody>\n",
       "    <tr>\n",
       "      <th>1</th>\n",
       "      <td>http:https://cafe24img.poxo.com/playnomore/web...</td>\n",
       "      <td>http://playnomore.co.kr/product/soldout-knight...</td>\n",
       "      <td>$ 237</td>\n",
       "      <td>[soldout] KNIGHT HOODIE khaki</td>\n",
       "    </tr>\n",
       "    <tr>\n",
       "      <th>2</th>\n",
       "      <td>http:https://cafe24img.poxo.com/playnomore/web...</td>\n",
       "      <td>http://playnomore.co.kr/product/shy-sweat-grey...</td>\n",
       "      <td>$ 222</td>\n",
       "      <td>SHY SWEAT grey</td>\n",
       "    </tr>\n",
       "    <tr>\n",
       "      <th>3</th>\n",
       "      <td>http:https://cafe24img.poxo.com/playnomore/web...</td>\n",
       "      <td>http://playnomore.co.kr/product/shy-bubble-swe...</td>\n",
       "      <td>$ 222</td>\n",
       "      <td>SHY BUBBLE SWEAT grey</td>\n",
       "    </tr>\n",
       "    <tr>\n",
       "      <th>4</th>\n",
       "      <td>http:https://cafe24img.poxo.com/playnomore/web...</td>\n",
       "      <td>http://playnomore.co.kr/product/soldout-shy-fr...</td>\n",
       "      <td>$ 222</td>\n",
       "      <td>[soldout] SHY FRIENDS SWEAT oatmeal</td>\n",
       "    </tr>\n",
       "    <tr>\n",
       "      <th>5</th>\n",
       "      <td>http:https://cafe24img.poxo.com/playnomore/web...</td>\n",
       "      <td>http://playnomore.co.kr/product/shy-sweat-ivor...</td>\n",
       "      <td>$ 222</td>\n",
       "      <td>SHY SWEAT ivory</td>\n",
       "    </tr>\n",
       "  </tbody>\n",
       "</table>\n",
       "</div>"
      ],
      "text/plain": [
       "                                                 img  \\\n",
       "1  http:https://cafe24img.poxo.com/playnomore/web...   \n",
       "2  http:https://cafe24img.poxo.com/playnomore/web...   \n",
       "3  http:https://cafe24img.poxo.com/playnomore/web...   \n",
       "4  http:https://cafe24img.poxo.com/playnomore/web...   \n",
       "5  http:https://cafe24img.poxo.com/playnomore/web...   \n",
       "\n",
       "                                                link  price  \\\n",
       "1  http://playnomore.co.kr/product/soldout-knight...  $ 237   \n",
       "2  http://playnomore.co.kr/product/shy-sweat-grey...  $ 222   \n",
       "3  http://playnomore.co.kr/product/shy-bubble-swe...  $ 222   \n",
       "4  http://playnomore.co.kr/product/soldout-shy-fr...  $ 222   \n",
       "5  http://playnomore.co.kr/product/shy-sweat-ivor...  $ 222   \n",
       "\n",
       "                                 title  \n",
       "1        [soldout] KNIGHT HOODIE khaki  \n",
       "2                       SHY SWEAT grey  \n",
       "3                SHY BUBBLE SWEAT grey  \n",
       "4  [soldout] SHY FRIENDS SWEAT oatmeal  \n",
       "5                      SHY SWEAT ivory  "
      ]
     },
     "execution_count": 32,
     "metadata": {},
     "output_type": "execute_result"
    }
   ],
   "source": [
    "import pandas as pd\n",
    "df = pd.read_csv(\"playnomore/playnomore2.csv\")\n",
    "df.tail(5)"
   ]
  },
  {
   "cell_type": "markdown",
   "metadata": {},
   "source": [
    "#### 6. Mongodb에 저장\n",
    "- pymongo를 pipelines.py에 적용\n",
    "- pip install pymongo==2.8.1"
   ]
  },
  {
   "cell_type": "code",
   "execution_count": 34,
   "metadata": {},
   "outputs": [
    {
     "name": "stdout",
     "output_type": "stream",
     "text": [
      "pymongo                            3.12.0\r\n"
     ]
    }
   ],
   "source": [
    "!pip3 list | grep pymongo"
   ]
  },
  {
   "cell_type": "code",
   "execution_count": 35,
   "metadata": {},
   "outputs": [],
   "source": [
    "import pymongo"
   ]
  },
  {
   "cell_type": "code",
   "execution_count": 52,
   "metadata": {},
   "outputs": [
    {
     "data": {
      "text/plain": [
       "MongoClient(host=['ec2ip:27017'], document_class=dict, tz_aware=False, connect=True)"
      ]
     },
     "execution_count": 52,
     "metadata": {},
     "output_type": "execute_result"
    }
   ],
   "source": [
    "client = pymongo.MongoClient('mongodb://[EC2IP]:27017/')\n",
    "client"
   ]
  },
  {
   "cell_type": "code",
   "execution_count": 53,
   "metadata": {},
   "outputs": [
    {
     "data": {
      "text/plain": [
       "Collection(Database(MongoClient(host=['ec2ip:27017'], document_class=dict, tz_aware=False, connect=True), 'playnomore'), 'apparel')"
      ]
     },
     "execution_count": 53,
     "metadata": {},
     "output_type": "execute_result"
    }
   ],
   "source": [
    "db = client.playnomore\n",
    "collection = db.apparel\n",
    "collection"
   ]
  },
  {
   "cell_type": "code",
   "execution_count": 41,
   "metadata": {},
   "outputs": [
    {
     "name": "stderr",
     "output_type": "stream",
     "text": [
      "<ipython-input-41-e2e26343dc3f>:2: DeprecationWarning: insert is deprecated. Use insert_one or insert_many instead.\n",
      "  collection.insert(data)\n"
     ]
    },
    {
     "data": {
      "text/plain": [
       "ObjectId('61476ba59a84349c5a285342')"
      ]
     },
     "execution_count": 41,
     "metadata": {},
     "output_type": "execute_result"
    }
   ],
   "source": [
    "data = {\"title\":\"의류\"}\n",
    "collection.insert(data)"
   ]
  },
  {
   "cell_type": "markdown",
   "metadata": {},
   "source": [
    "##### Mongodb 모듈 파일 생성"
   ]
  },
  {
   "cell_type": "code",
   "execution_count": 42,
   "metadata": {},
   "outputs": [
    {
     "name": "stdout",
     "output_type": "stream",
     "text": [
      "Writing playnomore/playnomore/mongodb.py\n"
     ]
    }
   ],
   "source": [
    "%%writefile playnomore/playnomore/mongodb.py\n",
    "import pymongo\n",
    "\n",
    "client = pymongo.MongoClient('mongodb://[EC2IP]:27017/')\n",
    "db = client.playnomore\n",
    "collection = db.apparel"
   ]
  },
  {
   "cell_type": "code",
   "execution_count": 43,
   "metadata": {},
   "outputs": [
    {
     "name": "stdout",
     "output_type": "stream",
     "text": [
      "Overwriting playnomore/playnomore/pipelines.py\n"
     ]
    }
   ],
   "source": [
    "%%writefile playnomore/playnomore/pipelines.py\n",
    "from .mongodb import collection\n",
    "\n",
    "class PlaynomorePipeline(object):\n",
    "    \n",
    "    def process_item(self, item, spider):\n",
    "        \n",
    "        data = { \"title\": item[\"title\"], \n",
    "                 \"price\": item[\"price\"],\n",
    "                 \"img\": item[\"img\"], \n",
    "                 \"link\": item[\"link\"],\n",
    "               }\n",
    "        \n",
    "        collection.insert(data)\n",
    "        \n",
    "        return item"
   ]
  },
  {
   "cell_type": "code",
   "execution_count": 44,
   "metadata": {},
   "outputs": [],
   "source": [
    "!echo \"ITEM_PIPELINES = {\"  >> playnomore/playnomore/settings.py"
   ]
  },
  {
   "cell_type": "code",
   "execution_count": 45,
   "metadata": {},
   "outputs": [],
   "source": [
    "!echo \"   'playnomore.pipelines.PlaynomorePipeline': 300,\" >> playnomore/playnomore/settings.py"
   ]
  },
  {
   "cell_type": "code",
   "execution_count": 46,
   "metadata": {},
   "outputs": [],
   "source": [
    "!echo \"}\" >> playnomore/playnomore/settings.py"
   ]
  },
  {
   "cell_type": "code",
   "execution_count": 47,
   "metadata": {},
   "outputs": [
    {
     "name": "stdout",
     "output_type": "stream",
     "text": [
      "#HTTPCACHE_IGNORE_HTTP_CODES = []\r\n",
      "#HTTPCACHE_STORAGE = 'scrapy.extensions.httpcache.FilesystemCacheStorage'\r\n",
      "ITEM_PIPELINES = {\r\n",
      "   'playnomore.pipelines.PlaynomorePipeline': 300,\r\n",
      "}\r\n"
     ]
    }
   ],
   "source": [
    "!tail -n 5 playnomore/playnomore/settings.py"
   ]
  },
  {
   "cell_type": "code",
   "execution_count": 50,
   "metadata": {
    "scrolled": true
   },
   "outputs": [
    {
     "name": "stdout",
     "output_type": "stream",
     "text": [
      "cd playnomore\r\n",
      "scrapy crawl Playnomore -o playnomore2.csv -a category1=apparel -a category2=26\r\n"
     ]
    }
   ],
   "source": [
    "!cat ./playnomore/run.sh"
   ]
  },
  {
   "cell_type": "code",
   "execution_count": 51,
   "metadata": {},
   "outputs": [
    {
     "name": "stdout",
     "output_type": "stream",
     "text": [
      "2021-09-20 01:02:20 [scrapy.utils.log] INFO: Scrapy 2.5.0 started (bot: playnomore)\n",
      "2021-09-20 01:02:20 [scrapy.utils.log] INFO: Versions: lxml 4.6.1.0, libxml2 2.9.10, cssselect 1.1.0, parsel 1.6.0, w3lib 1.22.0, Twisted 21.7.0, Python 3.8.5 (default, Sep  4 2020, 02:22:02) - [Clang 10.0.0 ], pyOpenSSL 19.1.0 (OpenSSL 1.1.1h  22 Sep 2020), cryptography 3.1.1, Platform macOS-10.16-x86_64-i386-64bit\n",
      "2021-09-20 01:02:20 [scrapy.utils.log] DEBUG: Using reactor: twisted.internet.selectreactor.SelectReactor\n",
      "2021-09-20 01:02:20 [scrapy.crawler] INFO: Overridden settings:\n",
      "{'BOT_NAME': 'playnomore',\n",
      " 'NEWSPIDER_MODULE': 'playnomore.spiders',\n",
      " 'ROBOTSTXT_OBEY': True,\n",
      " 'SPIDER_MODULES': ['playnomore.spiders']}\n",
      "2021-09-20 01:02:20 [scrapy.extensions.telnet] INFO: Telnet Password: 6a91e225afefd692\n",
      "2021-09-20 01:02:20 [scrapy.middleware] INFO: Enabled extensions:\n",
      "['scrapy.extensions.corestats.CoreStats',\n",
      " 'scrapy.extensions.telnet.TelnetConsole',\n",
      " 'scrapy.extensions.memusage.MemoryUsage',\n",
      " 'scrapy.extensions.feedexport.FeedExporter',\n",
      " 'scrapy.extensions.logstats.LogStats']\n",
      "2021-09-20 01:02:21 [faker.factory] DEBUG: Not in REPL -> leaving logger event level as is.\n",
      "2021-09-20 01:02:21 [scrapy_fake_useragent.middleware] DEBUG: Loaded User-Agent provider: scrapy_fake_useragent.providers.FakeUserAgentProvider\n",
      "2021-09-20 01:02:21 [scrapy_fake_useragent.middleware] INFO: Using '<class 'scrapy_fake_useragent.providers.FakeUserAgentProvider'>' as the User-Agent provider\n",
      "2021-09-20 01:02:21 [scrapy.middleware] INFO: Enabled downloader middlewares:\n",
      "['scrapy.downloadermiddlewares.robotstxt.RobotsTxtMiddleware',\n",
      " 'scrapy.downloadermiddlewares.httpauth.HttpAuthMiddleware',\n",
      " 'scrapy.downloadermiddlewares.downloadtimeout.DownloadTimeoutMiddleware',\n",
      " 'scrapy.downloadermiddlewares.defaultheaders.DefaultHeadersMiddleware',\n",
      " 'scrapy_fake_useragent.middleware.RandomUserAgentMiddleware',\n",
      " 'scrapy.downloadermiddlewares.retry.RetryMiddleware',\n",
      " 'scrapy.downloadermiddlewares.redirect.MetaRefreshMiddleware',\n",
      " 'scrapy.downloadermiddlewares.httpcompression.HttpCompressionMiddleware',\n",
      " 'scrapy.downloadermiddlewares.redirect.RedirectMiddleware',\n",
      " 'scrapy.downloadermiddlewares.cookies.CookiesMiddleware',\n",
      " 'scrapy.downloadermiddlewares.httpproxy.HttpProxyMiddleware',\n",
      " 'scrapy.downloadermiddlewares.stats.DownloaderStats']\n",
      "2021-09-20 01:02:21 [scrapy.middleware] INFO: Enabled spider middlewares:\n",
      "['scrapy.spidermiddlewares.httperror.HttpErrorMiddleware',\n",
      " 'scrapy.spidermiddlewares.offsite.OffsiteMiddleware',\n",
      " 'scrapy.spidermiddlewares.referer.RefererMiddleware',\n",
      " 'scrapy.spidermiddlewares.urllength.UrlLengthMiddleware',\n",
      " 'scrapy.spidermiddlewares.depth.DepthMiddleware']\n",
      "2021-09-20 01:02:21 [scrapy.middleware] INFO: Enabled item pipelines:\n",
      "['playnomore.pipelines.PlaynomorePipeline']\n",
      "2021-09-20 01:02:21 [scrapy.core.engine] INFO: Spider opened\n",
      "2021-09-20 01:02:21 [scrapy.extensions.logstats] INFO: Crawled 0 pages (at 0 pages/min), scraped 0 items (at 0 items/min)\n",
      "2021-09-20 01:02:21 [scrapy.extensions.telnet] INFO: Telnet console listening on 127.0.0.1:6023\n",
      "2021-09-20 01:02:21 [scrapy.core.engine] DEBUG: Crawled (200) <GET http://playnomore.co.kr/robots.txt> (referer: None)\n",
      "2021-09-20 01:02:22 [scrapy.core.engine] DEBUG: Crawled (200) <GET http://playnomore.co.kr/category/apparel/26> (referer: None)\n",
      "2021-09-20 01:02:22 [scrapy.downloadermiddlewares.redirect] DEBUG: Redirecting (301) to <GET http://playnomore.co.kr/product/soldout-knight-hoodie-khaki/365/?cate_no=26&display_group=1> from <GET http://playnomore.co.kr/product/detail.html?product_no=365&cate_no=26&display_group=1>\n",
      "2021-09-20 01:02:23 [scrapy.downloadermiddlewares.redirect] DEBUG: Redirecting (301) to <GET http://playnomore.co.kr/product/shy-sweat-grey/58/?cate_no=26&display_group=1> from <GET http://playnomore.co.kr/product/detail.html?product_no=58&cate_no=26&display_group=1>\n",
      "2021-09-20 01:02:23 [scrapy.downloadermiddlewares.redirect] DEBUG: Redirecting (301) to <GET http://playnomore.co.kr/product/soldout-shy-friends-sweat-oatmeal/443/?cate_no=26&display_group=1> from <GET http://playnomore.co.kr/product/detail.html?product_no=443&cate_no=26&display_group=1>\n",
      "2021-09-20 01:02:23 [scrapy.downloadermiddlewares.redirect] DEBUG: Redirecting (301) to <GET http://playnomore.co.kr/product/shy-sweat-ivory/59/?cate_no=26&display_group=1> from <GET http://playnomore.co.kr/product/detail.html?product_no=59&cate_no=26&display_group=1>\n",
      "2021-09-20 01:02:23 [scrapy.downloadermiddlewares.redirect] DEBUG: Redirecting (301) to <GET http://playnomore.co.kr/product/shy-bubble-sweat-grey/62/?cate_no=26&display_group=1> from <GET http://playnomore.co.kr/product/detail.html?product_no=62&cate_no=26&display_group=1>\n",
      "2021-09-20 01:02:23 [scrapy.downloadermiddlewares.redirect] DEBUG: Redirecting (301) to <GET http://playnomore.co.kr/product/soldout-knight-hoodie-black/364/?cate_no=26&display_group=1> from <GET http://playnomore.co.kr/product/detail.html?product_no=364&cate_no=26&display_group=1>\n",
      "2021-09-20 01:02:23 [scrapy.core.engine] DEBUG: Crawled (200) <GET http://playnomore.co.kr/product/soldout-knight-hoodie-khaki/365/?cate_no=26&display_group=1> (referer: http://playnomore.co.kr/category/apparel/26)\n",
      "2021-09-20 01:02:23 [scrapy.core.scraper] DEBUG: Scraped from <200 http://playnomore.co.kr/product/soldout-knight-hoodie-khaki/365/?cate_no=26&display_group=1>\n",
      "{'img': 'http:https://cafe24img.poxo.com/playnomore/web/product/big/201712/365_shop7_459486.jpg',\n",
      " 'link': 'http://playnomore.co.kr/product/soldout-knight-hoodie-khaki/365/?cate_no=26&display_group=1',\n",
      " 'price': '$ 237',\n",
      " 'title': '[soldout] KNIGHT HOODIE khaki'}\n",
      "2021-09-20 01:02:23 [scrapy.core.engine] DEBUG: Crawled (200) <GET http://playnomore.co.kr/product/soldout-shy-friends-sweat-oatmeal/443/?cate_no=26&display_group=1> (referer: http://playnomore.co.kr/category/apparel/26)\n",
      "2021-09-20 01:02:23 [scrapy.core.engine] DEBUG: Crawled (200) <GET http://playnomore.co.kr/product/shy-sweat-grey/58/?cate_no=26&display_group=1> (referer: http://playnomore.co.kr/category/apparel/26)\n",
      "2021-09-20 01:02:23 [scrapy.core.engine] DEBUG: Crawled (200) <GET http://playnomore.co.kr/product/shy-sweat-ivory/59/?cate_no=26&display_group=1> (referer: http://playnomore.co.kr/category/apparel/26)\n",
      "2021-09-20 01:02:23 [scrapy.core.scraper] DEBUG: Scraped from <200 http://playnomore.co.kr/product/soldout-shy-friends-sweat-oatmeal/443/?cate_no=26&display_group=1>\n",
      "{'img': 'http:https://cafe24img.poxo.com/playnomore/web/product/big/201807/443_shop7_15307806816619.jpg',\n",
      " 'link': 'http://playnomore.co.kr/product/soldout-shy-friends-sweat-oatmeal/443/?cate_no=26&display_group=1',\n",
      " 'price': '$ 222',\n",
      " 'title': '[soldout] SHY FRIENDS SWEAT oatmeal'}\n",
      "2021-09-20 01:02:23 [scrapy.core.scraper] DEBUG: Scraped from <200 http://playnomore.co.kr/product/shy-sweat-grey/58/?cate_no=26&display_group=1>\n",
      "{'img': 'http:https://cafe24img.poxo.com/playnomore/web/product/big/201702/58_shop7_964042.jpg',\n",
      " 'link': 'http://playnomore.co.kr/product/shy-sweat-grey/58/?cate_no=26&display_group=1',\n",
      " 'price': '$ 222',\n",
      " 'title': 'SHY SWEAT grey'}\n",
      "2021-09-20 01:02:23 [scrapy.core.engine] DEBUG: Crawled (200) <GET http://playnomore.co.kr/product/soldout-knight-hoodie-black/364/?cate_no=26&display_group=1> (referer: http://playnomore.co.kr/category/apparel/26)\n",
      "2021-09-20 01:02:23 [scrapy.core.scraper] DEBUG: Scraped from <200 http://playnomore.co.kr/product/shy-sweat-ivory/59/?cate_no=26&display_group=1>\n",
      "{'img': 'http:https://cafe24img.poxo.com/playnomore/web/product/big/201702/59_shop7_739643.jpg',\n",
      " 'link': 'http://playnomore.co.kr/product/shy-sweat-ivory/59/?cate_no=26&display_group=1',\n",
      " 'price': '$ 222',\n",
      " 'title': 'SHY SWEAT ivory'}\n",
      "2021-09-20 01:02:23 [scrapy.core.engine] DEBUG: Crawled (200) <GET http://playnomore.co.kr/product/shy-bubble-sweat-grey/62/?cate_no=26&display_group=1> (referer: http://playnomore.co.kr/category/apparel/26)\n",
      "2021-09-20 01:02:24 [scrapy.core.scraper] DEBUG: Scraped from <200 http://playnomore.co.kr/product/soldout-knight-hoodie-black/364/?cate_no=26&display_group=1>\n",
      "{'img': 'http:https://cafe24img.poxo.com/playnomore/web/product/big/201712/364_shop7_612444.jpg',\n",
      " 'link': 'http://playnomore.co.kr/product/soldout-knight-hoodie-black/364/?cate_no=26&display_group=1',\n",
      " 'price': '$ 237',\n",
      " 'title': '[soldout] KNIGHT HOODIE black'}\n",
      "2021-09-20 01:02:24 [scrapy.core.scraper] DEBUG: Scraped from <200 http://playnomore.co.kr/product/shy-bubble-sweat-grey/62/?cate_no=26&display_group=1>\n",
      "{'img': 'http:https://cafe24img.poxo.com/playnomore/web/product/big/201702/62_shop7_310260.jpg',\n",
      " 'link': 'http://playnomore.co.kr/product/shy-bubble-sweat-grey/62/?cate_no=26&display_group=1',\n",
      " 'price': '$ 222',\n",
      " 'title': 'SHY BUBBLE SWEAT grey'}\n",
      "2021-09-20 01:02:24 [scrapy.core.engine] INFO: Closing spider (finished)\n"
     ]
    },
    {
     "name": "stdout",
     "output_type": "stream",
     "text": [
      "2021-09-20 01:02:24 [scrapy.extensions.feedexport] INFO: Stored csv feed (6 items) in: playnomore2.csv\r\n",
      "2021-09-20 01:02:24 [scrapy.statscollectors] INFO: Dumping Scrapy stats:\r\n",
      "{'downloader/request_bytes': 5726,\r\n",
      " 'downloader/request_count': 14,\r\n",
      " 'downloader/request_method_count/GET': 14,\r\n",
      " 'downloader/response_bytes': 143485,\r\n",
      " 'downloader/response_count': 14,\r\n",
      " 'downloader/response_status_count/200': 8,\r\n",
      " 'downloader/response_status_count/301': 6,\r\n",
      " 'elapsed_time_seconds': 2.726557,\r\n",
      " 'feedexport/success_count/FileFeedStorage': 1,\r\n",
      " 'finish_reason': 'finished',\r\n",
      " 'finish_time': datetime.datetime(2021, 9, 19, 17, 2, 24, 105448),\r\n",
      " 'httpcompression/response_bytes': 453411,\r\n",
      " 'httpcompression/response_count': 7,\r\n",
      " 'item_scraped_count': 6,\r\n",
      " 'log_count/DEBUG': 22,\r\n",
      " 'log_count/INFO': 12,\r\n",
      " 'memusage/max': 68018176,\r\n",
      " 'memusage/startup': 68018176,\r\n",
      " 'request_depth_max': 1,\r\n",
      " 'response_received_count': 8,\r\n",
      " 'robotstxt/request_count': 1,\r\n",
      " 'robotstxt/response_count': 1,\r\n",
      " 'robotstxt/response_status_count/200': 1,\r\n",
      " 'scheduler/dequeued': 13,\r\n",
      " 'scheduler/dequeued/memory': 13,\r\n",
      " 'scheduler/enqueued': 13,\r\n",
      " 'scheduler/enqueued/memory': 13,\r\n",
      " 'start_time': datetime.datetime(2021, 9, 19, 17, 2, 21, 378891)}\r\n",
      "2021-09-20 01:02:24 [scrapy.core.engine] INFO: Spider closed (finished)\r\n"
     ]
    }
   ],
   "source": [
    "!./playnomore/run.sh"
   ]
  },
  {
   "cell_type": "code",
   "execution_count": null,
   "metadata": {},
   "outputs": [],
   "source": []
  },
  {
   "cell_type": "code",
   "execution_count": null,
   "metadata": {},
   "outputs": [],
   "source": []
  },
  {
   "cell_type": "code",
   "execution_count": null,
   "metadata": {},
   "outputs": [],
   "source": []
  },
  {
   "cell_type": "code",
   "execution_count": null,
   "metadata": {},
   "outputs": [],
   "source": []
  },
  {
   "cell_type": "code",
   "execution_count": null,
   "metadata": {},
   "outputs": [],
   "source": []
  }
 ],
 "metadata": {
  "kernelspec": {
   "display_name": "Python 3",
   "language": "python",
   "name": "python3"
  },
  "language_info": {
   "codemirror_mode": {
    "name": "ipython",
    "version": 3
   },
   "file_extension": ".py",
   "mimetype": "text/x-python",
   "name": "python",
   "nbconvert_exporter": "python",
   "pygments_lexer": "ipython3",
   "version": "3.8.5"
  }
 },
 "nbformat": 4,
 "nbformat_minor": 2
}
