{
 "cells": [
  {
   "cell_type": "markdown",
   "metadata": {},
   "source": [
    "### Naver Movie\n",
    "- robots.txt 설정으로 크롤링 안됩니다."
   ]
  },
  {
   "cell_type": "markdown",
   "metadata": {},
   "source": [
    "#### 1. 프로젝트 생성"
   ]
  },
  {
   "cell_type": "code",
   "execution_count": 1,
   "metadata": {},
   "outputs": [
    {
     "name": "stdout",
     "output_type": "stream",
     "text": [
      "New Scrapy project 'naver_movie', using template directory 'c:\\users\\challenge\\anaconda3\\lib\\site-packages\\scrapy\\templates\\project', created in:\n",
      "    C:\\Users\\challenge\\Downloads\\updated_documents\\09_[추가강의] 크롤링\\크롤링4\\Scrapy_20191122_01\\naver_movie\n",
      "\n",
      "You can start your first spider with:\n",
      "    cd naver_movie\n",
      "    scrapy genspider example example.com\n"
     ]
    }
   ],
   "source": [
    "!scrapy startproject naver_movie"
   ]
  },
  {
   "cell_type": "markdown",
   "metadata": {},
   "source": [
    "#### 2. Items 설정\n",
    "- https://movie.naver.com/movie/running/current.nhn\n",
    "- 제목, 관객수, 평점"
   ]
  },
  {
   "cell_type": "code",
   "execution_count": null,
   "metadata": {},
   "outputs": [],
   "source": [
    "# !cat naver_movie/naver_movie/items.py"
   ]
  },
  {
   "cell_type": "code",
   "execution_count": 2,
   "metadata": {},
   "outputs": [
    {
     "name": "stdout",
     "output_type": "stream",
     "text": [
      "Overwriting naver_movie/naver_movie/items.py\n"
     ]
    }
   ],
   "source": [
    "%%writefile naver_movie/naver_movie/items.py\n",
    "import scrapy\n",
    "\n",
    "class NaverMovieItem(scrapy.Item):\n",
    "    title = scrapy.Field()\n",
    "    count = scrapy.Field()\n",
    "    star = scrapy.Field()"
   ]
  },
  {
   "cell_type": "markdown",
   "metadata": {},
   "source": [
    "#### 3. xpath 확인"
   ]
  },
  {
   "cell_type": "code",
   "execution_count": 3,
   "metadata": {},
   "outputs": [],
   "source": [
    "import requests\n",
    "import scrapy\n",
    "from scrapy.http import TextResponse"
   ]
  },
  {
   "cell_type": "code",
   "execution_count": 4,
   "metadata": {},
   "outputs": [],
   "source": [
    "# 링크\n",
    "req = requests.get(\"https://movie.naver.com/movie/running/current.nhn\")\n",
    "response = TextResponse(req.url, body=req.text, encoding=\"utf-8\")"
   ]
  },
  {
   "cell_type": "code",
   "execution_count": 5,
   "metadata": {},
   "outputs": [
    {
     "data": {
      "text/plain": [
       "(126, '/movie/bi/mi/basic.nhn?code=192620')"
      ]
     },
     "execution_count": 5,
     "metadata": {},
     "output_type": "execute_result"
    }
   ],
   "source": [
    "links = response.xpath(\n",
    "    '//*[@id=\"content\"]/div[1]/div[1]/div[3]/ul/li/dl/dt/a/@href').extract()\n",
    "len(links), links[0]"
   ]
  },
  {
   "cell_type": "code",
   "execution_count": 6,
   "metadata": {},
   "outputs": [
    {
     "data": {
      "text/plain": [
       "'https://movie.naver.com/movie/bi/mi/basic.nhn?code=192620'"
      ]
     },
     "execution_count": 6,
     "metadata": {},
     "output_type": "execute_result"
    }
   ],
   "source": [
    "link = response.urljoin(links[0])\n",
    "link"
   ]
  },
  {
   "cell_type": "code",
   "execution_count": 7,
   "metadata": {},
   "outputs": [],
   "source": [
    "# 상세 데이터 수집\n",
    "req = requests.get(link)\n",
    "response = TextResponse(req.url, body=req.text, encoding=\"utf-8\")"
   ]
  },
  {
   "cell_type": "code",
   "execution_count": 8,
   "metadata": {},
   "outputs": [
    {
     "data": {
      "text/plain": [
       "('비와 당신의 이야기', '31,400명', '9.47')"
      ]
     },
     "execution_count": 8,
     "metadata": {},
     "output_type": "execute_result"
    }
   ],
   "source": [
    "title = response.xpath(\n",
    "    '//*[@id=\"content\"]/div[1]/div[2]/div[1]/h3/a[1]/text()').extract()[0]\n",
    "count = response.xpath(\n",
    "    '//*[@id=\"content\"]/div[1]/div[2]/div[1]/dl/dd[5]/div/p[2]/text()').extract()[0]\n",
    "star = response.xpath(\n",
    "    '//*[@id=\"actualPointPersentBasic\"]/div/em/text()').extract()\n",
    "star = \"\".join(star)\n",
    "title, count, star"
   ]
  },
  {
   "cell_type": "markdown",
   "metadata": {},
   "source": [
    "#### 4. spider 작성"
   ]
  },
  {
   "cell_type": "code",
   "execution_count": 9,
   "metadata": {},
   "outputs": [
    {
     "name": "stdout",
     "output_type": "stream",
     "text": [
      "Writing naver_movie/naver_movie/spiders/spider.py\n"
     ]
    }
   ],
   "source": [
    "%%writefile naver_movie/naver_movie/spiders/spider.py\n",
    "import scrapy\n",
    "from naver_movie.items import NaverMovieItem\n",
    "\n",
    "\n",
    "class MovieSpider(scrapy.Spider):\n",
    "    name = \"NaverMovie\"\n",
    "    allow_domain = [\"https://movie.naver.com\"]\n",
    "    start_urls = [\"https://movie.naver.com/movie/running/current.nhn\"]\n",
    "\n",
    "    def parse(self, response):\n",
    "        links = response.xpath('//*[@id=\"content\"]/div[1]/div[1]/div[3]/ul/li/dl/dt/a/@href').extract()\n",
    "        for link in links:\n",
    "            link = response.urljoin(link)\n",
    "            yield scrapy.Request(link, callback=self.parse_page_contents)\n",
    "\n",
    "    def parse_page_contents(self, response):\n",
    "        item = NaverMovieItem()\n",
    "        item[\"title\"] = response.xpath('//*[@id=\"content\"]/div[1]/div[2]/div[1]/h3/a[1]/text()').extract()[0]\n",
    "        try:\n",
    "            item[\"count\"] = response.xpath('//*[@id=\"content\"]/div[1]/div[2]/div[1]/dl/dd[5]/div/p[2]/text()').extract()[0]\n",
    "        except:\n",
    "            item[\"count\"] = \"0명\"\n",
    "        star = response.xpath('//*[@id=\"actualPointPersentBasic\"]/div/em/text()').extract()\n",
    "        item[\"star\"] = \"\".join(star)\n",
    "        yield item"
   ]
  },
  {
   "cell_type": "markdown",
   "metadata": {},
   "source": [
    "#### 5. Scrapy 실행"
   ]
  },
  {
   "cell_type": "code",
   "execution_count": 28,
   "metadata": {
    "scrolled": true
   },
   "outputs": [
    {
     "name": "stdout",
     "output_type": "stream",
     "text": [
      "Overwriting run.sh\n"
     ]
    }
   ],
   "source": [
    "%%writefile run.sh\n",
    "cd naver_movie\n",
    "scrapy crawl NaverMovie -o naver_movie.csv"
   ]
  },
  {
   "cell_type": "code",
   "execution_count": 29,
   "metadata": {},
   "outputs": [],
   "source": [
    "!chmod +x run.sh"
   ]
  },
  {
   "cell_type": "code",
   "execution_count": 30,
   "metadata": {
    "collapsed": true
   },
   "outputs": [
    {
     "name": "stdout",
     "output_type": "stream",
     "text": [
      "2019-11-22 07:39:48 [scrapy.utils.log] INFO: Scrapy 1.8.0 started (bot: naver_movie)\n",
      "2019-11-22 07:39:48 [scrapy.utils.log] INFO: Versions: lxml 4.4.1.0, libxml2 2.9.9, cssselect 1.1.0, parsel 1.5.2, w3lib 1.21.0, Twisted 19.10.0, Python 3.6.9 (default, Oct 24 2019, 05:23:48) - [GCC 7.4.0], pyOpenSSL 19.1.0 (OpenSSL 1.1.1d  10 Sep 2019), cryptography 2.8, Platform Linux-4.15.0-1054-aws-x86_64-with-debian-buster-sid\n",
      "2019-11-22 07:39:48 [scrapy.crawler] INFO: Overridden settings: {'BOT_NAME': 'naver_movie', 'FEED_FORMAT': 'csv', 'FEED_URI': 'naver_movie.csv', 'NEWSPIDER_MODULE': 'naver_movie.spiders', 'ROBOTSTXT_OBEY': True, 'SPIDER_MODULES': ['naver_movie.spiders']}\n",
      "2019-11-22 07:39:48 [scrapy.extensions.telnet] INFO: Telnet Password: 72e3a700d3ddecf4\n",
      "2019-11-22 07:39:48 [scrapy.middleware] INFO: Enabled extensions:\n",
      "['scrapy.extensions.corestats.CoreStats',\n",
      " 'scrapy.extensions.telnet.TelnetConsole',\n",
      " 'scrapy.extensions.memusage.MemoryUsage',\n",
      " 'scrapy.extensions.feedexport.FeedExporter',\n",
      " 'scrapy.extensions.logstats.LogStats']\n",
      "2019-11-22 07:39:48 [scrapy.middleware] INFO: Enabled downloader middlewares:\n",
      "['scrapy.downloadermiddlewares.robotstxt.RobotsTxtMiddleware',\n",
      " 'scrapy.downloadermiddlewares.httpauth.HttpAuthMiddleware',\n",
      " 'scrapy.downloadermiddlewares.downloadtimeout.DownloadTimeoutMiddleware',\n",
      " 'scrapy.downloadermiddlewares.defaultheaders.DefaultHeadersMiddleware',\n",
      " 'scrapy.downloadermiddlewares.useragent.UserAgentMiddleware',\n",
      " 'scrapy.downloadermiddlewares.retry.RetryMiddleware',\n",
      " 'scrapy.downloadermiddlewares.redirect.MetaRefreshMiddleware',\n",
      " 'scrapy.downloadermiddlewares.httpcompression.HttpCompressionMiddleware',\n",
      " 'scrapy.downloadermiddlewares.redirect.RedirectMiddleware',\n",
      " 'scrapy.downloadermiddlewares.cookies.CookiesMiddleware',\n",
      " 'scrapy.downloadermiddlewares.httpproxy.HttpProxyMiddleware',\n",
      " 'scrapy.downloadermiddlewares.stats.DownloaderStats']\n",
      "2019-11-22 07:39:48 [scrapy.middleware] INFO: Enabled spider middlewares:\n",
      "['scrapy.spidermiddlewares.httperror.HttpErrorMiddleware',\n",
      " 'scrapy.spidermiddlewares.offsite.OffsiteMiddleware',\n",
      " 'scrapy.spidermiddlewares.referer.RefererMiddleware',\n",
      " 'scrapy.spidermiddlewares.urllength.UrlLengthMiddleware',\n",
      " 'scrapy.spidermiddlewares.depth.DepthMiddleware']\n",
      "2019-11-22 07:39:48 [scrapy.middleware] INFO: Enabled item pipelines:\n",
      "[]\n",
      "2019-11-22 07:39:48 [scrapy.core.engine] INFO: Spider opened\n",
      "2019-11-22 07:39:48 [scrapy.extensions.logstats] INFO: Crawled 0 pages (at 0 pages/min), scraped 0 items (at 0 items/min)\n",
      "2019-11-22 07:39:48 [scrapy.extensions.telnet] INFO: Telnet console listening on 127.0.0.1:6023\n",
      "2019-11-22 07:39:49 [scrapy.core.engine] DEBUG: Crawled (200) <GET https://movie.naver.com/robots.txt> (referer: None)\n",
      "2019-11-22 07:39:49 [scrapy.downloadermiddlewares.robotstxt] DEBUG: Forbidden by robots.txt: <GET https://movie.naver.com/movie/running/current.nhn>\n",
      "2019-11-22 07:39:49 [scrapy.core.engine] INFO: Closing spider (finished)\n",
      "2019-11-22 07:39:49 [scrapy.statscollectors] INFO: Dumping Scrapy stats:\n",
      "{'downloader/exception_count': 1,\n",
      " 'downloader/exception_type_count/scrapy.exceptions.IgnoreRequest': 1,\n",
      " 'downloader/request_bytes': 224,\n",
      " 'downloader/request_count': 1,\n",
      " 'downloader/request_method_count/GET': 1,\n",
      " 'downloader/response_bytes': 441,\n",
      " 'downloader/response_count': 1,\n",
      " 'downloader/response_status_count/200': 1,\n",
      " 'elapsed_time_seconds': 0.481484,\n",
      " 'finish_reason': 'finished',\n",
      " 'finish_time': datetime.datetime(2019, 11, 22, 7, 39, 49, 340216),\n",
      " 'log_count/DEBUG': 2,\n",
      " 'log_count/INFO': 10,\n",
      " 'memusage/max': 53551104,\n",
      " 'memusage/startup': 53551104,\n",
      " 'response_received_count': 1,\n",
      " 'robotstxt/forbidden': 1,\n",
      " 'robotstxt/request_count': 1,\n",
      " 'robotstxt/response_count': 1,\n",
      " 'robotstxt/response_status_count/200': 1,\n",
      " 'scheduler/dequeued': 1,\n",
      " 'scheduler/dequeued/memory': 1,\n",
      " 'scheduler/enqueued': 1,\n",
      " 'scheduler/enqueued/memory': 1,\n",
      " 'start_time': datetime.datetime(2019, 11, 22, 7, 39, 48, 858732)}\n",
      "2019-11-22 07:39:49 [scrapy.core.engine] INFO: Spider closed (finished)\n"
     ]
    }
   ],
   "source": [
    "!./run.sh"
   ]
  },
  {
   "cell_type": "markdown",
   "metadata": {},
   "source": [
    "#### 6. settings.py 파일 변경\n",
    "- Forbidden by robots.txt"
   ]
  },
  {
   "cell_type": "code",
   "execution_count": 10,
   "metadata": {},
   "outputs": [
    {
     "name": "stdout",
     "output_type": "stream",
     "text": [
      "\n",
      "# Configure maximum concurrent requests performed by Scrapy (default: 16)\n",
      "#CONCURRENT_REQUESTS = 32\n",
      "\n",
      "# Configure a delay for requests for the same website (default: 0)\n"
     ]
    }
   ],
   "source": [
    "!head -n 25 naver_movie/naver_movie/settings.py | tail -n 5"
   ]
  },
  {
   "cell_type": "code",
   "execution_count": 11,
   "metadata": {},
   "outputs": [],
   "source": [
    "!sed -i 's/ROBOTSTXT_OBEY = True/ROBOTSTXT_OBEY = False/' naver_movie/naver_movie/settings.py"
   ]
  },
  {
   "cell_type": "code",
   "execution_count": 39,
   "metadata": {
    "collapsed": true
   },
   "outputs": [
    {
     "name": "stdout",
     "output_type": "stream",
     "text": [
      "2019-11-22 07:44:50 [scrapy.utils.log] INFO: Scrapy 1.8.0 started (bot: naver_movie)\n",
      "2019-11-22 07:44:50 [scrapy.utils.log] INFO: Versions: lxml 4.4.1.0, libxml2 2.9.9, cssselect 1.1.0, parsel 1.5.2, w3lib 1.21.0, Twisted 19.10.0, Python 3.6.9 (default, Oct 24 2019, 05:23:48) - [GCC 7.4.0], pyOpenSSL 19.1.0 (OpenSSL 1.1.1d  10 Sep 2019), cryptography 2.8, Platform Linux-4.15.0-1054-aws-x86_64-with-debian-buster-sid\n",
      "2019-11-22 07:44:50 [scrapy.crawler] INFO: Overridden settings: {'BOT_NAME': 'naver_movie', 'FEED_FORMAT': 'csv', 'FEED_URI': 'naver_movie.csv', 'NEWSPIDER_MODULE': 'naver_movie.spiders', 'SPIDER_MODULES': ['naver_movie.spiders']}\n",
      "2019-11-22 07:44:50 [scrapy.extensions.telnet] INFO: Telnet Password: a058c0feefb11b97\n",
      "2019-11-22 07:44:50 [scrapy.middleware] INFO: Enabled extensions:\n",
      "['scrapy.extensions.corestats.CoreStats',\n",
      " 'scrapy.extensions.telnet.TelnetConsole',\n",
      " 'scrapy.extensions.memusage.MemoryUsage',\n",
      " 'scrapy.extensions.feedexport.FeedExporter',\n",
      " 'scrapy.extensions.logstats.LogStats']\n",
      "2019-11-22 07:44:50 [scrapy.middleware] INFO: Enabled downloader middlewares:\n",
      "['scrapy.downloadermiddlewares.httpauth.HttpAuthMiddleware',\n",
      " 'scrapy.downloadermiddlewares.downloadtimeout.DownloadTimeoutMiddleware',\n",
      " 'scrapy.downloadermiddlewares.defaultheaders.DefaultHeadersMiddleware',\n",
      " 'scrapy.downloadermiddlewares.useragent.UserAgentMiddleware',\n",
      " 'scrapy.downloadermiddlewares.retry.RetryMiddleware',\n",
      " 'scrapy.downloadermiddlewares.redirect.MetaRefreshMiddleware',\n",
      " 'scrapy.downloadermiddlewares.httpcompression.HttpCompressionMiddleware',\n",
      " 'scrapy.downloadermiddlewares.redirect.RedirectMiddleware',\n",
      " 'scrapy.downloadermiddlewares.cookies.CookiesMiddleware',\n",
      " 'scrapy.downloadermiddlewares.httpproxy.HttpProxyMiddleware',\n",
      " 'scrapy.downloadermiddlewares.stats.DownloaderStats']\n",
      "2019-11-22 07:44:50 [scrapy.middleware] INFO: Enabled spider middlewares:\n",
      "['scrapy.spidermiddlewares.httperror.HttpErrorMiddleware',\n",
      " 'scrapy.spidermiddlewares.offsite.OffsiteMiddleware',\n",
      " 'scrapy.spidermiddlewares.referer.RefererMiddleware',\n",
      " 'scrapy.spidermiddlewares.urllength.UrlLengthMiddleware',\n",
      " 'scrapy.spidermiddlewares.depth.DepthMiddleware']\n",
      "2019-11-22 07:44:50 [scrapy.middleware] INFO: Enabled item pipelines:\n",
      "[]\n",
      "2019-11-22 07:44:50 [scrapy.core.engine] INFO: Spider opened\n",
      "2019-11-22 07:44:50 [scrapy.extensions.logstats] INFO: Crawled 0 pages (at 0 pages/min), scraped 0 items (at 0 items/min)\n",
      "2019-11-22 07:44:50 [scrapy.extensions.telnet] INFO: Telnet console listening on 127.0.0.1:6023\n",
      "2019-11-22 07:44:50 [scrapy.core.engine] DEBUG: Crawled (200) <GET https://movie.naver.com/movie/running/current.nhn> (referer: None)\n",
      "2019-11-22 07:44:50 [scrapy.core.engine] DEBUG: Crawled (200) <GET https://movie.naver.com/movie/bi/mi/basic.nhn?code=136873> (referer: https://movie.naver.com/movie/running/current.nhn)\n",
      "2019-11-22 07:44:51 [scrapy.core.scraper] DEBUG: Scraped from <200 https://movie.naver.com/movie/bi/mi/basic.nhn?code=136873>\n",
      "{'count': '607,847명', 'star': '9.23', 'title': '겨울왕국 2'}\n",
      "2019-11-22 07:44:51 [scrapy.core.engine] DEBUG: Crawled (200) <GET https://movie.naver.com/movie/bi/mi/basic.nhn?code=181568> (referer: https://movie.naver.com/movie/running/current.nhn)\n",
      "2019-11-22 07:44:51 [scrapy.core.engine] DEBUG: Crawled (200) <GET https://movie.naver.com/movie/bi/mi/basic.nhn?code=189264> (referer: https://movie.naver.com/movie/running/current.nhn)\n",
      "2019-11-22 07:44:51 [scrapy.core.engine] DEBUG: Crawled (200) <GET https://movie.naver.com/movie/bi/mi/basic.nhn?code=179392> (referer: https://movie.naver.com/movie/running/current.nhn)\n",
      "2019-11-22 07:44:51 [scrapy.core.engine] DEBUG: Crawled (200) <GET https://movie.naver.com/movie/bi/mi/basic.nhn?code=189063> (referer: https://movie.naver.com/movie/running/current.nhn)\n",
      "2019-11-22 07:44:51 [scrapy.core.engine] DEBUG: Crawled (200) <GET https://movie.naver.com/movie/bi/mi/basic.nhn?code=167635> (referer: https://movie.naver.com/movie/running/current.nhn)\n",
      "2019-11-22 07:44:51 [scrapy.core.engine] DEBUG: Crawled (200) <GET https://movie.naver.com/movie/bi/mi/basic.nhn?code=189054> (referer: https://movie.naver.com/movie/running/current.nhn)\n",
      "2019-11-22 07:44:51 [scrapy.core.engine] DEBUG: Crawled (200) <GET https://movie.naver.com/movie/bi/mi/basic.nhn?code=175045> (referer: https://movie.naver.com/movie/running/current.nhn)\n",
      "2019-11-22 07:44:51 [scrapy.core.engine] DEBUG: Crawled (200) <GET https://movie.naver.com/movie/bi/mi/basic.nhn?code=185284> (referer: https://movie.naver.com/movie/running/current.nhn)\n",
      "2019-11-22 07:44:51 [scrapy.core.engine] DEBUG: Crawled (200) <GET https://movie.naver.com/movie/bi/mi/basic.nhn?code=186642> (referer: https://movie.naver.com/movie/running/current.nhn)\n",
      "2019-11-22 07:44:51 [scrapy.core.scraper] DEBUG: Scraped from <200 https://movie.naver.com/movie/bi/mi/basic.nhn?code=181568>\n",
      "{'count': '0명', 'star': '', 'title': '아빠는 예쁘다'}\n",
      "2019-11-22 07:44:51 [scrapy.core.scraper] DEBUG: Scraped from <200 https://movie.naver.com/movie/bi/mi/basic.nhn?code=189264>\n",
      "{'count': '0명', 'star': '9.00', 'title': '오늘, 우리'}\n",
      "2019-11-22 07:44:51 [scrapy.core.scraper] DEBUG: Scraped from <200 https://movie.naver.com/movie/bi/mi/basic.nhn?code=179392>\n",
      "{'count': '0명', 'star': '10.0', 'title': '영하의 바람'}\n",
      "2019-11-22 07:44:51 [scrapy.core.scraper] DEBUG: Scraped from <200 https://movie.naver.com/movie/bi/mi/basic.nhn?code=189063>\n",
      "{'count': '0명', 'star': '5.00', 'title': '패트와 매트: 우당탕탕 크리스마스'}\n",
      "2019-11-22 07:44:51 [scrapy.core.scraper] DEBUG: Scraped from <200 https://movie.naver.com/movie/bi/mi/basic.nhn?code=167635>\n",
      "{'count': '0명', 'star': '8.54', 'title': '말레피센트 2'}\n",
      "2019-11-22 07:44:51 [scrapy.core.engine] DEBUG: Crawled (200) <GET https://movie.naver.com/movie/bi/mi/basic.nhn?code=175498> (referer: https://movie.naver.com/movie/running/current.nhn)\n",
      "2019-11-22 07:44:51 [scrapy.core.engine] DEBUG: Crawled (200) <GET https://movie.naver.com/movie/bi/mi/basic.nhn?code=185912> (referer: https://movie.naver.com/movie/running/current.nhn)\n",
      "2019-11-22 07:44:51 [scrapy.core.engine] DEBUG: Crawled (200) <GET https://movie.naver.com/movie/bi/mi/basic.nhn?code=162878> (referer: https://movie.naver.com/movie/running/current.nhn)\n",
      "2019-11-22 07:44:51 [scrapy.core.scraper] DEBUG: Scraped from <200 https://movie.naver.com/movie/bi/mi/basic.nhn?code=189054>\n",
      "{'count': '0명', 'star': '', 'title': '헤로니모'}\n",
      "2019-11-22 07:44:51 [scrapy.core.scraper] DEBUG: Scraped from <200 https://movie.naver.com/movie/bi/mi/basic.nhn?code=175045>\n",
      "{'count': '0명', 'star': '8.28', 'title': '경계선'}\n",
      "2019-11-22 07:44:51 [scrapy.core.engine] DEBUG: Crawled (200) <GET https://movie.naver.com/movie/bi/mi/basic.nhn?code=26756> (referer: https://movie.naver.com/movie/running/current.nhn)\n",
      "2019-11-22 07:44:51 [scrapy.core.engine] DEBUG: Crawled (200) <GET https://movie.naver.com/movie/bi/mi/basic.nhn?code=179307> (referer: https://movie.naver.com/movie/running/current.nhn)\n",
      "2019-11-22 07:44:51 [scrapy.core.engine] DEBUG: Crawled (200) <GET https://movie.naver.com/movie/bi/mi/basic.nhn?code=174748> (referer: https://movie.naver.com/movie/running/current.nhn)\n",
      "2019-11-22 07:44:51 [scrapy.core.engine] DEBUG: Crawled (200) <GET https://movie.naver.com/movie/bi/mi/basic.nhn?code=155123> (referer: https://movie.naver.com/movie/running/current.nhn)\n",
      "2019-11-22 07:44:51 [scrapy.core.scraper] DEBUG: Scraped from <200 https://movie.naver.com/movie/bi/mi/basic.nhn?code=185284>\n",
      "{'count': '0명', 'star': '', 'title': '시빌'}\n",
      "2019-11-22 07:44:51 [scrapy.core.scraper] DEBUG: Scraped from <200 https://movie.naver.com/movie/bi/mi/basic.nhn?code=186642>\n",
      "{'count': '0명', 'star': '10.0', 'title': '더 컨덕터'}\n",
      "2019-11-22 07:44:51 [scrapy.core.engine] DEBUG: Crawled (200) <GET https://movie.naver.com/movie/bi/mi/basic.nhn?code=175316> (referer: https://movie.naver.com/movie/running/current.nhn)\n",
      "2019-11-22 07:44:51 [scrapy.core.engine] DEBUG: Crawled (200) <GET https://movie.naver.com/movie/bi/mi/basic.nhn?code=70143> (referer: https://movie.naver.com/movie/running/current.nhn)\n",
      "2019-11-22 07:44:51 [scrapy.core.scraper] DEBUG: Scraped from <200 https://movie.naver.com/movie/bi/mi/basic.nhn?code=175498>\n",
      "{'count': '0명', 'star': '8.00', 'title': '어쩌다 룸메이트'}\n",
      "2019-11-22 07:44:51 [scrapy.core.engine] DEBUG: Crawled (200) <GET https://movie.naver.com/movie/bi/mi/basic.nhn?code=129880> (referer: https://movie.naver.com/movie/running/current.nhn)\n",
      "2019-11-22 07:44:51 [scrapy.core.scraper] DEBUG: Scraped from <200 https://movie.naver.com/movie/bi/mi/basic.nhn?code=185912>\n",
      "{'count': '0명', 'star': '8.70', 'title': '닥터 슬립'}\n",
      "2019-11-22 07:44:51 [scrapy.core.scraper] DEBUG: Scraped from <200 https://movie.naver.com/movie/bi/mi/basic.nhn?code=162878>\n",
      "{'count': '0명', 'star': '7.50', 'title': '심판'}\n",
      "2019-11-22 07:44:51 [scrapy.core.engine] DEBUG: Crawled (200) <GET https://movie.naver.com/movie/bi/mi/basic.nhn?code=147836> (referer: https://movie.naver.com/movie/running/current.nhn)\n"
     ]
    },
    {
     "name": "stdout",
     "output_type": "stream",
     "text": [
      "2019-11-22 07:44:51 [scrapy.core.scraper] DEBUG: Scraped from <200 https://movie.naver.com/movie/bi/mi/basic.nhn?code=26756>\n",
      "{'count': '0명', 'star': '8.83', 'title': '모리스'}\n",
      "2019-11-22 07:44:51 [scrapy.core.scraper] DEBUG: Scraped from <200 https://movie.naver.com/movie/bi/mi/basic.nhn?code=179307>\n",
      "{'count': '0명', 'star': '9.01', 'title': '벌새'}\n",
      "2019-11-22 07:44:51 [scrapy.core.engine] DEBUG: Crawled (200) <GET https://movie.naver.com/movie/bi/mi/basic.nhn?code=174797> (referer: https://movie.naver.com/movie/running/current.nhn)\n",
      "2019-11-22 07:44:51 [scrapy.core.scraper] DEBUG: Scraped from <200 https://movie.naver.com/movie/bi/mi/basic.nhn?code=174748>\n",
      "{'count': '0명', 'star': '10.0', 'title': '프란치스코 교황: 맨 오브 히스 워드'}\n",
      "2019-11-22 07:44:51 [scrapy.core.scraper] DEBUG: Scraped from <200 https://movie.naver.com/movie/bi/mi/basic.nhn?code=155123>\n",
      "{'count': '0명', 'star': '9.36', 'title': '미스 사이공: 25주년 특별 공연'}\n",
      "2019-11-22 07:44:51 [scrapy.core.engine] DEBUG: Crawled (200) <GET https://movie.naver.com/movie/bi/mi/basic.nhn?code=19241> (referer: https://movie.naver.com/movie/running/current.nhn)\n",
      "2019-11-22 07:44:51 [scrapy.core.engine] DEBUG: Crawled (200) <GET https://movie.naver.com/movie/bi/mi/basic.nhn?code=29689> (referer: https://movie.naver.com/movie/running/current.nhn)\n",
      "2019-11-22 07:44:51 [scrapy.core.engine] DEBUG: Crawled (200) <GET https://movie.naver.com/movie/bi/mi/basic.nhn?code=189047> (referer: https://movie.naver.com/movie/running/current.nhn)\n",
      "2019-11-22 07:44:51 [scrapy.core.engine] DEBUG: Crawled (200) <GET https://movie.naver.com/movie/bi/mi/basic.nhn?code=23078> (referer: https://movie.naver.com/movie/running/current.nhn)\n",
      "2019-11-22 07:44:51 [scrapy.core.engine] DEBUG: Crawled (200) <GET https://movie.naver.com/movie/bi/mi/basic.nhn?code=10593> (referer: https://movie.naver.com/movie/running/current.nhn)\n",
      "2019-11-22 07:44:51 [scrapy.core.scraper] DEBUG: Scraped from <200 https://movie.naver.com/movie/bi/mi/basic.nhn?code=175316>\n",
      "{'count': '0명', 'star': '8.42', 'title': '힘을 내요, 미스터 리'}\n",
      "2019-11-22 07:44:51 [scrapy.core.scraper] DEBUG: Scraped from <200 https://movie.naver.com/movie/bi/mi/basic.nhn?code=70143>\n",
      "{'count': '0명', 'star': '', 'title': '호수길'}\n",
      "2019-11-22 07:44:51 [scrapy.core.engine] DEBUG: Crawled (200) <GET https://movie.naver.com/movie/bi/mi/basic.nhn?code=29516> (referer: https://movie.naver.com/movie/running/current.nhn)\n",
      "2019-11-22 07:44:51 [scrapy.core.engine] DEBUG: Crawled (200) <GET https://movie.naver.com/movie/bi/mi/basic.nhn?code=179518> (referer: https://movie.naver.com/movie/running/current.nhn)\n",
      "2019-11-22 07:44:51 [scrapy.core.scraper] DEBUG: Scraped from <200 https://movie.naver.com/movie/bi/mi/basic.nhn?code=129880>\n",
      "{'count': '0명', 'star': '8.20', 'title': '하루'}\n",
      "2019-11-22 07:44:51 [scrapy.core.scraper] DEBUG: Scraped from <200 https://movie.naver.com/movie/bi/mi/basic.nhn?code=147836>\n",
      "{'count': '0명', 'star': '8.00', 'title': '퍼펙트 스트레인저'}\n",
      "2019-11-22 07:44:51 [scrapy.core.engine] DEBUG: Crawled (200) <GET https://movie.naver.com/movie/bi/mi/basic.nhn?code=181692> (referer: https://movie.naver.com/movie/running/current.nhn)\n",
      "2019-11-22 07:44:51 [scrapy.core.scraper] DEBUG: Scraped from <200 https://movie.naver.com/movie/bi/mi/basic.nhn?code=174797>\n",
      "{'count': '0명', 'star': '9.24', 'title': '판소리 복서'}\n",
      "2019-11-22 07:44:51 [scrapy.core.scraper] DEBUG: Scraped from <200 https://movie.naver.com/movie/bi/mi/basic.nhn?code=19241>\n",
      "{'count': '0명', 'star': '', 'title': '타잔과 친구'}\n",
      "2019-11-22 07:44:51 [scrapy.core.scraper] DEBUG: Scraped from <200 https://movie.naver.com/movie/bi/mi/basic.nhn?code=29689>\n",
      "{'count': '0명', 'star': '9.00', 'title': '파업전야'}\n",
      "2019-11-22 07:44:51 [scrapy.core.scraper] DEBUG: Scraped from <200 https://movie.naver.com/movie/bi/mi/basic.nhn?code=189047>\n",
      "{'count': '0명', 'star': '9.00', 'title': '쿠엔틴 타란티노 8'}\n",
      "2019-11-22 07:44:51 [scrapy.core.scraper] DEBUG: Scraped from <200 https://movie.naver.com/movie/bi/mi/basic.nhn?code=23078>\n",
      "{'count': '0명', 'star': '', 'title': '진짜 진짜 잊지마'}\n",
      "2019-11-22 07:44:51 [scrapy.core.engine] DEBUG: Crawled (200) <GET https://movie.naver.com/movie/bi/mi/basic.nhn?code=189088> (referer: https://movie.naver.com/movie/running/current.nhn)\n",
      "2019-11-22 07:44:51 [scrapy.core.engine] DEBUG: Crawled (200) <GET https://movie.naver.com/movie/bi/mi/basic.nhn?code=179158> (referer: https://movie.naver.com/movie/running/current.nhn)\n",
      "2019-11-22 07:44:51 [scrapy.core.engine] DEBUG: Crawled (200) <GET https://movie.naver.com/movie/bi/mi/basic.nhn?code=155036> (referer: https://movie.naver.com/movie/running/current.nhn)\n",
      "2019-11-22 07:44:51 [scrapy.core.engine] DEBUG: Crawled (200) <GET https://movie.naver.com/movie/bi/mi/basic.nhn?code=184125> (referer: https://movie.naver.com/movie/running/current.nhn)\n",
      "2019-11-22 07:44:51 [scrapy.core.scraper] DEBUG: Scraped from <200 https://movie.naver.com/movie/bi/mi/basic.nhn?code=10593>\n",
      "{'count': '0명', 'star': '', 'title': '지상에서 영원으로'}\n",
      "2019-11-22 07:44:51 [scrapy.core.engine] DEBUG: Crawled (200) <GET https://movie.naver.com/movie/bi/mi/basic.nhn?code=10813> (referer: https://movie.naver.com/movie/running/current.nhn)\n",
      "2019-11-22 07:44:51 [scrapy.core.engine] DEBUG: Crawled (200) <GET https://movie.naver.com/movie/bi/mi/basic.nhn?code=74386> (referer: https://movie.naver.com/movie/running/current.nhn)\n",
      "2019-11-22 07:44:51 [scrapy.core.engine] DEBUG: Crawled (200) <GET https://movie.naver.com/movie/bi/mi/basic.nhn?code=168668> (referer: https://movie.naver.com/movie/running/current.nhn)\n",
      "2019-11-22 07:44:51 [scrapy.core.scraper] DEBUG: Scraped from <200 https://movie.naver.com/movie/bi/mi/basic.nhn?code=29516>\n",
      "{'count': '0명', 'star': '8.50', 'title': '죽거나 혹은 나쁘거나'}\n",
      "2019-11-22 07:44:51 [scrapy.core.scraper] DEBUG: Scraped from <200 https://movie.naver.com/movie/bi/mi/basic.nhn?code=179518>\n",
      "{'count': '0명', 'star': '9.66', 'title': '주전장'}\n",
      "2019-11-22 07:44:52 [scrapy.core.scraper] DEBUG: Scraped from <200 https://movie.naver.com/movie/bi/mi/basic.nhn?code=181692>\n",
      "{'count': '0명', 'star': '8.10', 'title': '잃어버린 세계를 찾아서'}\n",
      "2019-11-22 07:44:52 [scrapy.core.engine] DEBUG: Crawled (200) <GET https://movie.naver.com/movie/bi/mi/basic.nhn?code=174903> (referer: https://movie.naver.com/movie/running/current.nhn)\n",
      "2019-11-22 07:44:52 [scrapy.core.scraper] DEBUG: Scraped from <200 https://movie.naver.com/movie/bi/mi/basic.nhn?code=189088>\n",
      "{'count': '0명', 'star': '', 'title': '울프 특공대'}\n",
      "2019-11-22 07:44:52 [scrapy.core.scraper] DEBUG: Scraped from <200 https://movie.naver.com/movie/bi/mi/basic.nhn?code=179158>\n",
      "{'count': '0명', 'star': '7.83', 'title': '유열의 음악앨범'}\n",
      "2019-11-22 07:44:52 [scrapy.core.scraper] DEBUG: Scraped from <200 https://movie.naver.com/movie/bi/mi/basic.nhn?code=155036>\n",
      "{'count': '0명', 'star': '9.20', 'title': '일주일 그리고 하루'}\n",
      "2019-11-22 07:44:52 [scrapy.core.scraper] DEBUG: Scraped from <200 https://movie.naver.com/movie/bi/mi/basic.nhn?code=184125>\n",
      "{'count': '0명', 'star': '10.0', 'title': '우키시마호'}\n",
      "2019-11-22 07:44:52 [scrapy.core.engine] DEBUG: Crawled (200) <GET https://movie.naver.com/movie/bi/mi/basic.nhn?code=170824> (referer: https://movie.naver.com/movie/running/current.nhn)\n",
      "2019-11-22 07:44:52 [scrapy.core.engine] DEBUG: Crawled (200) <GET https://movie.naver.com/movie/bi/mi/basic.nhn?code=155310> (referer: https://movie.naver.com/movie/running/current.nhn)\n",
      "2019-11-22 07:44:52 [scrapy.core.engine] DEBUG: Crawled (200) <GET https://movie.naver.com/movie/bi/mi/basic.nhn?code=136890> (referer: https://movie.naver.com/movie/running/current.nhn)\n",
      "2019-11-22 07:44:52 [scrapy.core.engine] DEBUG: Crawled (200) <GET https://movie.naver.com/movie/bi/mi/basic.nhn?code=164335> (referer: https://movie.naver.com/movie/running/current.nhn)\n",
      "2019-11-22 07:44:52 [scrapy.core.engine] DEBUG: Crawled (200) <GET https://movie.naver.com/movie/bi/mi/basic.nhn?code=189900> (referer: https://movie.naver.com/movie/running/current.nhn)\n",
      "2019-11-22 07:44:52 [scrapy.core.engine] DEBUG: Crawled (200) <GET https://movie.naver.com/movie/bi/mi/basic.nhn?code=21219> (referer: https://movie.naver.com/movie/running/current.nhn)\n",
      "2019-11-22 07:44:52 [scrapy.core.scraper] DEBUG: Scraped from <200 https://movie.naver.com/movie/bi/mi/basic.nhn?code=10813>\n",
      "{'count': '0명', 'star': '8.25', 'title': '우묵배미의 사랑'}\n",
      "2019-11-22 07:44:52 [scrapy.core.scraper] DEBUG: Scraped from <200 https://movie.naver.com/movie/bi/mi/basic.nhn?code=74386>\n",
      "{'count': '0명', 'star': '', 'title': '우리에겐 교황이 있다'}\n",
      "2019-11-22 07:44:52 [scrapy.core.scraper] DEBUG: Scraped from <200 https://movie.naver.com/movie/bi/mi/basic.nhn?code=168668>\n",
      "{'count': '0명', 'star': '8.89', 'title': '올드마린보이'}\n",
      "2019-11-22 07:44:52 [scrapy.core.engine] DEBUG: Crawled (200) <GET https://movie.naver.com/movie/bi/mi/basic.nhn?code=167374> (referer: https://movie.naver.com/movie/running/current.nhn)\n"
     ]
    },
    {
     "name": "stdout",
     "output_type": "stream",
     "text": [
      "2019-11-22 07:44:52 [scrapy.core.engine] DEBUG: Crawled (200) <GET https://movie.naver.com/movie/bi/mi/basic.nhn?code=10526> (referer: https://movie.naver.com/movie/running/current.nhn)\n",
      "2019-11-22 07:44:52 [scrapy.core.scraper] DEBUG: Scraped from <200 https://movie.naver.com/movie/bi/mi/basic.nhn?code=174903>\n",
      "{'count': '0명', 'star': '9.00', 'title': '엑시트'}\n",
      "2019-11-22 07:44:52 [scrapy.core.scraper] DEBUG: Scraped from <200 https://movie.naver.com/movie/bi/mi/basic.nhn?code=170824>\n",
      "{'count': '0명', 'star': '8.75', 'title': '에브리데이'}\n",
      "2019-11-22 07:44:52 [scrapy.core.scraper] DEBUG: Scraped from <200 https://movie.naver.com/movie/bi/mi/basic.nhn?code=155310>\n",
      "{'count': '0명', 'star': '8.93', 'title': '비치온더비치'}\n",
      "2019-11-22 07:44:52 [scrapy.core.scraper] DEBUG: Scraped from <200 https://movie.naver.com/movie/bi/mi/basic.nhn?code=136890>\n",
      "{'count': '0명', 'star': '9.12', 'title': '에이미'}\n",
      "2019-11-22 07:44:52 [scrapy.core.engine] DEBUG: Crawled (200) <GET https://movie.naver.com/movie/bi/mi/basic.nhn?code=180402> (referer: https://movie.naver.com/movie/running/current.nhn)\n",
      "2019-11-22 07:44:52 [scrapy.core.engine] DEBUG: Crawled (200) <GET https://movie.naver.com/movie/bi/mi/basic.nhn?code=165060> (referer: https://movie.naver.com/movie/running/current.nhn)\n",
      "2019-11-22 07:44:52 [scrapy.core.engine] DEBUG: Crawled (200) <GET https://movie.naver.com/movie/bi/mi/basic.nhn?code=178526> (referer: https://movie.naver.com/movie/running/current.nhn)\n",
      "2019-11-22 07:44:52 [scrapy.core.scraper] DEBUG: Scraped from <200 https://movie.naver.com/movie/bi/mi/basic.nhn?code=164335>\n",
      "{'count': '0명', 'star': '8.24', 'title': '산상수훈'}\n",
      "2019-11-22 07:44:52 [scrapy.core.engine] DEBUG: Crawled (200) <GET https://movie.naver.com/movie/bi/mi/basic.nhn?code=172605> (referer: https://movie.naver.com/movie/running/current.nhn)\n",
      "2019-11-22 07:44:52 [scrapy.core.engine] DEBUG: Crawled (200) <GET https://movie.naver.com/movie/bi/mi/basic.nhn?code=170070> (referer: https://movie.naver.com/movie/running/current.nhn)\n",
      "2019-11-22 07:44:52 [scrapy.core.engine] DEBUG: Crawled (200) <GET https://movie.naver.com/movie/bi/mi/basic.nhn?code=167331> (referer: https://movie.naver.com/movie/running/current.nhn)\n",
      "2019-11-22 07:44:52 [scrapy.core.scraper] DEBUG: Scraped from <200 https://movie.naver.com/movie/bi/mi/basic.nhn?code=189900>\n",
      "{'count': '0명', 'star': '', 'title': '비욘드 라인'}\n",
      "2019-11-22 07:44:52 [scrapy.core.scraper] DEBUG: Scraped from <200 https://movie.naver.com/movie/bi/mi/basic.nhn?code=21219>\n",
      "{'count': '0명', 'star': '', 'title': '비룡문'}\n",
      "2019-11-22 07:44:52 [scrapy.core.scraper] DEBUG: Scraped from <200 https://movie.naver.com/movie/bi/mi/basic.nhn?code=167374>\n",
      "{'count': '0명', 'star': '8.31', 'title': '뷰티풀 데이즈'}\n",
      "2019-11-22 07:44:52 [scrapy.core.engine] DEBUG: Crawled (200) <GET https://movie.naver.com/movie/bi/mi/basic.nhn?code=130013> (referer: https://movie.naver.com/movie/running/current.nhn)\n",
      "2019-11-22 07:44:52 [scrapy.core.engine] DEBUG: Crawled (200) <GET https://movie.naver.com/movie/bi/mi/basic.nhn?code=117773> (referer: https://movie.naver.com/movie/running/current.nhn)\n",
      "2019-11-22 07:44:52 [scrapy.core.scraper] DEBUG: Scraped from <200 https://movie.naver.com/movie/bi/mi/basic.nhn?code=10526>\n",
      "{'count': '0명', 'star': '8.25', 'title': '블러드 심플'}\n",
      "2019-11-22 07:44:52 [scrapy.core.engine] DEBUG: Crawled (200) <GET https://movie.naver.com/movie/bi/mi/basic.nhn?code=174297> (referer: https://movie.naver.com/movie/running/current.nhn)\n",
      "2019-11-22 07:44:52 [scrapy.core.engine] DEBUG: Crawled (200) <GET https://movie.naver.com/movie/bi/mi/basic.nhn?code=185131> (referer: https://movie.naver.com/movie/running/current.nhn)\n",
      "2019-11-22 07:44:52 [scrapy.core.engine] DEBUG: Crawled (200) <GET https://movie.naver.com/movie/bi/mi/basic.nhn?code=187787> (referer: https://movie.naver.com/movie/running/current.nhn)\n",
      "2019-11-22 07:44:52 [scrapy.core.scraper] DEBUG: Scraped from <200 https://movie.naver.com/movie/bi/mi/basic.nhn?code=180402>\n",
      "{'count': '0명', 'star': '7.33', 'title': '버티고'}\n",
      "2019-11-22 07:44:52 [scrapy.core.scraper] DEBUG: Scraped from <200 https://movie.naver.com/movie/bi/mi/basic.nhn?code=165060>\n",
      "{'count': '0명', 'star': '8.10', 'title': '밤치기'}\n",
      "2019-11-22 07:44:52 [scrapy.core.scraper] DEBUG: Scraped from <200 https://movie.naver.com/movie/bi/mi/basic.nhn?code=178526>\n",
      "{'count': '0명', 'star': '9.08', 'title': '봉오동 전투'}\n",
      "2019-11-22 07:44:52 [scrapy.core.engine] DEBUG: Crawled (200) <GET https://movie.naver.com/movie/bi/mi/basic.nhn?code=189051> (referer: https://movie.naver.com/movie/running/current.nhn)\n",
      "2019-11-22 07:44:52 [scrapy.core.engine] DEBUG: Crawled (200) <GET https://movie.naver.com/movie/bi/mi/basic.nhn?code=171539> (referer: https://movie.naver.com/movie/running/current.nhn)\n",
      "2019-11-22 07:44:52 [scrapy.core.engine] DEBUG: Crawled (200) <GET https://movie.naver.com/movie/bi/mi/basic.nhn?code=179758> (referer: https://movie.naver.com/movie/running/current.nhn)\n",
      "2019-11-22 07:44:52 [scrapy.core.scraper] DEBUG: Scraped from <200 https://movie.naver.com/movie/bi/mi/basic.nhn?code=172605>\n",
      "{'count': '0명', 'star': '9.56', 'title': '루스 베이더 긴즈버그 : 나는 반대한다'}\n",
      "2019-11-22 07:44:52 [scrapy.core.scraper] DEBUG: Scraped from <200 https://movie.naver.com/movie/bi/mi/basic.nhn?code=170070>\n",
      "{'count': '0명', 'star': '8.74', 'title': '마리아 칼라스: 세기의 디바'}\n",
      "2019-11-22 07:44:52 [scrapy.core.scraper] DEBUG: Scraped from <200 https://movie.naver.com/movie/bi/mi/basic.nhn?code=167331>\n",
      "{'count': '0명', 'star': '7.87', 'title': '델마'}\n",
      "2019-11-22 07:44:52 [scrapy.core.scraper] DEBUG: Scraped from <200 https://movie.naver.com/movie/bi/mi/basic.nhn?code=130013>\n",
      "{'count': '0명', 'star': '9.16', 'title': '님아, 그 강을 건너지 마오'}\n",
      "2019-11-22 07:44:52 [scrapy.core.scraper] DEBUG: Scraped from <200 https://movie.naver.com/movie/bi/mi/basic.nhn?code=117773>\n",
      "{'count': '0명', 'star': '9.08', 'title': '늙은 자전거'}\n",
      "2019-11-22 07:44:52 [scrapy.core.engine] DEBUG: Crawled (200) <GET https://movie.naver.com/movie/bi/mi/basic.nhn?code=179095> (referer: https://movie.naver.com/movie/running/current.nhn)\n",
      "2019-11-22 07:44:52 [scrapy.core.engine] DEBUG: Crawled (200) <GET https://movie.naver.com/movie/bi/mi/basic.nhn?code=119591> (referer: https://movie.naver.com/movie/running/current.nhn)\n",
      "2019-11-22 07:44:52 [scrapy.core.scraper] DEBUG: Scraped from <200 https://movie.naver.com/movie/bi/mi/basic.nhn?code=174297>\n",
      "{'count': '0명', 'star': '8.58', 'title': '내가 사는 세상'}\n",
      "2019-11-22 07:44:52 [scrapy.core.engine] DEBUG: Crawled (200) <GET https://movie.naver.com/movie/bi/mi/basic.nhn?code=182756> (referer: https://movie.naver.com/movie/running/current.nhn)\n",
      "2019-11-22 07:44:52 [scrapy.core.engine] DEBUG: Crawled (200) <GET https://movie.naver.com/movie/bi/mi/basic.nhn?code=129282> (referer: https://movie.naver.com/movie/running/current.nhn)\n",
      "2019-11-22 07:44:52 [scrapy.core.scraper] DEBUG: Scraped from <200 https://movie.naver.com/movie/bi/mi/basic.nhn?code=185131>\n",
      "{'count': '0명', 'star': '9.83', 'title': '김복동'}\n",
      "2019-11-22 07:44:52 [scrapy.core.scraper] DEBUG: Scraped from <200 https://movie.naver.com/movie/bi/mi/basic.nhn?code=187787>\n",
      "{'count': '0명', 'star': '8.09', 'title': '너를 만난 여름'}\n",
      "2019-11-22 07:44:52 [scrapy.core.scraper] DEBUG: Scraped from <200 https://movie.naver.com/movie/bi/mi/basic.nhn?code=189051>\n",
      "{'count': '0명', 'star': '', 'title': '10 미니츠 곤'}\n",
      "2019-11-22 07:44:52 [scrapy.core.engine] DEBUG: Crawled (200) <GET https://movie.naver.com/movie/bi/mi/basic.nhn?code=164145> (referer: https://movie.naver.com/movie/running/current.nhn)\n",
      "2019-11-22 07:44:52 [scrapy.core.scraper] DEBUG: Scraped from <200 https://movie.naver.com/movie/bi/mi/basic.nhn?code=171539>\n",
      "{'count': '0명', 'star': '9.55', 'title': '그린 북'}\n",
      "2019-11-22 07:44:52 [scrapy.core.scraper] DEBUG: Scraped from <200 https://movie.naver.com/movie/bi/mi/basic.nhn?code=179758>\n",
      "{'count': '0명', 'star': '8.00', 'title': '텔 잇 투 더 비즈'}\n",
      "2019-11-22 07:44:52 [scrapy.core.engine] DEBUG: Crawled (200) <GET https://movie.naver.com/movie/bi/mi/basic.nhn?code=177214> (referer: https://movie.naver.com/movie/running/current.nhn)\n",
      "2019-11-22 07:44:52 [scrapy.core.engine] DEBUG: Crawled (200) <GET https://movie.naver.com/movie/bi/mi/basic.nhn?code=164102> (referer: https://movie.naver.com/movie/running/current.nhn)\n",
      "2019-11-22 07:44:52 [scrapy.core.scraper] DEBUG: Scraped from <200 https://movie.naver.com/movie/bi/mi/basic.nhn?code=179095>\n",
      "{'count': '0명', 'star': '7.35', 'title': '아워 바디'}\n",
      "2019-11-22 07:44:52 [scrapy.core.engine] DEBUG: Crawled (200) <GET https://movie.naver.com/movie/bi/mi/basic.nhn?code=165030> (referer: https://movie.naver.com/movie/running/current.nhn)\n"
     ]
    },
    {
     "name": "stdout",
     "output_type": "stream",
     "text": [
      "2019-11-22 07:44:52 [scrapy.core.engine] DEBUG: Crawled (200) <GET https://movie.naver.com/movie/bi/mi/basic.nhn?code=177381> (referer: https://movie.naver.com/movie/running/current.nhn)\n",
      "2019-11-22 07:44:52 [scrapy.core.engine] DEBUG: Crawled (200) <GET https://movie.naver.com/movie/bi/mi/basic.nhn?code=185192> (referer: https://movie.naver.com/movie/running/current.nhn)\n",
      "2019-11-22 07:44:52 [scrapy.core.scraper] DEBUG: Scraped from <200 https://movie.naver.com/movie/bi/mi/basic.nhn?code=119591>\n",
      "{'count': '0명', 'star': '10.0', 'title': '사선의 끝'}\n",
      "2019-11-22 07:44:52 [scrapy.core.scraper] DEBUG: Scraped from <200 https://movie.naver.com/movie/bi/mi/basic.nhn?code=182756>\n",
      "{'count': '0명', 'star': '', 'title': '늑대의 아이들'}\n",
      "2019-11-22 07:44:52 [scrapy.core.engine] DEBUG: Crawled (200) <GET https://movie.naver.com/movie/bi/mi/basic.nhn?code=175878> (referer: https://movie.naver.com/movie/running/current.nhn)\n",
      "2019-11-22 07:44:52 [scrapy.core.engine] DEBUG: Crawled (200) <GET https://movie.naver.com/movie/bi/mi/basic.nhn?code=186610> (referer: https://movie.naver.com/movie/running/current.nhn)\n",
      "2019-11-22 07:44:52 [scrapy.core.scraper] DEBUG: Scraped from <200 https://movie.naver.com/movie/bi/mi/basic.nhn?code=129282>\n",
      "{'count': '0명', 'star': '8.37', 'title': '람보 : 라스트 워'}\n",
      "2019-11-22 07:44:52 [scrapy.core.scraper] DEBUG: Scraped from <200 https://movie.naver.com/movie/bi/mi/basic.nhn?code=164145>\n",
      "{'count': '0명', 'star': '7.54', 'title': '지구 최후의 밤'}\n",
      "2019-11-22 07:44:53 [scrapy.core.engine] DEBUG: Crawled (200) <GET https://movie.naver.com/movie/bi/mi/basic.nhn?code=188370> (referer: https://movie.naver.com/movie/running/current.nhn)\n",
      "2019-11-22 07:44:53 [scrapy.core.engine] DEBUG: Crawled (200) <GET https://movie.naver.com/movie/bi/mi/basic.nhn?code=171455> (referer: https://movie.naver.com/movie/running/current.nhn)\n",
      "2019-11-22 07:44:53 [scrapy.core.scraper] DEBUG: Scraped from <200 https://movie.naver.com/movie/bi/mi/basic.nhn?code=177214>\n",
      "{'count': '0명', 'star': '', 'title': '어멍'}\n",
      "2019-11-22 07:44:53 [scrapy.core.scraper] DEBUG: Scraped from <200 https://movie.naver.com/movie/bi/mi/basic.nhn?code=164102>\n",
      "{'count': '0명', 'star': '9.40', 'title': '영주'}\n",
      "2019-11-22 07:44:53 [scrapy.core.engine] DEBUG: Crawled (200) <GET https://movie.naver.com/movie/bi/mi/basic.nhn?code=185268> (referer: https://movie.naver.com/movie/running/current.nhn)\n",
      "2019-11-22 07:44:53 [scrapy.core.engine] DEBUG: Crawled (200) <GET https://movie.naver.com/movie/bi/mi/basic.nhn?code=173753> (referer: https://movie.naver.com/movie/running/current.nhn)\n",
      "2019-11-22 07:44:53 [scrapy.core.scraper] DEBUG: Scraped from <200 https://movie.naver.com/movie/bi/mi/basic.nhn?code=165030>\n",
      "{'count': '0명', 'star': '6.91', 'title': '쏘아올린 불꽃, 밑에서 볼까? 옆에서 볼까?'}\n",
      "2019-11-22 07:44:53 [scrapy.core.scraper] DEBUG: Scraped from <200 https://movie.naver.com/movie/bi/mi/basic.nhn?code=177381>\n",
      "{'count': '0명', 'star': '7.22', 'title': '펭귄 하이웨이'}\n",
      "2019-11-22 07:44:53 [scrapy.core.scraper] DEBUG: Scraped from <200 https://movie.naver.com/movie/bi/mi/basic.nhn?code=185192>\n",
      "{'count': '0명', 'star': '8.67', 'title': '북간도의 십자가'}\n",
      "2019-11-22 07:44:53 [scrapy.core.engine] DEBUG: Crawled (200) <GET https://movie.naver.com/movie/bi/mi/basic.nhn?code=183377> (referer: https://movie.naver.com/movie/running/current.nhn)\n",
      "2019-11-22 07:44:53 [scrapy.core.engine] DEBUG: Crawled (200) <GET https://movie.naver.com/movie/bi/mi/basic.nhn?code=168029> (referer: https://movie.naver.com/movie/running/current.nhn)\n",
      "2019-11-22 07:44:53 [scrapy.core.engine] DEBUG: Crawled (200) <GET https://movie.naver.com/movie/bi/mi/basic.nhn?code=183012> (referer: https://movie.naver.com/movie/running/current.nhn)\n",
      "2019-11-22 07:44:53 [scrapy.core.scraper] DEBUG: Scraped from <200 https://movie.naver.com/movie/bi/mi/basic.nhn?code=175878>\n",
      "{'count': '0명', 'star': '6.00', 'title': '마법안개의 비밀: 황금 보물선을 찾아라'}\n",
      "2019-11-22 07:44:53 [scrapy.core.scraper] DEBUG: Scraped from <200 https://movie.naver.com/movie/bi/mi/basic.nhn?code=186610>\n",
      "{'count': '0명', 'star': '7.25', 'title': '신문기자'}\n",
      "2019-11-22 07:44:53 [scrapy.core.engine] DEBUG: Crawled (200) <GET https://movie.naver.com/movie/bi/mi/basic.nhn?code=183664> (referer: https://movie.naver.com/movie/running/current.nhn)\n",
      "2019-11-22 07:44:53 [scrapy.core.engine] DEBUG: Crawled (200) <GET https://movie.naver.com/movie/bi/mi/basic.nhn?code=166498> (referer: https://movie.naver.com/movie/running/current.nhn)\n",
      "2019-11-22 07:44:53 [scrapy.core.scraper] DEBUG: Scraped from <200 https://movie.naver.com/movie/bi/mi/basic.nhn?code=188370>\n",
      "{'count': '0명', 'star': '', 'title': '아직 지나지 않은 여름'}\n",
      "2019-11-22 07:44:53 [scrapy.core.scraper] DEBUG: Scraped from <200 https://movie.naver.com/movie/bi/mi/basic.nhn?code=171455>\n",
      "{'count': '0명', 'star': '6.00', 'title': '하이 라이프'}\n",
      "2019-11-22 07:44:53 [scrapy.core.engine] DEBUG: Crawled (200) <GET https://movie.naver.com/movie/bi/mi/basic.nhn?code=103178> (referer: https://movie.naver.com/movie/running/current.nhn)\n",
      "2019-11-22 07:44:53 [scrapy.core.scraper] DEBUG: Scraped from <200 https://movie.naver.com/movie/bi/mi/basic.nhn?code=185268>\n",
      "{'count': '0명', 'star': '', 'title': '배신자'}\n",
      "2019-11-22 07:44:53 [scrapy.core.scraper] DEBUG: Scraped from <200 https://movie.naver.com/movie/bi/mi/basic.nhn?code=173753>\n",
      "{'count': '0명', 'star': '9.50', 'title': '졸업'}\n",
      "2019-11-22 07:44:53 [scrapy.core.engine] DEBUG: Crawled (200) <GET https://movie.naver.com/movie/bi/mi/basic.nhn?code=189205> (referer: https://movie.naver.com/movie/running/current.nhn)\n",
      "2019-11-22 07:44:53 [scrapy.core.scraper] DEBUG: Scraped from <200 https://movie.naver.com/movie/bi/mi/basic.nhn?code=183377>\n",
      "{'count': '0명', 'star': '8.73', 'title': '100일 동안 100가지로 100퍼센트 행복찾기'}\n",
      "2019-11-22 07:44:53 [scrapy.core.scraper] DEBUG: Scraped from <200 https://movie.naver.com/movie/bi/mi/basic.nhn?code=168029>\n",
      "{'count': '0명', 'star': '8.57', 'title': '뷰티풀 보이'}\n",
      "2019-11-22 07:44:53 [scrapy.core.engine] DEBUG: Crawled (200) <GET https://movie.naver.com/movie/bi/mi/basic.nhn?code=161967> (referer: https://movie.naver.com/movie/running/current.nhn)\n",
      "2019-11-22 07:44:53 [scrapy.core.engine] DEBUG: Crawled (200) <GET https://movie.naver.com/movie/bi/mi/basic.nhn?code=180385> (referer: https://movie.naver.com/movie/running/current.nhn)\n",
      "2019-11-22 07:44:53 [scrapy.core.scraper] DEBUG: Scraped from <200 https://movie.naver.com/movie/bi/mi/basic.nhn?code=183012>\n",
      "{'count': '0명', 'star': '9.13', 'title': '트루 시크릿'}\n",
      "2019-11-22 07:44:53 [scrapy.core.engine] DEBUG: Crawled (200) <GET https://movie.naver.com/movie/bi/mi/basic.nhn?code=182205> (referer: https://movie.naver.com/movie/running/current.nhn)\n",
      "2019-11-22 07:44:53 [scrapy.core.engine] DEBUG: Crawled (200) <GET https://movie.naver.com/movie/bi/mi/basic.nhn?code=150198> (referer: https://movie.naver.com/movie/running/current.nhn)\n",
      "2019-11-22 07:44:53 [scrapy.core.engine] DEBUG: Crawled (200) <GET https://movie.naver.com/movie/bi/mi/basic.nhn?code=179088> (referer: https://movie.naver.com/movie/running/current.nhn)\n",
      "2019-11-22 07:44:53 [scrapy.core.scraper] DEBUG: Scraped from <200 https://movie.naver.com/movie/bi/mi/basic.nhn?code=183664>\n",
      "{'count': '0명', 'star': '', 'title': '카메라를 멈추면 안 돼! 스핀오프 : 할리우드 대작전'}\n",
      "2019-11-22 07:44:53 [scrapy.core.scraper] DEBUG: Scraped from <200 https://movie.naver.com/movie/bi/mi/basic.nhn?code=166498>\n",
      "{'count': '0명', 'star': '10.0', 'title': '시크릿 슈퍼스타'}\n",
      "2019-11-22 07:44:53 [scrapy.core.engine] DEBUG: Crawled (200) <GET https://movie.naver.com/movie/bi/mi/basic.nhn?code=168038> (referer: https://movie.naver.com/movie/running/current.nhn)\n",
      "2019-11-22 07:44:53 [scrapy.core.scraper] DEBUG: Scraped from <200 https://movie.naver.com/movie/bi/mi/basic.nhn?code=103178>\n",
      "{'count': '0명', 'star': '8.34', 'title': '리스본행 야간열차'}\n",
      "2019-11-22 07:44:53 [scrapy.core.scraper] DEBUG: Scraped from <200 https://movie.naver.com/movie/bi/mi/basic.nhn?code=189205>\n",
      "{'count': '0명', 'star': '', 'title': '접전: 갑을 전쟁'}\n",
      "2019-11-22 07:44:53 [scrapy.core.engine] DEBUG: Crawled (200) <GET https://movie.naver.com/movie/bi/mi/basic.nhn?code=187526> (referer: https://movie.naver.com/movie/running/current.nhn)\n",
      "2019-11-22 07:44:53 [scrapy.core.engine] DEBUG: Crawled (200) <GET https://movie.naver.com/movie/bi/mi/basic.nhn?code=180024> (referer: https://movie.naver.com/movie/running/current.nhn)\n",
      "2019-11-22 07:44:53 [scrapy.core.scraper] DEBUG: Scraped from <200 https://movie.naver.com/movie/bi/mi/basic.nhn?code=161967>\n",
      "{'count': '0명', 'star': '9.06', 'title': '기생충'}\n"
     ]
    },
    {
     "name": "stdout",
     "output_type": "stream",
     "text": [
      "2019-11-22 07:44:53 [scrapy.core.engine] DEBUG: Crawled (200) <GET https://movie.naver.com/movie/bi/mi/basic.nhn?code=183132> (referer: https://movie.naver.com/movie/running/current.nhn)\n",
      "2019-11-22 07:44:53 [scrapy.core.engine] DEBUG: Crawled (200) <GET https://movie.naver.com/movie/bi/mi/basic.nhn?code=179398> (referer: https://movie.naver.com/movie/running/current.nhn)\n",
      "2019-11-22 07:44:53 [scrapy.core.scraper] DEBUG: Scraped from <200 https://movie.naver.com/movie/bi/mi/basic.nhn?code=180385>\n",
      "{'count': '0명', 'star': '9.00', 'title': '니나 내나'}\n",
      "2019-11-22 07:44:53 [scrapy.core.scraper] DEBUG: Scraped from <200 https://movie.naver.com/movie/bi/mi/basic.nhn?code=182205>\n",
      "{'count': '0명', 'star': '8.57', 'title': '가장 보통의 연애'}\n",
      "2019-11-22 07:44:53 [scrapy.core.engine] DEBUG: Crawled (200) <GET https://movie.naver.com/movie/bi/mi/basic.nhn?code=10676> (referer: https://movie.naver.com/movie/running/current.nhn)\n",
      "2019-11-22 07:44:53 [scrapy.core.engine] DEBUG: Crawled (200) <GET https://movie.naver.com/movie/bi/mi/basic.nhn?code=189048> (referer: https://movie.naver.com/movie/running/current.nhn)\n",
      "2019-11-22 07:44:53 [scrapy.core.scraper] DEBUG: Scraped from <200 https://movie.naver.com/movie/bi/mi/basic.nhn?code=150198>\n",
      "{'count': '0명', 'star': '9.02', 'title': '너의 이름은.'}\n",
      "2019-11-22 07:44:53 [scrapy.core.scraper] DEBUG: Scraped from <200 https://movie.naver.com/movie/bi/mi/basic.nhn?code=179088>\n",
      "{'count': '0명', 'star': '10.0', 'title': '열여섯의 봄'}\n",
      "2019-11-22 07:44:53 [scrapy.core.engine] DEBUG: Crawled (200) <GET https://movie.naver.com/movie/bi/mi/basic.nhn?code=179721> (referer: https://movie.naver.com/movie/running/current.nhn)\n",
      "2019-11-22 07:44:53 [scrapy.core.engine] DEBUG: Crawled (200) <GET https://movie.naver.com/movie/bi/mi/basic.nhn?code=173557> (referer: https://movie.naver.com/movie/running/current.nhn)\n",
      "2019-11-22 07:44:53 [scrapy.core.engine] DEBUG: Crawled (200) <GET https://movie.naver.com/movie/bi/mi/basic.nhn?code=179411> (referer: https://movie.naver.com/movie/running/current.nhn)\n",
      "2019-11-22 07:44:53 [scrapy.core.scraper] DEBUG: Scraped from <200 https://movie.naver.com/movie/bi/mi/basic.nhn?code=168038>\n",
      "{'count': '0명', 'star': '7.33', 'title': '왓 데이 해드'}\n",
      "2019-11-22 07:44:53 [scrapy.core.scraper] DEBUG: Scraped from <200 https://movie.naver.com/movie/bi/mi/basic.nhn?code=187526>\n",
      "{'count': '0명', 'star': '8.41', 'title': '더 킹: 헨리 5세'}\n",
      "2019-11-22 07:44:53 [scrapy.core.engine] DEBUG: Crawled (200) <GET https://movie.naver.com/movie/bi/mi/basic.nhn?code=167613> (referer: https://movie.naver.com/movie/running/current.nhn)\n",
      "2019-11-22 07:44:53 [scrapy.core.engine] DEBUG: Crawled (200) <GET https://movie.naver.com/movie/bi/mi/basic.nhn?code=167422> (referer: https://movie.naver.com/movie/running/current.nhn)\n",
      "2019-11-22 07:44:53 [scrapy.core.engine] DEBUG: Crawled (200) <GET https://movie.naver.com/movie/bi/mi/basic.nhn?code=184357> (referer: https://movie.naver.com/movie/running/current.nhn)\n",
      "2019-11-22 07:44:53 [scrapy.core.scraper] DEBUG: Scraped from <200 https://movie.naver.com/movie/bi/mi/basic.nhn?code=180024>\n",
      "{'count': '0명', 'star': '9.00', 'title': '와일드 로즈'}\n",
      "2019-11-22 07:44:53 [scrapy.core.scraper] DEBUG: Scraped from <200 https://movie.naver.com/movie/bi/mi/basic.nhn?code=183132>\n",
      "{'count': '0명', 'star': '9.86', 'title': '교회오빠'}\n",
      "2019-11-22 07:44:53 [scrapy.core.scraper] DEBUG: Scraped from <200 https://movie.naver.com/movie/bi/mi/basic.nhn?code=179398>\n",
      "{'count': '0명', 'star': '8.75', 'title': '메기'}\n",
      "2019-11-22 07:44:53 [scrapy.core.engine] DEBUG: Crawled (200) <GET https://movie.naver.com/movie/bi/mi/basic.nhn?code=187548> (referer: https://movie.naver.com/movie/running/current.nhn)\n",
      "2019-11-22 07:44:53 [scrapy.core.engine] DEBUG: Crawled (200) <GET https://movie.naver.com/movie/bi/mi/basic.nhn?code=185134> (referer: https://movie.naver.com/movie/running/current.nhn)\n",
      "2019-11-22 07:44:53 [scrapy.core.scraper] DEBUG: Scraped from <200 https://movie.naver.com/movie/bi/mi/basic.nhn?code=10676>\n",
      "{'count': '0명', 'star': '8.50', 'title': '타이페이 스토리'}\n",
      "2019-11-22 07:44:53 [scrapy.core.scraper] DEBUG: Scraped from <200 https://movie.naver.com/movie/bi/mi/basic.nhn?code=189048>\n",
      "{'count': '0명', 'star': '7.33', 'title': '캔 유 킵 어 시크릿?'}\n",
      "2019-11-22 07:44:53 [scrapy.core.scraper] DEBUG: Scraped from <200 https://movie.naver.com/movie/bi/mi/basic.nhn?code=179721>\n",
      "{'count': '0명', 'star': '9.52', 'title': '우먼 인 할리우드'}\n",
      "2019-11-22 07:44:53 [scrapy.core.scraper] DEBUG: Scraped from <200 https://movie.naver.com/movie/bi/mi/basic.nhn?code=173557>\n",
      "{'count': '0명', 'star': '9.00', 'title': '코끼리는 그곳에 있어'}\n",
      "2019-11-22 07:44:53 [scrapy.core.engine] DEBUG: Crawled (200) <GET https://movie.naver.com/movie/bi/mi/basic.nhn?code=181114> (referer: https://movie.naver.com/movie/running/current.nhn)\n",
      "2019-11-22 07:44:53 [scrapy.core.engine] DEBUG: Crawled (200) <GET https://movie.naver.com/movie/bi/mi/basic.nhn?code=74407> (referer: https://movie.naver.com/movie/running/current.nhn)\n",
      "2019-11-22 07:44:53 [scrapy.core.engine] DEBUG: Crawled (200) <GET https://movie.naver.com/movie/bi/mi/basic.nhn?code=189071> (referer: https://movie.naver.com/movie/running/current.nhn)\n",
      "2019-11-22 07:44:53 [scrapy.core.scraper] DEBUG: Scraped from <200 https://movie.naver.com/movie/bi/mi/basic.nhn?code=179411>\n",
      "{'count': '0명', 'star': '', 'title': '헬로 몽키'}\n",
      "2019-11-22 07:44:53 [scrapy.core.engine] DEBUG: Crawled (200) <GET https://movie.naver.com/movie/bi/mi/basic.nhn?code=173842> (referer: https://movie.naver.com/movie/running/current.nhn)\n",
      "2019-11-22 07:44:53 [scrapy.core.engine] DEBUG: Crawled (200) <GET https://movie.naver.com/movie/bi/mi/basic.nhn?code=163831> (referer: https://movie.naver.com/movie/running/current.nhn)\n",
      "2019-11-22 07:44:53 [scrapy.core.engine] DEBUG: Crawled (200) <GET https://movie.naver.com/movie/bi/mi/basic.nhn?code=154298> (referer: https://movie.naver.com/movie/running/current.nhn)\n",
      "2019-11-22 07:44:53 [scrapy.core.scraper] DEBUG: Scraped from <200 https://movie.naver.com/movie/bi/mi/basic.nhn?code=167613>\n",
      "{'count': '0명', 'star': '8.99', 'title': '조커'}\n",
      "2019-11-22 07:44:53 [scrapy.core.scraper] DEBUG: Scraped from <200 https://movie.naver.com/movie/bi/mi/basic.nhn?code=167422>\n",
      "{'count': '0명', 'star': '8.00', 'title': '얼굴없는 보스'}\n",
      "2019-11-22 07:44:53 [scrapy.core.scraper] DEBUG: Scraped from <200 https://movie.naver.com/movie/bi/mi/basic.nhn?code=184357>\n",
      "{'count': '0명', 'star': '8.44', 'title': '아담스 패밀리'}\n",
      "2019-11-22 07:44:53 [scrapy.core.engine] DEBUG: Crawled (200) <GET https://movie.naver.com/movie/bi/mi/basic.nhn?code=182387> (referer: https://movie.naver.com/movie/running/current.nhn)\n",
      "2019-11-22 07:44:53 [scrapy.core.scraper] DEBUG: Scraped from <200 https://movie.naver.com/movie/bi/mi/basic.nhn?code=187548>\n",
      "{'count': '0명', 'star': '', 'title': '프렌드 존'}\n",
      "2019-11-22 07:44:53 [scrapy.core.scraper] DEBUG: Scraped from <200 https://movie.naver.com/movie/bi/mi/basic.nhn?code=185134>\n",
      "{'count': '0명', 'star': '9.82', 'title': '삽질'}\n",
      "2019-11-22 07:44:53 [scrapy.core.engine] DEBUG: Crawled (200) <GET https://movie.naver.com/movie/bi/mi/basic.nhn?code=167605> (referer: https://movie.naver.com/movie/running/current.nhn)\n",
      "2019-11-22 07:44:54 [scrapy.core.scraper] DEBUG: Scraped from <200 https://movie.naver.com/movie/bi/mi/basic.nhn?code=181114>\n",
      "{'count': '0명', 'star': '8.24', 'title': '날씨의 아이'}\n",
      "2019-11-22 07:44:54 [scrapy.core.scraper] DEBUG: Scraped from <200 https://movie.naver.com/movie/bi/mi/basic.nhn?code=74407>\n",
      "{'count': '0명', 'star': '8.35', 'title': '좀비랜드: 더블 탭'}\n",
      "2019-11-22 07:44:54 [scrapy.core.engine] DEBUG: Crawled (200) <GET https://movie.naver.com/movie/bi/mi/basic.nhn?code=179159> (referer: https://movie.naver.com/movie/running/current.nhn)\n",
      "2019-11-22 07:44:54 [scrapy.core.engine] DEBUG: Crawled (200) <GET https://movie.naver.com/movie/bi/mi/basic.nhn?code=189053> (referer: https://movie.naver.com/movie/running/current.nhn)\n",
      "2019-11-22 07:44:54 [scrapy.core.engine] DEBUG: Crawled (200) <GET https://movie.naver.com/movie/bi/mi/basic.nhn?code=179482> (referer: https://movie.naver.com/movie/running/current.nhn)\n",
      "2019-11-22 07:44:54 [scrapy.core.scraper] DEBUG: Scraped from <200 https://movie.naver.com/movie/bi/mi/basic.nhn?code=189071>\n",
      "{'count': '0명', 'star': '9.68', 'title': '대통령의 7시간'}\n",
      "2019-11-22 07:44:54 [scrapy.core.scraper] DEBUG: Scraped from <200 https://movie.naver.com/movie/bi/mi/basic.nhn?code=173842>\n",
      "{'count': '3,683명', 'star': '', 'title': '어제 일은 모두 괜찮아'}\n"
     ]
    },
    {
     "name": "stdout",
     "output_type": "stream",
     "text": [
      "2019-11-22 07:44:54 [scrapy.core.scraper] DEBUG: Scraped from <200 https://movie.naver.com/movie/bi/mi/basic.nhn?code=163831>\n",
      "{'count': '166,024명', 'star': '9.26', 'title': '엔젤 해즈 폴른'}\n",
      "2019-11-22 07:44:54 [scrapy.core.scraper] DEBUG: Scraped from <200 https://movie.naver.com/movie/bi/mi/basic.nhn?code=154298>\n",
      "{'count': '5,030명', 'star': '9.20', 'title': '아이리시맨'}\n",
      "2019-11-22 07:44:54 [scrapy.core.scraper] DEBUG: Scraped from <200 https://movie.naver.com/movie/bi/mi/basic.nhn?code=182387>\n",
      "{'count': '52,764명', 'star': '9.42', 'title': '윤희에게'}\n",
      "2019-11-22 07:44:54 [scrapy.core.scraper] DEBUG: Scraped from <200 https://movie.naver.com/movie/bi/mi/basic.nhn?code=167605>\n",
      "{'count': '2,360,029명', 'star': '8.60', 'title': '터미네이터: 다크 페이트'}\n",
      "2019-11-22 07:44:54 [scrapy.core.scraper] DEBUG: Scraped from <200 https://movie.naver.com/movie/bi/mi/basic.nhn?code=179159>\n",
      "{'count': '1,990,626명', 'star': '8.91', 'title': '신의 한 수: 귀수편'}\n",
      "2019-11-22 07:44:54 [scrapy.core.scraper] DEBUG: Scraped from <200 https://movie.naver.com/movie/bi/mi/basic.nhn?code=189053>\n",
      "{'count': '1,455,029명', 'star': '9.09', 'title': '블랙머니'}\n",
      "2019-11-22 07:44:54 [scrapy.core.scraper] DEBUG: Scraped from <200 https://movie.naver.com/movie/bi/mi/basic.nhn?code=179482>\n",
      "{'count': '3,571,534명', 'star': '9.21', 'title': '82년생 김지영'}\n",
      "2019-11-22 07:44:54 [scrapy.core.engine] INFO: Closing spider (finished)\n",
      "2019-11-22 07:44:54 [scrapy.extensions.feedexport] INFO: Stored csv feed (114 items) in: naver_movie.csv\n",
      "2019-11-22 07:44:54 [scrapy.statscollectors] INFO: Dumping Scrapy stats:\n",
      "{'downloader/request_bytes': 35224,\n",
      " 'downloader/request_count': 115,\n",
      " 'downloader/request_method_count/GET': 115,\n",
      " 'downloader/response_bytes': 3781018,\n",
      " 'downloader/response_count': 115,\n",
      " 'downloader/response_status_count/200': 115,\n",
      " 'elapsed_time_seconds': 3.807097,\n",
      " 'finish_reason': 'finished',\n",
      " 'finish_time': datetime.datetime(2019, 11, 22, 7, 44, 54, 167415),\n",
      " 'item_scraped_count': 114,\n",
      " 'log_count/DEBUG': 229,\n",
      " 'log_count/INFO': 11,\n",
      " 'memusage/max': 53043200,\n",
      " 'memusage/startup': 53043200,\n",
      " 'request_depth_max': 1,\n",
      " 'response_received_count': 115,\n",
      " 'scheduler/dequeued': 115,\n",
      " 'scheduler/dequeued/memory': 115,\n",
      " 'scheduler/enqueued': 115,\n",
      " 'scheduler/enqueued/memory': 115,\n",
      " 'start_time': datetime.datetime(2019, 11, 22, 7, 44, 50, 360318)}\n",
      "2019-11-22 07:44:54 [scrapy.core.engine] INFO: Spider closed (finished)\n"
     ]
    }
   ],
   "source": [
    "!./run.sh"
   ]
  },
  {
   "cell_type": "code",
   "execution_count": 12,
   "metadata": {},
   "outputs": [],
   "source": [
    "import pandas as pd"
   ]
  },
  {
   "cell_type": "code",
   "execution_count": 13,
   "metadata": {},
   "outputs": [
    {
     "data": {
      "text/html": [
       "<div>\n",
       "<style scoped>\n",
       "    .dataframe tbody tr th:only-of-type {\n",
       "        vertical-align: middle;\n",
       "    }\n",
       "\n",
       "    .dataframe tbody tr th {\n",
       "        vertical-align: top;\n",
       "    }\n",
       "\n",
       "    .dataframe thead th {\n",
       "        text-align: right;\n",
       "    }\n",
       "</style>\n",
       "<table border=\"1\" class=\"dataframe\">\n",
       "  <thead>\n",
       "    <tr style=\"text-align: right;\">\n",
       "      <th></th>\n",
       "      <th>count</th>\n",
       "      <th>star</th>\n",
       "      <th>title</th>\n",
       "    </tr>\n",
       "  </thead>\n",
       "  <tbody>\n",
       "    <tr>\n",
       "      <th>124</th>\n",
       "      <td>965,067명</td>\n",
       "      <td>8.32</td>\n",
       "      <td>미나리</td>\n",
       "    </tr>\n",
       "    <tr>\n",
       "      <th>125</th>\n",
       "      <td>28,276명</td>\n",
       "      <td>9.54</td>\n",
       "      <td>더 스파이</td>\n",
       "    </tr>\n",
       "  </tbody>\n",
       "</table>\n",
       "</div>"
      ],
      "text/plain": [
       "        count  star  title\n",
       "124  965,067명  8.32    미나리\n",
       "125   28,276명  9.54  더 스파이"
      ]
     },
     "execution_count": 13,
     "metadata": {},
     "output_type": "execute_result"
    }
   ],
   "source": [
    "df = pd.read_csv(\"naver_movie/naver_movie.csv\")\n",
    "df.tail(2)"
   ]
  },
  {
   "cell_type": "code",
   "execution_count": null,
   "metadata": {},
   "outputs": [],
   "source": []
  },
  {
   "cell_type": "code",
   "execution_count": null,
   "metadata": {},
   "outputs": [],
   "source": []
  },
  {
   "cell_type": "code",
   "execution_count": null,
   "metadata": {},
   "outputs": [],
   "source": []
  },
  {
   "cell_type": "code",
   "execution_count": null,
   "metadata": {},
   "outputs": [],
   "source": []
  },
  {
   "cell_type": "code",
   "execution_count": null,
   "metadata": {},
   "outputs": [],
   "source": []
  }
 ],
 "metadata": {
  "kernelspec": {
   "display_name": "Python 3",
   "language": "python",
   "name": "python3"
  },
  "language_info": {
   "codemirror_mode": {
    "name": "ipython",
    "version": 3
   },
   "file_extension": ".py",
   "mimetype": "text/x-python",
   "name": "python",
   "nbconvert_exporter": "python",
   "pygments_lexer": "ipython3",
   "version": "3.8.5"
  }
 },
 "nbformat": 4,
 "nbformat_minor": 2
}
