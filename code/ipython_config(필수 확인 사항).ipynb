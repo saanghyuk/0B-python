{
 "cells": [
  {
   "cell_type": "markdown",
   "metadata": {},
   "source": [
    "### ipython 설정\n",
    "- startup 파일 설정\n",
    "    - 주피터 노트북 실행시 미리 실행되는 코드 설정(import numpy as np 이런것을 미리 실행되게 하는 것. )\n",
    "    - 설정 방법\n",
    "        - 프로필 파일 생성 : `$ ipython profile create` (위치 상관 없음. ipython directory에 생김)\n",
    "        - `cd ~/.ipython/profile_default/startup/`\n",
    "        - 이 디렉토리 안에 README.MD가 있음. 그것을 요약하면, 파일 번호에 따라서, 주피터노트북이 실행될때 해당 코드들이 순차적으로 실행된다는 것.\n",
    "        - ` vi 00-first.py`\n",
    "        - startup 파일 생성"
   ]
  },
  {
   "cell_type": "markdown",
   "metadata": {},
   "source": [
    "### 인라인 블록 없이 그래프 그릴 수 있는 셋팅\n",
    "- inline backend config\n",
    "    - 매직 커맨드 설정 없이 바로 그래프 그릴 수 있도록 설정\n",
    "    - `vi ~/.ipython/profile_default/ipython_kernel_config.py`\n",
    "    - 해당 파일 맨 마지막 하단 코드 붙여넣기\n",
    "       \n",
    "    ```c.IPKernelApp.matplotlib = 'inline'\n",
    "       c.InlineBackend.figure_format = 'retina'```"
   ]
  },
  {
   "cell_type": "markdown",
   "metadata": {},
   "source": [
    "`png` vs `jpg``\n",
    "\n",
    "- png : 일러스터 등으로 만들어진 이미지를 사용할 때 png가 좋음. 구글에서 이미지 사이즈 압축해서 비용 줄이려고 만든 것. 아이콘 등을 압축할 때 효율적. \n",
    "- jpg : 실제 사진 쓸때는, jpg가 좋다. 사진 압축은 jpg가 효율적.  "
   ]
  },
  {
   "cell_type": "code",
   "execution_count": null,
   "metadata": {},
   "outputs": [],
   "source": []
  },
  {
   "cell_type": "markdown",
   "metadata": {},
   "source": [
    "### autopep8 기능 추가\n",
    "- nbextentions config 설치 \n",
    "    - `$ conda install -c conda-forge jupyter_contrib_nbextensions`\n",
    "    - 이걸 설치 하면 상단에서 Edit 메뉴 들어갔을 때, `nbextensions_config`라는 메뉴가 생김. \n",
    "    - autopep8 패키지 설치\n",
    "    - `$ pip install autopep8` | `$ conda install -c conda-forge autopep8`(참고로 conda-forge 이게 저장소 이름. 대부분 패키지들 conda-forge 혹은 anaconda라는 저장소로 되어 있는것을 설치하는게 좋음. 다른 저장소 꼬이는 경우 많음)\n",
    "    - nbextensions_config메뉴로 들어가서 autopep8 체크\n",
    "    - 체크하면, 상단 markdown 드롭박스 옆 키보드 옆에 망치모양이 생김. \n",
    "    - 단일셀 : ctrl + l , 모든셀 : ctrl + shift + l 누르면 됨. "
   ]
  },
  {
   "cell_type": "code",
   "execution_count": 1,
   "metadata": {},
   "outputs": [
    {
     "data": {
      "text/plain": [
       "2"
      ]
     },
     "execution_count": 1,
     "metadata": {},
     "output_type": "execute_result"
    }
   ],
   "source": [
    "a = 1\n",
    "b = 1\n",
    "a+b"
   ]
  },
  {
   "cell_type": "code",
   "execution_count": 3,
   "metadata": {},
   "outputs": [],
   "source": [
    "def test(a): print(a)"
   ]
  },
  {
   "cell_type": "code",
   "execution_count": null,
   "metadata": {},
   "outputs": [],
   "source": []
  },
  {
   "cell_type": "code",
   "execution_count": null,
   "metadata": {},
   "outputs": [],
   "source": []
  },
  {
   "cell_type": "markdown",
   "metadata": {},
   "source": [
    "한글 설정 방법"
   ]
  },
  {
   "cell_type": "markdown",
   "metadata": {},
   "source": [
    "[데이터사이언스 스쿨(아래로 드래그 조금 하면 있음)](https://datascienceschool.net/01%20python/05.01%20%EC%8B%9C%EA%B0%81%ED%99%94%20%ED%8C%A8%ED%82%A4%EC%A7%80%20%EB%A7%B7%ED%94%8C%EB%A1%AF%EB%A6%AC%EB%B8%8C%20%EC%86%8C%EA%B0%9C.html)"
   ]
  },
  {
   "cell_type": "code",
   "execution_count": null,
   "metadata": {},
   "outputs": [],
   "source": []
  },
  {
   "cell_type": "markdown",
   "metadata": {},
   "source": [
    "### Jupyter Notebook Font Change"
   ]
  },
  {
   "cell_type": "markdown",
   "metadata": {},
   "source": [
    "[D2Coding Font from Naver](https://github.com/naver/d2codingfont)"
   ]
  },
  {
   "cell_type": "markdown",
   "metadata": {},
   "source": [
    "- download 후 압축 풀기 \n",
    "- `D2CodingAll` - `D2Coding-Ver1.3.2-20180524-all.ttc`\n",
    "- 이 파일을 `D2Coding.ttc`로 이름 변경(just for using easily)\n",
    "\n",
    "- Customer Directory 생성\n",
    "    - `mkdir -p ~/.jupyter/custom`\n",
    "    - `-p`: 기입한 상위 디렉토리부터 쭉 한번에 생성해 주는 것(ex, jupyter가 없으면 거기부터 생성)\n",
    "- `~/.jupyter/custom`로 `D2Coding.ttc` 파일 이동 \n",
    "    - `cp D2Coding.ttc ~/.jupyter/custom` or `mv`\n",
    "\n",
    "- custom directory 내부 custom.css 파일 작성\n",
    "    - vi custom.css\n",
    "<pre>\n",
    "        @font-face{\n",
    "        font-family: d2coding;\n",
    "        src: url(./D2Coding.ttc)\n",
    "}\n",
    "body, code, kde, pre, samp{\n",
    "        font-family: d2coding !important;\n",
    "}\n",
    "</pre>\n"
   ]
  },
  {
   "cell_type": "code",
   "execution_count": null,
   "metadata": {},
   "outputs": [],
   "source": []
  },
  {
   "cell_type": "code",
   "execution_count": null,
   "metadata": {},
   "outputs": [],
   "source": []
  },
  {
   "cell_type": "code",
   "execution_count": null,
   "metadata": {},
   "outputs": [],
   "source": []
  }
 ],
 "metadata": {
  "kernelspec": {
   "display_name": "Python 3",
   "language": "python",
   "name": "python3"
  },
  "language_info": {
   "codemirror_mode": {
    "name": "ipython",
    "version": 3
   },
   "file_extension": ".py",
   "mimetype": "text/x-python",
   "name": "python",
   "nbconvert_exporter": "python",
   "pygments_lexer": "ipython3",
   "version": "3.8.5"
  }
 },
 "nbformat": 4,
 "nbformat_minor": 5
}
