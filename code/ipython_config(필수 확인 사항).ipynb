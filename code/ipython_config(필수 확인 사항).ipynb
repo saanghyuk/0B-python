{
 "cells": [
  {
   "cell_type": "markdown",
   "id": "a7ff2298",
   "metadata": {},
   "source": [
    "### ipython 설정\n",
    "- startup 파일 설정\n",
    "    - 주피터 노트북 실행시 미리 실행되는 코드 설정(import numpy as np 이런것을 미리 실행되게 하는 것. )\n",
    "    - 설정 방법\n",
    "        - 프로필 파일 생성 : `$ ipython profile create` (위치 상관 없음. ipython directory에 생김)\n",
    "        - `cd ~/.ipython/profile_default/startup/`\n",
    "        - 이 디렉토리 안에 README.MD가 있음. 그것을 요약하면, 파일 번호에 따라서, 주피터노트북이 실행될때 해당 코드들이 순차적으로 실행된다는 것.\n",
    "        - ` vi 00-first.py`\n",
    "        - startup 파일 생성"
   ]
  },
  {
   "cell_type": "markdown",
   "id": "125028cd",
   "metadata": {},
   "source": [
    "### 인라인 블록 없이 그래프 그릴 수 있는 셋팅\n",
    "- inline backend config\n",
    "    - 매직 커맨드 설정 없이 바로 그래프 그릴 수 있도록 설정\n",
    "    - `vi ~/.ipython/profile_default/ipython_kernel_config.py`\n",
    "    - 해당 파일 맨 마지막 하단 코드 붙여넣기\n",
    "       \n",
    "    ```c.IPKernelApp.matplotlib = 'inline'\n",
    "       c.InlineBackend.figure_format = 'retina'```"
   ]
  },
  {
   "cell_type": "code",
   "execution_count": null,
   "id": "175c5bf0",
   "metadata": {},
   "outputs": [],
   "source": []
  },
  {
   "cell_type": "markdown",
   "id": "ebb8d395",
   "metadata": {},
   "source": [
    "### autopep8 기능 추가\n",
    "- nbextentions config 설치 \n",
    "    - `$ conda install -c conda-forge jupyter_contrib_nbextensions`\n",
    "    - 이걸 설치 하면 상단에서 Edit 메뉴 들어갔을 때, `nbextensions_config`라는 메뉴가 생김. \n",
    "    - autopep8 패키지 설치\n",
    "    - `$ pip install autopep8` | `$ conda install -c conda-forge autopep8`(참고로 conda-forge 이게 저장소 이름. 대부분 패키지들 conda-forge 혹은 anaconda라는 저장소로 되어 있는것을 설치하는게 좋음. 다른 저장소 꼬이는 경우 많음)\n",
    "    - nbextensions_config메뉴로 들어가서 autopep8 체크\n",
    "    - 체크하면, 상단 markdown 드롭박스 옆 키보드 옆에 망치모양이 생김. \n",
    "    - 단일셀 : ctrl + l , 모든셀 : ctrl + shift + l 누르면 됨. "
   ]
  },
  {
   "cell_type": "code",
   "execution_count": 1,
   "id": "73ad02b5",
   "metadata": {},
   "outputs": [
    {
     "data": {
      "text/plain": [
       "2"
      ]
     },
     "execution_count": 1,
     "metadata": {},
     "output_type": "execute_result"
    }
   ],
   "source": [
    "a = 1\n",
    "b = 1\n",
    "a+b"
   ]
  },
  {
   "cell_type": "code",
   "execution_count": 3,
   "id": "224e8b4c",
   "metadata": {},
   "outputs": [],
   "source": [
    "def test(a):\n",
    "    print(a)"
   ]
  },
  {
   "cell_type": "code",
   "execution_count": null,
   "id": "3be1bf18",
   "metadata": {},
   "outputs": [],
   "source": []
  }
 ],
 "metadata": {
  "kernelspec": {
   "display_name": "Python 3",
   "language": "python",
   "name": "python3"
  },
  "language_info": {
   "codemirror_mode": {
    "name": "ipython",
    "version": 3
   },
   "file_extension": ".py",
   "mimetype": "text/x-python",
   "name": "python",
   "nbconvert_exporter": "python",
   "pygments_lexer": "ipython3",
   "version": "3.9.1"
  }
 },
 "nbformat": 4,
 "nbformat_minor": 5
}
