{
 "cells": [
  {
   "cell_type": "markdown",
   "id": "2d98b243",
   "metadata": {},
   "source": [
    "### 함수\n",
    "- 반복되는 코드를 묶음으로 효율적인 코드를 작성하도록 해주는 기능\n",
    "- 기본 함수\n",
    "- 파라미터와 아규먼트\n",
    "- 리턴\n",
    "- `*args`, `**kwargs`\n",
    "- docstring\n",
    "- scope\n",
    "- inner function\n",
    "- lambda function\n",
    "- Map, Filter, Reduce\n",
    "- Decorator"
   ]
  },
  {
   "cell_type": "markdown",
   "id": "26b4ae79",
   "metadata": {},
   "source": [
    "### 1. 기본함수\n",
    "- 선언과 호출"
   ]
  },
  {
   "cell_type": "code",
   "execution_count": 1,
   "id": "049695f0",
   "metadata": {},
   "outputs": [
    {
     "name": "stdout",
     "output_type": "stream",
     "text": [
      "B\n"
     ]
    }
   ],
   "source": [
    "point = 88\n",
    "\n",
    "if point >= 90:\n",
    "    print(\"A\")\n",
    "elif point >= 80:\n",
    "    print(\"B\")\n",
    "else:\n",
    "    print(C)"
   ]
  },
  {
   "cell_type": "code",
   "execution_count": 3,
   "id": "b8f49c4c",
   "metadata": {},
   "outputs": [],
   "source": [
    "# 함수 선언\n",
    "def grade(point):\n",
    "    if point >= 90:\n",
    "        print(\"A\")\n",
    "    elif point >= 80:\n",
    "        print(\"B\")\n",
    "    else:\n",
    "        print(\"C\")"
   ]
  },
  {
   "cell_type": "code",
   "execution_count": 4,
   "id": "fe447598",
   "metadata": {
    "scrolled": true
   },
   "outputs": [
    {
     "name": "stdout",
     "output_type": "stream",
     "text": [
      "B\n"
     ]
    }
   ],
   "source": [
    "# 함수 호출\n",
    "grade(88)"
   ]
  },
  {
   "cell_type": "code",
   "execution_count": 9,
   "id": "bf21c3c5",
   "metadata": {
    "scrolled": true
   },
   "outputs": [
    {
     "name": "stdout",
     "output_type": "stream",
     "text": [
      "Variable   Type        Data/Info\n",
      "--------------------------------\n",
      "grade      function    <function grade at 0x7fd7f615bb70>\n",
      "point      int         88\n",
      "point3     str         hi\n"
     ]
    }
   ],
   "source": [
    "%whos"
   ]
  },
  {
   "cell_type": "code",
   "execution_count": null,
   "id": "bc1657b1",
   "metadata": {},
   "outputs": [],
   "source": [
    "\n"
   ]
  },
  {
   "cell_type": "markdown",
   "id": "d15233cc",
   "metadata": {},
   "source": [
    "### 2. 파라미터와 아규먼트 \n",
    "- 파라미터 : 함수를 선언할 때 호출하는 부분에서 보내주는 데이터를 받는 변수\n",
    "- 아규먼트 : 함수를 호출할 때 보내주는 데이터"
   ]
  },
  {
   "cell_type": "code",
   "execution_count": 1,
   "id": "939d0fdf",
   "metadata": {},
   "outputs": [],
   "source": [
    "def plus(num1, num2):\n",
    "    print(num1+num2)"
   ]
  },
  {
   "cell_type": "code",
   "execution_count": 2,
   "id": "826e4de4",
   "metadata": {},
   "outputs": [
    {
     "name": "stdout",
     "output_type": "stream",
     "text": [
      "3\n"
     ]
    }
   ],
   "source": [
    "plus(1, 2)"
   ]
  },
  {
   "cell_type": "code",
   "execution_count": 3,
   "id": "24b28d88",
   "metadata": {},
   "outputs": [],
   "source": [
    "# default parameter 생성\n",
    "def plus(num1=10, num2=3):\n",
    "    print(num1+num2)"
   ]
  },
  {
   "cell_type": "code",
   "execution_count": 6,
   "id": "9f67a45a",
   "metadata": {},
   "outputs": [
    {
     "name": "stdout",
     "output_type": "stream",
     "text": [
      "15\n"
     ]
    }
   ],
   "source": [
    "plus(num2 = 5)"
   ]
  },
  {
   "cell_type": "code",
   "execution_count": 7,
   "id": "b0df842e",
   "metadata": {},
   "outputs": [
    {
     "name": "stdout",
     "output_type": "stream",
     "text": [
      "13\n"
     ]
    }
   ],
   "source": [
    "# 키워드 아규먼트 \n",
    "plus(3, num2 = 10) #이렇게 Num2라고 쓰면 됨. "
   ]
  },
  {
   "cell_type": "code",
   "execution_count": null,
   "id": "d1de6a2f",
   "metadata": {},
   "outputs": [],
   "source": []
  },
  {
   "cell_type": "code",
   "execution_count": null,
   "id": "d08b6944",
   "metadata": {},
   "outputs": [],
   "source": []
  },
  {
   "cell_type": "markdown",
   "id": "08ea8b6a",
   "metadata": {},
   "source": [
    "### 3. 리턴\n",
    "- 함수를 실행한 결과를 저장하고 싶을 때 사용합니다. \n",
    "- return"
   ]
  },
  {
   "cell_type": "code",
   "execution_count": 11,
   "id": "2bdc2c46",
   "metadata": {},
   "outputs": [],
   "source": [
    "def plus(num1, num2):\n",
    "    print(num1 + num2)\n",
    "    return num1 + num2"
   ]
  },
  {
   "cell_type": "code",
   "execution_count": 12,
   "id": "57639a08",
   "metadata": {},
   "outputs": [
    {
     "name": "stdout",
     "output_type": "stream",
     "text": [
      "3\n",
      "3\n"
     ]
    }
   ],
   "source": [
    "result = plus(1, 2)\n",
    "print(result)"
   ]
  },
  {
   "cell_type": "code",
   "execution_count": 15,
   "id": "f9bf8ccc",
   "metadata": {},
   "outputs": [
    {
     "ename": "AttributeError",
     "evalue": "'str' object has no attribute 'sort'",
     "output_type": "error",
     "traceback": [
      "\u001b[0;31m---------------------------------------------------------------------------\u001b[0m",
      "\u001b[0;31mAttributeError\u001b[0m                            Traceback (most recent call last)",
      "\u001b[0;32m<ipython-input-15-bdedf90770a4>\u001b[0m in \u001b[0;36m<module>\u001b[0;34m\u001b[0m\n\u001b[1;32m      1\u001b[0m \u001b[0mresult1\u001b[0m \u001b[0;34m=\u001b[0m \u001b[0mdata\u001b[0m\u001b[0;34m.\u001b[0m\u001b[0mupper\u001b[0m\u001b[0;34m(\u001b[0m\u001b[0;34m)\u001b[0m\u001b[0;34m\u001b[0m\u001b[0;34m\u001b[0m\u001b[0m\n\u001b[0;32m----> 2\u001b[0;31m \u001b[0mresult2\u001b[0m \u001b[0;34m=\u001b[0m \u001b[0mdata\u001b[0m\u001b[0;34m.\u001b[0m\u001b[0msort\u001b[0m\u001b[0;34m(\u001b[0m\u001b[0;34m)\u001b[0m\u001b[0;34m\u001b[0m\u001b[0;34m\u001b[0m\u001b[0m\n\u001b[0m",
      "\u001b[0;31mAttributeError\u001b[0m: 'str' object has no attribute 'sort'"
     ]
    }
   ],
   "source": [
    "# result1 = data.upper()\n",
    "# result2 = data.sort()"
   ]
  },
  {
   "cell_type": "code",
   "execution_count": 22,
   "id": "b1888dee",
   "metadata": {},
   "outputs": [],
   "source": [
    "# return 은 함수를 강제로 종료시키는 기능도 있음. \n",
    "def echo(msg):\n",
    "    if msg == \"quit\":\n",
    "        return\n",
    "    print(msg)"
   ]
  },
  {
   "cell_type": "code",
   "execution_count": 23,
   "id": "61f2cdb3",
   "metadata": {},
   "outputs": [
    {
     "name": "stdout",
     "output_type": "stream",
     "text": [
      "python\n"
     ]
    }
   ],
   "source": [
    "echo(\"python\")"
   ]
  },
  {
   "cell_type": "code",
   "execution_count": 24,
   "id": "6d820655",
   "metadata": {},
   "outputs": [],
   "source": [
    "echo(\"quit\")"
   ]
  },
  {
   "cell_type": "code",
   "execution_count": null,
   "id": "268ac491",
   "metadata": {},
   "outputs": [],
   "source": []
  },
  {
   "cell_type": "markdown",
   "id": "a9b137cd",
   "metadata": {},
   "source": [
    "### 4. `*args`, `**kwargs`\n",
    "- 함수를 호출할 때 아규먼트와 키워드 아규먼트의 갯수를 특정지을 수 없을 떄 사용"
   ]
  },
  {
   "cell_type": "code",
   "execution_count": 25,
   "id": "618ef066",
   "metadata": {},
   "outputs": [],
   "source": [
    "def plus(num1, num2):\n",
    "    return num1, num2"
   ]
  },
  {
   "cell_type": "code",
   "execution_count": 26,
   "id": "dfea8af8",
   "metadata": {},
   "outputs": [],
   "source": [
    "def plus(*args):\n",
    "    print(type(args), args)\n",
    "    return sum(args)"
   ]
  },
  {
   "cell_type": "code",
   "execution_count": 27,
   "id": "3f96d644",
   "metadata": {},
   "outputs": [
    {
     "name": "stdout",
     "output_type": "stream",
     "text": [
      "<class 'tuple'> (1, 2, 3, 4, 6)\n"
     ]
    },
    {
     "data": {
      "text/plain": [
       "16"
      ]
     },
     "execution_count": 27,
     "metadata": {},
     "output_type": "execute_result"
    }
   ],
   "source": [
    "plus(1, 2, 3, 4, 6)"
   ]
  },
  {
   "cell_type": "code",
   "execution_count": 44,
   "id": "f46df1ff",
   "metadata": {},
   "outputs": [],
   "source": [
    "def plus(*args, **kargs):\n",
    "    print(type(args), args)\n",
    "    print(type(kargs), kargs)\n",
    "    return sum(args)+sum(kargs.values())"
   ]
  },
  {
   "cell_type": "code",
   "execution_count": 45,
   "id": "b75e5a89",
   "metadata": {},
   "outputs": [
    {
     "name": "stdout",
     "output_type": "stream",
     "text": [
      "<class 'tuple'> (1, 2, 3, 4, 5)\n",
      "<class 'dict'> {'num': 6, 'num2': 7}\n"
     ]
    },
    {
     "data": {
      "text/plain": [
       "28"
      ]
     },
     "execution_count": 45,
     "metadata": {},
     "output_type": "execute_result"
    }
   ],
   "source": [
    "plus(1, 2, 3, 4, 5, num=6, num2=7)"
   ]
  },
  {
   "cell_type": "code",
   "execution_count": 50,
   "id": "70c37986",
   "metadata": {},
   "outputs": [],
   "source": [
    "# 인자 넘길때는 *"
   ]
  },
  {
   "cell_type": "code",
   "execution_count": 51,
   "id": "d742678e",
   "metadata": {},
   "outputs": [
    {
     "data": {
      "text/plain": [
       "(1, 2, 3)"
      ]
     },
     "execution_count": 51,
     "metadata": {},
     "output_type": "execute_result"
    }
   ],
   "source": [
    "def func(num1, num2, num3):\n",
    "    return num1, num2, num3\n",
    "data = [1, 2, 3]\n",
    "func(*data) # 리스를 풀어서 주는 것. func(1, 2, 3으로 주는 것과 동일함)"
   ]
  },
  {
   "cell_type": "code",
   "execution_count": 52,
   "id": "b86bfddb",
   "metadata": {},
   "outputs": [],
   "source": [
    "# keyword argument 넘길때는 **"
   ]
  },
  {
   "cell_type": "code",
   "execution_count": 53,
   "id": "3326b003",
   "metadata": {},
   "outputs": [
    {
     "data": {
      "text/plain": [
       "(1, 2, 3)"
      ]
     },
     "execution_count": 53,
     "metadata": {},
     "output_type": "execute_result"
    }
   ],
   "source": [
    "def func(num1, num2, num3):\n",
    "    return num1, num2, num3\n",
    "data = [1, 2, 3]\n",
    "func(*data) # 리스를 풀어서 주는 것. func(1, 2, 3으로 주는 것과 동일함)"
   ]
  },
  {
   "cell_type": "code",
   "execution_count": 54,
   "id": "8c7c3a7f",
   "metadata": {},
   "outputs": [
    {
     "data": {
      "text/plain": [
       "(1, 100, 200)"
      ]
     },
     "execution_count": 54,
     "metadata": {},
     "output_type": "execute_result"
    }
   ],
   "source": [
    "data = {\n",
    "    \"num2\": 100,\n",
    "    \"num3\": 200\n",
    "}\n",
    "func(1, **data) # func(1, num2 = 100, num3 = 200)과 동일한 호출"
   ]
  },
  {
   "cell_type": "code",
   "execution_count": 55,
   "id": "2eb50451",
   "metadata": {},
   "outputs": [
    {
     "name": "stdout",
     "output_type": "stream",
     "text": [
      "Once deleted, variables cannot be recovered. Proceed (y/[n])? y\n"
     ]
    }
   ],
   "source": [
    "%reset"
   ]
  },
  {
   "cell_type": "code",
   "execution_count": null,
   "id": "9898fa62",
   "metadata": {},
   "outputs": [],
   "source": []
  },
  {
   "cell_type": "code",
   "execution_count": null,
   "id": "c074ca21",
   "metadata": {},
   "outputs": [],
   "source": []
  },
  {
   "cell_type": "code",
   "execution_count": null,
   "id": "ee289e84",
   "metadata": {},
   "outputs": [],
   "source": [
    "# 문장을 입력 받아서, 문법에 맞도록 결과를 출력하는 코드를 작성\n",
    "# python Language Is the best language\n",
    "# Python Language is the best language."
   ]
  },
  {
   "cell_type": "code",
   "execution_count": 64,
   "id": "9642ab4b",
   "metadata": {},
   "outputs": [
    {
     "name": "stdout",
     "output_type": "stream",
     "text": [
      "input sentencepython Language Is the best language\n",
      "Python language is the best language.\n"
     ]
    }
   ],
   "source": [
    "sentence = input(\"input sentence\")\n",
    "lower = sentence.lower()\n",
    "lower = lower.replace(lower[0], lower[0].upper())\n",
    "if lower[:-1]!=\".\":\n",
    "    lower = lower+\".\"\n",
    "print(lower)"
   ]
  },
  {
   "cell_type": "code",
   "execution_count": 67,
   "id": "2df277d4",
   "metadata": {},
   "outputs": [
    {
     "name": "stdout",
     "output_type": "stream",
     "text": [
      "input sentencepython Language Is the best language\n"
     ]
    },
    {
     "data": {
      "text/plain": [
       "'Python language is the best language.'"
      ]
     },
     "execution_count": 67,
     "metadata": {},
     "output_type": "execute_result"
    }
   ],
   "source": [
    "# 1. 문자열 입력 받기\n",
    "sentence = input(\"input sentence\")\n",
    "# 2. 모두 소문자로 변경\n",
    "result = sentence.lower()\n",
    "# 3. 가장 앞 글자를 대문자로 변경\n",
    "result = result[0].upper() + result[1:]\n",
    "# 4. 마지막 문자가 . 인지 확인해서 .이 아니면, .를 추가. \n",
    "if result[-1] != \".\":\n",
    "    result += \".\"\n",
    "result"
   ]
  },
  {
   "cell_type": "code",
   "execution_count": null,
   "id": "3a385655",
   "metadata": {},
   "outputs": [],
   "source": []
  },
  {
   "cell_type": "code",
   "execution_count": null,
   "id": "0ea627db",
   "metadata": {},
   "outputs": [],
   "source": []
  },
  {
   "cell_type": "code",
   "execution_count": 80,
   "id": "95f677e8",
   "metadata": {},
   "outputs": [
    {
     "data": {
      "text/plain": [
       "[1, 3, 5, 13, 34, 35]"
      ]
     },
     "execution_count": 80,
     "metadata": {},
     "output_type": "execute_result"
    }
   ],
   "source": [
    "# 6자리 로또번호를 생성하는 코드를 작성하세요\n",
    "# 6자리의 번호는 중복이 없어야 한다. \n",
    "import random\n",
    "random.randint(1, 45)\n",
    "\n",
    "lotto = []\n",
    "while True:\n",
    "    if len(lotto) == 6:\n",
    "        lotto.sort()\n",
    "        break\n",
    "    rand_num = random.randint(1, 45)\n",
    "    if rand_num not in lotto:\n",
    "        lotto.append(rand_num)\n",
    "lotto"
   ]
  },
  {
   "cell_type": "code",
   "execution_count": null,
   "id": "29325c41",
   "metadata": {},
   "outputs": [],
   "source": []
  },
  {
   "cell_type": "code",
   "execution_count": null,
   "id": "27cf6cff",
   "metadata": {},
   "outputs": [],
   "source": []
  },
  {
   "cell_type": "markdown",
   "id": "3f7d6d37",
   "metadata": {},
   "source": [
    "### 1. Docstring\n",
    "- 함수의 설명을 작성\n",
    "- shift+tab, echo?, echo??, help(echo), echo.doc 이런 방법으로 Docstring 확인 가능\n"
   ]
  },
  {
   "cell_type": "code",
   "execution_count": 93,
   "id": "5f246ac1",
   "metadata": {},
   "outputs": [],
   "source": [
    "def echo(msg):\n",
    "    \"echo print msg\"\n",
    "    print(msg)\n",
    "# 멀티라인으로 쓸때는 \"\"\"\"\"\"\n",
    "def echo2(msg):\n",
    "    \"\"\"\n",
    "    echo func return its input argument\n",
    "    The operation is \n",
    "        1. print\n",
    "        2. return message\n",
    "    param : msg : str\n",
    "    return : str \n",
    "    \"\"\"\n",
    "    print(msg)"
   ]
  },
  {
   "cell_type": "code",
   "execution_count": 92,
   "id": "f62775d6",
   "metadata": {},
   "outputs": [
    {
     "data": {
      "text/plain": [
       "'echo print msg'"
      ]
     },
     "execution_count": 92,
     "metadata": {},
     "output_type": "execute_result"
    }
   ],
   "source": [
    "echo.__doc__"
   ]
  },
  {
   "cell_type": "code",
   "execution_count": null,
   "id": "aaa05506",
   "metadata": {},
   "outputs": [],
   "source": []
  },
  {
   "cell_type": "markdown",
   "id": "a8483163",
   "metadata": {},
   "source": [
    "### 2. Scope 범위\n",
    "- 함수 안에서 선언되는 변수와 함수 밖에서 선언되는 변수의 범위가 다르다. \n",
    "- gloabl(전역), local(지역)"
   ]
  },
  {
   "cell_type": "code",
   "execution_count": 95,
   "id": "c7353fef",
   "metadata": {},
   "outputs": [
    {
     "name": "stdout",
     "output_type": "stream",
     "text": [
      "10\n"
     ]
    }
   ],
   "source": [
    "# global \n",
    "gv = 10\n",
    "\n",
    "def echo():\n",
    "    print(gv)\n",
    "echo()"
   ]
  },
  {
   "cell_type": "code",
   "execution_count": 105,
   "id": "5547addd",
   "metadata": {},
   "outputs": [
    {
     "name": "stdout",
     "output_type": "stream",
     "text": [
      "100\n",
      "4526838144\n",
      "10\n",
      "4526835264\n"
     ]
    }
   ],
   "source": [
    "# local\n",
    "gv = 10\n",
    "\n",
    "def echo():\n",
    "    gv = 100\n",
    "    print(gv)\n",
    "    print(id(gv))\n",
    "echo()\n",
    "print(gv)\n",
    "print(id(gv))"
   ]
  },
  {
   "cell_type": "markdown",
   "id": "45ffe158",
   "metadata": {},
   "source": [
    "그런데, 전역변수는 함수를 호출하든 안하든 메모리를 잡아먹고 있음. <br>\n",
    "그에 비해, 로컬변수는 함수가 실행되야만 메모리를 잡아먹음.<br>\n",
    "그래서 최대한 꼭 필요한거 아니면 다 로컬 변수 위주로 코딩하는게 좋다. "
   ]
  },
  {
   "cell_type": "code",
   "execution_count": 103,
   "id": "f7f134af",
   "metadata": {},
   "outputs": [
    {
     "name": "stdout",
     "output_type": "stream",
     "text": [
      "100\n",
      "100\n"
     ]
    }
   ],
   "source": [
    "# local\n",
    "gv = 10\n",
    "\n",
    "def echo():\n",
    "    global gv # global을 사용하겠다. \n",
    "    gv = 100\n",
    "    print(gv)\n",
    "echo()\n",
    "print(gv) # gv가 100이 출력되도록 하려면?"
   ]
  },
  {
   "cell_type": "code",
   "execution_count": null,
   "id": "b813c8df",
   "metadata": {},
   "outputs": [],
   "source": []
  },
  {
   "cell_type": "markdown",
   "id": "ea518821",
   "metadata": {},
   "source": [
    "### 3. Inner Function\n",
    "- 함수가 지역영역에 선언, 함수 안에 함수가 선언."
   ]
  },
  {
   "cell_type": "code",
   "execution_count": 119,
   "id": "22ee7515",
   "metadata": {},
   "outputs": [],
   "source": [
    "def outer(a, b):\n",
    "    def inner(c, d):\n",
    "        return c+d\n",
    "    return inner(a, b)"
   ]
  },
  {
   "cell_type": "code",
   "execution_count": 120,
   "id": "8ae452a3",
   "metadata": {},
   "outputs": [
    {
     "name": "stdout",
     "output_type": "stream",
     "text": [
      "3\n"
     ]
    },
    {
     "data": {
      "text/plain": [
       "3"
      ]
     },
     "execution_count": 120,
     "metadata": {},
     "output_type": "execute_result"
    }
   ],
   "source": [
    "outer(1, 2)\n",
    "# inner(1, 2) 지역 함수를 전역에서 호출 불가"
   ]
  },
  {
   "cell_type": "code",
   "execution_count": 127,
   "id": "228a83aa",
   "metadata": {},
   "outputs": [],
   "source": [
    "def outer(a, b):\n",
    "    def inner(c, d):\n",
    "        print(a+b)\n",
    "        return c+d\n",
    "    return inner"
   ]
  },
  {
   "cell_type": "code",
   "execution_count": 128,
   "id": "fee92056",
   "metadata": {},
   "outputs": [
    {
     "name": "stdout",
     "output_type": "stream",
     "text": [
      "3\n",
      "7\n"
     ]
    }
   ],
   "source": [
    "print(outer(1, 2)(3, 4)) #inner(3, 4)"
   ]
  },
  {
   "cell_type": "code",
   "execution_count": null,
   "id": "c96ae3ea",
   "metadata": {},
   "outputs": [],
   "source": []
  },
  {
   "cell_type": "code",
   "execution_count": 129,
   "id": "87964796",
   "metadata": {},
   "outputs": [],
   "source": [
    "# callbak function : 함수를 argument parameter로 설정해서 사용"
   ]
  },
  {
   "cell_type": "code",
   "execution_count": 130,
   "id": "a280951f",
   "metadata": {},
   "outputs": [],
   "source": [
    "def calc(func, a, b):\n",
    "    return func(a, b)"
   ]
  },
  {
   "cell_type": "code",
   "execution_count": 136,
   "id": "a8e99556",
   "metadata": {},
   "outputs": [],
   "source": [
    "def plus(a, b):\n",
    "    return a+b"
   ]
  },
  {
   "cell_type": "code",
   "execution_count": 137,
   "id": "19c8d0d4",
   "metadata": {},
   "outputs": [],
   "source": [
    "def minus(a, b):\n",
    "    return a-b"
   ]
  },
  {
   "cell_type": "code",
   "execution_count": 140,
   "id": "e975d0bc",
   "metadata": {},
   "outputs": [],
   "source": [
    "# 이게 콜백 function "
   ]
  },
  {
   "cell_type": "code",
   "execution_count": 141,
   "id": "7bc18f29",
   "metadata": {},
   "outputs": [
    {
     "data": {
      "text/plain": [
       "5"
      ]
     },
     "execution_count": 141,
     "metadata": {},
     "output_type": "execute_result"
    }
   ],
   "source": [
    "calc(plus, 3, 2)"
   ]
  },
  {
   "cell_type": "code",
   "execution_count": 142,
   "id": "9e06d2c7",
   "metadata": {},
   "outputs": [
    {
     "data": {
      "text/plain": [
       "1"
      ]
     },
     "execution_count": 142,
     "metadata": {},
     "output_type": "execute_result"
    }
   ],
   "source": [
    "calc(minus, 3, 2)"
   ]
  },
  {
   "cell_type": "code",
   "execution_count": null,
   "id": "038adaab",
   "metadata": {},
   "outputs": [],
   "source": []
  },
  {
   "cell_type": "code",
   "execution_count": null,
   "id": "6281e75f",
   "metadata": {},
   "outputs": [],
   "source": []
  },
  {
   "cell_type": "markdown",
   "id": "8f7169c3",
   "metadata": {},
   "source": [
    "### 4. lambda function\n",
    "- 파라미터를 간단한 계산으로 리턴되는 함수 : 삼항연산과 약간 비슷한 함수. \n",
    "- 한줄짜리 함수"
   ]
  },
  {
   "cell_type": "code",
   "execution_count": 143,
   "id": "619dab3f",
   "metadata": {},
   "outputs": [],
   "source": [
    "def plus(a, b):\n",
    "    return a+b"
   ]
  },
  {
   "cell_type": "code",
   "execution_count": 145,
   "id": "59d2e55c",
   "metadata": {},
   "outputs": [
    {
     "data": {
      "text/plain": [
       "3"
      ]
     },
     "execution_count": 145,
     "metadata": {},
     "output_type": "execute_result"
    }
   ],
   "source": [
    "plus(1, 2)"
   ]
  },
  {
   "cell_type": "code",
   "execution_count": 148,
   "id": "df828241",
   "metadata": {},
   "outputs": [],
   "source": [
    "plus2 = lambda a, b : a+b # parameter, return 순서"
   ]
  },
  {
   "cell_type": "code",
   "execution_count": 149,
   "id": "77ed174f",
   "metadata": {},
   "outputs": [
    {
     "data": {
      "text/plain": [
       "5"
      ]
     },
     "execution_count": 149,
     "metadata": {},
     "output_type": "execute_result"
    }
   ],
   "source": [
    "plus2(2, 3)"
   ]
  },
  {
   "cell_type": "code",
   "execution_count": 151,
   "id": "e85b5308",
   "metadata": {},
   "outputs": [
    {
     "data": {
      "text/plain": [
       "7"
      ]
     },
     "execution_count": 151,
     "metadata": {},
     "output_type": "execute_result"
    }
   ],
   "source": [
    "# calc도 다시 써보자. \n",
    "calc(lambda a, b : a+b, 3, 4)"
   ]
  },
  {
   "cell_type": "code",
   "execution_count": 152,
   "id": "1661e997",
   "metadata": {},
   "outputs": [
    {
     "data": {
      "text/plain": [
       "7"
      ]
     },
     "execution_count": 152,
     "metadata": {},
     "output_type": "execute_result"
    }
   ],
   "source": [
    "calc(plus, 3, 4)"
   ]
  },
  {
   "cell_type": "code",
   "execution_count": null,
   "id": "10efe331",
   "metadata": {},
   "outputs": [],
   "source": [
    "# 람다는 따로 함수를 정의하는게 아니라, 호출되면서 만들고 없애버리는 것. \n",
    "# 굉장히 메모리 효율적이다. "
   ]
  },
  {
   "cell_type": "code",
   "execution_count": null,
   "id": "067adb0e",
   "metadata": {},
   "outputs": [],
   "source": []
  },
  {
   "cell_type": "code",
   "execution_count": null,
   "id": "1e48bd12",
   "metadata": {},
   "outputs": [],
   "source": []
  },
  {
   "cell_type": "markdown",
   "id": "351c3810",
   "metadata": {},
   "source": [
    "### 5. map, filter, reduce\n",
    "- map: 순서가 있는 데이터 집합에서 모든 값에 함수를 적용시킨 결과를 출력시켜 준다. \n",
    "- map은 리스트 안에 모든 요소들에 각각 func을 적용해 주는 것. \n",
    "- map 에서 리스트 2개가 올수도 있음. (x1, x2)이렇게 인자로 들어가게 하는 것. "
   ]
  },
  {
   "cell_type": "code",
   "execution_count": 153,
   "id": "67029071",
   "metadata": {},
   "outputs": [
    {
     "data": {
      "text/plain": [
       "('odd', 'even')"
      ]
     },
     "execution_count": 153,
     "metadata": {},
     "output_type": "execute_result"
    }
   ],
   "source": [
    "ls = [1, 2, 3, 4]\n",
    "def odd_even(num):\n",
    "    return \"odd\" if num % 2 else \"even\"\n",
    "\n",
    "odd_even(3), odd_even(100)"
   ]
  },
  {
   "cell_type": "code",
   "execution_count": 155,
   "id": "34669963",
   "metadata": {},
   "outputs": [
    {
     "data": {
      "text/plain": [
       "['odd', 'even', 'odd', 'even']"
      ]
     },
     "execution_count": 155,
     "metadata": {},
     "output_type": "execute_result"
    }
   ],
   "source": [
    "list(map(odd_even, ls))"
   ]
  },
  {
   "cell_type": "code",
   "execution_count": 156,
   "id": "665dc4f6",
   "metadata": {},
   "outputs": [],
   "source": [
    "# input함수로 구분자는 \" \"으로 여러개의 숫자를 입력 받습니다. \n",
    "# str.split(\" \")리스트로 만들고\n",
    "# 만들어진 리스트의 값들을 정수로 int 형변환"
   ]
  },
  {
   "cell_type": "code",
   "execution_count": 158,
   "id": "09609096",
   "metadata": {},
   "outputs": [
    {
     "name": "stdout",
     "output_type": "stream",
     "text": [
      "숫자를 입력해주세요1 2 3 5 6 1\n"
     ]
    },
    {
     "data": {
      "text/plain": [
       "[1, 2, 3, 5, 6, 1]"
      ]
     },
     "execution_count": 158,
     "metadata": {},
     "output_type": "execute_result"
    }
   ],
   "source": [
    "data =input(\"숫자를 입력해주세요 공백으로 띄어주세요\")\n",
    "str_list = data.split(\" \")\n",
    "list(map(int, str_list))"
   ]
  },
  {
   "cell_type": "code",
   "execution_count": null,
   "id": "c932960e",
   "metadata": {},
   "outputs": [],
   "source": []
  },
  {
   "cell_type": "markdown",
   "id": "a7954c79",
   "metadata": {},
   "source": [
    "#### Filter\n",
    "- 리스트 데이터에서 특정 조건에 맞는 value만 남기는 함수\n",
    "- 리스트 데이터를 각각의 함수에 넣고 True인 데이터들만 남겨 주는 것. "
   ]
  },
  {
   "cell_type": "code",
   "execution_count": 160,
   "id": "067562e2",
   "metadata": {},
   "outputs": [],
   "source": [
    "ls = range(10)"
   ]
  },
  {
   "cell_type": "code",
   "execution_count": 164,
   "id": "c6a77292",
   "metadata": {},
   "outputs": [
    {
     "data": {
      "text/plain": [
       "[1, 3, 5, 7, 9]"
      ]
     },
     "execution_count": 164,
     "metadata": {},
     "output_type": "execute_result"
    }
   ],
   "source": [
    "# 홀수만 출력, filter에 들어가는 함수는 무조건 True 혹은 False를 리턴해야 한다. \n",
    "list(filter(lambda data: True if data%2 else False, ls))"
   ]
  },
  {
   "cell_type": "code",
   "execution_count": null,
   "id": "59ffac3a",
   "metadata": {},
   "outputs": [],
   "source": []
  },
  {
   "cell_type": "markdown",
   "id": "31729f63",
   "metadata": {},
   "source": [
    "#### Reduce\n",
    "- 리스트 데이터를 처음부터 순서대로 특정 함수를 실행하여 결과를 누적시켜주는 함수"
   ]
  },
  {
   "cell_type": "code",
   "execution_count": 165,
   "id": "21f80635",
   "metadata": {},
   "outputs": [],
   "source": [
    "from functools import reduce"
   ]
  },
  {
   "cell_type": "code",
   "execution_count": 167,
   "id": "37f3f9b0",
   "metadata": {},
   "outputs": [
    {
     "data": {
      "text/plain": [
       "14"
      ]
     },
     "execution_count": 167,
     "metadata": {},
     "output_type": "execute_result"
    }
   ],
   "source": [
    "ls = [3, 1, 1, 4 ,5]\n",
    "reduce(lambda x, y : x + y, ls)"
   ]
  },
  {
   "cell_type": "code",
   "execution_count": null,
   "id": "81a9ddba",
   "metadata": {},
   "outputs": [],
   "source": []
  },
  {
   "cell_type": "code",
   "execution_count": null,
   "id": "56823220",
   "metadata": {},
   "outputs": [],
   "source": []
  },
  {
   "cell_type": "code",
   "execution_count": null,
   "id": "02828ceb",
   "metadata": {},
   "outputs": [],
   "source": []
  },
  {
   "cell_type": "markdown",
   "id": "9a1d34a2",
   "metadata": {},
   "source": [
    "### 6. Decorator\n",
    "- 함수에서 코드를 바꾸지 않고, 기능을 추가하거나 수정하고 싶을 때 사용하는 문법\n",
    "```python\n",
    "def a():\n",
    "    code_1\n",
    "    code_2\n",
    "    code_3\n",
    "```\n",
    "```python\n",
    "def b():\n",
    "    code_1\n",
    "    code_4\n",
    "    code_3 \n",
    "```\n",
    "\n",
    "이렇게 code_1, 2이렇게 쓰는게 한 40개 있다면? \n",
    "\n",
    "- 데코레이터의 사용\n",
    "```python\n",
    "def c(func):\n",
    "    def wrapper(*args, **kwargs):\n",
    "        code_1\n",
    "        result = func(*args, **kwargs)\n",
    "        code_3\n",
    "        return result\n",
    "        \n",
    "    return wrapper\n",
    "```\n",
    "\n",
    "```python\n",
    "@c\n",
    "def a():\n",
    "    code_2\n",
    "    \n",
    "@c    \n",
    "def b():\n",
    "    code_3\n",
    "```\n"
   ]
  },
  {
   "cell_type": "code",
   "execution_count": null,
   "id": "0dd7909d",
   "metadata": {},
   "outputs": [],
   "source": []
  }
 ],
 "metadata": {
  "kernelspec": {
   "display_name": "Python 3",
   "language": "python",
   "name": "python3"
  },
  "language_info": {
   "codemirror_mode": {
    "name": "ipython",
    "version": 3
   },
   "file_extension": ".py",
   "mimetype": "text/x-python",
   "name": "python",
   "nbconvert_exporter": "python",
   "pygments_lexer": "ipython3",
   "version": "3.6.13"
  }
 },
 "nbformat": 4,
 "nbformat_minor": 5
}
