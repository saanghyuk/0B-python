{
 "cells": [
  {
   "cell_type": "markdown",
   "id": "850d9d92",
   "metadata": {},
   "source": [
    "1. 아래 요구사항에 맞게 코드를 작성해주세요.\n",
    "- odd_even 함수를 만들어 주세요. (2점)\n",
    "- 숫자형 값을 두 개 받을 수 있게 해주세요. (2점)\n",
    "- 받은 두 숫자의 제곱을 각각 새로운 변수로 만들어 저장하세요. (2점)\n",
    "- odd_even 함수내에 조건문을 주어 새롭게 만든 변수 2개의 합이 짝수일 경우 '짝수'라는 문자열을 , 홀수일 경우 '홀수'라는 문자열을 반환하도록 해주세요. (4점)"
   ]
  },
  {
   "cell_type": "code",
   "execution_count": 23,
   "id": "05ad796d",
   "metadata": {},
   "outputs": [],
   "source": [
    "def odd_even(num1, num2):\n",
    "    num1_square = num1**2\n",
    "    num2_square = num2**2\n",
    "    if (num1_square+num2_square) % 2 == 0:\n",
    "        return \"짝수\"\n",
    "    else:\n",
    "        return \"홀수\""
   ]
  },
  {
   "cell_type": "code",
   "execution_count": 25,
   "id": "373cb7e1",
   "metadata": {},
   "outputs": [
    {
     "data": {
      "text/plain": [
       "'홀수'"
      ]
     },
     "execution_count": 25,
     "metadata": {},
     "output_type": "execute_result"
    }
   ],
   "source": [
    "odd_even(6, 5)"
   ]
  },
  {
   "cell_type": "markdown",
   "id": "3eaf32eb",
   "metadata": {},
   "source": [
    "2. 아래 요구사항에 맞게 코드를 작성해주세요.\n",
    "- 아래의 예시와 같이 name, age의 변수를 포함한 Person 클래스를 만들어주세요.(4점)"
   ]
  },
  {
   "cell_type": "code",
   "execution_count": 26,
   "id": "7d73bb13",
   "metadata": {},
   "outputs": [],
   "source": [
    "class Person():\n",
    "    def __init__(self, name, age):\n",
    "        self.name = name \n",
    "        self.age = age"
   ]
  },
  {
   "cell_type": "code",
   "execution_count": 27,
   "id": "15cb1acb",
   "metadata": {},
   "outputs": [
    {
     "data": {
      "text/plain": [
       "('Liam', '21')"
      ]
     },
     "execution_count": 27,
     "metadata": {},
     "output_type": "execute_result"
    }
   ],
   "source": [
    "person = Person('Liam', '21')\n",
    "person.name, person.age"
   ]
  },
  {
   "cell_type": "markdown",
   "id": "e04a17f1",
   "metadata": {},
   "source": [
    "- 위의 Person클래스를 상속받아 play의 메소드를 추가한 Child 클래스를 만들어주세요(6점)\n",
    "    - play: print('{} is playing.'.format(name))"
   ]
  },
  {
   "cell_type": "code",
   "execution_count": 28,
   "id": "0c37fd38",
   "metadata": {},
   "outputs": [],
   "source": [
    "class Child(Person):\n",
    "    def play(self):\n",
    "        print('{} is playing.'.format(self.name))"
   ]
  },
  {
   "cell_type": "code",
   "execution_count": 29,
   "id": "1eb01fb1",
   "metadata": {},
   "outputs": [
    {
     "data": {
      "text/plain": [
       "('Olivia', '8')"
      ]
     },
     "execution_count": 29,
     "metadata": {},
     "output_type": "execute_result"
    }
   ],
   "source": [
    "child = Child('Olivia', '8')\n",
    "child.name, child.age"
   ]
  },
  {
   "cell_type": "code",
   "execution_count": 30,
   "id": "887545c8",
   "metadata": {},
   "outputs": [
    {
     "name": "stdout",
     "output_type": "stream",
     "text": [
      "Olivia is playing.\n"
     ]
    }
   ],
   "source": [
    "child.play()"
   ]
  },
  {
   "cell_type": "code",
   "execution_count": 34,
   "id": "61f5fad3",
   "metadata": {},
   "outputs": [
    {
     "data": {
      "text/plain": [
       "(['f', 'd', 'b'], 'a')"
      ]
     },
     "execution_count": 34,
     "metadata": {},
     "output_type": "execute_result"
    }
   ],
   "source": [
    "starks = ['a', 'b', 'c', 'd', 'e', 'f']\n",
    "starks[-1::-2], starks[0]"
   ]
  },
  {
   "cell_type": "code",
   "execution_count": null,
   "id": "a3b9c09a",
   "metadata": {},
   "outputs": [],
   "source": []
  },
  {
   "cell_type": "code",
   "execution_count": null,
   "id": "3947e5d1",
   "metadata": {},
   "outputs": [],
   "source": []
  },
  {
   "cell_type": "code",
   "execution_count": 35,
   "id": "af26ef48",
   "metadata": {},
   "outputs": [
    {
     "data": {
      "text/plain": [
       "[1,\n",
       " 2,\n",
       " '3의 배수',\n",
       " 4,\n",
       " 5,\n",
       " '3의 배수',\n",
       " 7,\n",
       " 8,\n",
       " '3의 배수',\n",
       " 10,\n",
       " 11,\n",
       " '3의 배수',\n",
       " 13,\n",
       " 14,\n",
       " '3의 배수',\n",
       " 16,\n",
       " 17,\n",
       " '3의 배수',\n",
       " 19]"
      ]
     },
     "execution_count": 35,
     "metadata": {},
     "output_type": "execute_result"
    }
   ],
   "source": [
    "ls = range(1, 20)\n",
    "result = []\n",
    "for data in ls:\n",
    "    if (data%3 ==0):\n",
    "        result.append(\"3의 배수\")\n",
    "    else:\n",
    "        result.append(data)\n",
    "result"
   ]
  },
  {
   "cell_type": "code",
   "execution_count": 42,
   "id": "2b5ba454",
   "metadata": {},
   "outputs": [],
   "source": [
    "ls = range(1, 20)\n",
    "result = [\"3의배수\" if(data%3 == 0) else data for data in ls]"
   ]
  },
  {
   "cell_type": "code",
   "execution_count": 43,
   "id": "4d5b531a",
   "metadata": {},
   "outputs": [
    {
     "data": {
      "text/plain": [
       "[1,\n",
       " 2,\n",
       " '3의배수',\n",
       " 4,\n",
       " 5,\n",
       " '3의배수',\n",
       " 7,\n",
       " 8,\n",
       " '3의배수',\n",
       " 10,\n",
       " 11,\n",
       " '3의배수',\n",
       " 13,\n",
       " 14,\n",
       " '3의배수',\n",
       " 16,\n",
       " 17,\n",
       " '3의배수',\n",
       " 19]"
      ]
     },
     "execution_count": 43,
     "metadata": {},
     "output_type": "execute_result"
    }
   ],
   "source": [
    "result"
   ]
  },
  {
   "cell_type": "code",
   "execution_count": null,
   "id": "d449dcf4",
   "metadata": {},
   "outputs": [],
   "source": [
    "class Marine:\n",
    "    def __init__(self, health=40, attack_pow = 50):\n",
    "        self.health = health\n",
    "        self.attack_pow = attack_pow\n",
    "    \n",
    "    def attack(self, unit):\n",
    "        unit.health -= self.attack_pow\n",
    "        if unit.health <= 0 :\n",
    "            unit.health = 0 \n",
    "            print(\"사망\")"
   ]
  }
 ],
 "metadata": {
  "kernelspec": {
   "display_name": "Python 3",
   "language": "python",
   "name": "python3"
  },
  "language_info": {
   "codemirror_mode": {
    "name": "ipython",
    "version": 3
   },
   "file_extension": ".py",
   "mimetype": "text/x-python",
   "name": "python",
   "nbconvert_exporter": "python",
   "pygments_lexer": "ipython3",
   "version": "3.6.13"
  }
 },
 "nbformat": 4,
 "nbformat_minor": 5
}
