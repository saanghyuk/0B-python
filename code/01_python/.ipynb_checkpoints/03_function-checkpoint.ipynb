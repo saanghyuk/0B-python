{
 "cells": [
  {
   "cell_type": "markdown",
   "id": "2d98b243",
   "metadata": {},
   "source": [
    "### 함수\n",
    "- 반복되는 코드를 묶음으로 효율적인 코드를 작성하도록 해주는 기능\n",
    "- 기본 함수\n",
    "- 파라미터와 아규먼트\n",
    "- 리턴\n",
    "- `*args`, `**kwargs`\n",
    "- docstring\n",
    "- scope\n",
    "- inner function\n",
    "- lambda function\n",
    "- Map, Filter, Reduce\n",
    "- Decorator"
   ]
  },
  {
   "cell_type": "markdown",
   "id": "26b4ae79",
   "metadata": {},
   "source": [
    "### 1. 기본함수\n",
    "- 선언과 호출"
   ]
  },
  {
   "cell_type": "code",
   "execution_count": 1,
   "id": "049695f0",
   "metadata": {},
   "outputs": [
    {
     "name": "stdout",
     "output_type": "stream",
     "text": [
      "B\n"
     ]
    }
   ],
   "source": [
    "point = 88\n",
    "\n",
    "if point >= 90:\n",
    "    print(\"A\")\n",
    "elif point >= 80:\n",
    "    print(\"B\")\n",
    "else:\n",
    "    print(C)"
   ]
  },
  {
   "cell_type": "code",
   "execution_count": 3,
   "id": "b8f49c4c",
   "metadata": {},
   "outputs": [],
   "source": [
    "# 함수 선언\n",
    "def grade(point):\n",
    "    if point >= 90:\n",
    "        print(\"A\")\n",
    "    elif point >= 80:\n",
    "        print(\"B\")\n",
    "    else:\n",
    "        print(\"C\")"
   ]
  },
  {
   "cell_type": "code",
   "execution_count": 4,
   "id": "fe447598",
   "metadata": {
    "scrolled": true
   },
   "outputs": [
    {
     "name": "stdout",
     "output_type": "stream",
     "text": [
      "B\n"
     ]
    }
   ],
   "source": [
    "# 함수 호출\n",
    "grade(88)"
   ]
  },
  {
   "cell_type": "code",
   "execution_count": 9,
   "id": "bf21c3c5",
   "metadata": {
    "scrolled": true
   },
   "outputs": [
    {
     "name": "stdout",
     "output_type": "stream",
     "text": [
      "Variable   Type        Data/Info\n",
      "--------------------------------\n",
      "grade      function    <function grade at 0x7fd7f615bb70>\n",
      "point      int         88\n",
      "point3     str         hi\n"
     ]
    }
   ],
   "source": [
    "%whos"
   ]
  },
  {
   "cell_type": "code",
   "execution_count": null,
   "id": "bc1657b1",
   "metadata": {},
   "outputs": [],
   "source": [
    "\n"
   ]
  },
  {
   "cell_type": "markdown",
   "id": "d15233cc",
   "metadata": {},
   "source": [
    "### 2. 파라미터와 아규먼트 \n",
    "- 파라미터 : 함수를 선언할 때 호출하는 부분에서 보내주는 데이터를 받는 변수\n",
    "- 아규먼트 : 함수를 호출할 때 보내주는 데이터"
   ]
  },
  {
   "cell_type": "code",
   "execution_count": 1,
   "id": "939d0fdf",
   "metadata": {},
   "outputs": [],
   "source": [
    "def plus(num1, num2):\n",
    "    print(num1+num2)"
   ]
  },
  {
   "cell_type": "code",
   "execution_count": 2,
   "id": "826e4de4",
   "metadata": {},
   "outputs": [
    {
     "name": "stdout",
     "output_type": "stream",
     "text": [
      "3\n"
     ]
    }
   ],
   "source": [
    "plus(1, 2)"
   ]
  },
  {
   "cell_type": "code",
   "execution_count": 3,
   "id": "24b28d88",
   "metadata": {},
   "outputs": [],
   "source": [
    "# default parameter 생성\n",
    "def plus(num1=10, num2=3):\n",
    "    print(num1+num2)"
   ]
  },
  {
   "cell_type": "code",
   "execution_count": 6,
   "id": "9f67a45a",
   "metadata": {},
   "outputs": [
    {
     "name": "stdout",
     "output_type": "stream",
     "text": [
      "15\n"
     ]
    }
   ],
   "source": [
    "plus(num2 = 5)"
   ]
  },
  {
   "cell_type": "code",
   "execution_count": 7,
   "id": "b0df842e",
   "metadata": {},
   "outputs": [
    {
     "name": "stdout",
     "output_type": "stream",
     "text": [
      "13\n"
     ]
    }
   ],
   "source": [
    "# 키워드 아규먼트 \n",
    "plus(3, num2 = 10) #이렇게 Num2라고 쓰면 됨. "
   ]
  },
  {
   "cell_type": "code",
   "execution_count": null,
   "id": "d1de6a2f",
   "metadata": {},
   "outputs": [],
   "source": []
  },
  {
   "cell_type": "code",
   "execution_count": null,
   "id": "d08b6944",
   "metadata": {},
   "outputs": [],
   "source": []
  },
  {
   "cell_type": "markdown",
   "id": "08ea8b6a",
   "metadata": {},
   "source": [
    "### 3. 리턴\n",
    "- 함수를 실행한 결과를 저장하고 싶을 때 사용합니다. \n",
    "- return"
   ]
  },
  {
   "cell_type": "code",
   "execution_count": 11,
   "id": "2bdc2c46",
   "metadata": {},
   "outputs": [],
   "source": [
    "def plus(num1, num2):\n",
    "    print(num1 + num2)\n",
    "    return num1 + num2"
   ]
  },
  {
   "cell_type": "code",
   "execution_count": 12,
   "id": "57639a08",
   "metadata": {},
   "outputs": [
    {
     "name": "stdout",
     "output_type": "stream",
     "text": [
      "3\n",
      "3\n"
     ]
    }
   ],
   "source": [
    "result = plus(1, 2)\n",
    "print(result)"
   ]
  },
  {
   "cell_type": "code",
   "execution_count": 15,
   "id": "f9bf8ccc",
   "metadata": {},
   "outputs": [
    {
     "ename": "AttributeError",
     "evalue": "'str' object has no attribute 'sort'",
     "output_type": "error",
     "traceback": [
      "\u001b[0;31m---------------------------------------------------------------------------\u001b[0m",
      "\u001b[0;31mAttributeError\u001b[0m                            Traceback (most recent call last)",
      "\u001b[0;32m<ipython-input-15-bdedf90770a4>\u001b[0m in \u001b[0;36m<module>\u001b[0;34m\u001b[0m\n\u001b[1;32m      1\u001b[0m \u001b[0mresult1\u001b[0m \u001b[0;34m=\u001b[0m \u001b[0mdata\u001b[0m\u001b[0;34m.\u001b[0m\u001b[0mupper\u001b[0m\u001b[0;34m(\u001b[0m\u001b[0;34m)\u001b[0m\u001b[0;34m\u001b[0m\u001b[0;34m\u001b[0m\u001b[0m\n\u001b[0;32m----> 2\u001b[0;31m \u001b[0mresult2\u001b[0m \u001b[0;34m=\u001b[0m \u001b[0mdata\u001b[0m\u001b[0;34m.\u001b[0m\u001b[0msort\u001b[0m\u001b[0;34m(\u001b[0m\u001b[0;34m)\u001b[0m\u001b[0;34m\u001b[0m\u001b[0;34m\u001b[0m\u001b[0m\n\u001b[0m",
      "\u001b[0;31mAttributeError\u001b[0m: 'str' object has no attribute 'sort'"
     ]
    }
   ],
   "source": [
    "# result1 = data.upper()\n",
    "# result2 = data.sort()"
   ]
  },
  {
   "cell_type": "code",
   "execution_count": 22,
   "id": "b1888dee",
   "metadata": {},
   "outputs": [],
   "source": [
    "# return 은 함수를 강제로 종료시키는 기능도 있음. \n",
    "def echo(msg):\n",
    "    if msg == \"quit\":\n",
    "        return\n",
    "    print(msg)"
   ]
  },
  {
   "cell_type": "code",
   "execution_count": 23,
   "id": "61f2cdb3",
   "metadata": {},
   "outputs": [
    {
     "name": "stdout",
     "output_type": "stream",
     "text": [
      "python\n"
     ]
    }
   ],
   "source": [
    "echo(\"python\")"
   ]
  },
  {
   "cell_type": "code",
   "execution_count": 24,
   "id": "6d820655",
   "metadata": {},
   "outputs": [],
   "source": [
    "echo(\"quit\")"
   ]
  },
  {
   "cell_type": "code",
   "execution_count": null,
   "id": "268ac491",
   "metadata": {},
   "outputs": [],
   "source": []
  },
  {
   "cell_type": "markdown",
   "id": "a9b137cd",
   "metadata": {},
   "source": [
    "### 4. `*args`, `**kwargs`\n",
    "- 함수를 호출할 때 아규먼트와 키워드 아규먼트의 갯수를 특정지을 수 없을 떄 사용"
   ]
  },
  {
   "cell_type": "code",
   "execution_count": 25,
   "id": "618ef066",
   "metadata": {},
   "outputs": [],
   "source": [
    "def plus(num1, num2):\n",
    "    return num1, num2"
   ]
  },
  {
   "cell_type": "code",
   "execution_count": 26,
   "id": "dfea8af8",
   "metadata": {},
   "outputs": [],
   "source": [
    "def plus(*args):\n",
    "    print(type(args), args)\n",
    "    return sum(args)"
   ]
  },
  {
   "cell_type": "code",
   "execution_count": 27,
   "id": "3f96d644",
   "metadata": {},
   "outputs": [
    {
     "name": "stdout",
     "output_type": "stream",
     "text": [
      "<class 'tuple'> (1, 2, 3, 4, 6)\n"
     ]
    },
    {
     "data": {
      "text/plain": [
       "16"
      ]
     },
     "execution_count": 27,
     "metadata": {},
     "output_type": "execute_result"
    }
   ],
   "source": [
    "plus(1, 2, 3, 4, 6)"
   ]
  },
  {
   "cell_type": "code",
   "execution_count": 44,
   "id": "f46df1ff",
   "metadata": {},
   "outputs": [],
   "source": [
    "def plus(*args, **kargs):\n",
    "    print(type(args), args)\n",
    "    print(type(kargs), kargs)\n",
    "    return sum(args)+sum(kargs.values())"
   ]
  },
  {
   "cell_type": "code",
   "execution_count": 45,
   "id": "b75e5a89",
   "metadata": {},
   "outputs": [
    {
     "name": "stdout",
     "output_type": "stream",
     "text": [
      "<class 'tuple'> (1, 2, 3, 4, 5)\n",
      "<class 'dict'> {'num': 6, 'num2': 7}\n"
     ]
    },
    {
     "data": {
      "text/plain": [
       "28"
      ]
     },
     "execution_count": 45,
     "metadata": {},
     "output_type": "execute_result"
    }
   ],
   "source": [
    "plus(1, 2, 3, 4, 5, num=6, num2=7)"
   ]
  },
  {
   "cell_type": "code",
   "execution_count": 50,
   "id": "70c37986",
   "metadata": {},
   "outputs": [],
   "source": [
    "# 인자 넘길때는 *"
   ]
  },
  {
   "cell_type": "code",
   "execution_count": 51,
   "id": "d742678e",
   "metadata": {},
   "outputs": [
    {
     "data": {
      "text/plain": [
       "(1, 2, 3)"
      ]
     },
     "execution_count": 51,
     "metadata": {},
     "output_type": "execute_result"
    }
   ],
   "source": [
    "def func(num1, num2, num3):\n",
    "    return num1, num2, num3\n",
    "data = [1, 2, 3]\n",
    "func(*data) # 리스를 풀어서 주는 것. func(1, 2, 3으로 주는 것과 동일함)"
   ]
  },
  {
   "cell_type": "code",
   "execution_count": 52,
   "id": "b86bfddb",
   "metadata": {},
   "outputs": [],
   "source": [
    "# keyword argument 넘길때는 **"
   ]
  },
  {
   "cell_type": "code",
   "execution_count": 53,
   "id": "3326b003",
   "metadata": {},
   "outputs": [
    {
     "data": {
      "text/plain": [
       "(1, 2, 3)"
      ]
     },
     "execution_count": 53,
     "metadata": {},
     "output_type": "execute_result"
    }
   ],
   "source": [
    "def func(num1, num2, num3):\n",
    "    return num1, num2, num3\n",
    "data = [1, 2, 3]\n",
    "func(*data) # 리스를 풀어서 주는 것. func(1, 2, 3으로 주는 것과 동일함)"
   ]
  },
  {
   "cell_type": "code",
   "execution_count": 54,
   "id": "8c7c3a7f",
   "metadata": {},
   "outputs": [
    {
     "data": {
      "text/plain": [
       "(1, 100, 200)"
      ]
     },
     "execution_count": 54,
     "metadata": {},
     "output_type": "execute_result"
    }
   ],
   "source": [
    "data = {\n",
    "    \"num2\": 100,\n",
    "    \"num3\": 200\n",
    "}\n",
    "func(1, **data) # func(1, num2 = 100, num3 = 200)과 동일한 호출"
   ]
  },
  {
   "cell_type": "code",
   "execution_count": 55,
   "id": "2eb50451",
   "metadata": {},
   "outputs": [
    {
     "name": "stdout",
     "output_type": "stream",
     "text": [
      "Once deleted, variables cannot be recovered. Proceed (y/[n])? y\n"
     ]
    }
   ],
   "source": [
    "%reset"
   ]
  },
  {
   "cell_type": "code",
   "execution_count": null,
   "id": "9898fa62",
   "metadata": {},
   "outputs": [],
   "source": []
  },
  {
   "cell_type": "code",
   "execution_count": null,
   "id": "c074ca21",
   "metadata": {},
   "outputs": [],
   "source": []
  },
  {
   "cell_type": "code",
   "execution_count": null,
   "id": "ee289e84",
   "metadata": {},
   "outputs": [],
   "source": [
    "# 문장을 입력 받아서, 문법에 맞도록 결과를 출력하는 코드를 작성\n",
    "# python Language Is the best language\n",
    "# Python Language is the best language."
   ]
  },
  {
   "cell_type": "code",
   "execution_count": 64,
   "id": "9642ab4b",
   "metadata": {},
   "outputs": [
    {
     "name": "stdout",
     "output_type": "stream",
     "text": [
      "input sentencepython Language Is the best language\n",
      "Python language is the best language.\n"
     ]
    }
   ],
   "source": [
    "sentence = input(\"input sentence\")\n",
    "lower = sentence.lower()\n",
    "lower = lower.replace(lower[0], lower[0].upper())\n",
    "if lower[:-1]!=\".\":\n",
    "    lower = lower+\".\"\n",
    "print(lower)"
   ]
  },
  {
   "cell_type": "code",
   "execution_count": 67,
   "id": "2df277d4",
   "metadata": {},
   "outputs": [
    {
     "name": "stdout",
     "output_type": "stream",
     "text": [
      "input sentencepython Language Is the best language\n"
     ]
    },
    {
     "data": {
      "text/plain": [
       "'Python language is the best language.'"
      ]
     },
     "execution_count": 67,
     "metadata": {},
     "output_type": "execute_result"
    }
   ],
   "source": [
    "# 1. 문자열 입력 받기\n",
    "sentence = input(\"input sentence\")\n",
    "# 2. 모두 소문자로 변경\n",
    "result = sentence.lower()\n",
    "# 3. 가장 앞 글자를 대문자로 변경\n",
    "result = result[0].upper() + result[1:]\n",
    "# 4. 마지막 문자가 . 인지 확인해서 .이 아니면, .를 추가. \n",
    "if result[-1] != \".\":\n",
    "    result += \".\"\n",
    "result"
   ]
  },
  {
   "cell_type": "code",
   "execution_count": null,
   "id": "3a385655",
   "metadata": {},
   "outputs": [],
   "source": []
  },
  {
   "cell_type": "code",
   "execution_count": null,
   "id": "0ea627db",
   "metadata": {},
   "outputs": [],
   "source": []
  },
  {
   "cell_type": "code",
   "execution_count": 80,
   "id": "95f677e8",
   "metadata": {},
   "outputs": [
    {
     "data": {
      "text/plain": [
       "[1, 3, 5, 13, 34, 35]"
      ]
     },
     "execution_count": 80,
     "metadata": {},
     "output_type": "execute_result"
    }
   ],
   "source": [
    "# 6자리 로또번호를 생성하는 코드를 작성하세요\n",
    "# 6자리의 번호는 중복이 없어야 한다. \n",
    "import random\n",
    "random.randint(1, 45)\n",
    "\n",
    "lotto = []\n",
    "while True:\n",
    "    if len(lotto) == 6:\n",
    "        lotto.sort()\n",
    "        break\n",
    "    rand_num = random.randint(1, 45)\n",
    "    if rand_num not in lotto:\n",
    "        lotto.append(rand_num)\n",
    "lotto"
   ]
  },
  {
   "cell_type": "code",
   "execution_count": null,
   "id": "29325c41",
   "metadata": {},
   "outputs": [],
   "source": []
  },
  {
   "cell_type": "code",
   "execution_count": null,
   "id": "27cf6cff",
   "metadata": {},
   "outputs": [],
   "source": []
  },
  {
   "cell_type": "markdown",
   "id": "3f7d6d37",
   "metadata": {},
   "source": [
    "### 1. Docstring\n",
    "- 함수의 설명을 작성\n",
    "- shift+tab, echo?, echo??, help(echo), echo.doc 이런 방법으로 Docstring 확인 가능\n"
   ]
  },
  {
   "cell_type": "code",
   "execution_count": 93,
   "id": "5f246ac1",
   "metadata": {},
   "outputs": [],
   "source": [
    "def echo(msg):\n",
    "    \"echo print msg\"\n",
    "    print(msg)\n",
    "# 멀티라인으로 쓸때는 \"\"\"\"\"\"\n",
    "def echo2(msg):\n",
    "    \"\"\"\n",
    "    echo func return its input argument\n",
    "    The operation is \n",
    "        1. print\n",
    "        2. return message\n",
    "    param : msg : str\n",
    "    return : str \n",
    "    \"\"\"\n",
    "    print(msg)"
   ]
  },
  {
   "cell_type": "code",
   "execution_count": 92,
   "id": "f62775d6",
   "metadata": {},
   "outputs": [
    {
     "data": {
      "text/plain": [
       "'echo print msg'"
      ]
     },
     "execution_count": 92,
     "metadata": {},
     "output_type": "execute_result"
    }
   ],
   "source": [
    "echo.__doc__"
   ]
  },
  {
   "cell_type": "code",
   "execution_count": null,
   "id": "683d04cf",
   "metadata": {},
   "outputs": [],
   "source": []
  },
  {
   "cell_type": "markdown",
   "id": "5736a9d9",
   "metadata": {},
   "source": [
    "### 2. Scope 범위\n",
    "- 함수 안에서 선언되는 변수와 함수 밖에서 선언되는 변수의 범위가 다르다. \n",
    "- gloabl(전역), local(지역)"
   ]
  },
  {
   "cell_type": "code",
   "execution_count": 95,
   "id": "9bd73ae2",
   "metadata": {},
   "outputs": [
    {
     "name": "stdout",
     "output_type": "stream",
     "text": [
      "10\n"
     ]
    }
   ],
   "source": [
    "# global \n",
    "gv = 10\n",
    "\n",
    "def echo():\n",
    "    print(gv)\n",
    "echo()"
   ]
  },
  {
   "cell_type": "code",
   "execution_count": 105,
   "id": "cf37d9a5",
   "metadata": {},
   "outputs": [
    {
     "name": "stdout",
     "output_type": "stream",
     "text": [
      "100\n",
      "4526838144\n",
      "10\n",
      "4526835264\n"
     ]
    }
   ],
   "source": [
    "# local\n",
    "gv = 10\n",
    "\n",
    "def echo():\n",
    "    gv = 100\n",
    "    print(gv)\n",
    "    print(id(gv))\n",
    "echo()\n",
    "print(gv)\n",
    "print(id(gv))"
   ]
  },
  {
   "cell_type": "markdown",
   "id": "5ad30954",
   "metadata": {},
   "source": [
    "그런데, 전역변수는 함수를 호출하든 안하든 메모리를 잡아먹고 있음. <br>\n",
    "그에 비해, 로컬변수는 함수가 실행되야만 메모리를 잡아먹음.<br>\n",
    "그래서 최대한 꼭 필요한거 아니면 다 로컬 변수 위주로 코딩하는게 좋다. "
   ]
  },
  {
   "cell_type": "code",
   "execution_count": 103,
   "id": "73332271",
   "metadata": {},
   "outputs": [
    {
     "name": "stdout",
     "output_type": "stream",
     "text": [
      "100\n",
      "100\n"
     ]
    }
   ],
   "source": [
    "# local\n",
    "gv = 10\n",
    "\n",
    "def echo():\n",
    "    global gv # global을 사용하겠다. \n",
    "    gv = 100\n",
    "    print(gv)\n",
    "echo()\n",
    "print(gv) # gv가 100이 출력되도록 하려면?"
   ]
  },
  {
   "cell_type": "code",
   "execution_count": null,
   "id": "f83d665f",
   "metadata": {},
   "outputs": [],
   "source": []
  },
  {
   "cell_type": "markdown",
   "id": "7b1fcba4",
   "metadata": {},
   "source": [
    "### 3. Inner Function\n",
    "- 함수가 지역영역에 선언, 함수 안에 함수가 선언."
   ]
  },
  {
   "cell_type": "code",
   "execution_count": 119,
   "id": "68e75e29",
   "metadata": {},
   "outputs": [],
   "source": [
    "def outer(a, b):\n",
    "    def inner(c, d):\n",
    "        return c+d\n",
    "    return inner(a, b)"
   ]
  },
  {
   "cell_type": "code",
   "execution_count": 120,
   "id": "4d6a1fc2",
   "metadata": {},
   "outputs": [
    {
     "name": "stdout",
     "output_type": "stream",
     "text": [
      "3\n"
     ]
    },
    {
     "data": {
      "text/plain": [
       "3"
      ]
     },
     "execution_count": 120,
     "metadata": {},
     "output_type": "execute_result"
    }
   ],
   "source": [
    "outer(1, 2)\n",
    "# inner(1, 2) 지역 함수를 전역에서 호출 불가"
   ]
  },
  {
   "cell_type": "code",
   "execution_count": 127,
   "id": "e9fb2202",
   "metadata": {},
   "outputs": [],
   "source": [
    "def outer(a, b):\n",
    "    def inner(c, d):\n",
    "        print(a+b)\n",
    "        return c+d\n",
    "    return inner"
   ]
  },
  {
   "cell_type": "code",
   "execution_count": 128,
   "id": "206587f5",
   "metadata": {},
   "outputs": [
    {
     "name": "stdout",
     "output_type": "stream",
     "text": [
      "3\n",
      "7\n"
     ]
    }
   ],
   "source": [
    "print(outer(1, 2)(3, 4)) #inner(3, 4)"
   ]
  },
  {
   "cell_type": "code",
   "execution_count": null,
   "id": "618961a5",
   "metadata": {},
   "outputs": [],
   "source": []
  },
  {
   "cell_type": "code",
   "execution_count": 129,
   "id": "72b1a25e",
   "metadata": {},
   "outputs": [],
   "source": [
    "# callbak function : 함수를 argument parameter로 설정해서 사용"
   ]
  },
  {
   "cell_type": "code",
   "execution_count": 130,
   "id": "3382be31",
   "metadata": {},
   "outputs": [],
   "source": [
    "def calc(func, a, b):\n",
    "    return func(a, b)"
   ]
  },
  {
   "cell_type": "code",
   "execution_count": 136,
   "id": "883d620f",
   "metadata": {},
   "outputs": [],
   "source": [
    "def plus(a, b):\n",
    "    return a+b"
   ]
  },
  {
   "cell_type": "code",
   "execution_count": 137,
   "id": "22ab5c75",
   "metadata": {},
   "outputs": [],
   "source": [
    "def minus(a, b):\n",
    "    return a-b"
   ]
  },
  {
   "cell_type": "code",
   "execution_count": 140,
   "id": "1137c6b1",
   "metadata": {},
   "outputs": [],
   "source": [
    "# 이게 콜백 function "
   ]
  },
  {
   "cell_type": "code",
   "execution_count": 141,
   "id": "07e777a7",
   "metadata": {},
   "outputs": [
    {
     "data": {
      "text/plain": [
       "5"
      ]
     },
     "execution_count": 141,
     "metadata": {},
     "output_type": "execute_result"
    }
   ],
   "source": [
    "calc(plus, 3, 2)"
   ]
  },
  {
   "cell_type": "code",
   "execution_count": 142,
   "id": "23928575",
   "metadata": {},
   "outputs": [
    {
     "data": {
      "text/plain": [
       "1"
      ]
     },
     "execution_count": 142,
     "metadata": {},
     "output_type": "execute_result"
    }
   ],
   "source": [
    "calc(minus, 3, 2)"
   ]
  },
  {
   "cell_type": "code",
   "execution_count": null,
   "id": "0fc610c3",
   "metadata": {},
   "outputs": [],
   "source": []
  },
  {
   "cell_type": "code",
   "execution_count": null,
   "id": "3e7e9ba9",
   "metadata": {},
   "outputs": [],
   "source": []
  },
  {
   "cell_type": "markdown",
   "id": "afe13a13",
   "metadata": {},
   "source": [
    "### 4. lambda function\n",
    "- 파라미터를 간단한 계산으로 리턴되는 함수 : 삼항연산과 약간 비슷한 함수. \n",
    "- 한줄짜리 함수"
   ]
  },
  {
   "cell_type": "code",
   "execution_count": 143,
   "id": "6b4b83a4",
   "metadata": {},
   "outputs": [],
   "source": [
    "def plus(a, b):\n",
    "    return a+b"
   ]
  },
  {
   "cell_type": "code",
   "execution_count": 145,
   "id": "d3154e9d",
   "metadata": {},
   "outputs": [
    {
     "data": {
      "text/plain": [
       "3"
      ]
     },
     "execution_count": 145,
     "metadata": {},
     "output_type": "execute_result"
    }
   ],
   "source": [
    "plus(1, 2)"
   ]
  },
  {
   "cell_type": "code",
   "execution_count": 148,
   "id": "5549b795",
   "metadata": {},
   "outputs": [],
   "source": [
    "plus2 = lambda a, b : a+b # parameter, return 순서"
   ]
  },
  {
   "cell_type": "code",
   "execution_count": 149,
   "id": "5084ba0a",
   "metadata": {},
   "outputs": [
    {
     "data": {
      "text/plain": [
       "5"
      ]
     },
     "execution_count": 149,
     "metadata": {},
     "output_type": "execute_result"
    }
   ],
   "source": [
    "plus2(2, 3)"
   ]
  },
  {
   "cell_type": "code",
   "execution_count": 151,
   "id": "abd2d85e",
   "metadata": {},
   "outputs": [
    {
     "data": {
      "text/plain": [
       "7"
      ]
     },
     "execution_count": 151,
     "metadata": {},
     "output_type": "execute_result"
    }
   ],
   "source": [
    "# calc도 다시 써보자. \n",
    "calc(lambda a, b : a+b, 3, 4)"
   ]
  },
  {
   "cell_type": "code",
   "execution_count": 152,
   "id": "60664462",
   "metadata": {},
   "outputs": [
    {
     "data": {
      "text/plain": [
       "7"
      ]
     },
     "execution_count": 152,
     "metadata": {},
     "output_type": "execute_result"
    }
   ],
   "source": [
    "calc(plus, 3, 4)"
   ]
  },
  {
   "cell_type": "code",
   "execution_count": null,
   "id": "b575524c",
   "metadata": {},
   "outputs": [],
   "source": [
    "# 람다는 따로 함수를 정의하는게 아니라, 호출되면서 만들고 없애버리는 것. \n",
    "# 굉장히 메모리 효율적이다. "
   ]
  },
  {
   "cell_type": "code",
   "execution_count": null,
   "id": "d0d2505c",
   "metadata": {},
   "outputs": [],
   "source": []
  },
  {
   "cell_type": "code",
   "execution_count": null,
   "id": "bc645ae1",
   "metadata": {},
   "outputs": [],
   "source": []
  },
  {
   "cell_type": "markdown",
   "id": "a80b13e5",
   "metadata": {},
   "source": [
    "### 5. map, filter, reduce\n",
    "- map: 순서가 있는 데이터 집합에서 모든 값에 함수를 적용시킨 결과를 출력시켜 준다. \n",
    "- map은 리스트 안에 모든 요소들에 각각 func을 적용해 주는 것. \n",
    "- map 에서 리스트 2개가 올수도 있음. (x1, x2)이렇게 인자로 들어가게 하는 것. "
   ]
  },
  {
   "cell_type": "code",
   "execution_count": 153,
   "id": "86789988",
   "metadata": {},
   "outputs": [
    {
     "data": {
      "text/plain": [
       "('odd', 'even')"
      ]
     },
     "execution_count": 153,
     "metadata": {},
     "output_type": "execute_result"
    }
   ],
   "source": [
    "ls = [1, 2, 3, 4]\n",
    "def odd_even(num):\n",
    "    return \"odd\" if num % 2 else \"even\"\n",
    "\n",
    "odd_even(3), odd_even(100)"
   ]
  },
  {
   "cell_type": "code",
   "execution_count": 155,
   "id": "fc0f6981",
   "metadata": {},
   "outputs": [
    {
     "data": {
      "text/plain": [
       "['odd', 'even', 'odd', 'even']"
      ]
     },
     "execution_count": 155,
     "metadata": {},
     "output_type": "execute_result"
    }
   ],
   "source": [
    "list(map(odd_even, ls))"
   ]
  },
  {
   "cell_type": "code",
   "execution_count": 156,
   "id": "6448ec5c",
   "metadata": {},
   "outputs": [],
   "source": [
    "# input함수로 구분자는 \" \"으로 여러개의 숫자를 입력 받습니다. \n",
    "# str.split(\" \")리스트로 만들고\n",
    "# 만들어진 리스트의 값들을 정수로 int 형변환"
   ]
  },
  {
   "cell_type": "code",
   "execution_count": 158,
   "id": "359ee911",
   "metadata": {},
   "outputs": [
    {
     "name": "stdout",
     "output_type": "stream",
     "text": [
      "숫자를 입력해주세요1 2 3 5 6 1\n"
     ]
    },
    {
     "data": {
      "text/plain": [
       "[1, 2, 3, 5, 6, 1]"
      ]
     },
     "execution_count": 158,
     "metadata": {},
     "output_type": "execute_result"
    }
   ],
   "source": [
    "data =input(\"숫자를 입력해주세요 공백으로 띄어주세요\")\n",
    "str_list = data.split(\" \")\n",
    "list(map(int, str_list))"
   ]
  },
  {
   "cell_type": "code",
   "execution_count": null,
   "id": "3c30b96c",
   "metadata": {},
   "outputs": [],
   "source": []
  },
  {
   "cell_type": "markdown",
   "id": "748f653a",
   "metadata": {},
   "source": [
    "#### Filter\n",
    "- 리스트 데이터에서 특정 조건에 맞는 value만 남기는 함수\n",
    "- 리스트 데이터를 각각의 함수에 넣고 True인 데이터들만 남겨 주는 것. "
   ]
  },
  {
   "cell_type": "code",
   "execution_count": 160,
   "id": "5c01f1a7",
   "metadata": {},
   "outputs": [],
   "source": [
    "ls = range(10)"
   ]
  },
  {
   "cell_type": "code",
   "execution_count": 164,
   "id": "cb9e948e",
   "metadata": {},
   "outputs": [
    {
     "data": {
      "text/plain": [
       "[1, 3, 5, 7, 9]"
      ]
     },
     "execution_count": 164,
     "metadata": {},
     "output_type": "execute_result"
    }
   ],
   "source": [
    "# 홀수만 출력, filter에 들어가는 함수는 무조건 True 혹은 False를 리턴해야 한다. \n",
    "list(filter(lambda data: True if data%2 else False, ls))"
   ]
  },
  {
   "cell_type": "code",
   "execution_count": null,
   "id": "f0dfaf25",
   "metadata": {},
   "outputs": [],
   "source": []
  },
  {
   "cell_type": "markdown",
   "id": "c0293e90",
   "metadata": {},
   "source": [
    "#### Reduce\n",
    "- 리스트 데이터를 처음부터 순서대로 특정 함수를 실행하여 결과를 누적시켜주는 함수"
   ]
  },
  {
   "cell_type": "code",
   "execution_count": 165,
   "id": "12597adc",
   "metadata": {},
   "outputs": [],
   "source": [
    "from functools import reduce"
   ]
  },
  {
   "cell_type": "code",
   "execution_count": 167,
   "id": "5d90c61f",
   "metadata": {},
   "outputs": [
    {
     "data": {
      "text/plain": [
       "14"
      ]
     },
     "execution_count": 167,
     "metadata": {},
     "output_type": "execute_result"
    }
   ],
   "source": [
    "ls = [3, 1, 1, 4 ,5]\n",
    "reduce(lambda x, y : x + y, ls)"
   ]
  },
  {
   "cell_type": "code",
   "execution_count": null,
   "id": "ab3e3299",
   "metadata": {},
   "outputs": [],
   "source": []
  },
  {
   "cell_type": "code",
   "execution_count": null,
   "id": "30383709",
   "metadata": {},
   "outputs": [],
   "source": []
  },
  {
   "cell_type": "code",
   "execution_count": null,
   "id": "25ac5c0c",
   "metadata": {},
   "outputs": [],
   "source": []
  },
  {
   "cell_type": "markdown",
   "id": "06e6e0b2",
   "metadata": {},
   "source": [
    "### 6. Decorator\n",
    "\n",
    "#### 데코레이터는 하나만 기억하면 된다. 원래 함수를 wrapper 함수로 바꿔주는 과정이다.\n",
    "\n",
    "- 함수에서 코드를 바꾸지 않고, 기능을 추가하거나 수정하고 싶을 때 사용하는 문법\n",
    "```python\n",
    "def a():\n",
    "    code_1\n",
    "    code_2\n",
    "    code_3\n",
    "```\n",
    "```python\n",
    "def b():\n",
    "    code_1\n",
    "    code_4\n",
    "    code_3 \n",
    "```\n",
    "\n",
    "이렇게 code_1, 2이렇게 쓰는게 한 40개 있다면? \n",
    "\n",
    "- 데코레이터의 사용\n",
    "```python\n",
    "def c(func):\n",
    "    def wrapper(*args, **kwargs):\n",
    "        code_1\n",
    "        result = func(*args, **kwargs)\n",
    "        code_3\n",
    "        return result\n",
    "        \n",
    "    return wrapper\n",
    "```\n",
    "\n",
    "```python\n",
    "@c\n",
    "def a():\n",
    "    code_2\n",
    "    \n",
    "@c    \n",
    "def b():\n",
    "    code_3\n",
    "```\n"
   ]
  },
  {
   "cell_type": "code",
   "execution_count": null,
   "id": "a7abb27c",
   "metadata": {},
   "outputs": [],
   "source": []
  },
  {
   "cell_type": "code",
   "execution_count": 168,
   "id": "019bc1a2",
   "metadata": {},
   "outputs": [],
   "source": [
    "# a\n",
    "def plus(a, b):\n",
    "    print(\"start\") # code1\n",
    "    result = a+b\n",
    "    print(\"result : {}\".format(result))\n",
    "    return result"
   ]
  },
  {
   "cell_type": "code",
   "execution_count": null,
   "id": "3cd9bc82",
   "metadata": {},
   "outputs": [],
   "source": [
    "# b\n",
    "def minus(a, b):\n",
    "    print(\"start\")\n",
    "    result = a-b\n",
    "    print(\"result : {}\".format(result))\n",
    "    return result"
   ]
  },
  {
   "cell_type": "code",
   "execution_count": 178,
   "id": "8f1bd4dd",
   "metadata": {},
   "outputs": [],
   "source": [
    "def disp_function(func):\n",
    "    def wrapper(*args, **kwargs):\n",
    "        print(\"start\")\n",
    "        result = func(*args, **kwargs)\n",
    "        print(\"result : {}\".format(result))\n",
    "        return result\n",
    "    return wrapper"
   ]
  },
  {
   "cell_type": "code",
   "execution_count": 176,
   "id": "eadefbfb",
   "metadata": {},
   "outputs": [],
   "source": [
    "@disp_function\n",
    "def plus(a, b):\n",
    "    result = a+b\n",
    "    return result\n",
    "\n",
    "@disp_function\n",
    "def plus(a, b):\n",
    "    result = a+b\n",
    "    return result"
   ]
  },
  {
   "cell_type": "code",
   "execution_count": 173,
   "id": "5a9df20f",
   "metadata": {
    "scrolled": true
   },
   "outputs": [
    {
     "name": "stdout",
     "output_type": "stream",
     "text": [
      "start\n",
      "result : 5\n"
     ]
    },
    {
     "data": {
      "text/plain": [
       "5"
      ]
     },
     "execution_count": 173,
     "metadata": {},
     "output_type": "execute_result"
    }
   ],
   "source": [
    "plus(1, 4)"
   ]
  },
  {
   "cell_type": "code",
   "execution_count": null,
   "id": "608212f7",
   "metadata": {},
   "outputs": [],
   "source": []
  },
  {
   "cell_type": "code",
   "execution_count": null,
   "id": "87139f20",
   "metadata": {},
   "outputs": [],
   "source": []
  },
  {
   "cell_type": "code",
   "execution_count": 184,
   "id": "6fb06d36",
   "metadata": {},
   "outputs": [],
   "source": [
    "# 데코레이터를 이용해서 함수의 실행 시간을 출력하는 데코레이터를 작성하세요. "
   ]
  },
  {
   "cell_type": "code",
   "execution_count": 188,
   "id": "194be2d8",
   "metadata": {},
   "outputs": [],
   "source": [
    "import time"
   ]
  },
  {
   "cell_type": "code",
   "execution_count": 198,
   "id": "f30ede28",
   "metadata": {},
   "outputs": [],
   "source": [
    "def timer(func):\n",
    "    def wrapper(*args, **kwargs):\n",
    "        start_time = time.time()\n",
    "        result =func(*args, *kwargs)\n",
    "        end_time = time.time()\n",
    "        print(\"running time : {}\".format(end_time - start_time))\n",
    "    return wrapper"
   ]
  },
  {
   "cell_type": "code",
   "execution_count": 199,
   "id": "26cf1da9",
   "metadata": {
    "scrolled": true
   },
   "outputs": [],
   "source": [
    "@timer\n",
    "def test1(num1, num2):\n",
    "    data = range(num1, num2+1)\n",
    "    return sum(data)\n",
    "    \n",
    "@timer\n",
    "def test2(num1, num2):\n",
    "    result = 0 \n",
    "    for num in range(num1, num2+1):\n",
    "        result += num\n",
    "    return result    "
   ]
  },
  {
   "cell_type": "code",
   "execution_count": 202,
   "id": "f77373af",
   "metadata": {},
   "outputs": [
    {
     "name": "stdout",
     "output_type": "stream",
     "text": [
      "running time : 0.0023653507232666016\n"
     ]
    }
   ],
   "source": [
    "test1(1, 100000)"
   ]
  },
  {
   "cell_type": "code",
   "execution_count": 204,
   "id": "0ccebcd8",
   "metadata": {
    "scrolled": true
   },
   "outputs": [
    {
     "name": "stdout",
     "output_type": "stream",
     "text": [
      "running time : 0.005959987640380859\n"
     ]
    }
   ],
   "source": [
    "test2(1, 100000)"
   ]
  },
  {
   "cell_type": "code",
   "execution_count": null,
   "id": "4a5c1001",
   "metadata": {},
   "outputs": [],
   "source": []
  },
  {
   "cell_type": "code",
   "execution_count": 205,
   "id": "1eaee6c4",
   "metadata": {},
   "outputs": [],
   "source": [
    "# 패스워드를 입력 받아야 함수가 실행되도록 하는 데코레이터 작성 "
   ]
  },
  {
   "cell_type": "code",
   "execution_count": 215,
   "id": "13f60093",
   "metadata": {},
   "outputs": [],
   "source": [
    "def check_password(func):\n",
    "    def wrapper(*args, **kwargs):\n",
    "        pw = \"dss11\"\n",
    "        # check password\n",
    "        input_pw = input(\"Insert Password : \")\n",
    "        if input_pw == pw:\n",
    "            result = func(*args, **kwargs)\n",
    "        \n",
    "        else:\n",
    "            result = \"Wrong password, cannot work\"\n",
    "        return result\n",
    "    return wrapper"
   ]
  },
  {
   "cell_type": "code",
   "execution_count": null,
   "id": "349179fe",
   "metadata": {},
   "outputs": [],
   "source": []
  },
  {
   "cell_type": "code",
   "execution_count": 216,
   "id": "e470ccc6",
   "metadata": {},
   "outputs": [],
   "source": [
    "@check_password\n",
    "def plus(a, b):\n",
    "    return a+b"
   ]
  },
  {
   "cell_type": "code",
   "execution_count": 217,
   "id": "4baf394c",
   "metadata": {},
   "outputs": [],
   "source": [
    "import random\n",
    "random.randint(1, 45)\n",
    "@check_password\n",
    "def lotto_func():\n",
    "    lotto = []\n",
    "    while True:\n",
    "        if len(lotto) == 6:\n",
    "            lotto.sort()\n",
    "            break\n",
    "        rand_num = random.randint(1, 45)\n",
    "        if rand_num not in lotto:\n",
    "            lotto.append(rand_num)\n",
    "    return lotto"
   ]
  },
  {
   "cell_type": "code",
   "execution_count": 218,
   "id": "2a4b400d",
   "metadata": {
    "scrolled": true
   },
   "outputs": [
    {
     "name": "stdout",
     "output_type": "stream",
     "text": [
      "Insert Password : ds1\n"
     ]
    },
    {
     "data": {
      "text/plain": [
       "'Wrong password, cannot work'"
      ]
     },
     "execution_count": 218,
     "metadata": {},
     "output_type": "execute_result"
    }
   ],
   "source": [
    "lotto_func()"
   ]
  },
  {
   "cell_type": "code",
   "execution_count": null,
   "id": "ee522d51",
   "metadata": {},
   "outputs": [],
   "source": []
  },
  {
   "cell_type": "code",
   "execution_count": 1,
   "id": "d9ffe4d9",
   "metadata": {},
   "outputs": [],
   "source": [
    "user_datas = [\n",
    "    {\"id\":\"test\", \"pw\":\"1234\", \"count\":0},\n",
    "    {\"id\":\"python\", \"pw\":\"5678\", \"count\":0}\n",
    "]"
   ]
  },
  {
   "cell_type": "code",
   "execution_count": 2,
   "id": "349c17c8",
   "metadata": {},
   "outputs": [],
   "source": [
    "# user_datas를 입력 받아서, 아이디와 패스워드를 체크하는 데코레이터 함수를 작성하시오. "
   ]
  },
  {
   "cell_type": "code",
   "execution_count": 31,
   "id": "cb6448dc",
   "metadata": {},
   "outputs": [],
   "source": [
    "def outer(func):\n",
    "    def wrapper(*args, **kwargs):\n",
    "        user_datas = [\n",
    "        {\"id\":\"test\", \"pw\":\"1234\", \"count\":0},\n",
    "        {\"id\":\"python\", \"pw\":\"5678\", \"count\":0}\n",
    "        ]\n",
    "\n",
    "        identity = input(\"아이디를 입력하세요\")\n",
    "        password= input(\"비밀번호를 입력하세요\")\n",
    "        \n",
    "        for account in user_datas:\n",
    "            if identity == account[\"id\"] and password == account[\"pw\"]:\n",
    "                result = func(*args, **kwargs)\n",
    "                return result\n",
    "            \n",
    "        return \"아이디와 비밀번호를 확인해 주세요\"\n",
    "    return wrapper"
   ]
  },
  {
   "cell_type": "code",
   "execution_count": 32,
   "id": "1028310b",
   "metadata": {},
   "outputs": [
    {
     "name": "stdout",
     "output_type": "stream",
     "text": [
      "아이디를 입력하세요test\n",
      "비밀번호를 입력하세요1234\n"
     ]
    },
    {
     "data": {
      "text/plain": [
       "11"
      ]
     },
     "execution_count": 32,
     "metadata": {},
     "output_type": "execute_result"
    }
   ],
   "source": [
    "@outer\n",
    "def plus(num1, num2):\n",
    "    return num1+num2\n",
    "\n",
    "plus(5, 6)"
   ]
  },
  {
   "cell_type": "code",
   "execution_count": null,
   "id": "60c7d2eb",
   "metadata": {},
   "outputs": [],
   "source": []
  },
  {
   "cell_type": "code",
   "execution_count": 33,
   "id": "c7231668",
   "metadata": {},
   "outputs": [],
   "source": [
    "#answer"
   ]
  },
  {
   "cell_type": "code",
   "execution_count": 60,
   "id": "2ad46c77",
   "metadata": {},
   "outputs": [],
   "source": [
    "user_datas = [\n",
    "    {\"user\":\"test\", \"pw\":\"1234\", \"count\":0},\n",
    "    {\"user\":\"python\", \"pw\":\"5678\", \"count\":0}\n",
    "]"
   ]
  },
  {
   "cell_type": "code",
   "execution_count": 77,
   "id": "39bbcd17",
   "metadata": {},
   "outputs": [],
   "source": [
    "def need_login(func):\n",
    "    def wrapper(*args, **kwargs):\n",
    "        user, pw = tuple(input(\"insert user pw : \").split(\" \"))\n",
    "        for idx, user_data in zip(range(len(user_datas)), user_datas):\n",
    "#         for idx, user_data in enumerate(user_datas):\n",
    "\n",
    "            if (user_data['user'] == user) and (user_data['pw'] == pw):\n",
    "                user_datas[idx][\"count\"] += 1\n",
    "                print(\"현재 count는 {} 입니다.\".format(user_datas[idx][\"count\"]))\n",
    "                return func(*args, **kwargs)\n",
    "        return \"wrong login information\"   \n",
    "    return wrapper"
   ]
  },
  {
   "cell_type": "code",
   "execution_count": 76,
   "id": "a7c98d88",
   "metadata": {},
   "outputs": [
    {
     "name": "stdout",
     "output_type": "stream",
     "text": [
      "insert user pw : test 1234\n",
      "현재 count는 1 입니다.\n"
     ]
    },
    {
     "data": {
      "text/plain": [
       "11"
      ]
     },
     "execution_count": 76,
     "metadata": {},
     "output_type": "execute_result"
    }
   ],
   "source": [
    "@need_login\n",
    "def plus(num1, num2):\n",
    "    return num1+num2\n",
    "\n",
    "plus(5, 6)"
   ]
  },
  {
   "cell_type": "code",
   "execution_count": 78,
   "id": "365c3bdd",
   "metadata": {},
   "outputs": [
    {
     "data": {
      "text/plain": [
       "[(0, {'user': 'test', 'pw': '1234', 'count': 1}),\n",
       " (1, {'user': 'python', 'pw': '5678', 'count': 0})]"
      ]
     },
     "execution_count": 78,
     "metadata": {},
     "output_type": "execute_result"
    }
   ],
   "source": [
    "# 방법 하나 더, enumerate\n",
    "# 자동으로 해준다. \n",
    "list(enumerate(user_datas))"
   ]
  },
  {
   "cell_type": "code",
   "execution_count": null,
   "id": "ed5a8331",
   "metadata": {},
   "outputs": [],
   "source": []
  }
 ],
 "metadata": {
  "kernelspec": {
   "display_name": "Python 3",
   "language": "python",
   "name": "python3"
  },
  "language_info": {
   "codemirror_mode": {
    "name": "ipython",
    "version": 3
   },
   "file_extension": ".py",
   "mimetype": "text/x-python",
   "name": "python",
   "nbconvert_exporter": "python",
   "pygments_lexer": "ipython3",
   "version": "3.6.13"
  }
 },
 "nbformat": 4,
 "nbformat_minor": 5
}
