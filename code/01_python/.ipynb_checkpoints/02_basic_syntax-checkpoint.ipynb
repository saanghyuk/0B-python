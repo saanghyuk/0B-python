{
 "cells": [
  {
   "cell_type": "code",
   "execution_count": 1,
   "id": "889c18fc",
   "metadata": {},
   "outputs": [
    {
     "name": "stdout",
     "output_type": "stream",
     "text": [
      "Python 3.9.1\r\n"
     ]
    }
   ],
   "source": [
    "!python --version"
   ]
  },
  {
   "cell_type": "markdown",
   "id": "b4e09131",
   "metadata": {},
   "source": [
    "### 파이썬 기본 문법\n",
    "\n",
    "- 변수 선언, 식별자, 자료형, 형변화 연산자 학습\n"
   ]
  },
  {
   "cell_type": "code",
   "execution_count": 2,
   "id": "6c1736e8",
   "metadata": {},
   "outputs": [],
   "source": [
    "#### 1. 주석(Comment)과 출력(print)"
   ]
  },
  {
   "cell_type": "code",
   "execution_count": 3,
   "id": "6605bb7f",
   "metadata": {},
   "outputs": [],
   "source": [
    "# 주석 : 앞에 #을 붙이면 코드로 실행이 안됩니다. \n",
    "# 코드에 대한 설명이나 중간에 코드를 실행시키고 싶지 않을 때 사용한다. \n",
    "# 단축키 : cmd + /\n",
    "# 블럭 설정 : shift + 방향키"
   ]
  },
  {
   "cell_type": "code",
   "execution_count": 5,
   "id": "b7747aa3",
   "metadata": {},
   "outputs": [],
   "source": [
    "# 출력 : print 함수\n",
    "# 코드 중간에 변수에 들어있는 값을 확인하고 싶을 때 사용\n",
    "# %whos 이렇게도 가능. "
   ]
  },
  {
   "cell_type": "code",
   "execution_count": 6,
   "id": "2e13f65b",
   "metadata": {},
   "outputs": [
    {
     "name": "stdout",
     "output_type": "stream",
     "text": [
      "2\n",
      "2\n"
     ]
    }
   ],
   "source": [
    "a = 1\n",
    "b = 2\n",
    "print(b)\n",
    "c = 3\n",
    "b = 4\n",
    "print(b)"
   ]
  },
  {
   "cell_type": "code",
   "execution_count": 14,
   "id": "e9e61fa7",
   "metadata": {},
   "outputs": [
    {
     "name": "stdout",
     "output_type": "stream",
     "text": [
      "1-2\t3\n"
     ]
    }
   ],
   "source": [
    "# print함수의 옵션\n",
    "# docstring : 함수에 대한 설명, 단축키 shif+tab\n",
    "# 자동완성 단축키 : tab\n",
    "# 반드시 docstring 확인하면서 사용하자\n",
    "print(1, 2, sep=\"-\", end=\"\\t\")\n",
    "print(3)"
   ]
  },
  {
   "cell_type": "code",
   "execution_count": null,
   "id": "fddd39fd",
   "metadata": {},
   "outputs": [],
   "source": []
  },
  {
   "cell_type": "markdown",
   "id": "92e03a2b",
   "metadata": {},
   "source": [
    "#### 2. 변수 선언\n",
    "- RAM 저장공간에 값을 할당하는 행위\n",
    "- a = 1이라고 입력을 하면, a라는 저장공간에 1이 입력되는 것. \n",
    "- a=1, b=2, c= a+b라고 하면\n",
    "    - 얘네들은 컴퓨터에서 어떻게 자원을 활용할까? <br> a = 1을 하면, 램 이라는 저장공간에 a라는 공간을 만들고 1을 저장한다. <br> b = 2를 하면, 램이라는 저장공간에 b라는 공간을 만들고 2을 저장한다. <br> a+b를 하면, cpu에서 a와 b를 가져와서 3을 연산한다. "
   ]
  },
  {
   "cell_type": "code",
   "execution_count": 16,
   "id": "3e9b9f71",
   "metadata": {},
   "outputs": [],
   "source": [
    "# 변수는 여러가지 방식으로 생성 가능하다. \n",
    "a = 1\n",
    "d, e = 3, 4\n",
    "f = g = 5 # 5가 f와 g에 둘다 들어간다. "
   ]
  },
  {
   "cell_type": "code",
   "execution_count": null,
   "id": "7b01b4af",
   "metadata": {},
   "outputs": [],
   "source": []
  },
  {
   "cell_type": "markdown",
   "id": "3fb762a7",
   "metadata": {},
   "source": [
    "#### 3. 식별자\n",
    "- 변수, 함수, 클래스, 모듈 등의 이름을 식별자 라고 합니다. \n",
    "- 식별자 규칙\n",
    "    - 소문자, 대문자, 숫자, _를 사용한다. \n",
    "    - 가장 앞에 숫자 사용 불가 \n",
    "    - 예약어(def, class, try, 등) 사용 불가\n",
    "    - 컨벤션 \n",
    "        - snake case : fast_campus(변수선언, 함수선언에 사용)\n",
    "        - camel case : FastCampus(클래스 선언에 사용)"
   ]
  },
  {
   "cell_type": "code",
   "execution_count": null,
   "id": "2c1bf1de",
   "metadata": {},
   "outputs": [],
   "source": []
  },
  {
   "cell_type": "markdown",
   "id": "d9c522ef",
   "metadata": {},
   "source": [
    "#### 4. 데이터 타입\n",
    "- RAM 저장공간을 효율적으로 사용하기 위해서 저장공간의 타입을 설정\n",
    "- 동적타이핑 : 변수 선언시 저장되는 값에 따라서 자동으로 데이터 타입이 설정된다. \n",
    "    - 자동으로 저장공간이 해당 데이터타입으로 설정된다. \n",
    "    - 자바 등은 int a = 1 이렇게 써야 함. \n",
    "- 데이터타입이 없다면, 저장공간을 다 똑같이 할당해야 함. 너무 비효율적. \n",
    "- 기본 데이터 타입 : int, float, bool, str\n",
    "- 컬렉션 데이터 타입 : list, tuple, dict"
   ]
  },
  {
   "cell_type": "code",
   "execution_count": 19,
   "id": "c3fbe3a2",
   "metadata": {},
   "outputs": [
    {
     "data": {
      "text/plain": [
       "(int, str)"
      ]
     },
     "execution_count": 19,
     "metadata": {},
     "output_type": "execute_result"
    }
   ],
   "source": [
    "a = 1\n",
    "b = \"python\"\n",
    "type(a), type(b)"
   ]
  },
  {
   "cell_type": "code",
   "execution_count": 24,
   "id": "4580fe25",
   "metadata": {},
   "outputs": [
    {
     "data": {
      "text/plain": [
       "(int, float, bool, str)"
      ]
     },
     "execution_count": 24,
     "metadata": {},
     "output_type": "execute_result"
    }
   ],
   "source": [
    "# 기본 데이터 타입 int, float, bool, str\n",
    "a = 1\n",
    "b = 1.2\n",
    "c = True # False\n",
    "d = \"data\"\n",
    "type(a), type(b), type(c), type(d)"
   ]
  },
  {
   "cell_type": "code",
   "execution_count": 27,
   "id": "94fd57d2",
   "metadata": {},
   "outputs": [],
   "source": [
    "# 데이터 타입에 함수 : 문자열 \n",
    "# uppse : 대문자로 변환\n",
    "e = d.upper()"
   ]
  },
  {
   "cell_type": "code",
   "execution_count": 28,
   "id": "521a1fa5",
   "metadata": {},
   "outputs": [
    {
     "data": {
      "text/plain": [
       "'fast campus'"
      ]
     },
     "execution_count": 28,
     "metadata": {},
     "output_type": "execute_result"
    }
   ],
   "source": [
    "f = \"Fast Campus\"\n",
    "#lower : 소문자로 변환\n",
    "f.lower()"
   ]
  },
  {
   "cell_type": "code",
   "execution_count": 29,
   "id": "ec41edd0",
   "metadata": {},
   "outputs": [
    {
     "data": {
      "text/plain": [
       "'Fast Campus'"
      ]
     },
     "execution_count": 29,
     "metadata": {},
     "output_type": "execute_result"
    }
   ],
   "source": [
    "# strip: 공백제거\n",
    "f.strip()"
   ]
  },
  {
   "cell_type": "code",
   "execution_count": 31,
   "id": "107b9a71",
   "metadata": {},
   "outputs": [
    {
     "data": {
      "text/plain": [
       "'slow Campus'"
      ]
     },
     "execution_count": 31,
     "metadata": {},
     "output_type": "execute_result"
    }
   ],
   "source": [
    "# replace : 특정 문자열 치환\n",
    "f.replace(\"Fast\", \"slow\")"
   ]
  },
  {
   "cell_type": "code",
   "execution_count": 32,
   "id": "39e49617",
   "metadata": {
    "scrolled": true
   },
   "outputs": [
    {
     "data": {
      "text/plain": [
       "['__add__',\n",
       " '__class__',\n",
       " '__contains__',\n",
       " '__delattr__',\n",
       " '__dir__',\n",
       " '__doc__',\n",
       " '__eq__',\n",
       " '__format__',\n",
       " '__ge__',\n",
       " '__getattribute__',\n",
       " '__getitem__',\n",
       " '__getnewargs__',\n",
       " '__gt__',\n",
       " '__hash__',\n",
       " '__init__',\n",
       " '__init_subclass__',\n",
       " '__iter__',\n",
       " '__le__',\n",
       " '__len__',\n",
       " '__lt__',\n",
       " '__mod__',\n",
       " '__mul__',\n",
       " '__ne__',\n",
       " '__new__',\n",
       " '__reduce__',\n",
       " '__reduce_ex__',\n",
       " '__repr__',\n",
       " '__rmod__',\n",
       " '__rmul__',\n",
       " '__setattr__',\n",
       " '__sizeof__',\n",
       " '__str__',\n",
       " '__subclasshook__',\n",
       " 'capitalize',\n",
       " 'casefold',\n",
       " 'center',\n",
       " 'count',\n",
       " 'encode',\n",
       " 'endswith',\n",
       " 'expandtabs',\n",
       " 'find',\n",
       " 'format',\n",
       " 'format_map',\n",
       " 'index',\n",
       " 'isalnum',\n",
       " 'isalpha',\n",
       " 'isdecimal',\n",
       " 'isdigit',\n",
       " 'isidentifier',\n",
       " 'islower',\n",
       " 'isnumeric',\n",
       " 'isprintable',\n",
       " 'isspace',\n",
       " 'istitle',\n",
       " 'isupper',\n",
       " 'join',\n",
       " 'ljust',\n",
       " 'lower',\n",
       " 'lstrip',\n",
       " 'maketrans',\n",
       " 'partition',\n",
       " 'replace',\n",
       " 'rfind',\n",
       " 'rindex',\n",
       " 'rjust',\n",
       " 'rpartition',\n",
       " 'rsplit',\n",
       " 'rstrip',\n",
       " 'split',\n",
       " 'splitlines',\n",
       " 'startswith',\n",
       " 'strip',\n",
       " 'swapcase',\n",
       " 'title',\n",
       " 'translate',\n",
       " 'upper',\n",
       " 'zfill']"
      ]
     },
     "execution_count": 32,
     "metadata": {},
     "output_type": "execute_result"
    }
   ],
   "source": [
    "dir(f)"
   ]
  },
  {
   "cell_type": "code",
   "execution_count": null,
   "id": "75bb275f",
   "metadata": {},
   "outputs": [],
   "source": []
  },
  {
   "cell_type": "code",
   "execution_count": null,
   "id": "4099d972",
   "metadata": {},
   "outputs": [],
   "source": []
  },
  {
   "cell_type": "code",
   "execution_count": 33,
   "id": "e38c2b92",
   "metadata": {},
   "outputs": [],
   "source": [
    "# 오프셋 인덱스 : 마스크, 마스킹 : []\n",
    "# 문자열은 순서가 있는 문자들의 집합"
   ]
  },
  {
   "cell_type": "code",
   "execution_count": 34,
   "id": "8474bb57",
   "metadata": {},
   "outputs": [],
   "source": [
    "g= \"abcdefg\""
   ]
  },
  {
   "cell_type": "code",
   "execution_count": 36,
   "id": "e49d226d",
   "metadata": {},
   "outputs": [
    {
     "data": {
      "text/plain": [
       "('c', 'f')"
      ]
     },
     "execution_count": 36,
     "metadata": {},
     "output_type": "execute_result"
    }
   ],
   "source": [
    "g[2], g[-2]"
   ]
  },
  {
   "cell_type": "code",
   "execution_count": 38,
   "id": "62052b0b",
   "metadata": {},
   "outputs": [
    {
     "data": {
      "text/plain": [
       "'cde'"
      ]
     },
     "execution_count": 38,
     "metadata": {},
     "output_type": "execute_result"
    }
   ],
   "source": [
    "g[2:5] # 2, 3, 4가 나온다."
   ]
  },
  {
   "cell_type": "code",
   "execution_count": 39,
   "id": "ae60e68f",
   "metadata": {},
   "outputs": [
    {
     "data": {
      "text/plain": [
       "'ab'"
      ]
     },
     "execution_count": 39,
     "metadata": {},
     "output_type": "execute_result"
    }
   ],
   "source": [
    "g[:2]"
   ]
  },
  {
   "cell_type": "code",
   "execution_count": 40,
   "id": "fe952878",
   "metadata": {},
   "outputs": [
    {
     "data": {
      "text/plain": [
       "'defg'"
      ]
     },
     "execution_count": 40,
     "metadata": {},
     "output_type": "execute_result"
    }
   ],
   "source": [
    "g[3:]"
   ]
  },
  {
   "cell_type": "code",
   "execution_count": 41,
   "id": "6ea33bbd",
   "metadata": {},
   "outputs": [
    {
     "data": {
      "text/plain": [
       "'fg'"
      ]
     },
     "execution_count": 41,
     "metadata": {},
     "output_type": "execute_result"
    }
   ],
   "source": [
    "g[-2:]"
   ]
  },
  {
   "cell_type": "code",
   "execution_count": 43,
   "id": "a7a67a0a",
   "metadata": {},
   "outputs": [
    {
     "data": {
      "text/plain": [
       "'gfedcba'"
      ]
     },
     "execution_count": 43,
     "metadata": {},
     "output_type": "execute_result"
    }
   ],
   "source": [
    "g[::2] # 2칸씩 점프\n",
    "g[::3] # 3칸씩 점프\n",
    "g[::-1] # 역순"
   ]
  },
  {
   "cell_type": "code",
   "execution_count": 45,
   "id": "15dd808d",
   "metadata": {},
   "outputs": [
    {
     "data": {
      "text/plain": [
       "'bd'"
      ]
     },
     "execution_count": 45,
     "metadata": {},
     "output_type": "execute_result"
    }
   ],
   "source": [
    "g[1:5:2] # 1부터 5사이 2칸씩 점프"
   ]
  },
  {
   "cell_type": "code",
   "execution_count": 51,
   "id": "fe6c6641",
   "metadata": {},
   "outputs": [
    {
     "data": {
      "text/plain": [
       "'97531'"
      ]
     },
     "execution_count": 51,
     "metadata": {},
     "output_type": "execute_result"
    }
   ],
   "source": [
    "numbers = \"123456789\" # 97531 출력하려면?\n",
    "numbers[::-2]"
   ]
  },
  {
   "cell_type": "code",
   "execution_count": null,
   "id": "3c5b42dd",
   "metadata": {},
   "outputs": [],
   "source": []
  },
  {
   "cell_type": "markdown",
   "id": "fcd26f2a",
   "metadata": {},
   "source": [
    "#### 컬렉션 데이터 타입 : list, tuple, dict\n",
    "- list [] : 순서가 있는 수정이 가능한 데이터 타입\n",
    "- tuple () : 순서가 있는 수정이 불가능한 데이터 타입\n",
    "- dict {} : 순서가 없고, 키:값으로 구성되어 있는 데이터 타입"
   ]
  },
  {
   "cell_type": "code",
   "execution_count": 53,
   "id": "bc428876",
   "metadata": {},
   "outputs": [],
   "source": [
    "# list, 모든 데이터 타입이 들어갈 수 있음. \n",
    "ls = [1, 2, 3, \"four\", True, 1.2]"
   ]
  },
  {
   "cell_type": "code",
   "execution_count": 55,
   "id": "5628f441",
   "metadata": {},
   "outputs": [
    {
     "data": {
      "text/plain": [
       "('four', [1.2, True, 'four', 3, 2, 1])"
      ]
     },
     "execution_count": 55,
     "metadata": {},
     "output_type": "execute_result"
    }
   ],
   "source": [
    "# 순서가 있기 떄문에 offset index 사용 가능\n",
    "ls[3], ls[::-1]"
   ]
  },
  {
   "cell_type": "code",
   "execution_count": 77,
   "id": "c3a0a091",
   "metadata": {},
   "outputs": [],
   "source": [
    "# list 함수\n",
    "ls = [1, 5, 2, 4]"
   ]
  },
  {
   "cell_type": "code",
   "execution_count": 78,
   "id": "41804e5c",
   "metadata": {},
   "outputs": [
    {
     "data": {
      "text/plain": [
       "[1, 5, 2, 4, 3]"
      ]
     },
     "execution_count": 78,
     "metadata": {},
     "output_type": "execute_result"
    }
   ],
   "source": [
    "# append : 가장 뒤에 값을 추가 \n",
    "ls.append(3)\n",
    "ls"
   ]
  },
  {
   "cell_type": "code",
   "execution_count": 79,
   "id": "b0946c34",
   "metadata": {},
   "outputs": [
    {
     "data": {
      "text/plain": [
       "[5, 4, 3, 2, 1]"
      ]
     },
     "execution_count": 79,
     "metadata": {},
     "output_type": "execute_result"
    }
   ],
   "source": [
    "# sort: 오름 차순으로 정렬\n",
    "ls.sort()\n",
    "ls\n",
    "ls[::-1] #내림차순 정렬"
   ]
  },
  {
   "cell_type": "code",
   "execution_count": 80,
   "id": "0b675efc",
   "metadata": {},
   "outputs": [
    {
     "data": {
      "text/plain": [
       "(5, [1, 2, 3, 4])"
      ]
     },
     "execution_count": 80,
     "metadata": {},
     "output_type": "execute_result"
    }
   ],
   "source": [
    "# pop : 가장 마지막 데이터를 출력하고, 출력한 데이터를 삭제 해주는 함수ㄴ\n",
    "num = ls.pop()\n",
    "num, ls"
   ]
  },
  {
   "cell_type": "code",
   "execution_count": null,
   "id": "e61dd046",
   "metadata": {},
   "outputs": [],
   "source": []
  },
  {
   "cell_type": "code",
   "execution_count": 81,
   "id": "22c3d953",
   "metadata": {},
   "outputs": [],
   "source": [
    "# 리스트의 복사"
   ]
  },
  {
   "cell_type": "code",
   "execution_count": 83,
   "id": "fb474fb1",
   "metadata": {},
   "outputs": [
    {
     "data": {
      "text/plain": [
       "([1, 2, 3], [1, 2, 3])"
      ]
     },
     "execution_count": 83,
     "metadata": {},
     "output_type": "execute_result"
    }
   ],
   "source": [
    "ls1 = [1, 2, 3]\n",
    "ls2 = ls1 # 얕은 복사 : 주솟값 복사\n",
    "ls1, ls2"
   ]
  },
  {
   "cell_type": "code",
   "execution_count": 87,
   "id": "cbe99f8e",
   "metadata": {},
   "outputs": [
    {
     "data": {
      "text/plain": [
       "([1, 2, 5], [1, 2, 5])"
      ]
     },
     "execution_count": 87,
     "metadata": {},
     "output_type": "execute_result"
    }
   ],
   "source": [
    "ls1[2] = 5\n",
    "ls1, ls2"
   ]
  },
  {
   "cell_type": "markdown",
   "id": "9e4d2be6",
   "metadata": {},
   "source": [
    "파이썬에서는 모든 변수가 다 주솟값을 들고 있음. 리스트를 안에 넣으면 주솟값이 복사 되기때문에 하나가 해당 주소에 있는 리스트의 내부 특정 값을 바꾸면 다른 하나도 당연히 바뀔 수 밖에 없음. \n",
    "주솟값 복사(얕은 복사)가 된 것\n",
    "> https://wikidocs.net/16038 참고할 것"
   ]
  },
  {
   "cell_type": "code",
   "execution_count": 90,
   "id": "25ad42c7",
   "metadata": {},
   "outputs": [
    {
     "data": {
      "text/plain": [
       "(140524424183560, 140524441953928)"
      ]
     },
     "execution_count": 90,
     "metadata": {},
     "output_type": "execute_result"
    }
   ],
   "source": [
    "ls3 = ls1.copy()\n",
    "id(ls1), id(ls3) "
   ]
  },
  {
   "cell_type": "code",
   "execution_count": 93,
   "id": "9b9c81a5",
   "metadata": {},
   "outputs": [
    {
     "data": {
      "text/plain": [
       "([1, 2, 10], [1, 2, 5])"
      ]
     },
     "execution_count": 93,
     "metadata": {},
     "output_type": "execute_result"
    }
   ],
   "source": [
    "ls1[2] = 10 \n",
    "ls1, ls3"
   ]
  },
  {
   "cell_type": "code",
   "execution_count": null,
   "id": "a7c4dedd",
   "metadata": {},
   "outputs": [],
   "source": []
  },
  {
   "cell_type": "markdown",
   "id": "c7491646",
   "metadata": {},
   "source": [
    "#### Tuple (): 리스트와 같지만 수정이 불가능한 데이터 타입. () 괄호로 생성하지만, 생략도 가능함. \n",
    "- 튜플은 리스트보다 같은 데이터를 가졌을 때 공간을 적게 사용한다. 속도도 빠르다. "
   ]
  },
  {
   "cell_type": "code",
   "execution_count": 99,
   "id": "52bffea4",
   "metadata": {},
   "outputs": [
    {
     "data": {
      "text/plain": [
       "(tuple, tuple)"
      ]
     },
     "execution_count": 99,
     "metadata": {},
     "output_type": "execute_result"
    }
   ],
   "source": [
    "tp1 = 1, 2, 3\n",
    "tp2 = (4, 5, 6)\n",
    "type(tp1), type(tp2)"
   ]
  },
  {
   "cell_type": "code",
   "execution_count": 103,
   "id": "3c358af1",
   "metadata": {},
   "outputs": [
    {
     "data": {
      "text/plain": [
       "(2, (3, 2, 1))"
      ]
     },
     "execution_count": 103,
     "metadata": {},
     "output_type": "execute_result"
    }
   ],
   "source": [
    "# offset index 사용\n",
    "tp1[1], tp1[::-1]"
   ]
  },
  {
   "cell_type": "code",
   "execution_count": 105,
   "id": "3e8f6656",
   "metadata": {},
   "outputs": [
    {
     "name": "stdout",
     "output_type": "stream",
     "text": [
      "88 72\n"
     ]
    }
   ],
   "source": [
    "# 리스트와 튜플의 저장공간 차이 비교\n",
    "import sys\n",
    "\n",
    "ls = [1, 2, 3]\n",
    "tp = (1, 2, 3)\n",
    "\n",
    "print(sys.getsizeof(ls), sys.getsizeof(tp))\n"
   ]
  },
  {
   "cell_type": "code",
   "execution_count": null,
   "id": "479e75a6",
   "metadata": {},
   "outputs": [],
   "source": []
  },
  {
   "cell_type": "markdown",
   "id": "3aa9bb73",
   "metadata": {},
   "source": [
    "#### dict{}\n",
    "- 순서가 없고, {키:값}으로 구성되어 있는 데이터 타입\n",
    "- 키 값은 정수, 문자열만 가능하다. "
   ]
  },
  {
   "cell_type": "code",
   "execution_count": 106,
   "id": "4d583159",
   "metadata": {},
   "outputs": [
    {
     "data": {
      "text/plain": [
       "(dict, {1: 'one', 'two': 2, 'three': [1, 2, 3]})"
      ]
     },
     "execution_count": 106,
     "metadata": {},
     "output_type": "execute_result"
    }
   ],
   "source": [
    "# 인덱스 대신 키를 사용한다. \n",
    "dic = {\n",
    "    1:\"one\",\n",
    "    \"two\": 2,\n",
    "    \"three\": [1, 2, 3],\n",
    "}\n",
    "type(dic), dic"
   ]
  },
  {
   "cell_type": "code",
   "execution_count": 107,
   "id": "c479343e",
   "metadata": {},
   "outputs": [
    {
     "data": {
      "text/plain": [
       "('one', [1, 2, 3])"
      ]
     },
     "execution_count": 107,
     "metadata": {},
     "output_type": "execute_result"
    }
   ],
   "source": [
    "dic[1], dic[\"three\"]"
   ]
  },
  {
   "cell_type": "code",
   "execution_count": 109,
   "id": "eccf4b7c",
   "metadata": {},
   "outputs": [
    {
     "data": {
      "text/plain": [
       "{1: 'one', 'two': 123, 'three': [1, 2, 3]}"
      ]
     },
     "execution_count": 109,
     "metadata": {},
     "output_type": "execute_result"
    }
   ],
   "source": [
    "dic[\"two\"] = 123\n",
    "dic"
   ]
  },
  {
   "cell_type": "code",
   "execution_count": null,
   "id": "8a467cf8",
   "metadata": {},
   "outputs": [],
   "source": []
  },
  {
   "cell_type": "code",
   "execution_count": null,
   "id": "b12c3de2",
   "metadata": {},
   "outputs": [],
   "source": [
    "#아래 데이터를 리스트와 딕셔너리로 표현해보기\n",
    "# 도시 :seoul, busan, daegu \n",
    "# 인구 : 9,700,000, 3,400,000, 2,400,000"
   ]
  },
  {
   "cell_type": "code",
   "execution_count": 112,
   "id": "8c4e3fdb",
   "metadata": {},
   "outputs": [],
   "source": [
    "city = ['seoul', 'busan', 'daegu'] \n",
    "population = [9700000, 3400000, 2400000]"
   ]
  },
  {
   "cell_type": "code",
   "execution_count": 115,
   "id": "115f57dd",
   "metadata": {},
   "outputs": [],
   "source": [
    "data = {\n",
    "    \"seoul\": 9700000, \n",
    "    'busan': 3400000, \n",
    "    'daegu':2400000}"
   ]
  },
  {
   "cell_type": "code",
   "execution_count": 119,
   "id": "e21a4d84",
   "metadata": {},
   "outputs": [
    {
     "data": {
      "text/plain": [
       "15500000"
      ]
     },
     "execution_count": 119,
     "metadata": {},
     "output_type": "execute_result"
    }
   ],
   "source": [
    "sum(data.values())"
   ]
  },
  {
   "cell_type": "code",
   "execution_count": null,
   "id": "db56f657",
   "metadata": {},
   "outputs": [],
   "source": []
  },
  {
   "cell_type": "code",
   "execution_count": null,
   "id": "47d4c8f3",
   "metadata": {},
   "outputs": [],
   "source": []
  },
  {
   "cell_type": "markdown",
   "id": "70e33ada",
   "metadata": {},
   "source": [
    "### 5. 형변환\n",
    "- 데이터 타입을 변환하는 방법\n",
    "- int, float, bool, str, list, tuple, dict"
   ]
  },
  {
   "cell_type": "code",
   "execution_count": 120,
   "id": "03b18853",
   "metadata": {},
   "outputs": [],
   "source": [
    "a = 1\n",
    "b = \"2\""
   ]
  },
  {
   "cell_type": "code",
   "execution_count": 121,
   "id": "ec6e7a78",
   "metadata": {},
   "outputs": [
    {
     "data": {
      "text/plain": [
       "3"
      ]
     },
     "execution_count": 121,
     "metadata": {},
     "output_type": "execute_result"
    }
   ],
   "source": [
    "a+int(b)"
   ]
  },
  {
   "cell_type": "code",
   "execution_count": 122,
   "id": "ff0ac988",
   "metadata": {},
   "outputs": [
    {
     "data": {
      "text/plain": [
       "'12'"
      ]
     },
     "execution_count": 122,
     "metadata": {},
     "output_type": "execute_result"
    }
   ],
   "source": [
    "str(a) + b"
   ]
  },
  {
   "cell_type": "code",
   "execution_count": 125,
   "id": "62932ee1",
   "metadata": {},
   "outputs": [
    {
     "data": {
      "text/plain": [
       "[9700000, 3400000, 2400000]"
      ]
     },
     "execution_count": 125,
     "metadata": {},
     "output_type": "execute_result"
    }
   ],
   "source": [
    "type(data.values())\n",
    "list(data.values())"
   ]
  },
  {
   "cell_type": "code",
   "execution_count": 128,
   "id": "06049fca",
   "metadata": {},
   "outputs": [
    {
     "data": {
      "text/plain": [
       "[('seoul', 9700000), ('busan', 3400000), ('daegu', 2400000)]"
      ]
     },
     "execution_count": 128,
     "metadata": {},
     "output_type": "execute_result"
    }
   ],
   "source": [
    "# zip은 같은 인덱스끼리 묶어주는 함수\n",
    "list(zip(city, population))"
   ]
  },
  {
   "cell_type": "code",
   "execution_count": 130,
   "id": "7111981e",
   "metadata": {},
   "outputs": [],
   "source": [
    "result = dict(list(zip(city, population)))"
   ]
  },
  {
   "cell_type": "code",
   "execution_count": 131,
   "id": "2b54d33b",
   "metadata": {},
   "outputs": [
    {
     "data": {
      "text/plain": [
       "dict_keys(['seoul', 'busan', 'daegu'])"
      ]
     },
     "execution_count": 131,
     "metadata": {},
     "output_type": "execute_result"
    }
   ],
   "source": [
    "result.keys()"
   ]
  },
  {
   "cell_type": "code",
   "execution_count": 132,
   "id": "c471ba2a",
   "metadata": {},
   "outputs": [
    {
     "data": {
      "text/plain": [
       "dict_values([9700000, 3400000, 2400000])"
      ]
     },
     "execution_count": 132,
     "metadata": {},
     "output_type": "execute_result"
    }
   ],
   "source": [
    "result.values()"
   ]
  },
  {
   "cell_type": "code",
   "execution_count": null,
   "id": "a8139c6f",
   "metadata": {},
   "outputs": [],
   "source": []
  },
  {
   "cell_type": "markdown",
   "id": "03f25791",
   "metadata": {},
   "source": [
    "### 6. 연산자 \n",
    "- 산술연산자 : +, -, *, /, //(몫), %(나머지), **(제곱)\n",
    "- 할당연산자 : 변수에 누적시켜서 연산 : += , //=, *= \n",
    "- 비교연산자 : <, >, ==, !=, <=, >= : 결과로 True or False\n",
    "- 논리연산자 : True, False를 연산 : or, and, not\n",
    "- 멤버연산자 : 특정 데이터가 있는지확인할 때 사용 : not in, in"
   ]
  },
  {
   "cell_type": "code",
   "execution_count": 133,
   "id": "ea2f1e14",
   "metadata": {},
   "outputs": [
    {
     "data": {
      "text/plain": [
       "2.0"
      ]
     },
     "execution_count": 133,
     "metadata": {},
     "output_type": "execute_result"
    }
   ],
   "source": [
    "# 산술연산자\n",
    "1+4/2**2"
   ]
  },
  {
   "cell_type": "code",
   "execution_count": null,
   "id": "f59c1f28",
   "metadata": {},
   "outputs": [],
   "source": [
    "# 비교연산자\n",
    "a = 10\n",
    "a = a+10\n",
    "a += 10"
   ]
  },
  {
   "cell_type": "code",
   "execution_count": 135,
   "id": "c82868e4",
   "metadata": {},
   "outputs": [
    {
     "data": {
      "text/plain": [
       "(False, False, True)"
      ]
     },
     "execution_count": 135,
     "metadata": {},
     "output_type": "execute_result"
    }
   ],
   "source": [
    "# 비교연산자\n",
    "b = 3\n",
    "a > b, a == b, a != b"
   ]
  },
  {
   "cell_type": "code",
   "execution_count": 136,
   "id": "88ad4caa",
   "metadata": {},
   "outputs": [
    {
     "data": {
      "text/plain": [
       "(False, True, True, False)"
      ]
     },
     "execution_count": 136,
     "metadata": {},
     "output_type": "execute_result"
    }
   ],
   "source": [
    "# 논리연산자\n",
    "True and False, True or False, True and True, not True"
   ]
  },
  {
   "cell_type": "code",
   "execution_count": 137,
   "id": "97d393cf",
   "metadata": {},
   "outputs": [
    {
     "data": {
      "text/plain": [
       "(True, False, True)"
      ]
     },
     "execution_count": 137,
     "metadata": {},
     "output_type": "execute_result"
    }
   ],
   "source": [
    "# 멤버 연산\n",
    "ls = [\"jin\", \"andy\", \"jhon\"]\n",
    "\"andy\" in ls, \"anchel\" in ls, \"john\" not in ls"
   ]
  },
  {
   "cell_type": "code",
   "execution_count": null,
   "id": "3e9ac8ec",
   "metadata": {},
   "outputs": [],
   "source": []
  },
  {
   "cell_type": "markdown",
   "id": "5c832982",
   "metadata": {},
   "source": [
    "### 랜덤함수 "
   ]
  },
  {
   "cell_type": "code",
   "execution_count": 148,
   "id": "b091d0f3",
   "metadata": {},
   "outputs": [
    {
     "data": {
      "text/plain": [
       "6"
      ]
     },
     "execution_count": 148,
     "metadata": {},
     "output_type": "execute_result"
    }
   ],
   "source": [
    "import random\n",
    "\n",
    "random.randint(1, 10)"
   ]
  },
  {
   "cell_type": "code",
   "execution_count": 150,
   "id": "7a5a938a",
   "metadata": {},
   "outputs": [
    {
     "name": "stdout",
     "output_type": "stream",
     "text": [
      "insert string :Hi\n"
     ]
    },
    {
     "data": {
      "text/plain": [
       "'Hi'"
      ]
     },
     "execution_count": 150,
     "metadata": {},
     "output_type": "execute_result"
    }
   ],
   "source": [
    "# 입력함수\n",
    "data = input(\"insert string :\")\n",
    "data"
   ]
  },
  {
   "cell_type": "code",
   "execution_count": 151,
   "id": "3ee9e275",
   "metadata": {},
   "outputs": [],
   "source": [
    "# 해결의 책 : 질문을 하면 질문에 대한 답을 해주는 책"
   ]
  },
  {
   "cell_type": "code",
   "execution_count": null,
   "id": "7bf85c44",
   "metadata": {},
   "outputs": [],
   "source": [
    "# 솔루션을 리스트로 작성\n",
    "# 질문 입력 받음.\n",
    "# 솔루션의 갯수에 맞게 랜덤한 INDEx 정수 값을 생성\n",
    "# index에 해당하는 솔루션 리스트의 데이터를 출력"
   ]
  },
  {
   "cell_type": "code",
   "execution_count": 154,
   "id": "28debe5f",
   "metadata": {},
   "outputs": [
    {
     "name": "stdout",
     "output_type": "stream",
     "text": [
      "질문을 입력하세요a\n"
     ]
    },
    {
     "data": {
      "text/plain": [
       "'생각지도 않게 좋은 일이 생긴다.'"
      ]
     },
     "execution_count": 154,
     "metadata": {},
     "output_type": "execute_result"
    }
   ],
   "source": [
    "solutions = [\n",
    "    \"무엇을 하던 잘 안될 것이다.\", \n",
    "    \"생각지도 않게 좋은 일이 생긴다.\",\n",
    "    \"무엇을 상상하던 그 이상이다.\"\n",
    "]\n",
    "\n",
    "# 질문 입력받는다. \n",
    "input(\"질문을 입력하세요\")\n",
    "\n",
    "\n",
    "# 솔루션의 갯수에 맞게 랜덤한 INDEx 정수 값을 생성\n",
    "solutions[random.randint(0, len(solutions) -1 )]"
   ]
  },
  {
   "cell_type": "code",
   "execution_count": null,
   "id": "66bfeb4e",
   "metadata": {},
   "outputs": [],
   "source": []
  },
  {
   "cell_type": "code",
   "execution_count": null,
   "id": "98ebde97",
   "metadata": {},
   "outputs": [],
   "source": []
  },
  {
   "cell_type": "markdown",
   "id": "68acc10e",
   "metadata": {},
   "source": [
    "### 1. 조건문 \n",
    "- 특정 조건에 따라서 코드를 실행하고자 할때 사용\n",
    "- if, else, elif \n",
    "- 조건부분에 bool 데이터 타입 이외의 데이터 타입이 오면 bool으로 형변환되어 판단된다. \n",
    "    - int : 0을 제외한 나머지 값은 True\n",
    "    - float : 0.0을 제외한 나머지 실수 True\n",
    "    - String : \"\"을 제외한 나머지 문자열 True\n",
    "    - list, tuple, dict : [], {}, () 를 제외한 나머지 True"
   ]
  },
  {
   "cell_type": "code",
   "execution_count": 155,
   "id": "cd5a6754",
   "metadata": {},
   "outputs": [
    {
     "name": "stdout",
     "output_type": "stream",
     "text": [
      "Python\n",
      "done\n"
     ]
    }
   ],
   "source": [
    "if True:\n",
    "    print(\"Python\")\n",
    "print(\"done\")"
   ]
  },
  {
   "cell_type": "code",
   "execution_count": 158,
   "id": "5151b20c",
   "metadata": {},
   "outputs": [],
   "source": [
    "# 지갑에 돈이 10000원 이상 있으면 택시를 타고 그렇지 않으면 걸어서 집에 갑니다.\n",
    "money = 12000"
   ]
  },
  {
   "cell_type": "code",
   "execution_count": 159,
   "id": "a0dcd0e3",
   "metadata": {},
   "outputs": [
    {
     "name": "stdout",
     "output_type": "stream",
     "text": [
      "택시를 타고 집에 갑니다\n"
     ]
    }
   ],
   "source": [
    "if money >= 10000:\n",
    "    print(\"택시를 타고 집에 갑니다\")\n",
    "\n",
    "if money < 10000:\n",
    "    print(\"걸어서 집에 갑니다.\")"
   ]
  },
  {
   "cell_type": "code",
   "execution_count": null,
   "id": "ceb2a33b",
   "metadata": {},
   "outputs": [],
   "source": [
    "if money >= 10000:\n",
    "    print(\"택시를 타고 집에 갑니다\")\n",
    "else:\n",
    "    print(\"걸어서 집에 갑니다.\")"
   ]
  },
  {
   "cell_type": "code",
   "execution_count": 160,
   "id": "03f61bc6",
   "metadata": {},
   "outputs": [],
   "source": [
    "# 지갑에 돈이 10000원 이상 있으면 택시를 타고 2000원 이상이 있으면 버스를 탄다. "
   ]
  },
  {
   "cell_type": "code",
   "execution_count": 161,
   "id": "61f3f4aa",
   "metadata": {},
   "outputs": [
    {
     "name": "stdout",
     "output_type": "stream",
     "text": [
      "택시를 타고 집에 갑니다\n"
     ]
    }
   ],
   "source": [
    "if money >= 10000:\n",
    "    print(\"택시를 타고 집에 갑니다\")\n",
    "elif money >= 5000:\n",
    "    print(\"버스를 탑니다\")\n",
    "else:\n",
    "    print(\"걸어서 집에 갑니다.\")\n"
   ]
  },
  {
   "cell_type": "code",
   "execution_count": null,
   "id": "82cae225",
   "metadata": {},
   "outputs": [],
   "source": []
  },
  {
   "cell_type": "code",
   "execution_count": 162,
   "id": "82e84771",
   "metadata": {},
   "outputs": [],
   "source": [
    "# 계좌에 10000원이 들어 있습니다. \n",
    "# 인출 금액을 입력 받습니다. \n",
    "# 인출 금액이 계좌에 있는 금액보다 크면, \"인출이 불가능 합니다.\" 출력\n",
    "# 인출 금액이 계좌에 있는 금액보다 작으면, \"인출 되었습니다\" 출력\n",
    "# 마지막에 현재 계좌의 잔액을 출력"
   ]
  },
  {
   "cell_type": "code",
   "execution_count": 164,
   "id": "38c519fe",
   "metadata": {},
   "outputs": [
    {
     "name": "stdout",
     "output_type": "stream",
     "text": [
      "인출 금액을 입력하세요5000\n",
      "인출되었습니다\n",
      "잔액 5000\n"
     ]
    }
   ],
   "source": [
    "withdrawal = int(input(\"인출 금액을 입력하세요\"))\n",
    "if withdrawal > 10000:\n",
    "    print(\"인출이 불가능 합니다\")\n",
    "else:\n",
    "    print(\"인출되었습니다\")\n",
    "print(\"잔액\", 10000-withdrawal)"
   ]
  },
  {
   "cell_type": "code",
   "execution_count": 165,
   "id": "f7be6464",
   "metadata": {},
   "outputs": [],
   "source": [
    "# string 데이터 타입 format 함수\n",
    "account = 5000"
   ]
  },
  {
   "cell_type": "code",
   "execution_count": 167,
   "id": "5b332e02",
   "metadata": {},
   "outputs": [
    {
     "name": "stdout",
     "output_type": "stream",
     "text": [
      "현재 잔액은 5000원 입니다\n"
     ]
    }
   ],
   "source": [
    "print(\"현재 잔액은 {}원 입니다\".format(account))"
   ]
  },
  {
   "cell_type": "code",
   "execution_count": null,
   "id": "d2015aab",
   "metadata": {},
   "outputs": [],
   "source": []
  },
  {
   "cell_type": "markdown",
   "id": "3139e1a2",
   "metadata": {},
   "source": [
    "### 삼항 연산자 \n",
    "- 간단한 if, else 구문을 한줄의 코드로 표현할 수 있는 방법. \n",
    "- (True) if (condition) else (False)"
   ]
  },
  {
   "cell_type": "code",
   "execution_count": 169,
   "id": "664d22c4",
   "metadata": {},
   "outputs": [],
   "source": [
    "# data 변수에 0 이면 \"Zero\" 아니면 \"Not Zero\"를 출력"
   ]
  },
  {
   "cell_type": "code",
   "execution_count": 170,
   "id": "48737b39",
   "metadata": {},
   "outputs": [
    {
     "name": "stdout",
     "output_type": "stream",
     "text": [
      "Zero\n"
     ]
    }
   ],
   "source": [
    "data = 0\n",
    "if data:\n",
    "    print(\"Not Zero\")\n",
    "else: \n",
    "    print(\"Zero\")"
   ]
  },
  {
   "cell_type": "code",
   "execution_count": 171,
   "id": "4755393f",
   "metadata": {},
   "outputs": [
    {
     "name": "stdout",
     "output_type": "stream",
     "text": [
      "Zero\n"
     ]
    }
   ],
   "source": [
    "print(\"Not Zero\" if data else \"Zero\")"
   ]
  },
  {
   "cell_type": "code",
   "execution_count": null,
   "id": "036474ac",
   "metadata": {},
   "outputs": [],
   "source": []
  },
  {
   "cell_type": "code",
   "execution_count": null,
   "id": "92f1b02d",
   "metadata": {},
   "outputs": [],
   "source": []
  },
  {
   "cell_type": "markdown",
   "id": "af7612a9",
   "metadata": {},
   "source": [
    "### 2. 반복문\n",
    "- 반복되는 코드를 실행할 때 사용\n",
    "- while, for, break, continue\n",
    "- list comprehension"
   ]
  },
  {
   "cell_type": "code",
   "execution_count": null,
   "id": "1797c084",
   "metadata": {},
   "outputs": [],
   "source": [
    "# 무한루프 빠지지 않게 조심할 것 \n",
    "# result = 1\n",
    "# while result:\n",
    "#     result += 1\n",
    "# print(result)"
   ]
  },
  {
   "cell_type": "code",
   "execution_count": 173,
   "id": "71ad2338",
   "metadata": {},
   "outputs": [
    {
     "name": "stdout",
     "output_type": "stream",
     "text": [
      "3\n",
      "2\n",
      "1\n"
     ]
    }
   ],
   "source": [
    "data = 3\n",
    "while data: # 조건이 False가 될때 까지 구문의 코드를 실행한다.\n",
    "    print(data)\n",
    "    data -= 1"
   ]
  },
  {
   "cell_type": "code",
   "execution_count": 174,
   "id": "f3703ea2",
   "metadata": {},
   "outputs": [],
   "source": [
    "# 어떤 학생이 국어 : 80점, 영어 : 90점, 수학 : 100점 \n",
    "# while을 이용해서, 총점과 평균을 출력해 주세요. \n",
    "# 학생의 점수는 list, dict로 표현을 해서 표현. \n",
    "# len, dict.values(), list.pop"
   ]
  },
  {
   "cell_type": "code",
   "execution_count": 178,
   "id": "cdd3da3c",
   "metadata": {},
   "outputs": [
    {
     "name": "stdout",
     "output_type": "stream",
     "text": [
      "총점은 270, 평균은 90.0 입니다.\n"
     ]
    }
   ],
   "source": [
    "score = [80, 90, 100]\n",
    "subjects = len(score)\n",
    "total = 0\n",
    "while score:\n",
    "    total += score.pop()\n",
    "\n",
    "print(\"총점은 {}, 평균은 {} 입니다.\".format(total, total/subjects))"
   ]
  },
  {
   "cell_type": "code",
   "execution_count": 182,
   "id": "17e6d904",
   "metadata": {},
   "outputs": [],
   "source": [
    "subjects_ls = ['korean', 'english', 'math']\n",
    "points_ls = [80, 90, 100]\n",
    "points_dict = {\"korea\": 80, 'english':90, 'math': 100}"
   ]
  },
  {
   "cell_type": "code",
   "execution_count": 183,
   "id": "b94272db",
   "metadata": {},
   "outputs": [],
   "source": [
    "datas = points_ls.copy() "
   ]
  },
  {
   "cell_type": "code",
   "execution_count": 184,
   "id": "318b09c0",
   "metadata": {},
   "outputs": [
    {
     "data": {
      "text/plain": [
       "(270, 90.0)"
      ]
     },
     "execution_count": 184,
     "metadata": {},
     "output_type": "execute_result"
    }
   ],
   "source": [
    "total, avg = 0, 0\n",
    "while datas:\n",
    "    total += datas.pop()\n",
    "avg = total/len(points_ls)    \n",
    "total, avg"
   ]
  },
  {
   "cell_type": "code",
   "execution_count": null,
   "id": "39489c06",
   "metadata": {},
   "outputs": [],
   "source": []
  },
  {
   "cell_type": "code",
   "execution_count": null,
   "id": "be0c9034",
   "metadata": {},
   "outputs": [],
   "source": [
    "# break : 반복문을 중단 시킬 때 사용되는 예약어"
   ]
  },
  {
   "cell_type": "code",
   "execution_count": 186,
   "id": "83ee9b22",
   "metadata": {
    "scrolled": true
   },
   "outputs": [
    {
     "name": "stdout",
     "output_type": "stream",
     "text": [
      "10\n"
     ]
    }
   ],
   "source": [
    "result = 1\n",
    "while result:\n",
    "    result += 1\n",
    "    if result >= 10:\n",
    "        break\n",
    "print(result)"
   ]
  },
  {
   "cell_type": "code",
   "execution_count": null,
   "id": "48401862",
   "metadata": {},
   "outputs": [],
   "source": []
  },
  {
   "cell_type": "code",
   "execution_count": null,
   "id": "8bc736b6",
   "metadata": {},
   "outputs": [],
   "source": []
  },
  {
   "cell_type": "markdown",
   "id": "3e449774",
   "metadata": {},
   "source": [
    "### for\n",
    "- iterable한 값을 하나씩 꺼내서 value에 대입시킨 후 코드를 iterable변수의 값 갯수 만큼 실행\n",
    "```\n",
    "for <varisble> in iterables>:\n",
    "    <code>\n",
    "```\n",
    "\n",
    "#### continue: 조건부분으로 올라가서 코드가 실행된다\n",
    "- 밑 부분을 실행하지 않는다. "
   ]
  },
  {
   "cell_type": "code",
   "execution_count": 195,
   "id": "6432cc27",
   "metadata": {},
   "outputs": [
    {
     "data": {
      "text/plain": [
       "4960"
      ]
     },
     "execution_count": 195,
     "metadata": {},
     "output_type": "execute_result"
    }
   ],
   "source": [
    "# for를 이용하여 코드를 100번 실행 시키려면?\n",
    "# range 함수\n",
    "# list(range(100))\n",
    "for data in range(100):\n",
    "    result += data\n",
    "result"
   ]
  },
  {
   "cell_type": "code",
   "execution_count": 197,
   "id": "77b18265",
   "metadata": {},
   "outputs": [
    {
     "data": {
      "text/plain": [
       "([0, 1, 2, 3, 4], [5, 6, 7, 8, 9], [0, 2, 4, 6, 8])"
      ]
     },
     "execution_count": 197,
     "metadata": {},
     "output_type": "execute_result"
    }
   ],
   "source": [
    "# offset index 개념과 비슷하게 사용\n",
    "list(range(5)), list(range(5, 10)), list(range(0, 10, 2))"
   ]
  },
  {
   "cell_type": "code",
   "execution_count": 199,
   "id": "7e98b3c2",
   "metadata": {
    "scrolled": true
   },
   "outputs": [
    {
     "data": {
      "text/plain": [
       "10"
      ]
     },
     "execution_count": 199,
     "metadata": {},
     "output_type": "execute_result"
    }
   ],
   "source": [
    "# 0~10까지 짝수를 더한 총 합\n",
    "result = 0\n",
    "for number in range(0, 11, 2):\n",
    "    result += number\n",
    "number"
   ]
  },
  {
   "cell_type": "code",
   "execution_count": null,
   "id": "b446d036",
   "metadata": {},
   "outputs": [],
   "source": []
  },
  {
   "cell_type": "code",
   "execution_count": 209,
   "id": "71516313",
   "metadata": {},
   "outputs": [
    {
     "name": "stdout",
     "output_type": "stream",
     "text": [
      "korea\n",
      "english\n",
      "math\n"
     ]
    }
   ],
   "source": [
    "points_dict = {\"korea\": 80, 'english':90, 'math': 100}\n",
    "for data in points_dict :\n",
    "    print(data)"
   ]
  },
  {
   "cell_type": "code",
   "execution_count": null,
   "id": "870f99c8",
   "metadata": {},
   "outputs": [],
   "source": []
  },
  {
   "cell_type": "code",
   "execution_count": null,
   "id": "9c8d09df",
   "metadata": {},
   "outputs": [],
   "source": [
    "# for 문에서 iterable 데이터가 tuple로 나오면, 여러개의 변수로 받을 수 있다. "
   ]
  },
  {
   "cell_type": "code",
   "execution_count": 208,
   "id": "b23b8528",
   "metadata": {
    "scrolled": true
   },
   "outputs": [
    {
     "name": "stdout",
     "output_type": "stream",
     "text": [
      "korea 80\n",
      "english 90\n",
      "math 100\n"
     ]
    }
   ],
   "source": [
    "# zip으로 그대로 넣어도 되고, 한번 돌때마다 3개짜리 튜플이 들어오면 3개 변수도 받을 수 있다. \n",
    "for a, b in points_dict.items():\n",
    "    print(a, b)"
   ]
  },
  {
   "cell_type": "code",
   "execution_count": null,
   "id": "d2750893",
   "metadata": {},
   "outputs": [],
   "source": []
  },
  {
   "cell_type": "code",
   "execution_count": 210,
   "id": "278e2407",
   "metadata": {},
   "outputs": [
    {
     "name": "stdout",
     "output_type": "stream",
     "text": [
      "0 2 "
     ]
    }
   ],
   "source": [
    "ls = [0, 1, 2, 3]\n",
    "for data in ls:\n",
    "    if data % 2: # 데이터가 홀수이면 continue 실행\n",
    "        continue\n",
    "    print(data, end=\" \") # 데이터가 짝수이면 print를 실행\n"
   ]
  },
  {
   "cell_type": "code",
   "execution_count": null,
   "id": "d09ab55e",
   "metadata": {},
   "outputs": [],
   "source": []
  },
  {
   "cell_type": "markdown",
   "id": "e04ec981",
   "metadata": {},
   "source": [
    "##### 구구단 출력해보기 (가로 출력)\n",
    "- 2*1=2 3*1=3 ... 9*1=9\n",
    "- print : end=\"\\t\"\n",
    "- string : format 함수 이용\n"
   ]
  },
  {
   "cell_type": "code",
   "execution_count": 225,
   "id": "52449b47",
   "metadata": {},
   "outputs": [
    {
     "name": "stdout",
     "output_type": "stream",
     "text": [
      "1*1=1\t1*2=2\t1*3=3\t1*4=4\t1*5=5\t1*6=6\t1*7=7\t1*8=8\t1*9=9\t\n",
      "2*1=2\t2*2=4\t2*3=6\t2*4=8\t2*5=10\t2*6=12\t2*7=14\t2*8=16\t2*9=18\t\n",
      "3*1=3\t3*2=6\t3*3=9\t3*4=12\t3*5=15\t3*6=18\t3*7=21\t3*8=24\t3*9=27\t\n",
      "4*1=4\t4*2=8\t4*3=12\t4*4=16\t4*5=20\t4*6=24\t4*7=28\t4*8=32\t4*9=36\t\n",
      "5*1=5\t5*2=10\t5*3=15\t5*4=20\t5*5=25\t5*6=30\t5*7=35\t5*8=40\t5*9=45\t\n",
      "6*1=6\t6*2=12\t6*3=18\t6*4=24\t6*5=30\t6*6=36\t6*7=42\t6*8=48\t6*9=54\t\n",
      "7*1=7\t7*2=14\t7*3=21\t7*4=28\t7*5=35\t7*6=42\t7*7=49\t7*8=56\t7*9=63\t\n",
      "8*1=8\t8*2=16\t8*3=24\t8*4=32\t8*5=40\t8*6=48\t8*7=56\t8*8=64\t8*9=72\t\n",
      "9*1=9\t9*2=18\t9*3=27\t9*4=36\t9*5=45\t9*6=54\t9*7=63\t9*8=72\t9*9=81\t\n"
     ]
    }
   ],
   "source": [
    "for i in range(1, 10):\n",
    "    for j in range(1, 10):\n",
    "        print(\"{}*{}={}\".format(i, j, i*j), end=\"\\t\")\n",
    "    print()"
   ]
  },
  {
   "cell_type": "code",
   "execution_count": null,
   "id": "53b089f0",
   "metadata": {},
   "outputs": [],
   "source": []
  },
  {
   "cell_type": "code",
   "execution_count": null,
   "id": "fe024e7b",
   "metadata": {},
   "outputs": [],
   "source": []
  },
  {
   "cell_type": "markdown",
   "id": "c6ce282f",
   "metadata": {},
   "source": [
    "#### 3. List Comprehension\n",
    "- 리스트 데이터를 만들어 주는 방법\n",
    "- for문보다 빠르게 동작한다."
   ]
  },
  {
   "cell_type": "code",
   "execution_count": 227,
   "id": "0fb5a692",
   "metadata": {},
   "outputs": [
    {
     "data": {
      "text/plain": [
       "[0, 1, 4, 9]"
      ]
     },
     "execution_count": 227,
     "metadata": {},
     "output_type": "execute_result"
    }
   ],
   "source": [
    "ls = [0, 1, 2, 3]\n",
    "result = []\n",
    "for data in ls:\n",
    "    result.append(data**2)\n",
    "result"
   ]
  },
  {
   "cell_type": "code",
   "execution_count": 230,
   "id": "5fb62b4b",
   "metadata": {},
   "outputs": [
    {
     "data": {
      "text/plain": [
       "[0, 1, 4, 9]"
      ]
     },
     "execution_count": 230,
     "metadata": {},
     "output_type": "execute_result"
    }
   ],
   "source": [
    "result = [data**2 for data in ls]\n",
    "result"
   ]
  },
  {
   "cell_type": "code",
   "execution_count": 234,
   "id": "db36aca3",
   "metadata": {},
   "outputs": [
    {
     "data": {
      "text/plain": [
       "['짝수', '홀수', '짝수', '홀수']"
      ]
     },
     "execution_count": 234,
     "metadata": {},
     "output_type": "execute_result"
    }
   ],
   "source": [
    "# 리스트 컴프리헨션을 써서 홀수와 짝수를 리스트로 출력해주는 코드\n",
    "ls =[0, 1, 2, 3]\n",
    "result = [\n",
    "    \"홀수\" if i%2 else \"짝수\"\n",
    "    for i in ls\n",
    "]\n",
    "result"
   ]
  },
  {
   "cell_type": "code",
   "execution_count": 236,
   "id": "42c76f10",
   "metadata": {
    "scrolled": true
   },
   "outputs": [
    {
     "data": {
      "text/plain": [
       "[1, 3, 5, 7, 9]"
      ]
     },
     "execution_count": 236,
     "metadata": {},
     "output_type": "execute_result"
    }
   ],
   "source": [
    "# 리스트컴프리헨션 조건문 filtering\n",
    "ls = range(10)\n",
    "[i for i in ls  if i%2]"
   ]
  },
  {
   "cell_type": "code",
   "execution_count": 240,
   "id": "46e71852",
   "metadata": {
    "scrolled": true
   },
   "outputs": [
    {
     "data": {
      "text/plain": [
       "['count', 'index', 'start', 'step', 'stop']"
      ]
     },
     "execution_count": 240,
     "metadata": {},
     "output_type": "execute_result"
    }
   ],
   "source": [
    "[func for func in dir(ls) if func[:2] != \"__\"]"
   ]
  },
  {
   "cell_type": "code",
   "execution_count": 241,
   "id": "a47fe58f",
   "metadata": {},
   "outputs": [
    {
     "data": {
      "text/plain": [
       "['count']"
      ]
     },
     "execution_count": 241,
     "metadata": {},
     "output_type": "execute_result"
    }
   ],
   "source": [
    "[func for func in dir(ls) if func[0] == \"c\"]"
   ]
  },
  {
   "cell_type": "code",
   "execution_count": 242,
   "id": "bd145009",
   "metadata": {},
   "outputs": [],
   "source": [
    "# 실제로 List comprehension은 for문의 2/3정도의 시간이 듬 "
   ]
  },
  {
   "cell_type": "code",
   "execution_count": 243,
   "id": "3b6e3727",
   "metadata": {},
   "outputs": [],
   "source": [
    "# for문과 List comprehension 성능 비교"
   ]
  },
  {
   "cell_type": "code",
   "execution_count": 248,
   "id": "cd1c2c47",
   "metadata": {},
   "outputs": [
    {
     "name": "stdout",
     "output_type": "stream",
     "text": [
      "815 µs ± 62.8 µs per loop (mean ± std. dev. of 7 runs, 1000 loops each)\n"
     ]
    }
   ],
   "source": [
    "%%timeit\n",
    "ls1 =[]\n",
    "for num in range(1, 10001):\n",
    "    if num % 3 ==0:\n",
    "        ls1.append(num)\n"
   ]
  },
  {
   "cell_type": "code",
   "execution_count": 249,
   "id": "0b25546f",
   "metadata": {
    "scrolled": true
   },
   "outputs": [
    {
     "name": "stdout",
     "output_type": "stream",
     "text": [
      "654 µs ± 31.5 µs per loop (mean ± std. dev. of 7 runs, 1000 loops each)\n"
     ]
    }
   ],
   "source": [
    "%%timeit\n",
    "ls2 =[i for i in range(1, 10001) if i%3 ==0]"
   ]
  },
  {
   "cell_type": "code",
   "execution_count": null,
   "id": "d4f7861c",
   "metadata": {},
   "outputs": [],
   "source": []
  }
 ],
 "metadata": {
  "kernelspec": {
   "display_name": "Python 3",
   "language": "python",
   "name": "python3"
  },
  "language_info": {
   "codemirror_mode": {
    "name": "ipython",
    "version": 3
   },
   "file_extension": ".py",
   "mimetype": "text/x-python",
   "name": "python",
   "nbconvert_exporter": "python",
   "pygments_lexer": "ipython3",
   "version": "3.6.13"
  }
 },
 "nbformat": 4,
 "nbformat_minor": 5
}
