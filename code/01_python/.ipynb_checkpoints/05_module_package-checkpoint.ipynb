{
 "cells": [
  {
   "cell_type": "markdown",
   "id": "7788cf53",
   "metadata": {},
   "source": [
    "### Module Package\n",
    "- module : 변수, 함수, 클래스를 모아놓은 (.py) 확장자를 가진 파일 \n",
    "- package : 모듈의 기능을 디렉토리별로 정리해 놓은 개념  "
   ]
  },
  {
   "cell_type": "markdown",
   "id": "0ce74d2a",
   "metadata": {},
   "source": [
    "#### 1. 모듈\n",
    "- 파일 생성\n",
    "- 모듈 호출"
   ]
  },
  {
   "cell_type": "code",
   "execution_count": null,
   "id": "6ea22556",
   "metadata": {},
   "outputs": [],
   "source": [
    "!ls"
   ]
  },
  {
   "cell_type": "code",
   "execution_count": null,
   "id": "ab19510e",
   "metadata": {},
   "outputs": [],
   "source": [
    "%%writefile dss.py\n",
    "\n",
    "num = 1234\n",
    "def disp1(msg):\n",
    "    print(\"disp1\", msg)\n",
    "\n",
    "def disp2(msg):\n",
    "    print(\"disp2\", msg)\n",
    "\n",
    "class Calc:\n",
    "    def plus(self, *args):\n",
    "        return sum(args)"
   ]
  },
  {
   "cell_type": "code",
   "execution_count": null,
   "id": "f5dbd1d1",
   "metadata": {},
   "outputs": [],
   "source": [
    "%reset"
   ]
  },
  {
   "cell_type": "code",
   "execution_count": null,
   "id": "a701314e",
   "metadata": {},
   "outputs": [],
   "source": [
    "%whos"
   ]
  },
  {
   "cell_type": "code",
   "execution_count": null,
   "id": "28fcdc43",
   "metadata": {},
   "outputs": [],
   "source": []
  },
  {
   "cell_type": "code",
   "execution_count": null,
   "id": "2c087292",
   "metadata": {},
   "outputs": [],
   "source": [
    "# 모듈 호출\n",
    "import dss"
   ]
  },
  {
   "cell_type": "code",
   "execution_count": null,
   "id": "6004bf59",
   "metadata": {},
   "outputs": [],
   "source": [
    "whos"
   ]
  },
  {
   "cell_type": "code",
   "execution_count": null,
   "id": "ece62417",
   "metadata": {},
   "outputs": [],
   "source": [
    "dss.num"
   ]
  },
  {
   "cell_type": "code",
   "execution_count": null,
   "id": "37274eaf",
   "metadata": {},
   "outputs": [],
   "source": [
    "dss.disp1(\"python\")"
   ]
  },
  {
   "cell_type": "code",
   "execution_count": null,
   "id": "8a9e753d",
   "metadata": {},
   "outputs": [],
   "source": [
    "calcl = dss.Calc()"
   ]
  },
  {
   "cell_type": "code",
   "execution_count": null,
   "id": "d372b5a5",
   "metadata": {},
   "outputs": [],
   "source": [
    "calcl.plus(1,2,3,4,5 )"
   ]
  },
  {
   "cell_type": "code",
   "execution_count": null,
   "id": "7e0b8874",
   "metadata": {},
   "outputs": [],
   "source": []
  },
  {
   "cell_type": "code",
   "execution_count": null,
   "id": "12cadfc5",
   "metadata": {},
   "outputs": [],
   "source": [
    "import random"
   ]
  },
  {
   "cell_type": "code",
   "execution_count": null,
   "id": "e19fbcdb",
   "metadata": {},
   "outputs": [],
   "source": [
    "%whos"
   ]
  },
  {
   "cell_type": "code",
   "execution_count": null,
   "id": "0937fe13",
   "metadata": {},
   "outputs": [],
   "source": [
    "random.randint(1, 5)"
   ]
  },
  {
   "cell_type": "code",
   "execution_count": null,
   "id": "07619b12",
   "metadata": {},
   "outputs": [],
   "source": [
    "# 모듈 안에 특정 함수, 변수, 클래스 호출"
   ]
  },
  {
   "cell_type": "code",
   "execution_count": null,
   "id": "4b882bef",
   "metadata": {},
   "outputs": [],
   "source": [
    "from dss import num, disp2"
   ]
  },
  {
   "cell_type": "code",
   "execution_count": null,
   "id": "c2eae43e",
   "metadata": {},
   "outputs": [],
   "source": [
    "%whos"
   ]
  },
  {
   "cell_type": "code",
   "execution_count": null,
   "id": "a521e895",
   "metadata": {},
   "outputs": [],
   "source": [
    "num"
   ]
  },
  {
   "cell_type": "code",
   "execution_count": null,
   "id": "689eaead",
   "metadata": {},
   "outputs": [],
   "source": [
    "%reset"
   ]
  },
  {
   "cell_type": "code",
   "execution_count": null,
   "id": "1b470e05",
   "metadata": {},
   "outputs": [],
   "source": [
    "from dss import *"
   ]
  },
  {
   "cell_type": "code",
   "execution_count": null,
   "id": "32e2c452",
   "metadata": {},
   "outputs": [],
   "source": [
    "%whos"
   ]
  },
  {
   "cell_type": "code",
   "execution_count": null,
   "id": "8c72925f",
   "metadata": {},
   "outputs": [],
   "source": []
  },
  {
   "cell_type": "markdown",
   "id": "702dafbb",
   "metadata": {},
   "source": [
    "### 2. Package\n",
    "- 패키지 생성\n",
    "- 패키지 호출\n",
    "- setup.py 패키지 설치 파일 만들기"
   ]
  },
  {
   "cell_type": "markdown",
   "id": "d57b9d05",
   "metadata": {},
   "source": [
    "#### 디렉토리 생성"
   ]
  },
  {
   "cell_type": "code",
   "execution_count": 23,
   "id": "84368ca1",
   "metadata": {},
   "outputs": [],
   "source": [
    "!mkdir -p school/dss"
   ]
  },
  {
   "cell_type": "code",
   "execution_count": 24,
   "id": "68782cf3",
   "metadata": {},
   "outputs": [],
   "source": [
    "!mkdir -p school/web"
   ]
  },
  {
   "cell_type": "markdown",
   "id": "cfc18d7a",
   "metadata": {},
   "source": [
    "- tree 설치\n",
    "     - homebrew\n",
    "     - brew install tree"
   ]
  },
  {
   "cell_type": "code",
   "execution_count": 25,
   "id": "17a61d81",
   "metadata": {
    "scrolled": true
   },
   "outputs": [
    {
     "name": "stdout",
     "output_type": "stream",
     "text": [
      "\u001b[01;34mschool\u001b[00m\r\n",
      "├── \u001b[01;34mdss\u001b[00m\r\n",
      "├── setup.py\r\n",
      "└── \u001b[01;34mweb\u001b[00m\r\n",
      "    ├── __init__.py\r\n",
      "    ├── \u001b[01;34m__pycache__\u001b[00m\r\n",
      "    │   ├── __init__.cpython-36.pyc\r\n",
      "    │   └── url.cpython-36.pyc\r\n",
      "    └── url.py\r\n",
      "\r\n",
      "3 directories, 5 files\r\n"
     ]
    }
   ],
   "source": [
    "!tree school"
   ]
  },
  {
   "cell_type": "code",
   "execution_count": 26,
   "id": "199c5858",
   "metadata": {},
   "outputs": [],
   "source": [
    "# 패키지 사용시 디렉토리에 __init__.py 파일을 추가\n",
    "# python 3.3 버전 이상에서는 필요 없음. \n",
    "!touch school/dss/__init__.py\n",
    "!touch school/web/__init__.py"
   ]
  },
  {
   "cell_type": "code",
   "execution_count": 27,
   "id": "7e2f75b4",
   "metadata": {},
   "outputs": [
    {
     "name": "stdout",
     "output_type": "stream",
     "text": [
      "\u001b[01;34mschool\u001b[00m\r\n",
      "├── \u001b[01;34mdss\u001b[00m\r\n",
      "│   └── __init__.py\r\n",
      "├── setup.py\r\n",
      "└── \u001b[01;34mweb\u001b[00m\r\n",
      "    ├── __init__.py\r\n",
      "    ├── \u001b[01;34m__pycache__\u001b[00m\r\n",
      "    │   ├── __init__.cpython-36.pyc\r\n",
      "    │   └── url.cpython-36.pyc\r\n",
      "    └── url.py\r\n",
      "\r\n",
      "3 directories, 6 files\r\n"
     ]
    }
   ],
   "source": [
    "!tree school"
   ]
  },
  {
   "cell_type": "code",
   "execution_count": 28,
   "id": "db10818c",
   "metadata": {},
   "outputs": [
    {
     "name": "stdout",
     "output_type": "stream",
     "text": [
      "Writing school/dss/data1.py\n"
     ]
    }
   ],
   "source": [
    "%%writefile school/dss/data1.py\n",
    "def plus(*args):\n",
    "    print(\"data2\")\n",
    "    print(sum(args))"
   ]
  },
  {
   "cell_type": "code",
   "execution_count": 29,
   "id": "711ea8bc",
   "metadata": {
    "scrolled": true
   },
   "outputs": [
    {
     "name": "stdout",
     "output_type": "stream",
     "text": [
      "Writing school/dss/data2.py\n"
     ]
    }
   ],
   "source": [
    "%%writefile school/dss/data2.py\n",
    "def plus2(*args):\n",
    "    print(\"data2\")\n",
    "    print(sum(args))"
   ]
  },
  {
   "cell_type": "code",
   "execution_count": 30,
   "id": "c35acb78",
   "metadata": {},
   "outputs": [
    {
     "name": "stdout",
     "output_type": "stream",
     "text": [
      "Overwriting school/web/url.py\n"
     ]
    }
   ],
   "source": [
    "%%writefile school/web/url.py\n",
    "\n",
    "def make(url):\n",
    "    return url if url[:7] == \"http://\" else \"http://\"+url"
   ]
  },
  {
   "cell_type": "code",
   "execution_count": 31,
   "id": "3d3d678c",
   "metadata": {
    "scrolled": true
   },
   "outputs": [
    {
     "name": "stdout",
     "output_type": "stream",
     "text": [
      "\u001b[01;34mschool\u001b[00m\r\n",
      "├── \u001b[01;34mdss\u001b[00m\r\n",
      "│   ├── __init__.py\r\n",
      "│   ├── data1.py\r\n",
      "│   └── data2.py\r\n",
      "├── setup.py\r\n",
      "└── \u001b[01;34mweb\u001b[00m\r\n",
      "    ├── __init__.py\r\n",
      "    ├── \u001b[01;34m__pycache__\u001b[00m\r\n",
      "    │   ├── __init__.cpython-36.pyc\r\n",
      "    │   └── url.cpython-36.pyc\r\n",
      "    └── url.py\r\n",
      "\r\n",
      "3 directories, 8 files\r\n"
     ]
    }
   ],
   "source": [
    "!tree school"
   ]
  },
  {
   "cell_type": "code",
   "execution_count": null,
   "id": "4342ea77",
   "metadata": {},
   "outputs": [],
   "source": []
  },
  {
   "cell_type": "code",
   "execution_count": 34,
   "id": "ef1307b6",
   "metadata": {},
   "outputs": [
    {
     "name": "stdout",
     "output_type": "stream",
     "text": [
      "Once deleted, variables cannot be recovered. Proceed (y/[n])? y\n"
     ]
    }
   ],
   "source": [
    "%reset"
   ]
  },
  {
   "cell_type": "code",
   "execution_count": 35,
   "id": "76ea71fe",
   "metadata": {},
   "outputs": [],
   "source": [
    "import school.dss.data1"
   ]
  },
  {
   "cell_type": "code",
   "execution_count": 36,
   "id": "2ca55b3a",
   "metadata": {},
   "outputs": [
    {
     "name": "stdout",
     "output_type": "stream",
     "text": [
      "Variable   Type      Data/Info\n",
      "------------------------------\n",
      "school     module    <module 'school' (namespace)>\n"
     ]
    }
   ],
   "source": [
    "%whos"
   ]
  },
  {
   "cell_type": "code",
   "execution_count": 37,
   "id": "fadf117c",
   "metadata": {
    "scrolled": false
   },
   "outputs": [
    {
     "name": "stdout",
     "output_type": "stream",
     "text": [
      "data2\n",
      "6\n"
     ]
    }
   ],
   "source": [
    "school.dss.data1.plus(1,2,3)"
   ]
  },
  {
   "cell_type": "code",
   "execution_count": 38,
   "id": "91b760c2",
   "metadata": {},
   "outputs": [],
   "source": [
    "import school.dss.data1 as dss"
   ]
  },
  {
   "cell_type": "code",
   "execution_count": 39,
   "id": "d520c205",
   "metadata": {},
   "outputs": [
    {
     "name": "stdout",
     "output_type": "stream",
     "text": [
      "data2\n",
      "3\n"
     ]
    }
   ],
   "source": [
    "dss.plus(1, 2)"
   ]
  },
  {
   "cell_type": "code",
   "execution_count": 40,
   "id": "5eff9446",
   "metadata": {},
   "outputs": [],
   "source": [
    "# school.web : 디렉토리 \n",
    "# url : 모듈\n",
    "# import 뒤는 디렉토리가 올 수 없다. 모듈 혹은 변수 이름이 와야 한다. \n",
    "from school.web import url"
   ]
  },
  {
   "cell_type": "code",
   "execution_count": 41,
   "id": "6835c3fd",
   "metadata": {},
   "outputs": [
    {
     "data": {
      "text/plain": [
       "'http://google.com'"
      ]
     },
     "execution_count": 41,
     "metadata": {},
     "output_type": "execute_result"
    }
   ],
   "source": [
    "url.make(\"google.com\")"
   ]
  },
  {
   "cell_type": "code",
   "execution_count": 42,
   "id": "dda0831b",
   "metadata": {},
   "outputs": [
    {
     "data": {
      "text/plain": [
       "'http://naver.com'"
      ]
     },
     "execution_count": 42,
     "metadata": {},
     "output_type": "execute_result"
    }
   ],
   "source": [
    "url.make(\"http://naver.com\")"
   ]
  },
  {
   "cell_type": "code",
   "execution_count": null,
   "id": "e075055e",
   "metadata": {},
   "outputs": [],
   "source": []
  },
  {
   "cell_type": "code",
   "execution_count": 43,
   "id": "44b83b1d",
   "metadata": {},
   "outputs": [],
   "source": [
    "# 패키지의 위치\n",
    "# import dss는 같은 디렉토리니깐 되는건데, import random은 뭐지?\n",
    "# 특정 디렉토리에 있는 패키지는 어디서나 import 가능하다. \n",
    "# 그 위치는 어디일까? "
   ]
  },
  {
   "cell_type": "code",
   "execution_count": 44,
   "id": "5d9bb436",
   "metadata": {},
   "outputs": [
    {
     "name": "stdout",
     "output_type": "stream",
     "text": [
      "/Users/sanghyuk/anaconda/lib/python36.zip\n",
      "/Users/sanghyuk/anaconda/lib/python3.6\n",
      "/Users/sanghyuk/anaconda/lib/python3.6/lib-dynload\n",
      "\n",
      "/Users/sanghyuk/anaconda/lib/python3.6/site-packages\n",
      "/Users/sanghyuk/anaconda/lib/python3.6/site-packages/requests-2.18.4-py3.6.egg\n",
      "/Users/sanghyuk/anaconda/lib/python3.6/site-packages/certifi-2017.7.27.1-py3.6.egg\n",
      "/Users/sanghyuk/anaconda/lib/python3.6/site-packages/urllib3-1.22-py3.6.egg\n",
      "/Users/sanghyuk/Documents/zerobase_online/code/01_python/school\n",
      "/Users/sanghyuk/anaconda/lib/python3.6/site-packages/IPython/extensions\n",
      "/Users/sanghyuk/.ipython\n"
     ]
    }
   ],
   "source": [
    "import sys\n",
    "\n",
    "for path in sys.path:\n",
    "    print(path)"
   ]
  },
  {
   "cell_type": "code",
   "execution_count": 45,
   "id": "e10cce84",
   "metadata": {},
   "outputs": [],
   "source": [
    "packages = !ls /Users/sanghyuk/anaconda/lib/python3.6"
   ]
  },
  {
   "cell_type": "code",
   "execution_count": 46,
   "id": "218e57f3",
   "metadata": {},
   "outputs": [
    {
     "data": {
      "text/plain": [
       "208"
      ]
     },
     "execution_count": 46,
     "metadata": {},
     "output_type": "execute_result"
    }
   ],
   "source": [
    "len(packages)"
   ]
  },
  {
   "cell_type": "code",
   "execution_count": null,
   "id": "06a67ea4",
   "metadata": {},
   "outputs": [],
   "source": []
  },
  {
   "cell_type": "code",
   "execution_count": 47,
   "id": "48691b62",
   "metadata": {},
   "outputs": [],
   "source": [
    "# setup.py 를 작성해서 패키지를 설치해서 사용\n",
    "# setuptools 이용, 패키지의 최상위 디렉토리 안에 작성하면 된다. "
   ]
  },
  {
   "cell_type": "code",
   "execution_count": 20,
   "id": "5593cc31",
   "metadata": {},
   "outputs": [
    {
     "name": "stdout",
     "output_type": "stream",
     "text": [
      "\u001b[01;34mschool\u001b[00m\r\n",
      "├── \u001b[01;34mdss\u001b[00m\r\n",
      "│   ├── __init__.py\r\n",
      "│   ├── data1.py\r\n",
      "│   └── data2.py\r\n",
      "├── \u001b[01;34mdss.egg-info\u001b[00m\r\n",
      "│   ├── PKG-INFO\r\n",
      "│   ├── SOURCES.txt\r\n",
      "│   ├── dependency_links.txt\r\n",
      "│   ├── not-zip-safe\r\n",
      "│   └── top_level.txt\r\n",
      "├── setup.py\r\n",
      "└── \u001b[01;34mweb\u001b[00m\r\n",
      "    ├── __init__.py\r\n",
      "    ├── \u001b[01;34m__pycache__\u001b[00m\r\n",
      "    │   ├── __init__.cpython-36.pyc\r\n",
      "    │   └── url.cpython-36.pyc\r\n",
      "    └── url.py\r\n",
      "\r\n",
      "4 directories, 13 files\r\n"
     ]
    }
   ],
   "source": [
    "!tree school"
   ]
  },
  {
   "cell_type": "code",
   "execution_count": 51,
   "id": "1d763b1c",
   "metadata": {},
   "outputs": [
    {
     "name": "stdout",
     "output_type": "stream",
     "text": [
      "Overwriting school/setup.py\n"
     ]
    }
   ],
   "source": [
    "%%writefile school/setup.py\n",
    "from setuptools import setup, find_packages\n",
    "\n",
    "setup(\n",
    "    name=\"dss\", # 디렉토리 이름 말고 이 이름으로 실제 설치된다. \n",
    "    packages = find_packages(),\n",
    "    include_package_data = True,\n",
    "    version = \"0.0.1\",\n",
    "    author =\"SanghyukSon\",\n",
    "    author_email = \"saanghyuk@gmail.com\",\n",
    "    zip_safe = False\n",
    ")"
   ]
  },
  {
   "cell_type": "code",
   "execution_count": 52,
   "id": "300d30eb",
   "metadata": {
    "scrolled": true
   },
   "outputs": [
    {
     "name": "stdout",
     "output_type": "stream",
     "text": [
      "\u001b[01;34mschool\u001b[00m\r\n",
      "├── \u001b[01;34mdss\u001b[00m\r\n",
      "│   ├── __init__.py\r\n",
      "│   ├── \u001b[01;34m__pycache__\u001b[00m\r\n",
      "│   │   ├── __init__.cpython-36.pyc\r\n",
      "│   │   └── data1.cpython-36.pyc\r\n",
      "│   ├── data1.py\r\n",
      "│   └── data2.py\r\n",
      "├── setup.py\r\n",
      "└── \u001b[01;34mweb\u001b[00m\r\n",
      "    ├── __init__.py\r\n",
      "    ├── \u001b[01;34m__pycache__\u001b[00m\r\n",
      "    │   ├── __init__.cpython-36.pyc\r\n",
      "    │   └── url.cpython-36.pyc\r\n",
      "    └── url.py\r\n",
      "\r\n",
      "4 directories, 10 files\r\n"
     ]
    }
   ],
   "source": [
    "!tree school"
   ]
  },
  {
   "cell_type": "code",
   "execution_count": 53,
   "id": "f78e7d15",
   "metadata": {},
   "outputs": [],
   "source": [
    "# 패키지 설치 확인"
   ]
  },
  {
   "cell_type": "code",
   "execution_count": 54,
   "id": "d936e7b8",
   "metadata": {},
   "outputs": [],
   "source": [
    "# 설치 안되있음. "
   ]
  },
  {
   "cell_type": "code",
   "execution_count": 21,
   "id": "10075138",
   "metadata": {},
   "outputs": [
    {
     "name": "stdout",
     "output_type": "stream",
     "text": [
      "dss        0.0.1               /Users/sanghyuk/Documents/zerobase_online/code/01_python/school\r\n"
     ]
    }
   ],
   "source": [
    "!pip list | grep dss"
   ]
  },
  {
   "cell_type": "code",
   "execution_count": 22,
   "id": "6d7cf518",
   "metadata": {},
   "outputs": [
    {
     "name": "stdout",
     "output_type": "stream",
     "text": [
      "Package    Version             Location\r\n",
      "---------- ------------------- ---------------------------------------------------------------\r\n",
      "certifi    2020.12.5\r\n",
      "dss        0.0.1               /Users/sanghyuk/Documents/zerobase_online/code/01_python/school\r\n",
      "pip        20.3.3\r\n",
      "setuptools 51.3.3.post20210118\r\n",
      "wheel      0.36.2\r\n"
     ]
    }
   ],
   "source": [
    "!pip list"
   ]
  },
  {
   "cell_type": "code",
   "execution_count": 23,
   "id": "a1b33ebc",
   "metadata": {
    "scrolled": true
   },
   "outputs": [
    {
     "name": "stdout",
     "output_type": "stream",
     "text": [
      "Python 3.9.1\r\n"
     ]
    }
   ],
   "source": [
    "!python --version"
   ]
  },
  {
   "cell_type": "code",
   "execution_count": null,
   "id": "10376db0",
   "metadata": {},
   "outputs": [],
   "source": []
  },
  {
   "cell_type": "code",
   "execution_count": 24,
   "id": "e12e357b",
   "metadata": {},
   "outputs": [],
   "source": [
    "# 패키지 설치\n",
    "# 터미널에서 Setup.py 있는 현재 디렉토리로 와서 아래 명렁어 실행시키면 된다. \n",
    "# python setup.py develop\n",
    "# 이처럼 원래는 setup.py 가서 설치하는 것. 그거를 pip같은 곳에서 간단하게 해주는 것. \n",
    "# develop: 개발자 모드 : 코드를 수정하면 설치된 패키지도 같이 수정\n",
    "# build: 일반모드, 코드를 수정하면 ㅠㅠ다시 설치해 줘야 함. "
   ]
  },
  {
   "cell_type": "code",
   "execution_count": 32,
   "id": "0e00bd9b",
   "metadata": {},
   "outputs": [
    {
     "name": "stdout",
     "output_type": "stream",
     "text": [
      "Package     Version\r\n",
      "----------- -------------------\r\n",
      "certifi     2020.12.5\r\n",
      "goodmorning 0.0.1\r\n",
      "pip         20.3.3\r\n",
      "setuptools  51.3.3.post20210118\r\n",
      "wheel       0.36.2\r\n"
     ]
    }
   ],
   "source": [
    "!pip list"
   ]
  },
  {
   "cell_type": "code",
   "execution_count": 33,
   "id": "78d2da6a",
   "metadata": {},
   "outputs": [
    {
     "name": "stdout",
     "output_type": "stream",
     "text": [
      "\u001b[01;34mschool\u001b[00m\r\n",
      "├── \u001b[01;34mdss\u001b[00m\r\n",
      "│   ├── __init__.py\r\n",
      "│   ├── data1.py\r\n",
      "│   └── data2.py\r\n",
      "├── \u001b[01;34mgoodmorning.egg-info\u001b[00m\r\n",
      "│   ├── PKG-INFO\r\n",
      "│   ├── SOURCES.txt\r\n",
      "│   ├── dependency_links.txt\r\n",
      "│   ├── not-zip-safe\r\n",
      "│   └── top_level.txt\r\n",
      "├── setup.py\r\n",
      "└── \u001b[01;34mweb\u001b[00m\r\n",
      "    ├── __init__.py\r\n",
      "    ├── \u001b[01;34m__pycache__\u001b[00m\r\n",
      "    │   ├── __init__.cpython-36.pyc\r\n",
      "    │   └── url.cpython-36.pyc\r\n",
      "    └── url.py\r\n",
      "\r\n",
      "4 directories, 13 files\r\n"
     ]
    }
   ],
   "source": [
    "!tree school"
   ]
  },
  {
   "cell_type": "code",
   "execution_count": null,
   "id": "7defb4f5",
   "metadata": {},
   "outputs": [],
   "source": []
  },
  {
   "cell_type": "code",
   "execution_count": null,
   "id": "63482ffe",
   "metadata": {},
   "outputs": [],
   "source": []
  },
  {
   "cell_type": "code",
   "execution_count": 34,
   "id": "d5a1348a",
   "metadata": {
    "scrolled": true
   },
   "outputs": [
    {
     "name": "stdout",
     "output_type": "stream",
     "text": [
      "Overwriting school/dss/__init__.py\n"
     ]
    }
   ],
   "source": [
    "%%writefile school/dss/__init__.py\n",
    "\n",
    "__all__=[\"data1\", \"data2\"]"
   ]
  },
  {
   "cell_type": "code",
   "execution_count": 35,
   "id": "9fec9f41",
   "metadata": {},
   "outputs": [
    {
     "name": "stdout",
     "output_type": "stream",
     "text": [
      "Package     Version\n",
      "----------- -------------------\n",
      "certifi     2020.12.5\n",
      "goodmorning 0.0.1\n",
      "pip         20.3.3\n",
      "setuptools  51.3.3.post20210118\n",
      "wheel       0.36.2\n"
     ]
    }
   ],
   "source": [
    "!pip list"
   ]
  },
  {
   "cell_type": "code",
   "execution_count": 43,
   "id": "d55b5f4b",
   "metadata": {},
   "outputs": [
    {
     "name": "stdout",
     "output_type": "stream",
     "text": [
      "Variable   Type        Data/Info\n",
      "--------------------------------\n",
      "Calc       type        <class 'dss.Calc'>\n",
      "disp1      function    <function disp1 at 0x7fe0c3ae6840>\n",
      "disp2      function    <function disp2 at 0x7fe0c3ae68c8>\n",
      "num        int         1234\n"
     ]
    }
   ],
   "source": [
    "%whos"
   ]
  },
  {
   "cell_type": "code",
   "execution_count": 8,
   "id": "c39e5b5e",
   "metadata": {},
   "outputs": [],
   "source": [
    "from dss import *"
   ]
  },
  {
   "cell_type": "code",
   "execution_count": 9,
   "id": "e270073d",
   "metadata": {},
   "outputs": [
    {
     "data": {
      "text/plain": [
       "<module 'dss' from '/Users/sanghyuk/Documents/zerobase_online/code/01_python/school/dss/__init__.py'>"
      ]
     },
     "execution_count": 9,
     "metadata": {},
     "output_type": "execute_result"
    }
   ],
   "source": [
    "dss"
   ]
  },
  {
   "cell_type": "code",
   "execution_count": 10,
   "id": "c712ae56",
   "metadata": {
    "scrolled": true
   },
   "outputs": [
    {
     "name": "stdout",
     "output_type": "stream",
     "text": [
      "Variable   Type      Data/Info\n",
      "------------------------------\n",
      "data1      module    <module 'dss.data1' from <...>hon/school/dss/data1.py'>\n",
      "data2      module    <module 'dss.data2' from <...>hon/school/dss/data2.py'>\n",
      "dss        module    <module 'dss' from '/User<...>/school/dss/__init__.py'>\n"
     ]
    }
   ],
   "source": [
    "%whos"
   ]
  },
  {
   "cell_type": "code",
   "execution_count": 11,
   "id": "b7cb54d6",
   "metadata": {},
   "outputs": [
    {
     "data": {
      "text/plain": [
       "<module 'dss.data1' from '/Users/sanghyuk/Documents/zerobase_online/code/01_python/school/dss/data1.py'>"
      ]
     },
     "execution_count": 11,
     "metadata": {},
     "output_type": "execute_result"
    }
   ],
   "source": [
    "data1"
   ]
  },
  {
   "cell_type": "code",
   "execution_count": null,
   "id": "c5a6f818",
   "metadata": {},
   "outputs": [],
   "source": []
  },
  {
   "cell_type": "code",
   "execution_count": 14,
   "id": "e04a3620",
   "metadata": {},
   "outputs": [
    {
     "name": "stdout",
     "output_type": "stream",
     "text": [
      "Found existing installation: goodmorning 0.0.1\r\n",
      "Can't uninstall 'goodmorning'. No files were found to uninstall.\r\n"
     ]
    }
   ],
   "source": [
    "#uninstall\n",
    "!pip uninstall goodmorning"
   ]
  },
  {
   "cell_type": "code",
   "execution_count": null,
   "id": "3362aff7",
   "metadata": {},
   "outputs": [],
   "source": []
  },
  {
   "cell_type": "code",
   "execution_count": null,
   "id": "b91bae12",
   "metadata": {},
   "outputs": [],
   "source": []
  },
  {
   "cell_type": "code",
   "execution_count": 15,
   "id": "20becba4",
   "metadata": {},
   "outputs": [],
   "source": [
    "# pip 로 하고 싶으면, \n",
    "# pypy라는 곳에 패키지 보내면, 심사 후에 pip저장소에 등록 해줌. "
   ]
  },
  {
   "cell_type": "code",
   "execution_count": null,
   "id": "f93395b2",
   "metadata": {},
   "outputs": [],
   "source": []
  }
 ],
 "metadata": {
  "kernelspec": {
   "display_name": "Python 3",
   "language": "python",
   "name": "python3"
  },
  "language_info": {
   "codemirror_mode": {
    "name": "ipython",
    "version": 3
   },
   "file_extension": ".py",
   "mimetype": "text/x-python",
   "name": "python",
   "nbconvert_exporter": "python",
   "pygments_lexer": "ipython3",
   "version": "3.6.13"
  }
 },
 "nbformat": 4,
 "nbformat_minor": 5
}
