{
 "cells": [
  {
   "cell_type": "code",
   "execution_count": 1,
   "id": "2538f454",
   "metadata": {
    "scrolled": true
   },
   "outputs": [
    {
     "name": "stdout",
     "output_type": "stream",
     "text": [
      "\u001b[01;34mschool\u001b[00m\r\n",
      "├── \u001b[01;34mdss\u001b[00m\r\n",
      "│   ├── __init__.py\r\n",
      "│   ├── \u001b[01;34m__pycache__\u001b[00m\r\n",
      "│   │   ├── __init__.cpython-36.pyc\r\n",
      "│   │   └── data1.cpython-36.pyc\r\n",
      "│   ├── data1.py\r\n",
      "│   └── data2.py\r\n",
      "├── setup.py\r\n",
      "└── \u001b[01;34mweb\u001b[00m\r\n",
      "    ├── __init__.py\r\n",
      "    ├── \u001b[01;34m__pycache__\u001b[00m\r\n",
      "    │   ├── __init__.cpython-36.pyc\r\n",
      "    │   └── url.cpython-36.pyc\r\n",
      "    └── url.py\r\n",
      "\r\n",
      "4 directories, 10 files\r\n"
     ]
    }
   ],
   "source": [
    "!tree school"
   ]
  },
  {
   "cell_type": "code",
   "execution_count": 2,
   "id": "74b991eb",
   "metadata": {},
   "outputs": [
    {
     "name": "stdout",
     "output_type": "stream",
     "text": [
      "Package    Version\r\n",
      "---------- -------------------\r\n",
      "certifi    2020.12.5\r\n",
      "pip        20.3.3\r\n",
      "setuptools 51.3.3.post20210118\r\n",
      "wheel      0.36.2\r\n"
     ]
    }
   ],
   "source": [
    "!pip list"
   ]
  },
  {
   "cell_type": "code",
   "execution_count": 3,
   "id": "9b72ee58",
   "metadata": {},
   "outputs": [],
   "source": [
    "from dss import *"
   ]
  },
  {
   "cell_type": "code",
   "execution_count": 4,
   "id": "9692f130",
   "metadata": {},
   "outputs": [
    {
     "name": "stdout",
     "output_type": "stream",
     "text": [
      "Variable   Type        Data/Info\n",
      "--------------------------------\n",
      "Calc       type        <class 'dss.Calc'>\n",
      "disp1      function    <function disp1 at 0x7f98210e4598>\n",
      "disp2      function    <function disp2 at 0x7f98210e49d8>\n",
      "num        int         1234\n"
     ]
    }
   ],
   "source": [
    "%whos"
   ]
  },
  {
   "cell_type": "code",
   "execution_count": null,
   "id": "433d4289",
   "metadata": {},
   "outputs": [],
   "source": []
  }
 ],
 "metadata": {
  "kernelspec": {
   "display_name": "Python 3",
   "language": "python",
   "name": "python3"
  },
  "language_info": {
   "codemirror_mode": {
    "name": "ipython",
    "version": 3
   },
   "file_extension": ".py",
   "mimetype": "text/x-python",
   "name": "python",
   "nbconvert_exporter": "python",
   "pygments_lexer": "ipython3",
   "version": "3.6.13"
  }
 },
 "nbformat": 4,
 "nbformat_minor": 5
}
