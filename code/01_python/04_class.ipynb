{
 "cells": [
  {
   "cell_type": "markdown",
   "id": "fb355a93",
   "metadata": {},
   "source": [
    "### class : 클래스\n",
    "- 변수와 함수를 묶어 놓은 개념\n",
    "- 사용 방법: \n",
    "    - 변수와 함수가 들어있는 클래스 선언\n",
    "    - 클래스를 객체로 만들어서 클래스 안에 선언된 변수와 함수를 사용\n",
    "    "
   ]
  },
  {
   "cell_type": "markdown",
   "id": "162a3b98",
   "metadata": {},
   "source": [
    "#### 1. 기본 클래스 사용"
   ]
  },
  {
   "cell_type": "code",
   "execution_count": 17,
   "id": "aefccc2d",
   "metadata": {},
   "outputs": [],
   "source": [
    "# 클래스 선언\n",
    "class Calculator:\n",
    "    num1 = 1\n",
    "    num2 = 2\n",
    "    \n",
    "\n",
    "    def plus(self):\n",
    "        return self.num1 + self.num2\n",
    "    \n",
    "    def minus(self):\n",
    "        return self.num1 - self.num2"
   ]
  },
  {
   "cell_type": "code",
   "execution_count": 18,
   "id": "7e2ed442",
   "metadata": {},
   "outputs": [
    {
     "data": {
      "text/plain": [
       "<__main__.Calculator at 0x7fe9fab96a90>"
      ]
     },
     "execution_count": 18,
     "metadata": {},
     "output_type": "execute_result"
    }
   ],
   "source": [
    "# 클래스의 사용\n",
    "calc = Calculator()\n",
    "calc"
   ]
  },
  {
   "cell_type": "code",
   "execution_count": 16,
   "id": "668c92ad",
   "metadata": {},
   "outputs": [
    {
     "data": {
      "text/plain": [
       "(1, 2, 3, None)"
      ]
     },
     "execution_count": 16,
     "metadata": {},
     "output_type": "execute_result"
    }
   ],
   "source": [
    "calc.num1, calc.num2, calc.plus(), calc.minus()"
   ]
  },
  {
   "cell_type": "code",
   "execution_count": 19,
   "id": "a574eb72",
   "metadata": {},
   "outputs": [],
   "source": [
    "# self의 의미 : 객체 자신 \n",
    "calc2 = Calculator()"
   ]
  },
  {
   "cell_type": "code",
   "execution_count": null,
   "id": "76d79afa",
   "metadata": {},
   "outputs": [],
   "source": []
  },
  {
   "cell_type": "markdown",
   "id": "df5fea31",
   "metadata": {},
   "source": [
    "### 2. 객체지향\n",
    "- 실제 세계를 코드에 반영해서 개발하는 방법\n",
    "- 여러명의 개발자가 코드를 효율적으로 작성해서 프로젝트를 완성시키기 위한 방법 \n",
    "- 설계도 작성(class) -> 실제 물건을 만든다(object)\n",
    "- 사용자 정의 데이터 타입"
   ]
  },
  {
   "cell_type": "code",
   "execution_count": null,
   "id": "948f27b6",
   "metadata": {},
   "outputs": [],
   "source": []
  },
  {
   "cell_type": "code",
   "execution_count": 20,
   "id": "10491263",
   "metadata": {},
   "outputs": [
    {
     "data": {
      "text/plain": [
       "'PYTHON'"
      ]
     },
     "execution_count": 20,
     "metadata": {},
     "output_type": "execute_result"
    }
   ],
   "source": [
    "obj = \"python\"\n",
    "obj.upper()"
   ]
  },
  {
   "cell_type": "code",
   "execution_count": 24,
   "id": "86718e42",
   "metadata": {
    "collapsed": true
   },
   "outputs": [
    {
     "data": {
      "text/plain": [
       "['__add__',\n",
       " '__class__',\n",
       " '__contains__',\n",
       " '__delattr__',\n",
       " '__dir__',\n",
       " '__doc__',\n",
       " '__eq__',\n",
       " '__format__',\n",
       " '__ge__',\n",
       " '__getattribute__',\n",
       " '__getitem__',\n",
       " '__getnewargs__',\n",
       " '__gt__',\n",
       " '__hash__',\n",
       " '__init__',\n",
       " '__init_subclass__',\n",
       " '__iter__',\n",
       " '__le__',\n",
       " '__len__',\n",
       " '__lt__',\n",
       " '__mod__',\n",
       " '__mul__',\n",
       " '__ne__',\n",
       " '__new__',\n",
       " '__reduce__',\n",
       " '__reduce_ex__',\n",
       " '__repr__',\n",
       " '__rmod__',\n",
       " '__rmul__',\n",
       " '__setattr__',\n",
       " '__sizeof__',\n",
       " '__str__',\n",
       " '__subclasshook__',\n",
       " 'capitalize',\n",
       " 'casefold',\n",
       " 'center',\n",
       " 'count',\n",
       " 'encode',\n",
       " 'endswith',\n",
       " 'expandtabs',\n",
       " 'find',\n",
       " 'format',\n",
       " 'format_map',\n",
       " 'index',\n",
       " 'isalnum',\n",
       " 'isalpha',\n",
       " 'isdecimal',\n",
       " 'isdigit',\n",
       " 'isidentifier',\n",
       " 'islower',\n",
       " 'isnumeric',\n",
       " 'isprintable',\n",
       " 'isspace',\n",
       " 'istitle',\n",
       " 'isupper',\n",
       " 'join',\n",
       " 'ljust',\n",
       " 'lower',\n",
       " 'lstrip',\n",
       " 'maketrans',\n",
       " 'partition',\n",
       " 'replace',\n",
       " 'rfind',\n",
       " 'rindex',\n",
       " 'rjust',\n",
       " 'rpartition',\n",
       " 'rsplit',\n",
       " 'rstrip',\n",
       " 'split',\n",
       " 'splitlines',\n",
       " 'startswith',\n",
       " 'strip',\n",
       " 'swapcase',\n",
       " 'title',\n",
       " 'translate',\n",
       " 'upper',\n",
       " 'zfill']"
      ]
     },
     "execution_count": 24,
     "metadata": {},
     "output_type": "execute_result"
    }
   ],
   "source": [
    "dir(obj)"
   ]
  },
  {
   "cell_type": "markdown",
   "id": "77044364",
   "metadata": {},
   "source": [
    "### 3. 생성자\n",
    "- 클래스가 객체로 생성될 때 실행되는 함수\n",
    "- 변수(재료)를 추가할 때, 사용됩니다. "
   ]
  },
  {
   "cell_type": "code",
   "execution_count": 26,
   "id": "303966a3",
   "metadata": {},
   "outputs": [],
   "source": [
    "# 클래스 선언\n",
    "class Calculator:\n",
    "    def __init__(self, num1, num2):\n",
    "        self.num1 = num1\n",
    "        self.num2 = num2 \n",
    "    \n",
    "\n",
    "    def plus(self):\n",
    "        return self.num1 + self.num2\n",
    "    \n",
    "    def minus(self):\n",
    "        return self.num1 - self.num2"
   ]
  },
  {
   "cell_type": "code",
   "execution_count": 27,
   "id": "0394ad05",
   "metadata": {},
   "outputs": [],
   "source": [
    "calc1 = Calculator(3, 4)"
   ]
  },
  {
   "cell_type": "code",
   "execution_count": 29,
   "id": "1cda750d",
   "metadata": {},
   "outputs": [
    {
     "data": {
      "text/plain": [
       "7"
      ]
     },
     "execution_count": 29,
     "metadata": {},
     "output_type": "execute_result"
    }
   ],
   "source": [
    "calc1.plus()"
   ]
  },
  {
   "cell_type": "code",
   "execution_count": 30,
   "id": "b07e51d3",
   "metadata": {},
   "outputs": [
    {
     "data": {
      "text/plain": [
       "'python is good'"
      ]
     },
     "execution_count": 30,
     "metadata": {},
     "output_type": "execute_result"
    }
   ],
   "source": [
    "# join\n",
    "ls = [\"python\", \"is\", \"good\"]\n",
    "sep =\" \"\n",
    "\" \".join(ls)"
   ]
  },
  {
   "cell_type": "code",
   "execution_count": null,
   "id": "31109764",
   "metadata": {},
   "outputs": [],
   "source": []
  },
  {
   "cell_type": "code",
   "execution_count": null,
   "id": "58f9f720",
   "metadata": {},
   "outputs": [],
   "source": []
  },
  {
   "cell_type": "code",
   "execution_count": 32,
   "id": "c986e1a9",
   "metadata": {},
   "outputs": [],
   "source": [
    "# 연습문제\n",
    "# 스타크래프트의 마린을 클래스로 설계 \n",
    "# 체력(health), 공격력(attack_power), 공격(attack())\n",
    "# 마린 클래스로 마린 객체 2개를 생성해서 마린 1이 마린 2를 공격하는 코드를 작성하자. \n",
    "# attck(self, unit)"
   ]
  },
  {
   "cell_type": "code",
   "execution_count": 73,
   "id": "0c91ee36",
   "metadata": {},
   "outputs": [],
   "source": [
    "class Marine:\n",
    "    def __init__(self):\n",
    "        self.health = 40\n",
    "        self.attack_power = 5\n",
    "    \n",
    "    def attack(self, unit):\n",
    "        unit.health -= self.attack_power\n",
    "        if unit.health <= 0 :\n",
    "            unit.health=0\n",
    "            print(\"사망\")"
   ]
  },
  {
   "cell_type": "code",
   "execution_count": 74,
   "id": "43df7582",
   "metadata": {},
   "outputs": [],
   "source": [
    "marine_1 = Marine()\n",
    "marine_2 = Marine()"
   ]
  },
  {
   "cell_type": "code",
   "execution_count": 86,
   "id": "a49e6e7d",
   "metadata": {},
   "outputs": [
    {
     "name": "stdout",
     "output_type": "stream",
     "text": [
      "사망\n"
     ]
    },
    {
     "data": {
      "text/plain": [
       "(40, 0)"
      ]
     },
     "execution_count": 86,
     "metadata": {},
     "output_type": "execute_result"
    }
   ],
   "source": [
    "marine_1.attack(marine_2)\n",
    "\n",
    "marine_1.health, marine_2.health"
   ]
  },
  {
   "cell_type": "code",
   "execution_count": null,
   "id": "72f8ccb2",
   "metadata": {},
   "outputs": [],
   "source": []
  },
  {
   "cell_type": "code",
   "execution_count": 101,
   "id": "b8f80974",
   "metadata": {},
   "outputs": [],
   "source": [
    "# 메딕 : heal_pow, heal(uni)\n",
    "class Medic:\n",
    "    def __init__(self, health=40, heal_pow = 6):\n",
    "        self.heath = health\n",
    "        self.heal_pow = heal_pow\n",
    "    def heal(self, unit):\n",
    "        if unit.health > 0:\n",
    "            unit.health+= self.heal_pow\n",
    "            if unit.health >=40:\n",
    "                unit.health = 40\n",
    "        else:\n",
    "            print(\"이미 사망\")"
   ]
  },
  {
   "cell_type": "code",
   "execution_count": 98,
   "id": "60d3b32c",
   "metadata": {},
   "outputs": [],
   "source": [
    "medic_1 = Medic()"
   ]
  },
  {
   "cell_type": "code",
   "execution_count": 99,
   "id": "c6a03a14",
   "metadata": {},
   "outputs": [],
   "source": [
    "medic_1.heal(marine_1)"
   ]
  },
  {
   "cell_type": "code",
   "execution_count": 100,
   "id": "31464a95",
   "metadata": {},
   "outputs": [
    {
     "data": {
      "text/plain": [
       "40"
      ]
     },
     "execution_count": 100,
     "metadata": {},
     "output_type": "execute_result"
    }
   ],
   "source": [
    "marine_1.health"
   ]
  },
  {
   "cell_type": "code",
   "execution_count": null,
   "id": "c3b77e5b",
   "metadata": {},
   "outputs": [],
   "source": []
  },
  {
   "cell_type": "code",
   "execution_count": null,
   "id": "efc54688",
   "metadata": {},
   "outputs": [],
   "source": []
  },
  {
   "cell_type": "markdown",
   "id": "a1378f8b",
   "metadata": {},
   "source": [
    "### 1. 상속\n",
    "- 클래스의 기능을 가져다가 기능을 수정하거나 추가할 때 사용하는 방법. "
   ]
  },
  {
   "cell_type": "code",
   "execution_count": null,
   "id": "6a12d886",
   "metadata": {},
   "outputs": [],
   "source": [
    "class Calculator: \n",
    "    def __init__(self, num1, num2):\n",
    "        self.num1 = num1\n",
    "        self.num2 = num2\n",
    "    def plus(self):\n",
    "        return self.num1 + self.num2"
   ]
  },
  {
   "cell_type": "code",
   "execution_count": 102,
   "id": "445dd827",
   "metadata": {},
   "outputs": [
    {
     "data": {
      "text/plain": [
       "3"
      ]
     },
     "execution_count": 102,
     "metadata": {},
     "output_type": "execute_result"
    }
   ],
   "source": [
    "calc = Calculator(1, 2)\n",
    "calc.plus()"
   ]
  },
  {
   "cell_type": "code",
   "execution_count": 107,
   "id": "00686357",
   "metadata": {},
   "outputs": [],
   "source": [
    "class Calculator2(): \n",
    "    def __init__(self, num1, num2):\n",
    "        self.num1 = num1\n",
    "        self.num2 = num2\n",
    "    def plus(self):\n",
    "        return self.num1 + self.num2\n",
    "\n",
    "    def minus(self):\n",
    "        return self.num1 - self.num2"
   ]
  },
  {
   "cell_type": "code",
   "execution_count": 108,
   "id": "5ad76b86",
   "metadata": {},
   "outputs": [
    {
     "data": {
      "text/plain": [
       "(3, -1)"
      ]
     },
     "execution_count": 108,
     "metadata": {},
     "output_type": "execute_result"
    }
   ],
   "source": [
    "calc2 = Calculator2(1, 2)\n",
    "calc2.plus(), calc2.minus()"
   ]
  },
  {
   "cell_type": "code",
   "execution_count": 109,
   "id": "f8ed4c1b",
   "metadata": {},
   "outputs": [],
   "source": [
    "class Calculator3(Calculator): \n",
    "    def minus(self):\n",
    "        return self.num1 - self.num2"
   ]
  },
  {
   "cell_type": "code",
   "execution_count": 110,
   "id": "e43f1e4f",
   "metadata": {},
   "outputs": [
    {
     "data": {
      "text/plain": [
       "(3, -1)"
      ]
     },
     "execution_count": 110,
     "metadata": {},
     "output_type": "execute_result"
    }
   ],
   "source": [
    "calc3 = Calculator3(1, 2)\n",
    "calc3.plus(), calc3.minus()"
   ]
  },
  {
   "cell_type": "markdown",
   "id": "ceddc500",
   "metadata": {},
   "source": [
    "#### 메서드 오버라이딩"
   ]
  },
  {
   "cell_type": "code",
   "execution_count": 111,
   "id": "a42438b1",
   "metadata": {},
   "outputs": [],
   "source": [
    "class Calculator4(Calculator): \n",
    "    def plus(self):\n",
    "        return self.num1 ** 2 + self.num2 **2"
   ]
  },
  {
   "cell_type": "code",
   "execution_count": 114,
   "id": "1d6f15f1",
   "metadata": {},
   "outputs": [],
   "source": [
    "calc4 = Calculator4(5, 10)"
   ]
  },
  {
   "cell_type": "code",
   "execution_count": 115,
   "id": "f73be087",
   "metadata": {},
   "outputs": [
    {
     "data": {
      "text/plain": [
       "125"
      ]
     },
     "execution_count": 115,
     "metadata": {},
     "output_type": "execute_result"
    }
   ],
   "source": [
    "calc4.plus()"
   ]
  },
  {
   "cell_type": "code",
   "execution_count": null,
   "id": "e3cd7342",
   "metadata": {},
   "outputs": [],
   "source": []
  },
  {
   "cell_type": "code",
   "execution_count": null,
   "id": "f3660be6",
   "metadata": {},
   "outputs": [],
   "source": [
    "# 아이폰 1, 2, 3\n",
    "# 아이폰 1 : calling \n",
    "# 아이폰 2 : seng msg \n",
    "# 아이폰 3 : internet"
   ]
  },
  {
   "cell_type": "code",
   "execution_count": 118,
   "id": "cd91cdcc",
   "metadata": {},
   "outputs": [],
   "source": [
    "class Iphone1():\n",
    "    def __init__(self):\n",
    "        pass\n",
    "    @staticmethod\n",
    "    def calling(self):\n",
    "        print(\"calling\")"
   ]
  },
  {
   "cell_type": "code",
   "execution_count": 120,
   "id": "3f967cbd",
   "metadata": {},
   "outputs": [],
   "source": [
    "class Iphone2(Iphone1):\n",
    "    @staticmethod\n",
    "    def send_msg(self):\n",
    "        print(\"send_msg\")"
   ]
  },
  {
   "cell_type": "code",
   "execution_count": 121,
   "id": "6e51618a",
   "metadata": {},
   "outputs": [],
   "source": [
    "class Iphone3(Iphone2):\n",
    "    @staticmethod\n",
    "    def internet(self):\n",
    "        print(\"internet\")"
   ]
  },
  {
   "cell_type": "code",
   "execution_count": 122,
   "id": "b5ccc58f",
   "metadata": {},
   "outputs": [],
   "source": [
    "class Galaxy:\n",
    "    def show_image(self):\n",
    "        print(\"show image\")"
   ]
  },
  {
   "cell_type": "code",
   "execution_count": null,
   "id": "a2d1aab3",
   "metadata": {},
   "outputs": [],
   "source": []
  },
  {
   "cell_type": "code",
   "execution_count": null,
   "id": "3b7cfb0e",
   "metadata": {},
   "outputs": [],
   "source": []
  },
  {
   "cell_type": "markdown",
   "id": "ca3003a5",
   "metadata": {},
   "source": [
    "### 다중 상속"
   ]
  },
  {
   "cell_type": "code",
   "execution_count": 123,
   "id": "b8b9f6a5",
   "metadata": {},
   "outputs": [],
   "source": [
    "class DssPhone(Iphone3, Galaxy):\n",
    "    def camera(self):\n",
    "        print(\"camera\")"
   ]
  },
  {
   "cell_type": "code",
   "execution_count": 124,
   "id": "fd0182f4",
   "metadata": {},
   "outputs": [],
   "source": [
    "dss_phone = DssPhone()"
   ]
  },
  {
   "cell_type": "code",
   "execution_count": 125,
   "id": "03818342",
   "metadata": {},
   "outputs": [
    {
     "data": {
      "text/plain": [
       "['calling', 'camera', 'internet', 'send_msg', 'show_image']"
      ]
     },
     "execution_count": 125,
     "metadata": {},
     "output_type": "execute_result"
    }
   ],
   "source": [
    "[func for func in dir(dss_phone) if func[:2] != \"__\"]"
   ]
  },
  {
   "cell_type": "code",
   "execution_count": null,
   "id": "01f56682",
   "metadata": {},
   "outputs": [],
   "source": []
  },
  {
   "cell_type": "markdown",
   "id": "a2bc213c",
   "metadata": {},
   "source": [
    "### Super\n",
    "- 부모클래스에서 사용된 함수의 코드를 가져다가 자식 클래스의 함수에서 재사용할때 사용\n",
    "```python\n",
    "class A:\n",
    "    def plus(self):\n",
    "        code1\n",
    "class B:\n",
    "    def minus(self):\n",
    "        code1 #super().plus()\n",
    "        code2\n",
    "```\n"
   ]
  },
  {
   "cell_type": "code",
   "execution_count": null,
   "id": "dfe8dc2f",
   "metadata": {},
   "outputs": [],
   "source": [
    "class Marine:\n",
    "    def __init__(self):\n",
    "        self.health = 40\n",
    "        self.attack_power = 5\n",
    "    \n",
    "    def attack(self, unit):\n",
    "        unit.health -= self.attack_power\n",
    "        if unit.health <= 0 :\n",
    "            unit.health=0\n",
    "            print(\"사망\")"
   ]
  },
  {
   "cell_type": "code",
   "execution_count": null,
   "id": "b1e47d07",
   "metadata": {},
   "outputs": [],
   "source": [
    "class Marine2(Marine):\n",
    "    def __init__(self):\n",
    "        super().__init__()\n",
    "        self.max_health = 50\n",
    "        \n",
    "    def attack(self, unit):\n",
    "        unit.health -= self.attack_power\n",
    "        if unit.health <= 0 :\n",
    "            unit.health=0\n",
    "            print(\"사망\")"
   ]
  },
  {
   "cell_type": "code",
   "execution_count": null,
   "id": "3a915df7",
   "metadata": {},
   "outputs": [],
   "source": []
  },
  {
   "cell_type": "code",
   "execution_count": null,
   "id": "5610a733",
   "metadata": {},
   "outputs": [],
   "source": [
    "class Marine2(Marine, Medic):\n",
    "    def __init__(self):\n",
    "        super(Marine, self).__init__() # 다중상속인 경우, 뒤에 어떤 객체의 Super인지를 써줘야 함. \n",
    "        self.max_health = 50\n",
    "        \n",
    "    def attack(self, unit):\n",
    "        unit.health -= self.attack_power\n",
    "        if unit.health <= 0 :\n",
    "            unit.health=0\n",
    "            print(\"사망\")"
   ]
  },
  {
   "cell_type": "code",
   "execution_count": null,
   "id": "57b4f18c",
   "metadata": {},
   "outputs": [],
   "source": []
  },
  {
   "cell_type": "code",
   "execution_count": null,
   "id": "26ad1e70",
   "metadata": {},
   "outputs": [],
   "source": []
  },
  {
   "cell_type": "markdown",
   "id": "9ecc0904",
   "metadata": {},
   "source": [
    "### 3. Class의 getter, setter\n",
    "- 객체의 내부 변수에 접근할 때, 특정 로직을 거쳐서 접근시키는 방법"
   ]
  },
  {
   "cell_type": "code",
   "execution_count": 146,
   "id": "23b2cdcb",
   "metadata": {},
   "outputs": [],
   "source": [
    "class User:\n",
    "    def __init__(self, first_name, last_name):\n",
    "        self.first_name = first_name\n",
    "        self.last_name = last_name\n",
    "       \n",
    "    def disp(self):\n",
    "        print(self.first_name, self.last_name)\n",
    "\n",
    "    def getter(self):\n",
    "        print(\"getter\")\n",
    "        return self.first_name\n",
    "        \n",
    "    def setter(self, first_name):\n",
    "        print(\"setter\")\n",
    "        self.first_name = first_name\n",
    "   \n",
    "        \n",
    "    name = prorty(getter, setter)"
   ]
  },
  {
   "cell_type": "code",
   "execution_count": 147,
   "id": "037e7994",
   "metadata": {
    "scrolled": true
   },
   "outputs": [
    {
     "name": "stdout",
     "output_type": "stream",
     "text": [
      "Andy Kim\n"
     ]
    }
   ],
   "source": [
    "user1 = User(\"Andy\", \"Kim\")\n",
    "user1.disp()"
   ]
  },
  {
   "cell_type": "code",
   "execution_count": 148,
   "id": "08faaaae",
   "metadata": {},
   "outputs": [],
   "source": [
    "# user1.first_name = 1 "
   ]
  },
  {
   "cell_type": "code",
   "execution_count": 149,
   "id": "9a848619",
   "metadata": {},
   "outputs": [
    {
     "name": "stdout",
     "output_type": "stream",
     "text": [
      "getter\n"
     ]
    },
    {
     "data": {
      "text/plain": [
       "'Andy'"
      ]
     },
     "execution_count": 149,
     "metadata": {},
     "output_type": "execute_result"
    }
   ],
   "source": [
    "# getter 함수 실행\n",
    "user1.name"
   ]
  },
  {
   "cell_type": "code",
   "execution_count": 150,
   "id": "816a3dca",
   "metadata": {},
   "outputs": [
    {
     "name": "stdout",
     "output_type": "stream",
     "text": [
      "setter\n"
     ]
    }
   ],
   "source": [
    "# setter 함수 실행 \n",
    "user1.name = 1"
   ]
  },
  {
   "cell_type": "code",
   "execution_count": null,
   "id": "1d8f07d2",
   "metadata": {},
   "outputs": [],
   "source": []
  },
  {
   "cell_type": "markdown",
   "id": "4d92ae8b",
   "metadata": {},
   "source": [
    "### 4. non public\n",
    "    - mangling이라는 방법으로 다이렉트로 객체의 변수에 접근하지 못하게 하는 방법"
   ]
  },
  {
   "cell_type": "code",
   "execution_count": 157,
   "id": "d2137bfb",
   "metadata": {},
   "outputs": [],
   "source": [
    "class Calculator:\n",
    "    def __init__(self, num1, num2):\n",
    "        self.num1 = num1\n",
    "        self.num2 = num2\n",
    "    \n",
    "    def getter(self):\n",
    "        return self.num2 \n",
    "    \n",
    "    def setter(self, num2):\n",
    "        num2 = 1 if num2 ==0 else num2\n",
    "        self.num2 = num2\n",
    "        \n",
    "    def div(self):\n",
    "        return self.num1 / self.num2\n",
    "    \n",
    "    number2 = property(getter, setter)"
   ]
  },
  {
   "cell_type": "code",
   "execution_count": 152,
   "id": "bd583957",
   "metadata": {},
   "outputs": [],
   "source": [
    "calc = Calculator(1, 2)"
   ]
  },
  {
   "cell_type": "code",
   "execution_count": 153,
   "id": "da71f47e",
   "metadata": {},
   "outputs": [
    {
     "data": {
      "text/plain": [
       "0.5"
      ]
     },
     "execution_count": 153,
     "metadata": {},
     "output_type": "execute_result"
    }
   ],
   "source": [
    "calc.div()"
   ]
  },
  {
   "cell_type": "code",
   "execution_count": 154,
   "id": "b51019e7",
   "metadata": {},
   "outputs": [
    {
     "data": {
      "text/plain": [
       "2"
      ]
     },
     "execution_count": 154,
     "metadata": {},
     "output_type": "execute_result"
    }
   ],
   "source": [
    "calc.number2"
   ]
  },
  {
   "cell_type": "code",
   "execution_count": 155,
   "id": "5b9ade04",
   "metadata": {},
   "outputs": [
    {
     "data": {
      "text/plain": [
       "1"
      ]
     },
     "execution_count": 155,
     "metadata": {},
     "output_type": "execute_result"
    }
   ],
   "source": [
    "calc.number2 = 0 \n",
    "calc.number2"
   ]
  },
  {
   "cell_type": "code",
   "execution_count": null,
   "id": "c49209d9",
   "metadata": {},
   "outputs": [],
   "source": [
    "# num2 에 direct로 직접 접근할 수 없게 해야됨. \n",
    "# calc.num2 = 0 이렇게 해버리면 끝이잖아. \n",
    "\n",
    "# mangling은 Just under bar 2개 넣으면 끝난다. "
   ]
  },
  {
   "cell_type": "code",
   "execution_count": 166,
   "id": "8fd95f1c",
   "metadata": {},
   "outputs": [],
   "source": [
    "class Calculator:\n",
    "    def __init__(self, num1, num2):\n",
    "        self.num1 = num1\n",
    "        self.__num2 = num2\n",
    "    \n",
    "    def getter(self):\n",
    "        return self.__num2 \n",
    "    \n",
    "    def setter(self, num2):\n",
    "        num2 = 1 if num2 ==0 else num2\n",
    "        self.__num2 = num2\n",
    "        \n",
    "    def div(self):\n",
    "        return self.num1 / self.__num2\n",
    "    \n",
    "    def __disp(self):\n",
    "        print(self.num1, self.__num2)\n",
    "    \n",
    "    number2 = property(getter, setter)"
   ]
  },
  {
   "cell_type": "code",
   "execution_count": 160,
   "id": "56fa2f9f",
   "metadata": {},
   "outputs": [],
   "source": [
    "calc = Calculator(1, 5)"
   ]
  },
  {
   "cell_type": "code",
   "execution_count": null,
   "id": "24bb7c6b",
   "metadata": {},
   "outputs": [],
   "source": []
  },
  {
   "cell_type": "code",
   "execution_count": 162,
   "id": "e45ffa2d",
   "metadata": {},
   "outputs": [
    {
     "data": {
      "text/plain": [
       "5"
      ]
     },
     "execution_count": 162,
     "metadata": {},
     "output_type": "execute_result"
    }
   ],
   "source": [
    "calc.number2"
   ]
  },
  {
   "cell_type": "code",
   "execution_count": 164,
   "id": "7d54dd50",
   "metadata": {},
   "outputs": [
    {
     "data": {
      "text/plain": [
       "['_Calculator__num2',\n",
       " '__class__',\n",
       " '__delattr__',\n",
       " '__dict__',\n",
       " '__dir__',\n",
       " '__doc__',\n",
       " '__eq__',\n",
       " '__format__',\n",
       " '__ge__',\n",
       " '__getattribute__',\n",
       " '__gt__',\n",
       " '__hash__',\n",
       " '__init__',\n",
       " '__init_subclass__',\n",
       " '__le__',\n",
       " '__lt__',\n",
       " '__module__',\n",
       " '__ne__',\n",
       " '__new__',\n",
       " '__reduce__',\n",
       " '__reduce_ex__',\n",
       " '__repr__',\n",
       " '__setattr__',\n",
       " '__sizeof__',\n",
       " '__str__',\n",
       " '__subclasshook__',\n",
       " '__weakref__',\n",
       " 'div',\n",
       " 'getter',\n",
       " 'num1',\n",
       " 'number2',\n",
       " 'setter']"
      ]
     },
     "execution_count": 164,
     "metadata": {},
     "output_type": "execute_result"
    }
   ],
   "source": [
    "dir(calc)"
   ]
  },
  {
   "cell_type": "code",
   "execution_count": 165,
   "id": "f139be21",
   "metadata": {},
   "outputs": [
    {
     "data": {
      "text/plain": [
       "5"
      ]
     },
     "execution_count": 165,
     "metadata": {},
     "output_type": "execute_result"
    }
   ],
   "source": [
    "calc._Calculator__num2"
   ]
  },
  {
   "cell_type": "code",
   "execution_count": null,
   "id": "96d6da81",
   "metadata": {},
   "outputs": [],
   "source": []
  },
  {
   "cell_type": "markdown",
   "id": "cebfd4c8",
   "metadata": {},
   "source": [
    "### 5. is a & has a \n",
    "- 클래스를 설계하는 개념. \n",
    "- A is a B\n",
    "    - A 는 B이다. 상속을 이용해서 클래스를 만드는 방법. \n",
    "- A has a B\n",
    "    - A는 B를 가진다. A가 B객체를 가지고 클래스를 만드는 방법.  "
   ]
  },
  {
   "cell_type": "code",
   "execution_count": 167,
   "id": "b842045d",
   "metadata": {},
   "outputs": [],
   "source": [
    "# 사람 : 이름, 이메일, 정보출력()"
   ]
  },
  {
   "cell_type": "code",
   "execution_count": 171,
   "id": "7887c3c8",
   "metadata": {},
   "outputs": [],
   "source": [
    "# is a : 지금까지 했던게 Is a \n",
    "class Person:\n",
    "    def __init__(self, name, email):\n",
    "        self.name = name\n",
    "        self.email = email "
   ]
  },
  {
   "cell_type": "code",
   "execution_count": 172,
   "id": "20c45ade",
   "metadata": {},
   "outputs": [],
   "source": [
    "class Person2(Person):\n",
    "    def info(self):\n",
    "        print(selfname, self.email)"
   ]
  },
  {
   "cell_type": "code",
   "execution_count": 173,
   "id": "188c98b0",
   "metadata": {},
   "outputs": [],
   "source": [
    "p = Person2(\"andy\", \"andy@gmail.com\")"
   ]
  },
  {
   "cell_type": "code",
   "execution_count": null,
   "id": "cad9c4a0",
   "metadata": {},
   "outputs": [],
   "source": []
  },
  {
   "cell_type": "code",
   "execution_count": 179,
   "id": "406d25b0",
   "metadata": {},
   "outputs": [],
   "source": [
    "# has a\n",
    "# 각각의 class를 활용하는 것. \n",
    "# 각각을 객체로 활용하니깐, 변수나 함수들이 각각에도 들어갈 수 있겠지. "
   ]
  },
  {
   "cell_type": "code",
   "execution_count": 175,
   "id": "ae4fba48",
   "metadata": {},
   "outputs": [],
   "source": [
    "class Name:\n",
    "    def __init__(self, name):\n",
    "        self.name_str = name\n",
    "\n",
    "class Email:\n",
    "    def __init__(self, email):\n",
    "        self.email_str = email\n"
   ]
  },
  {
   "cell_type": "code",
   "execution_count": 176,
   "id": "e1e64b7f",
   "metadata": {},
   "outputs": [],
   "source": [
    "class Person:\n",
    "    def __init__(self, name_obj, email_obj):\n",
    "        self.name = name_obj\n",
    "        self.email = email_obj\n",
    "    def info(self):\n",
    "        print(name.name_str, email.email_str)"
   ]
  },
  {
   "cell_type": "code",
   "execution_count": 178,
   "id": "638c3a9f",
   "metadata": {},
   "outputs": [
    {
     "name": "stdout",
     "output_type": "stream",
     "text": [
      "Andy andy@gmail.com\n"
     ]
    }
   ],
   "source": [
    "name = Name(\"Andy\")\n",
    "email = Email(\"andy@gmail.com\")\n",
    "p = Person(name, email)\n",
    "p.info()"
   ]
  },
  {
   "cell_type": "code",
   "execution_count": null,
   "id": "56762ecd",
   "metadata": {},
   "outputs": [],
   "source": []
  },
  {
   "cell_type": "markdown",
   "id": "00c62bdd",
   "metadata": {},
   "source": [
    "### 6. Special Method(Magic Method)\n",
    "- compare\n",
    "    - `__eq__` : ==\n",
    "    - `__ne__` : != \n",
    "    - `__lt__` : <\n",
    "- calculate\n",
    "    - `__add__` : +\n",
    "    - `__sub__` : -\n",
    "- `__repr__` : 객체의 내용을 출력(개발자용)\n",
    "- `__str__` : 객체의 내용을 출력\n"
   ]
  },
  {
   "cell_type": "code",
   "execution_count": 247,
   "id": "e268a354",
   "metadata": {},
   "outputs": [],
   "source": [
    "# - 비교\n",
    "#   - __eq__: ==, __ne__: !=,  __lt__: <,  __gt__: >, __le__: <=, __ge__: >=\n",
    "# - 연산\n",
    "#   - __add__: +:__sub__: -,  __mul__: *,  __truediv__: /,  __floor_div__: // , __mod__: %, __pod__ : **\n",
    "#\n"
   ]
  },
  {
   "cell_type": "code",
   "execution_count": 181,
   "id": "545e4f7a",
   "metadata": {
    "collapsed": true
   },
   "outputs": [
    {
     "data": {
      "text/plain": [
       "['__abs__',\n",
       " '__add__',\n",
       " '__and__',\n",
       " '__bool__',\n",
       " '__ceil__',\n",
       " '__class__',\n",
       " '__delattr__',\n",
       " '__dir__',\n",
       " '__divmod__',\n",
       " '__doc__',\n",
       " '__eq__',\n",
       " '__float__',\n",
       " '__floor__',\n",
       " '__floordiv__',\n",
       " '__format__',\n",
       " '__ge__',\n",
       " '__getattribute__',\n",
       " '__getnewargs__',\n",
       " '__gt__',\n",
       " '__hash__',\n",
       " '__index__',\n",
       " '__init__',\n",
       " '__init_subclass__',\n",
       " '__int__',\n",
       " '__invert__',\n",
       " '__le__',\n",
       " '__lshift__',\n",
       " '__lt__',\n",
       " '__mod__',\n",
       " '__mul__',\n",
       " '__ne__',\n",
       " '__neg__',\n",
       " '__new__',\n",
       " '__or__',\n",
       " '__pos__',\n",
       " '__pow__',\n",
       " '__radd__',\n",
       " '__rand__',\n",
       " '__rdivmod__',\n",
       " '__reduce__',\n",
       " '__reduce_ex__',\n",
       " '__repr__',\n",
       " '__rfloordiv__',\n",
       " '__rlshift__',\n",
       " '__rmod__',\n",
       " '__rmul__',\n",
       " '__ror__',\n",
       " '__round__',\n",
       " '__rpow__',\n",
       " '__rrshift__',\n",
       " '__rshift__',\n",
       " '__rsub__',\n",
       " '__rtruediv__',\n",
       " '__rxor__',\n",
       " '__setattr__',\n",
       " '__sizeof__',\n",
       " '__str__',\n",
       " '__sub__',\n",
       " '__subclasshook__',\n",
       " '__truediv__',\n",
       " '__trunc__',\n",
       " '__xor__',\n",
       " 'bit_length',\n",
       " 'conjugate',\n",
       " 'denominator',\n",
       " 'from_bytes',\n",
       " 'imag',\n",
       " 'numerator',\n",
       " 'real',\n",
       " 'to_bytes']"
      ]
     },
     "execution_count": 181,
     "metadata": {},
     "output_type": "execute_result"
    }
   ],
   "source": [
    "dir(1)"
   ]
  },
  {
   "cell_type": "code",
   "execution_count": 182,
   "id": "ea24ec62",
   "metadata": {},
   "outputs": [
    {
     "data": {
      "text/plain": [
       "False"
      ]
     },
     "execution_count": 182,
     "metadata": {},
     "output_type": "execute_result"
    }
   ],
   "source": [
    "1 == 2"
   ]
  },
  {
   "cell_type": "code",
   "execution_count": 184,
   "id": "d377fd4d",
   "metadata": {},
   "outputs": [
    {
     "data": {
      "text/plain": [
       "False"
      ]
     },
     "execution_count": 184,
     "metadata": {},
     "output_type": "execute_result"
    }
   ],
   "source": [
    "\"test\".__eq__(\"hi\")"
   ]
  },
  {
   "cell_type": "code",
   "execution_count": 185,
   "id": "c52b8e39",
   "metadata": {},
   "outputs": [
    {
     "data": {
      "text/plain": [
       "3"
      ]
     },
     "execution_count": 185,
     "metadata": {},
     "output_type": "execute_result"
    }
   ],
   "source": [
    "1+2"
   ]
  },
  {
   "cell_type": "code",
   "execution_count": 186,
   "id": "3fd04bb8",
   "metadata": {},
   "outputs": [
    {
     "data": {
      "text/plain": [
       "'12'"
      ]
     },
     "execution_count": 186,
     "metadata": {},
     "output_type": "execute_result"
    }
   ],
   "source": [
    "\"1\"+\"2\""
   ]
  },
  {
   "cell_type": "code",
   "execution_count": 219,
   "id": "cb685f87",
   "metadata": {},
   "outputs": [],
   "source": [
    "class Txt:\n",
    "    def __init__(self, txt):\n",
    "        self.txt = txt\n",
    "        \n",
    "    def __eq__(self, txt_obj):\n",
    "        return self.txt.lower() == txt_obj.txt.lower()\n",
    "    \n",
    "    def __repr__(self):\n",
    "        return \"TXT(txt={})\".format(self.txt)\n",
    "    \n",
    "    def __str__(self):\n",
    "        return self.txt"
   ]
  },
  {
   "cell_type": "code",
   "execution_count": 220,
   "id": "784ee84e",
   "metadata": {},
   "outputs": [],
   "source": [
    "t1 = Txt(\"python\")\n",
    "t2 = Txt(\"PYTHON\")\n",
    "t3 = t1"
   ]
  },
  {
   "cell_type": "code",
   "execution_count": 221,
   "id": "7c5ad2a5",
   "metadata": {
    "scrolled": true
   },
   "outputs": [
    {
     "data": {
      "text/plain": [
       "(True, True, True)"
      ]
     },
     "execution_count": 221,
     "metadata": {},
     "output_type": "execute_result"
    }
   ],
   "source": [
    "t1 == t2, t1 == t3, t2 == t3"
   ]
  },
  {
   "cell_type": "code",
   "execution_count": 222,
   "id": "d9a8c18b",
   "metadata": {},
   "outputs": [
    {
     "data": {
      "text/plain": [
       "<bound method Txt.__eq__ of TXT(txt=python)>"
      ]
     },
     "execution_count": 222,
     "metadata": {},
     "output_type": "execute_result"
    }
   ],
   "source": [
    "t1.__eq__"
   ]
  },
  {
   "cell_type": "code",
   "execution_count": null,
   "id": "8b207b37",
   "metadata": {},
   "outputs": [],
   "source": []
  },
  {
   "cell_type": "code",
   "execution_count": 231,
   "id": "cd221cfc",
   "metadata": {},
   "outputs": [
    {
     "data": {
      "text/plain": [
       "TXT(txt=python)"
      ]
     },
     "execution_count": 231,
     "metadata": {},
     "output_type": "execute_result"
    }
   ],
   "source": [
    "t1 # str"
   ]
  },
  {
   "cell_type": "code",
   "execution_count": 226,
   "id": "97673b4b",
   "metadata": {},
   "outputs": [
    {
     "name": "stdout",
     "output_type": "stream",
     "text": [
      "python\n"
     ]
    }
   ],
   "source": [
    "print(t1) # repr"
   ]
  },
  {
   "cell_type": "code",
   "execution_count": null,
   "id": "831d0df0",
   "metadata": {},
   "outputs": [],
   "source": []
  },
  {
   "cell_type": "code",
   "execution_count": 243,
   "id": "b44d09d5",
   "metadata": {},
   "outputs": [],
   "source": [
    "# Integer 객체 만들기\n",
    "class Integer:\n",
    "    def __init__(self, number):\n",
    "        self.number = number\n",
    "        \n",
    "    def __add__(self, obj):\n",
    "        return self.number + obj.number\n",
    "    \n",
    "    def __str__(self):\n",
    "        return str(self.number)\n",
    "\n",
    "    def __repr__(self):\n",
    "        return str(self.number)"
   ]
  },
  {
   "cell_type": "code",
   "execution_count": 244,
   "id": "9dcf24c2",
   "metadata": {},
   "outputs": [
    {
     "data": {
      "text/plain": [
       "3"
      ]
     },
     "execution_count": 244,
     "metadata": {},
     "output_type": "execute_result"
    }
   ],
   "source": [
    "num1 = Integer(1)\n",
    "num2 = Integer(2)\n",
    "num1+num2"
   ]
  },
  {
   "cell_type": "code",
   "execution_count": 245,
   "id": "9aff046b",
   "metadata": {},
   "outputs": [
    {
     "data": {
      "text/plain": [
       "1"
      ]
     },
     "execution_count": 245,
     "metadata": {},
     "output_type": "execute_result"
    }
   ],
   "source": [
    "num1"
   ]
  },
  {
   "cell_type": "code",
   "execution_count": null,
   "id": "03b8d50a",
   "metadata": {},
   "outputs": [],
   "source": []
  },
  {
   "cell_type": "code",
   "execution_count": 246,
   "id": "308e6ab3",
   "metadata": {},
   "outputs": [],
   "source": [
    "# 계좌 클래스  \n",
    "# 변수 : 자산(asset), 이자율(Interest) \n",
    "# 함수 : 인출(draw), 입금(inser), 이자추가(add_interest)\n",
    "# 인출시 자산 이상의 돈은 인출 불가 "
   ]
  },
  {
   "cell_type": "code",
   "execution_count": 278,
   "id": "85929ddd",
   "metadata": {},
   "outputs": [],
   "source": [
    "class Account:\n",
    "    def __init__(self, asset, interest=1.05):\n",
    "        self.asset = asset\n",
    "        self.interest = interest\n",
    "        \n",
    "    def draw(self, money):\n",
    "        if self.asset > money:\n",
    "            self.asset -= money\n",
    "            print(\"{}원이 인출되었습니다.\".format(money))\n",
    "        else:\n",
    "            print(\"인출금이 {}원 부족합니다.\".format(money-self.asset))\n",
    "    def insert(self, money):\n",
    "        self.asset += money\n",
    "        print(\"{}원이 입금되었습니다.\".format(money))\n",
    "\n",
    "    def add_interest(self):\n",
    "        self.asset *= self.interest\n",
    "        print(\"이자가 지급되었습니다.\")\n",
    "    \n",
    "    def __repr__(self):\n",
    "        return \"Account(asset: {}, interest : {})\".format(self.asset, self.interest)"
   ]
  },
  {
   "cell_type": "code",
   "execution_count": 279,
   "id": "b7c4b59e",
   "metadata": {},
   "outputs": [],
   "source": [
    "account1 = Account(10000)"
   ]
  },
  {
   "cell_type": "code",
   "execution_count": 280,
   "id": "9951712e",
   "metadata": {},
   "outputs": [
    {
     "data": {
      "text/plain": [
       "Account(asset: 10000, interest : 1.05)"
      ]
     },
     "execution_count": 280,
     "metadata": {},
     "output_type": "execute_result"
    }
   ],
   "source": [
    "account1"
   ]
  },
  {
   "cell_type": "code",
   "execution_count": 281,
   "id": "ecfe1be6",
   "metadata": {},
   "outputs": [
    {
     "name": "stdout",
     "output_type": "stream",
     "text": [
      "인출금이 2000원 부족합니다.\n"
     ]
    }
   ],
   "source": [
    "account1.draw(12000)"
   ]
  },
  {
   "cell_type": "code",
   "execution_count": 282,
   "id": "a0c7f424",
   "metadata": {},
   "outputs": [
    {
     "name": "stdout",
     "output_type": "stream",
     "text": [
      "2000원이 인출되었습니다.\n"
     ]
    }
   ],
   "source": [
    "account1.draw(2000)"
   ]
  },
  {
   "cell_type": "code",
   "execution_count": 283,
   "id": "4d8c6249",
   "metadata": {},
   "outputs": [
    {
     "data": {
      "text/plain": [
       "Account(asset: 8000, interest : 1.05)"
      ]
     },
     "execution_count": 283,
     "metadata": {},
     "output_type": "execute_result"
    }
   ],
   "source": [
    "account1"
   ]
  },
  {
   "cell_type": "code",
   "execution_count": 284,
   "id": "168427a0",
   "metadata": {},
   "outputs": [
    {
     "name": "stdout",
     "output_type": "stream",
     "text": [
      "5000원이 입금되었습니다.\n"
     ]
    }
   ],
   "source": [
    "account1.insert(5000)"
   ]
  },
  {
   "cell_type": "code",
   "execution_count": 285,
   "id": "4e151de1",
   "metadata": {},
   "outputs": [
    {
     "data": {
      "text/plain": [
       "Account(asset: 13000, interest : 1.05)"
      ]
     },
     "execution_count": 285,
     "metadata": {},
     "output_type": "execute_result"
    }
   ],
   "source": [
    "account1"
   ]
  },
  {
   "cell_type": "code",
   "execution_count": 286,
   "id": "089f2236",
   "metadata": {},
   "outputs": [
    {
     "name": "stdout",
     "output_type": "stream",
     "text": [
      "이자가 지급되었습니다.\n"
     ]
    }
   ],
   "source": [
    "account1.add_interest()"
   ]
  },
  {
   "cell_type": "code",
   "execution_count": null,
   "id": "0e0ad5ad",
   "metadata": {},
   "outputs": [],
   "source": []
  },
  {
   "cell_type": "code",
   "execution_count": null,
   "id": "7ba3b7c5",
   "metadata": {},
   "outputs": [],
   "source": []
  },
  {
   "cell_type": "code",
   "execution_count": null,
   "id": "17045dff",
   "metadata": {},
   "outputs": [],
   "source": []
  }
 ],
 "metadata": {
  "kernelspec": {
   "display_name": "Python 3",
   "language": "python",
   "name": "python3"
  },
  "language_info": {
   "codemirror_mode": {
    "name": "ipython",
    "version": 3
   },
   "file_extension": ".py",
   "mimetype": "text/x-python",
   "name": "python",
   "nbconvert_exporter": "python",
   "pygments_lexer": "ipython3",
   "version": "3.6.13"
  }
 },
 "nbformat": 4,
 "nbformat_minor": 5
}
