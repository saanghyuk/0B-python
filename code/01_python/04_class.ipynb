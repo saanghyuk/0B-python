{
 "cells": [
  {
   "cell_type": "markdown",
   "id": "fb355a93",
   "metadata": {},
   "source": [
    "### class : 클래스\n",
    "- 변수와 함수를 묶어 놓은 개념\n",
    "- 사용 방법: \n",
    "    - 변수와 함수가 들어있는 클래스 선언\n",
    "    - 클래스를 객체로 만들어서 클래스 안에 선언된 변수와 함수를 사용\n",
    "    "
   ]
  },
  {
   "cell_type": "markdown",
   "id": "162a3b98",
   "metadata": {},
   "source": [
    "#### 1. 기본 클래스 사용"
   ]
  },
  {
   "cell_type": "code",
   "execution_count": 17,
   "id": "aefccc2d",
   "metadata": {},
   "outputs": [],
   "source": [
    "# 클래스 선언\n",
    "class Calculator:\n",
    "    num1 = 1\n",
    "    num2 = 2\n",
    "    \n",
    "\n",
    "    def plus(self):\n",
    "        return self.num1 + self.num2\n",
    "    \n",
    "    def minus(self):\n",
    "        return self.num1 - self.num2"
   ]
  },
  {
   "cell_type": "code",
   "execution_count": 18,
   "id": "7e2ed442",
   "metadata": {},
   "outputs": [
    {
     "data": {
      "text/plain": [
       "<__main__.Calculator at 0x7fe9fab96a90>"
      ]
     },
     "execution_count": 18,
     "metadata": {},
     "output_type": "execute_result"
    }
   ],
   "source": [
    "# 클래스의 사용\n",
    "calc = Calculator()\n",
    "calc"
   ]
  },
  {
   "cell_type": "code",
   "execution_count": 16,
   "id": "668c92ad",
   "metadata": {},
   "outputs": [
    {
     "data": {
      "text/plain": [
       "(1, 2, 3, None)"
      ]
     },
     "execution_count": 16,
     "metadata": {},
     "output_type": "execute_result"
    }
   ],
   "source": [
    "calc.num1, calc.num2, calc.plus(), calc.minus()"
   ]
  },
  {
   "cell_type": "code",
   "execution_count": 19,
   "id": "a574eb72",
   "metadata": {},
   "outputs": [],
   "source": [
    "# self의 의미 : 객체 자신 \n",
    "calc2 = Calculator()"
   ]
  },
  {
   "cell_type": "code",
   "execution_count": null,
   "id": "76d79afa",
   "metadata": {},
   "outputs": [],
   "source": []
  },
  {
   "cell_type": "markdown",
   "id": "df5fea31",
   "metadata": {},
   "source": [
    "### 2. 객체지향\n",
    "- 실제 세계를 코드에 반영해서 개발하는 방법\n",
    "- 여러명의 개발자가 코드를 효율적으로 작성해서 프로젝트를 완성시키기 위한 방법 \n",
    "- 설계도 작성(class) -> 실제 물건을 만든다(object)\n",
    "- 사용자 정의 데이터 타입"
   ]
  },
  {
   "cell_type": "code",
   "execution_count": null,
   "id": "948f27b6",
   "metadata": {},
   "outputs": [],
   "source": []
  },
  {
   "cell_type": "code",
   "execution_count": 20,
   "id": "10491263",
   "metadata": {},
   "outputs": [
    {
     "data": {
      "text/plain": [
       "'PYTHON'"
      ]
     },
     "execution_count": 20,
     "metadata": {},
     "output_type": "execute_result"
    }
   ],
   "source": [
    "obj = \"python\"\n",
    "obj.upper()"
   ]
  },
  {
   "cell_type": "code",
   "execution_count": 24,
   "id": "86718e42",
   "metadata": {
    "collapsed": true
   },
   "outputs": [
    {
     "data": {
      "text/plain": [
       "['__add__',\n",
       " '__class__',\n",
       " '__contains__',\n",
       " '__delattr__',\n",
       " '__dir__',\n",
       " '__doc__',\n",
       " '__eq__',\n",
       " '__format__',\n",
       " '__ge__',\n",
       " '__getattribute__',\n",
       " '__getitem__',\n",
       " '__getnewargs__',\n",
       " '__gt__',\n",
       " '__hash__',\n",
       " '__init__',\n",
       " '__init_subclass__',\n",
       " '__iter__',\n",
       " '__le__',\n",
       " '__len__',\n",
       " '__lt__',\n",
       " '__mod__',\n",
       " '__mul__',\n",
       " '__ne__',\n",
       " '__new__',\n",
       " '__reduce__',\n",
       " '__reduce_ex__',\n",
       " '__repr__',\n",
       " '__rmod__',\n",
       " '__rmul__',\n",
       " '__setattr__',\n",
       " '__sizeof__',\n",
       " '__str__',\n",
       " '__subclasshook__',\n",
       " 'capitalize',\n",
       " 'casefold',\n",
       " 'center',\n",
       " 'count',\n",
       " 'encode',\n",
       " 'endswith',\n",
       " 'expandtabs',\n",
       " 'find',\n",
       " 'format',\n",
       " 'format_map',\n",
       " 'index',\n",
       " 'isalnum',\n",
       " 'isalpha',\n",
       " 'isdecimal',\n",
       " 'isdigit',\n",
       " 'isidentifier',\n",
       " 'islower',\n",
       " 'isnumeric',\n",
       " 'isprintable',\n",
       " 'isspace',\n",
       " 'istitle',\n",
       " 'isupper',\n",
       " 'join',\n",
       " 'ljust',\n",
       " 'lower',\n",
       " 'lstrip',\n",
       " 'maketrans',\n",
       " 'partition',\n",
       " 'replace',\n",
       " 'rfind',\n",
       " 'rindex',\n",
       " 'rjust',\n",
       " 'rpartition',\n",
       " 'rsplit',\n",
       " 'rstrip',\n",
       " 'split',\n",
       " 'splitlines',\n",
       " 'startswith',\n",
       " 'strip',\n",
       " 'swapcase',\n",
       " 'title',\n",
       " 'translate',\n",
       " 'upper',\n",
       " 'zfill']"
      ]
     },
     "execution_count": 24,
     "metadata": {},
     "output_type": "execute_result"
    }
   ],
   "source": [
    "dir(obj)"
   ]
  },
  {
   "cell_type": "markdown",
   "id": "1ebfb9d4",
   "metadata": {},
   "source": [
    "### 3. 생성자\n",
    "- 클래스가 객체로 생성될 때 실행되는 함수\n",
    "- 변수(재료)를 추가할 때, 사용됩니다. "
   ]
  },
  {
   "cell_type": "code",
   "execution_count": 26,
   "id": "cef021e1",
   "metadata": {},
   "outputs": [],
   "source": [
    "# 클래스 선언\n",
    "class Calculator:\n",
    "    def __init__(self, num1, num2):\n",
    "        self.num1 = num1\n",
    "        self.num2 = num2 \n",
    "    \n",
    "\n",
    "    def plus(self):\n",
    "        return self.num1 + self.num2\n",
    "    \n",
    "    def minus(self):\n",
    "        return self.num1 - self.num2"
   ]
  },
  {
   "cell_type": "code",
   "execution_count": 27,
   "id": "09ae9fd7",
   "metadata": {},
   "outputs": [],
   "source": [
    "calc1 = Calculator(3, 4)"
   ]
  },
  {
   "cell_type": "code",
   "execution_count": 29,
   "id": "dfd27860",
   "metadata": {},
   "outputs": [
    {
     "data": {
      "text/plain": [
       "7"
      ]
     },
     "execution_count": 29,
     "metadata": {},
     "output_type": "execute_result"
    }
   ],
   "source": [
    "calc1.plus()"
   ]
  },
  {
   "cell_type": "code",
   "execution_count": 30,
   "id": "54061741",
   "metadata": {},
   "outputs": [
    {
     "data": {
      "text/plain": [
       "'python is good'"
      ]
     },
     "execution_count": 30,
     "metadata": {},
     "output_type": "execute_result"
    }
   ],
   "source": [
    "# join\n",
    "ls = [\"python\", \"is\", \"good\"]\n",
    "sep =\" \"\n",
    "\" \".join(ls)"
   ]
  },
  {
   "cell_type": "code",
   "execution_count": null,
   "id": "6a3da5d4",
   "metadata": {},
   "outputs": [],
   "source": []
  },
  {
   "cell_type": "code",
   "execution_count": null,
   "id": "1e742aea",
   "metadata": {},
   "outputs": [],
   "source": []
  },
  {
   "cell_type": "code",
   "execution_count": 32,
   "id": "2b5b48e1",
   "metadata": {},
   "outputs": [],
   "source": [
    "# 연습문제\n",
    "# 스타크래프트의 마린을 클래스로 설계 \n",
    "# 체력(health), 공격력(attack_power), 공격(attack())\n",
    "# 마린 클래스로 마린 객체 2개를 생성해서 마린 1이 마린 2를 공격하는 코드를 작성하자. \n",
    "# attck(self, unit)"
   ]
  },
  {
   "cell_type": "code",
   "execution_count": 73,
   "id": "1e881640",
   "metadata": {},
   "outputs": [],
   "source": [
    "class Marine:\n",
    "    def __init__(self):\n",
    "        self.health = 40\n",
    "        self.attack_power = 5\n",
    "    \n",
    "    def attack(self, unit):\n",
    "        unit.health -= self.attack_power\n",
    "        if unit.health <= 0 :\n",
    "            unit.health=0\n",
    "            print(\"사망\")"
   ]
  },
  {
   "cell_type": "code",
   "execution_count": 74,
   "id": "aef8988d",
   "metadata": {},
   "outputs": [],
   "source": [
    "marine_1 = Marine()\n",
    "marine_2 = Marine()"
   ]
  },
  {
   "cell_type": "code",
   "execution_count": 86,
   "id": "3ff276d2",
   "metadata": {},
   "outputs": [
    {
     "name": "stdout",
     "output_type": "stream",
     "text": [
      "사망\n"
     ]
    },
    {
     "data": {
      "text/plain": [
       "(40, 0)"
      ]
     },
     "execution_count": 86,
     "metadata": {},
     "output_type": "execute_result"
    }
   ],
   "source": [
    "marine_1.attack(marine_2)\n",
    "\n",
    "marine_1.health, marine_2.health"
   ]
  },
  {
   "cell_type": "code",
   "execution_count": null,
   "id": "88e382e2",
   "metadata": {},
   "outputs": [],
   "source": []
  },
  {
   "cell_type": "code",
   "execution_count": 101,
   "id": "04b02a72",
   "metadata": {},
   "outputs": [],
   "source": [
    "# 메딕 : heal_pow, heal(uni)\n",
    "class Medic:\n",
    "    def __init__(self, health=40, heal_pow = 6):\n",
    "        self.heath = health\n",
    "        self.heal_pow = heal_pow\n",
    "    def heal(self, unit):\n",
    "        if unit.health > 0:\n",
    "            unit.health+= self.heal_pow\n",
    "            if unit.health >=40:\n",
    "                unit.health = 40\n",
    "        else:\n",
    "            print(\"이미 사망\")"
   ]
  },
  {
   "cell_type": "code",
   "execution_count": 98,
   "id": "81fa1c2b",
   "metadata": {},
   "outputs": [],
   "source": [
    "medic_1 = Medic()"
   ]
  },
  {
   "cell_type": "code",
   "execution_count": 99,
   "id": "d8aad727",
   "metadata": {},
   "outputs": [],
   "source": [
    "medic_1.heal(marine_1)"
   ]
  },
  {
   "cell_type": "code",
   "execution_count": 100,
   "id": "b4f98260",
   "metadata": {},
   "outputs": [
    {
     "data": {
      "text/plain": [
       "40"
      ]
     },
     "execution_count": 100,
     "metadata": {},
     "output_type": "execute_result"
    }
   ],
   "source": [
    "marine_1.health"
   ]
  },
  {
   "cell_type": "code",
   "execution_count": null,
   "id": "ee31c9a6",
   "metadata": {},
   "outputs": [],
   "source": []
  },
  {
   "cell_type": "code",
   "execution_count": null,
   "id": "bf438bc4",
   "metadata": {},
   "outputs": [],
   "source": []
  },
  {
   "cell_type": "markdown",
   "id": "380e25ab",
   "metadata": {},
   "source": [
    "### 1. 상속\n",
    "- 클래스의 기능을 가져다가 기능을 수정하거나 추가할 때 사용하는 방법. "
   ]
  },
  {
   "cell_type": "code",
   "execution_count": null,
   "id": "36bf111e",
   "metadata": {},
   "outputs": [],
   "source": [
    "class Calculator: \n",
    "    def __init__(self, num1, num2):\n",
    "        self.num1 = num1\n",
    "        self.num2 = num2\n",
    "    def plus(self):\n",
    "        return self.num1 + self.num2"
   ]
  },
  {
   "cell_type": "code",
   "execution_count": 102,
   "id": "6926d490",
   "metadata": {},
   "outputs": [
    {
     "data": {
      "text/plain": [
       "3"
      ]
     },
     "execution_count": 102,
     "metadata": {},
     "output_type": "execute_result"
    }
   ],
   "source": [
    "calc = Calculator(1, 2)\n",
    "calc.plus()"
   ]
  },
  {
   "cell_type": "code",
   "execution_count": 107,
   "id": "dfa136bf",
   "metadata": {},
   "outputs": [],
   "source": [
    "class Calculator2(): \n",
    "    def __init__(self, num1, num2):\n",
    "        self.num1 = num1\n",
    "        self.num2 = num2\n",
    "    def plus(self):\n",
    "        return self.num1 + self.num2\n",
    "\n",
    "    def minus(self):\n",
    "        return self.num1 - self.num2"
   ]
  },
  {
   "cell_type": "code",
   "execution_count": 108,
   "id": "f3dcab6f",
   "metadata": {},
   "outputs": [
    {
     "data": {
      "text/plain": [
       "(3, -1)"
      ]
     },
     "execution_count": 108,
     "metadata": {},
     "output_type": "execute_result"
    }
   ],
   "source": [
    "calc2 = Calculator2(1, 2)\n",
    "calc2.plus(), calc2.minus()"
   ]
  },
  {
   "cell_type": "code",
   "execution_count": 109,
   "id": "efcc9a34",
   "metadata": {},
   "outputs": [],
   "source": [
    "class Calculator3(Calculator): \n",
    "    def minus(self):\n",
    "        return self.num1 - self.num2"
   ]
  },
  {
   "cell_type": "code",
   "execution_count": 110,
   "id": "b3f89f5a",
   "metadata": {},
   "outputs": [
    {
     "data": {
      "text/plain": [
       "(3, -1)"
      ]
     },
     "execution_count": 110,
     "metadata": {},
     "output_type": "execute_result"
    }
   ],
   "source": [
    "calc3 = Calculator3(1, 2)\n",
    "calc3.plus(), calc3.minus()"
   ]
  },
  {
   "cell_type": "markdown",
   "id": "6a38cbb3",
   "metadata": {},
   "source": [
    "#### 메서드 오버라이딩"
   ]
  },
  {
   "cell_type": "code",
   "execution_count": 111,
   "id": "cea7e0a8",
   "metadata": {},
   "outputs": [],
   "source": [
    "class Calculator4(Calculator): \n",
    "    def plus(self):\n",
    "        return self.num1 ** 2 + self.num2 **2"
   ]
  },
  {
   "cell_type": "code",
   "execution_count": 114,
   "id": "749f9eef",
   "metadata": {},
   "outputs": [],
   "source": [
    "calc4 = Calculator4(5, 10)"
   ]
  },
  {
   "cell_type": "code",
   "execution_count": 115,
   "id": "80c06faa",
   "metadata": {},
   "outputs": [
    {
     "data": {
      "text/plain": [
       "125"
      ]
     },
     "execution_count": 115,
     "metadata": {},
     "output_type": "execute_result"
    }
   ],
   "source": [
    "calc4.plus()"
   ]
  },
  {
   "cell_type": "code",
   "execution_count": null,
   "id": "87b5a454",
   "metadata": {},
   "outputs": [],
   "source": []
  },
  {
   "cell_type": "code",
   "execution_count": null,
   "id": "13c39c40",
   "metadata": {},
   "outputs": [],
   "source": [
    "# 아이폰 1, 2, 3\n",
    "# 아이폰 1 : calling \n",
    "# 아이폰 2 : seng msg \n",
    "# 아이폰 3 : internet"
   ]
  },
  {
   "cell_type": "code",
   "execution_count": 118,
   "id": "2087bdc5",
   "metadata": {},
   "outputs": [],
   "source": [
    "class Iphone1():\n",
    "    def __init__(self):\n",
    "        pass\n",
    "    @staticmethod\n",
    "    def calling(self):\n",
    "        print(\"calling\")"
   ]
  },
  {
   "cell_type": "code",
   "execution_count": 120,
   "id": "395e0924",
   "metadata": {},
   "outputs": [],
   "source": [
    "class Iphone2(Iphone1):\n",
    "    @staticmethod\n",
    "    def send_msg(self):\n",
    "        print(\"send_msg\")"
   ]
  },
  {
   "cell_type": "code",
   "execution_count": 121,
   "id": "f588c2bd",
   "metadata": {},
   "outputs": [],
   "source": [
    "class Iphone3(Iphone2):\n",
    "    @staticmethod\n",
    "    def internet(self):\n",
    "        print(\"internet\")"
   ]
  },
  {
   "cell_type": "code",
   "execution_count": 122,
   "id": "4abcc1bd",
   "metadata": {},
   "outputs": [],
   "source": [
    "class Galaxy:\n",
    "    def show_image(self):\n",
    "        print(\"show image\")"
   ]
  },
  {
   "cell_type": "code",
   "execution_count": null,
   "id": "3eebdde5",
   "metadata": {},
   "outputs": [],
   "source": []
  },
  {
   "cell_type": "code",
   "execution_count": null,
   "id": "006a67a9",
   "metadata": {},
   "outputs": [],
   "source": []
  },
  {
   "cell_type": "markdown",
   "id": "7ecc039d",
   "metadata": {},
   "source": [
    "### 다중 상속"
   ]
  },
  {
   "cell_type": "code",
   "execution_count": 123,
   "id": "6b723391",
   "metadata": {},
   "outputs": [],
   "source": [
    "class DssPhone(Iphone3, Galaxy):\n",
    "    def camera(self):\n",
    "        print(\"camera\")"
   ]
  },
  {
   "cell_type": "code",
   "execution_count": 124,
   "id": "72bc2f23",
   "metadata": {},
   "outputs": [],
   "source": [
    "dss_phone = DssPhone()"
   ]
  },
  {
   "cell_type": "code",
   "execution_count": 125,
   "id": "31c898ac",
   "metadata": {},
   "outputs": [
    {
     "data": {
      "text/plain": [
       "['calling', 'camera', 'internet', 'send_msg', 'show_image']"
      ]
     },
     "execution_count": 125,
     "metadata": {},
     "output_type": "execute_result"
    }
   ],
   "source": [
    "[func for func in dir(dss_phone) if func[:2] != \"__\"]"
   ]
  },
  {
   "cell_type": "code",
   "execution_count": null,
   "id": "42e08889",
   "metadata": {},
   "outputs": [],
   "source": []
  }
 ],
 "metadata": {
  "kernelspec": {
   "display_name": "Python 3",
   "language": "python",
   "name": "python3"
  },
  "language_info": {
   "codemirror_mode": {
    "name": "ipython",
    "version": 3
   },
   "file_extension": ".py",
   "mimetype": "text/x-python",
   "name": "python",
   "nbconvert_exporter": "python",
   "pygments_lexer": "ipython3",
   "version": "3.6.13"
  }
 },
 "nbformat": 4,
 "nbformat_minor": 5
}
