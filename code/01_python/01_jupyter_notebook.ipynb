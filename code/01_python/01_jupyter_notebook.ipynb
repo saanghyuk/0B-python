{
 "cells": [
  {
   "cell_type": "markdown",
   "id": "5eae4cb2",
   "metadata": {},
   "source": [
    "### Jupyter Notebook\n",
    "\n",
    "- Mode\n",
    " - 명령모드 : 셀을 수정할 때 사용(ESC - Blue Mode)\n",
    " - 편집모드 : 셀 안의 내용을 수정할 때 사용(ENTER - Green Mode)\n",
    " \n",
    "- Style\n",
    " - markdown (명령모드 + m): 셀 안에 설명을 작성할 떄 사용\n",
    " - code (명령모드 + y): 셀 안에 파이썬 코드를 작성할 때 사용\n",
    " \n",
    "- 단축키\n",
    "    - 셀 실행 : Shift+Enter \n",
    "    - 셀 삭제 : x\n",
    "    - 되돌리기 : z\n",
    "    - 셀 생성 : 위 a, 아래 b\n",
    "    - 줄 번호 : l\n",
    "    - 현재 셀 계속 실행 : ctrl + enter"
   ]
  },
  {
   "cell_type": "markdown",
   "id": "da4f0a00",
   "metadata": {},
   "source": [
    "#### Magic Command\n",
    "- 셀 내부에서 특별하게 동작하는 커맨드 \n",
    "- %: 한줄의 magic command를 동작\n",
    "- %%: 셀 단위의 majic command를 동작\n",
    "- 주요 magic command\n",
    "    - pwd : 현재 주피터 노트북 파일의 경로\n",
    "    - ls : 현재 디렉토리의 파일 리스트\n",
    "    - whos : 현재 선언된 변수를 출력\n",
    "    - reset : 현재 선언된 변수를 모두 삭제\n",
    "    - %%timeit : 해당 셀 전체 실행 시 속도를 말한다. "
   ]
  },
  {
   "cell_type": "code",
   "execution_count": 7,
   "id": "a2d89e39",
   "metadata": {},
   "outputs": [
    {
     "data": {
      "text/plain": [
       "'/Users/sanghyuk/Documents/zerobase_online/code/01_python'"
      ]
     },
     "execution_count": 7,
     "metadata": {},
     "output_type": "execute_result"
    }
   ],
   "source": [
    "%pwd"
   ]
  },
  {
   "cell_type": "code",
   "execution_count": 8,
   "id": "99cebefd",
   "metadata": {},
   "outputs": [
    {
     "name": "stdout",
     "output_type": "stream",
     "text": [
      "01_jupyter_notebook.ipynb\r\n"
     ]
    }
   ],
   "source": [
    "%ls"
   ]
  },
  {
   "cell_type": "code",
   "execution_count": 9,
   "id": "51b92640",
   "metadata": {},
   "outputs": [
    {
     "name": "stdout",
     "output_type": "stream",
     "text": [
      "Variable   Type    Data/Info\n",
      "----------------------------\n",
      "a          int     3\n"
     ]
    }
   ],
   "source": [
    "a = 3\n",
    "%whos"
   ]
  },
  {
   "cell_type": "markdown",
   "id": "10f7f1df",
   "metadata": {},
   "source": [
    "#### Shell Command\n",
    "- 주피터 노트북을 실행 쉘 환경의 명령을 사용(실행한 bash 환경에 따라 달라짐)\n",
    "- 명령어 앞에 !를 붙여서 사용\n",
    "- 주요 명령어\n",
    "    - ls, cat, echo, ..."
   ]
  },
  {
   "cell_type": "code",
   "execution_count": 10,
   "id": "5372a9d6",
   "metadata": {},
   "outputs": [
    {
     "name": "stdout",
     "output_type": "stream",
     "text": [
      "python\r\n"
     ]
    }
   ],
   "source": [
    "!echo python"
   ]
  },
  {
   "cell_type": "code",
   "execution_count": 6,
   "id": "8fa15e01",
   "metadata": {},
   "outputs": [
    {
     "name": "stdout",
     "output_type": "stream",
     "text": [
      "01_jupyter_notebook.ipynb\r\n"
     ]
    }
   ],
   "source": [
    "!ls"
   ]
  },
  {
   "cell_type": "code",
   "execution_count": null,
   "id": "1e834759",
   "metadata": {},
   "outputs": [],
   "source": []
  },
  {
   "cell_type": "code",
   "execution_count": null,
   "id": "100566bf",
   "metadata": {},
   "outputs": [],
   "source": []
  },
  {
   "cell_type": "markdown",
   "id": "9112e54e",
   "metadata": {},
   "source": [
    "### TIp "
   ]
  },
  {
   "cell_type": "code",
   "execution_count": null,
   "id": "ae75d53b",
   "metadata": {},
   "outputs": [],
   "source": [
    "cmd+option 누르면 줄별로 multiline 수정이 가능하다. "
   ]
  },
  {
   "cell_type": "code",
   "execution_count": null,
   "id": "86199e7c",
   "metadata": {},
   "outputs": [],
   "source": [
    ". \n",
    ". \n",
    ". \n",
    ". \n",
    ". \n"
   ]
  },
  {
   "cell_type": "code",
   "execution_count": null,
   "id": "a1676684",
   "metadata": {},
   "outputs": [],
   "source": []
  }
 ],
 "metadata": {
  "kernelspec": {
   "display_name": "Python 3",
   "language": "python",
   "name": "python3"
  },
  "language_info": {
   "codemirror_mode": {
    "name": "ipython",
    "version": 3
   },
   "file_extension": ".py",
   "mimetype": "text/x-python",
   "name": "python",
   "nbconvert_exporter": "python",
   "pygments_lexer": "ipython3",
   "version": "3.6.13"
  }
 },
 "nbformat": 4,
 "nbformat_minor": 5
}
