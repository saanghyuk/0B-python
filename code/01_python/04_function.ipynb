{
 "cells": [
  {
   "cell_type": "markdown",
   "id": "17cbe829",
   "metadata": {},
   "source": [
    "### 함수\n",
    "- 반복되는 코드를 묶음으로 효율적인 코드를 작성하도록 해주는 기능\n",
    "- 기본 함수\n",
    "- 파라미터와 아규먼트\n",
    "- 리턴\n",
    "- `*args`, `**kwargs`\n",
    "- docstring\n",
    "- scope\n",
    "- inner function\n",
    "- lambda function\n",
    "- Map, Filter, Reduce\n",
    "- Decorator"
   ]
  },
  {
   "cell_type": "markdown",
   "id": "ed6d4127",
   "metadata": {},
   "source": [
    "### 1. 기본함수\n",
    "- 선언과 호출"
   ]
  },
  {
   "cell_type": "code",
   "execution_count": 1,
   "id": "655759f6",
   "metadata": {},
   "outputs": [
    {
     "name": "stdout",
     "output_type": "stream",
     "text": [
      "B\n"
     ]
    }
   ],
   "source": [
    "point = 88\n",
    "\n",
    "if point >= 90:\n",
    "    print(\"A\")\n",
    "elif point >= 80:\n",
    "    print(\"B\")\n",
    "else:\n",
    "    print(C)"
   ]
  },
  {
   "cell_type": "code",
   "execution_count": 3,
   "id": "c5699226",
   "metadata": {},
   "outputs": [],
   "source": [
    "# 함수 선언\n",
    "def grade(point):\n",
    "    if point >= 90:\n",
    "        print(\"A\")\n",
    "    elif point >= 80:\n",
    "        print(\"B\")\n",
    "    else:\n",
    "        print(\"C\")"
   ]
  },
  {
   "cell_type": "code",
   "execution_count": 4,
   "id": "c276e078",
   "metadata": {
    "scrolled": true
   },
   "outputs": [
    {
     "name": "stdout",
     "output_type": "stream",
     "text": [
      "B\n"
     ]
    }
   ],
   "source": [
    "# 함수 호출\n",
    "grade(88)"
   ]
  },
  {
   "cell_type": "code",
   "execution_count": 9,
   "id": "7af8f203",
   "metadata": {
    "scrolled": true
   },
   "outputs": [
    {
     "name": "stdout",
     "output_type": "stream",
     "text": [
      "Variable   Type        Data/Info\n",
      "--------------------------------\n",
      "grade      function    <function grade at 0x7fd7f615bb70>\n",
      "point      int         88\n",
      "point3     str         hi\n"
     ]
    }
   ],
   "source": [
    "%whos"
   ]
  },
  {
   "cell_type": "code",
   "execution_count": null,
   "id": "815edd73",
   "metadata": {},
   "outputs": [],
   "source": [
    "\n"
   ]
  },
  {
   "cell_type": "markdown",
   "id": "dac8aa15",
   "metadata": {},
   "source": [
    "### 2. 파라미터와 아규먼트 \n",
    "- 파라미터 : 함수를 선언할 때 호출하는 부분에서 보내주는 데이터를 받는 변수\n",
    "- 아규먼트 : 함수를 호출할 때 보내주는 데이터"
   ]
  },
  {
   "cell_type": "code",
   "execution_count": 1,
   "id": "1003ce1e",
   "metadata": {},
   "outputs": [],
   "source": [
    "def plus(num1, num2):\n",
    "    print(num1+num2)"
   ]
  },
  {
   "cell_type": "code",
   "execution_count": 2,
   "id": "09bf50df",
   "metadata": {},
   "outputs": [
    {
     "name": "stdout",
     "output_type": "stream",
     "text": [
      "3\n"
     ]
    }
   ],
   "source": [
    "plus(1, 2)"
   ]
  },
  {
   "cell_type": "code",
   "execution_count": 3,
   "id": "976c1605",
   "metadata": {},
   "outputs": [],
   "source": [
    "# default parameter 생성\n",
    "def plus(num1=10, num2=3):\n",
    "    print(num1+num2)"
   ]
  },
  {
   "cell_type": "code",
   "execution_count": 6,
   "id": "fab5be03",
   "metadata": {},
   "outputs": [
    {
     "name": "stdout",
     "output_type": "stream",
     "text": [
      "15\n"
     ]
    }
   ],
   "source": [
    "plus(num2 = 5)"
   ]
  },
  {
   "cell_type": "code",
   "execution_count": 7,
   "id": "9aee7a71",
   "metadata": {},
   "outputs": [
    {
     "name": "stdout",
     "output_type": "stream",
     "text": [
      "13\n"
     ]
    }
   ],
   "source": [
    "# 키워드 아규먼트 \n",
    "plus(3, num2 = 10) #이렇게 Num2라고 쓰면 됨. "
   ]
  },
  {
   "cell_type": "code",
   "execution_count": null,
   "id": "8bcb2901",
   "metadata": {},
   "outputs": [],
   "source": []
  },
  {
   "cell_type": "code",
   "execution_count": null,
   "id": "a71d2745",
   "metadata": {},
   "outputs": [],
   "source": []
  },
  {
   "cell_type": "markdown",
   "id": "4508fe8b",
   "metadata": {},
   "source": [
    "### 3. 리턴\n",
    "- 함수를 실행한 결과를 저장하고 싶을 때 사용합니다. \n",
    "- return"
   ]
  },
  {
   "cell_type": "code",
   "execution_count": 11,
   "id": "22ce0901",
   "metadata": {},
   "outputs": [],
   "source": [
    "def plus(num1, num2):\n",
    "    print(num1 + num2)\n",
    "    return num1 + num2"
   ]
  },
  {
   "cell_type": "code",
   "execution_count": 12,
   "id": "5477791a",
   "metadata": {},
   "outputs": [
    {
     "name": "stdout",
     "output_type": "stream",
     "text": [
      "3\n",
      "3\n"
     ]
    }
   ],
   "source": [
    "result = plus(1, 2)\n",
    "print(result)"
   ]
  },
  {
   "cell_type": "code",
   "execution_count": 15,
   "id": "76376dc8",
   "metadata": {},
   "outputs": [
    {
     "ename": "AttributeError",
     "evalue": "'str' object has no attribute 'sort'",
     "output_type": "error",
     "traceback": [
      "\u001b[0;31m---------------------------------------------------------------------------\u001b[0m",
      "\u001b[0;31mAttributeError\u001b[0m                            Traceback (most recent call last)",
      "\u001b[0;32m<ipython-input-15-bdedf90770a4>\u001b[0m in \u001b[0;36m<module>\u001b[0;34m\u001b[0m\n\u001b[1;32m      1\u001b[0m \u001b[0mresult1\u001b[0m \u001b[0;34m=\u001b[0m \u001b[0mdata\u001b[0m\u001b[0;34m.\u001b[0m\u001b[0mupper\u001b[0m\u001b[0;34m(\u001b[0m\u001b[0;34m)\u001b[0m\u001b[0;34m\u001b[0m\u001b[0;34m\u001b[0m\u001b[0m\n\u001b[0;32m----> 2\u001b[0;31m \u001b[0mresult2\u001b[0m \u001b[0;34m=\u001b[0m \u001b[0mdata\u001b[0m\u001b[0;34m.\u001b[0m\u001b[0msort\u001b[0m\u001b[0;34m(\u001b[0m\u001b[0;34m)\u001b[0m\u001b[0;34m\u001b[0m\u001b[0;34m\u001b[0m\u001b[0m\n\u001b[0m",
      "\u001b[0;31mAttributeError\u001b[0m: 'str' object has no attribute 'sort'"
     ]
    }
   ],
   "source": [
    "# result1 = data.upper()\n",
    "# result2 = data.sort()"
   ]
  },
  {
   "cell_type": "code",
   "execution_count": 22,
   "id": "44ec8cc6",
   "metadata": {},
   "outputs": [],
   "source": [
    "# return 은 함수를 강제로 종료시키는 기능도 있음. \n",
    "def echo(msg):\n",
    "    if msg == \"quit\":\n",
    "        return\n",
    "    print(msg)"
   ]
  },
  {
   "cell_type": "code",
   "execution_count": 23,
   "id": "6a18139e",
   "metadata": {},
   "outputs": [
    {
     "name": "stdout",
     "output_type": "stream",
     "text": [
      "python\n"
     ]
    }
   ],
   "source": [
    "echo(\"python\")"
   ]
  },
  {
   "cell_type": "code",
   "execution_count": 24,
   "id": "9bacbd37",
   "metadata": {},
   "outputs": [],
   "source": [
    "echo(\"quit\")"
   ]
  },
  {
   "cell_type": "code",
   "execution_count": null,
   "id": "6c5b6ff8",
   "metadata": {},
   "outputs": [],
   "source": []
  },
  {
   "cell_type": "markdown",
   "id": "775b37aa",
   "metadata": {},
   "source": [
    "### 4. `*args`, `**kwargs`\n",
    "- 함수를 호출할 때 아규먼트와 키워드 아규먼트의 갯수를 특정지을 수 없을 떄 사용"
   ]
  },
  {
   "cell_type": "code",
   "execution_count": 25,
   "id": "ae9c6736",
   "metadata": {},
   "outputs": [],
   "source": [
    "def plus(num1, num2):\n",
    "    return num1, num2"
   ]
  },
  {
   "cell_type": "code",
   "execution_count": 26,
   "id": "15bd7a6f",
   "metadata": {},
   "outputs": [],
   "source": [
    "def plus(*args):\n",
    "    print(type(args), args)\n",
    "    return sum(args)"
   ]
  },
  {
   "cell_type": "code",
   "execution_count": 27,
   "id": "8b4fec3b",
   "metadata": {},
   "outputs": [
    {
     "name": "stdout",
     "output_type": "stream",
     "text": [
      "<class 'tuple'> (1, 2, 3, 4, 6)\n"
     ]
    },
    {
     "data": {
      "text/plain": [
       "16"
      ]
     },
     "execution_count": 27,
     "metadata": {},
     "output_type": "execute_result"
    }
   ],
   "source": [
    "plus(1, 2, 3, 4, 6)"
   ]
  },
  {
   "cell_type": "code",
   "execution_count": 44,
   "id": "dcc8de1c",
   "metadata": {},
   "outputs": [],
   "source": [
    "def plus(*args, **kargs):\n",
    "    print(type(args), args)\n",
    "    print(type(kargs), kargs)\n",
    "    return sum(args)+sum(kargs.values())"
   ]
  },
  {
   "cell_type": "code",
   "execution_count": 45,
   "id": "b3dc2db6",
   "metadata": {},
   "outputs": [
    {
     "name": "stdout",
     "output_type": "stream",
     "text": [
      "<class 'tuple'> (1, 2, 3, 4, 5)\n",
      "<class 'dict'> {'num': 6, 'num2': 7}\n"
     ]
    },
    {
     "data": {
      "text/plain": [
       "28"
      ]
     },
     "execution_count": 45,
     "metadata": {},
     "output_type": "execute_result"
    }
   ],
   "source": [
    "plus(1, 2, 3, 4, 5, num=6, num2=7)"
   ]
  },
  {
   "cell_type": "code",
   "execution_count": 50,
   "id": "526466cd",
   "metadata": {},
   "outputs": [],
   "source": [
    "# 인자 넘길때는 *"
   ]
  },
  {
   "cell_type": "code",
   "execution_count": 51,
   "id": "2209f76b",
   "metadata": {},
   "outputs": [
    {
     "data": {
      "text/plain": [
       "(1, 2, 3)"
      ]
     },
     "execution_count": 51,
     "metadata": {},
     "output_type": "execute_result"
    }
   ],
   "source": [
    "def func(num1, num2, num3):\n",
    "    return num1, num2, num3\n",
    "data = [1, 2, 3]\n",
    "func(*data) # 리스를 풀어서 주는 것. func(1, 2, 3으로 주는 것과 동일함)"
   ]
  },
  {
   "cell_type": "code",
   "execution_count": 52,
   "id": "ea797c71",
   "metadata": {},
   "outputs": [],
   "source": [
    "# keyword argument 넘길때는 **"
   ]
  },
  {
   "cell_type": "code",
   "execution_count": 53,
   "id": "ee852360",
   "metadata": {},
   "outputs": [
    {
     "data": {
      "text/plain": [
       "(1, 2, 3)"
      ]
     },
     "execution_count": 53,
     "metadata": {},
     "output_type": "execute_result"
    }
   ],
   "source": [
    "def func(num1, num2, num3):\n",
    "    return num1, num2, num3\n",
    "data = [1, 2, 3]\n",
    "func(*data) # 리스를 풀어서 주는 것. func(1, 2, 3으로 주는 것과 동일함)"
   ]
  },
  {
   "cell_type": "code",
   "execution_count": 54,
   "id": "badaa414",
   "metadata": {},
   "outputs": [
    {
     "data": {
      "text/plain": [
       "(1, 100, 200)"
      ]
     },
     "execution_count": 54,
     "metadata": {},
     "output_type": "execute_result"
    }
   ],
   "source": [
    "data = {\n",
    "    \"num2\": 100,\n",
    "    \"num3\": 200\n",
    "}\n",
    "func(1, **data) # func(1, num2 = 100, num3 = 200)과 동일한 호출"
   ]
  },
  {
   "cell_type": "code",
   "execution_count": 55,
   "id": "fcb680b9",
   "metadata": {},
   "outputs": [
    {
     "name": "stdout",
     "output_type": "stream",
     "text": [
      "Once deleted, variables cannot be recovered. Proceed (y/[n])? y\n"
     ]
    }
   ],
   "source": [
    "%reset"
   ]
  },
  {
   "cell_type": "code",
   "execution_count": null,
   "id": "6bd586d4",
   "metadata": {},
   "outputs": [],
   "source": []
  },
  {
   "cell_type": "code",
   "execution_count": null,
   "id": "f2ce17d1",
   "metadata": {},
   "outputs": [],
   "source": []
  },
  {
   "cell_type": "code",
   "execution_count": null,
   "id": "3b916aa6",
   "metadata": {},
   "outputs": [],
   "source": [
    "# 문장을 입력 받아서, 문법에 맞도록 결과를 출력하는 코드를 작성\n",
    "# python Language Is the best language\n",
    "# Python Language is the best language."
   ]
  },
  {
   "cell_type": "code",
   "execution_count": 64,
   "id": "bd4be352",
   "metadata": {},
   "outputs": [
    {
     "name": "stdout",
     "output_type": "stream",
     "text": [
      "input sentencepython Language Is the best language\n",
      "Python language is the best language.\n"
     ]
    }
   ],
   "source": [
    "sentence = input(\"input sentence\")\n",
    "lower = sentence.lower()\n",
    "lower = lower.replace(lower[0], lower[0].upper())\n",
    "if lower[:-1]!=\".\":\n",
    "    lower = lower+\".\"\n",
    "print(lower)"
   ]
  },
  {
   "cell_type": "code",
   "execution_count": 67,
   "id": "5cb22276",
   "metadata": {},
   "outputs": [
    {
     "name": "stdout",
     "output_type": "stream",
     "text": [
      "input sentencepython Language Is the best language\n"
     ]
    },
    {
     "data": {
      "text/plain": [
       "'Python language is the best language.'"
      ]
     },
     "execution_count": 67,
     "metadata": {},
     "output_type": "execute_result"
    }
   ],
   "source": [
    "# 1. 문자열 입력 받기\n",
    "sentence = input(\"input sentence\")\n",
    "# 2. 모두 소문자로 변경\n",
    "result = sentence.lower()\n",
    "# 3. 가장 앞 글자를 대문자로 변경\n",
    "result = result[0].upper() + result[1:]\n",
    "# 4. 마지막 문자가 . 인지 확인해서 .이 아니면, .를 추가. \n",
    "if result[-1] != \".\":\n",
    "    result += \".\"\n",
    "result"
   ]
  },
  {
   "cell_type": "code",
   "execution_count": null,
   "id": "69ad1400",
   "metadata": {},
   "outputs": [],
   "source": []
  },
  {
   "cell_type": "code",
   "execution_count": null,
   "id": "bfcc636f",
   "metadata": {},
   "outputs": [],
   "source": []
  },
  {
   "cell_type": "code",
   "execution_count": 80,
   "id": "8b49677a",
   "metadata": {},
   "outputs": [
    {
     "data": {
      "text/plain": [
       "[1, 3, 5, 13, 34, 35]"
      ]
     },
     "execution_count": 80,
     "metadata": {},
     "output_type": "execute_result"
    }
   ],
   "source": [
    "# 6자리 로또번호를 생성하는 코드를 작성하세요\n",
    "# 6자리의 번호는 중복이 없어야 한다. \n",
    "import random\n",
    "random.randint(1, 45)\n",
    "\n",
    "lotto = []\n",
    "while True:\n",
    "    if len(lotto) == 6:\n",
    "        lotto.sort()\n",
    "        break\n",
    "    rand_num = random.randint(1, 45)\n",
    "    if rand_num not in lotto:\n",
    "        lotto.append(rand_num)\n",
    "lotto"
   ]
  },
  {
   "cell_type": "code",
   "execution_count": null,
   "id": "a6941a8d",
   "metadata": {},
   "outputs": [],
   "source": []
  },
  {
   "cell_type": "code",
   "execution_count": null,
   "id": "f4a6f29d",
   "metadata": {},
   "outputs": [],
   "source": []
  },
  {
   "cell_type": "markdown",
   "id": "e2264003",
   "metadata": {},
   "source": [
    "### 1. Docstring\n",
    "- 함수의 설명을 작성\n",
    "- shift+tab, echo?, echo??, help(echo), echo.doc 이런 방법으로 Docstring 확인 가능\n"
   ]
  },
  {
   "cell_type": "code",
   "execution_count": 87,
   "id": "24abcb5d",
   "metadata": {},
   "outputs": [],
   "source": [
    "def echo(msg):\n",
    "    \"echo print msg\"\n",
    "    print(msg)\n",
    "# 멀티라인으로 쓸때는 \"\"\"\"\"\"\n",
    "def echo2(msg):\n",
    "    \"\"\"\n",
    "    echo func return its input argument\n",
    "    The operation is \n",
    "        1. print\n",
    "        2. return message\n",
    "    param : msg : str\n",
    "    return : str \n",
    "    \"\"\"\n",
    "    print(msg)"
   ]
  },
  {
   "cell_type": "code",
   "execution_count": 92,
   "id": "8d88344c",
   "metadata": {},
   "outputs": [
    {
     "data": {
      "text/plain": [
       "'echo print msg'"
      ]
     },
     "execution_count": 92,
     "metadata": {},
     "output_type": "execute_result"
    }
   ],
   "source": [
    "echo.__doc__"
   ]
  },
  {
   "cell_type": "code",
   "execution_count": null,
   "id": "e639765c",
   "metadata": {},
   "outputs": [],
   "source": []
  }
 ],
 "metadata": {
  "kernelspec": {
   "display_name": "Python 3",
   "language": "python",
   "name": "python3"
  },
  "language_info": {
   "codemirror_mode": {
    "name": "ipython",
    "version": 3
   },
   "file_extension": ".py",
   "mimetype": "text/x-python",
   "name": "python",
   "nbconvert_exporter": "python",
   "pygments_lexer": "ipython3",
   "version": "3.6.13"
  }
 },
 "nbformat": 4,
 "nbformat_minor": 5
}
