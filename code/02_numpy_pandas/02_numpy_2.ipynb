{
 "cells": [
  {
   "cell_type": "code",
   "execution_count": null,
   "id": "cc9c0f52",
   "metadata": {},
   "outputs": [],
   "source": []
  },
  {
   "cell_type": "raw",
   "id": "c116f23e",
   "metadata": {},
   "source": [
    "### summary\n",
    "- numpy : 선형대수를 빠르게 연산해주는 패키지\n",
    "- 행렬의 생성 : ndarray, np.array([])\n",
    "- 행렬의 생성 : ones, zeros\n",
    "- 행렬 데이터 선택 : array[x, y, z]\n",
    "- 행렬 데이터 수정 : \n",
    "    - 행렬 데이터 선택\n",
    "    - =, > (값(scala, vector, matrix))\n",
    "    - 브로드 캐스팅 개념\n",
    "- arange : list에서 쓰는 range. 결과가 ndarray"
   ]
  },
  {
   "cell_type": "code",
   "execution_count": null,
   "id": "fbaf9a38",
   "metadata": {},
   "outputs": [],
   "source": []
  },
  {
   "cell_type": "code",
   "execution_count": null,
   "id": "aa22c21c",
   "metadata": {},
   "outputs": [],
   "source": []
  },
  {
   "cell_type": "markdown",
   "id": "97e5c525",
   "metadata": {},
   "source": [
    "### quiz의\n",
    "- 100~130 까지 랜덤한 숫자를 가지를 8*8 행렬을 만들고, \n",
    "- 3의 배수는 fiz, 5의 배수는 buz, 3과 5의 배수는 fbz 문자로 변환. \n",
    "- 랜덤한 행렬 데이터 np.random(100, 130, size=(8, 8))\n",
    "- 위 조건에 맞지 않는 데이터는 랜덤하게 생성된 정수로 출력\n",
    "- 데이터 타입 변경 함수 ndarray.astype()"
   ]
  },
  {
   "cell_type": "code",
   "execution_count": 2,
   "id": "b951afa5",
   "metadata": {},
   "outputs": [],
   "source": [
    "import numpy as np"
   ]
  },
  {
   "cell_type": "code",
   "execution_count": 59,
   "id": "4368431a",
   "metadata": {},
   "outputs": [
    {
     "data": {
      "text/plain": [
       "array([[107, 108, 103, 129, 129, 119, 107, 118],\n",
       "       [113, 119, 115, 124, 127, 114, 105, 121],\n",
       "       [125, 127, 110, 106, 114, 104, 113, 128],\n",
       "       [126, 105, 103, 104, 119, 129, 102, 112],\n",
       "       [121, 127, 103, 107, 126, 103, 128, 110],\n",
       "       [111, 105, 126, 107, 125, 119, 117, 127],\n",
       "       [104, 117, 114, 120, 129, 113, 108, 126],\n",
       "       [123, 125, 106, 128, 122, 120, 125, 117]])"
      ]
     },
     "execution_count": 59,
     "metadata": {},
     "output_type": "execute_result"
    }
   ],
   "source": [
    "datas = np.random.randint(100, 130, size = (8, 8))\n",
    "datas"
   ]
  },
  {
   "cell_type": "code",
   "execution_count": 60,
   "id": "131d2364",
   "metadata": {
    "scrolled": true
   },
   "outputs": [
    {
     "data": {
      "text/plain": [
       "array([1, 3])"
      ]
     },
     "execution_count": 60,
     "metadata": {},
     "output_type": "execute_result"
    }
   ],
   "source": [
    "data1 = np.array([1, 2, 3])\n",
    "data2 = [True, False, True]\n",
    "data1[data2]"
   ]
  },
  {
   "cell_type": "code",
   "execution_count": null,
   "id": "1e5fc599",
   "metadata": {},
   "outputs": [],
   "source": [
    "# 3의 배수, 5의 배수, 15의 배수 위치값에 대한 T, F, Matrix 생성"
   ]
  },
  {
   "cell_type": "code",
   "execution_count": null,
   "id": "57a27ee9",
   "metadata": {},
   "outputs": [],
   "source": [
    "# 데이터 타입을 str으로 변환\n",
    "# T, F, Matrix를 이용하여 특정 조건의 데이터를 선택 후 브로드캐스팅하게 값을 대입. "
   ]
  },
  {
   "cell_type": "code",
   "execution_count": null,
   "id": "db55e12c",
   "metadata": {},
   "outputs": [],
   "source": []
  },
  {
   "cell_type": "code",
   "execution_count": 67,
   "id": "94cb6702",
   "metadata": {
    "scrolled": true
   },
   "outputs": [],
   "source": [
    "mask_5 = (quiz % 5) == 0\n",
    "mask_3 = (quiz % 3) == 0\n",
    "mask_15 = (quiz % 15) == 0"
   ]
  },
  {
   "cell_type": "code",
   "execution_count": 71,
   "id": "dd7eab56",
   "metadata": {
    "scrolled": true
   },
   "outputs": [],
   "source": [
    "data_str = datas.astype(str)"
   ]
  },
  {
   "cell_type": "code",
   "execution_count": 78,
   "id": "4c070f1a",
   "metadata": {},
   "outputs": [
    {
     "data": {
      "text/plain": [
       "array([['fiz', '108', '103', 'fiz', 'buz', '119', '107', 'buz'],\n",
       "       ['113', 'fiz', 'fiz', 'fiz', '127', 'buz', '105', '121'],\n",
       "       ['buz', '127', '110', 'buz', '114', 'fiz', 'fiz', '128'],\n",
       "       ['buz', '105', 'buz', '104', '119', 'buz', '102', '112'],\n",
       "       ['121', '127', '103', '107', 'buz', '103', 'fiz', 'buz'],\n",
       "       ['111', '105', 'fiz', '107', '125', '119', 'fiz', 'fiz'],\n",
       "       ['fiz', '117', 'fiz', '120', '129', 'fiz', '108', '126'],\n",
       "       ['buz', 'buz', '106', 'fiz', '122', '120', '125', '117']],\n",
       "      dtype='<U21')"
      ]
     },
     "execution_count": 78,
     "metadata": {},
     "output_type": "execute_result"
    }
   ],
   "source": [
    "np.where(mask_5, \"buz\", np.where(mask_3, \"fiz\", np.where(mask_15, \"fbz\", data_str)))"
   ]
  },
  {
   "cell_type": "code",
   "execution_count": null,
   "id": "72da7094",
   "metadata": {},
   "outputs": [],
   "source": []
  },
  {
   "cell_type": "markdown",
   "id": "40b7decb",
   "metadata": {},
   "source": [
    "### Quiz \n",
    "- 1~20까지 랜덤한 숫자를 가지를 5*5 행렬 생성\n",
    "- 최댓값에는 MAX, 최솟값에는 MIN문자열이 들어가도록 치환하는 코드를 작성\n",
    "- 최댓값, 최솟값 함수 \n",
    "```\n",
    "np.min(ndarray), np.max(ndarray)\n",
    "```"
   ]
  },
  {
   "cell_type": "code",
   "execution_count": 115,
   "id": "2238d3d6",
   "metadata": {
    "scrolled": false
   },
   "outputs": [
    {
     "data": {
      "text/plain": [
       "array([[12, 17, 17, 16, 15],\n",
       "       [10, 13, 12,  1, 13],\n",
       "       [ 6,  7,  3,  7,  3],\n",
       "       [ 2,  6, 18,  9,  8],\n",
       "       [16,  5, 16,  6,  9]])"
      ]
     },
     "execution_count": 115,
     "metadata": {},
     "output_type": "execute_result"
    }
   ],
   "source": [
    "datas = np.random.randint(1, 20, (5, 5))\n",
    "datas"
   ]
  },
  {
   "cell_type": "code",
   "execution_count": 103,
   "id": "4e59b709",
   "metadata": {},
   "outputs": [
    {
     "data": {
      "text/plain": [
       "18"
      ]
     },
     "execution_count": 103,
     "metadata": {},
     "output_type": "execute_result"
    }
   ],
   "source": [
    "np.max(datas)"
   ]
  },
  {
   "cell_type": "code",
   "execution_count": 119,
   "id": "2ff78aa3",
   "metadata": {},
   "outputs": [],
   "source": [
    "mask_max, mask_min = (datas==np.max(datas)), (datas == np.min(datas))"
   ]
  },
  {
   "cell_type": "code",
   "execution_count": 106,
   "id": "be14e03c",
   "metadata": {},
   "outputs": [
    {
     "data": {
      "text/plain": [
       "array([['MIN', '5', '11', 'MIN', '17'],\n",
       "       ['3', '13', '2', 'MAX', '17'],\n",
       "       ['15', '9', '7', '4', '4'],\n",
       "       ['8', '5', '15', 'MAX', '5'],\n",
       "       ['17', '10', 'MAX', '17', '10']], dtype='<U21')"
      ]
     },
     "execution_count": 106,
     "metadata": {},
     "output_type": "execute_result"
    }
   ],
   "source": [
    "datas = datas.astype(str)\n",
    "np.where(mask_max, \"MAX\", np.where(mask_min, \"MIN\", datas))"
   ]
  },
  {
   "cell_type": "code",
   "execution_count": null,
   "id": "4c4d7331",
   "metadata": {},
   "outputs": [],
   "source": []
  },
  {
   "cell_type": "code",
   "execution_count": null,
   "id": "9619ff4f",
   "metadata": {},
   "outputs": [],
   "source": []
  },
  {
   "cell_type": "markdown",
   "id": "ea94d301",
   "metadata": {},
   "source": [
    "### linspace, logspace\n",
    "- linspace : 설정한 범위에서 선형적으로 분할한 위치의 값을 출력\n",
    "- logspace : 설정한 범위에서 로그로 분할한 위치의 값을 출력"
   ]
  },
  {
   "cell_type": "code",
   "execution_count": 121,
   "id": "a5463809",
   "metadata": {},
   "outputs": [
    {
     "data": {
      "text/plain": [
       "array([  0.,  25.,  50.,  75., 100.])"
      ]
     },
     "execution_count": 121,
     "metadata": {},
     "output_type": "execute_result"
    }
   ],
   "source": [
    "# linspace\n",
    "np.linspace(0, 100, 5) #0, 100 그리고 3등분 "
   ]
  },
  {
   "cell_type": "code",
   "execution_count": 123,
   "id": "02d8c23e",
   "metadata": {},
   "outputs": [
    {
     "data": {
      "text/plain": [
       "array([  100.,  1000., 10000.])"
      ]
     },
     "execution_count": 123,
     "metadata": {},
     "output_type": "execute_result"
    }
   ],
   "source": [
    "#logspace\n",
    "# log10(x1) = 2, log10(x1) = 3, log10(x1) = 4\n",
    "# 2에서 4까지 3등분 하면 2, 3, 4 가 되잖아. 그 2, 3, 4를 x1, x2, x3에 넣은 값이야. \n",
    "np.logspace(2, 4, 3) "
   ]
  },
  {
   "cell_type": "code",
   "execution_count": null,
   "id": "11f3605a",
   "metadata": {},
   "outputs": [],
   "source": []
  },
  {
   "cell_type": "code",
   "execution_count": null,
   "id": "3c75f4e3",
   "metadata": {},
   "outputs": [],
   "source": [
    "# 30세에 연봉이 $100000 일 때 60세의 연봉이 $1000000일 때, \n",
    "# 연봉이 선형으로 증가, 지수함수로 증가하는 두 경우에서의 40, 50세 연봉을 출력"
   ]
  },
  {
   "cell_type": "code",
   "execution_count": 125,
   "id": "726d7a6d",
   "metadata": {},
   "outputs": [],
   "source": [
    "age_30 = 100000\n",
    "age_60 = 1000000"
   ]
  },
  {
   "cell_type": "code",
   "execution_count": 126,
   "id": "d67700b4",
   "metadata": {},
   "outputs": [
    {
     "data": {
      "text/plain": [
       "array([ 100000.,  400000.,  700000., 1000000.])"
      ]
     },
     "execution_count": 126,
     "metadata": {},
     "output_type": "execute_result"
    }
   ],
   "source": [
    "np.linspace(age_30, age_60, 4)"
   ]
  },
  {
   "cell_type": "code",
   "execution_count": 129,
   "id": "d1cdb786",
   "metadata": {},
   "outputs": [
    {
     "data": {
      "text/plain": [
       "array([ 100000.        ,  215443.46900319,  464158.88336128,\n",
       "       1000000.        ])"
      ]
     },
     "execution_count": 129,
     "metadata": {},
     "output_type": "execute_result"
    }
   ],
   "source": [
    "# np.logspace(age_30, age_60, 4) \n",
    "# 이렇게 쓰면 안되지. \n",
    "np.logspace(np.log10(age_30), np.log10(age_60), 4)"
   ]
  },
  {
   "cell_type": "code",
   "execution_count": null,
   "id": "1692ea98",
   "metadata": {},
   "outputs": [],
   "source": []
  },
  {
   "cell_type": "code",
   "execution_count": null,
   "id": "e9b4b5c6",
   "metadata": {},
   "outputs": [],
   "source": []
  },
  {
   "cell_type": "markdown",
   "id": "4151d441",
   "metadata": {},
   "source": [
    "### 2. numpy random\n",
    "- seed : 랜덤 설정값(시드 값이 같으면, 랜덤하게 섞이지만 똑같은 랜덤 값이 뽑힘)\n",
    "- rand : 균등분포로 난수를 발생(0~10까지 뽑힐 확률 비슷하게)\n",
    "- randn : 정규분포로 난수를 발생(0에서 가까울수록 확률 높게)\n",
    "- randint : 균등분포로 정수값을 발생\n",
    "- shuffle : 행렬 데이터를 섞어 줍니다. \n",
    "- choice : 특정 확률로 데이터를 선택"
   ]
  },
  {
   "cell_type": "code",
   "execution_count": 130,
   "id": "3f28bd14",
   "metadata": {},
   "outputs": [
    {
     "data": {
      "text/plain": [
       "(array([47, 22, 82, 19, 85, 15, 89, 74, 26, 11]),\n",
       " array([47, 22, 82, 19, 85, 15, 89, 74, 26, 11]),\n",
       " array([50, 25, 82, 32, 53, 92, 85, 17, 44, 59]))"
      ]
     },
     "execution_count": 130,
     "metadata": {},
     "output_type": "execute_result"
    }
   ],
   "source": [
    "#seed\n",
    "np.random.seed(1)\n",
    "result1 = np.random.randint(10, 100, 10)\n",
    "np.random.seed(1)\n",
    "result2 = np.random.randint(10, 100, 10)\n",
    "np.random.seed(2)\n",
    "result3 = np.random.randint(10, 100, 10)\n",
    "\n",
    "result1, result2, result3"
   ]
  },
  {
   "cell_type": "code",
   "execution_count": null,
   "id": "626c90e5",
   "metadata": {},
   "outputs": [],
   "source": []
  },
  {
   "cell_type": "code",
   "execution_count": 138,
   "id": "a9c80649",
   "metadata": {
    "scrolled": true
   },
   "outputs": [
    {
     "data": {
      "text/plain": [
       "array([0.79740494, 0.2693888 , 0.58268489, 0.02555094, 0.66220202,\n",
       "       0.38752343, 0.4970738 , 0.41490584, 0.3508719 , 0.55097791])"
      ]
     },
     "execution_count": 138,
     "metadata": {},
     "output_type": "execute_result"
    }
   ],
   "source": [
    "np.random.rand(10)"
   ]
  },
  {
   "cell_type": "code",
   "execution_count": null,
   "id": "9265f237",
   "metadata": {},
   "outputs": [],
   "source": []
  },
  {
   "cell_type": "code",
   "execution_count": 132,
   "id": "b5e1c936",
   "metadata": {},
   "outputs": [
    {
     "data": {
      "text/plain": [
       "array([-0.0191305 ,  1.17500122, -0.74787095,  0.00902525, -0.87810789,\n",
       "       -0.15643417,  0.25657045, -0.98877905, -0.33882197, -0.23618403])"
      ]
     },
     "execution_count": 132,
     "metadata": {},
     "output_type": "execute_result"
    }
   ],
   "source": [
    "np.random.randn(10)"
   ]
  },
  {
   "cell_type": "code",
   "execution_count": null,
   "id": "6575e66d",
   "metadata": {},
   "outputs": [],
   "source": []
  },
  {
   "cell_type": "code",
   "execution_count": 152,
   "id": "74e491b2",
   "metadata": {},
   "outputs": [
    {
     "data": {
      "text/plain": [
       "array([[6, 2, 4, 4],\n",
       "       [4, 3, 7, 6],\n",
       "       [6, 3, 6, 7]])"
      ]
     },
     "execution_count": 152,
     "metadata": {},
     "output_type": "execute_result"
    }
   ],
   "source": [
    "# shuffle\n",
    "r = np.random.randint(1, 10, (3, 4))\n",
    "r"
   ]
  },
  {
   "cell_type": "code",
   "execution_count": 156,
   "id": "05865982",
   "metadata": {},
   "outputs": [
    {
     "data": {
      "text/plain": [
       "array([[6, 2, 4, 4],\n",
       "       [4, 3, 7, 6],\n",
       "       [6, 3, 6, 7]])"
      ]
     },
     "execution_count": 156,
     "metadata": {},
     "output_type": "execute_result"
    }
   ],
   "source": [
    "np.random.shuffle(r) \n",
    "r\n",
    "\n",
    "# 지금 보면 제일 바깥쪽만 랜덤하게 바뀜\n",
    "# 이걸 싹다 바꾸고 싶으면, 1차원으로 만든 다음에 셔플 돌리고, 다시 reshape으로 원래대로 만들면 됨. "
   ]
  },
  {
   "cell_type": "code",
   "execution_count": null,
   "id": "aa74d095",
   "metadata": {},
   "outputs": [],
   "source": []
  },
  {
   "cell_type": "code",
   "execution_count": 185,
   "id": "985d7da3",
   "metadata": {},
   "outputs": [
    {
     "data": {
      "text/plain": [
       "array([2, 1, 0, 1, 1, 0, 2, 0, 1, 1])"
      ]
     },
     "execution_count": 185,
     "metadata": {},
     "output_type": "execute_result"
    }
   ],
   "source": [
    "# choice\n",
    "# 각 숫자의 확률을 써주면 됨. \n",
    "# 5는 0~5, 뒤에 10은 갯수 5 직전 4까지. \n",
    "# choice(a, size=None, replace=True, p=None)\n",
    "# Generates a random sample from a given 1-D array\n",
    "\n",
    "np.random.choice(5, 10, p=[0.1, 0.4, 0.2, 0.2, 0.1])"
   ]
  },
  {
   "cell_type": "code",
   "execution_count": null,
   "id": "b38d0d13",
   "metadata": {},
   "outputs": [],
   "source": []
  },
  {
   "cell_type": "code",
   "execution_count": 186,
   "id": "ec2efd18",
   "metadata": {},
   "outputs": [
    {
     "data": {
      "text/plain": [
       "array([[6, 2, 4, 4],\n",
       "       [4, 3, 7, 6],\n",
       "       [6, 3, 6, 7]])"
      ]
     },
     "execution_count": 186,
     "metadata": {},
     "output_type": "execute_result"
    }
   ],
   "source": [
    "r"
   ]
  },
  {
   "cell_type": "code",
   "execution_count": 189,
   "id": "49d1f742",
   "metadata": {},
   "outputs": [
    {
     "data": {
      "text/plain": [
       "(array([2, 3, 4, 6, 7]), (array([2, 3, 4, 6, 7]), array([1, 2, 3, 4, 2])))"
      ]
     },
     "execution_count": 189,
     "metadata": {},
     "output_type": "execute_result"
    }
   ],
   "source": [
    "# unique, unique한 값들 출력\n",
    "np.unique(r), np.unique(r, return_counts=True)"
   ]
  },
  {
   "cell_type": "code",
   "execution_count": null,
   "id": "79b7647f",
   "metadata": {},
   "outputs": [],
   "source": []
  },
  {
   "cell_type": "markdown",
   "id": "c5af895f",
   "metadata": {},
   "source": [
    "### 3. 행렬 데이터의 결합\n",
    "- concatenate"
   ]
  },
  {
   "cell_type": "code",
   "execution_count": 191,
   "id": "70a40dd9",
   "metadata": {},
   "outputs": [],
   "source": [
    "na1 = np.random.randint(10, size=(2, 3))\n",
    "na2 = np.random.randint(10, size=(3, 2))\n",
    "na3 = np.random.randint(10, size=(3, 3))"
   ]
  },
  {
   "cell_type": "code",
   "execution_count": 194,
   "id": "41fb0bb9",
   "metadata": {},
   "outputs": [
    {
     "data": {
      "text/plain": [
       "(array([[2, 8, 1],\n",
       "        [0, 9, 2]]),\n",
       " array([[5, 2],\n",
       "        [4, 6],\n",
       "        [5, 3]]),\n",
       " array([[6, 9, 3],\n",
       "        [0, 8, 4],\n",
       "        [0, 2, 1]]))"
      ]
     },
     "execution_count": 194,
     "metadata": {},
     "output_type": "execute_result"
    }
   ],
   "source": [
    "# 세로로 합치기\n",
    "# 결합하려면 차원이 맞아야지. \n",
    "na1, na2, na3"
   ]
  },
  {
   "cell_type": "code",
   "execution_count": 196,
   "id": "4f1956c3",
   "metadata": {},
   "outputs": [
    {
     "data": {
      "text/plain": [
       "array([[2, 8, 1],\n",
       "       [0, 9, 2],\n",
       "       [6, 9, 3],\n",
       "       [0, 8, 4],\n",
       "       [0, 2, 1]])"
      ]
     },
     "execution_count": 196,
     "metadata": {},
     "output_type": "execute_result"
    }
   ],
   "source": [
    "np.concatenate((na1, na3))"
   ]
  },
  {
   "cell_type": "code",
   "execution_count": 197,
   "id": "5cc5603c",
   "metadata": {},
   "outputs": [
    {
     "data": {
      "text/plain": [
       "array([[5, 2, 6, 9, 3],\n",
       "       [4, 6, 0, 8, 4],\n",
       "       [5, 3, 0, 2, 1]])"
      ]
     },
     "execution_count": 197,
     "metadata": {},
     "output_type": "execute_result"
    }
   ],
   "source": [
    "# 가로 결합\n",
    "np.concatenate((na2, na3), axis = 1)"
   ]
  },
  {
   "cell_type": "code",
   "execution_count": 199,
   "id": "d2333ff8",
   "metadata": {},
   "outputs": [
    {
     "data": {
      "text/plain": [
       "array([[1, 4],\n",
       "       [2, 5],\n",
       "       [3, 6]])"
      ]
     },
     "execution_count": 199,
     "metadata": {},
     "output_type": "execute_result"
    }
   ],
   "source": [
    "# c_, r_로도 결합 가능함. \n",
    "# c : column, r : row\n",
    "np.c_[np.array([1, 2, 3]), np.array([4, 5, 6])]"
   ]
  },
  {
   "cell_type": "code",
   "execution_count": 200,
   "id": "d6c3bf07",
   "metadata": {},
   "outputs": [
    {
     "data": {
      "text/plain": [
       "array([1, 2, 3, 4, 5, 6])"
      ]
     },
     "execution_count": 200,
     "metadata": {},
     "output_type": "execute_result"
    }
   ],
   "source": [
    "np.r_[np.array([1, 2, 3]), np.array([4, 5, 6])]"
   ]
  },
  {
   "cell_type": "code",
   "execution_count": 201,
   "id": "95efde11",
   "metadata": {},
   "outputs": [],
   "source": [
    "# split, var, std, mean ..."
   ]
  },
  {
   "cell_type": "code",
   "execution_count": null,
   "id": "14072a98",
   "metadata": {},
   "outputs": [],
   "source": []
  }
 ],
 "metadata": {
  "kernelspec": {
   "display_name": "Python 3",
   "language": "python",
   "name": "python3"
  },
  "language_info": {
   "codemirror_mode": {
    "name": "ipython",
    "version": 3
   },
   "file_extension": ".py",
   "mimetype": "text/x-python",
   "name": "python",
   "nbconvert_exporter": "python",
   "pygments_lexer": "ipython3",
   "version": "3.9.1"
  }
 },
 "nbformat": 4,
 "nbformat_minor": 5
}
