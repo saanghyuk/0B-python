{
 "cells": [
  {
   "cell_type": "markdown",
   "metadata": {},
   "source": [
    "### Server Setting\n",
    "1. OTP 설정\n",
    "2. EC2 생성\n",
    "3. FTP 서비스 : cyberduck 설치\n",
    "4. pyenv 설정(파이썬 가상환경)\n",
    "5. jupyter notebook 설치\n",
    "6. mysql 설치 및 설정"
   ]
  },
  {
   "cell_type": "markdown",
   "metadata": {},
   "source": [
    "한번의 연결을 Session이라고 한다. 터미널 하나 더 열어서 접속하면, Session2가 되는 것. "
   ]
  },
  {
   "cell_type": "markdown",
   "metadata": {},
   "source": [
    "- EC2 중지 한 다음에, 다시 키면 Public IP가 바뀜. \n",
    "- IP부족한데, IP자원을 할당하면 안되지. 끄면 그것도 반납하는 것. \n",
    "- 고정으로도 할 수 있음. \n"
   ]
  },
  {
   "cell_type": "code",
   "execution_count": null,
   "metadata": {},
   "outputs": [],
   "source": []
  },
  {
   "cell_type": "markdown",
   "metadata": {},
   "source": [
    "### 고정 IP사용 방법\n",
    "- 네트워크 및 보안 텝 \n",
    "- 새 주소 할당\n",
    "- 그리고, 이걸 내 EC2에 연결하면 됨. \n",
    "- 작업 - 탄력적 IP주소 연결\n",
    "- 인스턴스와 Private IP연결하면 된다. \n",
    "- 주의해야 하는게, IP점유하고 있는데 서버를 끄면 과금이 된다. \n",
    "- EC2 끌꺼면, IP반납을 하던가, 나중에 꼭 써야되면 다른 EC2로 할당을 해놓던가 해야 함. 그냥 돈을 내도 되고. "
   ]
  },
  {
   "cell_type": "code",
   "execution_count": null,
   "metadata": {},
   "outputs": [],
   "source": []
  },
  {
   "cell_type": "markdown",
   "metadata": {},
   "source": [
    "#### 3. FTP 서비스\n",
    "- cyberduck\n",
    "    - https://cyberduck.io/download/\n",
    "- filezilla\n",
    "    - https://filezilla-project.org/download.php\n",
    "- 서버 접속 설정\n",
    "    - SFTP 선택\n",
    "    - 서버 : public ip 설정\n",
    "    - 사용자 이름 : ubuntu\n",
    "    - SSH Private Key : dss.pem 파일 선택"
   ]
  },
  {
   "cell_type": "markdown",
   "metadata": {},
   "source": [
    "#### 4. pyenv 설정\n",
    "- pyenv.sh 파일을 구글 드라이브에서 다운\n",
    "- cyberduck을 이용하여 서버로 파일 이동\n",
    "- pyenv.sh 파일 실행\n",
    "```\n",
    "$ source pyenv.sh\n",
    "```"
   ]
  },
  {
   "cell_type": "markdown",
   "metadata": {},
   "source": [
    "file 내부를 보면, [pyven, virtualenv, autoenv에 대한 설명](https://medium.com/hashbox/python-%EA%B8%B0%EB%B3%B8-%ED%99%98%EA%B2%BD-%EA%B5%AC%EC%B6%95%ED%95%98%EA%B8%B0-pyenv-virtualenv-autoenv-1e26755bf3b9)\n",
    "- pyenv(파이썬 환경) -> 이걸 이용해서 3.6.9 버전의 파이썬 설치 \n",
    "- virtualenv -> 설치된 버전의 버전의 파이썬으로 여러가지 가상환경을 만들 수 있게 해줌. 환경 분리 시켜 줌.   \n",
    "- auto env -> 서버에서 작업을 할 때, dss1/dss2 이런거를 디렉토리별로 나눠서 작업을 하잖아. dss1으로 디렉토리 들어가면 자동으로 환경 바꾸게 해주는 것. \n",
    "- 3가지를 설치함"
   ]
  },
  {
   "cell_type": "markdown",
   "metadata": {},
   "source": [
    "pyvenv global python3 : 로그인하면, 자동으로 파이썬 3을 실행시키라는 명령. "
   ]
  },
  {
   "cell_type": "markdown",
   "metadata": {},
   "source": [
    "그 전에!\n",
    "```\n",
    "- pip install -r requirements.txt\n",
    "````\n",
    "- 나는 이거 안되서 pip3 install 후에 pip3로 설치했음."
   ]
  },
  {
   "cell_type": "markdown",
   "metadata": {},
   "source": [
    "#### 5. jupyter notebook 설치 및 설정\n",
    "- ipython jupyter 패키지 설치\n",
    "```\n",
    "$ pip install ipython jupyter\n",
    "```\n",
    "- 설정 파일 생성\n",
    "```\n",
    "$ jupyter notebook --generate-conﬁg\n",
    "```\n",
    "- 패스워드 생성\n",
    "```\n",
    "$ ipython\n",
    "In [1]: from notebook.auth import passwd\n",
    "In [2]: passwd()\n",
    "Enter password: dss\n",
    "Verify password: dss\n",
    "sha1:6600c5733ef3:b683d6afba16b3403fdf9a75ac38b7d8e7f733bb\n",
    "```\n",
    "- 설정파일 접속\n",
    "```\n",
    "$ sudo vi /home/ubuntu/.jupyter/jupyter_notebook_conﬁg.py \n",
    "```\n",
    "- 설정 파일 수정\n",
    "```\n",
    "c.NotebookApp.ip = '172.31.26.225' # 내부 IP 주소\n",
    "c.NotebookApp.open_browser = False\n",
    "c.NotebookApp.password = 'sha1:6600c5733ef3:b683d6afba16b3403fdf9a75ac38b7d8e7f733bb' \n",
    "```\n",
    "- 서버의 8888 포트 활성화\n",
    "- 서버에서 jupyter notebook 실행\n",
    "- 브라우져로 접속\n",
    "    - `http://<public ip>:8888`"
   ]
  },
  {
   "cell_type": "markdown",
   "metadata": {},
   "source": [
    "#### 6. Mysql 설치 및 설정\n",
    "\n",
    "- mysql-server, mysql-client 설치\n",
    "    - `$ sudo apt install mysql-server`\n",
    "- mysql 보안 설정 ( n-y-n-y-y 순으로 입력해줍니다. ) \n",
    "    - `$ sudo mysql_secure_installation`\n",
    "    \n",
    "```\n",
    "\n",
    "- Would you like to setup VALIDATE PASSWORD plugin? Press y|Y for Yes, any other key for No: n\n",
    "- 패스워드 설정 : dss\n",
    "- Remove anonymous users? (Press y|Y for Yes, any other key for No) : y\n",
    "- Disallow root login remotely? (Press y|Y for Yes, any other key for No) : n\n",
    "- Remove test database and access to it? (Press y|Y for Yes, any other key for No) : y\n",
    "- Reload privilege tables now? (Press y|Y for Yes, any other key for No) : y\n",
    "```"
   ]
  },
  {
   "cell_type": "markdown",
   "metadata": {},
   "source": [
    "- 최초 패스워드 설정\n",
    "\n",
    "```\n",
    "$ sudo mysql\n",
    "mysql> SELECT user,authentication_string,plugin,host FROM mysql.user;\n",
    "mysql> ALTER USER 'root'@'localhost' IDENTIFIED WITH mysql_native_password BY 'dss';\n",
    "mysql> FLUSH PRIVILEGES;\n",
    "mysql> SELECT user,authentication_string,plugin,host FROM mysql.user;\n",
    "mysql> exit\n",
    "```\n",
    "\n",
    "- 접속\n",
    "\n",
    "```\n",
    "-u : user -> root\n",
    "-p : put passsword\n",
    "$ mysql -u root -p\n",
    "Enter password: dss\n",
    "```"
   ]
  },
  {
   "cell_type": "markdown",
   "metadata": {},
   "source": [
    "- 외부 접속 허용\n",
    "    - mysql 설정파일 bind-address = 0.0.0.0 으로 수정 \n",
    "        - `$ sudo vi /etc/mysql/mysql.conf.d/mysqld.cnf`        \n",
    "        ```\n",
    "        bind-address = 0.0.0.0\n",
    "        ```\n",
    "        - 외부접속이 허용되도록 mysql 설정\n",
    "        ```\n",
    "        mysql> grant all privileges on *.* to 'root'@'%' identified by 'dss';\n",
    "        ```\n",
    "        - 재시작으로 설정 적용\n",
    "        ```\n",
    "        $ sudo systemctl restart mysql.service\n",
    "        ```\n",
    "        - 서버의 3306 포트 활성화"
   ]
  },
  {
   "cell_type": "markdown",
   "metadata": {},
   "source": [
    "#### database management application\n",
    "- windows\n",
    "    - heidiSQL\n",
    "    - https://www.heidisql.com\n",
    "- mac\n",
    "    - Sequel Pro\n",
    "    - https://www.sequelpro.com/"
   ]
  },
  {
   "cell_type": "markdown",
   "metadata": {},
   "source": [
    "#### Save Sample Data\n",
    "- https://dev.mysql.com/doc/index-other.html\n",
    "- world database zip 파일 다운로드\n",
    "- 압축 해제 후 world.sql 파일을 서버로 이동\n",
    "- database management app을 이용하여 world 데이터 베이스 생성\n",
    "- 데이터 저장 방법 1\n",
    "```\n",
    "$ mysql -u root -p world < world.sql\n",
    "```\n",
    "- 데이터 저장 방법 2\n",
    "```\n",
    "sql> create database world;\n",
    "sql> use world;\n",
    "sql> source world.sql\n",
    "```"
   ]
  },
  {
   "cell_type": "markdown",
   "metadata": {},
   "source": [
    "- Sakila DB\n",
    "    - Sakila Data의 경우는 data와 schema를 두개 다 가지고 있음. 별개 파일. \n",
    "      schema(테이블 만들고 셋팅하는 쿼리)를 먼저 임포트 하고, 그 다음에 다시 data(데이터 넣는 쿼리)를 가지고 와야 에러가 안남.\n",
    "    - sakila database download\n",
    " - https://dev.mysql.com/doc/index-other.html\n",
    "    - Import sakila database\n",
    "    - `$ mysql -u root -p`\n",
    "    - `sql> create database sakila;`\n",
    "    - `sql> quit`\n",
    "    - `$ mysql -u root -p sakila < sakila-schema.sql`\n",
    "    - `$ mysql -u root -p sakila < sakila-data.sql`\n"
   ]
  },
  {
   "cell_type": "markdown",
   "metadata": {},
   "source": [
    "- 항상 뭔가를 넣을 때, 이렇게 데이터 베이스 먼저 만들고 나와서 넣어야 한다. \n",
    "- create database employees;\n",
    "- use employees;\n",
    "- source employees.sql"
   ]
  },
  {
   "cell_type": "code",
   "execution_count": null,
   "metadata": {},
   "outputs": [],
   "source": []
  },
  {
   "cell_type": "markdown",
   "metadata": {},
   "source": [
    "Jupyter notebook항상 켜놓기"
   ]
  },
  {
   "cell_type": "markdown",
   "metadata": {},
   "source": [
    "sudo python3 -m notebook --allow-root # [Ctrl] + Z 입력하여 실행 종료하기 bg disown -h\n",
    "\n"
   ]
  },
  {
   "cell_type": "code",
   "execution_count": null,
   "metadata": {},
   "outputs": [],
   "source": []
  },
  {
   "cell_type": "code",
   "execution_count": null,
   "metadata": {},
   "outputs": [],
   "source": []
  },
  {
   "cell_type": "markdown",
   "metadata": {},
   "source": [
    "### 항상 실행해두기"
   ]
  },
  {
   "cell_type": "markdown",
   "metadata": {},
   "source": [
    "- 주피터 노트북 실행 했는데, 다시 커맨드 입력하고 싶으면?\n",
    "1. jupyter notebook &  (& 명렁어를 뒤에 붙이면 백그라운드로 실행하게 된다)\n",
    "- bg 서버 죽일때는? process 찾아서 죽여야함. \n",
    "- ps -e | grep note\n",
    "- Kill -9 [process_id]"
   ]
  },
  {
   "cell_type": "markdown",
   "metadata": {},
   "source": [
    "2. tmux(세션 관리)\n",
    "- 세션 하나가 새로 만들어 진다. \n",
    "- tmux new -s sanghyuk\n",
    "- 0 번 윈도우가 된 것. 추가 하려면 ctrl+ b 누르고 띄고 c\n",
    "- 윈도우 2개 중에 1개에서 실행시키고, \n",
    "- ctrl + b 누르고 띈 다음에 0 누르면 된다. 1, 2, 3 옮겨 다닐 수 있음. \n",
    "\n",
    "\n",
    "- ps -a | grep python3 \n",
    "\n",
    "- 새로 연 터미널에서 history | grep ssh"
   ]
  },
  {
   "cell_type": "markdown",
   "metadata": {},
   "source": [
    "- tmux ls \n",
    "- tmux attach -t dss(dss라는 세션이름으로 접속함)"
   ]
  },
  {
   "cell_type": "markdown",
   "metadata": {},
   "source": [
    "- ctrl+b+d\n",
    "- 이거로 detatch 하면 ssh 끊어져도 주피터 안죽음"
   ]
  },
  {
   "cell_type": "markdown",
   "metadata": {},
   "source": [
    "- 다음에 들어왔을때, 다시 해당 세션 attath 하면 된다. \n",
    "- tmux attach -t notebook 이렇게"
   ]
  },
  {
   "cell_type": "markdown",
   "metadata": {},
   "source": [
    "끌 때는 ctrl+b + x"
   ]
  },
  {
   "cell_type": "code",
   "execution_count": null,
   "metadata": {},
   "outputs": [],
   "source": []
  },
  {
   "cell_type": "code",
   "execution_count": null,
   "metadata": {},
   "outputs": [],
   "source": []
  },
  {
   "cell_type": "markdown",
   "metadata": {},
   "source": [
    "### EC2 쉽게 접속하기"
   ]
  },
  {
   "cell_type": "markdown",
   "metadata": {},
   "source": [
    "- bashrc or bash_profile은 터미널을 실행할 때, 이 코드를 자동으로 실행해주는 곳. startup file같은 것. \n",
    "- `vi ~/.bashrc`\n",
    "- alias ec2='ssh -i /Users/sanghyuk/Mirror/aws_setting/dss.pem ubuntu@54.179.203.15'\n",
    "- `source ~/.bashrc` 적용(껏다 켜도 적용)"
   ]
  },
  {
   "cell_type": "markdown",
   "metadata": {},
   "source": []
  },
  {
   "cell_type": "code",
   "execution_count": null,
   "metadata": {},
   "outputs": [],
   "source": []
  },
  {
   "cell_type": "code",
   "execution_count": null,
   "metadata": {},
   "outputs": [],
   "source": []
  }
 ],
 "metadata": {
  "kernelspec": {
   "display_name": "Python 3",
   "language": "python",
   "name": "python3"
  },
  "language_info": {
   "codemirror_mode": {
    "name": "ipython",
    "version": 3
   },
   "file_extension": ".py",
   "mimetype": "text/x-python",
   "name": "python",
   "nbconvert_exporter": "python",
   "pygments_lexer": "ipython3",
   "version": "3.8.5"
  },
  "license": "Copyright 2019. Doo Jin Park. All rights reserved."
 },
 "nbformat": 4,
 "nbformat_minor": 2
}
