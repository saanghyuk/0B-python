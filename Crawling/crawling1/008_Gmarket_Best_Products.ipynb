{
 "cells": [
  {
   "cell_type": "markdown",
   "metadata": {},
   "source": [
    "## Gmarket 베스트 상품 200개 크롤링\n",
    "### 클립명 : html_css_requests3_20191114_04\n",
    "- 상품명, 원가, 판매가\n",
    "- 썸네일 이미지"
   ]
  },
  {
   "cell_type": "markdown",
   "metadata": {},
   "source": [
    "#### 안내\n",
    "- 최신버전 BeautifulSoup 에는 nth-child 기능이 제거되어서 구버전을 설치해주세요.\n",
    "- 추후 KoNLPy 와 버전 호환이 맞지 않아서, KoNLPy 실습시에는 아래 코드를 실행해주세요.\n",
    "    - !pip install beautifulsoup4 --upgrade"
   ]
  },
  {
   "cell_type": "code",
   "execution_count": 3,
   "metadata": {},
   "outputs": [
    {
     "name": "stdout",
     "output_type": "stream",
     "text": [
      "Collecting beautifulsoup4==4.8.1\n",
      "  Downloading beautifulsoup4-4.8.1-py3-none-any.whl (101 kB)\n",
      "\u001b[K     |████████████████████████████████| 101 kB 4.4 MB/s ta 0:00:011\n",
      "\u001b[?25hRequirement already satisfied: soupsieve>=1.2 in /Users/sanghyuk/anaconda/envs/py38/lib/python3.8/site-packages (from beautifulsoup4==4.8.1) (2.0.1)\n",
      "Installing collected packages: beautifulsoup4\n",
      "  Attempting uninstall: beautifulsoup4\n",
      "    Found existing installation: beautifulsoup4 4.9.3\n",
      "    Uninstalling beautifulsoup4-4.9.3:\n",
      "      Successfully uninstalled beautifulsoup4-4.9.3\n",
      "\u001b[31mERROR: After October 2020 you may experience errors when installing or updating packages. This is because pip will change the way that it resolves dependency conflicts.\n",
      "\n",
      "We recommend you use --use-feature=2020-resolver to test your packages with the new resolver before it becomes the default.\n",
      "\n",
      "konlpy 0.5.2 requires beautifulsoup4==4.6.0, but you'll have beautifulsoup4 4.8.1 which is incompatible.\u001b[0m\n",
      "Successfully installed beautifulsoup4-4.8.1\n"
     ]
    }
   ],
   "source": [
    "!pip install beautifulsoup4==4.8.1"
   ]
  },
  {
   "cell_type": "code",
   "execution_count": 4,
   "metadata": {},
   "outputs": [],
   "source": [
    "import requests\n",
    "from bs4 import BeautifulSoup\n",
    "import pandas as pd"
   ]
  },
  {
   "cell_type": "code",
   "execution_count": 5,
   "metadata": {},
   "outputs": [
    {
     "data": {
      "text/plain": [
       "<Response [200]>"
      ]
     },
     "execution_count": 5,
     "metadata": {},
     "output_type": "execute_result"
    }
   ],
   "source": [
    "response = requests.get(\"http://corners.gmarket.co.kr/Bestsellers\")\n",
    "response"
   ]
  },
  {
   "cell_type": "code",
   "execution_count": 6,
   "metadata": {},
   "outputs": [],
   "source": [
    "dom = BeautifulSoup(response.content, \"html.parser\")"
   ]
  },
  {
   "cell_type": "markdown",
   "metadata": {},
   "source": [
    "```<div class=\"best-list\">``` 아래 ul 태그에 오른쪽 클릭하여 copy selector 를 해줍니다.\n",
    "<img src=\"data:image/png;base64,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\">"
   ]
  },
  {
   "cell_type": "code",
   "execution_count": 7,
   "metadata": {
    "scrolled": true
   },
   "outputs": [
    {
     "data": {
      "text/plain": [
       "200"
      ]
     },
     "execution_count": 7,
     "metadata": {},
     "output_type": "execute_result"
    }
   ],
   "source": [
    "selector = \"#gBestWrap > div > div:nth-child(5) > div:nth-child(3) > ul > li\"\n",
    "\n",
    "# 위 selector 를 그대로 쓰면 \n",
    "# NotImplementedError: Only the following pseudo-classes are implemented: nth-of-type.\n",
    "# 에러가 발생합니다.\n",
    "\n",
    "# 이럴때에는 상단 beautifulsoup 4.8.1 설치 코드를 실행해주세요.\n",
    "\n",
    "elements = dom.select(selector)\n",
    "len(elements)"
   ]
  },
  {
   "cell_type": "code",
   "execution_count": 8,
   "metadata": {
    "scrolled": false
   },
   "outputs": [
    {
     "data": {
      "text/plain": [
       "<li class=\"first\">\n",
       "<p class=\"no1\" id=\"no1\">1</p>\n",
       "<div class=\"thumb\">\n",
       "<a href=\"http://item.gmarket.co.kr/Item?goodscode=2112805677&amp;ver=637674130618112316\" onclick=\"pdsClickLog('200000680', 'Item', {'ASN': 1, 'goodsCode': '2112805677'});\"><img alt=\"[웅진]웅진식품 T 빅토리아 탄산수/탄산음료 500ml 20입+20입 베스트 4종 골라담기\" class=\"lazy\" data-original=\"http://gdimg.gmarket.co.kr/2112805677/still/300\" height=\"210\" src=\"http://image.gmarket.co.kr/challenge/neo_image/no_image.gif\" width=\"210\"/></a>\n",
       "</div>\n",
       "<!--div class=\"goods-view\">\n",
       "\t\t\t\t\t\t\t\t\t<a href=\"http://minishop.gmarket.co.kr/skstoa\"><span class=\"view\">판매자 다른상품 보기</span>SK스토아TV쇼핑</a>\n",
       "\t\t\t\t\t\t\t\t</div-->\n",
       "<a class=\"itemname\" href=\"http://item.gmarket.co.kr/Item?goodscode=2112805677&amp;ver=637674130618112316\" onclick=\"pdsClickLog('200000680', 'Item', {'ASN': 1, 'goodsCode': '2112805677'});\">[웅진]웅진식품 T 빅토리아 탄산수/탄산음료 500ml 20입+20입 베스트 4종 골라담기</a>\n",
       "<div class=\"item_price\">\n",
       "<div class=\"o-price\"><span><span>18,900원</span></span></div>\n",
       "<div class=\"s-price\">\n",
       "<strong><span><span>17,580원</span></span></strong>\n",
       "<span><span class=\"sale\"></span><em>6%</em></span>\n",
       "</div>\n",
       "<div class=\"icon\">\n",
       "<img alt=\"무료배송\" src=\"http://pics.gmkt.kr/pc/ko/corner/gbest/ic_freeshipping.gif\"/>\n",
       "</div>\n",
       "</div>\n",
       "</li>"
      ]
     },
     "execution_count": 8,
     "metadata": {},
     "output_type": "execute_result"
    }
   ],
   "source": [
    "elements[0]"
   ]
  },
  {
   "cell_type": "code",
   "execution_count": 7,
   "metadata": {},
   "outputs": [],
   "source": [
    "# 코드, 제목, 링크, 원가, 판매가, 할인율"
   ]
  },
  {
   "cell_type": "markdown",
   "metadata": {},
   "source": [
    "물음표(?) 기호가 정규 표현식의 양화사(*, +, ?, {}) 바로 다음에 위치하게 되면, 가능한 많은 문자를 가지도록 패턴을 찾는 기본 설정과는 달리 해당 양화사가 가능한 적은 수의 문자만을 가지는 패턴을 찾도록 변경시킵니다."
   ]
  },
  {
   "cell_type": "code",
   "execution_count": 21,
   "metadata": {
    "scrolled": false
   },
   "outputs": [
    {
     "data": {
      "text/plain": [
       "['200000680', 'Item', 'ASN', 'goodsCode', '2112805677']"
      ]
     },
     "execution_count": 21,
     "metadata": {},
     "output_type": "execute_result"
    }
   ],
   "source": [
    "# 코드는 강의 내용과 사이트 구조가 달라져서 아래 방법을 사용해주세요.\n",
    "# 강의에서 id 는 위 HTML 에서 goodsCode 입니다.\n",
    "import re\n",
    "\n",
    "onclick_info = elements[0].find('a')['onclick']\n",
    "m = re.findall(r\"\\'(.+?)\\'\", onclick_info)\n",
    "#m = re.findall(r\"\\'(.+)\\'\", onclick_info)\n",
    "#m[4]\n",
    "m"
   ]
  },
  {
   "cell_type": "code",
   "execution_count": 16,
   "metadata": {
    "scrolled": true
   },
   "outputs": [
    {
     "data": {
      "text/plain": [
       "\"pdsClickLog('200000680', 'Item', {'ASN': 1, 'goodsCode': '2112805677'});\""
      ]
     },
     "execution_count": 16,
     "metadata": {},
     "output_type": "execute_result"
    }
   ],
   "source": [
    "onclick_info"
   ]
  },
  {
   "cell_type": "code",
   "execution_count": 80,
   "metadata": {},
   "outputs": [
    {
     "data": {
      "text/plain": [
       "'[Gfresh]사세 버팔로윙 1kg+버팔로봉 1kg'"
      ]
     },
     "execution_count": 80,
     "metadata": {},
     "output_type": "execute_result"
    }
   ],
   "source": [
    "# 제목\n",
    "elements[0].select_one(\".itemname\").text"
   ]
  },
  {
   "cell_type": "code",
   "execution_count": 82,
   "metadata": {
    "scrolled": true
   },
   "outputs": [
    {
     "data": {
      "text/plain": [
       "'29,500원'"
      ]
     },
     "execution_count": 82,
     "metadata": {},
     "output_type": "execute_result"
    }
   ],
   "source": [
    "# 판매가\n",
    "elements[0].select_one(\".s-price\").text.strip().split(\"\\n\")[0]"
   ]
  },
  {
   "cell_type": "code",
   "execution_count": 22,
   "metadata": {
    "scrolled": true
   },
   "outputs": [
    {
     "data": {
      "text/html": [
       "<div>\n",
       "<style scoped>\n",
       "    .dataframe tbody tr th:only-of-type {\n",
       "        vertical-align: middle;\n",
       "    }\n",
       "\n",
       "    .dataframe tbody tr th {\n",
       "        vertical-align: top;\n",
       "    }\n",
       "\n",
       "    .dataframe thead th {\n",
       "        text-align: right;\n",
       "    }\n",
       "</style>\n",
       "<table border=\"1\" class=\"dataframe\">\n",
       "  <thead>\n",
       "    <tr style=\"text-align: right;\">\n",
       "      <th></th>\n",
       "      <th>code</th>\n",
       "      <th>title</th>\n",
       "      <th>price</th>\n",
       "    </tr>\n",
       "  </thead>\n",
       "  <tbody>\n",
       "    <tr>\n",
       "      <th>0</th>\n",
       "      <td>2112805677</td>\n",
       "      <td>[웅진]웅진식품 T 빅토리아 탄산수/탄산음료 500ml 20입+20입 베스트 4종 ...</td>\n",
       "      <td>17,580원</td>\n",
       "    </tr>\n",
       "    <tr>\n",
       "      <th>1</th>\n",
       "      <td>1791565626</td>\n",
       "      <td>[에그머니](카드가능)(에그머니) 온라인 게임상품권 5만원</td>\n",
       "      <td>45,000원</td>\n",
       "    </tr>\n",
       "    <tr>\n",
       "      <th>2</th>\n",
       "      <td>2197986344</td>\n",
       "      <td>고메 T 프리미엄피자 3개 선택+피자칼</td>\n",
       "      <td>17,900원</td>\n",
       "    </tr>\n",
       "    <tr>\n",
       "      <th>3</th>\n",
       "      <td>1655242371</td>\n",
       "      <td>[구글플레이](카드가능) 기프트코드 10만원 / 구글 기프트카드</td>\n",
       "      <td>95,000원</td>\n",
       "    </tr>\n",
       "    <tr>\n",
       "      <th>4</th>\n",
       "      <td>1498699891</td>\n",
       "      <td>[이지바이](무료반품) 후기4만개 등산복 티셔츠/바지/기모 ~70%</td>\n",
       "      <td>6,900원</td>\n",
       "    </tr>\n",
       "    <tr>\n",
       "      <th>...</th>\n",
       "      <td>...</td>\n",
       "      <td>...</td>\n",
       "      <td>...</td>\n",
       "    </tr>\n",
       "    <tr>\n",
       "      <th>195</th>\n",
       "      <td>1797053808</td>\n",
       "      <td>[크리넥스]크리넥스 실크소프트 250매X3입X3팩 /곽티슈</td>\n",
       "      <td>18,900원</td>\n",
       "    </tr>\n",
       "    <tr>\n",
       "      <th>196</th>\n",
       "      <td>174719105</td>\n",
       "      <td>[뉴케어]뉴케어 구수한맛 200ml x 30팩 2박스구매시 루테인증정</td>\n",
       "      <td>41,900원</td>\n",
       "    </tr>\n",
       "    <tr>\n",
       "      <th>197</th>\n",
       "      <td>2220846667</td>\n",
       "      <td>새알한자 도장 놀이 세트 (새알한자 50자 도장놀이북 세트)</td>\n",
       "      <td>38,500원</td>\n",
       "    </tr>\n",
       "    <tr>\n",
       "      <th>198</th>\n",
       "      <td>447292392</td>\n",
       "      <td>[카누]카누 미니 마일드 120Tx2개 총240T : 공유의 커피~</td>\n",
       "      <td>36,900원</td>\n",
       "    </tr>\n",
       "    <tr>\n",
       "      <th>199</th>\n",
       "      <td>1649291772</td>\n",
       "      <td>[마마랩]마마랩 아기물티슈 올데이 120매 캡형X20팩</td>\n",
       "      <td>14,900원</td>\n",
       "    </tr>\n",
       "  </tbody>\n",
       "</table>\n",
       "<p>200 rows × 3 columns</p>\n",
       "</div>"
      ],
      "text/plain": [
       "           code                                              title    price\n",
       "0    2112805677  [웅진]웅진식품 T 빅토리아 탄산수/탄산음료 500ml 20입+20입 베스트 4종 ...  17,580원\n",
       "1    1791565626                   [에그머니](카드가능)(에그머니) 온라인 게임상품권 5만원  45,000원\n",
       "2    2197986344                              고메 T 프리미엄피자 3개 선택+피자칼  17,900원\n",
       "3    1655242371                [구글플레이](카드가능) 기프트코드 10만원 / 구글 기프트카드  95,000원\n",
       "4    1498699891              [이지바이](무료반품) 후기4만개 등산복 티셔츠/바지/기모 ~70%   6,900원\n",
       "..          ...                                                ...      ...\n",
       "195  1797053808                   [크리넥스]크리넥스 실크소프트 250매X3입X3팩 /곽티슈  18,900원\n",
       "196   174719105             [뉴케어]뉴케어 구수한맛 200ml x 30팩 2박스구매시 루테인증정  41,900원\n",
       "197  2220846667                  새알한자 도장 놀이 세트 (새알한자 50자 도장놀이북 세트)  38,500원\n",
       "198   447292392              [카누]카누 미니 마일드 120Tx2개 총240T : 공유의 커피~  36,900원\n",
       "199  1649291772                     [마마랩]마마랩 아기물티슈 올데이 120매 캡형X20팩  14,900원\n",
       "\n",
       "[200 rows x 3 columns]"
      ]
     },
     "execution_count": 22,
     "metadata": {},
     "output_type": "execute_result"
    }
   ],
   "source": [
    "datas = []\n",
    "for element in elements:\n",
    "    onclick_info = element.find('a')['onclick']\n",
    "    m = re.findall(r\"\\'(.+?)\\'\", onclick_info)\n",
    "    \n",
    "    datas.append({\n",
    "        \"code\": m[4],\n",
    "        \"title\": element.select_one(\".itemname\").text,\n",
    "        \"price\": element.select_one(\".s-price\").text.strip().split(\"\\n\")[0],\n",
    "    })\n",
    "items_df = pd.DataFrame(datas)\n",
    "items_df"
   ]
  },
  {
   "cell_type": "markdown",
   "metadata": {},
   "source": [
    "#### 이미지 다운로드 받기"
   ]
  },
  {
   "cell_type": "code",
   "execution_count": 23,
   "metadata": {},
   "outputs": [],
   "source": [
    "!mkdir datas"
   ]
  },
  {
   "cell_type": "code",
   "execution_count": 24,
   "metadata": {},
   "outputs": [
    {
     "data": {
      "text/plain": [
       "<li class=\"first\">\n",
       "<p class=\"no1\" id=\"no1\">1</p>\n",
       "<div class=\"thumb\">\n",
       "<a href=\"http://item.gmarket.co.kr/Item?goodscode=2112805677&amp;ver=637674130618112316\" onclick=\"pdsClickLog('200000680', 'Item', {'ASN': 1, 'goodsCode': '2112805677'});\"><img alt=\"[웅진]웅진식품 T 빅토리아 탄산수/탄산음료 500ml 20입+20입 베스트 4종 골라담기\" class=\"lazy\" data-original=\"http://gdimg.gmarket.co.kr/2112805677/still/300\" height=\"210\" src=\"http://image.gmarket.co.kr/challenge/neo_image/no_image.gif\" width=\"210\"/></a>\n",
       "</div>\n",
       "<!--div class=\"goods-view\">\n",
       "\t\t\t\t\t\t\t\t\t<a href=\"http://minishop.gmarket.co.kr/skstoa\"><span class=\"view\">판매자 다른상품 보기</span>SK스토아TV쇼핑</a>\n",
       "\t\t\t\t\t\t\t\t</div-->\n",
       "<a class=\"itemname\" href=\"http://item.gmarket.co.kr/Item?goodscode=2112805677&amp;ver=637674130618112316\" onclick=\"pdsClickLog('200000680', 'Item', {'ASN': 1, 'goodsCode': '2112805677'});\">[웅진]웅진식품 T 빅토리아 탄산수/탄산음료 500ml 20입+20입 베스트 4종 골라담기</a>\n",
       "<div class=\"item_price\">\n",
       "<div class=\"o-price\"><span><span>18,900원</span></span></div>\n",
       "<div class=\"s-price\">\n",
       "<strong><span><span>17,580원</span></span></strong>\n",
       "<span><span class=\"sale\"></span><em>6%</em></span>\n",
       "</div>\n",
       "<div class=\"icon\">\n",
       "<img alt=\"무료배송\" src=\"http://pics.gmkt.kr/pc/ko/corner/gbest/ic_freeshipping.gif\"/>\n",
       "</div>\n",
       "</div>\n",
       "</li>"
      ]
     },
     "execution_count": 24,
     "metadata": {},
     "output_type": "execute_result"
    }
   ],
   "source": [
    "elements[0]"
   ]
  },
  {
   "cell_type": "code",
   "execution_count": 53,
   "metadata": {},
   "outputs": [],
   "source": [
    "def download(title, link):\n",
    "    response = requests.get(link, stream=True)\n",
    "    path = \"./datas/{}\".format(title)\n",
    "    \n",
    "    with open(path, \"wb\") as f:\n",
    "        for chunk in response.iter_content(chunk_size=1024):\n",
    "            if chunk:\n",
    "                f.write(chunk)"
   ]
  },
  {
   "cell_type": "code",
   "execution_count": 54,
   "metadata": {
    "scrolled": true
   },
   "outputs": [
    {
     "name": "stdout",
     "output_type": "stream",
     "text": [
      "[웅진]웅진식품 T 빅토리아 탄산수탄산음료 500ml 20입+20입 베스트 4종 골라담기.png http://gdimg.gmarket.co.kr/2112805677/still/300\n",
      "[에그머니](카드가능)(에그머니) 온라인 게임상품권 5만원.png http://gdimg.gmarket.co.kr/1791565626/still/300\n",
      "고메 T 프리미엄피자 3개 선택+피자칼.png http://gdimg.gmarket.co.kr/2197986344/still/300\n",
      "[구글플레이](카드가능) 기프트코드 10만원  구글 기프트카드.png http://gdimg.gmarket.co.kr/1655242371/still/300\n",
      "[이지바이](무료반품) 후기4만개 등산복 티셔츠바지기모 ~70%.png http://gdimg.gmarket.co.kr/1498699891/still/300\n",
      "브리치X한미미 무료반품+10%쿠폰 티셔츠원피스팬츠.png http://gdimg.gmarket.co.kr/1787960274/still/300\n",
      "[크록스] 203591-50P 클래식 라인드 클로그.png http://gdimg.gmarket.co.kr/2213935357/still/300\n",
      "[휠라키즈][휠라키즈] 키즈디스럽터 2 KD3GM01089D.png http://gdimg.gmarket.co.kr/2204474697/still/300\n",
      "[구글플레이](Google Play 기프트코드) 10만원.png http://gdimg.gmarket.co.kr/2205510117/still/300\n",
      "[비비랩]비비랩 저분자콜라겐 3통(3개월분)+쇼핑백 증정.png http://gdimg.gmarket.co.kr/1694497329/still/300\n",
      "[오르시떼](오르시떼)FW 아동 내의패밀리 홈웨어.png http://gdimg.gmarket.co.kr/2192313642/still/300\n",
      "[에그머니](카드가능)(에그머니) 온라인 게임상품권 3만원.png http://gdimg.gmarket.co.kr/1741993279/still/300\n",
      "[풀무원]풀무원 T 풀무원 얇은피만두 10봉 모음.png http://gdimg.gmarket.co.kr/2113110251/still/300\n",
      "[구글플레이](카드가능) 기프트코드 5만원  구글 기프트카드.png http://gdimg.gmarket.co.kr/1655242060/still/300\n",
      "유통기한임박  1+등급 대관령 한우국밥 특가전 400gX10팩.png http://gdimg.gmarket.co.kr/2216788632/still/300\n",
      "[에잇세컨즈]한가위 명절 특별할인 가을 ITEM  가디건셔츠外.png http://gdimg.gmarket.co.kr/1935376935/still/300\n",
      "[메가박스](메가박스) 2D 영화관람권 1매.png http://gdimg.gmarket.co.kr/2221169395/still/300\n",
      "[LG전자]그램15 15ZD95N-GX56K 119만초특가 선착순한정 노트북.png http://gdimg.gmarket.co.kr/2164504801/still/300\n",
      "[바세린]바세린 핸드크림 대용량 핸드로션 60ml 5개 수분크림.png http://gdimg.gmarket.co.kr/1972570578/still/300\n",
      "특가)) 아홉 살 사전 시리즈 : 옵션선택 말습관 돈습관 성교육 여자아이 남자아이.png http://gdimg.gmarket.co.kr/2217084658/still/300\n",
      "(카드15%할인) 오크밸리 시즌권 1차판매.png http://gdimg.gmarket.co.kr/2197335911/still/300\n",
      "[이지앤프리]이지앤프리 김밥재료보관용기 세트 김밥만들기.png http://gdimg.gmarket.co.kr/2041522302/still/300\n",
      "[쁘리엘르]바디필로우 삼각등쿠션 인테리어 쿠션 커버 솜포함.png http://gdimg.gmarket.co.kr/663822069/still/300\n",
      "메이킹유 가을신상베스트원피스블라우스스커트.png http://gdimg.gmarket.co.kr/1517019865/still/300\n",
      "산지직송 청도반시 5kg (55과이상) 홍시용첫출하.png http://gdimg.gmarket.co.kr/1652871924/still/300\n",
      "[호올스]호올스 스틱 자몽향 캔디 34g x 20개 사탕 +사은품.png http://gdimg.gmarket.co.kr/2010020856/still/300\n",
      "폴로 맨투맨 클래식 기모 맨투맨 21년신상 출시.png http://gdimg.gmarket.co.kr/1958184424/still/300\n",
      "[구글플레이](카드가능) 기프트코드 20만원  구글 기프트카드.png http://gdimg.gmarket.co.kr/1655243018/still/300\n",
      "[구글플레이](카드가능) 기프트코드 3만원  구글 기프트카드.png http://gdimg.gmarket.co.kr/1655241628/still/300\n",
      "(공식판매처) 에버랜드 종일이용권+사파리월드 Q-PASS(~930) 에버랜드큐패스.png http://gdimg.gmarket.co.kr/2211794507/still/300\n",
      "[맥퀸뉴욕]1+1+1 마이스트롱 오토브로우육각심 브로우.png http://gdimg.gmarket.co.kr/1604440426/still/300\n",
      "[HP]VICTUS 16-d0186TX 특가 111만 i78GB256GBRTX3050Ti.png http://gdimg.gmarket.co.kr/2185841160/still/300\n",
      "[광천김]광천김 파래 도시락김5g X 32봉 + 리빙박스.png http://gdimg.gmarket.co.kr/1835944811/still/300\n",
      "[에잇세컨즈]한가위 빅세일 명절 코디 완성룩 ITEM 니트셔츠外.png http://gdimg.gmarket.co.kr/1961230639/still/300\n",
      "슬기로운 의사생활 시즌2 OST (2CD).png http://gdimg.gmarket.co.kr/2225877329/still/300\n",
      "씨투엠 수학 교구상자 펜토미노턴큐브빌드 선택구매(워크북포함)(NEW).png http://gdimg.gmarket.co.kr/1961878399/still/300\n",
      "[구글플레이](카드가능) 기프트코드 1만원  구글 기프트카드.png http://gdimg.gmarket.co.kr/1654805524/still/300\n",
      "[지오다노]25%+5% 지오다노 맨투맨테리팬츠치노티셔츠~73%.png http://gdimg.gmarket.co.kr/1766664761/still/300\n",
      "카페앤쿨  랭거스 푸룬주스 1.89L 2병.png http://gdimg.gmarket.co.kr/2094563038/still/300\n",
      "알록달록 삶은 찰옥수수  30개 냉동대용량.png http://gdimg.gmarket.co.kr/1748950225/still/300\n",
      "[원더브라]원더브라 본사 최신상 브라팬티SET 1만원대.png http://gdimg.gmarket.co.kr/1590223233/still/300\n",
      "[마몽드](SF) 로즈워터 토너 250ml 장미수 닦토 x2.png http://gdimg.gmarket.co.kr/2088051986/still/300\n",
      "시세이도 센카(senka) 퍼펙트휩 클렌징폼x5개 빠른직구.png http://gdimg.gmarket.co.kr/1788205475/still/300\n",
      "[대구백화점] [지프키즈]지프 맨투맨 12종(KM1TSU888).png http://gdimg.gmarket.co.kr/2214210019/still/300\n",
      "[쏘피]볼록맞춤 슈퍼롱 오버나이트생리대 10Px5팩.png http://gdimg.gmarket.co.kr/1140168037/still/300\n",
      "[비너스]노와이어브라 여자 여성 속옷 브래지어 세트 인견.png http://gdimg.gmarket.co.kr/174727827/still/300\n",
      "시크폭스 간절기가을신상티셔츠팬츠원피스.png http://gdimg.gmarket.co.kr/760672691/still/300\n",
      "[SOil](S-OIL) 모바일주유권 5만원권.png http://gdimg.gmarket.co.kr/1782687491/still/300\n",
      "[넥슨](카드가능)(넥슨)(PIN발송) 온라인게임상품권 5만원.png http://gdimg.gmarket.co.kr/1706994168/still/300\n",
      "[웨스트우드]웨스트우드 FW바람막이티셔츠팬츠 베스트전.png http://gdimg.gmarket.co.kr/1373677338/still/300\n",
      "[스파클]스파클 생수 500ml x 20병 x 5팩 (총100병).png http://gdimg.gmarket.co.kr/921862067/still/300\n",
      "[베베숲]시그니처 그린 70매 캡 20팩.png http://gdimg.gmarket.co.kr/1778359283/still/300\n",
      "3+1 명품향을 담은 향수득템G.png http://gdimg.gmarket.co.kr/349027432/still/300\n",
      "[제니베이커리]홍콩 제니베이커리 4믹스 쿠키 L 외 선택1.png http://gdimg.gmarket.co.kr/1112895735/still/300\n",
      "누드컬러 7SET  라이크라에스뷰티 NUDE   NUDE.png http://gdimg.gmarket.co.kr/2154401181/still/300\n",
      "[코코도르]합리적인 리필액 디퓨저인테리어집들이방향제.png http://gdimg.gmarket.co.kr/898240873/still/300\n",
      "[탑텐키즈](신세계하남점)정상가 19900원) 탑텐키즈 모달코튼 온에어 상하세트.png http://gdimg.gmarket.co.kr/2096236065/still/300\n",
      "[BYC]여성팬티노라인위생면보정엉뽕요실금최다종류.png http://gdimg.gmarket.co.kr/972418391/still/300\n",
      "[밀레]밀레 본사 등산복 티셔츠 바지 반바지 바람막이.png http://gdimg.gmarket.co.kr/2139627004/still/300\n",
      "[캔디베이비]70%할인 가을신상 유아동내의내복실내복.png http://gdimg.gmarket.co.kr/438589690/still/300\n",
      "[퀘이커]퀘이커 마시는오트밀그레인서리태 낱봉 20개입  1박스.png http://gdimg.gmarket.co.kr/1975599165/still/300\n",
      "스타벅스 네스프레소 호환 캡슐 8종맛선택총100캡슐.png http://gdimg.gmarket.co.kr/1918704530/still/300\n",
      "[네파키즈]싸이폰 롱다운 자켓 KG72010.png http://gdimg.gmarket.co.kr/2096382650/still/300\n",
      "[envy]14-eb0502TU 특가119만 i7-1165G716GB512GBWin10.png http://gdimg.gmarket.co.kr/2090394344/still/300\n",
      "음악세계 세상의 모든 음악이론_계이름 공부 세트별 선택 구매(실구매 3만 원 이상 무배).png http://gdimg.gmarket.co.kr/2184649299/still/300\n",
      "16곡물 곤약쫀디기 220gx5봉 (50개입).png http://gdimg.gmarket.co.kr/1746055075/still/300\n",
      "기린 인기 빵 10종 10개골라담기.png http://gdimg.gmarket.co.kr/1570842061/still/300\n",
      "[아웃백스테이크하우스](아웃백이디야) 페이즈기프트 Foodcafe 5만원권.png http://gdimg.gmarket.co.kr/2204202286/still/300\n",
      "[베베앙]베베앙 아기물티슈  시그니처 대용량 100매 캡형 10팩.png http://gdimg.gmarket.co.kr/1604479096/still/300\n",
      "[폴햄]남여 트레이닝 팬츠 5종 택1 (PHB5PT1302 외 4종).png http://gdimg.gmarket.co.kr/2219012579/still/300\n",
      "[폴햄]폴햄 외 FW 티셔츠아우터 외 특가전.png http://gdimg.gmarket.co.kr/2204404636/still/300\n",
      "[삼성물산]삼성 그린 A4용지 75g 2500매 2박스(5000매) 복사용지.png http://gdimg.gmarket.co.kr/1942098159/still/300\n",
      "[갭](신세계경기점) 특가  GAP 남 여성 후드  맨투맨티셔츠 17종 택1.png http://gdimg.gmarket.co.kr/2213728441/still/300\n",
      "[뱅뱅]뱅뱅 여성 스트레치 밴딩 데님 3종.png http://gdimg.gmarket.co.kr/2203226612/still/300\n",
      "슈퍼대디 New소프트플러스 물티슈 캡형100매10팩(55g).png http://gdimg.gmarket.co.kr/1986632897/still/300\n",
      "제이와이북스_노부영 마더구스 15 세이펜 유무 선택 구매(9월 24일부터 순차 발송).png http://gdimg.gmarket.co.kr/2219885927/still/300\n",
      "씨투엠에듀 사고력수학 팡세 단계별 선택구매.png http://gdimg.gmarket.co.kr/2223767307/still/300\n",
      "김선영 정성한끼 LA갈비 500gX7팩.png http://gdimg.gmarket.co.kr/2211372605/still/300\n",
      "단하루10%할인특가티셔츠 후드티 후드집업 빅사이즈.png http://gdimg.gmarket.co.kr/1725153067/still/300\n",
      "[헬로]헬로 순수 3겹 천연펄프 화장지 30m 30롤 3팩 특가행사.png http://gdimg.gmarket.co.kr/1821519273/still/300\n",
      "블루인더스 블루본 마스크 KF80 소형 화이트 50매.png http://gdimg.gmarket.co.kr/1985145955/still/300\n",
      "[니베아]니베아 쉐이빙폼 면도크림 센서티브 200mlX3개+증정.png http://gdimg.gmarket.co.kr/1126533035/still/300\n",
      "[삼성전자]삼성 갤럭시탭 E블랙 SM-T378K 8.0형 쿼드코어 32G +32.png http://gdimg.gmarket.co.kr/2044913612/still/300\n",
      "[동원]행호  선물세트 설 추석 명절 구정 햄 캔 동원 참치.png http://gdimg.gmarket.co.kr/2201585841/still/300\n",
      "[제주삼다수]제주삼다수 2L 12병 생수전문배송.png http://gdimg.gmarket.co.kr/2084149868/still/300\n",
      "[던킨](던킨) 핫 아메리카노(S) 1잔   도너츠 6개팩.png http://gdimg.gmarket.co.kr/2219174532/still/300\n",
      "(앨범 버전선택) 방탄소년단 (BTS) - 인기상품 화양연화 PERSONA MAP OF THE SOUL BE 등...png http://gdimg.gmarket.co.kr/1467181503/still/300\n",
      "[MLB]2021 MLB 신상 슬리퍼 신학기 학생 실내화 모음.png http://gdimg.gmarket.co.kr/1521325207/still/300\n",
      "[듀라셀]듀라셀 알카라인 건전지 AA 20개입 x 2개.png http://gdimg.gmarket.co.kr/1760767860/still/300\n",
      "[참도깨비]26탄 금강만두 육개장 630g x5봉2세트시떡볶이.png http://gdimg.gmarket.co.kr/2092975132/still/300\n",
      "밥도둑 알찬 한입 양념 절단 꽃게장 1kg.png http://gdimg.gmarket.co.kr/2205362403/still/300\n",
      "[베이비베이비]베이비베이비 아기물티슈 트윙클120매 20팩 캡형.png http://gdimg.gmarket.co.kr/1501667618/still/300\n",
      "[삼성전자]삼성 갤럭시 워치4 40mm 스마트워치+3만쿠폰당일출고.png http://gdimg.gmarket.co.kr/2188961178/still/300\n",
      "수맘 가을 원피스 홈웨어 잠옷 세트.png http://gdimg.gmarket.co.kr/1606293717/still/300\n",
      "[타미진스]프리미엄 아울렛 특가오픈 아우터니트티셔츠 외.png http://gdimg.gmarket.co.kr/2217145296/still/300\n",
      "잇슈 신상 플랫슈즈 블로퍼 단화 로퍼 워커 삭스부츠.png http://gdimg.gmarket.co.kr/1751443449/still/300\n",
      "[아르떼(Arte)]새부리형 마스크 KF94 의약외품 개별포장 블랙 100매.png http://gdimg.gmarket.co.kr/1924092341/still/300\n",
      "그린터치물티슈(100매)30팩 아기순한성분캡형국산.png http://gdimg.gmarket.co.kr/1561278491/still/300\n",
      "(행사상품)냉동_찜갈비 호주산쇠고기 _2.3 kg 팩 .png http://gdimg.gmarket.co.kr/1450729916/still/300\n",
      "[메디팜]대용량 온가족 크림 500g수분+미백클렌징폼 택+증정.png http://gdimg.gmarket.co.kr/1825650066/still/300\n",
      "[밀크바오밥]패밀리 핸드워시 300ml 1개+ 리필용 250ml 4개.png http://gdimg.gmarket.co.kr/1741342800/still/300\n",
      "(도치맘)(세이펜버전)Barbie Readers 바비 리더스 레벨1 : 리더스북 12권 + 오디오CD 1장 + 액티비티북 1권.png http://gdimg.gmarket.co.kr/2224043368/still/300\n",
      "[나랑드사이다]동아오츠카 T 나랑드 사이다 제로 500ml 20개 x 2BOX (총 40개).png http://gdimg.gmarket.co.kr/2107910396/still/300\n",
      "새부리형 KF94 100매 국내생산 황사마스크 화이트10x10.png http://gdimg.gmarket.co.kr/2007695408/still/300\n"
     ]
    },
    {
     "name": "stdout",
     "output_type": "stream",
     "text": [
      "[아모스]탱탱 아이클레이 낱색 대용량 600g.png http://gdimg.gmarket.co.kr/2052227726/still/300\n",
      "(포스터증정) 슬기로운 의사생활 시즌 2 (tvN 목요 스페셜) - O.S.T. (2CD).png http://gdimg.gmarket.co.kr/2225827224/still/300\n",
      "코코블랑 여름신상 블라우스티셔츠원피스니트팬츠.png http://gdimg.gmarket.co.kr/1481263644/still/300\n",
      "무료반품 팬티스타킹레깅스압박학생타이즈기모.png http://gdimg.gmarket.co.kr/206949020/still/300\n",
      "[유한젠]유한젠 액상 리필 파우치 1.8L 2개.png http://gdimg.gmarket.co.kr/1578437146/still/300\n",
      "누구나25% 센터폴골프 외 가을선인하 ~94%OFF.png http://gdimg.gmarket.co.kr/1708704741/still/300\n",
      "[좋은느낌]좋은느낌 입는오버나이트 대형 10PX2팩.png http://gdimg.gmarket.co.kr/1895881134/still/300\n",
      "[코카콜라제로]코카콜라제로 190ml 30CAN 1박스.png http://gdimg.gmarket.co.kr/1758567637/still/300\n",
      "글램공감브라1+팬티2속옷세트A~D컵빅사이즈.png http://gdimg.gmarket.co.kr/787562120/still/300\n",
      "요즘에가을신상+10%청바지슬랙스면팬츠밴딩3XL~.png http://gdimg.gmarket.co.kr/189842449/still/300\n",
      "[박스포유]100%직접생산 박스포유 택배박스.png http://gdimg.gmarket.co.kr/153279336/still/300\n",
      "바른세탁소 액체세제 라임향 2.5L x 4개 세탁세제.png http://gdimg.gmarket.co.kr/1911082778/still/300\n",
      "[던킨](던킨) 도련님 커피 충전 세트.png http://gdimg.gmarket.co.kr/2219173567/still/300\n",
      "[아르떼(Arte)]아르떼 새부리형 마스크 KF94 100매 화이트 개별포장.png http://gdimg.gmarket.co.kr/1954465467/still/300\n",
      "청원생명_왕의밥상_10KG 포 .png http://gdimg.gmarket.co.kr/1879061595/still/300\n",
      "[니]NII 스폰지밥콜라보 티셔츠맨투맨외+중복쿠폰혜택.png http://gdimg.gmarket.co.kr/1652387921/still/300\n",
      "피핀 여름신상1+1티셔츠원피스팬츠.png http://gdimg.gmarket.co.kr/869048966/still/300\n",
      "[진라면]진라면 매운맛 40봉.png http://gdimg.gmarket.co.kr/1614191721/still/300\n",
      "(행사상품)N 동서식품_맥심모카골드믹스_230T 2760G .png http://gdimg.gmarket.co.kr/1273999192/still/300\n",
      "[맥심]맥심 모카골드 커피믹스 400T : 커피는 맥심 ~.png http://gdimg.gmarket.co.kr/1101182286/still/300\n",
      "홍옥 안동 사과 5kg  홍옥사과.png http://gdimg.gmarket.co.kr/1681283923/still/300\n",
      "[한예지]뽑아쓰는 키친타올 150매 4입 x2팩.png http://gdimg.gmarket.co.kr/1776670267/still/300\n",
      "보림 아트 사이언스 (전2권)_놀라운 곤충들+1001마리 개미들.png http://gdimg.gmarket.co.kr/2219237949/still/300\n",
      "국산 10켤레 남자양말 패션 발목 덧신 중목 신사 정장.png http://gdimg.gmarket.co.kr/1487777111/still/300\n",
      "무형광 미쁘 핸드타올  2겹5000매 페이퍼타올 핸드타월.png http://gdimg.gmarket.co.kr/901925478/still/300\n",
      "[에바스]로에랑스 퍼퓸 바디미스트샤워코롱 250ml(+행사중).png http://gdimg.gmarket.co.kr/832114998/still/300\n",
      "T 밤뜨래 우리나라맛밤 50g x 10봉.png http://gdimg.gmarket.co.kr/2140714391/still/300\n",
      "애플힙 신상팬츠 슬랙스부츠컷가을빅사이즈4XL.png http://gdimg.gmarket.co.kr/1786992530/still/300\n",
      "[르헤브]뽀송뽀송 사계절 쇼파패드가을 소파패드쇼파 방석.png http://gdimg.gmarket.co.kr/1502722600/still/300\n",
      "루즈델리 가을신상 롱원피스티셔츠맨투맨빅사이즈.png http://gdimg.gmarket.co.kr/1817237042/still/300\n",
      "[팬콧]팬콧키즈 가을 신상 오픈 맨투맨실내복 50종 택1.png http://gdimg.gmarket.co.kr/1601332309/still/300\n",
      "데이뮤즈 균일 원피스자켓가디건니트블라우스롱.png http://gdimg.gmarket.co.kr/1284344651/still/300\n",
      "태송 김치볶음밥 300g x10봉.png http://gdimg.gmarket.co.kr/825499934/still/300\n",
      "[듀라셀]듀라셀 알카라인 건전지 AA 20개+AAA20개.png http://gdimg.gmarket.co.kr/1760776863/still/300\n",
      "[동원에프앤비]동원 샘물 2Lx6병x6팩(총36병).png http://gdimg.gmarket.co.kr/1761073392/still/300\n",
      "사파리 마스터피스 시리즈 낱권 선택구매.png http://gdimg.gmarket.co.kr/2222877514/still/300\n",
      "무형광 5000매핸드타올 C 업소용 가정용 다용도 대용량.png http://gdimg.gmarket.co.kr/1757179931/still/300\n",
      "1+1+1 오드리선 쫀쫀 순면 화장솜 80매총240매.png http://gdimg.gmarket.co.kr/2078032350/still/300\n",
      "가정용 햇 수삼 세척인삼  난발삼 27-30뿌리내외(700g).png http://gdimg.gmarket.co.kr/223368720/still/300\n",
      "[아이러브베베]아이러브베베물티슈핑크100매캡형X20팩.png http://gdimg.gmarket.co.kr/1124083462/still/300\n",
      "[미쟝센]미쟝센 펄 헬시스트롱 리페어 샴푸 900ML x4개.png http://gdimg.gmarket.co.kr/2074474616/still/300\n",
      "[맥심]화이트골드 커피믹스  180Tx2개: 36500원 쿠폰가~.png http://gdimg.gmarket.co.kr/1920641521/still/300\n",
      "엑소(EXXO) A4 복사용지(A4용지) 75g 2BOX(5000매).png http://gdimg.gmarket.co.kr/1927664773/still/300\n",
      "[그리니]그리니 프리미엄 아기물티슈 블루 100매 X 20팩 캡형.png http://gdimg.gmarket.co.kr/1668039158/still/300\n",
      "[팸퍼스]팸퍼스 베이비드라이 5단계 팬티형기저귀36p 4팩.png http://gdimg.gmarket.co.kr/1834224973/still/300\n",
      "[구글플레이](카드가능) 기프트코드 15만원  구글 기프트카드.png http://gdimg.gmarket.co.kr/1655242688/still/300\n",
      "[구글플레이](Google Play 기프트코드) 3만원.png http://gdimg.gmarket.co.kr/2205504625/still/300\n",
      "[밀레]갤러리아  밀레 역시즌 남성 2000엑스퍼트다운MVPWD461.png http://gdimg.gmarket.co.kr/2113574111/still/300\n",
      "맛있닭 NEW 다이어트 도시락 12팩.png http://gdimg.gmarket.co.kr/2192727338/still/300\n",
      "[즙쟁이]즙쟁이 도라지배즙 100포 실속구성.png http://gdimg.gmarket.co.kr/1510924880/still/300\n",
      "[빕스](빕스TGIF)페이즈 기프트_Eats 5만원권.png http://gdimg.gmarket.co.kr/2204203808/still/300\n",
      "[뱅뱅]뱅뱅 남성 스트레치 밴딩 데님 3종.png http://gdimg.gmarket.co.kr/2203226694/still/300\n",
      "[코드나인]저주파 목안마기 목마사지기 어깨 무선 휴대용  핑크.png http://gdimg.gmarket.co.kr/1665200591/still/300\n",
      "팩토 슐레 창의력 수학 - 123단계 교재6종 세트 선택구매.png http://gdimg.gmarket.co.kr/1769219933/still/300\n",
      "원서읽는 리도보카 패키지 B 7000 여권의 원서별 단어학습 리도보카.png http://gdimg.gmarket.co.kr/1648830344/still/300\n",
      "[순수식품]6년근 홍삼 진액 홍삼스틱 에브리데이 365 100포.png http://gdimg.gmarket.co.kr/1961244200/still/300\n",
      "[밀크마일]밀크추천 조카선물 아동 상하복원피스가디건 외.png http://gdimg.gmarket.co.kr/1421642217/still/300\n",
      "[퀘이커]퀘이커 오트그래놀라 골든넛츠 200g 6개입.png http://gdimg.gmarket.co.kr/1916915236/still/300\n",
      "[스타벅스](스타벅스) 초콜릿보다 진한 우정의 맹세 세트.png http://gdimg.gmarket.co.kr/1688459818/still/300\n",
      "[햇반]CJ 햇반 210g 36개 1박스.png http://gdimg.gmarket.co.kr/1651273917/still/300\n",
      "[맥심]모카골드 커피믹스 180Tx2개: 38500원+푸드컨테이너 ~.png http://gdimg.gmarket.co.kr/1920642031/still/300\n",
      "[모나리자]보타닉 블라썸 (27m30롤)X3개 화장지 휴지.png http://gdimg.gmarket.co.kr/2098226446/still/300\n",
      "[베비언스]베비언스 킨더밀쉬 1단계(200ML) 24개.png http://gdimg.gmarket.co.kr/2188719777/still/300\n",
      "[올리비에스클로젯]가을추천 인기베스트 자켓가디건니트외 특가.png http://gdimg.gmarket.co.kr/1333181308/still/300\n",
      "[네파]네파 FW 다운경량자켓플리스 外.png http://gdimg.gmarket.co.kr/2076943665/still/300\n",
      "[네파키즈]25+5%쿠폰 네파키즈 가을상하복플리스가방바람막이.png http://gdimg.gmarket.co.kr/1896136237/still/300\n",
      "[적재적소]뽑아쓰는 미용티슈 200매 9개 팝업 각티슈.png http://gdimg.gmarket.co.kr/2050114222/still/300\n",
      "[스타벅스](스타벅스) 부드러운 디저트 세트.png http://gdimg.gmarket.co.kr/1591502770/still/300\n",
      "의약외품 노란통연고 흉터흔적지우개 18g 대용량 1+1  (택1).png http://gdimg.gmarket.co.kr/2217970084/still/300\n",
      "대왕오징어 몸채 손질오징어 1kg+1kg 오징어 몸통채.png http://gdimg.gmarket.co.kr/2130314476/still/300\n",
      "[순수식품]진짜 석류 콜라겐 젤리 스틱 4박스(총 60포).png http://gdimg.gmarket.co.kr/1817268416/still/300\n",
      "[리복](신세계본점)리복 런닝화 택1[S42772 H00807 S42780 G58550].png http://gdimg.gmarket.co.kr/2199541870/still/300\n",
      "_햅쌀_10KG 포 .png http://gdimg.gmarket.co.kr/1873941726/still/300\n",
      "씨넥스 국산 쪼꼬미에기 5개1세트 수평에기 낚시 EGI.png http://gdimg.gmarket.co.kr/2200309122/still/300\n",
      "아동팬티 5매입 순면 속옷 무형광  런닝 유아 주니어.png http://gdimg.gmarket.co.kr/159518443/still/300\n",
      "(무료반품)에이블린 가을신상 니트원피스맨투맨.png http://gdimg.gmarket.co.kr/1615409666/still/300\n",
      "[제이디엑스]JDX 남녀 FW 라운딩 준비 아우터티셔츠팬츠외.png http://gdimg.gmarket.co.kr/2023422653/still/300\n",
      "[스파클]스파클 생수 2리터 6병(6팩) - 총36병.png http://gdimg.gmarket.co.kr/868028664/still/300\n",
      "[아르페지오]가을신상BEST)포근한 피치스킨 마이크로 차렵침구.png http://gdimg.gmarket.co.kr/1246465178/still/300\n",
      "반반한샵 가을신상블라우스원피스팬츠SET.png http://gdimg.gmarket.co.kr/2147517877/still/300\n",
      "[서울우유]멸균우유 1000ml x 10입 (1박스) 무료배송.png http://gdimg.gmarket.co.kr/1942815020/still/300\n",
      "[마미요]마미요 오리지널 물티슈 아기물티슈 캡형 100매x10팩.png http://gdimg.gmarket.co.kr/1835858641/still/300\n",
      "하이뮨_프로틴밸런스드링크_190MLx16.png http://gdimg.gmarket.co.kr/2207103391/still/300\n",
      "브리치x럭키567 10%쿠폰 티셔츠팬츠원피스가디건.png http://gdimg.gmarket.co.kr/1345149344/still/300\n",
      "비비고 왕교자1.05kg 3개.png http://gdimg.gmarket.co.kr/1941744416/still/300\n",
      "(특가) 8900원 침대커버 누빔매트리스커버 패드.png http://gdimg.gmarket.co.kr/224891982/still/300\n",
      "[울터치]중성세제 울터치 1300ml 3개.png http://gdimg.gmarket.co.kr/1896093195/still/300\n",
      "[아이러브베베]피치 엠보 100매X캡형 8팩 아기물티슈 스마일배송.png http://gdimg.gmarket.co.kr/2182607266/still/300\n",
      "[구글플레이](Google Play 기프트코드) 1만원.png http://gdimg.gmarket.co.kr/2205503022/still/300\n",
      "[구글플레이](카드가능) 기프트코드 5천원  구글 기프트카드.png http://gdimg.gmarket.co.kr/1654803795/still/300\n",
      "[센스(물티슈)]센스물티슈 악어 캡형 100매 10팩+10팩.png http://gdimg.gmarket.co.kr/1490019603/still/300\n",
      "[크리넥스]크리넥스 실크소프트 250매X3입X3팩 곽티슈.png http://gdimg.gmarket.co.kr/1797053808/still/300\n",
      "[뉴케어]뉴케어 구수한맛 200ml x 30팩 2박스구매시 루테인증정.png http://gdimg.gmarket.co.kr/174719105/still/300\n",
      "새알한자 도장 놀이 세트 (새알한자 50자 도장놀이북 세트).png http://gdimg.gmarket.co.kr/2220846667/still/300\n",
      "[카누]카누 미니 마일드 120Tx2개 총240T : 공유의 커피~.png http://gdimg.gmarket.co.kr/447292392/still/300\n",
      "[마마랩]마마랩 아기물티슈 올데이 120매 캡형X20팩.png http://gdimg.gmarket.co.kr/1649291772/still/300\n"
     ]
    }
   ],
   "source": [
    "for idx, row in items_df.iterrows():\n",
    "    link = \"http://gdimg.gmarket.co.kr/{}/still/300\".format(row[\"code\"])\n",
    "    title = row[\"title\"] + \".png\"\n",
    "    title = title.replace(\"/\", \"\")\n",
    "    print(title, link)\n",
    "    download(title, link)\n",
    "    "
   ]
  },
  {
   "cell_type": "code",
   "execution_count": 29,
   "metadata": {
    "scrolled": true
   },
   "outputs": [
    {
     "data": {
      "text/plain": [
       "'http://gdimg.gmarket.co.kr/1649291772/still/300'"
      ]
     },
     "execution_count": 29,
     "metadata": {},
     "output_type": "execute_result"
    }
   ],
   "source": [
    "link"
   ]
  },
  {
   "cell_type": "code",
   "execution_count": null,
   "metadata": {},
   "outputs": [],
   "source": [
    "# 윈도우에서 dir 같이 한글이 깨지는 경우엔 아래 코드로 실행해주세요.\n",
    "# ls 는 한글 깨짐 해결이 어렵습니다.\n",
    "# Jupyter 에서만 깨지며, Git Bash 에서는 정상적으로 표시 됩니다."
   ]
  },
  {
   "cell_type": "code",
   "execution_count": 34,
   "metadata": {},
   "outputs": [
    {
     "name": "stdout",
     "output_type": "stream",
     "text": [
      "zsh:1: command not found: chcp\r\n"
     ]
    }
   ],
   "source": [
    "!chcp 65001 && dir datas"
   ]
  },
  {
   "cell_type": "code",
   "execution_count": null,
   "metadata": {},
   "outputs": [],
   "source": []
  }
 ],
 "metadata": {
  "kernelspec": {
   "display_name": "Python 3",
   "language": "python",
   "name": "python3"
  },
  "language_info": {
   "codemirror_mode": {
    "name": "ipython",
    "version": 3
   },
   "file_extension": ".py",
   "mimetype": "text/x-python",
   "name": "python",
   "nbconvert_exporter": "python",
   "pygments_lexer": "ipython3",
   "version": "3.8.5"
  }
 },
 "nbformat": 4,
 "nbformat_minor": 2
}
