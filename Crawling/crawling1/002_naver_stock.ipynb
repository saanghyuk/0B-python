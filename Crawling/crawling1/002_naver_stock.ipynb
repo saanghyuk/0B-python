{
 "cells": [
  {
   "cell_type": "markdown",
   "metadata": {},
   "source": [
    "### web crawling\n",
    "- 웹 서비스의 구조 : 서버 - 클라이언트\n",
    "- 크롤링 방법 세가지\n",
    "    - requests : json (동적 페이지)\n",
    "        - 동적 페이지(URL의 변경 없이 데이터를 수정 및 추가)  \n",
    "        - 네이버 주식 사이트에서 주가 데이터 크롤링\n",
    "            - 시각화(정규화), 상관계수\n",
    "    - requests: html 정적 페이지\n",
    "        - URL 변경으로 데이터를 수정 및 추가\n",
    "    - selenium : webdriver\n",
    "        - 1, 2번 방법을 사용하지 못할 때 사용\n",
    "        - 거의 모든 것을 다 할 수 있으나, 실제 해야되서 느릴 수 밖에 없다는 단점이 있다.\n",
    "        \n",
    "        \n",
    "- 크롤링 절차\n",
    "    - 웹서비스 분석 : URL\n",
    "    - 요청, 응답 : str\n",
    "    - str 데이터 파싱(dict, bs obj(css-selector)) 후 데이터 프레임으로 생성"
   ]
  },
  {
   "cell_type": "code",
   "execution_count": null,
   "metadata": {},
   "outputs": [],
   "source": []
  },
  {
   "cell_type": "markdown",
   "metadata": {},
   "source": [
    "## 네이버 주식 데이터 크롤링\n",
    "### 클립명 : requests 1_ipython config_20191107_03\n",
    "\n",
    "- 코스피 데이터 수집\n",
    "- 코스닥 데이터 수집\n",
    "- USD 환율 데이터 수집\n",
    "- 그래프, 상관계수 확인"
   ]
  },
  {
   "cell_type": "markdown",
   "metadata": {},
   "source": [
    "#### 크롤링 절차\n",
    "- 1. 웹 서비스 분석 : URL 확인\n",
    "- 2. requests, response : json 데이터(문자열) 을 얻기\n",
    "- 3. json 데이터(문자열) -> dict(파싱) -> 데이터 프레임"
   ]
  },
  {
   "cell_type": "markdown",
   "metadata": {},
   "source": [
    "```\n",
    "코스피 데이터는 홈 -> 국내로 변경 되었습니다.\n",
    "아래 URL 로 접속해주세요.\n",
    "\n",
    "https://m.stock.naver.com/sise/siseList.nhn?menu=market_sum&sosok=0\n",
    "``` "
   ]
  },
  {
   "cell_type": "code",
   "execution_count": 41,
   "metadata": {},
   "outputs": [],
   "source": [
    "import pandas as pd\n",
    "import requests\n",
    "import matplotlib.pyplot as plt"
   ]
  },
  {
   "cell_type": "code",
   "execution_count": 1,
   "metadata": {},
   "outputs": [
    {
     "data": {
      "text/plain": [
       "'https://m.stock.naver.com/api/json/sise/dailySiseIndexListJson.nhn?code=KOSPI&pageSize=100&page=1'"
      ]
     },
     "execution_count": 1,
     "metadata": {},
     "output_type": "execute_result"
    }
   ],
   "source": [
    "# 1. 웹서비스 분석 : URL 확인\n",
    "# 개발자도구 - Network - XHR\n",
    "\n",
    "code, page_size, page = \"KOSPI\", 100, 1\n",
    "\n",
    "url = \"https://m.stock.naver.com/api/json/sise/\\\n",
    "dailySiseIndexListJson.nhn?code={}&pageSize={}&page={}\".format(code, page_size, page)\n",
    "url"
   ]
  },
  {
   "cell_type": "code",
   "execution_count": 2,
   "metadata": {},
   "outputs": [
    {
     "data": {
      "text/plain": [
       "<Response [200]>"
      ]
     },
     "execution_count": 2,
     "metadata": {},
     "output_type": "execute_result"
    }
   ],
   "source": [
    "# 2. requests, response : JSON(str)\n",
    "\n",
    "response = requests.get(url)\n",
    "response"
   ]
  },
  {
   "cell_type": "code",
   "execution_count": 3,
   "metadata": {
    "scrolled": true
   },
   "outputs": [
    {
     "data": {
      "text/html": [
       "<div>\n",
       "<style scoped>\n",
       "    .dataframe tbody tr th:only-of-type {\n",
       "        vertical-align: middle;\n",
       "    }\n",
       "\n",
       "    .dataframe tbody tr th {\n",
       "        vertical-align: top;\n",
       "    }\n",
       "\n",
       "    .dataframe thead th {\n",
       "        text-align: right;\n",
       "    }\n",
       "</style>\n",
       "<table border=\"1\" class=\"dataframe\">\n",
       "  <thead>\n",
       "    <tr style=\"text-align: right;\">\n",
       "      <th></th>\n",
       "      <th>cd</th>\n",
       "      <th>dt</th>\n",
       "      <th>ncv</th>\n",
       "      <th>cv</th>\n",
       "      <th>cr</th>\n",
       "      <th>ov</th>\n",
       "      <th>hv</th>\n",
       "      <th>lv</th>\n",
       "    </tr>\n",
       "  </thead>\n",
       "  <tbody>\n",
       "    <tr>\n",
       "      <th>0</th>\n",
       "      <td>KOSPI</td>\n",
       "      <td>20210913</td>\n",
       "      <td>3127.86</td>\n",
       "      <td>2.10</td>\n",
       "      <td>0.07</td>\n",
       "      <td>3117.35</td>\n",
       "      <td>3139.13</td>\n",
       "      <td>3109.01</td>\n",
       "    </tr>\n",
       "    <tr>\n",
       "      <th>1</th>\n",
       "      <td>KOSPI</td>\n",
       "      <td>20210910</td>\n",
       "      <td>3125.76</td>\n",
       "      <td>11.06</td>\n",
       "      <td>0.36</td>\n",
       "      <td>3121.09</td>\n",
       "      <td>3131.54</td>\n",
       "      <td>3103.38</td>\n",
       "    </tr>\n",
       "    <tr>\n",
       "      <th>2</th>\n",
       "      <td>KOSPI</td>\n",
       "      <td>20210909</td>\n",
       "      <td>3114.70</td>\n",
       "      <td>-48.29</td>\n",
       "      <td>-1.53</td>\n",
       "      <td>3146.64</td>\n",
       "      <td>3158.60</td>\n",
       "      <td>3111.49</td>\n",
       "    </tr>\n",
       "    <tr>\n",
       "      <th>3</th>\n",
       "      <td>KOSPI</td>\n",
       "      <td>20210908</td>\n",
       "      <td>3162.99</td>\n",
       "      <td>-24.43</td>\n",
       "      <td>-0.77</td>\n",
       "      <td>3178.74</td>\n",
       "      <td>3187.55</td>\n",
       "      <td>3157.07</td>\n",
       "    </tr>\n",
       "    <tr>\n",
       "      <th>4</th>\n",
       "      <td>KOSPI</td>\n",
       "      <td>20210907</td>\n",
       "      <td>3187.42</td>\n",
       "      <td>-15.91</td>\n",
       "      <td>-0.50</td>\n",
       "      <td>3200.07</td>\n",
       "      <td>3201.76</td>\n",
       "      <td>3176.81</td>\n",
       "    </tr>\n",
       "    <tr>\n",
       "      <th>...</th>\n",
       "      <td>...</td>\n",
       "      <td>...</td>\n",
       "      <td>...</td>\n",
       "      <td>...</td>\n",
       "      <td>...</td>\n",
       "      <td>...</td>\n",
       "      <td>...</td>\n",
       "      <td>...</td>\n",
       "    </tr>\n",
       "    <tr>\n",
       "      <th>95</th>\n",
       "      <td>KOSPI</td>\n",
       "      <td>20210428</td>\n",
       "      <td>3181.47</td>\n",
       "      <td>-33.95</td>\n",
       "      <td>-1.06</td>\n",
       "      <td>3217.21</td>\n",
       "      <td>3219.69</td>\n",
       "      <td>3176.55</td>\n",
       "    </tr>\n",
       "    <tr>\n",
       "      <th>96</th>\n",
       "      <td>KOSPI</td>\n",
       "      <td>20210427</td>\n",
       "      <td>3215.42</td>\n",
       "      <td>-2.11</td>\n",
       "      <td>-0.07</td>\n",
       "      <td>3218.30</td>\n",
       "      <td>3223.05</td>\n",
       "      <td>3203.25</td>\n",
       "    </tr>\n",
       "    <tr>\n",
       "      <th>97</th>\n",
       "      <td>KOSPI</td>\n",
       "      <td>20210426</td>\n",
       "      <td>3217.53</td>\n",
       "      <td>31.43</td>\n",
       "      <td>0.99</td>\n",
       "      <td>3191.34</td>\n",
       "      <td>3217.53</td>\n",
       "      <td>3191.34</td>\n",
       "    </tr>\n",
       "    <tr>\n",
       "      <th>98</th>\n",
       "      <td>KOSPI</td>\n",
       "      <td>20210423</td>\n",
       "      <td>3186.10</td>\n",
       "      <td>8.58</td>\n",
       "      <td>0.27</td>\n",
       "      <td>3173.47</td>\n",
       "      <td>3188.70</td>\n",
       "      <td>3146.54</td>\n",
       "    </tr>\n",
       "    <tr>\n",
       "      <th>99</th>\n",
       "      <td>KOSPI</td>\n",
       "      <td>20210422</td>\n",
       "      <td>3177.52</td>\n",
       "      <td>5.86</td>\n",
       "      <td>0.18</td>\n",
       "      <td>3174.52</td>\n",
       "      <td>3196.97</td>\n",
       "      <td>3174.52</td>\n",
       "    </tr>\n",
       "  </tbody>\n",
       "</table>\n",
       "<p>100 rows × 8 columns</p>\n",
       "</div>"
      ],
      "text/plain": [
       "       cd        dt      ncv     cv    cr       ov       hv       lv\n",
       "0   KOSPI  20210913  3127.86   2.10  0.07  3117.35  3139.13  3109.01\n",
       "1   KOSPI  20210910  3125.76  11.06  0.36  3121.09  3131.54  3103.38\n",
       "2   KOSPI  20210909  3114.70 -48.29 -1.53  3146.64  3158.60  3111.49\n",
       "3   KOSPI  20210908  3162.99 -24.43 -0.77  3178.74  3187.55  3157.07\n",
       "4   KOSPI  20210907  3187.42 -15.91 -0.50  3200.07  3201.76  3176.81\n",
       "..    ...       ...      ...    ...   ...      ...      ...      ...\n",
       "95  KOSPI  20210428  3181.47 -33.95 -1.06  3217.21  3219.69  3176.55\n",
       "96  KOSPI  20210427  3215.42  -2.11 -0.07  3218.30  3223.05  3203.25\n",
       "97  KOSPI  20210426  3217.53  31.43  0.99  3191.34  3217.53  3191.34\n",
       "98  KOSPI  20210423  3186.10   8.58  0.27  3173.47  3188.70  3146.54\n",
       "99  KOSPI  20210422  3177.52   5.86  0.18  3174.52  3196.97  3174.52\n",
       "\n",
       "[100 rows x 8 columns]"
      ]
     },
     "execution_count": 3,
     "metadata": {},
     "output_type": "execute_result"
    }
   ],
   "source": [
    "# 3. JSON(str) -> JSON(dict) -> DF\n",
    "\n",
    "datas = response.json()[\"result\"][\"siseList\"]\n",
    "kospi_df = pd.DataFrame(datas)\n",
    "kospi_df"
   ]
  },
  {
   "cell_type": "markdown",
   "metadata": {},
   "source": [
    "#### 함수로 만들기"
   ]
  },
  {
   "cell_type": "code",
   "execution_count": 6,
   "metadata": {},
   "outputs": [],
   "source": [
    "def get_stock_data(code, page_size=20, page=1):\n",
    "    url = \"https://m.stock.naver.com/api/json/sise/\\\n",
    "dailySiseIndexListJson.nhn?code={}&pageSize={}&page={}\".format(code, page_size, page)\n",
    "    response = requests.get(url)\n",
    "    datas = response.json()[\"result\"][\"siseList\"]\n",
    "    \n",
    "    return pd.DataFrame(datas)    "
   ]
  },
  {
   "cell_type": "code",
   "execution_count": 9,
   "metadata": {
    "scrolled": true
   },
   "outputs": [
    {
     "data": {
      "text/html": [
       "<div>\n",
       "<style scoped>\n",
       "    .dataframe tbody tr th:only-of-type {\n",
       "        vertical-align: middle;\n",
       "    }\n",
       "\n",
       "    .dataframe tbody tr th {\n",
       "        vertical-align: top;\n",
       "    }\n",
       "\n",
       "    .dataframe thead th {\n",
       "        text-align: right;\n",
       "    }\n",
       "</style>\n",
       "<table border=\"1\" class=\"dataframe\">\n",
       "  <thead>\n",
       "    <tr style=\"text-align: right;\">\n",
       "      <th></th>\n",
       "      <th>cd</th>\n",
       "      <th>dt</th>\n",
       "      <th>ncv</th>\n",
       "      <th>cv</th>\n",
       "      <th>cr</th>\n",
       "      <th>ov</th>\n",
       "      <th>hv</th>\n",
       "      <th>lv</th>\n",
       "    </tr>\n",
       "  </thead>\n",
       "  <tbody>\n",
       "    <tr>\n",
       "      <th>95</th>\n",
       "      <td>KOSDAQ</td>\n",
       "      <td>20210428</td>\n",
       "      <td>998.27</td>\n",
       "      <td>-22.74</td>\n",
       "      <td>-2.23</td>\n",
       "      <td>1021.13</td>\n",
       "      <td>1021.13</td>\n",
       "      <td>995.96</td>\n",
       "    </tr>\n",
       "    <tr>\n",
       "      <th>96</th>\n",
       "      <td>KOSDAQ</td>\n",
       "      <td>20210427</td>\n",
       "      <td>1021.01</td>\n",
       "      <td>-9.05</td>\n",
       "      <td>-0.88</td>\n",
       "      <td>1030.29</td>\n",
       "      <td>1031.95</td>\n",
       "      <td>1019.81</td>\n",
       "    </tr>\n",
       "    <tr>\n",
       "      <th>97</th>\n",
       "      <td>KOSDAQ</td>\n",
       "      <td>20210426</td>\n",
       "      <td>1030.06</td>\n",
       "      <td>3.24</td>\n",
       "      <td>0.32</td>\n",
       "      <td>1027.40</td>\n",
       "      <td>1030.60</td>\n",
       "      <td>1025.73</td>\n",
       "    </tr>\n",
       "    <tr>\n",
       "      <th>98</th>\n",
       "      <td>KOSDAQ</td>\n",
       "      <td>20210423</td>\n",
       "      <td>1026.82</td>\n",
       "      <td>1.11</td>\n",
       "      <td>0.11</td>\n",
       "      <td>1024.29</td>\n",
       "      <td>1029.79</td>\n",
       "      <td>1018.87</td>\n",
       "    </tr>\n",
       "    <tr>\n",
       "      <th>99</th>\n",
       "      <td>KOSDAQ</td>\n",
       "      <td>20210422</td>\n",
       "      <td>1025.71</td>\n",
       "      <td>3.49</td>\n",
       "      <td>0.34</td>\n",
       "      <td>1023.65</td>\n",
       "      <td>1029.80</td>\n",
       "      <td>1023.43</td>\n",
       "    </tr>\n",
       "  </tbody>\n",
       "</table>\n",
       "</div>"
      ],
      "text/plain": [
       "        cd        dt      ncv     cv    cr       ov       hv       lv\n",
       "95  KOSDAQ  20210428   998.27 -22.74 -2.23  1021.13  1021.13   995.96\n",
       "96  KOSDAQ  20210427  1021.01  -9.05 -0.88  1030.29  1031.95  1019.81\n",
       "97  KOSDAQ  20210426  1030.06   3.24  0.32  1027.40  1030.60  1025.73\n",
       "98  KOSDAQ  20210423  1026.82   1.11  0.11  1024.29  1029.79  1018.87\n",
       "99  KOSDAQ  20210422  1025.71   3.49  0.34  1023.65  1029.80  1023.43"
      ]
     },
     "execution_count": 9,
     "metadata": {},
     "output_type": "execute_result"
    }
   ],
   "source": [
    "kosdaq_df = get_stock_data(\"KOSDAQ\", 100)\n",
    "kosdaq_df.tail()"
   ]
  },
  {
   "cell_type": "markdown",
   "metadata": {},
   "source": [
    "#### USD 수집\n"
   ]
  },
  {
   "cell_type": "code",
   "execution_count": 14,
   "metadata": {},
   "outputs": [
    {
     "name": "stdout",
     "output_type": "stream",
     "text": [
      "https://api.stock.naver.com/marketindex/exchange/FX_USDKRW/prices?page=1&pageSize=100\n"
     ]
    }
   ],
   "source": [
    "# 1. 웹페이지 분석 : URL\n",
    "\n",
    "# 강의 촬영 시점과 URL 이 다소 달라 졌습니다. 아래 URL 로 실습해주세요.\n",
    "# 그리고 로그인이 필요없어져서 쿠키를 반드시 입력하지 않으셔도 됩니다.\n",
    "\n",
    "code, page, page_size = \"FX_USDKRW\", 1, 100\n",
    "\n",
    "url = \"https://api.stock.naver.com/marketindex/exchange/\\\n",
    "{}/prices?page={}&pageSize={}\".format(code, page, page_size)\n",
    "\n",
    "print(url)"
   ]
  },
  {
   "cell_type": "code",
   "execution_count": null,
   "metadata": {},
   "outputs": [],
   "source": [
    "# 2. 쿠키데이터 추가 요청\n",
    "# 지금은 cookie 안 넣어도 됨.\n",
    "params = {\n",
    "    # network request header에 있는 것 복사 붙여넣기\n",
    "    \"cookie\": \"\"\n",
    "}\n",
    "response = requests.get(url, headers=params)\n",
    "response"
   ]
  },
  {
   "cell_type": "code",
   "execution_count": null,
   "metadata": {},
   "outputs": [],
   "source": []
  },
  {
   "cell_type": "code",
   "execution_count": 15,
   "metadata": {},
   "outputs": [
    {
     "data": {
      "text/plain": [
       "<Response [200]>"
      ]
     },
     "execution_count": 15,
     "metadata": {},
     "output_type": "execute_result"
    }
   ],
   "source": [
    "# 2. request, response : JSON(str)\n",
    "response = requests.get(url)\n",
    "response"
   ]
  },
  {
   "cell_type": "code",
   "execution_count": 16,
   "metadata": {
    "scrolled": true
   },
   "outputs": [
    {
     "data": {
      "text/html": [
       "<div>\n",
       "<style scoped>\n",
       "    .dataframe tbody tr th:only-of-type {\n",
       "        vertical-align: middle;\n",
       "    }\n",
       "\n",
       "    .dataframe tbody tr th {\n",
       "        vertical-align: top;\n",
       "    }\n",
       "\n",
       "    .dataframe thead th {\n",
       "        text-align: right;\n",
       "    }\n",
       "</style>\n",
       "<table border=\"1\" class=\"dataframe\">\n",
       "  <thead>\n",
       "    <tr style=\"text-align: right;\">\n",
       "      <th></th>\n",
       "      <th>localTradedAt</th>\n",
       "      <th>closePrice</th>\n",
       "      <th>fluctuations</th>\n",
       "      <th>fluctuationsRatio</th>\n",
       "      <th>fluctuationsType</th>\n",
       "      <th>cashBuyValue</th>\n",
       "      <th>cashSellValue</th>\n",
       "      <th>sendValue</th>\n",
       "      <th>receiveValue</th>\n",
       "    </tr>\n",
       "  </thead>\n",
       "  <tbody>\n",
       "    <tr>\n",
       "      <th>0</th>\n",
       "      <td>2021-09-13</td>\n",
       "      <td>1,175.00</td>\n",
       "      <td>5.00</td>\n",
       "      <td>0.43</td>\n",
       "      <td>{'code': '2', 'text': '상승', 'name': 'RISING'}</td>\n",
       "      <td>1,195.56</td>\n",
       "      <td>1,154.44</td>\n",
       "      <td>1,186.50</td>\n",
       "      <td>1,163.50</td>\n",
       "    </tr>\n",
       "    <tr>\n",
       "      <th>1</th>\n",
       "      <td>2021-09-10</td>\n",
       "      <td>1,170.00</td>\n",
       "      <td>0.00</td>\n",
       "      <td>0.00</td>\n",
       "      <td>{'code': '3', 'text': '보합', 'name': 'UNCHANGED'}</td>\n",
       "      <td>1,190.47</td>\n",
       "      <td>1,149.53</td>\n",
       "      <td>1,181.40</td>\n",
       "      <td>1,158.60</td>\n",
       "    </tr>\n",
       "    <tr>\n",
       "      <th>2</th>\n",
       "      <td>2021-09-09</td>\n",
       "      <td>1,170.00</td>\n",
       "      <td>3.00</td>\n",
       "      <td>0.26</td>\n",
       "      <td>{'code': '2', 'text': '상승', 'name': 'RISING'}</td>\n",
       "      <td>1,190.47</td>\n",
       "      <td>1,149.53</td>\n",
       "      <td>1,181.40</td>\n",
       "      <td>1,158.60</td>\n",
       "    </tr>\n",
       "    <tr>\n",
       "      <th>3</th>\n",
       "      <td>2021-09-08</td>\n",
       "      <td>1,167.00</td>\n",
       "      <td>5.00</td>\n",
       "      <td>0.43</td>\n",
       "      <td>{'code': '2', 'text': '상승', 'name': 'RISING'}</td>\n",
       "      <td>1,187.42</td>\n",
       "      <td>1,146.58</td>\n",
       "      <td>1,178.40</td>\n",
       "      <td>1,155.60</td>\n",
       "    </tr>\n",
       "    <tr>\n",
       "      <th>4</th>\n",
       "      <td>2021-09-07</td>\n",
       "      <td>1,162.00</td>\n",
       "      <td>5.00</td>\n",
       "      <td>0.43</td>\n",
       "      <td>{'code': '2', 'text': '상승', 'name': 'RISING'}</td>\n",
       "      <td>1,182.33</td>\n",
       "      <td>1,141.67</td>\n",
       "      <td>1,173.30</td>\n",
       "      <td>1,150.70</td>\n",
       "    </tr>\n",
       "    <tr>\n",
       "      <th>...</th>\n",
       "      <td>...</td>\n",
       "      <td>...</td>\n",
       "      <td>...</td>\n",
       "      <td>...</td>\n",
       "      <td>...</td>\n",
       "      <td>...</td>\n",
       "      <td>...</td>\n",
       "      <td>...</td>\n",
       "      <td>...</td>\n",
       "    </tr>\n",
       "    <tr>\n",
       "      <th>95</th>\n",
       "      <td>2021-04-28</td>\n",
       "      <td>1,114.00</td>\n",
       "      <td>2.00</td>\n",
       "      <td>0.18</td>\n",
       "      <td>{'code': '2', 'text': '상승', 'name': 'RISING'}</td>\n",
       "      <td>1,133.49</td>\n",
       "      <td>1,094.51</td>\n",
       "      <td>1,124.90</td>\n",
       "      <td>1,103.10</td>\n",
       "    </tr>\n",
       "    <tr>\n",
       "      <th>96</th>\n",
       "      <td>2021-04-27</td>\n",
       "      <td>1,112.00</td>\n",
       "      <td>1.00</td>\n",
       "      <td>0.09</td>\n",
       "      <td>{'code': '2', 'text': '상승', 'name': 'RISING'}</td>\n",
       "      <td>1,131.46</td>\n",
       "      <td>1,092.54</td>\n",
       "      <td>1,122.80</td>\n",
       "      <td>1,101.20</td>\n",
       "    </tr>\n",
       "    <tr>\n",
       "      <th>97</th>\n",
       "      <td>2021-04-26</td>\n",
       "      <td>1,111.00</td>\n",
       "      <td>-6.50</td>\n",
       "      <td>-0.58</td>\n",
       "      <td>{'code': '5', 'text': '하락', 'name': 'FALLING'}</td>\n",
       "      <td>1,130.44</td>\n",
       "      <td>1,091.56</td>\n",
       "      <td>1,121.80</td>\n",
       "      <td>1,100.20</td>\n",
       "    </tr>\n",
       "    <tr>\n",
       "      <th>98</th>\n",
       "      <td>2021-04-23</td>\n",
       "      <td>1,117.50</td>\n",
       "      <td>0.00</td>\n",
       "      <td>0.00</td>\n",
       "      <td>{'code': '3', 'text': '보합', 'name': 'UNCHANGED'}</td>\n",
       "      <td>1,137.05</td>\n",
       "      <td>1,097.95</td>\n",
       "      <td>1,128.40</td>\n",
       "      <td>1,106.60</td>\n",
       "    </tr>\n",
       "    <tr>\n",
       "      <th>99</th>\n",
       "      <td>2021-04-22</td>\n",
       "      <td>1,117.50</td>\n",
       "      <td>-1.50</td>\n",
       "      <td>-0.13</td>\n",
       "      <td>{'code': '5', 'text': '하락', 'name': 'FALLING'}</td>\n",
       "      <td>1,137.05</td>\n",
       "      <td>1,097.95</td>\n",
       "      <td>1,128.40</td>\n",
       "      <td>1,106.60</td>\n",
       "    </tr>\n",
       "  </tbody>\n",
       "</table>\n",
       "<p>100 rows × 9 columns</p>\n",
       "</div>"
      ],
      "text/plain": [
       "   localTradedAt closePrice fluctuations fluctuationsRatio  \\\n",
       "0     2021-09-13   1,175.00         5.00              0.43   \n",
       "1     2021-09-10   1,170.00         0.00              0.00   \n",
       "2     2021-09-09   1,170.00         3.00              0.26   \n",
       "3     2021-09-08   1,167.00         5.00              0.43   \n",
       "4     2021-09-07   1,162.00         5.00              0.43   \n",
       "..           ...        ...          ...               ...   \n",
       "95    2021-04-28   1,114.00         2.00              0.18   \n",
       "96    2021-04-27   1,112.00         1.00              0.09   \n",
       "97    2021-04-26   1,111.00        -6.50             -0.58   \n",
       "98    2021-04-23   1,117.50         0.00              0.00   \n",
       "99    2021-04-22   1,117.50        -1.50             -0.13   \n",
       "\n",
       "                                    fluctuationsType cashBuyValue  \\\n",
       "0      {'code': '2', 'text': '상승', 'name': 'RISING'}     1,195.56   \n",
       "1   {'code': '3', 'text': '보합', 'name': 'UNCHANGED'}     1,190.47   \n",
       "2      {'code': '2', 'text': '상승', 'name': 'RISING'}     1,190.47   \n",
       "3      {'code': '2', 'text': '상승', 'name': 'RISING'}     1,187.42   \n",
       "4      {'code': '2', 'text': '상승', 'name': 'RISING'}     1,182.33   \n",
       "..                                               ...          ...   \n",
       "95     {'code': '2', 'text': '상승', 'name': 'RISING'}     1,133.49   \n",
       "96     {'code': '2', 'text': '상승', 'name': 'RISING'}     1,131.46   \n",
       "97    {'code': '5', 'text': '하락', 'name': 'FALLING'}     1,130.44   \n",
       "98  {'code': '3', 'text': '보합', 'name': 'UNCHANGED'}     1,137.05   \n",
       "99    {'code': '5', 'text': '하락', 'name': 'FALLING'}     1,137.05   \n",
       "\n",
       "   cashSellValue sendValue receiveValue  \n",
       "0       1,154.44  1,186.50     1,163.50  \n",
       "1       1,149.53  1,181.40     1,158.60  \n",
       "2       1,149.53  1,181.40     1,158.60  \n",
       "3       1,146.58  1,178.40     1,155.60  \n",
       "4       1,141.67  1,173.30     1,150.70  \n",
       "..           ...       ...          ...  \n",
       "95      1,094.51  1,124.90     1,103.10  \n",
       "96      1,092.54  1,122.80     1,101.20  \n",
       "97      1,091.56  1,121.80     1,100.20  \n",
       "98      1,097.95  1,128.40     1,106.60  \n",
       "99      1,097.95  1,128.40     1,106.60  \n",
       "\n",
       "[100 rows x 9 columns]"
      ]
     },
     "execution_count": 16,
     "metadata": {},
     "output_type": "execute_result"
    }
   ],
   "source": [
    "# 3. JSON(str) -> DF\n",
    "datas = response.json()\n",
    "usd_df = pd.DataFrame(datas)\n",
    "usd_df"
   ]
  },
  {
   "cell_type": "markdown",
   "metadata": {},
   "source": [
    "현재는 위와 같이 날짜 표기가 달라졌습니다.\n",
    "\n",
    "아래 코드를 활용하여 - 를 제거할 수 있습니다."
   ]
  },
  {
   "cell_type": "code",
   "execution_count": 17,
   "metadata": {},
   "outputs": [],
   "source": [
    "usd_df[\"localTradedAt\"] = usd_df[\"localTradedAt\"].replace(\"-\", \"\", regex=True).astype(str)"
   ]
  },
  {
   "cell_type": "code",
   "execution_count": 19,
   "metadata": {},
   "outputs": [],
   "source": [
    "# KOSPI 데이터 컬럼명과 일치하기 위해 수정합니다.\n",
    "usd_df = usd_df.rename(columns={\"fluctuations\": \"cv\",\n",
    "                      \"fluctuationsRatio\": \"cr\",\n",
    "                      \"localTradedAt\": \"dt\",\n",
    "                      \"receiveValue\": \"rv\",\n",
    "                      \"sendValue\": \"sv\",\n",
    "                      \"cashBuyValue\": \"cbv\",\n",
    "                      \"cashSellValue\": \"csv\",\n",
    "                      \"closePrice\": \"nv\"})"
   ]
  },
  {
   "cell_type": "code",
   "execution_count": 20,
   "metadata": {},
   "outputs": [],
   "source": [
    "# 학습중에 사용하지 않는 컬럼은 삭제 합니다.\n",
    "usd_df = usd_df.drop(['fluctuationsType'], axis=1)"
   ]
  },
  {
   "cell_type": "code",
   "execution_count": 28,
   "metadata": {
    "scrolled": true
   },
   "outputs": [
    {
     "name": "stdout",
     "output_type": "stream",
     "text": [
      "['20210913' '20210910' '20210909' '20210908' '20210907' '20210906'\n",
      " '20210903' '20210902' '20210901' '20210831' '20210830' '20210827'\n",
      " '20210826' '20210825' '20210824' '20210823' '20210820' '20210819'\n",
      " '20210818' '20210817' '20210813' '20210812' '20210811' '20210810'\n",
      " '20210809' '20210806' '20210805' '20210804' '20210803' '20210802'\n",
      " '20210730' '20210729' '20210728' '20210727' '20210726' '20210723'\n",
      " '20210722' '20210721' '20210720' '20210719' '20210716' '20210715'\n",
      " '20210714' '20210713' '20210712' '20210709' '20210708' '20210707'\n",
      " '20210706' '20210705' '20210702' '20210701' '20210630' '20210629'\n",
      " '20210628' '20210625' '20210624' '20210623' '20210622' '20210621'\n",
      " '20210618' '20210617' '20210616' '20210615' '20210614' '20210611'\n",
      " '20210610' '20210609' '20210608' '20210607' '20210604' '20210603'\n",
      " '20210602' '20210601' '20210531' '20210528' '20210527' '20210526'\n",
      " '20210525' '20210524' '20210521' '20210520' '20210518' '20210517'\n",
      " '20210514' '20210513' '20210512' '20210511' '20210510' '20210507'\n",
      " '20210506' '20210504' '20210503' '20210430' '20210429' '20210428'\n",
      " '20210427' '20210426' '20210423' '20210422']\n"
     ]
    }
   ],
   "source": [
    "print(usd_df[\"dt\"].values)"
   ]
  },
  {
   "cell_type": "code",
   "execution_count": 62,
   "metadata": {},
   "outputs": [],
   "source": [
    "# 데이터 합치기"
   ]
  },
  {
   "cell_type": "code",
   "execution_count": 29,
   "metadata": {},
   "outputs": [
    {
     "data": {
      "text/html": [
       "<div>\n",
       "<style scoped>\n",
       "    .dataframe tbody tr th:only-of-type {\n",
       "        vertical-align: middle;\n",
       "    }\n",
       "\n",
       "    .dataframe tbody tr th {\n",
       "        vertical-align: top;\n",
       "    }\n",
       "\n",
       "    .dataframe thead th {\n",
       "        text-align: right;\n",
       "    }\n",
       "</style>\n",
       "<table border=\"1\" class=\"dataframe\">\n",
       "  <thead>\n",
       "    <tr style=\"text-align: right;\">\n",
       "      <th></th>\n",
       "      <th>cd_x</th>\n",
       "      <th>dt</th>\n",
       "      <th>ncv_x</th>\n",
       "      <th>cv_x</th>\n",
       "      <th>cr_x</th>\n",
       "      <th>ov_x</th>\n",
       "      <th>hv_x</th>\n",
       "      <th>lv_x</th>\n",
       "      <th>cd_y</th>\n",
       "      <th>ncv_y</th>\n",
       "      <th>cv_y</th>\n",
       "      <th>cr_y</th>\n",
       "      <th>ov_y</th>\n",
       "      <th>hv_y</th>\n",
       "      <th>lv_y</th>\n",
       "    </tr>\n",
       "  </thead>\n",
       "  <tbody>\n",
       "    <tr>\n",
       "      <th>0</th>\n",
       "      <td>KOSPI</td>\n",
       "      <td>20210913</td>\n",
       "      <td>3127.86</td>\n",
       "      <td>2.10</td>\n",
       "      <td>0.07</td>\n",
       "      <td>3117.35</td>\n",
       "      <td>3139.13</td>\n",
       "      <td>3109.01</td>\n",
       "      <td>KOSDAQ</td>\n",
       "      <td>1026.34</td>\n",
       "      <td>-11.57</td>\n",
       "      <td>-1.11</td>\n",
       "      <td>1036.86</td>\n",
       "      <td>1037.50</td>\n",
       "      <td>1023.98</td>\n",
       "    </tr>\n",
       "    <tr>\n",
       "      <th>1</th>\n",
       "      <td>KOSPI</td>\n",
       "      <td>20210910</td>\n",
       "      <td>3125.76</td>\n",
       "      <td>11.06</td>\n",
       "      <td>0.36</td>\n",
       "      <td>3121.09</td>\n",
       "      <td>3131.54</td>\n",
       "      <td>3103.38</td>\n",
       "      <td>KOSDAQ</td>\n",
       "      <td>1037.91</td>\n",
       "      <td>3.29</td>\n",
       "      <td>0.32</td>\n",
       "      <td>1035.86</td>\n",
       "      <td>1039.73</td>\n",
       "      <td>1026.97</td>\n",
       "    </tr>\n",
       "  </tbody>\n",
       "</table>\n",
       "</div>"
      ],
      "text/plain": [
       "    cd_x        dt    ncv_x   cv_x  cr_x     ov_x     hv_x     lv_x    cd_y  \\\n",
       "0  KOSPI  20210913  3127.86   2.10  0.07  3117.35  3139.13  3109.01  KOSDAQ   \n",
       "1  KOSPI  20210910  3125.76  11.06  0.36  3121.09  3131.54  3103.38  KOSDAQ   \n",
       "\n",
       "     ncv_y   cv_y  cr_y     ov_y     hv_y     lv_y  \n",
       "0  1026.34 -11.57 -1.11  1036.86  1037.50  1023.98  \n",
       "1  1037.91   3.29  0.32  1035.86  1039.73  1026.97  "
      ]
     },
     "execution_count": 29,
     "metadata": {},
     "output_type": "execute_result"
    }
   ],
   "source": [
    "merge_df_1 = pd.merge(kospi_df, kosdaq_df, left_on=\"dt\", right_on=\"dt\")\n",
    "merge_df_1.head(2)"
   ]
  },
  {
   "cell_type": "code",
   "execution_count": 33,
   "metadata": {},
   "outputs": [
    {
     "data": {
      "text/html": [
       "<div>\n",
       "<style scoped>\n",
       "    .dataframe tbody tr th:only-of-type {\n",
       "        vertical-align: middle;\n",
       "    }\n",
       "\n",
       "    .dataframe tbody tr th {\n",
       "        vertical-align: top;\n",
       "    }\n",
       "\n",
       "    .dataframe thead th {\n",
       "        text-align: right;\n",
       "    }\n",
       "</style>\n",
       "<table border=\"1\" class=\"dataframe\">\n",
       "  <thead>\n",
       "    <tr style=\"text-align: right;\">\n",
       "      <th></th>\n",
       "      <th>dt</th>\n",
       "      <th>ncv_kospi</th>\n",
       "      <th>ncv_kosdaq</th>\n",
       "    </tr>\n",
       "  </thead>\n",
       "  <tbody>\n",
       "    <tr>\n",
       "      <th>98</th>\n",
       "      <td>20210423</td>\n",
       "      <td>3186.10</td>\n",
       "      <td>1026.82</td>\n",
       "    </tr>\n",
       "    <tr>\n",
       "      <th>99</th>\n",
       "      <td>20210422</td>\n",
       "      <td>3177.52</td>\n",
       "      <td>1025.71</td>\n",
       "    </tr>\n",
       "  </tbody>\n",
       "</table>\n",
       "</div>"
      ],
      "text/plain": [
       "          dt  ncv_kospi  ncv_kosdaq\n",
       "98  20210423    3186.10     1026.82\n",
       "99  20210422    3177.52     1025.71"
      ]
     },
     "execution_count": 33,
     "metadata": {},
     "output_type": "execute_result"
    }
   ],
   "source": [
    "merge_df_1 = merge_df_1.rename(columns={\"ncv_x\": \"ncv_kospi\", \"ncv_y\": \"ncv_kosdaq\"})\n",
    "merge_df_1 = merge_df_1[[\"dt\", \"ncv_kospi\", \"ncv_kosdaq\"]]\n",
    "merge_df_1.tail(2)"
   ]
  },
  {
   "cell_type": "code",
   "execution_count": 35,
   "metadata": {},
   "outputs": [
    {
     "data": {
      "text/html": [
       "<div>\n",
       "<style scoped>\n",
       "    .dataframe tbody tr th:only-of-type {\n",
       "        vertical-align: middle;\n",
       "    }\n",
       "\n",
       "    .dataframe tbody tr th {\n",
       "        vertical-align: top;\n",
       "    }\n",
       "\n",
       "    .dataframe thead th {\n",
       "        text-align: right;\n",
       "    }\n",
       "</style>\n",
       "<table border=\"1\" class=\"dataframe\">\n",
       "  <thead>\n",
       "    <tr style=\"text-align: right;\">\n",
       "      <th></th>\n",
       "      <th>dt</th>\n",
       "      <th>nv</th>\n",
       "      <th>cv</th>\n",
       "      <th>cr</th>\n",
       "      <th>cbv</th>\n",
       "      <th>csv</th>\n",
       "      <th>sv</th>\n",
       "      <th>rv</th>\n",
       "    </tr>\n",
       "  </thead>\n",
       "  <tbody>\n",
       "    <tr>\n",
       "      <th>0</th>\n",
       "      <td>20210913</td>\n",
       "      <td>1,175.00</td>\n",
       "      <td>5.00</td>\n",
       "      <td>0.43</td>\n",
       "      <td>1,195.56</td>\n",
       "      <td>1,154.44</td>\n",
       "      <td>1,186.50</td>\n",
       "      <td>1,163.50</td>\n",
       "    </tr>\n",
       "    <tr>\n",
       "      <th>1</th>\n",
       "      <td>20210910</td>\n",
       "      <td>1,170.00</td>\n",
       "      <td>0.00</td>\n",
       "      <td>0.00</td>\n",
       "      <td>1,190.47</td>\n",
       "      <td>1,149.53</td>\n",
       "      <td>1,181.40</td>\n",
       "      <td>1,158.60</td>\n",
       "    </tr>\n",
       "  </tbody>\n",
       "</table>\n",
       "</div>"
      ],
      "text/plain": [
       "         dt        nv    cv    cr       cbv       csv        sv        rv\n",
       "0  20210913  1,175.00  5.00  0.43  1,195.56  1,154.44  1,186.50  1,163.50\n",
       "1  20210910  1,170.00  0.00  0.00  1,190.47  1,149.53  1,181.40  1,158.60"
      ]
     },
     "execution_count": 35,
     "metadata": {},
     "output_type": "execute_result"
    }
   ],
   "source": [
    "usd_df.head(2)"
   ]
  },
  {
   "cell_type": "code",
   "execution_count": 36,
   "metadata": {
    "scrolled": true
   },
   "outputs": [],
   "source": [
    "merge_df = pd.merge(merge_df_1, usd_df)[[\"dt\", \"ncv_kospi\", \"ncv_kosdaq\", \"nv\"]]\n",
    "# nv 에는 1,117.50 형태로 되어 있어 float 으로 형변환이 자동으로 되지 않습니다. (, 로 인하여)\n",
    "# 따라서 아래 코드를 실행하여 , 를 제거해주세요."
   ]
  },
  {
   "cell_type": "code",
   "execution_count": 37,
   "metadata": {},
   "outputs": [],
   "source": [
    "merge_df[\"nv\"] = usd_df[\"nv\"].replace(\",\", \"\", regex=True).astype(float)"
   ]
  },
  {
   "cell_type": "code",
   "execution_count": 38,
   "metadata": {
    "scrolled": false
   },
   "outputs": [
    {
     "data": {
      "text/html": [
       "<div>\n",
       "<style scoped>\n",
       "    .dataframe tbody tr th:only-of-type {\n",
       "        vertical-align: middle;\n",
       "    }\n",
       "\n",
       "    .dataframe tbody tr th {\n",
       "        vertical-align: top;\n",
       "    }\n",
       "\n",
       "    .dataframe thead th {\n",
       "        text-align: right;\n",
       "    }\n",
       "</style>\n",
       "<table border=\"1\" class=\"dataframe\">\n",
       "  <thead>\n",
       "    <tr style=\"text-align: right;\">\n",
       "      <th></th>\n",
       "      <th>dt</th>\n",
       "      <th>ncv_kospi</th>\n",
       "      <th>ncv_kosdaq</th>\n",
       "      <th>nv</th>\n",
       "    </tr>\n",
       "  </thead>\n",
       "  <tbody>\n",
       "    <tr>\n",
       "      <th>0</th>\n",
       "      <td>20210913</td>\n",
       "      <td>3127.86</td>\n",
       "      <td>1026.34</td>\n",
       "      <td>1175.0</td>\n",
       "    </tr>\n",
       "    <tr>\n",
       "      <th>1</th>\n",
       "      <td>20210910</td>\n",
       "      <td>3125.76</td>\n",
       "      <td>1037.91</td>\n",
       "      <td>1170.0</td>\n",
       "    </tr>\n",
       "    <tr>\n",
       "      <th>2</th>\n",
       "      <td>20210909</td>\n",
       "      <td>3114.70</td>\n",
       "      <td>1034.62</td>\n",
       "      <td>1170.0</td>\n",
       "    </tr>\n",
       "    <tr>\n",
       "      <th>3</th>\n",
       "      <td>20210908</td>\n",
       "      <td>3162.99</td>\n",
       "      <td>1037.22</td>\n",
       "      <td>1167.0</td>\n",
       "    </tr>\n",
       "    <tr>\n",
       "      <th>4</th>\n",
       "      <td>20210907</td>\n",
       "      <td>3187.42</td>\n",
       "      <td>1054.43</td>\n",
       "      <td>1162.0</td>\n",
       "    </tr>\n",
       "    <tr>\n",
       "      <th>...</th>\n",
       "      <td>...</td>\n",
       "      <td>...</td>\n",
       "      <td>...</td>\n",
       "      <td>...</td>\n",
       "    </tr>\n",
       "    <tr>\n",
       "      <th>95</th>\n",
       "      <td>20210428</td>\n",
       "      <td>3181.47</td>\n",
       "      <td>998.27</td>\n",
       "      <td>1114.0</td>\n",
       "    </tr>\n",
       "    <tr>\n",
       "      <th>96</th>\n",
       "      <td>20210427</td>\n",
       "      <td>3215.42</td>\n",
       "      <td>1021.01</td>\n",
       "      <td>1112.0</td>\n",
       "    </tr>\n",
       "    <tr>\n",
       "      <th>97</th>\n",
       "      <td>20210426</td>\n",
       "      <td>3217.53</td>\n",
       "      <td>1030.06</td>\n",
       "      <td>1111.0</td>\n",
       "    </tr>\n",
       "    <tr>\n",
       "      <th>98</th>\n",
       "      <td>20210423</td>\n",
       "      <td>3186.10</td>\n",
       "      <td>1026.82</td>\n",
       "      <td>1117.5</td>\n",
       "    </tr>\n",
       "    <tr>\n",
       "      <th>99</th>\n",
       "      <td>20210422</td>\n",
       "      <td>3177.52</td>\n",
       "      <td>1025.71</td>\n",
       "      <td>1117.5</td>\n",
       "    </tr>\n",
       "  </tbody>\n",
       "</table>\n",
       "<p>100 rows × 4 columns</p>\n",
       "</div>"
      ],
      "text/plain": [
       "          dt  ncv_kospi  ncv_kosdaq      nv\n",
       "0   20210913    3127.86     1026.34  1175.0\n",
       "1   20210910    3125.76     1037.91  1170.0\n",
       "2   20210909    3114.70     1034.62  1170.0\n",
       "3   20210908    3162.99     1037.22  1167.0\n",
       "4   20210907    3187.42     1054.43  1162.0\n",
       "..       ...        ...         ...     ...\n",
       "95  20210428    3181.47      998.27  1114.0\n",
       "96  20210427    3215.42     1021.01  1112.0\n",
       "97  20210426    3217.53     1030.06  1111.0\n",
       "98  20210423    3186.10     1026.82  1117.5\n",
       "99  20210422    3177.52     1025.71  1117.5\n",
       "\n",
       "[100 rows x 4 columns]"
      ]
     },
     "execution_count": 38,
     "metadata": {},
     "output_type": "execute_result"
    }
   ],
   "source": [
    "merge_df"
   ]
  },
  {
   "cell_type": "code",
   "execution_count": 97,
   "metadata": {},
   "outputs": [],
   "source": [
    "# 그래프 그리기"
   ]
  },
  {
   "cell_type": "code",
   "execution_count": 43,
   "metadata": {},
   "outputs": [],
   "source": [
    "from sklearn import preprocessing"
   ]
  },
  {
   "cell_type": "code",
   "execution_count": 44,
   "metadata": {
    "scrolled": true
   },
   "outputs": [
    {
     "data": {
      "image/png": "[encoded data removed]",
      "text/plain": [
       "<Figure size 1440x360 with 1 Axes>"
      ]
     },
     "metadata": {
      "image/png": {
       "height": 305,
       "width": 1155
      },
      "needs_background": "light"
     },
     "output_type": "display_data"
    }
   ],
   "source": [
    "%matplotlib inline\n",
    "plt.figure(figsize=(20, 5))\n",
    "plt.plot(merge_df[\"dt\"], preprocessing.minmax_scale(merge_df[\"ncv_kospi\"]), \"r*:\", label=\"kospi\")\n",
    "plt.plot(merge_df[\"dt\"], preprocessing.minmax_scale(merge_df[\"ncv_kosdaq\"]), \"b*:\", label=\"kosdaq\")\n",
    "plt.plot(merge_df[\"dt\"], preprocessing.minmax_scale(merge_df[\"nv\"]), \"g*:\", label=\"usd\")\n",
    "\n",
    "plt.legend(loc=0)\n",
    "\n",
    "# xtick 이 항상 10개 출력 되도록\n",
    "step = len(merge_df) // 10\n",
    "plt.xticks(merge_df[::step][\"dt\"])\n",
    "\n",
    "plt.show()"
   ]
  },
  {
   "cell_type": "code",
   "execution_count": 48,
   "metadata": {},
   "outputs": [
    {
     "data": {
      "text/plain": [
       "0     20210913\n",
       "10    20210830\n",
       "20    20210813\n",
       "30    20210730\n",
       "40    20210716\n",
       "50    20210702\n",
       "60    20210618\n",
       "70    20210604\n",
       "80    20210521\n",
       "90    20210506\n",
       "Name: dt, dtype: object"
      ]
     },
     "execution_count": 48,
     "metadata": {},
     "output_type": "execute_result"
    }
   ],
   "source": [
    "merge_df[::step][\"dt\"]\n",
    "# print(step)"
   ]
  },
  {
   "cell_type": "markdown",
   "metadata": {},
   "source": [
    "##### 정규화 : Normalization\n",
    "- z = (x - min(x)) / (max(x) - min(x))\n"
   ]
  },
  {
   "cell_type": "code",
   "execution_count": 89,
   "metadata": {},
   "outputs": [],
   "source": [
    "from sklearn import preprocessing"
   ]
  },
  {
   "cell_type": "code",
   "execution_count": 90,
   "metadata": {
    "scrolled": false
   },
   "outputs": [
    {
     "data": {
      "text/plain": [
       "array([0.93139062, 0.92207957, 1.        , 0.9652663 , 0.96491674,\n",
       "       0.95810029, 0.93911275, 0.91798017, 0.86476738, 0.85887251,\n",
       "       0.87695437, 0.86765921, 0.85124571, 0.84131499, 0.82855599,\n",
       "       0.78819753, 0.7469175 , 0.7605504 , 0.70659082, 0.71448773,\n",
       "       0.66256197, 0.64352676, 0.65685776, 0.70566925, 0.71213614,\n",
       "       0.75421063, 0.7247998 , 0.75605377, 0.72195564, 0.73574743,\n",
       "       0.67109445, 0.58278251, 0.61138299, 0.64314542, 0.69105123,\n",
       "       0.71842824, 0.78119042, 0.71903203, 0.66990276, 0.80772531,\n",
       "       0.64134994, 0.7606934 , 0.77604233, 0.82032541, 0.78702174,\n",
       "       0.861812  , 0.90871679, 0.88289691, 0.80913944, 0.78385979,\n",
       "       0.79429897, 0.8409972 , 0.78843587, 0.85537689, 0.80314923,\n",
       "       0.73914771, 0.61152599, 0.75904093, 0.84406381, 0.87226706,\n",
       "       0.9813938 , 0.87277552, 0.9048875 , 0.8313366 , 0.79655523,\n",
       "       0.6714599 , 0.78581416, 0.88755243, 0.88494661, 0.84945024,\n",
       "       0.88520084, 0.89112749, 0.69966315, 0.59881467, 0.63434282,\n",
       "       0.56106203, 0.44828079, 0.36413182, 0.34520783, 0.34244312,\n",
       "       0.26770052, 0.22616626, 0.2976198 , 0.28733952, 0.28455892,\n",
       "       0.28671984, 0.26293377, 0.27148214, 0.28397102, 0.24647261,\n",
       "       0.26078874, 0.17412927, 0.24485191, 0.22262298, 0.16664548,\n",
       "       0.13435871, 0.06818037, 0.        , 0.06690924])"
      ]
     },
     "execution_count": 90,
     "metadata": {},
     "output_type": "execute_result"
    }
   ],
   "source": [
    "preprocessing.minmax_scale(merge_df[\"ncv_kospi\"])"
   ]
  },
  {
   "cell_type": "markdown",
   "metadata": {},
   "source": [
    "#### 상관계수"
   ]
  },
  {
   "cell_type": "code",
   "execution_count": 49,
   "metadata": {},
   "outputs": [],
   "source": [
    "import numpy as np"
   ]
  },
  {
   "cell_type": "code",
   "execution_count": 54,
   "metadata": {},
   "outputs": [
    {
     "data": {
      "text/plain": [
       "array([[1.        , 0.44521047],\n",
       "       [0.44521047, 1.        ]])"
      ]
     },
     "execution_count": 54,
     "metadata": {},
     "output_type": "execute_result"
    }
   ],
   "source": [
    "np.corrcoef(merge_df[\"ncv_kospi\"], merge_df[\"ncv_kosdaq\"])"
   ]
  },
  {
   "cell_type": "code",
   "execution_count": 50,
   "metadata": {},
   "outputs": [
    {
     "data": {
      "text/plain": [
       "0.44521046910937406"
      ]
     },
     "execution_count": 50,
     "metadata": {},
     "output_type": "execute_result"
    }
   ],
   "source": [
    "np.corrcoef(merge_df[\"ncv_kospi\"], merge_df[\"ncv_kosdaq\"])[0, 1]"
   ]
  },
  {
   "cell_type": "code",
   "execution_count": 51,
   "metadata": {},
   "outputs": [
    {
     "data": {
      "text/plain": [
       "-0.33787238073831705"
      ]
     },
     "execution_count": 51,
     "metadata": {},
     "output_type": "execute_result"
    }
   ],
   "source": [
    "np.corrcoef(merge_df[\"ncv_kospi\"], merge_df[\"nv\"])[0, 1]"
   ]
  },
  {
   "cell_type": "code",
   "execution_count": 52,
   "metadata": {
    "scrolled": true
   },
   "outputs": [
    {
     "data": {
      "text/plain": [
       "0.5329807344503058"
      ]
     },
     "execution_count": 52,
     "metadata": {},
     "output_type": "execute_result"
    }
   ],
   "source": [
    "np.corrcoef(merge_df[\"nv\"], merge_df[\"ncv_kosdaq\"])[0, 1]"
   ]
  },
  {
   "cell_type": "code",
   "execution_count": null,
   "metadata": {},
   "outputs": [],
   "source": []
  },
  {
   "cell_type": "code",
   "execution_count": null,
   "metadata": {},
   "outputs": [],
   "source": []
  }
 ],
 "metadata": {
  "kernelspec": {
   "display_name": "Python 3",
   "language": "python",
   "name": "python3"
  },
  "language_info": {
   "codemirror_mode": {
    "name": "ipython",
    "version": 3
   },
   "file_extension": ".py",
   "mimetype": "text/x-python",
   "name": "python",
   "nbconvert_exporter": "python",
   "pygments_lexer": "ipython3",
   "version": "3.8.5"
  }
 },
 "nbformat": 4,
 "nbformat_minor": 2
}
