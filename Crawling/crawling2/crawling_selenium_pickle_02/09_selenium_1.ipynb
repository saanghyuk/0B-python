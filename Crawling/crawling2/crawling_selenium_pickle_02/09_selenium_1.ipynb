{
 "cells": [
  {
   "cell_type": "markdown",
   "metadata": {},
   "source": [
    "### Selenium\n",
    "- 브라우져를 직접 실행하여 자동화하고 브라우져상에 있는 데이터를 수집\n",
    "- 웹 테스트 자동화를 위해서 만들어진 라이브러리\n",
    "- 다양한 브라우져 지원\n",
    "- 다양한 언어를 지원"
   ]
  },
  {
   "cell_type": "markdown",
   "metadata": {},
   "source": [
    "#### 설정\n",
    "- chrome driver 설정\n",
    "    - 크롬 드라이버 다운로드 : https://chromedriver.chromium.org/downloads\n",
    "    - 본인 컴퓨터에 맞는 드라이버 버전을 다운로드\n",
    "    - 사용중인 주피터 노트북과 같은 디렉토리에 크롬 드라이버 파일 업로드\n",
    "    - mac\n",
    "        - chromedriver 파일을 /usr/local/bin 디렉토리로 복사\n",
    "        - `sudo cp ~/Downloads/chromedriver /usr/local/bin`\n",
    "    - windows\n",
    "        - 환경변수 추가\n",
    "        - 내컴퓨터 - 속성 - 고급시스템설정 - 환경변수\n",
    "        - chromedriver의 path를 추가\n",
    "        - 자세한 사용 방법\n",
    "            - https://www.google.com/search?q=windows+%ED%99%98%EA%B2%BD%EB%B3%80%EC%88%98+path+%EC%84%A4%EC%A0%95&oq=windows+%ED%99%98%EA%B2%BD%EB%B3%80%EC%88%98+path+%EC%84%A4%EC%A0%95&aqs=chrome..69i57j0i30j0i8i30.7755j0j7&sourceid=chrome&ie=UTF-8\n",
    "        - PATH 를 설정 하셨으면, Jupyter 가 실행중인 Git Bash 를 껐다가 켜시면 작동합니다.\n",
    "- selenium python package 설치\n",
    "    - sudo pip install selenium (macOS, Linux 명령어)\n",
    "        - Windows 에서는 sudo 없이 실행하면 설치 가능합니다.\n",
    "    - conda install -c conda-forge selenium (Windows, macOS, Linux 모두)"
   ]
  },
  {
   "cell_type": "code",
   "execution_count": 1,
   "metadata": {},
   "outputs": [],
   "source": [
    "from selenium import webdriver"
   ]
  },
  {
   "cell_type": "code",
   "execution_count": 2,
   "metadata": {},
   "outputs": [],
   "source": [
    "driver = webdriver.Chrome()"
   ]
  },
  {
   "cell_type": "code",
   "execution_count": 3,
   "metadata": {},
   "outputs": [],
   "source": [
    "# 페이지 이동 : get\n",
    "driver.get(\"https://daum.net\")"
   ]
  },
  {
   "cell_type": "code",
   "execution_count": 4,
   "metadata": {},
   "outputs": [],
   "source": [
    "# 윈도우 사이즈 조절\n",
    "driver.set_window_size(800, 600)"
   ]
  },
  {
   "cell_type": "code",
   "execution_count": 5,
   "metadata": {},
   "outputs": [],
   "source": [
    "# 스크롤 위치 조절\n",
    "driver.execute_script(\"window.scrollTo(200, 300);\")"
   ]
  },
  {
   "cell_type": "code",
   "execution_count": 8,
   "metadata": {},
   "outputs": [],
   "source": [
    "# alert 다루기\n",
    "driver.execute_script(\"alert('FastCampus!!');\")"
   ]
  },
  {
   "cell_type": "code",
   "execution_count": 9,
   "metadata": {},
   "outputs": [],
   "source": [
    "alert = driver.switch_to.alert\n",
    "alert.accept()"
   ]
  },
  {
   "cell_type": "code",
   "execution_count": 10,
   "metadata": {},
   "outputs": [],
   "source": [
    "# input 태그에 문자열 입력\n",
    "# select_one : find_element_by_css_selector\n",
    "# select : find_elements_by_css_selector\n",
    "driver.find_element_by_css_selector(\"#q\").send_keys(\"패스트 캠퍼스\")"
   ]
  },
  {
   "cell_type": "code",
   "execution_count": 11,
   "metadata": {},
   "outputs": [],
   "source": [
    "driver.find_element_by_css_selector(\"#q\").clear()\n",
    "driver.find_element_by_css_selector(\"#q\").send_keys(\"파이썬\")"
   ]
  },
  {
   "cell_type": "code",
   "execution_count": 12,
   "metadata": {},
   "outputs": [],
   "source": [
    "# button 클릭\n",
    "driver.find_element_by_css_selector(\".inner_search > .btn_search\").click()"
   ]
  },
  {
   "cell_type": "code",
   "execution_count": 13,
   "metadata": {},
   "outputs": [],
   "source": [
    "# 브라우져 종료\n",
    "driver.quit()"
   ]
  }
 ],
 "metadata": {
  "kernelspec": {
   "display_name": "Python 3",
   "language": "python",
   "name": "python3"
  },
  "language_info": {
   "codemirror_mode": {
    "name": "ipython",
    "version": 3
   },
   "file_extension": ".py",
   "mimetype": "text/x-python",
   "name": "python",
   "nbconvert_exporter": "python",
   "pygments_lexer": "ipython3",
   "version": "3.7.3"
  }
 },
 "nbformat": 4,
 "nbformat_minor": 2
}
