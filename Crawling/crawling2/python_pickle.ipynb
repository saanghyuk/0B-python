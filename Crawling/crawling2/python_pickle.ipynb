{
 "cells": [
  {
   "cell_type": "markdown",
   "metadata": {},
   "source": [
    "### Pickle\n",
    "- 객체를 파일로 저장할 때 직렬화라는 과정을 거쳐서 저장을 합니다.\n",
    "- 직렬화\n",
    "    - 객체(데이터타입), 저장되는 파일(데이터타입) 은 다릅니다.\n",
    "    - 서로 다른 데이터타입을 맞춰주는 과정을 직렬화라고 부른다.\n",
    "    - 즉 메모리에 있는 객체를 하드디스크에 저장하려면, 다른 파일 포맷으로 바꿔야함. 그 포맷을 맞춰주는 것을 직렬화 라고 한다. 그것을 해주는 것이 `pickle`\n",
    "- 파일을 읽고 저장하는데 속도가 더 빠릅니다. 즉, with open 이런식으로 저장하고 불러오는 것보다 pickle이 훨씬 빠르다. \n",
    "- AI객체 저장할 때 보통 pickle로 저장한다. 속도 때문"
   ]
  },
  {
   "cell_type": "code",
   "execution_count": 1,
   "metadata": {},
   "outputs": [],
   "source": [
    "import pickle"
   ]
  },
  {
   "cell_type": "code",
   "execution_count": 2,
   "metadata": {},
   "outputs": [],
   "source": [
    "class A:\n",
    "    \n",
    "    def __init__(self, data):\n",
    "        self.data = data\n",
    "        \n",
    "    def disp(self):\n",
    "        print(self.data)"
   ]
  },
  {
   "cell_type": "code",
   "execution_count": 4,
   "metadata": {
    "scrolled": true
   },
   "outputs": [
    {
     "name": "stdout",
     "output_type": "stream",
     "text": [
      "pickle test\n"
     ]
    }
   ],
   "source": [
    "obj = A(\"pickle test\")\n",
    "obj.disp()"
   ]
  },
  {
   "cell_type": "code",
   "execution_count": 5,
   "metadata": {},
   "outputs": [],
   "source": [
    "# 객체 저장하기\n",
    "with open(\"obj.pkl\", \"wb\") as f:\n",
    "    pickle.dump(obj, f)"
   ]
  },
  {
   "cell_type": "code",
   "execution_count": 6,
   "metadata": {},
   "outputs": [
    {
     "name": "stdout",
     "output_type": "stream",
     "text": [
      "obj.pkl\r\n"
     ]
    }
   ],
   "source": [
    "!ls | grep obj"
   ]
  },
  {
   "cell_type": "code",
   "execution_count": 7,
   "metadata": {},
   "outputs": [],
   "source": [
    "# 객체 불러오기\n",
    "with open(\"obj.pkl\", \"rb\") as f:\n",
    "    load_obj = pickle.load(f)"
   ]
  },
  {
   "cell_type": "code",
   "execution_count": 9,
   "metadata": {
    "scrolled": true
   },
   "outputs": [
    {
     "name": "stdout",
     "output_type": "stream",
     "text": [
      "pickle test\n"
     ]
    }
   ],
   "source": [
    "load_obj.disp()"
   ]
  },
  {
   "cell_type": "code",
   "execution_count": null,
   "metadata": {},
   "outputs": [],
   "source": []
  }
 ],
 "metadata": {
  "kernelspec": {
   "display_name": "Python 3",
   "language": "python",
   "name": "python3"
  },
  "language_info": {
   "codemirror_mode": {
    "name": "ipython",
    "version": 3
   },
   "file_extension": ".py",
   "mimetype": "text/x-python",
   "name": "python",
   "nbconvert_exporter": "python",
   "pygments_lexer": "ipython3",
   "version": "3.8.5"
  }
 },
 "nbformat": 4,
 "nbformat_minor": 2
}
