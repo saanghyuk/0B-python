{
 "cells": [
  {
   "cell_type": "markdown",
   "metadata": {},
   "source": [
    "#### 네이버 기사 제목 데이터 크롤링\n",
    "- selenium 을 이용한 텍스트 데이터 수집\n",
    "- thread 를 사용한 데이터 수집"
   ]
  },
  {
   "cell_type": "code",
   "execution_count": 1,
   "metadata": {},
   "outputs": [],
   "source": [
    "from selenium import webdriver"
   ]
  },
  {
   "cell_type": "code",
   "execution_count": 2,
   "metadata": {},
   "outputs": [],
   "source": [
    "page = 2\n",
    "url = \"https://news.naver.com/main/main.nhn?\\\n",
    "mode=LSD&mid=shm&sid1=105#&date=%2000:00:00&page={}\".format(page)"
   ]
  },
  {
   "cell_type": "code",
   "execution_count": 4,
   "metadata": {},
   "outputs": [],
   "source": [
    "driver = webdriver.Chrome()\n",
    "driver.get(url)"
   ]
  },
  {
   "cell_type": "code",
   "execution_count": 5,
   "metadata": {},
   "outputs": [
    {
     "data": {
      "text/plain": [
       "20"
      ]
     },
     "execution_count": 5,
     "metadata": {},
     "output_type": "execute_result"
    }
   ],
   "source": [
    "articles = driver.find_elements_by_css_selector(\"#section_body li\")\n",
    "len(articles)"
   ]
  },
  {
   "cell_type": "code",
   "execution_count": 6,
   "metadata": {},
   "outputs": [
    {
     "data": {
      "text/plain": [
       "'인텔 \"새로운 아키텍처 개발, 삼성전자와 협력\"'"
      ]
     },
     "execution_count": 6,
     "metadata": {},
     "output_type": "execute_result"
    }
   ],
   "source": [
    "articles[0].find_element_by_css_selector(\"dt:not(.photo) > a\").text"
   ]
  },
  {
   "cell_type": "code",
   "execution_count": 7,
   "metadata": {},
   "outputs": [],
   "source": [
    "article_list = []\n",
    "\n",
    "for article in articles:\n",
    "    title = article.find_element_by_css_selector(\"dt:not(.photo) > a\").text\n",
    "    article_list.append(title)"
   ]
  },
  {
   "cell_type": "code",
   "execution_count": 8,
   "metadata": {
    "scrolled": false
   },
   "outputs": [
    {
     "data": {
      "text/plain": [
       "['인텔 \"새로운 아키텍처 개발, 삼성전자와 협력\"',\n",
       " \"'수소 생산 효율 4배'…톱니 모양 백금 촉매 비밀 밝혀냈다\",\n",
       " \"삼성전자 '반도체' 자신감 믿어도 되나, 2분기 반등 낙관\",\n",
       " '삼성전자, 1분기 갤S21 조기투입 효과 ‘톡톡’…2분기는?',\n",
       " '‘미세먼지 노출’ 유색인종 > 백인…모든 지역·소득구간서 확인',\n",
       " \"신작 없고 수요 줄고…삼성전자 모바일, 2Q '먹구름'\",\n",
       " '바이오니아, 1분기 영업이익 181억원...흑자 전환',\n",
       " '달 밟는 대신 궤도 남아 아폴로11호 사령선 지킨 마이클 콜린스 별세',\n",
       " '갤럭시 업고 `4.4조 깜짝실적` 삼성전자 스마트폰, 2분기는 글쎄(종합)',\n",
       " '[IR종합]네이버 \"웹툰·메타버스·엔터 중심 글로벌 확장…매출비중 30% 달성\"',\n",
       " \"네이버, 쇼핑·웹툰 고성장에도 인건비 부담에 수익성 '주춤'(종합2보)\",\n",
       " '갤럭시S·A 다 잘 팔렸다…삼성 1분기 모바일 영업익 4조 넘어',\n",
       " '손상된 혈관 내벽 재생시킨다…KIST 부작용 치료하는 ‘스텐트’ 개발',\n",
       " '침묵의 살인자 ‘일산화탄소’…심장근육에 장기적 손상 입힌다',\n",
       " '쿠팡·한국항공우주산업 등 8곳, 공시대상 기업집단 신규 지정',\n",
       " '줄기세포 탑재가능한 신개념 스텐트 나온다',\n",
       " '[사이테크 플러스] \"체내삽입 의료기기 표면, 세포 물질로 코팅해 부작용 최소화\"',\n",
       " '\"일산화탄소 중독 환자 심장 손상, 저산소증 때문 아냐\"',\n",
       " '스텐트·임플란트 부작용 70% 줄이는 소재 개발',\n",
       " '염증·혈전 부작용 확 줄일 신소재 스텐트 나온다']"
      ]
     },
     "execution_count": 8,
     "metadata": {},
     "output_type": "execute_result"
    }
   ],
   "source": [
    "article_list"
   ]
  },
  {
   "cell_type": "code",
   "execution_count": 9,
   "metadata": {},
   "outputs": [],
   "source": [
    "driver.quit()"
   ]
  },
  {
   "cell_type": "code",
   "execution_count": 10,
   "metadata": {},
   "outputs": [],
   "source": [
    "# 함수로 만들기\n",
    "article_list = []\n",
    "\n",
    "def get_articles(page):\n",
    "    driver = webdriver.Chrome()\n",
    "    url = \"https://news.naver.com/main/main.nhn?\\\n",
    "mode=LSD&mid=shm&sid1=105#&date=%2000:00:00&page={}\".format(page)\n",
    "    driver.get(url)\n",
    "    articles = driver.find_elements_by_css_selector(\"#section_body li\")\n",
    "    for article in articles:\n",
    "        title = article.find_element_by_css_selector(\"dt:not(.photo) > a\").text\n",
    "        article_list.append(title)\n",
    "    print(\"crawling : {}\".format(page))\n",
    "    driver.quit()"
   ]
  },
  {
   "cell_type": "code",
   "execution_count": 11,
   "metadata": {},
   "outputs": [
    {
     "name": "stdout",
     "output_type": "stream",
     "text": [
      "crawling : 1\n",
      "crawling : 2\n",
      "crawling : 3\n",
      "crawling : 4\n",
      "Wall time: 19.2 s\n"
     ]
    }
   ],
   "source": [
    "%%time\n",
    "for page in range(1, 5):\n",
    "    get_articles(page)"
   ]
  },
  {
   "cell_type": "code",
   "execution_count": 13,
   "metadata": {},
   "outputs": [
    {
     "data": {
      "text/plain": [
       "80"
      ]
     },
     "execution_count": 13,
     "metadata": {},
     "output_type": "execute_result"
    }
   ],
   "source": [
    "len(article_list)"
   ]
  },
  {
   "cell_type": "code",
   "execution_count": 12,
   "metadata": {},
   "outputs": [
    {
     "data": {
      "text/plain": [
       "['美웹툰에 2000억 추가 투자한 네이버…“해외사업 성장 가속화”(종합)',\n",
       " '둘로 쪼갠 SK텔레콤…새 이름 ‘SKT-SKT스퀘어?’ [IT선빵!]']"
      ]
     },
     "execution_count": 12,
     "metadata": {},
     "output_type": "execute_result"
    }
   ],
   "source": [
    "article_list[:2]"
   ]
  },
  {
   "cell_type": "markdown",
   "metadata": {},
   "source": [
    "#### thread 사용"
   ]
  },
  {
   "cell_type": "code",
   "execution_count": 14,
   "metadata": {},
   "outputs": [],
   "source": [
    "import threading"
   ]
  },
  {
   "cell_type": "code",
   "execution_count": 15,
   "metadata": {},
   "outputs": [],
   "source": [
    "article_list = []\n",
    "\n",
    "for page in range(1, 5):\n",
    "    th = threading.Thread(target=get_articles, args=(page,))\n",
    "    th.start()"
   ]
  },
  {
   "cell_type": "code",
   "execution_count": 16,
   "metadata": {},
   "outputs": [
    {
     "name": "stdout",
     "output_type": "stream",
     "text": [
      "1 2 3 4 crawling : 2\n",
      "crawling : 3\n",
      "crawling : 4\n",
      "crawling : 1\n",
      "5 "
     ]
    }
   ],
   "source": [
    "import time\n",
    "sec = 0\n",
    "while len(article_list) < 80:\n",
    "    time.sleep(1)\n",
    "    sec += 1\n",
    "    print(sec, end=\" \")"
   ]
  },
  {
   "cell_type": "code",
   "execution_count": null,
   "metadata": {},
   "outputs": [],
   "source": []
  }
 ],
 "metadata": {
  "kernelspec": {
   "display_name": "Python 3",
   "language": "python",
   "name": "python3"
  },
  "language_info": {
   "codemirror_mode": {
    "name": "ipython",
    "version": 3
   },
   "file_extension": ".py",
   "mimetype": "text/x-python",
   "name": "python",
   "nbconvert_exporter": "python",
   "pygments_lexer": "ipython3",
   "version": "3.7.3"
  }
 },
 "nbformat": 4,
 "nbformat_minor": 2
}
