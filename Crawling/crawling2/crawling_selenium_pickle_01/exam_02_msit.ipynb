{
 "cells": [
  {
   "cell_type": "markdown",
   "metadata": {},
   "source": [
    "#### msit : 과학기술 정보통신부\n",
    "- https://msit.go.kr\n",
    "- 보도자료를 크롤링\n",
    "- json으로 데이터 수집\n",
    "- json 데이터 안에 html 코드가 들어있습니다."
   ]
  },
  {
   "cell_type": "code",
   "execution_count": 1,
   "metadata": {},
   "outputs": [],
   "source": [
    "import requests\n",
    "import pandas as pd\n",
    "from bs4 import BeautifulSoup"
   ]
  },
  {
   "cell_type": "code",
   "execution_count": 3,
   "metadata": {},
   "outputs": [],
   "source": [
    "page = 1\n",
    "url = \"https://www.msit.go.kr/dynamic/article/mssw311?\\\n",
    "&sort=operday=desc&below=false&pageout=true&aradon.result.format=json\\\n",
    "&aradon.page.pageNo={}&aradon.page.listNum=10&aradon.page.screenCount=5\\\n",
    "&aradon.referrer.href=https://msit.go.kr/web/msipContents/contents.do?mId=NzI=\"\\\n",
    ".format(page)"
   ]
  },
  {
   "cell_type": "code",
   "execution_count": 5,
   "metadata": {},
   "outputs": [
    {
     "data": {
      "text/plain": [
       "<Response [200]>"
      ]
     },
     "execution_count": 5,
     "metadata": {},
     "output_type": "execute_result"
    }
   ],
   "source": [
    "response = requests.get(url)\n",
    "response"
   ]
  },
  {
   "cell_type": "code",
   "execution_count": 7,
   "metadata": {},
   "outputs": [
    {
     "data": {
      "text/html": [
       "<div>\n",
       "<style scoped>\n",
       "    .dataframe tbody tr th:only-of-type {\n",
       "        vertical-align: middle;\n",
       "    }\n",
       "\n",
       "    .dataframe tbody tr th {\n",
       "        vertical-align: top;\n",
       "    }\n",
       "\n",
       "    .dataframe thead th {\n",
       "        text-align: right;\n",
       "    }\n",
       "</style>\n",
       "<table border=\"1\" class=\"dataframe\">\n",
       "  <thead>\n",
       "    <tr style=\"text-align: right;\">\n",
       "      <th></th>\n",
       "      <th>action</th>\n",
       "      <th>admin_p</th>\n",
       "      <th>artid</th>\n",
       "      <th>artsubject</th>\n",
       "      <th>artcont</th>\n",
       "    </tr>\n",
       "  </thead>\n",
       "  <tbody>\n",
       "    <tr>\n",
       "      <th>8</th>\n",
       "      <td>MOD</td>\n",
       "      <td>구주아프리카협력담당관</td>\n",
       "      <td>2296332</td>\n",
       "      <td>과기정통부, 스페인 산업연결 4.0 컨퍼런스 주빈국 참여</td>\n",
       "      <td>&lt;font size=\"3\"&gt;&lt;/font&gt;\\r\\n&lt;p align=\"center\" st...</td>\n",
       "    </tr>\n",
       "    <tr>\n",
       "      <th>9</th>\n",
       "      <td>INS</td>\n",
       "      <td>지역과학기술진흥과</td>\n",
       "      <td>2295930</td>\n",
       "      <td>’20년 상반기 강소특구 지정을 위한 심사 개시</td>\n",
       "      <td>&lt;p align=\"center\" style=\"margin: 0px; text-ali...</td>\n",
       "    </tr>\n",
       "  </tbody>\n",
       "</table>\n",
       "</div>"
      ],
      "text/plain": [
       "  action      admin_p    artid                       artsubject  \\\n",
       "8    MOD  구주아프리카협력담당관  2296332  과기정통부, 스페인 산업연결 4.0 컨퍼런스 주빈국 참여   \n",
       "9    INS    지역과학기술진흥과  2295930       ’20년 상반기 강소특구 지정을 위한 심사 개시   \n",
       "\n",
       "                                             artcont  \n",
       "8  <font size=\"3\"></font>\\r\\n<p align=\"center\" st...  \n",
       "9  <p align=\"center\" style=\"margin: 0px; text-ali...  "
      ]
     },
     "execution_count": 7,
     "metadata": {},
     "output_type": "execute_result"
    }
   ],
   "source": [
    "datas = response.json()[\"result\"][\"nodes\"]\n",
    "columns = [\"action\", \"admin_p\", \"artid\", \"artsubject\", \"artcont\"]\n",
    "msit_df = pd.DataFrame(datas)[columns]\n",
    "msit_df.tail(2)"
   ]
  },
  {
   "cell_type": "code",
   "execution_count": 8,
   "metadata": {
    "collapsed": true
   },
   "outputs": [
    {
     "data": {
      "text/plain": [
       "'<p align=\"center\" style=\"margin: 0px; text-align: center; line-height: 150%; vertical-align: baseline; -ms-layout-grid-mode: char; -ms-word-break: keep-all;\"><span style=\"color: black; line-height: 150%; font-family: 맑은 고딕; font-size: 20pt;\">소형 원자로 개발\\r\\n주도국 한자리에 모여 미래 신시장 창출 의지 다져</span></p>\\r\\n<p align=\"center\" style=\"margin: 0px; text-align: center; line-height: 150%; vertical-align: baseline; -ms-layout-grid-mode: char; -ms-word-break: keep-all;\"><span style=\"color: black; line-height: 150%; font-family: 맑은 고딕; font-size: 16pt;\">- </span><span style=\"color: black; line-height: 150%; font-family: 맑은 고딕; font-size: 16pt;\">문미옥 제1차관, 국제원자력협력체제(IFNEC) 집행위원회 및 백악관 초정 국제장관급 컨퍼런스 참석, </span></p>\\r\\n<p align=\"center\" style=\"margin: 0px; text-align: center; line-height: 150%; vertical-align: baseline; -ms-layout-grid-mode: char; -ms-word-break: keep-all;\"><span style=\"color: black; line-height: 150%; font-family: 맑은 고딕; font-size: 16pt;\">한국형 소형원전 &lsquo;스마트&rsquo;의\\r\\n우수성 및 수출지원 강조 -</span></p>\\r\\n<p style=\"margin: 0px; line-height: 115%; -ms-word-break: keep-all;\"><span style=\"font-family: 맑은 고딕;\">&nbsp;</span></p>\\r\\n<p style=\"margin: 0px; line-height: 115%; vertical-align: baseline; -ms-layout-grid-mode: char; -ms-word-break: keep-all;\"><span style=\"color: black; line-height: 115%; font-family: 맑은 고딕; font-size: 12pt;\">□ <b>과학기술정보통신부</b></span><span style=\"color: black; line-height: 115%; font-family: 맑은 고딕; font-size: 11pt;\">(</span><span style=\"color: black; line-height: 115%; font-family: 맑은 고딕; font-size: 11pt;\">장관 최기영, 이하 &lsquo;과기정통부&rsquo;)</span><span style=\"color: black; line-height: 115%; font-family: 맑은 고딕; font-size: 12pt;\"> </span><span style=\"color: black; line-height: 115%; font-family: 맑은 고딕; font-size: 12pt;\">문미옥 제1차관은 11월 13일부터\\r\\n이틀간 미국 워싱턴DC에서 개최되는 <b>제13차 국제원자력협력체제</b></span><b><span style=\"color: black; line-height: 115%; font-family: 맑은 고딕; font-size: 11pt;\">(IFNEC)</span></b><b><span style=\"color: black; line-height: 115%; font-family: 맑은 고딕; font-size: 12pt;\"> </span></b><b><span style=\"color: black; line-height: 115%; font-family: 맑은 고딕; font-size: 12pt;\">집행위원회와 국제 장관급 컨퍼런스에 </span></b><span style=\"color: black; line-height: 115%; font-family: 맑은 고딕; font-size: 12pt;\">참석하여 한국형 소형원전인 <b>&lsquo;스마트&rsquo; 수출</b>을 위한 <b>정부의 적극적인 의지</b>를 밝혔다.</span></p>\\r\\n<p style=\"margin: 0px; line-height: 115%; vertical-align: baseline; -ms-layout-grid-mode: char; -ms-word-break: keep-all;\"><span style=\"color: black; line-height: 115%; font-family: 맑은 고딕; font-size: 10pt;\">&nbsp;</span></p>\\r\\n<p style=\"margin: 0px; line-height: 115%; vertical-align: baseline; -ms-layout-grid-mode: char; -ms-word-break: keep-all;\"><span style=\"color: black; line-height: 115%; font-family: 맑은 고딕; font-size: 2pt;\">&nbsp;</span></p>\\r\\n<table style=\"border-collapse: collapse;\" border=\"0\" cellspacing=\"0\" cellpadding=\"0\"> \\r\\n<tbody>\\r\\n<tr style=\"height: 46px;\"> \\r\\n<td style=\"padding: 1px 6px; border: 1px dotted black; border-image: none; width: 619px; height: 46px; background-color: transparent;\"> \\r\\n<p style=\"margin: 0px; line-height: 115%; vertical-align: baseline; -ms-layout-grid-mode: char; -ms-word-break: keep-all;\"><span style=\"color: black; line-height: 115%; font-family: MS Gothic; font-size: 11pt;\">‣</span><b><span style=\"color: black; line-height: 115%; font-family: 맑은 고딕; font-size: 11pt;\">IFNEC(I</span></b><span style=\"color: black; line-height: 115%; font-family: 맑은 고딕; font-size: 11pt;\">nternational <b>F</b>ramework for <b>N</b>uclear <b>E</b>nergy <b>C</b>ooperation):</span></p> \\r\\n<p style=\"margin: 0px; line-height: 115%; vertical-align: baseline; -ms-layout-grid-mode: char; -ms-word-break: keep-all;\"><span style=\"color: black; line-height: 115%; font-family: 맑은 고딕; font-size: 11pt;\">&rsquo;06년 미국주도로 출범한 다자간 국제원자력협력체(회원국 32개국, 참관국 31개국, IAEA, OECD/NEA 등 국제기구 대표)</span></p> \\r\\n<p style=\"margin: 0px; line-height: 115%; vertical-align: baseline; -ms-layout-grid-mode: char; -ms-word-break: keep-all;\"><span style=\"color: black; line-height: 115%; font-family: MS Gothic; font-size: 11pt;\">‣</span><b><span style=\"color: black; line-height: 115%; font-family: 맑은 고딕; font-size: 11pt;\">SMART</span></b><span style=\"color: black; line-height: 115%; font-family: 맑은 고딕; font-size: 11pt;\">(<b><u style=\"text-underline: black;\">S</u></b>ystem-Integrated <b><u style=\"text-underline: black;\">M</u></b>odular <b><u style=\"text-underline: black;\">A</u></b>dvanced <b><u style=\"text-underline: black;\">R</u></b>eac<b>T</b>or, </span><span style=\"color: black; line-height: 115%; font-family: 맑은 고딕; font-size: 11pt;\">다목적 일체형소형원자로) : 1997년부터\\r\\n  원자력연구원 등 국내 연구기관과 산업체가 협력을 통해 개발하여 2012년 표준설계인가를 받은 소형원자로</span></p> </td> \\r\\n</tr>\\r\\n</tbody>\\r\\n</table>\\r\\n<p style=\"margin: 0px; line-height: 115%; vertical-align: baseline; -ms-layout-grid-mode: char; -ms-word-break: keep-all;\"><span style=\"color: black; line-height: 115%; font-family: 맑은 고딕; font-size: 12pt;\">&nbsp;</span></p>\\r\\n<p style=\"margin: 0px; line-height: 115%; vertical-align: baseline; -ms-layout-grid-mode: char; -ms-word-break: keep-all;\"><span style=\"color: black; line-height: 115%; font-family: 맑은 고딕; font-size: 12pt;\">ㅇ 국제원자력협력체제</span><span style=\"color: black; line-height: 115%; font-family: 맑은 고딕; font-size: 11pt;\">(IFNEC) </span><span style=\"color: black; line-height: 115%; font-family: 맑은 고딕; font-size: 12pt;\">집행위원회는 회원국들의 <b>장관급</b>으로 구성된 <b>원자력 고위급 협의체</b>로서, 이번 회의에는 <b>의장국인</b> <b>미국</b></span><b><span style=\"color: black; line-height: 115%; font-family: 맑은 고딕; font-size: 11pt;\">(</span></b><b><span style=\"color: black; line-height: 115%; font-family: 맑은 고딕; font-size: 11pt;\">수석대표: 에너지부 장관)</span></b><b><span style=\"color: black; line-height: 115%; font-family: 맑은 고딕; font-size: 12pt;\">을 포함</span></b><span style=\"color: black; line-height: 115%; font-family: 맑은 고딕; font-size: 12pt;\">하여, 중국, 러시아, 프랑스 등 <b>18개국\\r\\n정부대표</b>와 <b>국제원자력기구</b></span><span style=\"color: black; line-height: 115%; font-family: 맑은 고딕; font-size: 11pt;\">(IAEA)</span><span style=\"color: black; line-height: 115%; font-family: 맑은 고딕; font-size: 12pt;\">, </span><b><span style=\"color: black; line-height: 115%; font-family: 맑은 고딕; font-size: 12pt;\">제4세대\\r\\n원자력시스템 국제포럼</span></b><span style=\"color: black; line-height: 115%; font-family: 맑은 고딕; font-size: 11pt;\">(GIF)</span><span style=\"color: black; line-height: 115%; font-family: 맑은 고딕; font-size: 12pt;\">, </span><b><span style=\"color: black; line-height: 115%; font-family: 맑은 고딕; font-size: 12pt;\">경제협력개발기구 산하 원자력기구</span></b><span style=\"color: black; line-height: 115%; font-family: 맑은 고딕; font-size: 11pt;\">(OECD/NEA) </span><span style=\"color: black; line-height: 115%; font-family: 맑은 고딕; font-size: 12pt;\">등 국제기구 고위급 인사가 참석하였다.</span></p>\\r\\n<p style=\"margin: 0px; line-height: 115%; vertical-align: baseline; -ms-layout-grid-mode: char; -ms-word-break: keep-all;\"><span style=\"color: black; line-height: 115%; font-family: 맑은 고딕; font-size: 12pt;\">&nbsp;</span></p>\\r\\n<p style=\"margin: 0px; line-height: 115%; vertical-align: baseline; -ms-layout-grid-mode: char; -ms-word-break: keep-all;\"><span style=\"color: black; line-height: 115%; font-family: 맑은 고딕; font-size: 12pt;\">□ 국제원자력협력체제</span><span style=\"color: black; line-height: 115%; font-family: 맑은 고딕; font-size: 11pt;\">(IFNEC)</span><span style=\"color: black; line-height: 115%; font-family: 맑은 고딕; font-size: 12pt;\">는 <b>원자력 선진국</b>과 <b>잠재적 도입국 간 원자력의 평화이용 방안과 상호이익</b>을 모색해온\\r\\n국제원자력협의체로,</span></p>\\r\\n<p style=\"margin: 0px; line-height: 115%; vertical-align: baseline; -ms-layout-grid-mode: char; -ms-word-break: keep-all;\"><span style=\"color: black; line-height: 115%; font-family: 맑은 고딕; font-size: 8pt;\">&nbsp;</span></p>\\r\\n<p style=\"margin: 0px; line-height: 115%; vertical-align: baseline; -ms-layout-grid-mode: char; -ms-word-break: keep-all;\"><span style=\"color: black; line-height: 115%; font-family: 맑은 고딕; font-size: 12pt;\">ㅇ 원자력의 안전한 이용을 위해 <b>인프라\\r\\n개발 지원</b>, <b>다자간</b> <b>핵연료 주기 서비스 제공</b>, <b>원전</b> <b>공급국과 도입국 간 연계 방안</b> 등 다자간 국제협력이 요구되는 정책을 중점적으로\\r\\n논의하여 왔다.</span></p>\\r\\n<p style=\"margin: 0px; line-height: 115%; vertical-align: baseline; -ms-layout-grid-mode: char; -ms-word-break: keep-all;\"><span style=\"color: black; line-height: 115%; font-family: 맑은 고딕; font-size: 8pt;\">&nbsp;</span></p>\\r\\n<p style=\"margin: 0px; line-height: 115%; vertical-align: baseline; -ms-layout-grid-mode: char; -ms-word-break: keep-all;\"><span style=\"color: black; line-height: 115%; font-family: 맑은 고딕; font-size: 12pt;\">ㅇ 특히,\\r\\n이번 회의에서는 국제적인 에너지 환경변화에 따른 <b>원자력의 역할</b>과 최근 <b>안전성과 다양한 활용성</b> 등의 장점으로<b>미래 시장으로 주목</b>받고 있는 <b>소형원자로의 개발 및 배치</b>를 위한 <b>국제협력 방안</b>을 집중적으로 논의하였다.</span></p>\\r\\n<p style=\"margin: 0px; line-height: 115%; vertical-align: baseline; -ms-layout-grid-mode: char; -ms-word-break: keep-all;\"><span style=\"color: black; line-height: 115%; font-family: 맑은 고딕; font-size: 12pt;\">&nbsp;</span></p>\\r\\n<p style=\"margin: 0px; line-height: 115%; vertical-align: baseline; -ms-layout-grid-mode: char; -ms-word-break: keep-all;\"><span style=\"color: black; line-height: 115%; font-family: 맑은 고딕; font-size: 12pt;\">□ 과기정통부 문미옥 제1차관은 기조발언을 통해 한국의 <b>원자력 안전강화 노력</b>과 <b>원자력 활동을 소개</b>하고, <b>방사선, 중소형 원전</b> 등 <b>미래 시장 창출</b>이\\r\\n가능한 분야의 <b>연구개발 강화 의지를 표명</b>하였다.</span></p>\\r\\n<p style=\"margin: 0px; line-height: 115%; vertical-align: baseline; -ms-layout-grid-mode: char; -ms-word-break: keep-all;\"><span style=\"color: black; line-height: 115%; font-family: 맑은 고딕; font-size: 12pt;\">&nbsp;</span></p>\\r\\n<p style=\"margin: 0px; line-height: 115%; vertical-align: baseline; -ms-layout-grid-mode: char; -ms-word-break: keep-all;\"><span style=\"color: black; line-height: 115%; font-family: 맑은 고딕; font-size: 12pt;\">□ 집행위원회에 이어 <b>미국 백악관과\\r\\n에너지부</b>가 공동으로 주관하여 개최된 <b>국제 장관급 컨퍼런스</b>에서는<b> &lsquo;소형원자로와\\r\\n선진원자력 개발</b></span><b><span style=\"color: black; line-height: 115%; font-family: 맑은 고딕; font-size: 11pt;\">&rsquo;</span></b><span style=\"color: black; line-height: 115%; font-family: 맑은 고딕; font-size: 12pt;\">을 주제로 주요 선진국의 <b>소형원자로 개발 현황과 시장 전망</b> 등이\\r\\n논의 되었다.</span></p>\\r\\n<p style=\"margin: 0px; line-height: 115%; vertical-align: baseline; -ms-layout-grid-mode: char; -ms-word-break: keep-all;\"><span style=\"color: black; line-height: 115%; font-family: 맑은 고딕; font-size: 8pt;\">&nbsp;</span></p>\\r\\n<p style=\"margin: 0px; line-height: 115%; vertical-align: baseline; -ms-layout-grid-mode: char; -ms-word-break: keep-all;\"><span style=\"color: black; line-height: 115%; font-family: 맑은 고딕; font-size: 12pt;\">ㅇ 우리나라는 <b>한국과 사우디 간 스마트\\r\\n협력 경과를 소개</b>하면서, <b>미래 소형원자로 시장의 선두주자</b>로서 <b>스마트</b><b>상용화의 성공적인 추진</b>을 통한 <b>해외</b> <b>수출시장 진출 의지를 강조</b>하였다.</span></p>\\r\\n<p style=\"margin: 0px; line-height: 115%; vertical-align: baseline; -ms-layout-grid-mode: char; -ms-word-break: keep-all;\"><span style=\"color: black; line-height: 115%; font-family: 맑은 고딕; font-size: 4pt;\">&nbsp;</span></p>\\r\\n<p style=\"margin: 0px; line-height: 115%; vertical-align: baseline; -ms-layout-grid-mode: char; -ms-word-break: keep-all;\"><span style=\"color: black; line-height: 115%; font-family: 맑은 고딕; font-size: 12pt;\">- </span><span style=\"color: black; line-height: 115%; font-family: 맑은 고딕; font-size: 12pt;\">이어 <b>미국, 러시아, 캐나다&middot;영국</b></span><b><span style=\"color: black; line-height: 115%; font-family: 맑은 고딕; font-size: 11pt;\">(</span></b><b><span style=\"color: black; line-height: 115%; font-family: 맑은 고딕; font-size: 11pt;\">공동)</span></b><b><span style=\"color: black; line-height: 115%; font-family: 맑은 고딕; font-size: 12pt;\">의 소형원자로 개발 현황</span></b><span style=\"color: black; line-height: 115%; font-family: 맑은 고딕; font-size: 12pt;\">이 소개되고, 이후 <b>재원조달, 규제혁신</b> 등 미래 시장 정착을 위한\\r\\n논의가 활발히 진행되었다.</span></p>\\r\\n<p style=\"margin: 0px; line-height: 115%; vertical-align: baseline; -ms-layout-grid-mode: char; -ms-word-break: keep-all;\"><span style=\"color: black; line-height: 115%; font-family: 맑은 고딕; font-size: 8pt;\">&nbsp;</span></p>\\r\\n<p style=\"margin: 0px; line-height: 115%; vertical-align: baseline; -ms-layout-grid-mode: char; -ms-word-break: keep-all;\"><span style=\"color: black; line-height: 115%; font-family: 맑은 고딕; font-size: 12pt;\">ㅇ 특히 미국은 <b>한국</b>을 포함한\\r\\n주요국과 <b>국제원자력기구</b></span><span style=\"color: black; line-height: 115%; font-family: 맑은 고딕; font-size: 11pt;\">(IAEA)</span><span style=\"color: black; line-height: 115%; font-family: 맑은 고딕; font-size: 12pt;\">, </span><b><span style=\"color: black; line-height: 115%; font-family: 맑은 고딕; font-size: 12pt;\">경제협력개발기구 산하 원자력기구</span></b><span style=\"color: black; line-height: 115%; font-family: 맑은 고딕; font-size: 11pt;\">(OECD/NEA)</span><span style=\"color: black; line-height: 115%; font-family: 맑은 고딕; font-size: 12pt;\"> </span><span style=\"color: black; line-height: 115%; font-family: 맑은 고딕; font-size: 12pt;\">등 <b>국제기구 대표</b>를 <b>백악관에 초청</b>하여 <b>2030년 소형원자로 배치</b>를 위한 정책 토론을 진행하는 등 미국의 <b>선진원자력</b>에 대한<b> 관심과\\r\\n개발 의지</b>를 나타냈다.</span></p>\\r\\n<p style=\"margin: 0px; line-height: 115%; vertical-align: baseline; -ms-layout-grid-mode: char; -ms-word-break: keep-all;\"><span style=\"color: black; line-height: 115%; font-family: 맑은 고딕; font-size: 12pt;\">&nbsp;</span></p>\\r\\n<p style=\"margin: 0px; line-height: 115%; vertical-align: baseline; -ms-layout-grid-mode: char; -ms-word-break: keep-all;\"><span style=\"color: black; line-height: 115%; font-family: 맑은 고딕; font-size: 12pt;\">□ 과기정통부 문미옥 제1차관은 이번 회의를 통해 &ldquo;주요 선진국들은 안전성이 혁신적으로 강화된<b>소형원자로의 미래 가치에 </b>주목하며 <b>소형원자로 개발&middot;상용화</b> 추진을 위한 <b>확고한\\r\\n의지를 확인</b>했다.&rdquo;라면서,</span></p>\\r\\n<p style=\"margin: 0px; line-height: 115%; vertical-align: baseline; -ms-layout-grid-mode: char; -ms-word-break: keep-all;\"><span style=\"color: black; line-height: 115%; font-family: 맑은 고딕; font-size: 8pt;\">&nbsp;</span></p>\\r\\n<p style=\"margin: 0px; line-height: 115%; vertical-align: baseline; -ms-layout-grid-mode: char; -ms-word-break: keep-all;\"><span style=\"color: black; line-height: 115%; font-family: 맑은 고딕; font-size: 12pt;\">ㅇ &ldquo;앞으로<b>사우디와 공동으로 스마트 최초 호기 건설을 통해 상용화를 </b>추진하는<b> </b>한편 <b>지속적인 기술 개발</b>을<b> </b>통해<b>미래 글로벌 소형원전 시장</b>에서도<b> 강자가 될 수 있도록 적극 대응</b>하겠다.&rdquo;라고\\r\\n말했다.</span></p>\\r\\n<p style=\"margin: 0px; line-height: 115%; vertical-align: baseline; -ms-layout-grid-mode: char; -ms-word-break: keep-all;\"><span style=\"color: black; line-height: 115%; font-family: 맑은 고딕; font-size: 12pt;\">&nbsp;</span></p>\\r\\n<p style=\"margin: 0px; line-height: 115%; vertical-align: baseline; -ms-layout-grid-mode: char; -ms-word-break: keep-all;\"><span style=\"color: black; line-height: 115%; font-family: 맑은 고딕; font-size: 12pt;\">□ 한편,\\r\\n이번 회의 참석 계기에 문미옥 제1차관은 <b>요르단 원자력위원장</b>과 <b>케냐 원자력위원장</b>과의\\r\\n면담을 통해 <b>스마트와 연구로 </b>등 우리나라의 <b>우수한 원자력 기술수출 활동</b>을 활발히 전개하였다.</span></p>\\r\\n<p style=\"margin: 0px; line-height: 115%; -ms-word-break: keep-all;\"><span style=\"font-family: 맑은 고딕;\">&nbsp;</span></p>'"
      ]
     },
     "execution_count": 8,
     "metadata": {},
     "output_type": "execute_result"
    }
   ],
   "source": [
    "msit_df[\"artcont\"][0]"
   ]
  },
  {
   "cell_type": "code",
   "execution_count": 14,
   "metadata": {},
   "outputs": [],
   "source": [
    "def html_to_text(html):\n",
    "    remove_words = [\"\\n\", \"\\xa0\", \"□\", \"\\r\"]\n",
    "    content = BeautifulSoup(html, \"html.parser\").text\n",
    "    for remove_word in remove_words:\n",
    "        content = content.replace(remove_word, \"\")\n",
    "    return content"
   ]
  },
  {
   "cell_type": "code",
   "execution_count": 15,
   "metadata": {},
   "outputs": [
    {
     "data": {
      "text/plain": [
       "'과학기술정보통신부 인사 국장급 전보▲ 인공지능기반정책관 강 도 현(姜度賢, 소프트웨어정책관)▲ 정보통신산업정책관 이 승 원(李承源, 전남지방우정청장)▲ 정보보호네트워크정책관 박 윤'"
      ]
     },
     "execution_count": 15,
     "metadata": {},
     "output_type": "execute_result"
    }
   ],
   "source": [
    "content = html_to_text(msit_df[\"artcont\"][1])\n",
    "content[:100]"
   ]
  },
  {
   "cell_type": "code",
   "execution_count": 18,
   "metadata": {},
   "outputs": [
    {
     "data": {
      "text/html": [
       "<div>\n",
       "<style scoped>\n",
       "    .dataframe tbody tr th:only-of-type {\n",
       "        vertical-align: middle;\n",
       "    }\n",
       "\n",
       "    .dataframe tbody tr th {\n",
       "        vertical-align: top;\n",
       "    }\n",
       "\n",
       "    .dataframe thead th {\n",
       "        text-align: right;\n",
       "    }\n",
       "</style>\n",
       "<table border=\"1\" class=\"dataframe\">\n",
       "  <thead>\n",
       "    <tr style=\"text-align: right;\">\n",
       "      <th></th>\n",
       "      <th>action</th>\n",
       "      <th>admin_p</th>\n",
       "      <th>artid</th>\n",
       "      <th>artsubject</th>\n",
       "      <th>artcont</th>\n",
       "    </tr>\n",
       "  </thead>\n",
       "  <tbody>\n",
       "    <tr>\n",
       "      <th>8</th>\n",
       "      <td>MOD</td>\n",
       "      <td>구주아프리카협력담당관</td>\n",
       "      <td>2296332</td>\n",
       "      <td>과기정통부, 스페인 산업연결 4.0 컨퍼런스 주빈국 참여</td>\n",
       "      <td>산업의 디지털 변혁, 한-스페인 협력강화- 과기정통부, 스페인 “산업연결 4.0 컨...</td>\n",
       "    </tr>\n",
       "    <tr>\n",
       "      <th>9</th>\n",
       "      <td>INS</td>\n",
       "      <td>지역과학기술진흥과</td>\n",
       "      <td>2295930</td>\n",
       "      <td>’20년 상반기 강소특구 지정을 위한 심사 개시</td>\n",
       "      <td>’20년 상반기 강소특구지정을 위한 심사 개시- 7개 시·도에서 강소특구 지정 요청...</td>\n",
       "    </tr>\n",
       "  </tbody>\n",
       "</table>\n",
       "</div>"
      ],
      "text/plain": [
       "  action      admin_p    artid                       artsubject  \\\n",
       "8    MOD  구주아프리카협력담당관  2296332  과기정통부, 스페인 산업연결 4.0 컨퍼런스 주빈국 참여   \n",
       "9    INS    지역과학기술진흥과  2295930       ’20년 상반기 강소특구 지정을 위한 심사 개시   \n",
       "\n",
       "                                             artcont  \n",
       "8  산업의 디지털 변혁, 한-스페인 협력강화- 과기정통부, 스페인 “산업연결 4.0 컨...  \n",
       "9  ’20년 상반기 강소특구지정을 위한 심사 개시- 7개 시·도에서 강소특구 지정 요청...  "
      ]
     },
     "execution_count": 18,
     "metadata": {},
     "output_type": "execute_result"
    }
   ],
   "source": [
    "msit_df[\"artcont\"] = msit_df[\"artcont\"].apply(html_to_text)\n",
    "msit_df.tail(2)"
   ]
  }
 ],
 "metadata": {
  "kernelspec": {
   "display_name": "Python 3",
   "language": "python",
   "name": "python3"
  },
  "language_info": {
   "codemirror_mode": {
    "name": "ipython",
    "version": 3
   },
   "file_extension": ".py",
   "mimetype": "text/x-python",
   "name": "python",
   "nbconvert_exporter": "python",
   "pygments_lexer": "ipython3",
   "version": "3.7.3"
  }
 },
 "nbformat": 4,
 "nbformat_minor": 2
}
